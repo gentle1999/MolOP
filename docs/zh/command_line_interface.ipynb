{
 "cells": [
  {
   "cell_type": "markdown",
   "metadata": {},
   "source": [
    "# 命令行接口\n",
    "\n",
    "MolOP 还提供了一个简单的命令行接口，用于基本信息提取和格式转换。值得注意的是，得益于[fire library](https://github.com/google/python-fire)提供的链式函数调用，MolOP CLI 的各种命令可以协同使用。"
   ]
  },
  {
   "cell_type": "markdown",
   "metadata": {},
   "source": [
    "使用 molop 读取文件并提取信息的复杂示例。该脚本完成了 5 项任务：\n",
    "\n",
    "1. 读取特定文件并提取最后一帧的信息。\n",
    "2. 将结构转换为 GJF 格式。\n",
    "3. 保存文件的摘要数据表。\n",
    "4. 将结构转换为 cdxml 格式。\n",
    "5. 打印出结构的smiles字符串。"
   ]
  },
  {
   "cell_type": "code",
   "execution_count": 2,
   "metadata": {},
   "outputs": [
    {
     "name": "stdout",
     "output_type": "stream",
     "text": [
      "MolOP parsing with 32 jobs: 100%|███████████████| 39/39 [00:01<00:00, 20.70it/s]\n",
      "0 files failed to parse, 39 successfully parsed\n",
      "gjf files saved to /home/cathayana/py_project/HONG/MolOP/tests/test_files/temp\n",
      "summary csv saved to /home/cathayana/py_project/HONG/MolOP/tests/test_files/temp/summary.csv\n",
      "chemdraw files saved to /home/cathayana/py_project/HONG/MolOP/tests/test_files/temp\n",
      "C=C[C@H]1[C@@H]2[C@H](C[C@@]1(C)O)OC[C@@H]2C\n",
      "CCC[C@H]1CO[C@H]2C[C@@](C)(O)C[C@@H]12\n",
      "CC(C)(C)[C@@H]1COC(=[C-]C2[N-][C@H](C(C)(C)C)CO2)[N-]1.C[CH-]C(=O)[N-]c1ccccc1.[Cu@TB7+5].[O-]c1ccccc1\n",
      "[Br-].[Br-].[Ni@OH26+3]c1ccccc1.[S-]Cc1ccccc1.c1c[nH]cn1.c1c[nH]cn1\n",
      "CNC(=O)C#[N+]/C(C(C)=O)=C(/C)[O-].COC(=O)C#CC(F)(F)F\n",
      "CNC(=O)C#[N+]/C(C(C)=O)=C(/C)[O-].COC(=O)C#CC(F)(F)F\n",
      "C=[N+](C)[N-]C.COC(=O)[C@@]1(OC)C#CC(Br)(Br)CCCC1\n",
      "CNC(=O)C#[N+]/C(C(C)=O)=C(\\C)[O-].COC(=O)C#CC(F)(F)F\n",
      "[CH3-]\n",
      "[C-]#CCC#C\n",
      "CC/C(C)=N/[O-]\n",
      "[C+]#CC#CC#C\n",
      "[C+]1=C[C@H]2O[C@H]2C1\n",
      "C1[C@@H]2[C]3CN2[C@@H]13\n",
      "[H]/N=c1/[cH-]onn1\n",
      "O=C1C=C=NC=[NH+]1\n",
      "Oc1nc[c]cn1\n",
      "Oc1n[c-]ncn1\n",
      "N/C=N/C=C(/[O-])O\n",
      "COC1=NCC[N-]1\n",
      "O=CN[CH][C@H]1CO1\n",
      "N#N.O=C=CC=O\n",
      "C[NH2+]C/C(C[O-])=N/[O-]\n",
      "Cc1[nH]c([O-])nc1O\n",
      "Nc1[nH]c([O-])nc1O\n",
      "O=CC1=C[N]C(O)=N1\n",
      "C#Cc1nc(O)[c]o1\n",
      "NC1(N)OCC(=O)O1\n",
      "N#C[C-](C#N)/[NH+]=C/N\n",
      "N[CH-]NC1=NC(=[OH+])N=N1\n",
      "[O-]c1onc2c1CNC2\n",
      "[O-]c1onc2c1C[NH2+]C2\n",
      "CN1[C+]=CC([N+](=O)[O-])=C1\n",
      "[NH2+]=c1[nH]ccc(F)c1[O-]\n",
      "[C-]#C[C@@H]1N2C#[N+]C[C@]12C\n",
      "C[C@H]1C2C[C-]=C3C=[N+]1[C@@H]32\n",
      "C[C@@H]1[C@H](C)C2=C(CC2)[C@@H]1C\n",
      "C/C([O-])=N/[N+]#N\n",
      "CN/C([O-])=N/[O+]=N\\c1ccccc1\n"
     ]
    }
   ],
   "source": [
    "! molop read \"../../tests/test_files/g16log/*.log\" --only_last_frame - gjf \"../../tests/test_files/temp\" --template=\"../../tests/test_files/g16gjf/test.gjf\" - summary \"../../tests/test_files/temp\" - chemdraw \"../../tests/test_files/temp\" - smiles - end"
   ]
  },
  {
   "cell_type": "markdown",
   "metadata": {},
   "source": [
    "当然，您也可以使用 MolOP CLI 分别执行不同的任务。您可以使用以下命令："
   ]
  },
  {
   "cell_type": "code",
   "execution_count": 3,
   "metadata": {},
   "outputs": [
    {
     "name": "stdout",
     "output_type": "stream",
     "text": [
      "\u001b[1mNAME\u001b[0m\n",
      "    molop - CLI for MolOP.\n",
      "\n",
      "\u001b[1mSYNOPSIS\u001b[0m\n",
      "    molop \u001b[4mCOMMAND\u001b[0m\n",
      "\n",
      "\u001b[1mDESCRIPTION\u001b[0m\n",
      "    CLI for MolOP.\n",
      "\n",
      "\u001b[1mCOMMANDS\u001b[0m\n",
      "    \u001b[1m\u001b[4mCOMMAND\u001b[0m\u001b[0m is one of the following:\n",
      "\n",
      "     auto\n",
      "       Auto process the current directory.\n",
      "\n",
      "     chemdraw\n",
      "       Save the cdxml file of specified frames of each file.\n",
      "\n",
      "     end\n",
      "       End the command chain, stop printing help comments.\n",
      "\n",
      "     gjf\n",
      "       Save the GJF file of any frame of each file.\n",
      "\n",
      "     read\n",
      "       Read the files given and set the file batch object.\n",
      "\n",
      "     sdf\n",
      "       Save the SDF file of all frames of each file.\n",
      "\n",
      "     smiles\n",
      "       Print the SMILES of last frame of each files.\n",
      "\n",
      "     summary\n",
      "       Save the summary csv file.\n",
      "\n",
      "     xyz\n",
      "       Save the XYZ file of all frames of each file.\n"
     ]
    }
   ],
   "source": [
    "! molop"
   ]
  },
  {
   "cell_type": "markdown",
   "metadata": {},
   "source": [
    "请注意，`read` 命令是一条必须执行的命令，您可以在它之后通过函数调用链继续执行其他命令。任何两条命令都需要用 `-` 符号分隔，并以 `end` 命令结束。例如："
   ]
  },
  {
   "cell_type": "code",
   "execution_count": 4,
   "metadata": {},
   "outputs": [
    {
     "name": "stdout",
     "output_type": "stream",
     "text": [
      "MolOP parsing with 32 jobs: 100%|███████████████| 39/39 [00:01<00:00, 23.60it/s]\n",
      "0 files failed to parse, 39 successfully parsed\n",
      "C=C[C@H]1[C@@H]2[C@H](C[C@@]1(C)O)OC[C@@H]2C\n",
      "CCC[C@H]1CO[C@H]2C[C@@](C)(O)C[C@@H]12\n",
      "CC(C)(C)[C@@H]1COC(=[C-]C2[N-][C@H](C(C)(C)C)CO2)[N-]1.C[CH-]C(=O)[N-]c1ccccc1.[Cu@TB7+5].[O-]c1ccccc1\n",
      "[Br-].[Br-].[Ni@OH26+3]c1ccccc1.[S-]Cc1ccccc1.c1c[nH]cn1.c1c[nH]cn1\n",
      "CNC(=O)C#[N+]/C(C(C)=O)=C(/C)[O-].COC(=O)C#CC(F)(F)F\n",
      "CNC(=O)C#[N+]/C(C(C)=O)=C(/C)[O-].COC(=O)C#CC(F)(F)F\n",
      "C=[N+](C)[N-]C.COC(=O)[C@@]1(OC)C#CC(Br)(Br)CCCC1\n",
      "CNC(=O)C#[N+]/C(C(C)=O)=C(\\C)[O-].COC(=O)C#CC(F)(F)F\n",
      "[CH3-]\n",
      "[C-]#CCC#C\n",
      "CC/C(C)=N/[O-]\n",
      "[C+]#CC#CC#C\n",
      "[C+]1=C[C@H]2O[C@H]2C1\n",
      "C1[C@@H]2[C]3CN2[C@@H]13\n",
      "[H]/N=c1/[cH-]onn1\n",
      "O=C1C=C=NC=[NH+]1\n",
      "Oc1nc[c]cn1\n",
      "Oc1n[c-]ncn1\n",
      "N/C=N/C=C(/[O-])O\n",
      "COC1=NCC[N-]1\n",
      "O=CN[CH][C@H]1CO1\n",
      "N#N.O=C=CC=O\n",
      "C[NH2+]C/C(C[O-])=N/[O-]\n",
      "Cc1[nH]c([O-])nc1O\n",
      "Nc1[nH]c([O-])nc1O\n",
      "O=CC1=C[N]C(O)=N1\n",
      "C#Cc1nc(O)[c]o1\n",
      "NC1(N)OCC(=O)O1\n",
      "N#C[C-](C#N)/[NH+]=C/N\n",
      "N[CH-]NC1=NC(=[OH+])N=N1\n",
      "[O-]c1onc2c1CNC2\n",
      "[O-]c1onc2c1C[NH2+]C2\n",
      "CN1[C+]=CC([N+](=O)[O-])=C1\n",
      "[NH2+]=c1[nH]ccc(F)c1[O-]\n",
      "[C-]#C[C@@H]1N2C#[N+]C[C@]12C\n",
      "C[C@H]1C2C[C-]=C3C=[N+]1[C@@H]32\n",
      "C[C@@H]1[C@H](C)C2=C(CC2)[C@@H]1C\n",
      "C/C([O-])=N/[N+]#N\n",
      "CN/C([O-])=N/[O+]=N\\c1ccccc1\n"
     ]
    }
   ],
   "source": [
    "! molop read \"../../tests/test_files/g16log/*.log\" --only_last_frame - smiles - end"
   ]
  },
  {
   "cell_type": "markdown",
   "metadata": {},
   "source": [
    "所有命令都由附加参数控制，您可以使用 `molop command --help` 命令查看帮助。"
   ]
  },
  {
   "cell_type": "code",
   "execution_count": 5,
   "metadata": {},
   "outputs": [
    {
     "name": "stdout",
     "output_type": "stream",
     "text": [
      "INFO: Showing help with the command 'molop read -- --help'.\n",
      "\n",
      "\u001b[1mNAME\u001b[0m\n",
      "    molop read - Read the files given and set the file batch object.\n",
      "\n",
      "\u001b[1mSYNOPSIS\u001b[0m\n",
      "    molop read \u001b[4mFILE_PATH\u001b[0m <flags>\n",
      "\n",
      "\u001b[1mDESCRIPTION\u001b[0m\n",
      "    Read the files given and set the file batch object.\n",
      "\n",
      "\u001b[1mPOSITIONAL ARGUMENTS\u001b[0m\n",
      "    \u001b[1m\u001b[4mFILE_PATH\u001b[0m\u001b[0m\n",
      "        Type: str\n",
      "        use regax to match files.\n",
      "\n",
      "\u001b[1mFLAGS\u001b[0m\n",
      "    -c, --charge=\u001b[4mCHARGE\u001b[0m\n",
      "        Type: Optional[]\n",
      "        Default: None\n",
      "        forced charge of the molecule, if not given, will use the charge written in the file or 0.\n",
      "    -m, --multiplicity=\u001b[4mMULTIPLICITY\u001b[0m\n",
      "        Type: Optional[]\n",
      "        Default: None\n",
      "        forced multiplicity of the molecule, if not given, will use the charge written in the file or 1.\n",
      "    --only_extract_structure=\u001b[4mONLY_EXTRACT_STRUCTURE\u001b[0m\n",
      "        Default: False\n",
      "        if True, only extract the structure, else extract the whole file.\n",
      "    --only_last_frame=\u001b[4mONLY_LAST_FRAME\u001b[0m\n",
      "        Default: False\n",
      "        if True, only extract the last frame, else extract all frames.\n",
      "\n",
      "\u001b[1mNOTES\u001b[0m\n",
      "    You can also use flags syntax for POSITIONAL ARGUMENTS\n"
     ]
    }
   ],
   "source": [
    "! molop read --help"
   ]
  },
  {
   "cell_type": "markdown",
   "metadata": {},
   "source": [
    "未来还将增加更多有用的功能。"
   ]
  }
 ],
 "metadata": {
  "kernelspec": {
   "display_name": "molop",
   "language": "python",
   "name": "python3"
  },
  "language_info": {
   "codemirror_mode": {
    "name": "ipython",
    "version": 3
   },
   "file_extension": ".py",
   "mimetype": "text/x-python",
   "name": "python",
   "nbconvert_exporter": "python",
   "pygments_lexer": "ipython3",
   "version": "3.8.19"
  }
 },
 "nbformat": 4,
 "nbformat_minor": 2
}
