{
 "cells": [
  {
   "cell_type": "markdown",
   "metadata": {},
   "source": [
    "# Benchmark with other quantum chemistry output file parser projects\n",
    "\n",
    "As far as I know there are several mature parsers offerring python API for quantum chemistry output files, which have been in development for several years. \n",
    "\n",
    "1. [pymatgen](https://pymatgen.org/pymatgen.io.qchem.html)\n",
    "2. [cclib](https://cclib.github.io/)\n",
    "3. [openeye](https://docs.eyesopen.com/toolkits/python/oechemtk/molreadwrite.html) \n",
    "\n",
    "*Attention*: The project [openeye](https://docs.eyesopen.com/toolkits/python/oechemtk/molreadwrite.html)  is supposed to be powerful from its documentation, but unfortunately I tried to run the sample code and it crashed the kernel, so I can't compare it here.\n",
    "\n",
    "The main functions of the above projects are not exactly the same as those of MolOP. This benchmark only covers performance and functionality comparisons of our completed parsers. Our project currently only supports parsing of Gaussian and xTB related files, while the other projects have extensive support for various quantum chemistry software. We may add support for other software formats in the future, but for now, if you need parsing of other software outputs, you can use the mature projects above to accomplish your goals.\n",
    "\n",
    "In fact, I didn't realise these projects existed until I decided to develop MolOP. If I had known about them earlier, perhaps the MolOP project would have been another tool that simply provided a way to go **from xyz coordinates to molecular graphs**. Of course, now you can also use just this functionality, I have wrapped a separate function for it and you can learn about its contribution at [**structure_recover_benchmark**](structure_recover_benchmark.md)."
   ]
  },
  {
   "cell_type": "code",
   "execution_count": 1,
   "metadata": {},
   "outputs": [],
   "source": [
    "import time\n",
    "from glob import glob\n",
    "from molop import AutoParser\n",
    "from molop.config import molopconfig\n",
    "from pymatgen.io import gaussian\n",
    "from cclib.io import ccopen\n",
    "\n",
    "\n",
    "def timer_decorator(func):\n",
    "    def wrapper(*args, **kwargs):\n",
    "        start_time = time.time()\n",
    "        result = func(*args, **kwargs)\n",
    "        end_time = time.time()\n",
    "        run_time = end_time - start_time\n",
    "        print(f\"Function '{func.__name__}' ran in {run_time:.6f} seconds\")\n",
    "        return result\n",
    "\n",
    "    return wrapper\n",
    "\n",
    "\n",
    "@timer_decorator\n",
    "def pymatgen_parser(file_wildcard: str):\n",
    "    result = []\n",
    "    for file in glob(file_wildcard):\n",
    "        try:\n",
    "            result.append(gaussian.GaussianOutput(file))\n",
    "        except Exception as e:\n",
    "            print(f\"Error parsing file {file}: {e}\")\n",
    "    return result\n",
    "\n",
    "\n",
    "@timer_decorator\n",
    "def cclib_parser(file_wildcard: str):\n",
    "    result = []\n",
    "    for file in glob(file_wildcard):\n",
    "        try:\n",
    "            result.append(ccopen(file).parse())\n",
    "        except Exception as e:\n",
    "            print(f\"Error parsing file {file}: {e}\")\n",
    "    return result\n",
    "\n",
    "\n",
    "@timer_decorator\n",
    "def molop_parser(file_wildcard: str, quiet: bool = False, **kwargs):\n",
    "    if quiet:\n",
    "        molopconfig.quiet()\n",
    "    else:\n",
    "        molopconfig.verbose()\n",
    "    return AutoParser(file_wildcard, **kwargs)"
   ]
  },
  {
   "cell_type": "markdown",
   "metadata": {},
   "source": [
    "## Benchmark files\n",
    "\n",
    "The benchmark files are located in the `tests/test_files` directory. All of them are legal Gaussian output files."
   ]
  },
  {
   "cell_type": "code",
   "execution_count": 2,
   "metadata": {},
   "outputs": [
    {
     "name": "stderr",
     "output_type": "stream",
     "text": [
      "MolOP parsing with 16 jobs: 100%|██████████| 49/49 [00:01<00:00, 31.27it/s]\n",
      "0 files failed to parse, 49 successfully parsed\n"
     ]
    },
    {
     "name": "stdout",
     "output_type": "stream",
     "text": [
      "|    | parser            | file_path                                                                                                                 | file_name                                                                    | file_format   | version                                    |   frame_index |   charge |   multiplicity | SMILES                                                                                                                                                                                                                            | functional   | basis           | solvent_model   | solvent   |   temperature | status                                                                                                                                                                                                   |      ZPE |      TCE |      TCH |       TCG |      ZPE-Gas |        E-Gas |        H-Gas |        G-Gas |           sp |     HOMO |     LUMO |     GAP |   first freq | first freq tag   |   second freq | second freq tag   |    S**2 |       S |\n",
      "|---:|:------------------|:--------------------------------------------------------------------------------------------------------------------------|:-----------------------------------------------------------------------------|:--------------|:-------------------------------------------|--------------:|---------:|---------------:|:----------------------------------------------------------------------------------------------------------------------------------------------------------------------------------------------------------------------------------|:-------------|:----------------|:----------------|:----------|--------------:|:---------------------------------------------------------------------------------------------------------------------------------------------------------------------------------------------------------|---------:|---------:|---------:|----------:|-------------:|-------------:|-------------:|-------------:|-------------:|---------:|---------:|--------:|-------------:|:-----------------|--------------:|:------------------|--------:|--------:|\n",
      "|  0 | G16LOGBlockParser | /home/tmj/proj/MolOP/tests/test_files/g16log/111.log                                                                      | 111.log                                                                      | .log          | Gaussian 16:  ES64L-G16RevC.01  3-Jul-2019 |             0 |        0 |              3 | CC[C@H](C)[C@H](NC(C)=O)C(=O)NCC(=O)N[C@@H](CC([O])=O)C(=O)N[C@@H](CC(N)=O)C(=O)N[C@H](C(=O)N[C@@H](CC(N)=O)C(=O)N[C@@H](CC([O])=O)C(=O)N[C@@H](Cc1c[nH]cn1)C(=O)N[C@@H](CCCCNC(C)=O)C(=O)NC)[C@@H](C)CC.O.[O]C=O.[O]C=O.[Rh][Rh] | ub3lyp       | def2SVP         |                 |           |        298.15 | {'SCF Done': True, 'termination': 'Normal'}                                                                                                                                                              |          |          |          |           |              |              |              |              | -4608.28     | -0.21863 | -0.21377 | 0.00486 |              |                  |               |                   |  1.0068 |  2.0205 |\n",
      "|  1 | G16LOGBlockParser | /home/tmj/proj/MolOP/tests/test_files/g16log/11_Opt.log                                                                   | 11_Opt.log                                                                   | .log          | Gaussian 16:  ES64L-G16RevC.01  3-Jul-2019 |            12 |        0 |              1 | C=C[C@H]1[C@@H]2[C@H](C[C@@]1(C)O)OC[C@@H]2C                                                                                                                                                                                      | rm06l        | def2SVP         |                 |           |        298.15 | {'SCF Done': True, 'Maximum Force': True, 'RMS     Force': True, 'Maximum Displacement': True, 'RMS     Displacement': True, 'termination': 'Normal'}                                                    | 0.275585 | 0.287903 | 0.288847 |  0.238406 |  -579.65     |  -579.637    |  -579.636    |  -579.687    |  -579.925    | -0.2188  | -0.01452 | 0.20428 |      76.85   | False            |       94.3685 | False             |         |         |\n",
      "|  2 | G16LOGBlockParser | /home/tmj/proj/MolOP/tests/test_files/g16log/3_Sp.log                                                                     | 3_Sp.log                                                                     | .log          | Gaussian 16:  ES64L-G16RevC.01  3-Jul-2019 |             0 |        0 |              1 | CCC[C@H]1CO[C@H]2C[C@@](C)(O)C[C@@H]12                                                                                                                                                                                            | rm06l        | def2TZVP        |                 |           |        298.15 | {'SCF Done': True, 'termination': 'Normal'}                                                                                                                                                              |          |          |          |           |              |              |              |              |  -581.781    | -0.21593 |  0.02581 | 0.24174 |              |                  |               |                   |         |         |\n",
      "|  3 | G16LOGBlockParser | /home/tmj/proj/MolOP/tests/test_files/g16log/C10.log                                                                      | C10.log                                                                      | .log          | Gaussian 16:  ES64L-G16RevC.01  3-Jul-2019 |             0 |        0 |              1 | [CH2][C@@H]([CH]c1ccccc1)[Pd](Cl)[C]1N(c2c(C(C)C)cccc2C(C)C)[C@H](c2ccccc2)[C@@H](c2ccccc2)N1c1c(C(C)C)cccc1C(C)C                                                                                                                 | rb3lyp       | def2SVP         |                 |           |        298.15 | {'SCF Done': True, 'termination': 'Normal'}                                                                                                                                                              |          |          |          |           |              |              |              |              | -2558.43     | -0.16298 | -0.08202 | 0.08096 |              |                  |               |                   |         |         |\n",
      "|  4 | G16LOGBlockParser | /home/tmj/proj/MolOP/tests/test_files/g16log/RE_BOX-Anion-Real_Cu-III-Phenol_Major-Amide-Anion_From-IP_C-O-190_TS_Opt.log | RE_BOX-Anion-Real_Cu-III-Phenol_Major-Amide-Anion_From-IP_C-O-190_TS_Opt.log | .log          | Gaussian 16:  ES64L-G16RevC.01  3-Jul-2019 |           134 |       -1 |              1 | C[C@@H]1C(=O)N(c2ccccc2)[Cu@TB17]12(Oc1ccccc1)N1C(=C[C-]3OC[C@@H](C(C)(C)C)N32)OC[C@H]1C(C)(C)C                                                                                                                                   | rb3lyp       | pseudopotential |                 |           |        298.15 | {'SCF Done': True, 'Maximum Force': True, 'RMS     Force': True, 'Maximum Displacement': False, 'RMS     Displacement': True, 'termination': 'Normal', 'failure reason': '! Non-Optimized Parameters !'} | 0.643965 | 0.682345 | 0.68329  |  0.572926 | -1827.58     | -1827.54     | -1827.54     | -1827.65     | -1828.22     | -0.06449 |  0.0099  | 0.07439 |    -126.551  | True             |       14.3776 | False             |         |         |\n",
      "|  5 | G16LOGBlockParser | /home/tmj/proj/MolOP/tests/test_files/g16log/S_Ph_Ni_TS.log                                                               | S_Ph_Ni_TS.log                                                               | .log          | Gaussian 16:  ES64L-G16RevC.01  3-Jul-2019 |            12 |        0 |              1 | Br[Ni@OH23](Br)(SCc1ccccc1)c1ccccc1.c1c[nH]cn1.c1c[nH]cn1                                                                                                                                                                         | ub3lyp       | pseudopotential |                 |           |        298.15 | {'SCF Done': True, 'Maximum Force': True, 'RMS     Force': True, 'Maximum Displacement': True, 'RMS     Displacement': True, 'termination': 'Normal'}                                                    | 0.361561 | 0.38868  | 0.389624 |  0.301123 | -1548.69     | -1548.66     | -1548.66     | -1548.75     | -1549.05     | -0.18821 | -0.11033 | 0.07788 |    -185.866  | True             |       15.8954 | False             | -0      | -0      |\n",
      "|  6 | G16LOGBlockParser | /home/tmj/proj/MolOP/tests/test_files/g16log/TS_4cGKps_ll_ad_4-18_6-13_optts_g16.log                                      | TS_4cGKps_ll_ad_4-18_6-13_optts_g16.log                                      | .log          | Gaussian 16:  ES64L-G16RevB.01 20-Dec-2017 |            43 |        0 |              1 | CNC(=O)C#[N+]/C(C(C)=O)=C(/C)[O-].COC(=O)C#CC(F)(F)F                                                                                                                                                                              | rb3lyp       | def2SVP         |                 |           |        298.15 | {'SCF Done': True, 'Maximum Force': True, 'RMS     Force': True, 'Maximum Displacement': False, 'RMS     Displacement': True, 'termination': 'Normal'}                                                   | 0.251882 | 0.277379 | 0.278323 |  0.192899 | -1287.11     | -1287.08     | -1287.08     | -1287.17     | -1287.36     | -0.25863 | -0.10047 | 0.15816 |    -300.831  | True             |       16.957  | False             |         |         |\n",
      "|  7 | G16LOGBlockParser | /home/tmj/proj/MolOP/tests/test_files/g16log/TS_4cGKps_ll_ad_4-18_6-13_sp_g16.log                                         | TS_4cGKps_ll_ad_4-18_6-13_sp_g16.log                                         | .log          | Gaussian 16:  ES64L-G16RevB.01 20-Dec-2017 |             0 |        0 |              1 | CNC(=O)C#[N+]/C(C(C)=O)=C(/C)[O-].COC(=O)C#CC(F)(F)F                                                                                                                                                                              | rb3lyp       | def2TZVP        |                 |           |        298.15 | {'SCF Done': True, 'termination': 'Normal'}                                                                                                                                                              |          |          |          |           |              |              |              |              | -1288.85     | -0.26367 | -0.10703 | 0.15664 |              |                  |               |                   |         |         |\n",
      "|  8 | G16LOGBlockParser | /home/tmj/proj/MolOP/tests/test_files/g16log/TS_Zy0fwX_ll_ad_14-19_15-16_optts_g16.log                                    | TS_Zy0fwX_ll_ad_14-19_15-16_optts_g16.log                                    | .log          | Gaussian 16:  ES64L-G16RevB.01 20-Dec-2017 |            73 |        0 |              1 | C=[N+](C)[N-]C.COC(=O)[C@@]1(OC)C#CC(Br)(Br)CCCC1                                                                                                                                                                                 | rb3lyp       | def2SVP         |                 |           |        298.15 | {'SCF Done': True, 'Maximum Force': True, 'RMS     Force': True, 'Maximum Displacement': False, 'RMS     Displacement': True, 'termination': 'Normal', 'failure reason': '! Non-Optimized Parameters !'} | 0.349175 | 0.373165 | 0.374109 |  0.294821 | -6028.57     | -6028.55     | -6028.55     | -6028.63     | -6028.92     | -0.20404 | -0.04169 | 0.16235 |     -56.863  | True             |       29.9487 | False             |         |         |\n",
      "|  9 | G16LOGBlockParser | /home/tmj/proj/MolOP/tests/test_files/g16log/TS_ts_guess_FaFxyx_template_4-18_6-13_optts_conf_g16.log                     | TS_ts_guess_FaFxyx_template_4-18_6-13_optts_conf_g16.log                     | .log          | Gaussian 16:  ES64L-G16RevB.01 20-Dec-2017 |            26 |        0 |              1 | CNC(=O)C#[N+]/C(C(C)=O)=C(\\C)[O-].COC(=O)C#CC(F)(F)F                                                                                                                                                                              | rb3lyp       | def2SVP         |                 |           |        298.15 | {'SCF Done': True, 'Maximum Force': True, 'RMS     Force': True, 'Maximum Displacement': True, 'RMS     Displacement': True, 'termination': 'Normal'}                                                    | 0.252491 | 0.277515 | 0.27846  |  0.195753 | -1287.12     | -1287.09     | -1287.09     | -1287.17     | -1287.37     | -0.25447 | -0.11005 | 0.14442 |    -252.41   | True             |       25.8663 | False             |         |         |\n",
      "| 10 | G16LOGBlockParser | /home/tmj/proj/MolOP/tests/test_files/g16log/anion_0167_opt_g16_nbo_sp.log                                                | anion_0167_opt_g16_nbo_sp.log                                                | .log          | Gaussian 16:  ES64L-G16RevC.01  3-Jul-2019 |             0 |       -1 |              1 | C=CC(Cl)=[N+]([O-])[O-]                                                                                                                                                                                                           | rb3lyp       | def2SVP         |                 |           |        298.15 | {'SCF Done': True, 'termination': 'Normal'}                                                                                                                                                              |          |          |          |           |              |              |              |              |  -781.081    | -0.00777 |  0.14655 | 0.15432 |              |                  |               |                   |         |         |\n",
      "| 11 | G16LOGBlockParser | /home/tmj/proj/MolOP/tests/test_files/g16log/cation_0371_opt_g16.log                                                      | cation_0371_opt_g16.log                                                      | .log          | Gaussian 16:  ES64L-G16RevC.01  3-Jul-2019 |            27 |        1 |              1 | C/[NH+]=C(\\C(=O)OC)c1ccccc1                                                                                                                                                                                                       | rb3lyp       | def2SVP         |                 |           |        298.15 | {'SCF Done': True, 'Maximum Force': True, 'RMS     Force': True, 'Maximum Displacement': True, 'RMS     Displacement': True, 'termination': 'Normal'}                                                    | 0.206447 | 0.219409 | 0.220354 |  0.165401 |  -592.661    |  -592.648    |  -592.647    |  -592.702    |  -592.868    | -0.41619 | -0.26159 | 0.1546  |      25.3308 | False            |       51.4649 | False             |         |         |\n",
      "| 12 | G16LOGBlockParser | /home/tmj/proj/MolOP/tests/test_files/g16log/cation_0407_opt_g16.log                                                      | cation_0407_opt_g16.log                                                      | .log          | Gaussian 16:  ES64L-G16RevC.01  3-Jul-2019 |           106 |        1 |              1 | CN[C+](c1ccccc1)[N+](=O)[O-]                                                                                                                                                                                                      | rb3lyp       | def2SVP         |                 |           |        298.15 | {'termination': 'Error'}                                                                                                                                                                                 |          |          |          |           |              |              |              |              |              | -0.4342  | -0.27932 | 0.15488 |              |                  |               |                   |         |         |\n",
      "| 13 | G16LOGBlockParser | /home/tmj/proj/MolOP/tests/test_files/g16log/dsgdb9nsd_000001-3-.log                                                      | dsgdb9nsd_000001-3-.log                                                      | .log          | Gaussian 16:  ES64L-G16RevC.01  3-Jul-2019 |             6 |       -1 |              1 | [CH3-]                                                                                                                                                                                                                            | rb3lyp       | 6-311+G(d,p)    |                 |           |        298.15 | {'SCF Done': True, 'termination': 'Normal'}                                                                                                                                                              |          |          |          |           |              |              |              |              |   -39.8575   |  0.06578 |  0.17809 | 0.11231 |              |                  |               |                   |         |         |\n",
      "| 14 | G16LOGBlockParser | /home/tmj/proj/MolOP/tests/test_files/g16log/dsgdb9nsd_000107-3-.log                                                      | dsgdb9nsd_000107-3-.log                                                      | .log          | Gaussian 16:  ES64L-G16RevC.01  3-Jul-2019 |            25 |       -1 |              1 | C#C[CH-]C#C                                                                                                                                                                                                                       | rb3lyp       | 6-311+G(d,p)    |                 |           |        298.15 | {'SCF Done': True, 'termination': 'Normal'}                                                                                                                                                              |          |          |          |           |              |              |              |              |  -192.275    |  0.00382 |  0.13824 | 0.13442 |              |                  |               |                   |         |         |\n",
      "| 15 | G16LOGBlockParser | /home/tmj/proj/MolOP/tests/test_files/g16log/dsgdb9nsd_000180-9-.log                                                      | dsgdb9nsd_000180-9-.log                                                      | .log          | Gaussian 16:  ES64L-G16RevC.01  3-Jul-2019 |            17 |       -1 |              1 | CC/C(C)=N/[O-]                                                                                                                                                                                                                    | rb3lyp       | 6-311+G(d,p)    |                 |           |        298.15 | {'SCF Done': True, 'termination': 'Normal'}                                                                                                                                                              |          |          |          |           |              |              |              |              |  -287.285    |  0.02146 |  0.11362 | 0.09216 |              |                  |               |                   |         |         |\n",
      "| 16 | G16LOGBlockParser | /home/tmj/proj/MolOP/tests/test_files/g16log/dsgdb9nsd_000484-1+.log                                                      | dsgdb9nsd_000484-1+.log                                                      | .log          | Gaussian 16:  ES64L-G16RevC.01  3-Jul-2019 |             7 |        1 |              1 | [C+]#CC#CC#C                                                                                                                                                                                                                      | rb3lyp       | 6-311+G(d,p)    |                 |           |        298.15 | {'SCF Done': True, 'termination': 'Normal'}                                                                                                                                                              |          |          |          |           |              |              |              |              |  -228.647    | -0.47931 | -0.43653 | 0.04278 |              |                  |               |                   |         |         |\n",
      "| 17 | G16LOGBlockParser | /home/tmj/proj/MolOP/tests/test_files/g16log/dsgdb9nsd_000672-3+.log                                                      | dsgdb9nsd_000672-3+.log                                                      | .log          | Gaussian 16:  ES64L-G16RevC.01  3-Jul-2019 |            12 |        1 |              1 | [C+]1=C[C@H]2O[C@H]2C1                                                                                                                                                                                                            | rb3lyp       | 6-311+G(d,p)    |                 |           |        298.15 | {'SCF Done': True, 'termination': 'Normal'}                                                                                                                                                              |          |          |          |           |              |              |              |              |  -268.398    | -0.51954 | -0.32947 | 0.19007 |              |                  |               |                   |         |         |\n",
      "| 18 | G16LOGBlockParser | /home/tmj/proj/MolOP/tests/test_files/g16log/dsgdb9nsd_000696-4.log                                                       | dsgdb9nsd_000696-4.log                                                       | .log          | Gaussian 16:  ES64L-G16RevC.01  3-Jul-2019 |             7 |        0 |              2 | C1[C@@H]2[C]3CN2[C@@H]13                                                                                                                                                                                                          | ub3lyp       | 6-311+G(d,p)    |                 |           |        298.15 | {'SCF Done': True, 'termination': 'Normal'}                                                                                                                                                              |          |          |          |           |              |              |              |              |  -248.756    | -0.32784 | -0.18259 | 0.14525 |              |                  |               |                   |  0.5018 |  0.7535 |\n",
      "| 19 | G16LOGBlockParser | /home/tmj/proj/MolOP/tests/test_files/g16log/dsgdb9nsd_000763-2-.log                                                      | dsgdb9nsd_000763-2-.log                                                      | .log          | Gaussian 16:  ES64L-G16RevC.01  3-Jul-2019 |             9 |       -1 |              1 | [H]/N=c1/[cH-]onn1                                                                                                                                                                                                                | rb3lyp       | 6-311+G(d,p)    |                 |           |        298.15 | {'SCF Done': True, 'termination': 'Normal'}                                                                                                                                                              |          |          |          |           |              |              |              |              |  -316.937    |  0.0093  |  0.13147 | 0.12217 |              |                  |               |                   |         |         |\n",
      "| 20 | G16LOGBlockParser | /home/tmj/proj/MolOP/tests/test_files/g16log/dsgdb9nsd_000923-3+.log                                                      | dsgdb9nsd_000923-3+.log                                                      | .log          | Gaussian 16:  ES64L-G16RevC.01  3-Jul-2019 |            10 |        1 |              1 | O=C1C=C=[N+]=CN1                                                                                                                                                                                                                  | rb3lyp       | 6-311+G(d,p)    |                 |           |        298.15 | {'SCF Done': True, 'termination': 'Normal'}                                                                                                                                                              |          |          |          |           |              |              |              |              |  -338.692    | -0.4928  | -0.35012 | 0.14268 |              |                  |               |                   |         |         |\n",
      "| 21 | G16LOGBlockParser | /home/tmj/proj/MolOP/tests/test_files/g16log/dsgdb9nsd_000955-3.log                                                       | dsgdb9nsd_000955-3.log                                                       | .log          | Gaussian 16:  ES64L-G16RevC.01  3-Jul-2019 |             6 |        0 |              2 | Oc1nc[c]cn1                                                                                                                                                                                                                       | ub3lyp       | 6-311+G(d,p)    |                 |           |        298.15 | {'SCF Done': True, 'termination': 'Normal'}                                                                                                                                                              |          |          |          |           |              |              |              |              |  -338.98     | -0.28326 | -0.27967 | 0.00359 |              |                  |               |                   |  0.5035 |  0.757  |\n",
      "| 22 | G16LOGBlockParser | /home/tmj/proj/MolOP/tests/test_files/g16log/dsgdb9nsd_000958-3-.log                                                      | dsgdb9nsd_000958-3-.log                                                      | .log          | Gaussian 16:  ES64L-G16RevC.01  3-Jul-2019 |             8 |       -1 |              1 | Oc1n[c-]ncn1                                                                                                                                                                                                                      | rb3lyp       | 6-311+G(d,p)    |                 |           |        298.15 | {'SCF Done': True, 'termination': 'Normal'}                                                                                                                                                              |          |          |          |           |              |              |              |              |  -355.094    | -0.00299 |  0.12011 | 0.1231  |              |                  |               |                   |         |         |\n",
      "| 23 | G16LOGBlockParser | /home/tmj/proj/MolOP/tests/test_files/g16log/dsgdb9nsd_001232-4-.log                                                      | dsgdb9nsd_001232-4-.log                                                      | .log          | Gaussian 16:  ES64L-G16RevC.01  3-Jul-2019 |            16 |       -1 |              1 | N/C=N/C=C(/[O-])O                                                                                                                                                                                                                 | rb3lyp       | 6-311+G(d,p)    |                 |           |        298.15 | {'SCF Done': True, 'termination': 'Normal'}                                                                                                                                                              |          |          |          |           |              |              |              |              |  -377.445    |  0.00144 |  0.10845 | 0.10701 |              |                  |               |                   |         |         |\n",
      "| 24 | G16LOGBlockParser | /home/tmj/proj/MolOP/tests/test_files/g16log/dsgdb9nsd_002924-8-.log                                                      | dsgdb9nsd_002924-8-.log                                                      | .log          | Gaussian 16:  ES64L-G16RevC.01  3-Jul-2019 |            11 |       -1 |              1 | COC1=NCC[N-]1                                                                                                                                                                                                                     | rb3lyp       | 6-311+G(d,p)    |                 |           |        298.15 | {'SCF Done': True, 'termination': 'Normal'}                                                                                                                                                              |          |          |          |           |              |              |              |              |  -341.475    |  0.01    |  0.12531 | 0.11531 |              |                  |               |                   |         |         |\n",
      "| 25 | G16LOGBlockParser | /home/tmj/proj/MolOP/tests/test_files/g16log/dsgdb9nsd_003051-3.log                                                       | dsgdb9nsd_003051-3.log                                                       | .log          | Gaussian 16:  ES64L-G16RevC.01  3-Jul-2019 |            17 |        0 |              2 | O=CN[CH][C@H]1CO1                                                                                                                                                                                                                 | ub3lyp       | 6-311+G(d,p)    |                 |           |        298.15 | {'SCF Done': True, 'termination': 'Normal'}                                                                                                                                                              |          |          |          |           |              |              |              |              |  -361.273    | -0.28613 | -0.19199 | 0.09414 |              |                  |               |                   |  0.5032 |  0.7565 |\n",
      "| 26 | G16LOGBlockParser | /home/tmj/proj/MolOP/tests/test_files/g16log/dsgdb9nsd_003895.log                                                         | dsgdb9nsd_003895.log                                                         | .log          | Gaussian 16:  ES64L-G16RevC.01  3-Jul-2019 |             3 |        0 |              1 | N#N.O=C=CC=O                                                                                                                                                                                                                      | rb3lyp       | 6-311+G(d,p)    |                 |           |        298.15 | {'SCF Done': True, 'termination': 'Normal'}                                                                                                                                                              |          |          |          |           |              |              |              |              |  -375.583    | -0.27844 | -0.07719 | 0.20125 |              |                  |               |                   |         |         |\n",
      "| 27 | G16LOGBlockParser | /home/tmj/proj/MolOP/tests/test_files/g16log/dsgdb9nsd_004015-3-.log                                                      | dsgdb9nsd_004015-3-.log                                                      | .log          | Gaussian 16:  ES64L-G16RevC.01  3-Jul-2019 |            19 |       -1 |              1 | [CH2-][NH2+]C/C(CO)=N/[O-]                                                                                                                                                                                                        | rb3lyp       | 6-311+G(d,p)    |                 |           |        298.15 | {'SCF Done': True, 'termination': 'Normal'}                                                                                                                                                              |          |          |          |           |              |              |              |              |  -417.832    | -0.0334  |  0.10345 | 0.13685 |              |                  |               |                   |         |         |\n",
      "| 28 | G16LOGBlockParser | /home/tmj/proj/MolOP/tests/test_files/g16log/dsgdb9nsd_004478-6-.log                                                      | dsgdb9nsd_004478-6-.log                                                      | .log          | Gaussian 16:  ES64L-G16RevC.01  3-Jul-2019 |             7 |       -1 |              1 | Cc1[n-]c(O)nc1O                                                                                                                                                                                                                   | rb3lyp       | 6-311+G(d,p)    |                 |           |        298.15 | {'SCF Done': True, 'termination': 'Normal'}                                                                                                                                                              |          |          |          |           |              |              |              |              |  -415.566    | -0.00057 |  0.12524 | 0.12581 |              |                  |               |                   |         |         |\n",
      "| 29 | G16LOGBlockParser | /home/tmj/proj/MolOP/tests/test_files/g16log/dsgdb9nsd_004517-4-.log                                                      | dsgdb9nsd_004517-4-.log                                                      | .log          | Gaussian 16:  ES64L-G16RevC.01  3-Jul-2019 |            28 |       -1 |              1 | Nc1[n-]c(O)nc1O                                                                                                                                                                                                                   | rb3lyp       | 6-311+G(d,p)    |                 |           |        298.15 | {'SCF Done': True, 'termination': 'Normal'}                                                                                                                                                              |          |          |          |           |              |              |              |              |  -431.606    |  0.00844 |  0.12415 | 0.11571 |              |                  |               |                   |         |         |\n",
      "| 30 | G16LOGBlockParser | /home/tmj/proj/MolOP/tests/test_files/g16log/dsgdb9nsd_004669-4.log                                                       | dsgdb9nsd_004669-4.log                                                       | .log          | Gaussian 16:  ES64L-G16RevC.01  3-Jul-2019 |            10 |        0 |              2 | O=CC1=C[N]C(O)=N1                                                                                                                                                                                                                 | ub3lyp       | 6-311+G(d,p)    |                 |           |        298.15 | {'SCF Done': True, 'termination': 'Normal'}                                                                                                                                                              |          |          |          |           |              |              |              |              |  -414.256    | -0.28801 | -0.26252 | 0.02549 |              |                  |               |                   |  0.5044 |  0.7589 |\n",
      "| 31 | G16LOGBlockParser | /home/tmj/proj/MolOP/tests/test_files/g16log/dsgdb9nsd_004738-2.log                                                       | dsgdb9nsd_004738-2.log                                                       | .log          | Gaussian 16:  ES64L-G16RevC.01  3-Jul-2019 |             3 |        0 |              2 | C#Cc1nc(O)[c]o1                                                                                                                                                                                                                   | ub3lyp       | 6-311+G(d,p)    |                 |           |        298.15 | {'SCF Done': True, 'termination': 'Normal'}                                                                                                                                                              |          |          |          |           |              |              |              |              |  -396.863    | -0.26301 | -0.24718 | 0.01583 |              |                  |               |                   |  0.5146 |  0.7794 |\n",
      "| 32 | G16LOGBlockParser | /home/tmj/proj/MolOP/tests/test_files/g16log/dsgdb9nsd_006075rearrange.log                                                | dsgdb9nsd_006075rearrange.log                                                | .log          | Gaussian 16:  ES64L-G16RevC.01  3-Jul-2019 |            40 |        0 |              1 | NC1(N)OCC(=O)O1                                                                                                                                                                                                                   | rb3lyp       | 6-311+G(d,p)    |                 |           |        298.15 | {'SCF Done': True, 'termination': 'Normal'}                                                                                                                                                              |          |          |          |           |              |              |              |              |  -453.27     | -0.27969 | -0.01842 | 0.26127 |              |                  |               |                   |         |         |\n",
      "| 33 | G16LOGBlockParser | /home/tmj/proj/MolOP/tests/test_files/g16log/dsgdb9nsd_009986.log                                                         | dsgdb9nsd_009986.log                                                         | .log          | Gaussian 16:  ES64L-G16RevC.01  3-Jul-2019 |            11 |        0 |              1 | N#C[C-](C#N)/[NH+]=C/N                                                                                                                                                                                                            | rb3lyp       | 6-311+G(d,p)    |                 |           |        298.15 | {'SCF Done': True, 'termination': 'Normal'}                                                                                                                                                              |          |          |          |           |              |              |              |              |  -373.884    | -0.20306 | -0.07182 | 0.13124 |              |                  |               |                   |         |         |\n",
      "| 34 | G16LOGBlockParser | /home/tmj/proj/MolOP/tests/test_files/g16log/dsgdb9nsd_130366.log                                                         | dsgdb9nsd_130366.log                                                         | .log          | Gaussian 16:  ES64L-G16RevC.01  3-Jul-2019 |             7 |        0 |              1 | N[CH-]NC1=NC(O)=[N+]=N1                                                                                                                                                                                                           | rb3lyp       | 6-311+G(d,p)    |                 |           |        298.15 | {'SCF Done': True, 'termination': 'Normal'}                                                                                                                                                              |          |          |          |           |              |              |              |              |  -466.411    | -0.19364 | -0.08163 | 0.11201 |              |                  |               |                   |         |         |\n",
      "| 35 | G16LOGBlockParser | /home/tmj/proj/MolOP/tests/test_files/g16log/dsgdb9nsd_131200-4-.log                                                      | dsgdb9nsd_131200-4-.log                                                      | .log          | Gaussian 16:  ES64L-G16RevC.01  3-Jul-2019 |            11 |       -1 |              1 | [O-]c1onc2c1[CH-][NH2+]C2                                                                                                                                                                                                         | rb3lyp       | 6-311+G(d,p)    |                 |           |        298.15 | {'SCF Done': True, 'termination': 'Normal'}                                                                                                                                                              |          |          |          |           |              |              |              |              |  -453.529    |  0.00581 |  0.07542 | 0.06961 |              |                  |               |                   |         |         |\n",
      "| 36 | G16LOGBlockParser | /home/tmj/proj/MolOP/tests/test_files/g16log/dsgdb9nsd_131200.log                                                         | dsgdb9nsd_131200.log                                                         | .log          | Gaussian 16:  ES64L-G16RevC.01  3-Jul-2019 |             7 |        0 |              1 | [O-]c1onc2c1C[NH2+]C2                                                                                                                                                                                                             | rb3lyp       | 6-311+G(d,p)    |                 |           |        298.15 | {'SCF Done': True, 'termination': 'Normal'}                                                                                                                                                              |          |          |          |           |              |              |              |              |  -454.13     | -0.18524 | -0.07291 | 0.11233 |              |                  |               |                   |         |         |\n",
      "| 37 | G16LOGBlockParser | /home/tmj/proj/MolOP/tests/test_files/g16log/dsgdb9nsd_131941-4+.log                                                      | dsgdb9nsd_131941-4+.log                                                      | .log          | Gaussian 16:  ES64L-G16RevC.01  3-Jul-2019 |            21 |        1 |              1 | CN1[C+]=CC([N+](=O)[O-])=C1                                                                                                                                                                                                       | rb3lyp       | 6-311+G(d,p)    |                 |           |        298.15 | {'SCF Done': True, 'termination': 'Normal'}                                                                                                                                                              |          |          |          |           |              |              |              |              |  -453.093    | -0.49069 | -0.38382 | 0.10687 |              |                  |               |                   |         |         |\n",
      "| 38 | G16LOGBlockParser | /home/tmj/proj/MolOP/tests/test_files/g16log/dsgdb9nsd_132072.log                                                         | dsgdb9nsd_132072.log                                                         | .log          | Gaussian 16:  ES64L-G16RevC.01  3-Jul-2019 |            10 |        0 |              1 | [NH2+]=c1[nH]ccc(F)c1[O-]                                                                                                                                                                                                         | rb3lyp       | 6-311+G(d,p)    |                 |           |        298.15 | {'SCF Done': True, 'termination': 'Normal'}                                                                                                                                                              |          |          |          |           |              |              |              |              |  -478.256    | -0.196   | -0.05017 | 0.14583 |              |                  |               |                   |         |         |\n",
      "| 39 | G16LOGBlockParser | /home/tmj/proj/MolOP/tests/test_files/g16log/dsgdb9nsd_133826.log                                                         | dsgdb9nsd_133826.log                                                         | .log          | Gaussian 16:  ES64L-G16RevC.01  3-Jul-2019 |             9 |        0 |              1 | C#C[C@@H]1N2C#[N+][CH-][C@]12C                                                                                                                                                                                                    | rb3lyp       | 6-311+G(d,p)    |                 |           |        298.15 | {'SCF Done': True, 'termination': 'Normal'}                                                                                                                                                              |          |          |          |           |              |              |              |              |  -379.744    | -0.22785 | -0.1058  | 0.12205 |              |                  |               |                   |         |         |\n",
      "| 40 | G16LOGBlockParser | /home/tmj/proj/MolOP/tests/test_files/g16log/dsgdb9nsd_133858.log                                                         | dsgdb9nsd_133858.log                                                         | .log          | Gaussian 16:  ES64L-G16RevC.01  3-Jul-2019 |             9 |        0 |              1 | C[C@H]1[C-]2CC=C3C=[N+]1[C@@H]32                                                                                                                                                                                                  | rb3lyp       | 6-311+G(d,p)    |                 |           |        298.15 | {'SCF Done': True, 'termination': 'Normal'}                                                                                                                                                              |          |          |          |           |              |              |              |              |  -364.836    | -0.18508 | -0.12276 | 0.06232 |              |                  |               |                   |         |         |\n",
      "| 41 | G16LOGBlockParser | /home/tmj/proj/MolOP/tests/test_files/g16log/molecule_0.log                                                               | molecule_0.log                                                               | .log          | Gaussian 16:  ES64L-G16RevC.01  3-Jul-2019 |             8 |        0 |              1 | C[C@@H]1[C@H](C)C2=C(CC2)[C@@H]1C                                                                                                                                                                                                 | rb3lyp       | 6-31G           |                 |           |        298.15 | {'termination': 'Normal'}                                                                                                                                                                                |          |          |          |           |              |              |              |              |  -390.536    | -0.21899 |  0.03946 | 0.25845 |              |                  |               |                   |         |         |\n",
      "| 42 | G16LOGBlockParser | /home/tmj/proj/MolOP/tests/test_files/g16log/r1_C2H3N3O_sp_g16.log                                                        | r1_C2H3N3O_sp_g16.log                                                        | .log          | Gaussian 16:  ES64L-G16RevB.01 20-Dec-2017 |             0 |        0 |              1 | C/C([O-])=N/[N+]#N                                                                                                                                                                                                                | rb3lyp       | def2TZVP        | IEFPCM          | Water     |        298.15 | {'SCF Done': True, 'termination': 'Normal'}                                                                                                                                                              |          |          |          |           |              |              |              |              |  -317.592    | -0.29408 | -0.06277 | 0.23131 |              |                  |               |                   |         |         |\n",
      "| 43 | G16LOGBlockParser | /home/tmj/proj/MolOP/tests/test_files/g16log/r1_C8H9N3O2_sp_g16.log                                                       | r1_C8H9N3O2_sp_g16.log                                                       | .log          | Gaussian 16:  ES64L-G16RevB.01 20-Dec-2017 |             0 |        0 |              1 | CN/C([O-])=N/[O+]=N\\c1ccccc1                                                                                                                                                                                                      | rb3lyp       | def2TZVP        |                 |           |        298.15 | {'SCF Done': True, 'termination': 'Normal'}                                                                                                                                                              |          |          |          |           |              |              |              |              |  -625.123    | -0.23807 | -0.12874 | 0.10933 |              |                  |               |                   |         |         |\n",
      "| 44 | G16LOGBlockParser | /home/tmj/proj/MolOP/tests/test_files/g16log/radical_0554_opt_g16_nbo_sp.log                                              | radical_0554_opt_g16_nbo_sp.log                                              | .log          | Gaussian 16:  ES64L-G16RevC.01  3-Jul-2019 |             0 |        0 |              2 | C=C[C](Cc1ccccc1)C(=O)OC                                                                                                                                                                                                          | ub3lyp       | def2SVP         |                 |           |        298.15 | {'SCF Done': True, 'termination': 'Normal'}                                                                                                                                                              |          |          |          |           |              |              |              |              |  -615.115    | -0.25141 | -0.20937 | 0.04204 |              |                  |               |                   |  0.5135 |  0.7771 |\n",
      "| 45 | G16LOGBlockParser | /home/tmj/proj/MolOP/tests/test_files/g16log/test_ccsd.log                                                                | test_ccsd.log                                                                | .log          | Gaussian 16:  ES64L-G16RevC.01  3-Jul-2019 |             2 |       -1 |              1 | [H-]                                                                                                                                                                                                                              | ccsd         | def2SVP         | IEFPCM          | Ethanol   |        298.15 | {'SCF Done': True, 'Maximum Force': True, 'RMS     Force': True, 'Maximum Displacement': True, 'RMS     Displacement': True, 'termination': 'Normal'}                                                    | 0        | 0.001416 | 0.00236  | -0.01     |    -0.628877 |    -0.62746  |    -0.626516 |    -0.638876 |    -0.628877 |          |          |         |              |                  |               |                   |         |         |\n",
      "| 46 | G16LOGBlockParser | /home/tmj/proj/MolOP/tests/test_files/g16log/test_ccsd_t.log                                                              | test_ccsd_t.log                                                              | .log          | Gaussian 16:  ES64L-G16RevC.01  3-Jul-2019 |             0 |        0 |              2 | [H]                                                                                                                                                                                                                               | ccsd(t)      | Aug-CC-pVTZ     |                 |           |        298.15 | {'SCF Done': True, 'termination': 'Normal'}                                                                                                                                                              |          |          |          |           |              |              |              |              |    -0.499821 |          |          |         |              |                  |               |                   |  0.5    |  0.75   |\n",
      "| 47 | G16LOGBlockParser | /home/tmj/proj/MolOP/tests/test_files/g16log/test_mp2.log                                                                 | test_mp2.log                                                                 | .log          | Gaussian 16:  ES64L-G16RevC.01  3-Jul-2019 |             2 |       -1 |              1 | [H-]                                                                                                                                                                                                                              | mp2          | def2SVP         | IEFPCM          | Ethanol   |        298.15 | {'SCF Done': True, 'Maximum Force': True, 'RMS     Force': True, 'Maximum Displacement': True, 'RMS     Displacement': True, 'termination': 'Normal'}                                                    | 0        | 0.001416 | 0.00236  | -0.01     |    -0.623892 |    -0.622475 |    -0.621531 |    -0.633891 |    -0.623892 |          |          |         |              |                  |               |                   |         |         |\n",
      "| 48 | G16LOGBlockParser | /home/tmj/proj/MolOP/tests/test_files/g16log/test_solvent.log                                                             | test_solvent.log                                                             | .log          | Gaussian 16:  ES64L-G16RevC.01  3-Jul-2019 |             2 |       -1 |              1 | [H-]                                                                                                                                                                                                                              | rb3lyp       | def2SVP         | IEFPCM          | Ethanol   |        298.15 | {'SCF Done': True, 'Maximum Force': True, 'RMS     Force': True, 'Maximum Displacement': True, 'RMS     Displacement': True, 'termination': 'Normal'}                                                    | 0        | 0.001416 | 0.00236  | -0.01     |    -0.648472 |    -0.647055 |    -0.646111 |    -0.658471 |    -0.648471 |          |          |         |              |                  |               |                   |         |         |\n"
     ]
    }
   ],
   "source": [
    "print(AutoParser(\"../../tests/test_files/g16log/*.log\").to_summary_df().to_markdown())"
   ]
  },
  {
   "cell_type": "markdown",
   "metadata": {},
   "source": [
    "## Time benchmark\n",
    "\n",
    "In short, MolOP is up to 20 times faster than pymatgen, and up to 40 times faster than cclib."
   ]
  },
  {
   "cell_type": "code",
   "execution_count": 3,
   "metadata": {},
   "outputs": [
    {
     "name": "stdout",
     "output_type": "stream",
     "text": [
      "Error parsing file ../../tests/test_files/g16log/anion_0167_opt_g16_nbo_sp.log: list index out of range\n"
     ]
    },
    {
     "name": "stderr",
     "output_type": "stream",
     "text": [
      "/home/tmj/miniconda3/envs/molop/lib/python3.8/site-packages/pymatgen/io/gaussian.py:1129: UserWarning: \n",
      "../../tests/test_files/g16log/cation_0407_opt_g16.log: Termination error or bad Gaussian output file !\n",
      "  warnings.warn(\"\\n\" + self.filename + \": Termination error or bad Gaussian output file !\")\n"
     ]
    },
    {
     "name": "stdout",
     "output_type": "stream",
     "text": [
      "Error parsing file ../../tests/test_files/g16log/radical_0554_opt_g16_nbo_sp.log: list index out of range\n",
      "Function 'pymatgen_parser' ran in 2.181554 seconds\n"
     ]
    }
   ],
   "source": [
    "pymatgen_result = pymatgen_parser(\"../../tests/test_files/g16log/*.log\")"
   ]
  },
  {
   "cell_type": "markdown",
   "metadata": {},
   "source": [
    "pymatgen took about 2.1s and raised 2 errors"
   ]
  },
  {
   "cell_type": "code",
   "execution_count": 4,
   "metadata": {},
   "outputs": [
    {
     "name": "stderr",
     "output_type": "stream",
     "text": [
      "[Gaussian ../../tests/test_files/g16log/dsgdb9nsd_000484-1+.log ERROR] Encountered error when parsing.\n",
      "[Gaussian ../../tests/test_files/g16log/dsgdb9nsd_000484-1+.log ERROR] Last line read:  Rotational constants (GHZ):      ************     1.38922     1.38922\n",
      "\n"
     ]
    },
    {
     "name": "stdout",
     "output_type": "stream",
     "text": [
      "Error parsing file ../../tests/test_files/g16log/dsgdb9nsd_000484-1+.log: could not convert string to float: '************'\n",
      "Function 'cclib_parser' ran in 4.076629 seconds\n"
     ]
    }
   ],
   "source": [
    "cclib_result = cclib_parser(\"../../tests/test_files/g16log/*.log\")"
   ]
  },
  {
   "cell_type": "markdown",
   "metadata": {},
   "source": [
    "cclib took about 4.1s and raised 1 errors"
   ]
  },
  {
   "cell_type": "code",
   "execution_count": 5,
   "metadata": {},
   "outputs": [
    {
     "name": "stderr",
     "output_type": "stream",
     "text": [
      "MolOP parsing with single thread: 100%|██████████| 49/49 [00:01<00:00, 28.35it/s]\n",
      "0 files failed to parse, 49 successfully parsed\n"
     ]
    },
    {
     "name": "stdout",
     "output_type": "stream",
     "text": [
      "Function 'molop_parser' ran in 1.731694 seconds\n"
     ]
    }
   ],
   "source": [
    "molop_result = molop_parser(\"../../tests/test_files/g16log/*.log\", n_jobs=1)"
   ]
  },
  {
   "cell_type": "markdown",
   "metadata": {},
   "source": [
    "Sequential MolOP took about 1.7s and raised no error. We can be faster by the automatic parallelization."
   ]
  },
  {
   "cell_type": "code",
   "execution_count": 6,
   "metadata": {},
   "outputs": [
    {
     "name": "stderr",
     "output_type": "stream",
     "text": [
      "MolOP parsing with 16 jobs: 100%|██████████| 49/49 [00:00<00:00, 100.81it/s]\n",
      "0 files failed to parse, 49 successfully parsed\n"
     ]
    },
    {
     "name": "stdout",
     "output_type": "stream",
     "text": [
      "Function 'molop_parser' ran in 0.491523 seconds\n"
     ]
    }
   ],
   "source": [
    "molop_result = molop_parser(\"../../tests/test_files/g16log/*.log\")"
   ]
  },
  {
   "cell_type": "markdown",
   "metadata": {},
   "source": [
    "Parallel MolOP took about 0.4s and raised no error. We can be faster if we want only the optimized structure."
   ]
  },
  {
   "cell_type": "code",
   "execution_count": 7,
   "metadata": {},
   "outputs": [
    {
     "name": "stderr",
     "output_type": "stream",
     "text": [
      "MolOP parsing with 16 jobs: 100%|██████████| 49/49 [00:00<00:00, 538.81it/s]\n",
      "0 files failed to parse, 49 successfully parsed\n"
     ]
    },
    {
     "name": "stdout",
     "output_type": "stream",
     "text": [
      "Function 'molop_parser' ran in 0.095738 seconds\n"
     ]
    }
   ],
   "source": [
    "molop_result = molop_parser(\"../../tests/test_files/g16log/*.log\", only_last_frame=True)"
   ]
  },
  {
   "cell_type": "markdown",
   "metadata": {},
   "source": [
    "Parallel MolOP to extract only the last frame took close to 0.1s and raised no error."
   ]
  },
  {
   "cell_type": "markdown",
   "metadata": {},
   "source": [
    "## Information benchmark"
   ]
  },
  {
   "cell_type": "code",
   "execution_count": 8,
   "metadata": {},
   "outputs": [
    {
     "data": {
      "text/plain": [
       "dict_keys(['atomcharges', 'atomcoords', 'atommasses', 'atomnos', 'charge', 'coreelectrons', 'dispersionenergies', 'enthalpy', 'entropy', 'freeenergy', 'geotargets', 'geovalues', 'grads', 'homos', 'metadata', 'moenergies', 'moments', 'mosyms', 'mult', 'natom', 'nbasis', 'nmo', 'optdone', 'optstatus', 'polarizabilities', 'pressure', 'rotconsts', 'scfenergies', 'scftargets', 'scfvalues', 'temperature', 'vibdisps', 'vibfconsts', 'vibfreqs', 'vibirs', 'vibrmasses', 'vibsyms', 'zpve'])"
      ]
     },
     "execution_count": 8,
     "metadata": {},
     "output_type": "execute_result"
    }
   ],
   "source": [
    "cclib_result[-1].getattributes().keys()"
   ]
  },
  {
   "cell_type": "code",
   "execution_count": 9,
   "metadata": {},
   "outputs": [
    {
     "data": {
      "text/plain": [
       "dict_keys(['has_gaussian_completed', 'nsites', 'unit_cell_formula', 'reduced_cell_formula', 'pretty_formula', 'is_pcm', 'errors', 'Mulliken_charges', 'elements', 'nelements', 'charge', 'spin_multiplicity', 'input', 'output', '@module', '@class'])"
      ]
     },
     "execution_count": 9,
     "metadata": {},
     "output_type": "execute_result"
    }
   ],
   "source": [
    "pymatgen_result[-1].as_dict().keys()"
   ]
  },
  {
   "cell_type": "code",
   "execution_count": 10,
   "metadata": {},
   "outputs": [
    {
     "data": {
      "text/plain": [
       "dict_keys(['smiles', 'atom_number', 'total_charge', 'total_multiplicity', 'atoms', 'coords', 'bonds', 'formal_charges', 'formal_spins', 'qm_software', 'qm_software_version', 'functional', 'basis', 'solvent_model', 'solvent', 'temperature', 'mulliken_charge', 'spin_densities', 'gradients', 'single_point_energy', 'zero_point_correction', 'energy_correction', 'enthalpy_correction', 'gibbs_free_energy_correction', 'zero_point_sum', 'thermal_energy_sum', 'thermal_enthalpy_sum', 'thermal_free_energy_sum', 'alpha_orbital_energies', 'beta_orbital_energies', 'alpha_homo', 'alpha_lumo', 'alpha_gap', 'beta_homo', 'beta_lumo', 'beta_gap', 'first_frequency', 'first_vibration_mode', 'second_frequency', 'second_vibration_mode', 'freqs', 'is_TS', 'spin_eginvalue', 'spin_multiplicity', 'dipole', 'quadrupole', 'octapole', 'hexadecapole', 'nbo_bond_order', 'wiberg_bond_order', 'mo_bond_order', 'atom_atom_overlap_bond_order', 'nbo_charges', 'lowdin_charges', 'hirshfeld_charges'])"
      ]
     },
     "execution_count": 10,
     "metadata": {},
     "output_type": "execute_result"
    }
   ],
   "source": [
    "molop_result[-1][-1].to_dict().keys()"
   ]
  },
  {
   "cell_type": "markdown",
   "metadata": {},
   "source": [
    "pymatgen extracts only the basic information from the Gaussian output file.\n",
    "\n",
    "It's great that cclib has a very full parsing of the Gaussian output file, covering almost everything in it. Unfortunately there are bugs in the handling of some fields.\n",
    "\n",
    "MolOP's support for Gaussian output files exceeds that of pymatgen, but hardly exceeds the coverage of cclib. \n",
    "\n",
    "More importantly, the smallest unit of data extracted by MolOP is each legal frame in a file, and each frame is parsed to the same specification. Other projects will only process a file as a whole. The structure of the optimisation process is equally important for tasks such as building datasets of molecular geometries. Each frame in the geometry optimisation is a legitimate SCF convergent structure and provides a DFT-level molecular force field, which may be of great help for neural network potential function fitting."
   ]
  },
  {
   "cell_type": "code",
   "execution_count": 12,
   "metadata": {},
   "outputs": [
    {
     "name": "stderr",
     "output_type": "stream",
     "text": [
      "MolOP parsing with 16 jobs: 100%|██████████| 49/49 [00:00<00:00, 125.09it/s]\n",
      "0 files failed to parse, 49 successfully parsed\n"
     ]
    },
    {
     "name": "stdout",
     "output_type": "stream",
     "text": [
      "Function 'molop_parser' ran in 0.396354 seconds\n",
      "|    | parser            | file_path                                                                                             | file_name                                                | file_format   | version                                    |   frame_index |   charge |   multiplicity | SMILES                                               | functional   | basis   | solvent_model   | solvent   |   temperature | status                                                                                                                                                |      ZPE |      TCE |      TCH |      TCG |      ZPE-Gas |        E-Gas |        H-Gas |        G-Gas |           sp |      HOMO |      LUMO |      GAP |   first freq | first freq tag   |   second freq | second freq tag   | S**2   | S   |\n",
      "|---:|:------------------|:------------------------------------------------------------------------------------------------------|:---------------------------------------------------------|:--------------|:-------------------------------------------|--------------:|---------:|---------------:|:-----------------------------------------------------|:-------------|:--------|:----------------|:----------|--------------:|:------------------------------------------------------------------------------------------------------------------------------------------------------|---------:|---------:|---------:|---------:|-------------:|-------------:|-------------:|-------------:|-------------:|----------:|----------:|---------:|-------------:|:-----------------|--------------:|:------------------|:-------|:----|\n",
      "|  0 | G16LOGBlockParser | /home/tmj/proj/MolOP/tests/test_files/g16log/TS_ts_guess_FaFxyx_template_4-18_6-13_optts_conf_g16.log | TS_ts_guess_FaFxyx_template_4-18_6-13_optts_conf_g16.log | .log          | Gaussian 16:  ES64L-G16RevB.01 20-Dec-2017 |             0 |        0 |              1 | CNC(=O)C#[N+]/C(C(C)=O)=C(\\C)[O-].COC(=O)C#CC(F)(F)F | rb3lyp       | def2SVP |                 |           |    298.150000 | {'SCF Done': True, 'Maximum Force': False, 'RMS     Force': False, 'Maximum Displacement': False, 'RMS     Displacement': False}                      |          |          |          |          |              |              |              |              | -1287.358146 | -0.249030 | -0.106110 | 0.142920 |              |                  |               |                   |        |     |\n",
      "|  1 | G16LOGBlockParser | /home/tmj/proj/MolOP/tests/test_files/g16log/TS_ts_guess_FaFxyx_template_4-18_6-13_optts_conf_g16.log | TS_ts_guess_FaFxyx_template_4-18_6-13_optts_conf_g16.log | .log          | Gaussian 16:  ES64L-G16RevB.01 20-Dec-2017 |             1 |        0 |              1 | CNC(=O)C#[N+]/C(C(C)=O)=C(\\C)[O-].COC(=O)C#CC(F)(F)F | rb3lyp       | def2SVP |                 |           |    298.150000 | {'SCF Done': True, 'Maximum Force': False, 'RMS     Force': False, 'Maximum Displacement': False, 'RMS     Displacement': False}                      |          |          |          |          |              |              |              |              | -1287.362757 |           |           |          |              |                  |               |                   |        |     |\n",
      "|  2 | G16LOGBlockParser | /home/tmj/proj/MolOP/tests/test_files/g16log/TS_ts_guess_FaFxyx_template_4-18_6-13_optts_conf_g16.log | TS_ts_guess_FaFxyx_template_4-18_6-13_optts_conf_g16.log | .log          | Gaussian 16:  ES64L-G16RevB.01 20-Dec-2017 |             2 |        0 |              1 | CNC(=O)C#[N+]/C(C(C)=O)=C(\\C)[O-].COC(=O)C#CC(F)(F)F | rb3lyp       | def2SVP |                 |           |    298.150000 | {'SCF Done': True, 'Maximum Force': False, 'RMS     Force': False, 'Maximum Displacement': False, 'RMS     Displacement': False}                      |          |          |          |          |              |              |              |              | -1287.365649 |           |           |          |              |                  |               |                   |        |     |\n",
      "|  3 | G16LOGBlockParser | /home/tmj/proj/MolOP/tests/test_files/g16log/TS_ts_guess_FaFxyx_template_4-18_6-13_optts_conf_g16.log | TS_ts_guess_FaFxyx_template_4-18_6-13_optts_conf_g16.log | .log          | Gaussian 16:  ES64L-G16RevB.01 20-Dec-2017 |             3 |        0 |              1 | CNC(=O)C#[N+]/C(C(C)=O)=C(\\C)[O-].COC(=O)C#CC(F)(F)F | rb3lyp       | def2SVP |                 |           |    298.150000 | {'SCF Done': True, 'Maximum Force': False, 'RMS     Force': False, 'Maximum Displacement': False, 'RMS     Displacement': False}                      |          |          |          |          |              |              |              |              | -1287.367119 |           |           |          |              |                  |               |                   |        |     |\n",
      "|  4 | G16LOGBlockParser | /home/tmj/proj/MolOP/tests/test_files/g16log/TS_ts_guess_FaFxyx_template_4-18_6-13_optts_conf_g16.log | TS_ts_guess_FaFxyx_template_4-18_6-13_optts_conf_g16.log | .log          | Gaussian 16:  ES64L-G16RevB.01 20-Dec-2017 |             4 |        0 |              1 | CNC(=O)C#[N+]/C(C(C)=O)=C(\\C)[O-].COC(=O)C#CC(F)(F)F | rb3lyp       | def2SVP |                 |           |    298.150000 | {'SCF Done': True, 'Maximum Force': False, 'RMS     Force': False, 'Maximum Displacement': False, 'RMS     Displacement': False}                      |          |          |          |          |              |              |              |              | -1287.367635 |           |           |          |              |                  |               |                   |        |     |\n",
      "|  5 | G16LOGBlockParser | /home/tmj/proj/MolOP/tests/test_files/g16log/TS_ts_guess_FaFxyx_template_4-18_6-13_optts_conf_g16.log | TS_ts_guess_FaFxyx_template_4-18_6-13_optts_conf_g16.log | .log          | Gaussian 16:  ES64L-G16RevB.01 20-Dec-2017 |             5 |        0 |              1 | CNC(=O)C#[N+]/C(C(C)=O)=C(\\C)[O-].COC(=O)C#CC(F)(F)F | rb3lyp       | def2SVP |                 |           |    298.150000 | {'SCF Done': True, 'Maximum Force': False, 'RMS     Force': True, 'Maximum Displacement': False, 'RMS     Displacement': False}                       |          |          |          |          |              |              |              |              | -1287.367670 |           |           |          |              |                  |               |                   |        |     |\n",
      "|  6 | G16LOGBlockParser | /home/tmj/proj/MolOP/tests/test_files/g16log/TS_ts_guess_FaFxyx_template_4-18_6-13_optts_conf_g16.log | TS_ts_guess_FaFxyx_template_4-18_6-13_optts_conf_g16.log | .log          | Gaussian 16:  ES64L-G16RevB.01 20-Dec-2017 |             6 |        0 |              1 | CNC(=O)C#[N+]/C(C(C)=O)=C(\\C)[O-].COC(=O)C#CC(F)(F)F | rb3lyp       | def2SVP |                 |           |    298.150000 | {'SCF Done': True, 'Maximum Force': False, 'RMS     Force': False, 'Maximum Displacement': False, 'RMS     Displacement': False}                      |          |          |          |          |              |              |              |              | -1287.367368 |           |           |          |              |                  |               |                   |        |     |\n",
      "|  7 | G16LOGBlockParser | /home/tmj/proj/MolOP/tests/test_files/g16log/TS_ts_guess_FaFxyx_template_4-18_6-13_optts_conf_g16.log | TS_ts_guess_FaFxyx_template_4-18_6-13_optts_conf_g16.log | .log          | Gaussian 16:  ES64L-G16RevB.01 20-Dec-2017 |             7 |        0 |              1 | CNC(=O)C#[N+]/C(C(C)=O)=C(\\C)[O-].COC(=O)C#CC(F)(F)F | rb3lyp       | def2SVP |                 |           |    298.150000 | {'SCF Done': True, 'Maximum Force': False, 'RMS     Force': False, 'Maximum Displacement': False, 'RMS     Displacement': False}                      |          |          |          |          |              |              |              |              | -1287.367549 |           |           |          |              |                  |               |                   |        |     |\n",
      "|  8 | G16LOGBlockParser | /home/tmj/proj/MolOP/tests/test_files/g16log/TS_ts_guess_FaFxyx_template_4-18_6-13_optts_conf_g16.log | TS_ts_guess_FaFxyx_template_4-18_6-13_optts_conf_g16.log | .log          | Gaussian 16:  ES64L-G16RevB.01 20-Dec-2017 |             8 |        0 |              1 | CNC(=O)C#[N+]/C(C(C)=O)=C(\\C)[O-].COC(=O)C#CC(F)(F)F | rb3lyp       | def2SVP |                 |           |    298.150000 | {'SCF Done': True, 'Maximum Force': False, 'RMS     Force': False, 'Maximum Displacement': False, 'RMS     Displacement': False}                      |          |          |          |          |              |              |              |              | -1287.367630 |           |           |          |              |                  |               |                   |        |     |\n",
      "|  9 | G16LOGBlockParser | /home/tmj/proj/MolOP/tests/test_files/g16log/TS_ts_guess_FaFxyx_template_4-18_6-13_optts_conf_g16.log | TS_ts_guess_FaFxyx_template_4-18_6-13_optts_conf_g16.log | .log          | Gaussian 16:  ES64L-G16RevB.01 20-Dec-2017 |             9 |        0 |              1 | CNC(=O)C#[N+]/C(C(C)=O)=C(\\C)[O-].COC(=O)C#CC(F)(F)F | rb3lyp       | def2SVP |                 |           |    298.150000 | {'SCF Done': True, 'Maximum Force': True, 'RMS     Force': True, 'Maximum Displacement': False, 'RMS     Displacement': False}                        |          |          |          |          |              |              |              |              | -1287.367819 |           |           |          |              |                  |               |                   |        |     |\n",
      "| 10 | G16LOGBlockParser | /home/tmj/proj/MolOP/tests/test_files/g16log/TS_ts_guess_FaFxyx_template_4-18_6-13_optts_conf_g16.log | TS_ts_guess_FaFxyx_template_4-18_6-13_optts_conf_g16.log | .log          | Gaussian 16:  ES64L-G16RevB.01 20-Dec-2017 |            10 |        0 |              1 | CNC(=O)C#[N+]/C(C(C)=O)=C(\\C)[O-].COC(=O)C#CC(F)(F)F | rb3lyp       | def2SVP |                 |           |    298.150000 | {'SCF Done': True, 'Maximum Force': False, 'RMS     Force': False, 'Maximum Displacement': False, 'RMS     Displacement': False}                      |          |          |          |          |              |              |              |              | -1287.367148 |           |           |          |              |                  |               |                   |        |     |\n",
      "| 11 | G16LOGBlockParser | /home/tmj/proj/MolOP/tests/test_files/g16log/TS_ts_guess_FaFxyx_template_4-18_6-13_optts_conf_g16.log | TS_ts_guess_FaFxyx_template_4-18_6-13_optts_conf_g16.log | .log          | Gaussian 16:  ES64L-G16RevB.01 20-Dec-2017 |            11 |        0 |              1 | CNC(=O)C#[N+]/C(C(C)=O)=C(\\C)[O-].COC(=O)C#CC(F)(F)F | rb3lyp       | def2SVP |                 |           |    298.150000 | {'SCF Done': True, 'Maximum Force': False, 'RMS     Force': True, 'Maximum Displacement': False, 'RMS     Displacement': False}                       |          |          |          |          |              |              |              |              | -1287.367709 |           |           |          |              |                  |               |                   |        |     |\n",
      "| 12 | G16LOGBlockParser | /home/tmj/proj/MolOP/tests/test_files/g16log/TS_ts_guess_FaFxyx_template_4-18_6-13_optts_conf_g16.log | TS_ts_guess_FaFxyx_template_4-18_6-13_optts_conf_g16.log | .log          | Gaussian 16:  ES64L-G16RevB.01 20-Dec-2017 |            12 |        0 |              1 | CNC(=O)C#[N+]/C(C(C)=O)=C(\\C)[O-].COC(=O)C#CC(F)(F)F | rb3lyp       | def2SVP |                 |           |    298.150000 | {'SCF Done': True, 'Maximum Force': False, 'RMS     Force': False, 'Maximum Displacement': False, 'RMS     Displacement': False}                      |          |          |          |          |              |              |              |              | -1287.367516 |           |           |          |              |                  |               |                   |        |     |\n",
      "| 13 | G16LOGBlockParser | /home/tmj/proj/MolOP/tests/test_files/g16log/TS_ts_guess_FaFxyx_template_4-18_6-13_optts_conf_g16.log | TS_ts_guess_FaFxyx_template_4-18_6-13_optts_conf_g16.log | .log          | Gaussian 16:  ES64L-G16RevB.01 20-Dec-2017 |            13 |        0 |              1 | CNC(=O)C#[N+]/C(C(C)=O)=C(\\C)[O-].COC(=O)C#CC(F)(F)F | rb3lyp       | def2SVP |                 |           |    298.150000 | {'SCF Done': True, 'Maximum Force': False, 'RMS     Force': False, 'Maximum Displacement': False, 'RMS     Displacement': False}                      |          |          |          |          |              |              |              |              | -1287.367517 |           |           |          |              |                  |               |                   |        |     |\n",
      "| 14 | G16LOGBlockParser | /home/tmj/proj/MolOP/tests/test_files/g16log/TS_ts_guess_FaFxyx_template_4-18_6-13_optts_conf_g16.log | TS_ts_guess_FaFxyx_template_4-18_6-13_optts_conf_g16.log | .log          | Gaussian 16:  ES64L-G16RevB.01 20-Dec-2017 |            14 |        0 |              1 | CNC(=O)C#[N+]/C(C(C)=O)=C(\\C)[O-].COC(=O)C#CC(F)(F)F | rb3lyp       | def2SVP |                 |           |    298.150000 | {'SCF Done': True, 'Maximum Force': False, 'RMS     Force': False, 'Maximum Displacement': False, 'RMS     Displacement': False}                      |          |          |          |          |              |              |              |              | -1287.367778 |           |           |          |              |                  |               |                   |        |     |\n",
      "| 15 | G16LOGBlockParser | /home/tmj/proj/MolOP/tests/test_files/g16log/TS_ts_guess_FaFxyx_template_4-18_6-13_optts_conf_g16.log | TS_ts_guess_FaFxyx_template_4-18_6-13_optts_conf_g16.log | .log          | Gaussian 16:  ES64L-G16RevB.01 20-Dec-2017 |            15 |        0 |              1 | CNC(=O)C#[N+]/C(C(C)=O)=C(\\C)[O-].COC(=O)C#CC(F)(F)F | rb3lyp       | def2SVP |                 |           |    298.150000 | {'SCF Done': True, 'Maximum Force': False, 'RMS     Force': True, 'Maximum Displacement': False, 'RMS     Displacement': False}                       |          |          |          |          |              |              |              |              | -1287.367819 |           |           |          |              |                  |               |                   |        |     |\n",
      "| 16 | G16LOGBlockParser | /home/tmj/proj/MolOP/tests/test_files/g16log/TS_ts_guess_FaFxyx_template_4-18_6-13_optts_conf_g16.log | TS_ts_guess_FaFxyx_template_4-18_6-13_optts_conf_g16.log | .log          | Gaussian 16:  ES64L-G16RevB.01 20-Dec-2017 |            16 |        0 |              1 | CNC(=O)C#[N+]/C(C(C)=O)=C(\\C)[O-].COC(=O)C#CC(F)(F)F | rb3lyp       | def2SVP |                 |           |    298.150000 | {'SCF Done': True, 'Maximum Force': True, 'RMS     Force': True, 'Maximum Displacement': False, 'RMS     Displacement': False}                        |          |          |          |          |              |              |              |              | -1287.367859 |           |           |          |              |                  |               |                   |        |     |\n",
      "| 17 | G16LOGBlockParser | /home/tmj/proj/MolOP/tests/test_files/g16log/TS_ts_guess_FaFxyx_template_4-18_6-13_optts_conf_g16.log | TS_ts_guess_FaFxyx_template_4-18_6-13_optts_conf_g16.log | .log          | Gaussian 16:  ES64L-G16RevB.01 20-Dec-2017 |            17 |        0 |              1 | CNC(=O)C#[N+]/C(C(C)=O)=C(\\C)[O-].COC(=O)C#CC(F)(F)F | rb3lyp       | def2SVP |                 |           |    298.150000 | {'SCF Done': True, 'Maximum Force': True, 'RMS     Force': True, 'Maximum Displacement': False, 'RMS     Displacement': False}                        |          |          |          |          |              |              |              |              | -1287.367841 |           |           |          |              |                  |               |                   |        |     |\n",
      "| 18 | G16LOGBlockParser | /home/tmj/proj/MolOP/tests/test_files/g16log/TS_ts_guess_FaFxyx_template_4-18_6-13_optts_conf_g16.log | TS_ts_guess_FaFxyx_template_4-18_6-13_optts_conf_g16.log | .log          | Gaussian 16:  ES64L-G16RevB.01 20-Dec-2017 |            18 |        0 |              1 | CNC(=O)C#[N+]/C(C(C)=O)=C(\\C)[O-].COC(=O)C#CC(F)(F)F | rb3lyp       | def2SVP |                 |           |    298.150000 | {'SCF Done': True, 'Maximum Force': True, 'RMS     Force': True, 'Maximum Displacement': False, 'RMS     Displacement': False}                        |          |          |          |          |              |              |              |              | -1287.367860 |           |           |          |              |                  |               |                   |        |     |\n",
      "| 19 | G16LOGBlockParser | /home/tmj/proj/MolOP/tests/test_files/g16log/TS_ts_guess_FaFxyx_template_4-18_6-13_optts_conf_g16.log | TS_ts_guess_FaFxyx_template_4-18_6-13_optts_conf_g16.log | .log          | Gaussian 16:  ES64L-G16RevB.01 20-Dec-2017 |            19 |        0 |              1 | CNC(=O)C#[N+]/C(C(C)=O)=C(\\C)[O-].COC(=O)C#CC(F)(F)F | rb3lyp       | def2SVP |                 |           |    298.150000 | {'SCF Done': True, 'Maximum Force': True, 'RMS     Force': True, 'Maximum Displacement': False, 'RMS     Displacement': False}                        |          |          |          |          |              |              |              |              | -1287.367861 |           |           |          |              |                  |               |                   |        |     |\n",
      "| 20 | G16LOGBlockParser | /home/tmj/proj/MolOP/tests/test_files/g16log/TS_ts_guess_FaFxyx_template_4-18_6-13_optts_conf_g16.log | TS_ts_guess_FaFxyx_template_4-18_6-13_optts_conf_g16.log | .log          | Gaussian 16:  ES64L-G16RevB.01 20-Dec-2017 |            20 |        0 |              1 | CNC(=O)C#[N+]/C(C(C)=O)=C(\\C)[O-].COC(=O)C#CC(F)(F)F | rb3lyp       | def2SVP |                 |           |    298.150000 | {'SCF Done': True, 'Maximum Force': True, 'RMS     Force': True, 'Maximum Displacement': False, 'RMS     Displacement': False}                        |          |          |          |          |              |              |              |              | -1287.367861 |           |           |          |              |                  |               |                   |        |     |\n",
      "| 21 | G16LOGBlockParser | /home/tmj/proj/MolOP/tests/test_files/g16log/TS_ts_guess_FaFxyx_template_4-18_6-13_optts_conf_g16.log | TS_ts_guess_FaFxyx_template_4-18_6-13_optts_conf_g16.log | .log          | Gaussian 16:  ES64L-G16RevB.01 20-Dec-2017 |            21 |        0 |              1 | CNC(=O)C#[N+]/C(C(C)=O)=C(\\C)[O-].COC(=O)C#CC(F)(F)F | rb3lyp       | def2SVP |                 |           |    298.150000 | {'SCF Done': True, 'Maximum Force': True, 'RMS     Force': True, 'Maximum Displacement': False, 'RMS     Displacement': False}                        |          |          |          |          |              |              |              |              | -1287.367857 |           |           |          |              |                  |               |                   |        |     |\n",
      "| 22 | G16LOGBlockParser | /home/tmj/proj/MolOP/tests/test_files/g16log/TS_ts_guess_FaFxyx_template_4-18_6-13_optts_conf_g16.log | TS_ts_guess_FaFxyx_template_4-18_6-13_optts_conf_g16.log | .log          | Gaussian 16:  ES64L-G16RevB.01 20-Dec-2017 |            22 |        0 |              1 | CNC(=O)C#[N+]/C(C(C)=O)=C(\\C)[O-].COC(=O)C#CC(F)(F)F | rb3lyp       | def2SVP |                 |           |    298.150000 | {'SCF Done': True, 'Maximum Force': True, 'RMS     Force': True, 'Maximum Displacement': False, 'RMS     Displacement': False}                        |          |          |          |          |              |              |              |              | -1287.367861 |           |           |          |              |                  |               |                   |        |     |\n",
      "| 23 | G16LOGBlockParser | /home/tmj/proj/MolOP/tests/test_files/g16log/TS_ts_guess_FaFxyx_template_4-18_6-13_optts_conf_g16.log | TS_ts_guess_FaFxyx_template_4-18_6-13_optts_conf_g16.log | .log          | Gaussian 16:  ES64L-G16RevB.01 20-Dec-2017 |            23 |        0 |              1 | CNC(=O)C#[N+]/C(C(C)=O)=C(\\C)[O-].COC(=O)C#CC(F)(F)F | rb3lyp       | def2SVP |                 |           |    298.150000 | {'SCF Done': True, 'Maximum Force': True, 'RMS     Force': True, 'Maximum Displacement': False, 'RMS     Displacement': True}                         |          |          |          |          |              |              |              |              | -1287.367861 |           |           |          |              |                  |               |                   |        |     |\n",
      "| 24 | G16LOGBlockParser | /home/tmj/proj/MolOP/tests/test_files/g16log/TS_ts_guess_FaFxyx_template_4-18_6-13_optts_conf_g16.log | TS_ts_guess_FaFxyx_template_4-18_6-13_optts_conf_g16.log | .log          | Gaussian 16:  ES64L-G16RevB.01 20-Dec-2017 |            24 |        0 |              1 | CNC(=O)C#[N+]/C(C(C)=O)=C(\\C)[O-].COC(=O)C#CC(F)(F)F | rb3lyp       | def2SVP |                 |           |    298.150000 | {'SCF Done': True, 'Maximum Force': True, 'RMS     Force': True, 'Maximum Displacement': True, 'RMS     Displacement': True}                          |          |          |          |          |              |              |              |              | -1287.367861 |           |           |          |              |                  |               |                   |        |     |\n",
      "| 25 | G16LOGBlockParser | /home/tmj/proj/MolOP/tests/test_files/g16log/TS_ts_guess_FaFxyx_template_4-18_6-13_optts_conf_g16.log | TS_ts_guess_FaFxyx_template_4-18_6-13_optts_conf_g16.log | .log          | Gaussian 16:  ES64L-G16RevB.01 20-Dec-2017 |            25 |        0 |              1 | CNC(=O)C#[N+]/C(C(C)=O)=C(\\C)[O-].COC(=O)C#CC(F)(F)F | rb3lyp       | def2SVP |                 |           |    298.150000 | {'termination': 'Normal'}                                                                                                                             |          |          |          |          |              |              |              |              | -1287.367861 | -0.254470 | -0.110050 | 0.144420 |              |                  |               |                   |        |     |\n",
      "| 26 | G16LOGBlockParser | /home/tmj/proj/MolOP/tests/test_files/g16log/TS_ts_guess_FaFxyx_template_4-18_6-13_optts_conf_g16.log | TS_ts_guess_FaFxyx_template_4-18_6-13_optts_conf_g16.log | .log          | Gaussian 16:  ES64L-G16RevB.01 20-Dec-2017 |            26 |        0 |              1 | CNC(=O)C#[N+]/C(C(C)=O)=C(\\C)[O-].COC(=O)C#CC(F)(F)F | rb3lyp       | def2SVP |                 |           |    298.150000 | {'SCF Done': True, 'Maximum Force': True, 'RMS     Force': True, 'Maximum Displacement': True, 'RMS     Displacement': True, 'termination': 'Normal'} | 0.252491 | 0.277515 | 0.278460 | 0.195753 | -1287.115370 | -1287.090345 | -1287.089401 | -1287.172107 | -1287.367861 | -0.254470 | -0.110050 | 0.144420 |  -252.410000 | True             |     25.866300 | False             |        |     |\n"
     ]
    }
   ],
   "source": [
    "molop_result = molop_parser(\"../../tests/test_files/g16log/*.log\")\n",
    "print(molop_result[9].to_summary_df().to_markdown(floatfmt=\".6f\"))"
   ]
  },
  {
   "cell_type": "code",
   "execution_count": null,
   "metadata": {},
   "outputs": [],
   "source": []
  }
 ],
 "metadata": {
  "kernelspec": {
   "display_name": "molop",
   "language": "python",
   "name": "python3"
  },
  "language_info": {
   "codemirror_mode": {
    "name": "ipython",
    "version": 3
   },
   "file_extension": ".py",
   "mimetype": "text/x-python",
   "name": "python",
   "nbconvert_exporter": "python",
   "pygments_lexer": "ipython3",
   "version": "3.8.19"
  }
 },
 "nbformat": 4,
 "nbformat_minor": 2
}
