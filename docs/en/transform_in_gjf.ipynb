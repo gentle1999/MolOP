{
 "cells": [
  {
   "cell_type": "markdown",
   "metadata": {},
   "source": [
    "# Transform in GJF\n",
    "\n",
    "Continuing to a higher level of optimization based on the optimized structure is a very common step in quantum chemistry computational workflows. MolOP provides some simple interfaces to simplify the manpower required for this step."
   ]
  },
  {
   "cell_type": "markdown",
   "metadata": {},
   "source": [
    "An GJF file example\n",
    "\n",
    "```\n",
    "%nprocshared=32\n",
    "%mem=60GB\n",
    "# opt=(modredundant,maxcycle=150) freq b3lyp/genecp\n",
    "empiricaldispersion=gd3bj\n",
    "\n",
    "Title Card Required\n",
    "\n",
    "0 3\n",
    "C      0.000000    0.000000    0.000000\n",
    "C      2.307938    0.000000    0.000000\n",
    "C      0.551281    1.455665    0.000000\n",
    "H     -0.534948   -0.259711    0.912472\n",
    "H      0.285704    2.016486   -0.895964\n",
    "H      0.278983    2.038113    0.877842\n",
    "H     -0.583783   -0.246039   -0.885189\n",
    "N      2.047530    1.259741    0.008719\n",
    "O      1.243330   -0.862692   -0.039545\n",
    "C      6.760990    0.754338    1.457474\n",
    "C      4.696381    0.278635    0.542206\n",
    "C      5.943716    2.058450    1.244045\n",
    "H      7.640334    0.698190    0.816078\n",
    "H      5.677849    2.549412    2.181628\n",
    "H      6.448703    2.757574    0.572429\n",
    "H      7.014602    0.553909    2.496806\n",
    "N      4.665040    1.565793    0.595429\n",
    "O      5.823460   -0.343458    1.010135\n",
    "C      3.669713   -0.627992   -0.076903\n",
    "Cu     3.328877    2.665479   -0.156937\n",
    "C      3.669647   -2.004753    0.618788\n",
    "H      3.418008   -1.901497    1.677888\n",
    "H      2.927090   -2.643755    0.139759\n",
    "H      4.662067   -2.447796    0.532686\n",
    "C      4.032693   -0.776346   -1.592101\n",
    "H      5.011220   -1.257391   -1.673191\n",
    "H      3.276414   -1.398086   -2.078448\n",
    "H      4.072352    0.208312   -2.067119\n",
    "Cl     1.984177    4.360351    0.662558\n",
    "C      4.248440    3.374850   -1.648000\n",
    "C      3.512436    4.138486   -2.590439\n",
    "C      5.351886    2.615216   -2.213984\n",
    "C      3.833929    4.212685   -3.960867\n",
    "H      2.670980    4.722276   -2.226903\n",
    "C      5.679945    2.648866   -3.535885\n",
    "H      5.948133    2.004560   -1.548212\n",
    "C      3.087301    5.007282   -4.877240\n",
    "C      4.943160    3.452355   -4.465498\n",
    "H      6.505340    2.052703   -3.915505\n",
    "C      3.420661    5.047067   -6.214080\n",
    "H      2.252792    5.586396   -4.497123\n",
    "C      5.259272    3.513231   -5.837046\n",
    "C      4.514823    4.296129   -6.703083\n",
    "H      2.845527    5.659514   -6.898918\n",
    "H      6.102062    2.937454   -6.205614\n",
    "H      4.768346    4.338520   -7.755516\n",
    "C      5.060314    4.865996   -0.477921\n",
    "C      5.240120    5.316797    0.956396\n",
    "C      3.920694    5.650205   -1.060827\n",
    "H      6.085619    6.027416    1.054496\n",
    "H      4.342828    5.850493    1.313600\n",
    "H      5.417306    4.417944    1.564324\n",
    "H      4.093230    6.744897   -1.056296\n",
    "H      3.054893    5.495011   -0.349155\n",
    "H      3.596217    5.319376   -2.048973\n",
    "N      6.305899    4.994915   -1.164331\n",
    "C      6.919490    6.261898   -0.982562\n",
    "C      7.155876    3.867002   -1.123161\n",
    "H      7.978195    6.257478   -0.730739\n",
    "H      6.374238    6.806878   -0.168969\n",
    "H      6.773673    6.850107   -1.931221\n",
    "H      7.117626    3.362632   -2.124633\n",
    "H      8.219510    4.067568   -0.925336\n",
    "H      6.786111    3.155320   -0.341766\n",
    "\n",
    "B 31 39 F\n",
    "\n",
    "-H -Li -Na -K -Mg -B -Al -C -Si -N -P -O -S -F -Cl 0\n",
    "6-31G*\n",
    "****\n",
    "-Cs -Fe -Co -Ni -Cu -Ag -Au -Pd -Ru -Rh -Os -Ir -Pt -Br -I 0\n",
    "lanl2dz\n",
    "****\n",
    "\n",
    "-Cs -Fe -Co -Ni -Cu -Ag -Au -Pd -Ru -Rh -Os -Ir -Pt -Br -I 0\n",
    "lanl2dz\n",
    "```"
   ]
  },
  {
   "cell_type": "markdown",
   "metadata": {},
   "source": [
    "The structure of GJF is:\n",
    "\n",
    "- prefix (calculation parameters)\n",
    "- title\n",
    "- charge and multiplicity\n",
    "- atoms and coords\n",
    "- suffix (basis sets or more)"
   ]
  },
  {
   "cell_type": "markdown",
   "metadata": {},
   "source": [
    "Load some files"
   ]
  },
  {
   "cell_type": "code",
   "execution_count": 1,
   "metadata": {},
   "outputs": [
    {
     "name": "stderr",
     "output_type": "stream",
     "text": [
      "MolOP parsing with 16 jobs: 100%|██████████| 85/85 [00:02<00:00, 34.76it/s]\n",
      "INFO - 0 files failed to parse, 85 successfully parsed\n"
     ]
    }
   ],
   "source": [
    "from molop import AutoParser\n",
    "from rdkit.Chem import Draw\n",
    "from rdkit.Chem.Draw import IPythonConsole  # for better drawing\n",
    "\n",
    "IPythonConsole.drawOptions.addAtomIndices = True\n",
    "IPythonConsole.molSize = 400, 400\n",
    "\n",
    "files = AutoParser(\"../../tests/test_files/g16log/*.log\")"
   ]
  },
  {
   "cell_type": "code",
   "execution_count": 2,
   "metadata": {},
   "outputs": [
    {
     "data": {
      "image/png": "[encoded data removed]",
      "text/plain": [
       "<rdkit.Chem.rdchem.Mol at 0x721176dec970>"
      ]
     },
     "execution_count": 2,
     "metadata": {},
     "output_type": "execute_result"
    }
   ],
   "source": [
    "files[0][-1].rdmol"
   ]
  },
  {
   "cell_type": "markdown",
   "metadata": {},
   "source": [
    "MolOP offers some functions to transform the molecule into customized gjf file."
   ]
  },
  {
   "cell_type": "code",
   "execution_count": 3,
   "metadata": {},
   "outputs": [
    {
     "name": "stdout",
     "output_type": "stream",
     "text": [
      "%chk=1.chk\n",
      "%oldchk=1.chk\n",
      "# g16 gjf\n",
      "\n",
      " Title: 1\n",
      "\n",
      "0 1\n",
      "H             3.36666700    0.68333300    0.00000000\n",
      "H             2.76666700    0.68333300    0.00000000\n",
      "\n",
      "some basis\n",
      "\n",
      "\n"
     ]
    }
   ],
   "source": [
    "print(\n",
    "    files[0][0].to_GJF_block(\n",
    "        # If specified, will be used to overwrite the charge in the gjf file\n",
    "        charge=None,\n",
    "        # If specified, will be used to overwrite the multiplicity in the gjf file\n",
    "        multiplicity=None,\n",
    "        # path to read a gjf file as a template\n",
    "        template=None,\n",
    "        # prefix to add to the beginning of the gjf file, priority is lower than template\n",
    "        prefix=\"# g16 gjf\",\n",
    "        # suffix to add to the end of the gjf file, priority is lower than template\n",
    "        suffix=\"some basis\",\n",
    "        # If true, add the chk keyword to the link0 section. Will use the file name as the chk file name.\n",
    "        chk=True,\n",
    "        # If true, add the oldchk keyword to the link0 section. Will use the file name as the chk file name.\n",
    "        oldchk=True,\n",
    "    )\n",
    ")"
   ]
  },
  {
   "cell_type": "markdown",
   "metadata": {},
   "source": [
    "Use template"
   ]
  },
  {
   "cell_type": "code",
   "execution_count": 4,
   "metadata": {},
   "outputs": [
    {
     "name": "stdout",
     "output_type": "stream",
     "text": [
      "%chk=1.chk\n",
      "%oldchk=1.chk\n",
      "# g16 gjf\n",
      "\n",
      " Title: 1\n",
      "\n",
      "1 3\n",
      "H             3.36666700    0.68333300    0.00000000\n",
      "H             2.76666700    0.68333300    0.00000000\n",
      "\n",
      "some basis\n",
      "\n",
      "\n"
     ]
    }
   ],
   "source": [
    "print(\n",
    "    files[0][0].to_GJF_block(\n",
    "        # If specified, will be used to overwrite the charge in the gjf file\n",
    "        charge=1,\n",
    "        # If specified, will be used to overwrite the multiplicity in the gjf file\n",
    "        multiplicity=3,\n",
    "        # path to read a gjf file as a template\n",
    "        template=\"../../tests/test_files/g16gjf/test.gjf\",\n",
    "        # prefix to add to the beginning of the gjf file, priority is lower than template\n",
    "        prefix=\"# g16 gjf\",\n",
    "        # suffix to add to the end of the gjf file, priority is lower than template\n",
    "        suffix=\"some basis\",\n",
    "        # If true, add the chk keyword to the link0 section. Will use the file name as the chk file name.\n",
    "        chk=True,\n",
    "        # If true, add the oldchk keyword to the link0 section. Will use the file name as the chk file name.\n",
    "        oldchk=True,\n",
    "    )\n",
    ")"
   ]
  },
  {
   "cell_type": "markdown",
   "metadata": {},
   "source": [
    "For file level, MolOP offers the similar functions"
   ]
  },
  {
   "cell_type": "code",
   "execution_count": 5,
   "metadata": {},
   "outputs": [
    {
     "name": "stdout",
     "output_type": "stream",
     "text": [
      "%chk=1.chk\n",
      "%oldchk=1.chk\n",
      "# g16 gjf\n",
      "\n",
      " Title: 1\n",
      "\n",
      "1 3\n",
      "H             3.43815600    0.68333300    0.00000000\n",
      "H             2.69517700    0.68333300   -0.00000000\n",
      "\n",
      "some basis\n",
      "\n",
      "\n"
     ]
    }
   ],
   "source": [
    "print(\n",
    "    files[0].to_GJF_block(\n",
    "        # If specified, will be used to overwrite the charge in the gjf file\n",
    "        charge=1,\n",
    "        # If specified, will be used to overwrite the multiplicity in the gjf file\n",
    "        multiplicity=3,\n",
    "        # path to read a gjf file as a template\n",
    "        template=\"../../tests/test_files/g16gjf/test.gjf\",\n",
    "        # prefix to add to the beginning of the gjf file, priority is lower than template\n",
    "        prefix=\"# g16 gjf\",\n",
    "        # suffix to add to the end of the gjf file, priority is lower than template\n",
    "        suffix=\"some basis\",\n",
    "        # If true, add the chk keyword to the link0 section. Will use the file name as the chk file name.\n",
    "        chk=True,\n",
    "        # If true, add the oldchk keyword to the link0 section. Will use the file name as the chk file name.\n",
    "        oldchk=True,\n",
    "        # If specified, will use the frameID to get the coords, default is -1\n",
    "        frameID=-1,\n",
    "    )\n",
    ")"
   ]
  },
  {
   "cell_type": "markdown",
   "metadata": {},
   "source": [
    "Functions above both have to-file vesion."
   ]
  },
  {
   "cell_type": "code",
   "execution_count": 6,
   "metadata": {},
   "outputs": [
    {
     "data": {
      "text/plain": [
       "'/home/tmj/proj/MolOP/tests/test_files/temp/test.gjf'"
      ]
     },
     "execution_count": 6,
     "metadata": {},
     "output_type": "execute_result"
    }
   ],
   "source": [
    "files[0][0].to_GJF_file(\n",
    "    # If not specified, will be generated in situ\n",
    "    file_path=\"../../tests/test_files/temp/test.gjf\",\n",
    "    # If specified, will be used to overwrite the charge in the gjf file\n",
    "    charge=1,\n",
    "    # If specified, will be used to overwrite the multiplicity in the gjf file\n",
    "    multiplicity=3,\n",
    "    # path to read a gjf file as a template\n",
    "    template=\"../../tests/test_files/g16gjf/test.gjf\",\n",
    "    # prefix to add to the beginning of the gjf file, priority is lower than template\n",
    "    prefix=\"# g16 gjf\",\n",
    "    # suffix to add to the end of the gjf file, priority is lower than template\n",
    "    suffix=\"some basis\",\n",
    "    # If true, add the chk keyword to the link0 section. Will use the file name as the chk file name.\n",
    "    chk=True,\n",
    "    # If true, add the oldchk keyword to the link0 section. Will use the file name as the chk file name.\n",
    "    oldchk=True,\n",
    ")\n",
    "# return the file path saved to"
   ]
  },
  {
   "cell_type": "code",
   "execution_count": 7,
   "metadata": {},
   "outputs": [
    {
     "data": {
      "text/plain": [
       "'/home/tmj/proj/MolOP/tests/test_files/temp/test.gjf'"
      ]
     },
     "execution_count": 7,
     "metadata": {},
     "output_type": "execute_result"
    }
   ],
   "source": [
    "files[0].to_GJF_file(\n",
    "    # If not specified, will be generated in situ\n",
    "    file_path=\"../../tests/test_files/temp/test.gjf\",\n",
    "    # If specified, will be used to overwrite the charge in the gjf file\n",
    "    charge=1,\n",
    "    # If specified, will be used to overwrite the multiplicity in the gjf file\n",
    "    multiplicity=3,\n",
    "    # path to read a gjf file as a template\n",
    "    template=\"../../tests/test_files/g16gjf/test.gjf\",\n",
    "    # prefix to add to the beginning of the gjf file, priority is lower than template\n",
    "    prefix=\"# g16 gjf\",\n",
    "    # suffix to add to the end of the gjf file, priority is lower than template\n",
    "    suffix=\"some basis\",\n",
    "    # If true, add the chk keyword to the link0 section. Will use the file name as the chk file name.\n",
    "    chk=True,\n",
    "    # If true, add the oldchk keyword to the link0 section. Will use the file name as the chk file name.\n",
    "    oldchk=True,\n",
    "    # If specified, will use the frameID to get the coords, default is -1\n",
    "    frameID=-1,\n",
    ")\n",
    "# return the file path saved to"
   ]
  },
  {
   "cell_type": "markdown",
   "metadata": {},
   "source": [
    "FileBatch level offers a function to transform in batch"
   ]
  },
  {
   "cell_type": "code",
   "execution_count": 8,
   "metadata": {},
   "outputs": [
    {
     "name": "stderr",
     "output_type": "stream",
     "text": [
      "INFO - gjf files saved to /home/tmj/proj/MolOP/tests/test_files/temp\n"
     ]
    }
   ],
   "source": [
    "files.to_GJF_file(\n",
    "    # If not specified, will be generated the work directory\n",
    "    file_path=\"../../tests/test_files/temp\",\n",
    "    # If specified, will be used to overwrite the charge in the gjf file\n",
    "    charge=1,\n",
    "    # If specified, will be used to overwrite the multiplicity in the gjf file\n",
    "    multiplicity=3,\n",
    "    # path to read a gjf file as a template\n",
    "    template=\"../../tests/test_files/g16gjf/test.gjf\",\n",
    "    # prefix to add to the beginning of the gjf file, priority is lower than template\n",
    "    prefix=\"# g16 gjf\",\n",
    "    # suffix to add to the end of the gjf file, priority is lower than template\n",
    "    suffix=\"some basis\",\n",
    "    # If true, add the chk keyword to the link0 section. Will use the file name as the chk file name.\n",
    "    chk=True,\n",
    "    # If true, add the oldchk keyword to the link0 section. Will use the file name as the chk file name.\n",
    "    oldchk=True,\n",
    "    # If specified, will use the frameID to get the coords, default is -1\n",
    "    frameID=-1,\n",
    ")"
   ]
  },
  {
   "cell_type": "code",
   "execution_count": null,
   "metadata": {},
   "outputs": [],
   "source": []
  }
 ],
 "metadata": {
  "kernelspec": {
   "display_name": "molop",
   "language": "python",
   "name": "python3"
  },
  "language_info": {
   "codemirror_mode": {
    "name": "ipython",
    "version": 3
   },
   "file_extension": ".py",
   "mimetype": "text/x-python",
   "name": "python",
   "nbconvert_exporter": "python",
   "pygments_lexer": "ipython3",
   "version": "3.8.19"
  }
 },
 "nbformat": 4,
 "nbformat_minor": 2
}
