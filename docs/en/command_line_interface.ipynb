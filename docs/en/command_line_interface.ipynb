{
 "cells": [
  {
   "cell_type": "markdown",
   "metadata": {},
   "source": [
    "# Command line interface\n",
    "\n",
    "MolOP also provides a simple command line interface for basic information extraction and format conversion. It is worth noting that, thanks to the chaining function calls provided by the [fire library](https://github.com/google/python-fire), the various commands of the MolOP CLI can be used in concert."
   ]
  },
  {
   "cell_type": "markdown",
   "metadata": {},
   "source": [
    "A complex example of using molop to read files and extract information. This script completed 5 tasks:\n",
    "\n",
    "1. Read specific files and extract information with each last frame.\n",
    "2. Transform the structures to GJF format.\n",
    "3. Save the summary datasheet of the files.\n",
    "4. Transform the structures to cdxml format.\n",
    "5. Print out the smiles of the structures."
   ]
  },
  {
   "cell_type": "code",
   "execution_count": 1,
   "metadata": {},
   "outputs": [
    {
     "name": "stdout",
     "output_type": "stream",
     "text": [
      "MolOP parsing with 16 jobs: 100%|███████████████| 85/85 [00:01<00:00, 44.34it/s]\n",
      "INFO - 0 files failed to parse, 85 successfully parsed\n",
      "INFO - gjf files saved to /home/tmj/proj/MolOP/tests/test_files/temp\n",
      "INFO - summary csv saved to /home/tmj/proj/MolOP/tests/test_files/temp/summary.csv\n",
      "INFO - chemdraw files saved to /home/tmj/proj/MolOP/tests/test_files/temp\n",
      "[H][H]\n",
      "CC[C@H](C)[C@@H]1NC(=O)[C@H](CC(N)=O)NC(=O)[C@@H](NC(=O)CNC(=O)[C@@H](N[C-](C)[O-])[C@@H](C)CC)CC2=O->[Rh+3]345<-O=CO[Rh-](<-O)(OC=O->3)(O2)OC(=O->4)C[C@@H](C(=O)N[C@@H](Cc2c[nH]cn->52)C(=O)N[C@@H](CCCCNC(C)=O)C(=O)NC)NC(=O)[C@H](CC(N)=O)NC1=O\n",
      "C=C[C@H]1[C@@H]2[C@H](C[C@@]1(C)O)OC[C@@H]2C\n",
      "CCC[C@H]1CO[C@H]2C[C@@](C)(O)C[C@@H]12\n",
      "C=CC(c1ccccc1)[Pd-](Cl)C1=[N+](c2c(C(C)C)cccc2C(C)C)[C@H](c2ccccc2)[C@@H](c2ccccc2)N1c1c(C(C)C)cccc1C(C)C\n",
      "[CH3]\n",
      "O\n",
      "C[P+](C)(C)[C@@H]1C2C=CC3C1[Mn-3]32(C#[O+])(C#[O+])C#[O+]\n",
      "C[P+](C)(C)[C@@H]1C2C=CC3C1[Mn-3]32(C#[O+])(C#[O+])C#[O+]\n",
      "CC=C([O-])N(c1ccccc1)[Cu]1(Oc2ccccc2)N2C(=CC3=N->1[C@H](C(C)(C)C)CO3)OC[C@H]2C(C)(C)C\n",
      "Br[Ni](Br)(SCc1ccccc1)(c1ccccc1)(<-n1cc[nH]c1)<-n1cc[nH]c1\n",
      "CNC(=O)C#[N+]/C(C(C)=O)=C(/C)[O-].COC(=O)C#CC(F)(F)F\n",
      "CNC(=O)C#[N+]/C(C(C)=O)=C(/C)[O-].COC(=O)C#CC(F)(F)F\n",
      "O=C(/[NH+]=C/c1ccccc1)c1ccccc1.O=P1(O)Oc2c(-c3ccccc3)cc3ccccc3c2-c2c(c(-c3ccccc3)cc3ccccc23)O1.S=c1cccc[cH-]1\n",
      "C=[N+](C)[N-]C.COC(=O)[C@@]1(OC)C#CC(Br)(Br)CCCC1\n",
      "CNC(=O)C#[N+]/C(C(C)=O)=C(\\C)[O-].COC(=O)C#CC(F)(F)F\n",
      "CC=C=[N+](C)S(C)(=O)=O\n",
      "CC=C=[N+](C)S(C)(=O)=O\n",
      "CC=C=[N+](C(F)(F)F)S(C)(=O)=O\n",
      "CC=C=[N+](c1ccccc1)S(C)(=O)=O\n",
      "CC=C=[N+](C)S(C)(=O)=O\n",
      "CC=C=[N+](C)S(C)(=O)=O\n",
      "CC=C=[N+](C(F)(F)F)S(C)(=O)=O\n",
      "CC=C=[N+](C(F)(F)F)S(C)(=O)=O\n",
      "CC=C=[N+](C(F)(F)F)S(C)(=O)=O\n",
      "CC=C=[N+](c1ccccc1)S(C)(=O)=O\n",
      "CC=C=[N+](c1ccccc1)S(C)(=O)=O\n",
      "CC=C=[N+](c1ccccc1)S(C)(=O)=O\n",
      "C=CC(Cl)=[N+]([O-])[O-]\n",
      "[H]\n",
      "C[NH+]=C(C(=O)OC)c1ccccc1\n",
      "C[NH+]=C(c1ccccc1)[N+](=O)[O-]\n",
      "[CH3-]\n",
      "C#C[CH-]C#C\n",
      "CC/C(C)=N/[O-]\n",
      "[C+]#CC#CC#C\n",
      "[C+]1=C[C@H]2O[C@H]2C1\n",
      "C1[C@@H]2[C]3CN2[C@@H]13\n",
      "[H]/N=c1/[cH-]onn1\n",
      "O=C1C=C=[N+]=CN1\n",
      "Oc1nc[c]cn1\n",
      "Oc1n[c-]ncn1\n",
      "N/C=N/C=C(/[O-])O\n",
      "COC1=NCC[N-]1\n",
      "O=CN[CH][C@H]1CO1\n",
      "N#N.O=C=CC=O\n",
      "[CH2-][NH2+]C/C(CO)=N/[O-]\n",
      "Cc1[n-]c(O)nc1O\n",
      "Nc1[n-]c(O)nc1O\n",
      "O=CC1=CN=C(O)[N]1\n",
      "C#CC1=[O+][C-]=C(O)[N]1\n",
      "NC1(N)OCC(=O)O1\n",
      "N#C[C-](C#N)/[NH+]=C/N\n",
      "O=C1[C@@H]2C3=[O+][C@@H]2[C@@H]1C=C3\n",
      "C1=C[N-]N2C=C[N]C2=[N+]=1\n",
      "Cc1[c]n2cnnc2o1\n",
      "Cc1[c]n2ncnc2o1\n",
      "C[C]1[C@H]2c3[n-]cn[n+]3[C@@H]12\n",
      "C[C@H]1C=[O+]C(N=[N-])=C1[O]\n",
      "Cc1oc(N=[N-])c([O])[o+]1\n",
      "CCn1n[c]oc1=NC\n",
      "CCN=c1o[c]nn1C\n",
      "CCNC1=C=C(N)[N]O1\n",
      "N#C[C]1N=NN=C1C#N\n",
      "N[CH-]NC1=NC(O)=[N+]=N1\n",
      "C1=[O+]N=C2[N-]C=N[CH]C=12\n",
      "[C]1=[N+]=C[N-]c2nocc21\n",
      "C1=C[C]2C=C[N-]C2=N[O+]=1\n",
      "[c]1ncnc2n[o+][n-]c12\n",
      "[O-]c1onc2c1[CH-][NH2+]C2\n",
      "[O-]c1onc2c1C[NH2+]C2\n",
      "C[N+]1=C=CC([N+](=O)[O-])=C1\n",
      "[NH2+]=c1[nH]ccc(F)c1[O-]\n",
      "C#C[C@@H]1N2C#[N+][CH-][C@]12C\n",
      "C[C@@]12[C]3C4=C[C@@H]1C[C@H]4N32\n",
      "C[C@H]1[C-]2CC=C3C=[N+]1[C@@H]32\n",
      "C[C@@H]1[C@H](C)C2=C(CC2)[C@@H]1C\n",
      "Oc1ccc2ccccc2c1\n",
      "C/C([O-])=N/[N+]#N\n",
      "CN/C([O-])=N/[O+]=N\\c1ccccc1\n",
      "C=C[C](Cc1ccccc1)C(=O)OC\n",
      "[H-]\n",
      "[H]\n",
      "[H-]\n",
      "[H-]\n"
     ]
    }
   ],
   "source": [
    "! molop read \"../../tests/test_files/g16log/*.log\" --only_last_frame - gjf \"../../tests/test_files/temp\" --chk --template=\"../../tests/test_files/g16gjf/test.gjf\" - summary \"../../tests/test_files/temp\" - chemdraw \"../../tests/test_files/temp\" - smiles - end"
   ]
  },
  {
   "cell_type": "markdown",
   "metadata": {},
   "source": [
    "You can use MolOP CLI to do seprate tasks of course. There are the available commands:"
   ]
  },
  {
   "cell_type": "code",
   "execution_count": 2,
   "metadata": {},
   "outputs": [
    {
     "name": "stdout",
     "output_type": "stream",
     "text": [
      "\u001b[1mNAME\u001b[0m\n",
      "    molop - CLI for MolOP.\n",
      "\n",
      "\u001b[1mSYNOPSIS\u001b[0m\n",
      "    molop \u001b[4mCOMMAND\u001b[0m | \u001b[4mVALUE\u001b[0m\n",
      "\n",
      "\u001b[1mDESCRIPTION\u001b[0m\n",
      "    CLI for MolOP.\n",
      "\n",
      "\u001b[1mCOMMANDS\u001b[0m\n",
      "    \u001b[1m\u001b[4mCOMMAND\u001b[0m\u001b[0m is one of the following:\n",
      "\n",
      "     auto\n",
      "       Auto process the current directory.\n",
      "\n",
      "     charge\n",
      "       Filter the file batch by charge.\n",
      "\n",
      "     chemdraw\n",
      "       Save the cdxml file of specified frames of each file.\n",
      "\n",
      "     end\n",
      "       End the command chain, stop printing help comments.\n",
      "\n",
      "     error\n",
      "       Filter the file batch by error judgement.\n",
      "\n",
      "     format\n",
      "       Filter the file batch by format. e.g. \"sdf\" or \".sdf\" are equal.\n",
      "\n",
      "     gjf\n",
      "       Save the GJF file of any frame of each file.\n",
      "\n",
      "     log_off\n",
      "       Turn off the log.\n",
      "\n",
      "     log_on\n",
      "       Turn on the log.\n",
      "\n",
      "     multi\n",
      "       Filter the file batch by multiplicity.\n",
      "\n",
      "     normal\n",
      "       Filter the file batch by normal judgement.\n",
      "\n",
      "     paths\n",
      "       Print the file paths of each file.\n",
      "\n",
      "     quiet\n",
      "       Quiet the command chain, stop printing logs.\n",
      "\n",
      "     read\n",
      "       Read the files given and set the file batch object.\n",
      "\n",
      "     sdf\n",
      "       Save the SDF file of all frames of each file.\n",
      "\n",
      "     smiles\n",
      "       Print the SMILES of last frame of each files.\n",
      "\n",
      "     summary\n",
      "       Save the summary csv file.\n",
      "\n",
      "     ts\n",
      "       Filter the file batch by TS judgement, which means the structure has a unique imagnary frequency.\n",
      "\n",
      "     verbose\n",
      "       Verbose the command chain, print logs.\n",
      "\n",
      "     xyz\n",
      "       Save the XYZ file of all frames of each file.\n",
      "\n",
      "\u001b[1mVALUES\u001b[0m\n",
      "    \u001b[1m\u001b[4mVALUE\u001b[0m\u001b[0m is one of the following:\n",
      "\n",
      "     temp_batch\n"
     ]
    }
   ],
   "source": [
    "! molop"
   ]
  },
  {
   "cell_type": "markdown",
   "metadata": {},
   "source": [
    "Note that the `read` command is a mandatory command, and you can then chain function calls after it to continue with other commands. Any two commands need to be separated by the `-` symbol and terminated with the `end` command. For example:"
   ]
  },
  {
   "cell_type": "code",
   "execution_count": 3,
   "metadata": {},
   "outputs": [
    {
     "name": "stdout",
     "output_type": "stream",
     "text": [
      "MolOP parsing with 16 jobs: 100%|███████████████| 85/85 [00:01<00:00, 45.04it/s]\n",
      "INFO - 0 files failed to parse, 85 successfully parsed\n",
      "/home/tmj/proj/MolOP/tests/test_files/g16log/1.log\n",
      "/home/tmj/proj/MolOP/tests/test_files/g16log/111.log\n",
      "/home/tmj/proj/MolOP/tests/test_files/g16log/11_Opt.log\n",
      "/home/tmj/proj/MolOP/tests/test_files/g16log/3_Sp.log\n",
      "/home/tmj/proj/MolOP/tests/test_files/g16log/C10.log\n",
      "/home/tmj/proj/MolOP/tests/test_files/g16log/CH3-ccsd-sp.log\n",
      "/home/tmj/proj/MolOP/tests/test_files/g16log/H2O.log\n",
      "/home/tmj/proj/MolOP/tests/test_files/g16log/MnCO3C6H6PMe3-mod2-sp-smd-DSDPBEP86d3.log\n",
      "/home/tmj/proj/MolOP/tests/test_files/g16log/MnCO3C6H6PMe3-mod2-sp-smd-revDSDPBEP86d3.log\n",
      "/home/tmj/proj/MolOP/tests/test_files/g16log/RE_BOX-Anion-Real_Cu-III-Phenol_Major-Amide-Anion_From-IP_C-O-190_TS_Opt.log\n",
      "/home/tmj/proj/MolOP/tests/test_files/g16log/S_Ph_Ni_TS.log\n",
      "/home/tmj/proj/MolOP/tests/test_files/g16log/TS_4cGKps_ll_ad_4-18_6-13_optts_g16.log\n",
      "/home/tmj/proj/MolOP/tests/test_files/g16log/TS_4cGKps_ll_ad_4-18_6-13_sp_g16.log\n",
      "/home/tmj/proj/MolOP/tests/test_files/g16log/TS_S-C_Bi_Ts_Opt.log\n",
      "/home/tmj/proj/MolOP/tests/test_files/g16log/TS_Zy0fwX_ll_ad_14-19_15-16_optts_g16.log\n",
      "/home/tmj/proj/MolOP/tests/test_files/g16log/TS_ts_guess_FaFxyx_template_4-18_6-13_optts_conf_g16.log\n",
      "/home/tmj/proj/MolOP/tests/test_files/g16log/Yne1-vinyl1-S1-PhCl-SPAQ.log\n",
      "/home/tmj/proj/MolOP/tests/test_files/g16log/Yne10-vinyl10-S10-PhCl-SPAQ.log\n",
      "/home/tmj/proj/MolOP/tests/test_files/g16log/Yne11-vinyl11-S11-PhCl-SPAQ.log\n",
      "/home/tmj/proj/MolOP/tests/test_files/g16log/Yne12-vinyl12-S12-PhCl-SPAQ.log\n",
      "/home/tmj/proj/MolOP/tests/test_files/g16log/Yne2-vinyl2-S2-PhCl-SPAQ.log\n",
      "/home/tmj/proj/MolOP/tests/test_files/g16log/Yne3-vinyl3-S3-PhCl-SPAQ.log\n",
      "/home/tmj/proj/MolOP/tests/test_files/g16log/Yne4-vinyl4-S4-PhCl-SPAQ.log\n",
      "/home/tmj/proj/MolOP/tests/test_files/g16log/Yne5-vinyl5-S5-PhCl-SPAQ.log\n",
      "/home/tmj/proj/MolOP/tests/test_files/g16log/Yne6-vinyl6-S6-PhCl-SPAQ.log\n",
      "/home/tmj/proj/MolOP/tests/test_files/g16log/Yne7-vinyl7-S7-PhCl-SPAQ.log\n",
      "/home/tmj/proj/MolOP/tests/test_files/g16log/Yne8-vinyl8-S8-PhCl-SPAQ.log\n",
      "/home/tmj/proj/MolOP/tests/test_files/g16log/Yne9-vinyl9-S9-PhCl-SPAQ.log\n",
      "/home/tmj/proj/MolOP/tests/test_files/g16log/anion_0167_opt_g16_nbo_sp.log\n",
      "/home/tmj/proj/MolOP/tests/test_files/g16log/b2plyp_H.log\n",
      "/home/tmj/proj/MolOP/tests/test_files/g16log/cation_0371_opt_g16.log\n",
      "/home/tmj/proj/MolOP/tests/test_files/g16log/cation_0407_opt_g16.log\n",
      "/home/tmj/proj/MolOP/tests/test_files/g16log/dsgdb9nsd_000001-3-.log\n",
      "/home/tmj/proj/MolOP/tests/test_files/g16log/dsgdb9nsd_000107-3-.log\n",
      "/home/tmj/proj/MolOP/tests/test_files/g16log/dsgdb9nsd_000180-9-.log\n",
      "/home/tmj/proj/MolOP/tests/test_files/g16log/dsgdb9nsd_000484-1+.log\n",
      "/home/tmj/proj/MolOP/tests/test_files/g16log/dsgdb9nsd_000672-3+.log\n",
      "/home/tmj/proj/MolOP/tests/test_files/g16log/dsgdb9nsd_000696-4.log\n",
      "/home/tmj/proj/MolOP/tests/test_files/g16log/dsgdb9nsd_000763-2-.log\n",
      "/home/tmj/proj/MolOP/tests/test_files/g16log/dsgdb9nsd_000923-3+.log\n",
      "/home/tmj/proj/MolOP/tests/test_files/g16log/dsgdb9nsd_000955-3.log\n",
      "/home/tmj/proj/MolOP/tests/test_files/g16log/dsgdb9nsd_000958-3-.log\n",
      "/home/tmj/proj/MolOP/tests/test_files/g16log/dsgdb9nsd_001232-4-.log\n",
      "/home/tmj/proj/MolOP/tests/test_files/g16log/dsgdb9nsd_002924-8-.log\n",
      "/home/tmj/proj/MolOP/tests/test_files/g16log/dsgdb9nsd_003051-3.log\n",
      "/home/tmj/proj/MolOP/tests/test_files/g16log/dsgdb9nsd_003895.log\n",
      "/home/tmj/proj/MolOP/tests/test_files/g16log/dsgdb9nsd_004015-3-.log\n",
      "/home/tmj/proj/MolOP/tests/test_files/g16log/dsgdb9nsd_004478-6-.log\n",
      "/home/tmj/proj/MolOP/tests/test_files/g16log/dsgdb9nsd_004517-4-.log\n",
      "/home/tmj/proj/MolOP/tests/test_files/g16log/dsgdb9nsd_004669-4.log\n",
      "/home/tmj/proj/MolOP/tests/test_files/g16log/dsgdb9nsd_004738-2.log\n",
      "/home/tmj/proj/MolOP/tests/test_files/g16log/dsgdb9nsd_006075rearrange.log\n",
      "/home/tmj/proj/MolOP/tests/test_files/g16log/dsgdb9nsd_009986.log\n",
      "/home/tmj/proj/MolOP/tests/test_files/g16log/dsgdb9nsd_042726-4+.log\n",
      "/home/tmj/proj/MolOP/tests/test_files/g16log/dsgdb9nsd_123508-4.log\n",
      "/home/tmj/proj/MolOP/tests/test_files/g16log/dsgdb9nsd_125328-4.log\n",
      "/home/tmj/proj/MolOP/tests/test_files/g16log/dsgdb9nsd_125334-4.log\n",
      "/home/tmj/proj/MolOP/tests/test_files/g16log/dsgdb9nsd_125851-4.log\n",
      "/home/tmj/proj/MolOP/tests/test_files/g16log/dsgdb9nsd_126029-6.log\n",
      "/home/tmj/proj/MolOP/tests/test_files/g16log/dsgdb9nsd_126081-4.log\n",
      "/home/tmj/proj/MolOP/tests/test_files/g16log/dsgdb9nsd_126828-6.log\n",
      "/home/tmj/proj/MolOP/tests/test_files/g16log/dsgdb9nsd_126885-6.log\n",
      "/home/tmj/proj/MolOP/tests/test_files/g16log/dsgdb9nsd_126920-7.log\n",
      "/home/tmj/proj/MolOP/tests/test_files/g16log/dsgdb9nsd_128888-1.log\n",
      "/home/tmj/proj/MolOP/tests/test_files/g16log/dsgdb9nsd_130366.log\n",
      "/home/tmj/proj/MolOP/tests/test_files/g16log/dsgdb9nsd_130472-1.log\n",
      "/home/tmj/proj/MolOP/tests/test_files/g16log/dsgdb9nsd_130472-2.log\n",
      "/home/tmj/proj/MolOP/tests/test_files/g16log/dsgdb9nsd_130483-1.log\n",
      "/home/tmj/proj/MolOP/tests/test_files/g16log/dsgdb9nsd_130495-1.log\n",
      "/home/tmj/proj/MolOP/tests/test_files/g16log/dsgdb9nsd_131200-4-.log\n",
      "/home/tmj/proj/MolOP/tests/test_files/g16log/dsgdb9nsd_131200.log\n",
      "/home/tmj/proj/MolOP/tests/test_files/g16log/dsgdb9nsd_131941-4+.log\n",
      "/home/tmj/proj/MolOP/tests/test_files/g16log/dsgdb9nsd_132072.log\n",
      "/home/tmj/proj/MolOP/tests/test_files/g16log/dsgdb9nsd_133826.log\n",
      "/home/tmj/proj/MolOP/tests/test_files/g16log/dsgdb9nsd_133831-4.log\n",
      "/home/tmj/proj/MolOP/tests/test_files/g16log/dsgdb9nsd_133858.log\n",
      "/home/tmj/proj/MolOP/tests/test_files/g16log/molecule_0.log\n",
      "/home/tmj/proj/MolOP/tests/test_files/g16log/naphthalen-2-ol.log\n",
      "/home/tmj/proj/MolOP/tests/test_files/g16log/r1_C2H3N3O_sp_g16.log\n",
      "/home/tmj/proj/MolOP/tests/test_files/g16log/r1_C8H9N3O2_sp_g16.log\n",
      "/home/tmj/proj/MolOP/tests/test_files/g16log/radical_0554_opt_g16_nbo_sp.log\n",
      "/home/tmj/proj/MolOP/tests/test_files/g16log/test_ccsd.log\n",
      "/home/tmj/proj/MolOP/tests/test_files/g16log/test_ccsd_t.log\n",
      "/home/tmj/proj/MolOP/tests/test_files/g16log/test_mp2.log\n",
      "/home/tmj/proj/MolOP/tests/test_files/g16log/test_solvent.log\n"
     ]
    }
   ],
   "source": [
    "! molop read \"../../tests/test_files/g16log/*.log\" --only_last_frame - paths - end"
   ]
  },
  {
   "cell_type": "markdown",
   "metadata": {},
   "source": [
    "You can use MolOP to filter out the error tasks and re-calculate them.\n",
    "\n",
    "For g16 log files, the error means the log file is end with \"Error termination of Gaussian 16\" or \"SCF Done\" not found."
   ]
  },
  {
   "cell_type": "code",
   "execution_count": 4,
   "metadata": {},
   "outputs": [
    {
     "name": "stdout",
     "output_type": "stream",
     "text": [
      "MolOP parsing with 16 jobs: 100%|███████████████| 85/85 [00:01<00:00, 42.85it/s]\n",
      "INFO - 0 files failed to parse, 85 successfully parsed\n",
      "/home/tmj/proj/MolOP/tests/test_files/g16log/cation_0407_opt_g16.log\n",
      "INFO - gjf files saved to /home/tmj/proj/MolOP/tests/test_files/temp\n"
     ]
    }
   ],
   "source": [
    "! molop read \"../../tests/test_files/g16log/*.log\" --only_last_frame - error - paths - gjf \"../../tests/test_files/temp\" --chk --template=\"../../tests/test_files/g16gjf/test.gjf\" - end"
   ]
  },
  {
   "cell_type": "markdown",
   "metadata": {},
   "source": [
    "Also support other filters: `normal`, `charge`, `multi`, `ts`, `format`"
   ]
  },
  {
   "cell_type": "code",
   "execution_count": 5,
   "metadata": {},
   "outputs": [
    {
     "name": "stdout",
     "output_type": "stream",
     "text": [
      "MolOP parsing with 16 jobs: 100%|███████████████| 85/85 [00:01<00:00, 42.91it/s]\n",
      "INFO - 0 files failed to parse, 85 successfully parsed\n",
      "/home/tmj/proj/MolOP/tests/test_files/g16log/MnCO3C6H6PMe3-mod2-sp-smd-DSDPBEP86d3.log\n",
      "/home/tmj/proj/MolOP/tests/test_files/g16log/MnCO3C6H6PMe3-mod2-sp-smd-revDSDPBEP86d3.log\n",
      "/home/tmj/proj/MolOP/tests/test_files/g16log/Yne1-vinyl1-S1-PhCl-SPAQ.log\n",
      "/home/tmj/proj/MolOP/tests/test_files/g16log/Yne10-vinyl10-S10-PhCl-SPAQ.log\n",
      "/home/tmj/proj/MolOP/tests/test_files/g16log/Yne11-vinyl11-S11-PhCl-SPAQ.log\n",
      "/home/tmj/proj/MolOP/tests/test_files/g16log/Yne12-vinyl12-S12-PhCl-SPAQ.log\n",
      "/home/tmj/proj/MolOP/tests/test_files/g16log/Yne2-vinyl2-S2-PhCl-SPAQ.log\n",
      "/home/tmj/proj/MolOP/tests/test_files/g16log/Yne3-vinyl3-S3-PhCl-SPAQ.log\n",
      "/home/tmj/proj/MolOP/tests/test_files/g16log/Yne4-vinyl4-S4-PhCl-SPAQ.log\n",
      "/home/tmj/proj/MolOP/tests/test_files/g16log/Yne5-vinyl5-S5-PhCl-SPAQ.log\n",
      "/home/tmj/proj/MolOP/tests/test_files/g16log/Yne6-vinyl6-S6-PhCl-SPAQ.log\n",
      "/home/tmj/proj/MolOP/tests/test_files/g16log/Yne7-vinyl7-S7-PhCl-SPAQ.log\n",
      "/home/tmj/proj/MolOP/tests/test_files/g16log/Yne8-vinyl8-S8-PhCl-SPAQ.log\n",
      "/home/tmj/proj/MolOP/tests/test_files/g16log/Yne9-vinyl9-S9-PhCl-SPAQ.log\n",
      "/home/tmj/proj/MolOP/tests/test_files/g16log/cation_0371_opt_g16.log\n",
      "/home/tmj/proj/MolOP/tests/test_files/g16log/cation_0407_opt_g16.log\n",
      "/home/tmj/proj/MolOP/tests/test_files/g16log/dsgdb9nsd_000484-1+.log\n",
      "/home/tmj/proj/MolOP/tests/test_files/g16log/dsgdb9nsd_000672-3+.log\n",
      "/home/tmj/proj/MolOP/tests/test_files/g16log/dsgdb9nsd_000923-3+.log\n",
      "/home/tmj/proj/MolOP/tests/test_files/g16log/dsgdb9nsd_042726-4+.log\n",
      "/home/tmj/proj/MolOP/tests/test_files/g16log/dsgdb9nsd_131941-4+.log\n"
     ]
    }
   ],
   "source": [
    "! molop read \"../../tests/test_files/g16log/*.log\" --only_last_frame - charge 1 - paths - end"
   ]
  },
  {
   "cell_type": "markdown",
   "metadata": {},
   "source": [
    "Filter effects stack, which means any filter will be applied to the files filtered by the previous filter."
   ]
  },
  {
   "cell_type": "code",
   "execution_count": 6,
   "metadata": {},
   "outputs": [
    {
     "name": "stdout",
     "output_type": "stream",
     "text": [
      "MolOP parsing with 16 jobs: 100%|███████████████| 85/85 [00:01<00:00, 43.11it/s]\n",
      "INFO - 0 files failed to parse, 85 successfully parsed\n",
      "/home/tmj/proj/MolOP/tests/test_files/g16log/111.log\n"
     ]
    }
   ],
   "source": [
    "! molop read \"../../tests/test_files/g16log/*.log\" --only_last_frame - charge 0 - multi 3 - paths - end"
   ]
  },
  {
   "cell_type": "markdown",
   "metadata": {},
   "source": [
    "All commands are controlled with additional parameters, you can use the `molop command --help` command to see the help."
   ]
  },
  {
   "cell_type": "code",
   "execution_count": 7,
   "metadata": {},
   "outputs": [
    {
     "name": "stdout",
     "output_type": "stream",
     "text": [
      "INFO: Showing help with the command 'molop read -- --help'.\n",
      "\n",
      "\u001b[1mNAME\u001b[0m\n",
      "    molop read - Read the files given and set the file batch object.\n",
      "\n",
      "\u001b[1mSYNOPSIS\u001b[0m\n",
      "    molop read \u001b[4mFILE_PATH\u001b[0m <flags>\n",
      "\n",
      "\u001b[1mDESCRIPTION\u001b[0m\n",
      "    Read the files given and set the file batch object.\n",
      "\n",
      "\u001b[1mPOSITIONAL ARGUMENTS\u001b[0m\n",
      "    \u001b[1m\u001b[4mFILE_PATH\u001b[0m\u001b[0m\n",
      "        Type: str\n",
      "        use regax to match files.\n",
      "\n",
      "\u001b[1mFLAGS\u001b[0m\n",
      "    -c, --charge=\u001b[4mCHARGE\u001b[0m\n",
      "        Default: 0\n",
      "        forced charge of the molecule, if not given, will use the charge written in the file or 0.\n",
      "    -m, --multiplicity=\u001b[4mMULTIPLICITY\u001b[0m\n",
      "        Default: 1\n",
      "        forced multiplicity of the molecule, if not given, will use the charge written in the file or 1.\n",
      "    -n, --n_jobs=\u001b[4mN_JOBS\u001b[0m\n",
      "        Default: -1\n",
      "    --only_extract_structure=\u001b[4mONLY_EXTRACT_STRUCTURE\u001b[0m\n",
      "        Default: False\n",
      "        if True, only extract the structure, else extract the whole file.\n",
      "    --only_last_frame=\u001b[4mONLY_LAST_FRAME\u001b[0m\n",
      "        Default: False\n",
      "        if True, only extract the last frame, else extract all frames.\n",
      "\n",
      "\u001b[1mNOTES\u001b[0m\n",
      "    You can also use flags syntax for POSITIONAL ARGUMENTS\n"
     ]
    }
   ],
   "source": [
    "! molop read --help"
   ]
  },
  {
   "cell_type": "code",
   "execution_count": 8,
   "metadata": {},
   "outputs": [
    {
     "name": "stdout",
     "output_type": "stream",
     "text": [
      "INFO: Showing help with the command 'molop gjf -- --help'.\n",
      "\n",
      "\u001b[1mNAME\u001b[0m\n",
      "    molop gjf - Save the GJF file of any frame of each file.\n",
      "\n",
      "\u001b[1mSYNOPSIS\u001b[0m\n",
      "    molop gjf <flags>\n",
      "\n",
      "\u001b[1mDESCRIPTION\u001b[0m\n",
      "    Save the GJF file of any frame of each file.\n",
      "\n",
      "\u001b[1mFLAGS\u001b[0m\n",
      "    --file_dir=\u001b[4mFILE_DIR\u001b[0m\n",
      "        Type: Optional[str]\n",
      "        Default: None\n",
      "    --charge=\u001b[4mCHARGE\u001b[0m\n",
      "        Type: Optional[int]\n",
      "        Default: None\n",
      "    -m, --multiplicity=\u001b[4mMULTIPLICITY\u001b[0m\n",
      "        Type: Optional[int]\n",
      "        Default: None\n",
      "    -p, --prefix=\u001b[4mPREFIX\u001b[0m\n",
      "        Type: str\n",
      "        Default: ''\n",
      "    -s, --suffix=\u001b[4mSUFFIX\u001b[0m\n",
      "        Type: str\n",
      "        Default: ''\n",
      "    -t, --template=\u001b[4mTEMPLATE\u001b[0m\n",
      "        Type: Optional[str]\n",
      "        Default: None\n",
      "    --chk=\u001b[4mCHK\u001b[0m\n",
      "        Type: bool\n",
      "        Default: True\n",
      "    -o, --oldchk=\u001b[4mOLDCHK\u001b[0m\n",
      "        Type: bool\n",
      "        Default: False\n",
      "    --frameID=\u001b[4mFRAMEID\u001b[0m\n",
      "        Type: int\n",
      "        Default: -1\n"
     ]
    }
   ],
   "source": [
    "! molop gjf --help"
   ]
  },
  {
   "cell_type": "markdown",
   "metadata": {},
   "source": [
    "More useful features will be added in the future."
   ]
  }
 ],
 "metadata": {
  "kernelspec": {
   "display_name": "molop",
   "language": "python",
   "name": "python3"
  },
  "language_info": {
   "codemirror_mode": {
    "name": "ipython",
    "version": 3
   },
   "file_extension": ".py",
   "mimetype": "text/x-python",
   "name": "python",
   "nbconvert_exporter": "python",
   "pygments_lexer": "ipython3",
   "version": "3.8.19"
  }
 },
 "nbformat": 4,
 "nbformat_minor": 2
}
