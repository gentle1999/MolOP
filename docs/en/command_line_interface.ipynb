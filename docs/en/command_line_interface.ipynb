{
 "cells": [
  {
   "cell_type": "markdown",
   "metadata": {},
   "source": [
    "# Command line interface\n",
    "\n",
    "MolOP also provides a simple command line interface for basic information extraction and format conversion. It is worth noting that, thanks to the chaining function calls provided by the [fire library](https://github.com/google/python-fire), the various commands of the MolOP CLI can be used in concert."
   ]
  },
  {
   "cell_type": "markdown",
   "metadata": {},
   "source": [
    "A complex example of using molop to read files and extract information. This script completed 5 tasks:\n",
    "\n",
    "1. Read specific files and extract information with each last frame.\n",
    "2. Transform the structures to GJF format.\n",
    "3. Save the summary datasheet of the files.\n",
    "4. Transform the structures to cdxml format.\n",
    "5. Print out the smiles of the structures."
   ]
  },
  {
   "cell_type": "code",
   "execution_count": 1,
   "metadata": {},
   "outputs": [
    {
     "name": "stdout",
     "output_type": "stream",
     "text": [
      "MolOP parsing with 16 jobs: 100%|███████████████| 42/42 [00:01<00:00, 32.15it/s]\n",
      "0 files failed to parse, 42 successfully parsed\n",
      "gjf files saved to /home/tmj/proj/MolOP/tests/test_files/temp\n",
      "summary csv saved to /home/tmj/proj/MolOP/tests/test_files/temp/summary.csv\n",
      "chemdraw files saved to /home/tmj/proj/MolOP/tests/test_files/temp\n",
      "CC[C@H](C)[C@H](NC(C)=O)C(=O)NCC(=O)N[C@@H](CC([O])=O)C(=O)N[C@@H](CC(N)=O)C(=O)N[C@H](C(=O)N[C@@H](CC(N)=O)C(=O)N[C@@H](CC([O])=O)C(=O)N[C@@H](Cc1c[nH]cn1)C(=O)N[C@@H](CCCCNC(C)=O)C(=O)NC)[C@@H](C)CC.O.[O]C=O.[O]C=O.[Rh][Rh]\n",
      "C=C[C@H]1[C@@H]2[C@H](C[C@@]1(C)O)OC[C@@H]2C\n",
      "CCC[C@H]1CO[C@H]2C[C@@](C)(O)C[C@@H]12\n",
      "CC(C)(C)[C@@H]1COC(=[C-]C2[N-][C@H](C(C)(C)C)CO2)[N-]1.C[CH-]C(=O)[N-]c1ccccc1.[Cu@TB7+5].[O-]c1ccccc1\n",
      "[Br-].[Br-].[Ni@OH26+3]c1ccccc1.[S-]Cc1ccccc1.c1c[nH]cn1.c1c[nH]cn1\n",
      "CNC(=O)C#[N+]/C(C(C)=O)=C(/C)[O-].COC(=O)C#CC(F)(F)F\n",
      "CNC(=O)C#[N+]/C(C(C)=O)=C(/C)[O-].COC(=O)C#CC(F)(F)F\n",
      "C=[N+](C)[N-]C.COC(=O)[C@@]1(OC)C#CC(Br)(Br)CCCC1\n",
      "CNC(=O)C#[N+]/C(C(C)=O)=C(\\C)[O-].COC(=O)C#CC(F)(F)F\n",
      "C/[NH+]=C(\\C(=O)OC)c1ccccc1\n",
      "C[NH+]=C(c1ccccc1)[N+](=O)[O-]\n",
      "[CH3-]\n",
      "[C-]#CCC#C\n",
      "CC/C(C)=N/[O-]\n",
      "[C+]#CC#CC#C\n",
      "[C+]1=C[C@H]2O[C@H]2C1\n",
      "C1[C@@H]2[C]3CN2[C@@H]13\n",
      "[H]/N=c1/[cH-]onn1\n",
      "O=C1C=C=NC=[NH+]1\n",
      "Oc1nc[c]cn1\n",
      "Oc1n[c-]ncn1\n",
      "N/C=N/C=C(/[O-])O\n",
      "COC1=NCC[N-]1\n",
      "O=CN[CH][C@H]1CO1\n",
      "N#N.O=C=CC=O\n",
      "C[NH2+]C/C(C[O-])=N/[O-]\n",
      "Cc1[nH]c([O-])nc1O\n",
      "Nc1[nH]c([O-])nc1O\n",
      "O=CC1=C[N]C(O)=N1\n",
      "C#Cc1nc(O)[c]o1\n",
      "NC1(N)OCC(=O)O1\n",
      "N#C[C-](C#N)/[NH+]=C/N\n",
      "N[CH-]NC1=NC(=[OH+])N=N1\n",
      "[O-]c1onc2c1CNC2\n",
      "[O-]c1onc2c1C[NH2+]C2\n",
      "CN1[C+]=CC([N+](=O)[O-])=C1\n",
      "[NH2+]=c1[nH]ccc(F)c1[O-]\n",
      "[C-]#C[C@@H]1N2C#[N+]C[C@]12C\n",
      "C[C@H]1C2C[C-]=C3C=[N+]1[C@@H]32\n",
      "C[C@@H]1[C@H](C)C2=C(CC2)[C@@H]1C\n",
      "C/C([O-])=N/[N+]#N\n",
      "CN/C([O-])=N/[O+]=N\\c1ccccc1\n"
     ]
    }
   ],
   "source": [
    "! molop read \"../../tests/test_files/g16log/*.log\" --only_last_frame - gjf \"../../tests/test_files/temp\" --chk --template=\"../../tests/test_files/g16gjf/test.gjf\" - summary \"../../tests/test_files/temp\" - chemdraw \"../../tests/test_files/temp\" - smiles - end"
   ]
  },
  {
   "cell_type": "markdown",
   "metadata": {},
   "source": [
    "You can use MolOP CLI to do seprate tasks of course. There are the available commands:"
   ]
  },
  {
   "cell_type": "code",
   "execution_count": 2,
   "metadata": {},
   "outputs": [
    {
     "name": "stdout",
     "output_type": "stream",
     "text": [
      "\u001b[1mNAME\u001b[0m\n",
      "    molop - CLI for MolOP.\n",
      "\n",
      "\u001b[1mSYNOPSIS\u001b[0m\n",
      "    molop \u001b[4mCOMMAND\u001b[0m | \u001b[4mVALUE\u001b[0m\n",
      "\n",
      "\u001b[1mDESCRIPTION\u001b[0m\n",
      "    CLI for MolOP.\n",
      "\n",
      "\u001b[1mCOMMANDS\u001b[0m\n",
      "    \u001b[1m\u001b[4mCOMMAND\u001b[0m\u001b[0m is one of the following:\n",
      "\n",
      "     auto\n",
      "       Auto process the current directory.\n",
      "\n",
      "     charge\n",
      "       Filter the file batch by charge.\n",
      "\n",
      "     chemdraw\n",
      "       Save the cdxml file of specified frames of each file.\n",
      "\n",
      "     end\n",
      "       End the command chain, stop printing help comments.\n",
      "\n",
      "     error\n",
      "       Filter the file batch by error judgement.\n",
      "\n",
      "     gjf\n",
      "       Save the GJF file of any frame of each file.\n",
      "\n",
      "     multi\n",
      "       Filter the file batch by multiplicity.\n",
      "\n",
      "     normal\n",
      "       Filter the file batch by normal judgement.\n",
      "\n",
      "     paths\n",
      "       Print the file paths of each file.\n",
      "\n",
      "     read\n",
      "       Read the files given and set the file batch object.\n",
      "\n",
      "     sdf\n",
      "       Save the SDF file of all frames of each file.\n",
      "\n",
      "     smiles\n",
      "       Print the SMILES of last frame of each files.\n",
      "\n",
      "     summary\n",
      "       Save the summary csv file.\n",
      "\n",
      "     xyz\n",
      "       Save the XYZ file of all frames of each file.\n",
      "\n",
      "\u001b[1mVALUES\u001b[0m\n",
      "    \u001b[1m\u001b[4mVALUE\u001b[0m\u001b[0m is one of the following:\n",
      "\n",
      "     temp_batch\n"
     ]
    }
   ],
   "source": [
    "! molop"
   ]
  },
  {
   "cell_type": "markdown",
   "metadata": {},
   "source": [
    "Note that the `read` command is a mandatory command, and you can then chain function calls after it to continue with other commands. Any two commands need to be separated by the `-` symbol and terminated with the `end` command. For example:"
   ]
  },
  {
   "cell_type": "code",
   "execution_count": 3,
   "metadata": {},
   "outputs": [
    {
     "name": "stdout",
     "output_type": "stream",
     "text": [
      "MolOP parsing with 16 jobs: 100%|███████████████| 42/42 [00:01<00:00, 32.21it/s]\n",
      "0 files failed to parse, 42 successfully parsed\n",
      "/home/tmj/proj/MolOP/tests/test_files/g16log/111.log\n",
      "/home/tmj/proj/MolOP/tests/test_files/g16log/11_Opt.log\n",
      "/home/tmj/proj/MolOP/tests/test_files/g16log/3_Sp.log\n",
      "/home/tmj/proj/MolOP/tests/test_files/g16log/RE_BOX-Anion-Real_Cu-III-Phenol_Major-Amide-Anion_From-IP_C-O-190_TS_Opt.log\n",
      "/home/tmj/proj/MolOP/tests/test_files/g16log/S_Ph_Ni_TS.log\n",
      "/home/tmj/proj/MolOP/tests/test_files/g16log/TS_4cGKps_ll_ad_4-18_6-13_optts_g16.log\n",
      "/home/tmj/proj/MolOP/tests/test_files/g16log/TS_4cGKps_ll_ad_4-18_6-13_sp_g16.log\n",
      "/home/tmj/proj/MolOP/tests/test_files/g16log/TS_Zy0fwX_ll_ad_14-19_15-16_optts_g16.log\n",
      "/home/tmj/proj/MolOP/tests/test_files/g16log/TS_ts_guess_FaFxyx_template_4-18_6-13_optts_conf_g16.log\n",
      "/home/tmj/proj/MolOP/tests/test_files/g16log/cation_0371_opt_g16.log\n",
      "/home/tmj/proj/MolOP/tests/test_files/g16log/cation_0407_opt_g16.log\n",
      "/home/tmj/proj/MolOP/tests/test_files/g16log/dsgdb9nsd_000001-3-.log\n",
      "/home/tmj/proj/MolOP/tests/test_files/g16log/dsgdb9nsd_000107-3-.log\n",
      "/home/tmj/proj/MolOP/tests/test_files/g16log/dsgdb9nsd_000180-9-.log\n",
      "/home/tmj/proj/MolOP/tests/test_files/g16log/dsgdb9nsd_000484-1+.log\n",
      "/home/tmj/proj/MolOP/tests/test_files/g16log/dsgdb9nsd_000672-3+.log\n",
      "/home/tmj/proj/MolOP/tests/test_files/g16log/dsgdb9nsd_000696-4.log\n",
      "/home/tmj/proj/MolOP/tests/test_files/g16log/dsgdb9nsd_000763-2-.log\n",
      "/home/tmj/proj/MolOP/tests/test_files/g16log/dsgdb9nsd_000923-3+.log\n",
      "/home/tmj/proj/MolOP/tests/test_files/g16log/dsgdb9nsd_000955-3.log\n",
      "/home/tmj/proj/MolOP/tests/test_files/g16log/dsgdb9nsd_000958-3-.log\n",
      "/home/tmj/proj/MolOP/tests/test_files/g16log/dsgdb9nsd_001232-4-.log\n",
      "/home/tmj/proj/MolOP/tests/test_files/g16log/dsgdb9nsd_002924-8-.log\n",
      "/home/tmj/proj/MolOP/tests/test_files/g16log/dsgdb9nsd_003051-3.log\n",
      "/home/tmj/proj/MolOP/tests/test_files/g16log/dsgdb9nsd_003895.log\n",
      "/home/tmj/proj/MolOP/tests/test_files/g16log/dsgdb9nsd_004015-3-.log\n",
      "/home/tmj/proj/MolOP/tests/test_files/g16log/dsgdb9nsd_004478-6-.log\n",
      "/home/tmj/proj/MolOP/tests/test_files/g16log/dsgdb9nsd_004517-4-.log\n",
      "/home/tmj/proj/MolOP/tests/test_files/g16log/dsgdb9nsd_004669-4.log\n",
      "/home/tmj/proj/MolOP/tests/test_files/g16log/dsgdb9nsd_004738-2.log\n",
      "/home/tmj/proj/MolOP/tests/test_files/g16log/dsgdb9nsd_006075rearrange.log\n",
      "/home/tmj/proj/MolOP/tests/test_files/g16log/dsgdb9nsd_009986.log\n",
      "/home/tmj/proj/MolOP/tests/test_files/g16log/dsgdb9nsd_130366.log\n",
      "/home/tmj/proj/MolOP/tests/test_files/g16log/dsgdb9nsd_131200-4-.log\n",
      "/home/tmj/proj/MolOP/tests/test_files/g16log/dsgdb9nsd_131200.log\n",
      "/home/tmj/proj/MolOP/tests/test_files/g16log/dsgdb9nsd_131941-4+.log\n",
      "/home/tmj/proj/MolOP/tests/test_files/g16log/dsgdb9nsd_132072.log\n",
      "/home/tmj/proj/MolOP/tests/test_files/g16log/dsgdb9nsd_133826.log\n",
      "/home/tmj/proj/MolOP/tests/test_files/g16log/dsgdb9nsd_133858.log\n",
      "/home/tmj/proj/MolOP/tests/test_files/g16log/molecule_0.log\n",
      "/home/tmj/proj/MolOP/tests/test_files/g16log/r1_C2H3N3O_sp_g16.log\n",
      "/home/tmj/proj/MolOP/tests/test_files/g16log/r1_C8H9N3O2_sp_g16.log\n"
     ]
    }
   ],
   "source": [
    "! molop read \"../../tests/test_files/g16log/*.log\" --only_last_frame - paths - end"
   ]
  },
  {
   "cell_type": "markdown",
   "metadata": {},
   "source": [
    "You can use MolOP to filter out the error tasks and re-calculate them.\n",
    "\n",
    "For g16 log files, the error means the log file is end with \"Error termination of Gaussian 16\" or \"SCF Done\" not found."
   ]
  },
  {
   "cell_type": "code",
   "execution_count": 4,
   "metadata": {},
   "outputs": [
    {
     "name": "stdout",
     "output_type": "stream",
     "text": [
      "MolOP parsing with 16 jobs: 100%|███████████████| 42/42 [00:01<00:00, 31.58it/s]\n",
      "0 files failed to parse, 42 successfully parsed\n",
      "/home/tmj/proj/MolOP/tests/test_files/g16log/cation_0407_opt_g16.log\n",
      "gjf files saved to /home/tmj/proj/MolOP/tests/test_files/temp\n"
     ]
    }
   ],
   "source": [
    "! molop read \"../../tests/test_files/g16log/*.log\" --only_last_frame - error - paths - gjf \"../../tests/test_files/temp\" --chk --template=\"../../tests/test_files/g16gjf/test.gjf\" - end"
   ]
  },
  {
   "cell_type": "markdown",
   "metadata": {},
   "source": [
    "Also support other filters: `normal`, `charge`, `multi`"
   ]
  },
  {
   "cell_type": "code",
   "execution_count": 5,
   "metadata": {},
   "outputs": [
    {
     "name": "stdout",
     "output_type": "stream",
     "text": [
      "MolOP parsing with 16 jobs: 100%|███████████████| 42/42 [00:01<00:00, 31.71it/s]\n",
      "0 files failed to parse, 42 successfully parsed\n",
      "/home/tmj/proj/MolOP/tests/test_files/g16log/cation_0371_opt_g16.log\n",
      "/home/tmj/proj/MolOP/tests/test_files/g16log/cation_0407_opt_g16.log\n",
      "/home/tmj/proj/MolOP/tests/test_files/g16log/dsgdb9nsd_000484-1+.log\n",
      "/home/tmj/proj/MolOP/tests/test_files/g16log/dsgdb9nsd_000672-3+.log\n",
      "/home/tmj/proj/MolOP/tests/test_files/g16log/dsgdb9nsd_000923-3+.log\n",
      "/home/tmj/proj/MolOP/tests/test_files/g16log/dsgdb9nsd_131941-4+.log\n"
     ]
    }
   ],
   "source": [
    "! molop read \"../../tests/test_files/g16log/*.log\" --only_last_frame - charge 1 - paths - end"
   ]
  },
  {
   "cell_type": "markdown",
   "metadata": {},
   "source": [
    "Filter effects stack, which means any filter will be applied to the files filtered by the previous filter."
   ]
  },
  {
   "cell_type": "code",
   "execution_count": 6,
   "metadata": {},
   "outputs": [
    {
     "name": "stdout",
     "output_type": "stream",
     "text": [
      "MolOP parsing with 16 jobs: 100%|███████████████| 42/42 [00:01<00:00, 32.48it/s]\n",
      "0 files failed to parse, 42 successfully parsed\n",
      "/home/tmj/proj/MolOP/tests/test_files/g16log/111.log\n"
     ]
    }
   ],
   "source": [
    "! molop read \"../../tests/test_files/g16log/*.log\" --only_last_frame - charge 0 - multi 3 - paths - end"
   ]
  },
  {
   "cell_type": "markdown",
   "metadata": {},
   "source": [
    "All commands are controlled with additional parameters, you can use the `molop command --help` command to see the help."
   ]
  },
  {
   "cell_type": "code",
   "execution_count": 7,
   "metadata": {},
   "outputs": [
    {
     "name": "stdout",
     "output_type": "stream",
     "text": [
      "INFO: Showing help with the command 'molop read -- --help'.\n",
      "\n",
      "\u001b[1mNAME\u001b[0m\n",
      "    molop read - Read the files given and set the file batch object.\n",
      "\n",
      "\u001b[1mSYNOPSIS\u001b[0m\n",
      "    molop read \u001b[4mFILE_PATH\u001b[0m <flags>\n",
      "\n",
      "\u001b[1mDESCRIPTION\u001b[0m\n",
      "    Read the files given and set the file batch object.\n",
      "\n",
      "\u001b[1mPOSITIONAL ARGUMENTS\u001b[0m\n",
      "    \u001b[1m\u001b[4mFILE_PATH\u001b[0m\u001b[0m\n",
      "        Type: str\n",
      "        use regax to match files.\n",
      "\n",
      "\u001b[1mFLAGS\u001b[0m\n",
      "    -c, --charge=\u001b[4mCHARGE\u001b[0m\n",
      "        Type: Optional[]\n",
      "        Default: None\n",
      "        forced charge of the molecule, if not given, will use the charge written in the file or 0.\n",
      "    -m, --multiplicity=\u001b[4mMULTIPLICITY\u001b[0m\n",
      "        Type: Optional[]\n",
      "        Default: None\n",
      "        forced multiplicity of the molecule, if not given, will use the charge written in the file or 1.\n",
      "    --only_extract_structure=\u001b[4mONLY_EXTRACT_STRUCTURE\u001b[0m\n",
      "        Default: False\n",
      "        if True, only extract the structure, else extract the whole file.\n",
      "    --only_last_frame=\u001b[4mONLY_LAST_FRAME\u001b[0m\n",
      "        Default: False\n",
      "        if True, only extract the last frame, else extract all frames.\n",
      "\n",
      "\u001b[1mNOTES\u001b[0m\n",
      "    You can also use flags syntax for POSITIONAL ARGUMENTS\n"
     ]
    }
   ],
   "source": [
    "! molop read --help"
   ]
  },
  {
   "cell_type": "code",
   "execution_count": 8,
   "metadata": {},
   "outputs": [
    {
     "name": "stdout",
     "output_type": "stream",
     "text": [
      "INFO: Showing help with the command 'molop gjf -- --help'.\n",
      "\n",
      "\u001b[1mNAME\u001b[0m\n",
      "    molop gjf - Save the GJF file of any frame of each file.\n",
      "\n",
      "\u001b[1mSYNOPSIS\u001b[0m\n",
      "    molop gjf <flags>\n",
      "\n",
      "\u001b[1mDESCRIPTION\u001b[0m\n",
      "    Save the GJF file of any frame of each file.\n",
      "\n",
      "\u001b[1mFLAGS\u001b[0m\n",
      "    --file_dir=\u001b[4mFILE_DIR\u001b[0m\n",
      "        Type: Optional[str]\n",
      "        Default: None\n",
      "    --charge=\u001b[4mCHARGE\u001b[0m\n",
      "        Type: Optional[int]\n",
      "        Default: None\n",
      "    -m, --multiplicity=\u001b[4mMULTIPLICITY\u001b[0m\n",
      "        Type: Optional[int]\n",
      "        Default: None\n",
      "    -p, --prefix=\u001b[4mPREFIX\u001b[0m\n",
      "        Type: str\n",
      "        Default: '#p opt b3lyp def2svp freq EmpiricalDispersion=GD3BJ NoSymm\\n'\n",
      "    -s, --suffix=\u001b[4mSUFFIX\u001b[0m\n",
      "        Type: str\n",
      "        Default: '\\n\\n'\n",
      "    -t, --template=\u001b[4mTEMPLATE\u001b[0m\n",
      "        Type: Optional[str]\n",
      "        Default: None\n",
      "    --chk=\u001b[4mCHK\u001b[0m\n",
      "        Type: bool\n",
      "        Default: True\n",
      "    -o, --oldchk=\u001b[4mOLDCHK\u001b[0m\n",
      "        Type: bool\n",
      "        Default: False\n",
      "    --frameID=\u001b[4mFRAMEID\u001b[0m\n",
      "        Type: int\n",
      "        Default: -1\n"
     ]
    }
   ],
   "source": [
    "! molop gjf --help"
   ]
  },
  {
   "cell_type": "markdown",
   "metadata": {},
   "source": [
    "More useful features will be added in the future."
   ]
  }
 ],
 "metadata": {
  "kernelspec": {
   "display_name": "molop",
   "language": "python",
   "name": "python3"
  },
  "language_info": {
   "codemirror_mode": {
    "name": "ipython",
    "version": 3
   },
   "file_extension": ".py",
   "mimetype": "text/x-python",
   "name": "python",
   "nbconvert_exporter": "python",
   "pygments_lexer": "ipython3",
   "version": "3.8.18"
  }
 },
 "nbformat": 4,
 "nbformat_minor": 2
}
