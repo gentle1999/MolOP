{
 "cells": [
  {
   "cell_type": "markdown",
   "metadata": {},
   "source": [
    "<!--\n",
    " * @Author: TMJ\n",
    " * @Date: 2024-03-08 21:11:46\n",
    " * @LastEditors: TMJ\n",
    " * @LastEditTime: 2024-03-08 21:19:40\n",
    " * @Description: 请填写简介\n",
    "-->\n",
    "# Structure recovery benchmark\n",
    "\n",
    "Recovering molecular topology from coordinate files is a very practical need. Many cheminformaticians use desktop software such as Gaussian View to visually recover molecular topologies and adjust suspicious bonding relationships in them in real time. Such an approach can make the molecular structure exactly as the chemist knows it, but unfortunately it requires a lot of human involvement! There is a rising demand for automated tools when trying to construct molecular datasets from existing quantum chemistry calculations or coordinate files.\n",
    "\n",
    "The popular open-source cheminformatics tools OpenBabel and RDKit both offer the ability to recover molecular topology from coordinate files, but unfortunately, they both suffer from some fatal problems. These problems made it impossible for me to continue my chemistry database building project, so I decided to create a new project to learn from their strengths and overcome their problems - MolOP was born for this purpose!\n",
    "\n",
    "|     functions     | OpenBabel | RDKit | MolOP |\n",
    "| :---------------: | :-------: | :---: | :---: |\n",
    "| Neutral Molecule  |     😏     |   😏   |   😏   |\n",
    "| Charge processing |     😰     |   😏   |   😏   |\n",
    "| Metel processing  |     😏     |   😰   |   😏   |\n"
   ]
  },
  {
   "cell_type": "markdown",
   "metadata": {},
   "source": [
    "In more detail, both OpenBabel and RDKit have some types of molecules that cannot be handled. Unfortunately these molecules are very common in my dataset, so MolOP has targeted optimisations for them.\n",
    "\n",
    "\n",
    "|              target molecule              |               example                | OpenBabel | RDKit | MolOP |\n",
    "| :---------------------------------------: | :----------------------------------: | :-------: | :---: | :---: |\n",
    "|          simple organic molecule          |              `c1ccccc1`              |     😏     |   😏   |   😏   |\n",
    "|       under-bonded organic molecule       |               `[CH3]`                |     😏     |   😰   |   😏   |\n",
    "| under-bonded organic molecule with charge |               `[CH3-]`               |     😰     |   😏   |   😏   |\n",
    "| under-bonded organic molecule with charge |            `c1cccc[c+]1`             |     😰     |   😰   |   😏   |\n",
    "| under-bonded organic molecule with charge |            `c1cccc[c-]1`             |     😰     |   😏   |   😏   |\n",
    "|       over-bonded organic molecule        |               `[NH4+]`               |     😰     |   😏   |   😏   |\n",
    "|                  Dipole                   |           `C[N+](-[O-])=O`           |     😏     |   😏   |   😏   |\n",
    "|                  Dipole                   |             `C[N+]#[C-]`             |     😰     |   😏   |   😏   |\n",
    "|                  Dipole                   |            `C=[N+]=[N-]`             |     😰     |   😏   |   😏   |\n",
    "|                   Ylide                   | `c1ccccc1-P(-c1ccccc1)(-c1ccccc1)=C` |     😰     |   😏   |   😏   |\n",
    "|                Inner salt                 |        `[O-]C(=O)CCCC[NH3+]`         |     😰     |   😏   |   😏   |\n",
    "|               Metal complex               |                 ...                  |     😰     |   😰   |   😏   |"
   ]
  },
  {
   "cell_type": "code",
   "execution_count": 1,
   "metadata": {},
   "outputs": [],
   "source": [
    "from openbabel import pybel\n",
    "from rdkit import Chem\n",
    "from rdkit.Chem import AllChem, rdDetermineBonds\n",
    "\n",
    "from molop import AutoParser\n",
    "from molop.structure.structure_recovery import *\n",
    "\n",
    "\n",
    "def smi2xyz(smi: str):\n",
    "    mol = Chem.MolFromSmiles(smi)\n",
    "    mol = Chem.AddHs(mol)\n",
    "    AllChem.EmbedMolecule(mol)\n",
    "    return Chem.MolToXYZBlock(mol)"
   ]
  },
  {
   "cell_type": "markdown",
   "metadata": {},
   "source": [
    "## simple organic molecule"
   ]
  },
  {
   "cell_type": "code",
   "execution_count": 2,
   "metadata": {},
   "outputs": [
    {
     "name": "stdout",
     "output_type": "stream",
     "text": [
      "12\n",
      "\n",
      "C      0.794262   -1.148974    0.015000\n",
      "C      1.360699    0.129837   -0.002163\n",
      "C      0.589827    1.268073   -0.017027\n",
      "C     -0.786625    1.145009   -0.014949\n",
      "C     -1.341315   -0.112392    0.001925\n",
      "C     -0.580623   -1.265551    0.016991\n",
      "H      1.402552   -2.042792    0.026673\n",
      "H      2.418314    0.211316   -0.003586\n",
      "H      1.007452    2.268593   -0.030447\n",
      "H     -1.418248    2.029280   -0.026492\n",
      "H     -2.422241   -0.217238    0.003669\n",
      "H     -1.024054   -2.265159    0.030406\n",
      "\n"
     ]
    }
   ],
   "source": [
    "xyz_block = smi2xyz(\"c1ccccc1\")\n",
    "print(xyz_block)"
   ]
  },
  {
   "cell_type": "markdown",
   "metadata": {},
   "source": [
    "### OpenBabel 😏"
   ]
  },
  {
   "cell_type": "code",
   "execution_count": 3,
   "metadata": {},
   "outputs": [
    {
     "data": {
      "image/png": "[encoded data removed]",
      "text/plain": [
       "<rdkit.Chem.rdchem.Mol at 0x7f23af8724a0>"
      ]
     },
     "execution_count": 3,
     "metadata": {},
     "output_type": "execute_result"
    }
   ],
   "source": [
    "# SUCCESS\n",
    "try:\n",
    "    mol = Chem.MolFromMolBlock(\n",
    "        pybel.readstring(\"xyz\", xyz_block).write(\"sdf\"), removeHs=False\n",
    "    )\n",
    "except Exception as e:\n",
    "    print(e)\n",
    "mol"
   ]
  },
  {
   "cell_type": "markdown",
   "metadata": {},
   "source": [
    "### RDKit 😏"
   ]
  },
  {
   "cell_type": "code",
   "execution_count": 4,
   "metadata": {},
   "outputs": [
    {
     "data": {
      "image/png": "[encoded data removed]",
      "text/plain": [
       "<rdkit.Chem.rdchem.Mol at 0x7f23af872270>"
      ]
     },
     "execution_count": 4,
     "metadata": {},
     "output_type": "execute_result"
    }
   ],
   "source": [
    "# SUCCESS\n",
    "mol = Chem.MolFromXYZBlock(xyz_block)\n",
    "try:\n",
    "    rdDetermineBonds.DetermineBonds(mol, charge=0)\n",
    "except Exception as e:\n",
    "    print(e)\n",
    "mol"
   ]
  },
  {
   "cell_type": "markdown",
   "metadata": {},
   "source": [
    "### MolOP 😏"
   ]
  },
  {
   "cell_type": "code",
   "execution_count": 5,
   "metadata": {},
   "outputs": [
    {
     "data": {
      "image/png": "[encoded data removed]",
      "text/plain": [
       "<rdkit.Chem.rdchem.Mol at 0x7f23af872ac0>"
      ]
     },
     "execution_count": 5,
     "metadata": {},
     "output_type": "execute_result"
    }
   ],
   "source": [
    "# SUCCESS\n",
    "try:\n",
    "    mol = Chem.MolFromMolBlock(\n",
    "        xyz_block_to_omol(xyz_block, total_charge=0, total_radical=0).write(\"sdf\"),\n",
    "        removeHs=False,\n",
    "    )\n",
    "except Exception as e:\n",
    "    print(e)\n",
    "mol"
   ]
  },
  {
   "cell_type": "markdown",
   "metadata": {},
   "source": [
    "## under-bonded organic molecule (e.g. `[CH3]`)"
   ]
  },
  {
   "cell_type": "code",
   "execution_count": 6,
   "metadata": {},
   "outputs": [
    {
     "name": "stdout",
     "output_type": "stream",
     "text": [
      "4\n",
      "\n",
      "C     -0.009007   -0.007740    0.278249\n",
      "H      0.982326   -0.321871   -0.091289\n",
      "H     -0.787636   -0.694888   -0.095573\n",
      "H     -0.185683    1.024499   -0.091387\n",
      "\n"
     ]
    }
   ],
   "source": [
    "xyz_block = smi2xyz(\"[CH3]\")\n",
    "print(xyz_block)"
   ]
  },
  {
   "cell_type": "markdown",
   "metadata": {},
   "source": [
    "### OpenBabel 😏"
   ]
  },
  {
   "cell_type": "code",
   "execution_count": 7,
   "metadata": {},
   "outputs": [
    {
     "data": {
      "image/png": "[encoded data removed]",
      "text/plain": [
       "<rdkit.Chem.rdchem.Mol at 0x7f23af872ba0>"
      ]
     },
     "execution_count": 7,
     "metadata": {},
     "output_type": "execute_result"
    }
   ],
   "source": [
    "# SUCCESS\n",
    "try:\n",
    "    mol = Chem.MolFromMolBlock(\n",
    "        pybel.readstring(\"xyz\", xyz_block).write(\"sdf\"), removeHs=False\n",
    "    )\n",
    "except Exception as e:\n",
    "    print(e)\n",
    "mol"
   ]
  },
  {
   "cell_type": "markdown",
   "metadata": {},
   "source": [
    "### RDKit 😰"
   ]
  },
  {
   "cell_type": "code",
   "execution_count": 8,
   "metadata": {},
   "outputs": [
    {
     "name": "stdout",
     "output_type": "stream",
     "text": [
      "Final molecular charge does not match input; could not find valid bond ordering\n"
     ]
    },
    {
     "data": {
      "image/png": "[encoded data removed]",
      "text/plain": [
       "<rdkit.Chem.rdchem.Mol at 0x7f23af872970>"
      ]
     },
     "execution_count": 8,
     "metadata": {},
     "output_type": "execute_result"
    }
   ],
   "source": [
    "# FAILED\n",
    "mol = Chem.MolFromXYZBlock(xyz_block)\n",
    "try:\n",
    "    rdDetermineBonds.DetermineBonds(mol, charge=0)\n",
    "except Exception as e:\n",
    "    print(e)\n",
    "mol"
   ]
  },
  {
   "cell_type": "markdown",
   "metadata": {},
   "source": [
    "### MolOP 😏"
   ]
  },
  {
   "cell_type": "code",
   "execution_count": 9,
   "metadata": {},
   "outputs": [
    {
     "data": {
      "image/png": "[encoded data removed]",
      "text/plain": [
       "<rdkit.Chem.rdchem.Mol at 0x7f23af872dd0>"
      ]
     },
     "execution_count": 9,
     "metadata": {},
     "output_type": "execute_result"
    }
   ],
   "source": [
    "# SUCCESS\n",
    "try:\n",
    "    mol = Chem.MolFromMolBlock(\n",
    "        xyz_block_to_omol(xyz_block, total_charge=0,\n",
    "                          total_radical=1).write(\"sdf\"),\n",
    "        removeHs=False,\n",
    "    )\n",
    "except Exception as e:\n",
    "    print(e)\n",
    "mol"
   ]
  },
  {
   "cell_type": "markdown",
   "metadata": {},
   "source": [
    "## under-bonded organic molecule with charge (e.g. `[CH3-]`)"
   ]
  },
  {
   "cell_type": "code",
   "execution_count": 10,
   "metadata": {},
   "outputs": [
    {
     "name": "stdout",
     "output_type": "stream",
     "text": [
      "4\n",
      "\n",
      "C      0.015558   -0.006106    0.248600\n",
      "H      1.058492   -0.164051   -0.086216\n",
      "H     -0.674002   -0.805284   -0.081864\n",
      "H     -0.400049    0.975441   -0.080520\n",
      "\n"
     ]
    }
   ],
   "source": [
    "xyz_block = smi2xyz(\"[CH3-]\")\n",
    "print(xyz_block)"
   ]
  },
  {
   "cell_type": "markdown",
   "metadata": {},
   "source": [
    "### OpenBabel 😰"
   ]
  },
  {
   "cell_type": "code",
   "execution_count": 11,
   "metadata": {},
   "outputs": [
    {
     "data": {
      "image/png": "[encoded data removed]",
      "text/plain": [
       "<rdkit.Chem.rdchem.Mol at 0x7f23af723120>"
      ]
     },
     "execution_count": 11,
     "metadata": {},
     "output_type": "execute_result"
    }
   ],
   "source": [
    "# FAILED\n",
    "try:\n",
    "    mol = Chem.MolFromMolBlock(\n",
    "        pybel.readstring(\"xyz\", xyz_block).write(\"sdf\"), removeHs=False\n",
    "    )\n",
    "except Exception as e:\n",
    "    print(e)\n",
    "mol"
   ]
  },
  {
   "cell_type": "markdown",
   "metadata": {},
   "source": [
    "### RDKit 😏"
   ]
  },
  {
   "cell_type": "code",
   "execution_count": 12,
   "metadata": {},
   "outputs": [
    {
     "data": {
      "image/png": "[encoded data removed]",
      "text/plain": [
       "<rdkit.Chem.rdchem.Mol at 0x7f23af723040>"
      ]
     },
     "execution_count": 12,
     "metadata": {},
     "output_type": "execute_result"
    }
   ],
   "source": [
    "# SUCCESS\n",
    "mol = Chem.MolFromXYZBlock(xyz_block)\n",
    "try:\n",
    "    rdDetermineBonds.DetermineBonds(mol, charge=-1)\n",
    "except Exception as e:\n",
    "    print(e)\n",
    "mol"
   ]
  },
  {
   "cell_type": "markdown",
   "metadata": {},
   "source": [
    "### MolOP 😏"
   ]
  },
  {
   "cell_type": "code",
   "execution_count": 13,
   "metadata": {},
   "outputs": [
    {
     "data": {
      "image/png": "[encoded data removed]",
      "text/plain": [
       "<rdkit.Chem.rdchem.Mol at 0x7f23af7233c0>"
      ]
     },
     "execution_count": 13,
     "metadata": {},
     "output_type": "execute_result"
    }
   ],
   "source": [
    "# SUCCESS\n",
    "try:\n",
    "    mol = Chem.MolFromMolBlock(\n",
    "        xyz_block_to_omol(xyz_block, total_charge=-1, total_radical=0).write(\"sdf\"),\n",
    "        removeHs=False,\n",
    "    )\n",
    "except Exception as e:\n",
    "    print(e)\n",
    "mol"
   ]
  },
  {
   "cell_type": "markdown",
   "metadata": {},
   "source": [
    "## under-bonded organic molecule with charge (e.g. `c1cccc[c+]1`)"
   ]
  },
  {
   "cell_type": "code",
   "execution_count": 14,
   "metadata": {},
   "outputs": [
    {
     "name": "stdout",
     "output_type": "stream",
     "text": [
      "11\n",
      "\n",
      "C     -1.257319   -0.734611    0.365230\n",
      "C     -1.077749    0.576186    0.333634\n",
      "C      0.193172    1.174867   -0.037994\n",
      "C      1.177864    0.344796   -0.347997\n",
      "C      0.973299   -1.091761   -0.311040\n",
      "C     -0.168177   -1.600708    0.023229\n",
      "H     -2.233640   -1.146734    0.651540\n",
      "H     -1.903566    1.258738    0.593355\n",
      "H      0.366472    2.249705   -0.071715\n",
      "H      2.162936    0.747226   -0.637128\n",
      "H      1.766708   -1.777703   -0.561112\n",
      "\n"
     ]
    }
   ],
   "source": [
    "xyz_block = smi2xyz(\"c1cccc[c+]1\")\n",
    "print(xyz_block)"
   ]
  },
  {
   "cell_type": "markdown",
   "metadata": {},
   "source": [
    "### OpenBabel 😰"
   ]
  },
  {
   "cell_type": "code",
   "execution_count": 15,
   "metadata": {},
   "outputs": [
    {
     "data": {
      "image/png": "[encoded data removed]",
      "text/plain": [
       "<rdkit.Chem.rdchem.Mol at 0x7f23af723350>"
      ]
     },
     "execution_count": 15,
     "metadata": {},
     "output_type": "execute_result"
    }
   ],
   "source": [
    "# FAILED\n",
    "try:\n",
    "    mol = Chem.MolFromMolBlock(\n",
    "        pybel.readstring(\"xyz\", xyz_block).write(\"sdf\"), removeHs=False\n",
    "    )\n",
    "except Exception as e:\n",
    "    print(e)\n",
    "mol"
   ]
  },
  {
   "cell_type": "markdown",
   "metadata": {},
   "source": [
    "### RDKit 😰"
   ]
  },
  {
   "cell_type": "code",
   "execution_count": 16,
   "metadata": {},
   "outputs": [
    {
     "data": {
      "image/png": "[encoded data removed]",
      "text/plain": [
       "<rdkit.Chem.rdchem.Mol at 0x7f23af7235f0>"
      ]
     },
     "execution_count": 16,
     "metadata": {},
     "output_type": "execute_result"
    }
   ],
   "source": [
    "# FAILED\n",
    "mol = Chem.MolFromXYZBlock(xyz_block)\n",
    "try:\n",
    "    rdDetermineBonds.DetermineBonds(mol, charge=1)\n",
    "except Exception as e:\n",
    "    print(e)\n",
    "mol"
   ]
  },
  {
   "cell_type": "markdown",
   "metadata": {},
   "source": [
    "### MolOP 😏"
   ]
  },
  {
   "cell_type": "code",
   "execution_count": 17,
   "metadata": {},
   "outputs": [
    {
     "data": {
      "image/png": "[encoded data removed]",
      "text/plain": [
       "<rdkit.Chem.rdchem.Mol at 0x7f23af723890>"
      ]
     },
     "execution_count": 17,
     "metadata": {},
     "output_type": "execute_result"
    }
   ],
   "source": [
    "# SUCCESS\n",
    "try:\n",
    "    mol = Chem.MolFromMolBlock(\n",
    "        xyz_block_to_omol(xyz_block, total_charge=1, total_radical=0).write(\"sdf\"),\n",
    "        removeHs=False,\n",
    "    )\n",
    "except Exception as e:\n",
    "    print(e)\n",
    "mol"
   ]
  },
  {
   "cell_type": "markdown",
   "metadata": {},
   "source": [
    "## under-bonded organic molecule with charge (e.g. `c1cccc[c-]1`)"
   ]
  },
  {
   "cell_type": "code",
   "execution_count": 18,
   "metadata": {},
   "outputs": [
    {
     "name": "stdout",
     "output_type": "stream",
     "text": [
      "11\n",
      "\n",
      "C      1.369202   -0.553682   -0.002753\n",
      "C      1.047180    0.786115   -0.007534\n",
      "C     -0.290439    1.118685   -0.003908\n",
      "C     -1.255666    0.115232    0.004298\n",
      "C     -0.920652   -1.220888    0.009022\n",
      "C      0.414642   -1.558754    0.005423\n",
      "H      2.415039   -0.850668   -0.005506\n",
      "H      1.840902    1.545172   -0.013960\n",
      "H     -0.599040    2.155231   -0.007392\n",
      "H     -2.292618    0.403411    0.006967\n",
      "H     -1.728551   -1.939853    0.015343\n",
      "\n"
     ]
    }
   ],
   "source": [
    "xyz_block = smi2xyz(\"c1cccc[c-]1\")\n",
    "print(xyz_block)"
   ]
  },
  {
   "cell_type": "markdown",
   "metadata": {},
   "source": [
    "### OpenBabel 😰"
   ]
  },
  {
   "cell_type": "code",
   "execution_count": 19,
   "metadata": {},
   "outputs": [
    {
     "data": {
      "image/png": "[encoded data removed]",
      "text/plain": [
       "<rdkit.Chem.rdchem.Mol at 0x7f23af7236d0>"
      ]
     },
     "execution_count": 19,
     "metadata": {},
     "output_type": "execute_result"
    }
   ],
   "source": [
    "# FAILED\n",
    "try:\n",
    "    mol = Chem.MolFromMolBlock(\n",
    "        pybel.readstring(\"xyz\", xyz_block).write(\"sdf\"), removeHs=False\n",
    "    )\n",
    "except Exception as e:\n",
    "    print(e)\n",
    "mol"
   ]
  },
  {
   "cell_type": "markdown",
   "metadata": {},
   "source": [
    "### RDKit 😏"
   ]
  },
  {
   "cell_type": "code",
   "execution_count": 20,
   "metadata": {},
   "outputs": [
    {
     "data": {
      "image/png": "[encoded data removed]",
      "text/plain": [
       "<rdkit.Chem.rdchem.Mol at 0x7f23af7230b0>"
      ]
     },
     "execution_count": 20,
     "metadata": {},
     "output_type": "execute_result"
    }
   ],
   "source": [
    "# SUCCESS\n",
    "mol = Chem.MolFromXYZBlock(xyz_block)\n",
    "try:\n",
    "    rdDetermineBonds.DetermineBonds(mol, charge=-1)\n",
    "except Exception as e:\n",
    "    print(e)\n",
    "mol"
   ]
  },
  {
   "cell_type": "markdown",
   "metadata": {},
   "source": [
    "### MolOP 😏"
   ]
  },
  {
   "cell_type": "code",
   "execution_count": 21,
   "metadata": {},
   "outputs": [
    {
     "data": {
      "image/png": "[encoded data removed]",
      "text/plain": [
       "<rdkit.Chem.rdchem.Mol at 0x7f23af723cf0>"
      ]
     },
     "execution_count": 21,
     "metadata": {},
     "output_type": "execute_result"
    }
   ],
   "source": [
    "# SUCCESS\n",
    "try:\n",
    "    mol = Chem.MolFromMolBlock(\n",
    "        xyz_block_to_omol(xyz_block, total_charge=-1, total_radical=0).write(\"sdf\"),\n",
    "        removeHs=False,\n",
    "    )\n",
    "except Exception as e:\n",
    "    print(e)\n",
    "mol"
   ]
  },
  {
   "cell_type": "markdown",
   "metadata": {},
   "source": [
    "## over-bonded organic molecule (e.g. `[NH4+]`)"
   ]
  },
  {
   "cell_type": "code",
   "execution_count": 22,
   "metadata": {},
   "outputs": [
    {
     "name": "stdout",
     "output_type": "stream",
     "text": [
      "5\n",
      "\n",
      "N      0.005694   -0.008689   -0.011089\n",
      "H     -0.712822   -0.155362   -0.755970\n",
      "H      0.432924    0.947575   -0.069672\n",
      "H     -0.497243   -0.075688    0.909461\n",
      "H      0.771447   -0.707837   -0.072729\n",
      "\n"
     ]
    }
   ],
   "source": [
    "xyz_block = smi2xyz(\"[NH4+]\")\n",
    "print(xyz_block)"
   ]
  },
  {
   "cell_type": "markdown",
   "metadata": {},
   "source": [
    "### OpenBabel 😰"
   ]
  },
  {
   "cell_type": "code",
   "execution_count": 23,
   "metadata": {},
   "outputs": [],
   "source": [
    "# FAILED\n",
    "try:\n",
    "    mol = Chem.MolFromMolBlock(\n",
    "        pybel.readstring(\"xyz\", xyz_block).write(\"sdf\"), removeHs=False\n",
    "    )\n",
    "except Exception as e:\n",
    "    print(e)\n",
    "mol"
   ]
  },
  {
   "cell_type": "markdown",
   "metadata": {},
   "source": [
    "### RDKit 😏"
   ]
  },
  {
   "cell_type": "code",
   "execution_count": 24,
   "metadata": {},
   "outputs": [
    {
     "data": {
      "image/png": "[encoded data removed]",
      "text/plain": [
       "<rdkit.Chem.rdchem.Mol at 0x7f23af723eb0>"
      ]
     },
     "execution_count": 24,
     "metadata": {},
     "output_type": "execute_result"
    }
   ],
   "source": [
    "# SUCCESS\n",
    "mol = Chem.MolFromXYZBlock(xyz_block)\n",
    "try:\n",
    "    rdDetermineBonds.DetermineBonds(mol, charge=1)\n",
    "except Exception as e:\n",
    "    print(e)\n",
    "mol"
   ]
  },
  {
   "cell_type": "markdown",
   "metadata": {},
   "source": [
    "### MolOP 😏"
   ]
  },
  {
   "cell_type": "code",
   "execution_count": 25,
   "metadata": {},
   "outputs": [
    {
     "data": {
      "image/png": "[encoded data removed]",
      "text/plain": [
       "<rdkit.Chem.rdchem.Mol at 0x7f23af723f20>"
      ]
     },
     "execution_count": 25,
     "metadata": {},
     "output_type": "execute_result"
    }
   ],
   "source": [
    "# SUCCESS\n",
    "try:\n",
    "    mol = Chem.MolFromMolBlock(\n",
    "        xyz_block_to_omol(xyz_block, total_charge=1, total_radical=0).write(\"sdf\"),\n",
    "        removeHs=False,\n",
    "    )\n",
    "except Exception as e:\n",
    "    print(e)\n",
    "mol"
   ]
  },
  {
   "cell_type": "markdown",
   "metadata": {},
   "source": [
    "## Dipole (e.g. `C[N+](-[O-])=O`)"
   ]
  },
  {
   "cell_type": "code",
   "execution_count": 26,
   "metadata": {},
   "outputs": [
    {
     "name": "stdout",
     "output_type": "stream",
     "text": [
      "7\n",
      "\n",
      "C     -0.640897   -0.059355    0.039171\n",
      "N      0.801835   -0.012953   -0.043274\n",
      "O      1.436242    1.194652   -0.214508\n",
      "O      1.532890   -1.017939    0.031884\n",
      "H     -0.989593   -0.051821    1.106636\n",
      "H     -1.055013    0.859306   -0.422752\n",
      "H     -1.085463   -0.911890   -0.497157\n",
      "\n"
     ]
    }
   ],
   "source": [
    "xyz_block = smi2xyz(\"C[N+](-[O-])=O\")\n",
    "print(xyz_block)"
   ]
  },
  {
   "cell_type": "markdown",
   "metadata": {},
   "source": [
    "### OpenBabel 😏"
   ]
  },
  {
   "cell_type": "code",
   "execution_count": 27,
   "metadata": {},
   "outputs": [
    {
     "data": {
      "image/png": "[encoded data removed]",
      "text/plain": [
       "<rdkit.Chem.rdchem.Mol at 0x7f23af72b270>"
      ]
     },
     "execution_count": 27,
     "metadata": {},
     "output_type": "execute_result"
    }
   ],
   "source": [
    "# SUCCESS\n",
    "try:\n",
    "    mol = Chem.MolFromMolBlock(\n",
    "        pybel.readstring(\"xyz\", xyz_block).write(\"sdf\"), removeHs=False\n",
    "    )\n",
    "except Exception as e:\n",
    "    print(e)\n",
    "mol"
   ]
  },
  {
   "cell_type": "markdown",
   "metadata": {},
   "source": [
    "### RDKit 😏"
   ]
  },
  {
   "cell_type": "code",
   "execution_count": 28,
   "metadata": {},
   "outputs": [
    {
     "data": {
      "image/png": "[encoded data removed]",
      "text/plain": [
       "<rdkit.Chem.rdchem.Mol at 0x7f23af872580>"
      ]
     },
     "execution_count": 28,
     "metadata": {},
     "output_type": "execute_result"
    }
   ],
   "source": [
    "# SUCCESS\n",
    "mol = Chem.MolFromXYZBlock(xyz_block)\n",
    "try:\n",
    "    rdDetermineBonds.DetermineBonds(mol, charge=0)\n",
    "except Exception as e:\n",
    "    print(e)\n",
    "mol"
   ]
  },
  {
   "cell_type": "markdown",
   "metadata": {},
   "source": [
    "### MolOP 😏"
   ]
  },
  {
   "cell_type": "code",
   "execution_count": 29,
   "metadata": {},
   "outputs": [
    {
     "data": {
      "image/png": "[encoded data removed]",
      "text/plain": [
       "<rdkit.Chem.rdchem.Mol at 0x7f23af72b4a0>"
      ]
     },
     "execution_count": 29,
     "metadata": {},
     "output_type": "execute_result"
    }
   ],
   "source": [
    "# SUCCESS\n",
    "try:\n",
    "    mol = Chem.MolFromMolBlock(\n",
    "        xyz_block_to_omol(xyz_block, total_charge=0, total_radical=0).write(\"sdf\"),\n",
    "        removeHs=False,\n",
    "    )\n",
    "except Exception as e:\n",
    "    print(e)\n",
    "mol"
   ]
  },
  {
   "cell_type": "markdown",
   "metadata": {},
   "source": [
    "## Dipole (e.g. `C[N+]#[C-]`)"
   ]
  },
  {
   "cell_type": "code",
   "execution_count": 30,
   "metadata": {},
   "outputs": [
    {
     "name": "stdout",
     "output_type": "stream",
     "text": [
      "6\n",
      "\n",
      "C     -0.442273    0.187993   -0.054760\n",
      "N      0.842246   -0.393424    0.098413\n",
      "C      1.885706   -0.844695    0.216347\n",
      "H     -0.936553   -0.158805   -0.970139\n",
      "H     -1.057222   -0.084126    0.799519\n",
      "H     -0.291904    1.293057   -0.089380\n",
      "\n"
     ]
    }
   ],
   "source": [
    "xyz_block = smi2xyz(\"C[N+]#[C-]\")\n",
    "print(xyz_block)"
   ]
  },
  {
   "cell_type": "markdown",
   "metadata": {},
   "source": [
    "### OpenBabel 😰"
   ]
  },
  {
   "cell_type": "code",
   "execution_count": 31,
   "metadata": {},
   "outputs": [],
   "source": [
    "# FAILED\n",
    "try:\n",
    "    mol = Chem.MolFromMolBlock(\n",
    "        pybel.readstring(\"xyz\", xyz_block).write(\"sdf\"), removeHs=False\n",
    "    )\n",
    "except Exception as e:\n",
    "    print(e)\n",
    "mol"
   ]
  },
  {
   "cell_type": "markdown",
   "metadata": {},
   "source": [
    "### RDKit 😏"
   ]
  },
  {
   "cell_type": "code",
   "execution_count": 32,
   "metadata": {},
   "outputs": [
    {
     "data": {
      "image/png": "[encoded data removed]",
      "text/plain": [
       "<rdkit.Chem.rdchem.Mol at 0x7f23af72b190>"
      ]
     },
     "execution_count": 32,
     "metadata": {},
     "output_type": "execute_result"
    }
   ],
   "source": [
    "# SUCCESS\n",
    "mol = Chem.MolFromXYZBlock(xyz_block)\n",
    "try:\n",
    "    rdDetermineBonds.DetermineBonds(mol, charge=0)\n",
    "except Exception as e:\n",
    "    print(e)\n",
    "mol"
   ]
  },
  {
   "cell_type": "markdown",
   "metadata": {},
   "source": [
    "### MolOP 😏"
   ]
  },
  {
   "cell_type": "code",
   "execution_count": 33,
   "metadata": {},
   "outputs": [
    {
     "data": {
      "image/png": "[encoded data removed]",
      "text/plain": [
       "<rdkit.Chem.rdchem.Mol at 0x7f23af72b890>"
      ]
     },
     "execution_count": 33,
     "metadata": {},
     "output_type": "execute_result"
    }
   ],
   "source": [
    "# SUCCESS\n",
    "try:\n",
    "    mol = Chem.MolFromMolBlock(\n",
    "        xyz_block_to_omol(xyz_block, total_charge=0, total_radical=0).write(\"sdf\"),\n",
    "        removeHs=False,\n",
    "    )\n",
    "except Exception as e:\n",
    "    print(e)\n",
    "mol"
   ]
  },
  {
   "cell_type": "markdown",
   "metadata": {},
   "source": [
    "## Dipole (e.g. `C=[N+]=[N-]`)"
   ]
  },
  {
   "cell_type": "code",
   "execution_count": 34,
   "metadata": {},
   "outputs": [
    {
     "name": "stdout",
     "output_type": "stream",
     "text": [
      "5\n",
      "\n",
      "C     -0.507566    0.006027    0.001143\n",
      "N      0.723277   -0.005179    0.233292\n",
      "N      1.932968    0.008579   -0.077770\n",
      "H     -1.064941    0.898872   -0.254763\n",
      "H     -1.083738   -0.908298    0.048658\n",
      "\n"
     ]
    }
   ],
   "source": [
    "xyz_block = smi2xyz(\"C=[N+]=[N-]\")\n",
    "print(xyz_block)"
   ]
  },
  {
   "cell_type": "markdown",
   "metadata": {},
   "source": [
    "### OpenBabel 😰"
   ]
  },
  {
   "cell_type": "code",
   "execution_count": 35,
   "metadata": {},
   "outputs": [
    {
     "data": {
      "image/png": "[encoded data removed]",
      "text/plain": [
       "<rdkit.Chem.rdchem.Mol at 0x7f23af72b7b0>"
      ]
     },
     "execution_count": 35,
     "metadata": {},
     "output_type": "execute_result"
    }
   ],
   "source": [
    "# FAILED\n",
    "try:\n",
    "    mol = Chem.MolFromMolBlock(\n",
    "        pybel.readstring(\"xyz\", xyz_block).write(\"sdf\"), removeHs=False\n",
    "    )\n",
    "except Exception as e:\n",
    "    print(e)\n",
    "mol"
   ]
  },
  {
   "cell_type": "markdown",
   "metadata": {},
   "source": [
    "### RDKit 😏"
   ]
  },
  {
   "cell_type": "code",
   "execution_count": 36,
   "metadata": {},
   "outputs": [
    {
     "data": {
      "image/png": "[encoded data removed]",
      "text/plain": [
       "<rdkit.Chem.rdchem.Mol at 0x7f23af72b2e0>"
      ]
     },
     "execution_count": 36,
     "metadata": {},
     "output_type": "execute_result"
    }
   ],
   "source": [
    "# SUCCESS\n",
    "mol = Chem.MolFromXYZBlock(xyz_block)\n",
    "try:\n",
    "    rdDetermineBonds.DetermineBonds(mol, charge=0)\n",
    "except Exception as e:\n",
    "    print(e)\n",
    "mol"
   ]
  },
  {
   "cell_type": "markdown",
   "metadata": {},
   "source": [
    "### MolOP 😏"
   ]
  },
  {
   "cell_type": "code",
   "execution_count": 37,
   "metadata": {},
   "outputs": [
    {
     "data": {
      "image/png": "[encoded data removed]",
      "text/plain": [
       "<rdkit.Chem.rdchem.Mol at 0x7f23af72bc10>"
      ]
     },
     "execution_count": 37,
     "metadata": {},
     "output_type": "execute_result"
    }
   ],
   "source": [
    "# SUCCESS\n",
    "try:\n",
    "    mol = Chem.MolFromMolBlock(\n",
    "        xyz_block_to_omol(xyz_block, total_charge=0,\n",
    "                          total_radical=0).write(\"sdf\"),\n",
    "        removeHs=False,\n",
    "    )\n",
    "except Exception as e:\n",
    "    print(e)\n",
    "mol"
   ]
  },
  {
   "cell_type": "markdown",
   "metadata": {},
   "source": [
    "## Ylide (e.g. `c1ccccc1-P(-c1ccccc1)(-c1ccccc1)=C`)"
   ]
  },
  {
   "cell_type": "markdown",
   "metadata": {},
   "source": [
    "## "
   ]
  },
  {
   "cell_type": "code",
   "execution_count": 38,
   "metadata": {},
   "outputs": [
    {
     "name": "stdout",
     "output_type": "stream",
     "text": [
      "37\n",
      "\n",
      "C      1.782538   -1.193080    0.667514\n",
      "C      2.824333   -2.069376    0.890306\n",
      "C      3.394737   -2.786729   -0.153139\n",
      "C      2.883853   -2.594407   -1.427055\n",
      "C      1.834661   -1.710804   -1.646109\n",
      "C      1.278366   -1.003717   -0.591792\n",
      "P     -0.070869    0.137835   -0.847664\n",
      "C      0.261526    1.697748   -0.022411\n",
      "C      1.520667    2.009836    0.452138\n",
      "C      1.775041    3.208095    1.085792\n",
      "C      0.751932    4.134414    1.259156\n",
      "C     -0.491869    3.791571    0.774018\n",
      "C     -0.768672    2.599714    0.137579\n",
      "C     -1.608409   -0.561945   -0.293731\n",
      "C     -1.598136   -1.568119    0.640663\n",
      "C     -2.753919   -2.156270    1.114697\n",
      "C     -3.959360   -1.703795    0.619919\n",
      "C     -3.969912   -0.682950   -0.328107\n",
      "C     -2.786918   -0.113474   -0.783121\n",
      "C     -0.212952    0.464558   -2.423040\n",
      "H      1.385273   -0.667269    1.522733\n",
      "H      3.233648   -2.231814    1.870013\n",
      "H      4.215107   -3.476765    0.022357\n",
      "H      3.326451   -3.149558   -2.229471\n",
      "H      1.455256   -1.579894   -2.650670\n",
      "H      2.345633    1.322255    0.340456\n",
      "H      2.747146    3.481846    1.467702\n",
      "H      0.941605    5.088139    1.760187\n",
      "H     -1.303843    4.497073    0.897564\n",
      "H     -1.786901    2.399143   -0.221634\n",
      "H     -0.656654   -1.956975    1.060005\n",
      "H     -2.745601   -2.952258    1.853901\n",
      "H     -4.883265   -2.150256    0.976865\n",
      "H     -4.932966   -0.352954   -0.694162\n",
      "H     -2.890828    0.677080   -1.523239\n",
      "H     -1.162464    0.778573   -2.818390\n",
      "H      0.625763    0.374527   -3.089246\n",
      "\n"
     ]
    }
   ],
   "source": [
    "xyz_block = smi2xyz(\"c1ccccc1-P(-c1ccccc1)(-c1ccccc1)=C\")\n",
    "print(xyz_block)"
   ]
  },
  {
   "cell_type": "markdown",
   "metadata": {},
   "source": [
    "### OpenBabel 😰"
   ]
  },
  {
   "cell_type": "code",
   "execution_count": 39,
   "metadata": {},
   "outputs": [
    {
     "data": {
      "image/png": "[encoded data removed]",
      "text/plain": [
       "<rdkit.Chem.rdchem.Mol at 0x7f23af72be40>"
      ]
     },
     "execution_count": 39,
     "metadata": {},
     "output_type": "execute_result"
    }
   ],
   "source": [
    "# FAILED\n",
    "try:\n",
    "    mol = Chem.MolFromMolBlock(\n",
    "        pybel.readstring(\"xyz\", xyz_block).write(\"sdf\"), removeHs=False\n",
    "    )\n",
    "except Exception as e:\n",
    "    print(e)\n",
    "mol"
   ]
  },
  {
   "cell_type": "markdown",
   "metadata": {},
   "source": [
    "### RDKit 😏"
   ]
  },
  {
   "cell_type": "code",
   "execution_count": 40,
   "metadata": {},
   "outputs": [
    {
     "data": {
      "image/png": "[encoded data removed]",
      "text/plain": [
       "<rdkit.Chem.rdchem.Mol at 0x7f23af72bac0>"
      ]
     },
     "execution_count": 40,
     "metadata": {},
     "output_type": "execute_result"
    }
   ],
   "source": [
    "# SUCCESS\n",
    "mol = Chem.MolFromXYZBlock(xyz_block)\n",
    "try:\n",
    "    rdDetermineBonds.DetermineBonds(mol, charge=0)\n",
    "except Exception as e:\n",
    "    print(e)\n",
    "mol"
   ]
  },
  {
   "cell_type": "markdown",
   "metadata": {},
   "source": [
    "### MolOP 😏"
   ]
  },
  {
   "cell_type": "code",
   "execution_count": 41,
   "metadata": {},
   "outputs": [
    {
     "data": {
      "image/png": "[encoded data removed]",
      "text/plain": [
       "<rdkit.Chem.rdchem.Mol at 0x7f23af72bf90>"
      ]
     },
     "execution_count": 41,
     "metadata": {},
     "output_type": "execute_result"
    }
   ],
   "source": [
    "# SUCCESS\n",
    "try:\n",
    "    mol = Chem.MolFromMolBlock(\n",
    "        xyz_block_to_omol(xyz_block, total_charge=0, total_radical=0).write(\"sdf\"),\n",
    "        removeHs=False,\n",
    "    )\n",
    "except Exception as e:\n",
    "    print(e)\n",
    "mol"
   ]
  },
  {
   "cell_type": "markdown",
   "metadata": {},
   "source": [
    "## Inner salt (e.g. `[O-]C(=O)CCCC[NH3+]`)"
   ]
  },
  {
   "cell_type": "code",
   "execution_count": 42,
   "metadata": {},
   "outputs": [
    {
     "name": "stdout",
     "output_type": "stream",
     "text": [
      "19\n",
      "\n",
      "O     -3.497035    1.535890   -0.107378\n",
      "C     -3.024224    0.227652   -0.079676\n",
      "O     -3.781376   -0.714849   -0.442898\n",
      "C     -1.635492   -0.089096    0.371660\n",
      "C     -0.764147   -0.318753   -0.817080\n",
      "C      0.651737   -0.646184   -0.488508\n",
      "C      1.297834    0.463160    0.289386\n",
      "N      2.675637    0.173903    0.621940\n",
      "H     -1.670267   -0.949095    1.067318\n",
      "H     -1.305145    0.787412    0.965677\n",
      "H     -0.806517    0.608780   -1.440613\n",
      "H     -1.211557   -1.119465   -1.452855\n",
      "H      1.234989   -0.777415   -1.434945\n",
      "H      0.733234   -1.616566    0.040334\n",
      "H      0.708724    0.627934    1.207785\n",
      "H      1.258766    1.382312   -0.325614\n",
      "H      2.927530   -0.823068    0.495446\n",
      "H      3.319266    0.739412   -0.001199\n",
      "H      2.888043    0.508036    1.601180\n",
      "\n"
     ]
    }
   ],
   "source": [
    "xyz_block = smi2xyz(\"[O-]C(=O)CCCC[NH3+]\")\n",
    "print(xyz_block)"
   ]
  },
  {
   "cell_type": "markdown",
   "metadata": {},
   "source": [
    "### OpenBabel 😰"
   ]
  },
  {
   "cell_type": "code",
   "execution_count": 43,
   "metadata": {},
   "outputs": [],
   "source": [
    "# FAILED\n",
    "try:\n",
    "    mol = Chem.MolFromMolBlock(\n",
    "        pybel.readstring(\"xyz\", xyz_block).write(\"sdf\"), removeHs=False\n",
    "    )\n",
    "except Exception as e:\n",
    "    print(e)\n",
    "mol"
   ]
  },
  {
   "cell_type": "markdown",
   "metadata": {},
   "source": [
    "### RDKit 😏"
   ]
  },
  {
   "cell_type": "code",
   "execution_count": 44,
   "metadata": {},
   "outputs": [
    {
     "data": {
      "image/png": "[encoded data removed]",
      "text/plain": [
       "<rdkit.Chem.rdchem.Mol at 0x7f23af72beb0>"
      ]
     },
     "execution_count": 44,
     "metadata": {},
     "output_type": "execute_result"
    }
   ],
   "source": [
    "# SUCCESS\n",
    "mol = Chem.MolFromXYZBlock(xyz_block)\n",
    "try:\n",
    "    rdDetermineBonds.DetermineBonds(mol, charge=0)\n",
    "except Exception as e:\n",
    "    print(e)\n",
    "mol"
   ]
  },
  {
   "cell_type": "markdown",
   "metadata": {},
   "source": [
    "### MolOP 😏"
   ]
  },
  {
   "cell_type": "code",
   "execution_count": 45,
   "metadata": {},
   "outputs": [
    {
     "data": {
      "image/png": "[encoded data removed]",
      "text/plain": [
       "<rdkit.Chem.rdchem.Mol at 0x7f23af72c2e0>"
      ]
     },
     "execution_count": 45,
     "metadata": {},
     "output_type": "execute_result"
    }
   ],
   "source": [
    "# SUCCESS\n",
    "try:\n",
    "    mol = Chem.MolFromMolBlock(\n",
    "        xyz_block_to_omol(xyz_block, total_charge=0, total_radical=0).write(\"sdf\"),\n",
    "        removeHs=False,\n",
    "    )\n",
    "except Exception as e:\n",
    "    print(e)\n",
    "mol"
   ]
  },
  {
   "cell_type": "markdown",
   "metadata": {},
   "source": [
    "## Metal complex"
   ]
  },
  {
   "cell_type": "code",
   "execution_count": 46,
   "metadata": {},
   "outputs": [
    {
     "name": "stderr",
     "output_type": "stream",
     "text": [
      "MolOP parsing with single thread: 100%|██████████| 1/1 [00:00<00:00,  9.19it/s]\n",
      "0 files failed to parse, 1 successfully parsed\n"
     ]
    },
    {
     "name": "stdout",
     "output_type": "stream",
     "text": [
      "47\n",
      "charge 0 multiplicity 1\n",
      "Ni           0.73613   0.07260  -0.04303\n",
      "Br           2.32019   0.04379   1.90220\n",
      "Br           2.64289   0.59055  -1.49799\n",
      "N            0.44783   2.20870  -0.07042\n",
      "C            0.08993   2.90740  -1.12890\n",
      "C            0.80384   3.10411   0.91398\n",
      "H           -0.20168   2.48670  -2.07975\n",
      "C            0.64814   4.37871   0.43649\n",
      "H            1.17333   2.75142   1.86475\n",
      "H            0.01735   4.98363  -1.51918\n",
      "H            0.82359   5.34692   0.87856\n",
      "N           -0.73693   0.01678   1.25255\n",
      "C           -1.78346   0.82464   1.20452\n",
      "C           -0.83703  -0.72722   2.41518\n",
      "H           -2.00544   1.52287   0.41919\n",
      "C           -1.98111  -0.36500   3.06750\n",
      "H           -0.06878  -1.43072   2.68716\n",
      "H           -3.46472   1.05245   2.42732\n",
      "H           -2.41182  -0.69263   3.99991\n",
      "N           -2.55821   0.63058   2.29284\n",
      "N            0.18716   4.23588  -0.86269\n",
      "S           -0.28581  -0.48187  -2.05155\n",
      "C           -1.94973  -1.27285  -2.03588\n",
      "H           -2.17173  -1.33018  -3.10930\n",
      "H           -1.85051  -2.29931  -1.67533\n",
      "C           -3.06887  -0.55544  -1.32947\n",
      "C           -3.81905  -1.20195  -0.34163\n",
      "C           -3.40765   0.76230  -1.67239\n",
      "C           -4.87405  -0.54879   0.30044\n",
      "H           -3.57622  -2.22672  -0.07426\n",
      "C           -4.45528   1.42034  -1.03190\n",
      "H           -2.82954   1.27162  -2.43878\n",
      "C           -5.19286   0.76702  -0.03714\n",
      "H           -5.44639  -1.07155   1.06217\n",
      "H           -4.70655   2.43959  -1.31298\n",
      "H           -6.02064   1.27442   0.45112\n",
      "C            0.67849  -1.97265  -0.42004\n",
      "C            1.87547  -2.57089  -0.81729\n",
      "C           -0.32018  -2.73075   0.19278\n",
      "C            2.09332  -3.91698  -0.52179\n",
      "H            2.63521  -1.99637  -1.32795\n",
      "C           -0.08900  -4.08093   0.47858\n",
      "H           -1.26354  -2.28800   0.47788\n",
      "C            1.11931  -4.67852   0.12855\n",
      "H            3.03803  -4.36911  -0.81163\n",
      "H           -0.86468  -4.65557   0.97906\n",
      "H            1.29794  -5.72710   0.34838\n"
     ]
    }
   ],
   "source": [
    "xyz_block = AutoParser(\n",
    "    \"../../tests/test_files/g16log/S_Ph_Ni_TS.log\",\n",
    ")[\n",
    "    0\n",
    "][-1].to_XYZ_block()\n",
    "print(xyz_block)"
   ]
  },
  {
   "cell_type": "markdown",
   "metadata": {},
   "source": [
    "### OpenBabel 😰"
   ]
  },
  {
   "cell_type": "code",
   "execution_count": 47,
   "metadata": {},
   "outputs": [
    {
     "data": {
      "image/png": "[encoded data removed]",
      "text/plain": [
       "<rdkit.Chem.rdchem.Mol at 0x7f23af72c9e0>"
      ]
     },
     "execution_count": 47,
     "metadata": {},
     "output_type": "execute_result"
    }
   ],
   "source": [
    "# FAILED\n",
    "try:\n",
    "    mol = Chem.MolFromMolBlock(\n",
    "        pybel.readstring(\"xyz\", xyz_block).write(\"sdf\"), removeHs=False\n",
    "    )\n",
    "except Exception as e:\n",
    "    print(e)\n",
    "mol"
   ]
  },
  {
   "cell_type": "markdown",
   "metadata": {},
   "source": [
    "### RDKit 😰"
   ]
  },
  {
   "cell_type": "code",
   "execution_count": 48,
   "metadata": {},
   "outputs": [
    {
     "name": "stdout",
     "output_type": "stream",
     "text": [
      "determineBondOrdering() does not work with element Ni\n"
     ]
    },
    {
     "data": {
      "image/png": "[encoded data removed]",
      "text/plain": [
       "<rdkit.Chem.rdchem.Mol at 0x7f23af872c10>"
      ]
     },
     "execution_count": 48,
     "metadata": {},
     "output_type": "execute_result"
    }
   ],
   "source": [
    "# FAILED\n",
    "mol = Chem.MolFromXYZBlock(xyz_block)\n",
    "try:\n",
    "    rdDetermineBonds.DetermineBonds(mol, charge=0)\n",
    "except Exception as e:\n",
    "    print(e)\n",
    "mol"
   ]
  },
  {
   "cell_type": "markdown",
   "metadata": {},
   "source": [
    "### MolOP 😏"
   ]
  },
  {
   "cell_type": "code",
   "execution_count": 49,
   "metadata": {},
   "outputs": [
    {
     "data": {
      "image/png": "[encoded data removed]",
      "text/plain": [
       "<rdkit.Chem.rdchem.Mol at 0x7f23af72cc10>"
      ]
     },
     "execution_count": 49,
     "metadata": {},
     "output_type": "execute_result"
    }
   ],
   "source": [
    "# SUCCESS\n",
    "try:\n",
    "    mol = Chem.MolFromMolBlock(\n",
    "        xyz_block_to_omol(xyz_block, total_charge=0, total_radical=0).write(\"sdf\"),\n",
    "        removeHs=False,\n",
    "    )\n",
    "except Exception as e:\n",
    "    print(e)\n",
    "mol"
   ]
  },
  {
   "cell_type": "code",
   "execution_count": null,
   "metadata": {},
   "outputs": [],
   "source": []
  }
 ],
 "metadata": {
  "kernelspec": {
   "display_name": "molop",
   "language": "python",
   "name": "python3"
  },
  "language_info": {
   "codemirror_mode": {
    "name": "ipython",
    "version": 3
   },
   "file_extension": ".py",
   "mimetype": "text/x-python",
   "name": "python",
   "nbconvert_exporter": "python",
   "pygments_lexer": "ipython3",
   "version": "3.8.19"
  }
 },
 "nbformat": 4,
 "nbformat_minor": 2
}
