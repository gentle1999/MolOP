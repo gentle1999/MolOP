{
 "cells": [
  {
   "cell_type": "markdown",
   "metadata": {},
   "source": [
    "<!--\n",
    " * @Author: TMJ\n",
    " * @Date: 2024-03-08 21:11:46\n",
    " * @LastEditors: TMJ\n",
    " * @LastEditTime: 2024-03-08 21:19:40\n",
    " * @Description: 请填写简介\n",
    "-->\n",
    "# Structure recovery benchmark\n",
    "\n",
    "Recovering molecular topology from coordinate files is a very practical need. Many cheminformaticians use desktop software such as Gaussian View to visually recover molecular topologies and adjust suspicious bonding relationships in them in real time. Such an approach can make the molecular structure exactly as the chemist knows it, but unfortunately it requires a lot of human involvement! There is a rising demand for automated tools when trying to construct molecular datasets from existing quantum chemistry calculations or coordinate files.\n",
    "\n",
    "The popular open-source cheminformatics tools OpenBabel and RDKit both offer the ability to recover molecular topology from coordinate files, but unfortunately, they both suffer from some fatal problems. These problems made it impossible for me to continue my chemistry database building project, so I decided to create a new project to learn from their strengths and overcome their problems - MolOP was born for this purpose!\n",
    "\n",
    "|     functions     | OpenBabel | RDKit | MolOP |\n",
    "| :---------------: | :-------: | :---: | :---: |\n",
    "| Neutral Molecule  |     😏     |   😏   |   😏   |\n",
    "| Charge processing |     😰     |   😏   |   😏   |\n",
    "| Metel processing  |     😏     |   😰   |   😏   |\n"
   ]
  },
  {
   "cell_type": "markdown",
   "metadata": {},
   "source": [
    "In more detail, both OpenBabel and RDKit have some types of molecules that cannot be handled. Unfortunately these molecules are very common in my dataset, so MolOP has targeted optimisations for them.\n",
    "\n",
    "\n",
    "|              target molecule              |               example                | OpenBabel | RDKit | MolOP |\n",
    "| :---------------------------------------: | :----------------------------------: | :-------: | :---: | :---: |\n",
    "|          simple organic molecule          |              `c1ccccc1`              |     😏     |   😏   |   😏   |\n",
    "|       under-bonded organic molecule       |               `[CH3]`                |     😏     |   😰   |   😏   |\n",
    "| under-bonded organic molecule with charge |               `[CH3-]`               |     😰     |   😏   |   😏   |\n",
    "| under-bonded organic molecule with charge |            `c1cccc[c+]1`             |     😰     |   😰   |   😏   |\n",
    "| under-bonded organic molecule with charge |            `c1cccc[c-]1`             |     😰     |   😏   |   😏   |\n",
    "|       over-bonded organic molecule        |               `[NH4+]`               |     😰     |   😏   |   😏   |\n",
    "|                  Dipole                   |           `C[N+](-[O-])=O`           |     😏     |   😏   |   😏   |\n",
    "|                  Dipole                   |             `C[N+]#[C-]`             |     😰     |   😏   |   😏   |\n",
    "|                  Dipole                   |            `C=[N+]=[N-]`             |     😰     |   😏   |   😏   |\n",
    "|                   Ylide                   | `c1ccccc1-P(-c1ccccc1)(-c1ccccc1)=C` |     😰     |   😏   |   😏   |\n",
    "|                Inner salt                 |        `[O-]C(=O)CCCC[NH3+]`         |     😰     |   😏   |   😏   |\n",
    "|               Metal complex               |                 ...                  |     😰     |   😰   |   😏   |"
   ]
  },
  {
   "cell_type": "code",
   "execution_count": 1,
   "metadata": {},
   "outputs": [],
   "source": [
    "from openbabel import pybel\n",
    "from rdkit import Chem\n",
    "from rdkit.Chem import AllChem, rdDetermineBonds\n",
    "\n",
    "from molop import AutoParser\n",
    "from molop.structure.structure_recovery import *\n",
    "\n",
    "\n",
    "def smi2xyz(smi: str):\n",
    "    mol = Chem.MolFromSmiles(smi)\n",
    "    mol = Chem.AddHs(mol)\n",
    "    AllChem.EmbedMolecule(mol)\n",
    "    return Chem.MolToXYZBlock(mol)"
   ]
  },
  {
   "cell_type": "markdown",
   "metadata": {},
   "source": [
    "## simple organic molecule"
   ]
  },
  {
   "cell_type": "code",
   "execution_count": 2,
   "metadata": {},
   "outputs": [
    {
     "name": "stdout",
     "output_type": "stream",
     "text": [
      "12\n",
      "\n",
      "C      0.794262   -1.148974    0.015000\n",
      "C      1.360699    0.129837   -0.002163\n",
      "C      0.589827    1.268073   -0.017027\n",
      "C     -0.786625    1.145009   -0.014949\n",
      "C     -1.341315   -0.112392    0.001925\n",
      "C     -0.580623   -1.265551    0.016991\n",
      "H      1.402552   -2.042792    0.026673\n",
      "H      2.418314    0.211316   -0.003586\n",
      "H      1.007452    2.268593   -0.030447\n",
      "H     -1.418248    2.029280   -0.026492\n",
      "H     -2.422241   -0.217238    0.003669\n",
      "H     -1.024054   -2.265159    0.030406\n",
      "\n"
     ]
    }
   ],
   "source": [
    "xyz_block = smi2xyz(\"c1ccccc1\")\n",
    "print(xyz_block)"
   ]
  },
  {
   "cell_type": "markdown",
   "metadata": {},
   "source": [
    "### OpenBabel 😏"
   ]
  },
  {
   "cell_type": "code",
   "execution_count": 3,
   "metadata": {},
   "outputs": [
    {
     "data": {
      "image/png": "[encoded data removed]",
      "text/plain": [
       "<rdkit.Chem.rdchem.Mol at 0x7f00c3c267b0>"
      ]
     },
     "execution_count": 3,
     "metadata": {},
     "output_type": "execute_result"
    }
   ],
   "source": [
    "# SUCCESS\n",
    "try:\n",
    "    mol = Chem.MolFromMolBlock(\n",
    "        pybel.readstring(\"xyz\", xyz_block).write(\"sdf\"), removeHs=False\n",
    "    )\n",
    "except Exception as e:\n",
    "    print(e)\n",
    "mol"
   ]
  },
  {
   "cell_type": "markdown",
   "metadata": {},
   "source": [
    "### RDKit 😏"
   ]
  },
  {
   "cell_type": "code",
   "execution_count": 4,
   "metadata": {},
   "outputs": [
    {
     "data": {
      "image/png": "[encoded data removed]",
      "text/plain": [
       "<rdkit.Chem.rdchem.Mol at 0x7f00c3c26a50>"
      ]
     },
     "execution_count": 4,
     "metadata": {},
     "output_type": "execute_result"
    }
   ],
   "source": [
    "# SUCCESS\n",
    "mol = Chem.MolFromXYZBlock(xyz_block)\n",
    "try:\n",
    "    rdDetermineBonds.DetermineBonds(mol, charge=0)\n",
    "except Exception as e:\n",
    "    print(e)\n",
    "mol"
   ]
  },
  {
   "cell_type": "markdown",
   "metadata": {},
   "source": [
    "### MolOP 😏"
   ]
  },
  {
   "cell_type": "code",
   "execution_count": 5,
   "metadata": {},
   "outputs": [
    {
     "data": {
      "image/png": "[encoded data removed]",
      "text/plain": [
       "<rdkit.Chem.rdchem.Mol at 0x7f00c3c26c10>"
      ]
     },
     "execution_count": 5,
     "metadata": {},
     "output_type": "execute_result"
    }
   ],
   "source": [
    "# SUCCESS\n",
    "try:\n",
    "    mol = Chem.MolFromMolBlock(\n",
    "        xyz_block_to_omol(xyz_block, total_charge=0, total_radical=0).write(\"sdf\"),\n",
    "        removeHs=False,\n",
    "    )\n",
    "except Exception as e:\n",
    "    print(e)\n",
    "mol"
   ]
  },
  {
   "cell_type": "markdown",
   "metadata": {},
   "source": [
    "## under-bonded organic molecule (e.g. `[CH3]`)"
   ]
  },
  {
   "cell_type": "code",
   "execution_count": 6,
   "metadata": {},
   "outputs": [
    {
     "name": "stdout",
     "output_type": "stream",
     "text": [
      "4\n",
      "\n",
      "C     -0.009007   -0.007740    0.278249\n",
      "H      0.982326   -0.321871   -0.091289\n",
      "H     -0.787636   -0.694888   -0.095573\n",
      "H     -0.185683    1.024499   -0.091387\n",
      "\n"
     ]
    }
   ],
   "source": [
    "xyz_block = smi2xyz(\"[CH3]\")\n",
    "print(xyz_block)"
   ]
  },
  {
   "cell_type": "markdown",
   "metadata": {},
   "source": [
    "### OpenBabel 😏"
   ]
  },
  {
   "cell_type": "code",
   "execution_count": 7,
   "metadata": {},
   "outputs": [
    {
     "data": {
      "image/png": "[encoded data removed]",
      "text/plain": [
       "<rdkit.Chem.rdchem.Mol at 0x7f00c3b5fdd0>"
      ]
     },
     "execution_count": 7,
     "metadata": {},
     "output_type": "execute_result"
    }
   ],
   "source": [
    "# SUCCESS\n",
    "try:\n",
    "    mol = Chem.MolFromMolBlock(\n",
    "        pybel.readstring(\"xyz\", xyz_block).write(\"sdf\"), removeHs=False\n",
    "    )\n",
    "except Exception as e:\n",
    "    print(e)\n",
    "mol"
   ]
  },
  {
   "cell_type": "markdown",
   "metadata": {},
   "source": [
    "### RDKit 😰"
   ]
  },
  {
   "cell_type": "code",
   "execution_count": 8,
   "metadata": {},
   "outputs": [
    {
     "name": "stdout",
     "output_type": "stream",
     "text": [
      "Final molecular charge does not match input; could not find valid bond ordering\n"
     ]
    },
    {
     "data": {
      "image/png": "[encoded data removed]",
      "text/plain": [
       "<rdkit.Chem.rdchem.Mol at 0x7f00c3b5ff20>"
      ]
     },
     "execution_count": 8,
     "metadata": {},
     "output_type": "execute_result"
    }
   ],
   "source": [
    "# FAILED\n",
    "mol = Chem.MolFromXYZBlock(xyz_block)\n",
    "try:\n",
    "    rdDetermineBonds.DetermineBonds(mol, charge=0)\n",
    "except Exception as e:\n",
    "    print(e)\n",
    "mol"
   ]
  },
  {
   "cell_type": "markdown",
   "metadata": {},
   "source": [
    "### MolOP 😏"
   ]
  },
  {
   "cell_type": "code",
   "execution_count": 9,
   "metadata": {},
   "outputs": [
    {
     "data": {
      "image/png": "[encoded data removed]",
      "text/plain": [
       "<rdkit.Chem.rdchem.Mol at 0x7f00c3b5fd60>"
      ]
     },
     "execution_count": 9,
     "metadata": {},
     "output_type": "execute_result"
    }
   ],
   "source": [
    "# SUCCESS\n",
    "try:\n",
    "    mol = Chem.MolFromMolBlock(\n",
    "        xyz_block_to_omol(xyz_block, total_charge=0,\n",
    "                          total_radical=1).write(\"sdf\"),\n",
    "        removeHs=False,\n",
    "    )\n",
    "except Exception as e:\n",
    "    print(e)\n",
    "mol"
   ]
  },
  {
   "cell_type": "markdown",
   "metadata": {},
   "source": [
    "## under-bonded organic molecule with charge (e.g. `[CH3-]`)"
   ]
  },
  {
   "cell_type": "code",
   "execution_count": 10,
   "metadata": {},
   "outputs": [
    {
     "name": "stdout",
     "output_type": "stream",
     "text": [
      "4\n",
      "\n",
      "C      0.015558   -0.006106    0.248600\n",
      "H      1.058492   -0.164051   -0.086216\n",
      "H     -0.674002   -0.805284   -0.081864\n",
      "H     -0.400049    0.975441   -0.080520\n",
      "\n"
     ]
    }
   ],
   "source": [
    "xyz_block = smi2xyz(\"[CH3-]\")\n",
    "print(xyz_block)"
   ]
  },
  {
   "cell_type": "markdown",
   "metadata": {},
   "source": [
    "### OpenBabel 😰"
   ]
  },
  {
   "cell_type": "code",
   "execution_count": 11,
   "metadata": {},
   "outputs": [
    {
     "data": {
      "image/png": "[encoded data removed]",
      "text/plain": [
       "<rdkit.Chem.rdchem.Mol at 0x7f00c3b725f0>"
      ]
     },
     "execution_count": 11,
     "metadata": {},
     "output_type": "execute_result"
    }
   ],
   "source": [
    "# FAILED\n",
    "try:\n",
    "    mol = Chem.MolFromMolBlock(\n",
    "        pybel.readstring(\"xyz\", xyz_block).write(\"sdf\"), removeHs=False\n",
    "    )\n",
    "except Exception as e:\n",
    "    print(e)\n",
    "mol"
   ]
  },
  {
   "cell_type": "markdown",
   "metadata": {},
   "source": [
    "### RDKit 😏"
   ]
  },
  {
   "cell_type": "code",
   "execution_count": 12,
   "metadata": {},
   "outputs": [
    {
     "data": {
      "image/png": "[encoded data removed]",
      "text/plain": [
       "<rdkit.Chem.rdchem.Mol at 0x7f00c3b723c0>"
      ]
     },
     "execution_count": 12,
     "metadata": {},
     "output_type": "execute_result"
    }
   ],
   "source": [
    "# SUCCESS\n",
    "mol = Chem.MolFromXYZBlock(xyz_block)\n",
    "try:\n",
    "    rdDetermineBonds.DetermineBonds(mol, charge=-1)\n",
    "except Exception as e:\n",
    "    print(e)\n",
    "mol"
   ]
  },
  {
   "cell_type": "markdown",
   "metadata": {},
   "source": [
    "### MolOP 😏"
   ]
  },
  {
   "cell_type": "code",
   "execution_count": 13,
   "metadata": {},
   "outputs": [
    {
     "data": {
      "image/png": "[encoded data removed]",
      "text/plain": [
       "<rdkit.Chem.rdchem.Mol at 0x7f00c3b72890>"
      ]
     },
     "execution_count": 13,
     "metadata": {},
     "output_type": "execute_result"
    }
   ],
   "source": [
    "# SUCCESS\n",
    "try:\n",
    "    mol = Chem.MolFromMolBlock(\n",
    "        xyz_block_to_omol(xyz_block, total_charge=-1, total_radical=0).write(\"sdf\"),\n",
    "        removeHs=False,\n",
    "    )\n",
    "except Exception as e:\n",
    "    print(e)\n",
    "mol"
   ]
  },
  {
   "cell_type": "markdown",
   "metadata": {},
   "source": [
    "## under-bonded organic molecule with charge (e.g. `c1cccc[c+]1`)"
   ]
  },
  {
   "cell_type": "code",
   "execution_count": 14,
   "metadata": {},
   "outputs": [
    {
     "name": "stdout",
     "output_type": "stream",
     "text": [
      "11\n",
      "\n",
      "C     -1.257319   -0.734611    0.365230\n",
      "C     -1.077749    0.576186    0.333634\n",
      "C      0.193172    1.174867   -0.037994\n",
      "C      1.177864    0.344796   -0.347997\n",
      "C      0.973299   -1.091761   -0.311040\n",
      "C     -0.168177   -1.600708    0.023229\n",
      "H     -2.233640   -1.146734    0.651540\n",
      "H     -1.903566    1.258738    0.593355\n",
      "H      0.366472    2.249705   -0.071715\n",
      "H      2.162936    0.747226   -0.637128\n",
      "H      1.766708   -1.777703   -0.561112\n",
      "\n"
     ]
    }
   ],
   "source": [
    "xyz_block = smi2xyz(\"c1cccc[c+]1\")\n",
    "print(xyz_block)"
   ]
  },
  {
   "cell_type": "markdown",
   "metadata": {},
   "source": [
    "### OpenBabel 😰"
   ]
  },
  {
   "cell_type": "code",
   "execution_count": 15,
   "metadata": {},
   "outputs": [
    {
     "data": {
      "image/png": "[encoded data removed]",
      "text/plain": [
       "<rdkit.Chem.rdchem.Mol at 0x7f00c3b72a50>"
      ]
     },
     "execution_count": 15,
     "metadata": {},
     "output_type": "execute_result"
    }
   ],
   "source": [
    "# FAILED\n",
    "try:\n",
    "    mol = Chem.MolFromMolBlock(\n",
    "        pybel.readstring(\"xyz\", xyz_block).write(\"sdf\"), removeHs=False\n",
    "    )\n",
    "except Exception as e:\n",
    "    print(e)\n",
    "mol"
   ]
  },
  {
   "cell_type": "markdown",
   "metadata": {},
   "source": [
    "### RDKit 😰"
   ]
  },
  {
   "cell_type": "code",
   "execution_count": 16,
   "metadata": {},
   "outputs": [
    {
     "data": {
      "image/png": "[encoded data removed]",
      "text/plain": [
       "<rdkit.Chem.rdchem.Mol at 0x7f00c3b72ac0>"
      ]
     },
     "execution_count": 16,
     "metadata": {},
     "output_type": "execute_result"
    }
   ],
   "source": [
    "# FAILED\n",
    "mol = Chem.MolFromXYZBlock(xyz_block)\n",
    "try:\n",
    "    rdDetermineBonds.DetermineBonds(mol, charge=1)\n",
    "except Exception as e:\n",
    "    print(e)\n",
    "mol"
   ]
  },
  {
   "cell_type": "markdown",
   "metadata": {},
   "source": [
    "### MolOP 😏"
   ]
  },
  {
   "cell_type": "code",
   "execution_count": 17,
   "metadata": {},
   "outputs": [
    {
     "data": {
      "image/png": "[encoded data removed]",
      "text/plain": [
       "<rdkit.Chem.rdchem.Mol at 0x7f00c3b72d60>"
      ]
     },
     "execution_count": 17,
     "metadata": {},
     "output_type": "execute_result"
    }
   ],
   "source": [
    "# SUCCESS\n",
    "try:\n",
    "    mol = Chem.MolFromMolBlock(\n",
    "        xyz_block_to_omol(xyz_block, total_charge=1, total_radical=0).write(\"sdf\"),\n",
    "        removeHs=False,\n",
    "    )\n",
    "except Exception as e:\n",
    "    print(e)\n",
    "mol"
   ]
  },
  {
   "cell_type": "markdown",
   "metadata": {},
   "source": [
    "## under-bonded organic molecule with charge (e.g. `c1cccc[c-]1`)"
   ]
  },
  {
   "cell_type": "code",
   "execution_count": 18,
   "metadata": {},
   "outputs": [
    {
     "name": "stdout",
     "output_type": "stream",
     "text": [
      "11\n",
      "\n",
      "C      1.369202   -0.553682   -0.002753\n",
      "C      1.047180    0.786115   -0.007534\n",
      "C     -0.290439    1.118685   -0.003908\n",
      "C     -1.255666    0.115232    0.004298\n",
      "C     -0.920652   -1.220888    0.009022\n",
      "C      0.414642   -1.558754    0.005423\n",
      "H      2.415039   -0.850668   -0.005506\n",
      "H      1.840902    1.545172   -0.013960\n",
      "H     -0.599040    2.155231   -0.007392\n",
      "H     -2.292618    0.403411    0.006967\n",
      "H     -1.728551   -1.939853    0.015343\n",
      "\n"
     ]
    }
   ],
   "source": [
    "xyz_block = smi2xyz(\"c1cccc[c-]1\")\n",
    "print(xyz_block)"
   ]
  },
  {
   "cell_type": "markdown",
   "metadata": {},
   "source": [
    "### OpenBabel 😰"
   ]
  },
  {
   "cell_type": "code",
   "execution_count": 19,
   "metadata": {},
   "outputs": [
    {
     "data": {
      "image/png": "[encoded data removed]",
      "text/plain": [
       "<rdkit.Chem.rdchem.Mol at 0x7f00c3b72dd0>"
      ]
     },
     "execution_count": 19,
     "metadata": {},
     "output_type": "execute_result"
    }
   ],
   "source": [
    "# FAILED\n",
    "try:\n",
    "    mol = Chem.MolFromMolBlock(\n",
    "        pybel.readstring(\"xyz\", xyz_block).write(\"sdf\"), removeHs=False\n",
    "    )\n",
    "except Exception as e:\n",
    "    print(e)\n",
    "mol"
   ]
  },
  {
   "cell_type": "markdown",
   "metadata": {},
   "source": [
    "### RDKit 😏"
   ]
  },
  {
   "cell_type": "code",
   "execution_count": 20,
   "metadata": {},
   "outputs": [
    {
     "data": {
      "image/png": "[encoded data removed]",
      "text/plain": [
       "<rdkit.Chem.rdchem.Mol at 0x7f00c3b72660>"
      ]
     },
     "execution_count": 20,
     "metadata": {},
     "output_type": "execute_result"
    }
   ],
   "source": [
    "# SUCCESS\n",
    "mol = Chem.MolFromXYZBlock(xyz_block)\n",
    "try:\n",
    "    rdDetermineBonds.DetermineBonds(mol, charge=-1)\n",
    "except Exception as e:\n",
    "    print(e)\n",
    "mol"
   ]
  },
  {
   "cell_type": "markdown",
   "metadata": {},
   "source": [
    "### MolOP 😏"
   ]
  },
  {
   "cell_type": "code",
   "execution_count": 21,
   "metadata": {},
   "outputs": [
    {
     "data": {
      "image/png": "[encoded data removed]",
      "text/plain": [
       "<rdkit.Chem.rdchem.Mol at 0x7f00c3af7200>"
      ]
     },
     "execution_count": 21,
     "metadata": {},
     "output_type": "execute_result"
    }
   ],
   "source": [
    "# SUCCESS\n",
    "try:\n",
    "    mol = Chem.MolFromMolBlock(\n",
    "        xyz_block_to_omol(xyz_block, total_charge=-1, total_radical=0).write(\"sdf\"),\n",
    "        removeHs=False,\n",
    "    )\n",
    "except Exception as e:\n",
    "    print(e)\n",
    "mol"
   ]
  },
  {
   "cell_type": "markdown",
   "metadata": {},
   "source": [
    "## over-bonded organic molecule (e.g. `[NH4+]`)"
   ]
  },
  {
   "cell_type": "code",
   "execution_count": 22,
   "metadata": {},
   "outputs": [
    {
     "name": "stdout",
     "output_type": "stream",
     "text": [
      "5\n",
      "\n",
      "N      0.005694   -0.008689   -0.011089\n",
      "H     -0.712822   -0.155362   -0.755970\n",
      "H      0.432924    0.947575   -0.069672\n",
      "H     -0.497243   -0.075688    0.909461\n",
      "H      0.771447   -0.707837   -0.072729\n",
      "\n"
     ]
    }
   ],
   "source": [
    "xyz_block = smi2xyz(\"[NH4+]\")\n",
    "print(xyz_block)"
   ]
  },
  {
   "cell_type": "markdown",
   "metadata": {},
   "source": [
    "### OpenBabel 😰"
   ]
  },
  {
   "cell_type": "code",
   "execution_count": 23,
   "metadata": {},
   "outputs": [],
   "source": [
    "# FAILED\n",
    "try:\n",
    "    mol = Chem.MolFromMolBlock(\n",
    "        pybel.readstring(\"xyz\", xyz_block).write(\"sdf\"), removeHs=False\n",
    "    )\n",
    "except Exception as e:\n",
    "    print(e)\n",
    "mol"
   ]
  },
  {
   "cell_type": "markdown",
   "metadata": {},
   "source": [
    "### RDKit 😏"
   ]
  },
  {
   "cell_type": "code",
   "execution_count": 24,
   "metadata": {},
   "outputs": [
    {
     "data": {
      "image/png": "[encoded data removed]",
      "text/plain": [
       "<rdkit.Chem.rdchem.Mol at 0x7f00c3af73c0>"
      ]
     },
     "execution_count": 24,
     "metadata": {},
     "output_type": "execute_result"
    }
   ],
   "source": [
    "# SUCCESS\n",
    "mol = Chem.MolFromXYZBlock(xyz_block)\n",
    "try:\n",
    "    rdDetermineBonds.DetermineBonds(mol, charge=1)\n",
    "except Exception as e:\n",
    "    print(e)\n",
    "mol"
   ]
  },
  {
   "cell_type": "markdown",
   "metadata": {},
   "source": [
    "### MolOP 😏"
   ]
  },
  {
   "cell_type": "code",
   "execution_count": 25,
   "metadata": {},
   "outputs": [
    {
     "data": {
      "image/png": "[encoded data removed]",
      "text/plain": [
       "<rdkit.Chem.rdchem.Mol at 0x7f00c3af7580>"
      ]
     },
     "execution_count": 25,
     "metadata": {},
     "output_type": "execute_result"
    }
   ],
   "source": [
    "# SUCCESS\n",
    "try:\n",
    "    mol = Chem.MolFromMolBlock(\n",
    "        xyz_block_to_omol(xyz_block, total_charge=1, total_radical=0).write(\"sdf\"),\n",
    "        removeHs=False,\n",
    "    )\n",
    "except Exception as e:\n",
    "    print(e)\n",
    "mol"
   ]
  },
  {
   "cell_type": "markdown",
   "metadata": {},
   "source": [
    "## Dipole (e.g. `C[N+](-[O-])=O`)"
   ]
  },
  {
   "cell_type": "code",
   "execution_count": 26,
   "metadata": {},
   "outputs": [
    {
     "name": "stdout",
     "output_type": "stream",
     "text": [
      "7\n",
      "\n",
      "C     -0.640897   -0.059355    0.039171\n",
      "N      0.801835   -0.012953   -0.043274\n",
      "O      1.436242    1.194652   -0.214508\n",
      "O      1.532890   -1.017939    0.031884\n",
      "H     -0.989593   -0.051821    1.106636\n",
      "H     -1.055013    0.859306   -0.422752\n",
      "H     -1.085463   -0.911890   -0.497157\n",
      "\n"
     ]
    }
   ],
   "source": [
    "xyz_block = smi2xyz(\"C[N+](-[O-])=O\")\n",
    "print(xyz_block)"
   ]
  },
  {
   "cell_type": "markdown",
   "metadata": {},
   "source": [
    "### OpenBabel 😏"
   ]
  },
  {
   "cell_type": "code",
   "execution_count": 27,
   "metadata": {},
   "outputs": [
    {
     "data": {
      "image/png": "[encoded data removed]",
      "text/plain": [
       "<rdkit.Chem.rdchem.Mol at 0x7f00c3af7510>"
      ]
     },
     "execution_count": 27,
     "metadata": {},
     "output_type": "execute_result"
    }
   ],
   "source": [
    "# SUCCESS\n",
    "try:\n",
    "    mol = Chem.MolFromMolBlock(\n",
    "        pybel.readstring(\"xyz\", xyz_block).write(\"sdf\"), removeHs=False\n",
    "    )\n",
    "except Exception as e:\n",
    "    print(e)\n",
    "mol"
   ]
  },
  {
   "cell_type": "markdown",
   "metadata": {},
   "source": [
    "### RDKit 😏"
   ]
  },
  {
   "cell_type": "code",
   "execution_count": 28,
   "metadata": {},
   "outputs": [
    {
     "data": {
      "image/png": "[encoded data removed]",
      "text/plain": [
       "<rdkit.Chem.rdchem.Mol at 0x7f00c3c26660>"
      ]
     },
     "execution_count": 28,
     "metadata": {},
     "output_type": "execute_result"
    }
   ],
   "source": [
    "# SUCCESS\n",
    "mol = Chem.MolFromXYZBlock(xyz_block)\n",
    "try:\n",
    "    rdDetermineBonds.DetermineBonds(mol, charge=0)\n",
    "except Exception as e:\n",
    "    print(e)\n",
    "mol"
   ]
  },
  {
   "cell_type": "markdown",
   "metadata": {},
   "source": [
    "### MolOP 😏"
   ]
  },
  {
   "cell_type": "code",
   "execution_count": 29,
   "metadata": {},
   "outputs": [
    {
     "data": {
      "image/png": "[encoded data removed]",
      "text/plain": [
       "<rdkit.Chem.rdchem.Mol at 0x7f00c3af79e0>"
      ]
     },
     "execution_count": 29,
     "metadata": {},
     "output_type": "execute_result"
    }
   ],
   "source": [
    "# SUCCESS\n",
    "try:\n",
    "    mol = Chem.MolFromMolBlock(\n",
    "        xyz_block_to_omol(xyz_block, total_charge=0, total_radical=0).write(\"sdf\"),\n",
    "        removeHs=False,\n",
    "    )\n",
    "except Exception as e:\n",
    "    print(e)\n",
    "mol"
   ]
  },
  {
   "cell_type": "markdown",
   "metadata": {},
   "source": [
    "## Dipole (e.g. `C[N+]#[C-]`)"
   ]
  },
  {
   "cell_type": "code",
   "execution_count": 30,
   "metadata": {},
   "outputs": [
    {
     "name": "stdout",
     "output_type": "stream",
     "text": [
      "6\n",
      "\n",
      "C     -0.442273    0.187993   -0.054760\n",
      "N      0.842246   -0.393424    0.098413\n",
      "C      1.885706   -0.844695    0.216347\n",
      "H     -0.936553   -0.158805   -0.970139\n",
      "H     -1.057222   -0.084126    0.799519\n",
      "H     -0.291904    1.293057   -0.089380\n",
      "\n"
     ]
    }
   ],
   "source": [
    "xyz_block = smi2xyz(\"C[N+]#[C-]\")\n",
    "print(xyz_block)"
   ]
  },
  {
   "cell_type": "markdown",
   "metadata": {},
   "source": [
    "### OpenBabel 😰"
   ]
  },
  {
   "cell_type": "code",
   "execution_count": 31,
   "metadata": {},
   "outputs": [],
   "source": [
    "# FAILED\n",
    "try:\n",
    "    mol = Chem.MolFromMolBlock(\n",
    "        pybel.readstring(\"xyz\", xyz_block).write(\"sdf\"), removeHs=False\n",
    "    )\n",
    "except Exception as e:\n",
    "    print(e)\n",
    "mol"
   ]
  },
  {
   "cell_type": "markdown",
   "metadata": {},
   "source": [
    "### RDKit 😏"
   ]
  },
  {
   "cell_type": "code",
   "execution_count": 32,
   "metadata": {},
   "outputs": [
    {
     "data": {
      "image/png": "[encoded data removed]",
      "text/plain": [
       "<rdkit.Chem.rdchem.Mol at 0x7f00c3af7820>"
      ]
     },
     "execution_count": 32,
     "metadata": {},
     "output_type": "execute_result"
    }
   ],
   "source": [
    "# SUCCESS\n",
    "mol = Chem.MolFromXYZBlock(xyz_block)\n",
    "try:\n",
    "    rdDetermineBonds.DetermineBonds(mol, charge=0)\n",
    "except Exception as e:\n",
    "    print(e)\n",
    "mol"
   ]
  },
  {
   "cell_type": "markdown",
   "metadata": {},
   "source": [
    "### MolOP 😏"
   ]
  },
  {
   "cell_type": "code",
   "execution_count": 33,
   "metadata": {},
   "outputs": [
    {
     "data": {
      "image/png": "[encoded data removed]",
      "text/plain": [
       "<rdkit.Chem.rdchem.Mol at 0x7f00c3af7cf0>"
      ]
     },
     "execution_count": 33,
     "metadata": {},
     "output_type": "execute_result"
    }
   ],
   "source": [
    "# SUCCESS\n",
    "try:\n",
    "    mol = Chem.MolFromMolBlock(\n",
    "        xyz_block_to_omol(xyz_block, total_charge=0, total_radical=0).write(\"sdf\"),\n",
    "        removeHs=False,\n",
    "    )\n",
    "except Exception as e:\n",
    "    print(e)\n",
    "mol"
   ]
  },
  {
   "cell_type": "markdown",
   "metadata": {},
   "source": [
    "## Dipole (e.g. `C=[N+]=[N-]`)"
   ]
  },
  {
   "cell_type": "code",
   "execution_count": 34,
   "metadata": {},
   "outputs": [
    {
     "name": "stdout",
     "output_type": "stream",
     "text": [
      "5\n",
      "\n",
      "C     -0.507566    0.006027    0.001143\n",
      "N      0.723277   -0.005179    0.233292\n",
      "N      1.932968    0.008579   -0.077770\n",
      "H     -1.064941    0.898872   -0.254763\n",
      "H     -1.083738   -0.908298    0.048658\n",
      "\n"
     ]
    }
   ],
   "source": [
    "xyz_block = smi2xyz(\"C=[N+]=[N-]\")\n",
    "print(xyz_block)"
   ]
  },
  {
   "cell_type": "markdown",
   "metadata": {},
   "source": [
    "### OpenBabel 😰"
   ]
  },
  {
   "cell_type": "code",
   "execution_count": 35,
   "metadata": {},
   "outputs": [
    {
     "data": {
      "image/png": "[encoded data removed]",
      "text/plain": [
       "<rdkit.Chem.rdchem.Mol at 0x7f00c3af7f20>"
      ]
     },
     "execution_count": 35,
     "metadata": {},
     "output_type": "execute_result"
    }
   ],
   "source": [
    "# FAILED\n",
    "try:\n",
    "    mol = Chem.MolFromMolBlock(\n",
    "        pybel.readstring(\"xyz\", xyz_block).write(\"sdf\"), removeHs=False\n",
    "    )\n",
    "except Exception as e:\n",
    "    print(e)\n",
    "mol"
   ]
  },
  {
   "cell_type": "markdown",
   "metadata": {},
   "source": [
    "### RDKit 😏"
   ]
  },
  {
   "cell_type": "code",
   "execution_count": 36,
   "metadata": {},
   "outputs": [
    {
     "data": {
      "image/png": "[encoded data removed]",
      "text/plain": [
       "<rdkit.Chem.rdchem.Mol at 0x7f00c3af7ba0>"
      ]
     },
     "execution_count": 36,
     "metadata": {},
     "output_type": "execute_result"
    }
   ],
   "source": [
    "# SUCCESS\n",
    "mol = Chem.MolFromXYZBlock(xyz_block)\n",
    "try:\n",
    "    rdDetermineBonds.DetermineBonds(mol, charge=0)\n",
    "except Exception as e:\n",
    "    print(e)\n",
    "mol"
   ]
  },
  {
   "cell_type": "markdown",
   "metadata": {},
   "source": [
    "### MolOP 😏"
   ]
  },
  {
   "cell_type": "code",
   "execution_count": 37,
   "metadata": {},
   "outputs": [
    {
     "data": {
      "image/png": "[encoded data removed]",
      "text/plain": [
       "<rdkit.Chem.rdchem.Mol at 0x7f00c39fedd0>"
      ]
     },
     "execution_count": 37,
     "metadata": {},
     "output_type": "execute_result"
    }
   ],
   "source": [
    "# SUCCESS\n",
    "try:\n",
    "    mol = Chem.MolFromMolBlock(\n",
    "        xyz_block_to_omol(xyz_block, total_charge=0,\n",
    "                          total_radical=0).write(\"sdf\"),\n",
    "        removeHs=False,\n",
    "    )\n",
    "except Exception as e:\n",
    "    print(e)\n",
    "mol"
   ]
  },
  {
   "cell_type": "markdown",
   "metadata": {},
   "source": [
    "## Ylide (e.g. `c1ccccc1-P(-c1ccccc1)(-c1ccccc1)=C`)"
   ]
  },
  {
   "cell_type": "markdown",
   "metadata": {},
   "source": [
    "## "
   ]
  },
  {
   "cell_type": "code",
   "execution_count": 52,
   "metadata": {},
   "outputs": [
    {
     "name": "stdout",
     "output_type": "stream",
     "text": [
      "37\n",
      "\n",
      "C      2.618174   -1.005225   -0.624786\n",
      "C      3.879537   -1.100685   -0.055947\n",
      "C      4.178431   -0.384034    1.081604\n",
      "C      3.224924    0.428068    1.655275\n",
      "C      1.969543    0.505424    1.065193\n",
      "C      1.648154   -0.202592   -0.073111\n",
      "P      0.042663   -0.119946   -0.849905\n",
      "C     -1.030826   -1.415711   -0.254944\n",
      "C     -1.113804   -2.632782   -0.905002\n",
      "C     -1.951587   -3.622947   -0.427537\n",
      "C     -2.730029   -3.448597    0.698116\n",
      "C     -2.648646   -2.234378    1.348480\n",
      "C     -1.803438   -1.229265    0.870630\n",
      "C     -0.653909    1.502509   -0.529226\n",
      "C      0.255331    2.556837   -0.420329\n",
      "C     -0.207830    3.838771   -0.173331\n",
      "C     -1.557264    4.080757   -0.034516\n",
      "C     -2.433176    3.022626   -0.146480\n",
      "C     -1.994503    1.725870   -0.394155\n",
      "C      0.165200   -0.266184   -2.456523\n",
      "H      2.455140   -1.599268   -1.520831\n",
      "H      4.654578   -1.736627   -0.489447\n",
      "H      5.154963   -0.431490    1.557826\n",
      "H      3.470405    0.989851    2.553211\n",
      "H      1.228527    1.144092    1.521221\n",
      "H     -0.494489   -2.775868   -1.803254\n",
      "H     -2.020320   -4.578362   -0.933122\n",
      "H     -3.391303   -4.226117    1.077494\n",
      "H     -3.247043   -2.058592    2.239800\n",
      "H     -1.743907   -0.280013    1.384462\n",
      "H      1.323618    2.396061   -0.525083\n",
      "H      0.517698    4.636293   -0.093718\n",
      "H     -1.937991    5.074642    0.158577\n",
      "H     -3.507584    3.160336   -0.045081\n",
      "H     -2.687854    0.898289   -0.481137\n",
      "H     -0.656955    0.076087   -3.064852\n",
      "H      1.025572   -0.687833   -2.950778\n",
      "\n"
     ]
    }
   ],
   "source": [
    "xyz_block = smi2xyz(\"c1ccccc1-P(-c1ccccc1)(-c1ccccc1)=C\")\n",
    "print(xyz_block)"
   ]
  },
  {
   "cell_type": "markdown",
   "metadata": {},
   "source": [
    "### OpenBabel 😰"
   ]
  },
  {
   "cell_type": "code",
   "execution_count": 53,
   "metadata": {},
   "outputs": [
    {
     "data": {
      "image/png": "[encoded data removed]",
      "text/plain": [
       "<rdkit.Chem.rdchem.Mol at 0x7f00c3a03580>"
      ]
     },
     "execution_count": 53,
     "metadata": {},
     "output_type": "execute_result"
    }
   ],
   "source": [
    "# FAILED\n",
    "try:\n",
    "    mol = Chem.MolFromMolBlock(\n",
    "        pybel.readstring(\"xyz\", xyz_block).write(\"sdf\"), removeHs=False\n",
    "    )\n",
    "except Exception as e:\n",
    "    print(e)\n",
    "mol"
   ]
  },
  {
   "cell_type": "markdown",
   "metadata": {},
   "source": [
    "### RDKit 😏"
   ]
  },
  {
   "cell_type": "code",
   "execution_count": 54,
   "metadata": {},
   "outputs": [
    {
     "data": {
      "image/png": "[encoded data removed]",
      "text/plain": [
       "<rdkit.Chem.rdchem.Mol at 0x7f00c3a034a0>"
      ]
     },
     "execution_count": 54,
     "metadata": {},
     "output_type": "execute_result"
    }
   ],
   "source": [
    "# SUCCESS\n",
    "mol = Chem.MolFromXYZBlock(xyz_block)\n",
    "try:\n",
    "    rdDetermineBonds.DetermineBonds(mol, charge=0)\n",
    "except Exception as e:\n",
    "    print(e)\n",
    "mol"
   ]
  },
  {
   "cell_type": "markdown",
   "metadata": {},
   "source": [
    "### MolOP 😏"
   ]
  },
  {
   "cell_type": "code",
   "execution_count": 55,
   "metadata": {},
   "outputs": [
    {
     "data": {
      "image/png": "[encoded data removed]",
      "text/plain": [
       "<rdkit.Chem.rdchem.Mol at 0x7f00c2022740>"
      ]
     },
     "execution_count": 55,
     "metadata": {},
     "output_type": "execute_result"
    }
   ],
   "source": [
    "# SUCCESS\n",
    "try:\n",
    "    mol = Chem.MolFromMolBlock(\n",
    "        xyz_block_to_omol(xyz_block, total_charge=0, total_radical=0).write(\"sdf\"),\n",
    "        removeHs=False,\n",
    "    )\n",
    "except Exception as e:\n",
    "    print(e)\n",
    "mol"
   ]
  },
  {
   "cell_type": "markdown",
   "metadata": {},
   "source": [
    "## Inner salt (e.g. `[O-]C(=O)CCCC[NH3+]`)"
   ]
  },
  {
   "cell_type": "code",
   "execution_count": 56,
   "metadata": {},
   "outputs": [
    {
     "name": "stdout",
     "output_type": "stream",
     "text": [
      "19\n",
      "\n",
      "O      3.523845    1.142600   -0.960717\n",
      "C      3.240498    0.221673    0.034417\n",
      "O      4.166741   -0.055633    0.873417\n",
      "C      1.960962   -0.468446    0.207255\n",
      "C      0.759977    0.407962   -0.104378\n",
      "C     -0.483074   -0.444193    0.124025\n",
      "C     -1.647753    0.448830   -0.191664\n",
      "N     -2.928194   -0.172393   -0.031913\n",
      "H      1.843190   -0.856980    1.230103\n",
      "H      1.854942   -1.338215   -0.515600\n",
      "H      0.779392    0.703243   -1.189262\n",
      "H      0.753944    1.287294    0.571369\n",
      "H     -0.386451   -1.288649   -0.571036\n",
      "H     -0.457009   -0.759253    1.186634\n",
      "H     -1.570792    1.331297    0.477297\n",
      "H     -1.537851    0.725303   -1.278392\n",
      "H     -2.947457   -1.196585   -0.072720\n",
      "H     -3.622479    0.226168   -0.719678\n",
      "H     -3.302430    0.085977    0.930843\n",
      "\n"
     ]
    }
   ],
   "source": [
    "xyz_block = smi2xyz(\"[O-]C(=O)CCCC[NH3+]\")\n",
    "print(xyz_block)"
   ]
  },
  {
   "cell_type": "markdown",
   "metadata": {},
   "source": [
    "### OpenBabel 😰"
   ]
  },
  {
   "cell_type": "code",
   "execution_count": 57,
   "metadata": {},
   "outputs": [],
   "source": [
    "# FAILED\n",
    "try:\n",
    "    mol = Chem.MolFromMolBlock(\n",
    "        pybel.readstring(\"xyz\", xyz_block).write(\"sdf\"), removeHs=False\n",
    "    )\n",
    "except Exception as e:\n",
    "    print(e)\n",
    "mol"
   ]
  },
  {
   "cell_type": "markdown",
   "metadata": {},
   "source": [
    "### RDKit 😏"
   ]
  },
  {
   "cell_type": "code",
   "execution_count": 58,
   "metadata": {},
   "outputs": [
    {
     "data": {
      "image/png": "[encoded data removed]",
      "text/plain": [
       "<rdkit.Chem.rdchem.Mol at 0x7f00c3a03660>"
      ]
     },
     "execution_count": 58,
     "metadata": {},
     "output_type": "execute_result"
    }
   ],
   "source": [
    "# SUCCESS\n",
    "mol = Chem.MolFromXYZBlock(xyz_block)\n",
    "try:\n",
    "    rdDetermineBonds.DetermineBonds(mol, charge=0)\n",
    "except Exception as e:\n",
    "    print(e)\n",
    "mol"
   ]
  },
  {
   "cell_type": "markdown",
   "metadata": {},
   "source": [
    "### MolOP 😏"
   ]
  },
  {
   "cell_type": "code",
   "execution_count": 59,
   "metadata": {},
   "outputs": [
    {
     "data": {
      "image/png": "[encoded data removed]",
      "text/plain": [
       "<rdkit.Chem.rdchem.Mol at 0x7f00c26759e0>"
      ]
     },
     "execution_count": 59,
     "metadata": {},
     "output_type": "execute_result"
    }
   ],
   "source": [
    "# SUCCESS\n",
    "try:\n",
    "    mol = Chem.MolFromMolBlock(\n",
    "        xyz_block_to_omol(xyz_block, total_charge=0, total_radical=0).write(\"sdf\"),\n",
    "        removeHs=False,\n",
    "    )\n",
    "except Exception as e:\n",
    "    print(e)\n",
    "mol"
   ]
  },
  {
   "cell_type": "markdown",
   "metadata": {},
   "source": [
    "## Metal complex"
   ]
  },
  {
   "cell_type": "code",
   "execution_count": 60,
   "metadata": {},
   "outputs": [
    {
     "name": "stderr",
     "output_type": "stream",
     "text": [
      "MolOP parsing with single thread: 100%|██████████| 1/1 [00:00<00:00, 12.69it/s]\n",
      "0 files failed to parse, 1 successfully parsed\n"
     ]
    },
    {
     "name": "stdout",
     "output_type": "stream",
     "text": [
      "47\n",
      "charge 0 multiplicity 1\n",
      "Ni           0.73613   0.07260  -0.04303\n",
      "Br           2.32019   0.04379   1.90220\n",
      "Br           2.64289   0.59055  -1.49799\n",
      "N            0.44783   2.20870  -0.07042\n",
      "C            0.08993   2.90740  -1.12890\n",
      "C            0.80384   3.10411   0.91398\n",
      "H           -0.20168   2.48670  -2.07975\n",
      "C            0.64814   4.37871   0.43649\n",
      "H            1.17333   2.75142   1.86475\n",
      "H            0.01735   4.98363  -1.51918\n",
      "H            0.82359   5.34692   0.87856\n",
      "N           -0.73693   0.01678   1.25255\n",
      "C           -1.78346   0.82464   1.20452\n",
      "C           -0.83703  -0.72722   2.41518\n",
      "H           -2.00544   1.52287   0.41919\n",
      "C           -1.98111  -0.36500   3.06750\n",
      "H           -0.06878  -1.43072   2.68716\n",
      "H           -3.46472   1.05245   2.42732\n",
      "H           -2.41182  -0.69263   3.99991\n",
      "N           -2.55821   0.63058   2.29284\n",
      "N            0.18716   4.23588  -0.86269\n",
      "S           -0.28581  -0.48187  -2.05155\n",
      "C           -1.94973  -1.27285  -2.03588\n",
      "H           -2.17173  -1.33018  -3.10930\n",
      "H           -1.85051  -2.29931  -1.67533\n",
      "C           -3.06887  -0.55544  -1.32947\n",
      "C           -3.81905  -1.20195  -0.34163\n",
      "C           -3.40765   0.76230  -1.67239\n",
      "C           -4.87405  -0.54879   0.30044\n",
      "H           -3.57622  -2.22672  -0.07426\n",
      "C           -4.45528   1.42034  -1.03190\n",
      "H           -2.82954   1.27162  -2.43878\n",
      "C           -5.19286   0.76702  -0.03714\n",
      "H           -5.44639  -1.07155   1.06217\n",
      "H           -4.70655   2.43959  -1.31298\n",
      "H           -6.02064   1.27442   0.45112\n",
      "C            0.67849  -1.97265  -0.42004\n",
      "C            1.87547  -2.57089  -0.81729\n",
      "C           -0.32018  -2.73075   0.19278\n",
      "C            2.09332  -3.91698  -0.52179\n",
      "H            2.63521  -1.99637  -1.32795\n",
      "C           -0.08900  -4.08093   0.47858\n",
      "H           -1.26354  -2.28800   0.47788\n",
      "C            1.11931  -4.67852   0.12855\n",
      "H            3.03803  -4.36911  -0.81163\n",
      "H           -0.86468  -4.65557   0.97906\n",
      "H            1.29794  -5.72710   0.34838\n"
     ]
    }
   ],
   "source": [
    "xyz_block = AutoParser(\n",
    "    \"../../tests/test_files/g16log/S_Ph_Ni_TS.log\",\n",
    ")[\n",
    "    0\n",
    "][-1].to_XYZ_block()\n",
    "print(xyz_block)"
   ]
  },
  {
   "cell_type": "markdown",
   "metadata": {},
   "source": [
    "### OpenBabel 😰"
   ]
  },
  {
   "cell_type": "code",
   "execution_count": 61,
   "metadata": {},
   "outputs": [
    {
     "data": {
      "image/png": "[encoded data removed]",
      "text/plain": [
       "<rdkit.Chem.rdchem.Mol at 0x7f00c2652040>"
      ]
     },
     "execution_count": 61,
     "metadata": {},
     "output_type": "execute_result"
    }
   ],
   "source": [
    "# FAILED\n",
    "try:\n",
    "    mol = Chem.MolFromMolBlock(\n",
    "        pybel.readstring(\"xyz\", xyz_block).write(\"sdf\"), removeHs=False\n",
    "    )\n",
    "except Exception as e:\n",
    "    print(e)\n",
    "mol"
   ]
  },
  {
   "cell_type": "markdown",
   "metadata": {},
   "source": [
    "### RDKit 😰"
   ]
  },
  {
   "cell_type": "code",
   "execution_count": 62,
   "metadata": {},
   "outputs": [
    {
     "name": "stdout",
     "output_type": "stream",
     "text": [
      "determineBondOrdering() does not work with element Ni\n"
     ]
    },
    {
     "data": {
      "image/png": "[encoded data removed]",
      "text/plain": [
       "<rdkit.Chem.rdchem.Mol at 0x7f00c3a03820>"
      ]
     },
     "execution_count": 62,
     "metadata": {},
     "output_type": "execute_result"
    }
   ],
   "source": [
    "# FAILED\n",
    "mol = Chem.MolFromXYZBlock(xyz_block)\n",
    "try:\n",
    "    rdDetermineBonds.DetermineBonds(mol, charge=0)\n",
    "except Exception as e:\n",
    "    print(e)\n",
    "mol"
   ]
  },
  {
   "cell_type": "markdown",
   "metadata": {},
   "source": [
    "### MolOP 😏"
   ]
  },
  {
   "cell_type": "code",
   "execution_count": 64,
   "metadata": {},
   "outputs": [
    {
     "data": {
      "image/png": "[encoded data removed]",
      "text/plain": [
       "<rdkit.Chem.rdchem.Mol at 0x7f00c2652740>"
      ]
     },
     "execution_count": 64,
     "metadata": {},
     "output_type": "execute_result"
    }
   ],
   "source": [
    "# SUCCESS\n",
    "try:\n",
    "    mol = Chem.MolFromMolBlock(\n",
    "        xyz_block_to_omol(xyz_block, total_charge=0, total_radical=0).write(\"sdf\"),\n",
    "        removeHs=False,\n",
    "    )\n",
    "except Exception as e:\n",
    "    print(e)\n",
    "mol"
   ]
  },
  {
   "cell_type": "code",
   "execution_count": null,
   "metadata": {},
   "outputs": [],
   "source": []
  }
 ],
 "metadata": {
  "kernelspec": {
   "display_name": "molop",
   "language": "python",
   "name": "python3"
  },
  "language_info": {
   "codemirror_mode": {
    "name": "ipython",
    "version": 3
   },
   "file_extension": ".py",
   "mimetype": "text/x-python",
   "name": "python",
   "nbconvert_exporter": "python",
   "pygments_lexer": "ipython3",
   "version": "3.8.19"
  }
 },
 "nbformat": 4,
 "nbformat_minor": 2
}
