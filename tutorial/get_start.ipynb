{
 "cells": [
  {
   "cell_type": "markdown",
   "metadata": {},
   "source": [
    "<!--\n",
    " * @Author: TMJ\n",
    " * @Date: 2023-12-31 16:40:56\n",
    " * @LastEditors: TMJ\n",
    " * @LastEditTime: 2024-01-10 18:38:24\n",
    " * @Description: 请填写简介\n",
    "-->\n",
    "# MolOP Tutorial\n",
    "\n",
    "MolOP supports 4 common cheminformatic file formats now:\n",
    "- Coords file\n",
    "  - GJF\n",
    "  - XYZ\n",
    "  - SDF\n",
    "- QM output file\n",
    "  - G16 LOG\n",
    "  - G16 IRC\n",
    "  - G16 FCHK\n",
    "  - xTB OUT\n",
    "\n",
    "All of them support the basic functions that:\n",
    "- Recognize the molecule and give **standardized SMILES**\n",
    "- Extract the geometry\n",
    "- Extract the charge and multiplicity (XYZ file should be user given)\n",
    "- Provide **RDKit molecule object / OpenBabel molecule object** with 3D coordinates\n",
    "- Support multi-frame molecule in one file\n",
    "- All physical properties are combined with explicit units provided by [pint](https://pint.readthedocs.io/en/stable/index.html), witch can be easily transformed to other units\n",
    "\n",
    "For G16 LOG file (and other QM output files future), it also supports:\n",
    "- Extract the **energy** (and thermal Energies/Enthalpies/Free Energies/zero-point Energies with correction or not), with unit Hartree/Particle\n",
    "- Extract the **partial charges** (Mulliken charges)\n",
    "- Extract the **gradient**, with unit Hartree/Bhor\n",
    "- Extract the **orbitals energies** (alpha, beta) and HOMO/LUMO, with unit Hartree/Particle\n",
    "- Extract the **frequencies** with Reduced masses, force constants, IR intensities, normal coordinates and check if it is **imaginary**\n",
    "- Extract the **Hessian** stored in a flatten lower triangular portion\n",
    "- All frame in the optimalization will be processed by steps above, **not only the last frame**"
   ]
  },
  {
   "cell_type": "markdown",
   "metadata": {},
   "source": [
    "## Get Start"
   ]
  },
  {
   "cell_type": "markdown",
   "metadata": {},
   "source": [
    "### Batch process\n",
    "\n",
    "MolOP offer batch process functions. You can pass a path string to read all available files in this directory, then you can access the file parsers like list.\n",
    "\n",
    "The read process is automatically parallelized using all cores."
   ]
  },
  {
   "cell_type": "code",
   "execution_count": 1,
   "metadata": {},
   "outputs": [
    {
     "name": "stderr",
     "output_type": "stream",
     "text": [
      "MolOP parsing with 28 jobs: 100%|██████████| 9/9 [00:02<00:00,  4.29it/s]\n",
      "../tests/test_files/mix_format: 0 files failed to parse, 9 successfully parsed\n",
      "/home/tmj/miniconda3/envs/molop/lib/python3.8/site-packages/pandas/core/dtypes/cast.py:1594: UnitStrippedWarning: The unit of the quantity is stripped when downcasting to ndarray.\n",
      "  result[:] = values\n"
     ]
    },
    {
     "data": {
      "text/html": [
       "<div>\n",
       "<style scoped>\n",
       "    .dataframe tbody tr th:only-of-type {\n",
       "        vertical-align: middle;\n",
       "    }\n",
       "\n",
       "    .dataframe tbody tr th {\n",
       "        vertical-align: top;\n",
       "    }\n",
       "\n",
       "    .dataframe thead th {\n",
       "        text-align: right;\n",
       "    }\n",
       "</style>\n",
       "<table border=\"1\" class=\"dataframe\">\n",
       "  <thead>\n",
       "    <tr style=\"text-align: right;\">\n",
       "      <th></th>\n",
       "      <th>parser</th>\n",
       "      <th>file_name</th>\n",
       "      <th>file_path</th>\n",
       "      <th>file_format</th>\n",
       "      <th>charge</th>\n",
       "      <th>multiplicity</th>\n",
       "      <th>SMILES</th>\n",
       "      <th>status</th>\n",
       "      <th>zero-point</th>\n",
       "      <th>H</th>\n",
       "      <th>S</th>\n",
       "      <th>G</th>\n",
       "      <th>zero-point correction</th>\n",
       "      <th>H correction</th>\n",
       "      <th>S correction</th>\n",
       "      <th>G correction</th>\n",
       "      <th>total energy</th>\n",
       "      <th>HOMO</th>\n",
       "      <th>LUMO</th>\n",
       "      <th>GAP</th>\n",
       "    </tr>\n",
       "  </thead>\n",
       "  <tbody>\n",
       "    <tr>\n",
       "      <th>0</th>\n",
       "      <td>G16FCHKParser</td>\n",
       "      <td>dsgdb9nsd_000007-6.fchk</td>\n",
       "      <td>/home/tmj/proj/MolOP/tests/test_files/mix_form...</td>\n",
       "      <td>.fchk</td>\n",
       "      <td>0</td>\n",
       "      <td>2</td>\n",
       "      <td>[CH2]C</td>\n",
       "      <td>{'Job Status': '1'}</td>\n",
       "      <td>None</td>\n",
       "      <td>-79.126662 hartree / particle</td>\n",
       "      <td>-79.125718 hartree / particle</td>\n",
       "      <td>-79.154846 hartree / particle</td>\n",
       "      <td>None</td>\n",
       "      <td>None</td>\n",
       "      <td>None</td>\n",
       "      <td>None</td>\n",
       "      <td>-79.189651 hartree / particle</td>\n",
       "      <td>-0.206953 hartree / particle</td>\n",
       "      <td>0.01259 hartree / particle</td>\n",
       "      <td>0.219543 hartree / particle</td>\n",
       "    </tr>\n",
       "    <tr>\n",
       "      <th>1</th>\n",
       "      <td>GJFParser</td>\n",
       "      <td>TS_Zy0fwX_ll_ad_14-19_15-16_optts_g16.gjf</td>\n",
       "      <td>/home/tmj/proj/MolOP/tests/test_files/mix_form...</td>\n",
       "      <td>.gjf</td>\n",
       "      <td>0</td>\n",
       "      <td>1</td>\n",
       "      <td>C=[N+](C)[N-]C.COC(=O)[C@@]1(OC)C#CC(Br)(Br)CCCC1</td>\n",
       "      <td>None</td>\n",
       "      <td>None</td>\n",
       "      <td>None</td>\n",
       "      <td>None</td>\n",
       "      <td>None</td>\n",
       "      <td>None</td>\n",
       "      <td>None</td>\n",
       "      <td>None</td>\n",
       "      <td>None</td>\n",
       "      <td>None</td>\n",
       "      <td>None</td>\n",
       "      <td>None</td>\n",
       "      <td>None</td>\n",
       "    </tr>\n",
       "    <tr>\n",
       "      <th>2</th>\n",
       "      <td>G16LOGParser</td>\n",
       "      <td>TS_Zy0fwX_ll_ad_14-19_15-16_optts_g16.log</td>\n",
       "      <td>/home/tmj/proj/MolOP/tests/test_files/mix_form...</td>\n",
       "      <td>.log</td>\n",
       "      <td>0</td>\n",
       "      <td>1</td>\n",
       "      <td>C=[N+](C)[N-]C.COC(=O)[C@@]1(OC)C#CC(Br)(Br)CCCC1</td>\n",
       "      <td>{'SCF Done': True, 'Normal termination': True,...</td>\n",
       "      <td>-6028.571534 hartree / particle</td>\n",
       "      <td>-6028.547544 hartree / particle</td>\n",
       "      <td>-6028.5466 hartree / particle</td>\n",
       "      <td>-6028.625888 hartree / particle</td>\n",
       "      <td>0.349175 hartree / particle</td>\n",
       "      <td>0.373165 hartree / particle</td>\n",
       "      <td>0.374109 hartree / particle</td>\n",
       "      <td>0.294821 hartree / particle</td>\n",
       "      <td>-6028.920709 hartree / particle</td>\n",
       "      <td>-0.24515 hartree / particle</td>\n",
       "      <td>-0.20404 hartree / particle</td>\n",
       "      <td>0.04111000000000001 hartree / particle</td>\n",
       "    </tr>\n",
       "    <tr>\n",
       "      <th>3</th>\n",
       "      <td>XTBOUTParser</td>\n",
       "      <td>opt_point_charge_xtb.out</td>\n",
       "      <td>/home/tmj/proj/MolOP/tests/test_files/mix_form...</td>\n",
       "      <td>.out</td>\n",
       "      <td>0</td>\n",
       "      <td>1</td>\n",
       "      <td>C</td>\n",
       "      <td>{'geometric_optimization': True}</td>\n",
       "      <td>None</td>\n",
       "      <td>None</td>\n",
       "      <td>None</td>\n",
       "      <td>None</td>\n",
       "      <td>None</td>\n",
       "      <td>None</td>\n",
       "      <td>None</td>\n",
       "      <td>None</td>\n",
       "      <td>-4.175275 hartree / particle</td>\n",
       "      <td>-0.518363889016475 hartree / particle</td>\n",
       "      <td>0.11720093828259688 hartree / particle</td>\n",
       "      <td>0.6355648272990719 hartree / particle</td>\n",
       "    </tr>\n",
       "    <tr>\n",
       "      <th>4</th>\n",
       "      <td>G16IRCParser</td>\n",
       "      <td>irc.out</td>\n",
       "      <td>/home/tmj/proj/MolOP/tests/test_files/mix_form...</td>\n",
       "      <td>.out</td>\n",
       "      <td>0</td>\n",
       "      <td>1</td>\n",
       "      <td>C=CCC.CC(=O)O</td>\n",
       "      <td>{'SCF Done': False, 'Normal termination': True}</td>\n",
       "      <td>None</td>\n",
       "      <td>None</td>\n",
       "      <td>None</td>\n",
       "      <td>None</td>\n",
       "      <td>None</td>\n",
       "      <td>None</td>\n",
       "      <td>None</td>\n",
       "      <td>None</td>\n",
       "      <td>None</td>\n",
       "      <td>-0.22388 hartree / particle</td>\n",
       "      <td>0.01248 hartree / particle</td>\n",
       "      <td>0.23636 hartree / particle</td>\n",
       "    </tr>\n",
       "    <tr>\n",
       "      <th>5</th>\n",
       "      <td>GJFParser</td>\n",
       "      <td>dsgdb9nsd_000007-6.gjf</td>\n",
       "      <td>/home/tmj/proj/MolOP/tests/test_files/mix_form...</td>\n",
       "      <td>.gjf</td>\n",
       "      <td>0</td>\n",
       "      <td>2</td>\n",
       "      <td>[CH2]C</td>\n",
       "      <td>None</td>\n",
       "      <td>None</td>\n",
       "      <td>None</td>\n",
       "      <td>None</td>\n",
       "      <td>None</td>\n",
       "      <td>None</td>\n",
       "      <td>None</td>\n",
       "      <td>None</td>\n",
       "      <td>None</td>\n",
       "      <td>None</td>\n",
       "      <td>None</td>\n",
       "      <td>None</td>\n",
       "      <td>None</td>\n",
       "    </tr>\n",
       "    <tr>\n",
       "      <th>6</th>\n",
       "      <td>GJFParser</td>\n",
       "      <td>S_Ph_Ni_TS.gjf</td>\n",
       "      <td>/home/tmj/proj/MolOP/tests/test_files/mix_form...</td>\n",
       "      <td>.gjf</td>\n",
       "      <td>0</td>\n",
       "      <td>1</td>\n",
       "      <td>CCOC(=O)c1cc(OC)no1</td>\n",
       "      <td>None</td>\n",
       "      <td>None</td>\n",
       "      <td>None</td>\n",
       "      <td>None</td>\n",
       "      <td>None</td>\n",
       "      <td>None</td>\n",
       "      <td>None</td>\n",
       "      <td>None</td>\n",
       "      <td>None</td>\n",
       "      <td>None</td>\n",
       "      <td>None</td>\n",
       "      <td>None</td>\n",
       "      <td>None</td>\n",
       "    </tr>\n",
       "    <tr>\n",
       "      <th>7</th>\n",
       "      <td>GJFParser</td>\n",
       "      <td>irc.gjf</td>\n",
       "      <td>/home/tmj/proj/MolOP/tests/test_files/mix_form...</td>\n",
       "      <td>.gjf</td>\n",
       "      <td>0</td>\n",
       "      <td>1</td>\n",
       "      <td>C=CCC.CC(=O)O</td>\n",
       "      <td>None</td>\n",
       "      <td>None</td>\n",
       "      <td>None</td>\n",
       "      <td>None</td>\n",
       "      <td>None</td>\n",
       "      <td>None</td>\n",
       "      <td>None</td>\n",
       "      <td>None</td>\n",
       "      <td>None</td>\n",
       "      <td>None</td>\n",
       "      <td>None</td>\n",
       "      <td>None</td>\n",
       "      <td>None</td>\n",
       "    </tr>\n",
       "    <tr>\n",
       "      <th>8</th>\n",
       "      <td>GJFParser</td>\n",
       "      <td>opt_point_charge_xtb.gjf</td>\n",
       "      <td>/home/tmj/proj/MolOP/tests/test_files/mix_form...</td>\n",
       "      <td>.gjf</td>\n",
       "      <td>0</td>\n",
       "      <td>1</td>\n",
       "      <td>C</td>\n",
       "      <td>None</td>\n",
       "      <td>None</td>\n",
       "      <td>None</td>\n",
       "      <td>None</td>\n",
       "      <td>None</td>\n",
       "      <td>None</td>\n",
       "      <td>None</td>\n",
       "      <td>None</td>\n",
       "      <td>None</td>\n",
       "      <td>None</td>\n",
       "      <td>None</td>\n",
       "      <td>None</td>\n",
       "      <td>None</td>\n",
       "    </tr>\n",
       "  </tbody>\n",
       "</table>\n",
       "</div>"
      ],
      "text/plain": [
       "          parser                                  file_name  \\\n",
       "0  G16FCHKParser                    dsgdb9nsd_000007-6.fchk   \n",
       "1      GJFParser  TS_Zy0fwX_ll_ad_14-19_15-16_optts_g16.gjf   \n",
       "2   G16LOGParser  TS_Zy0fwX_ll_ad_14-19_15-16_optts_g16.log   \n",
       "3   XTBOUTParser                   opt_point_charge_xtb.out   \n",
       "4   G16IRCParser                                    irc.out   \n",
       "5      GJFParser                     dsgdb9nsd_000007-6.gjf   \n",
       "6      GJFParser                             S_Ph_Ni_TS.gjf   \n",
       "7      GJFParser                                    irc.gjf   \n",
       "8      GJFParser                   opt_point_charge_xtb.gjf   \n",
       "\n",
       "                                           file_path file_format  charge  \\\n",
       "0  /home/tmj/proj/MolOP/tests/test_files/mix_form...       .fchk       0   \n",
       "1  /home/tmj/proj/MolOP/tests/test_files/mix_form...        .gjf       0   \n",
       "2  /home/tmj/proj/MolOP/tests/test_files/mix_form...        .log       0   \n",
       "3  /home/tmj/proj/MolOP/tests/test_files/mix_form...        .out       0   \n",
       "4  /home/tmj/proj/MolOP/tests/test_files/mix_form...        .out       0   \n",
       "5  /home/tmj/proj/MolOP/tests/test_files/mix_form...        .gjf       0   \n",
       "6  /home/tmj/proj/MolOP/tests/test_files/mix_form...        .gjf       0   \n",
       "7  /home/tmj/proj/MolOP/tests/test_files/mix_form...        .gjf       0   \n",
       "8  /home/tmj/proj/MolOP/tests/test_files/mix_form...        .gjf       0   \n",
       "\n",
       "   multiplicity                                             SMILES  \\\n",
       "0             2                                             [CH2]C   \n",
       "1             1  C=[N+](C)[N-]C.COC(=O)[C@@]1(OC)C#CC(Br)(Br)CCCC1   \n",
       "2             1  C=[N+](C)[N-]C.COC(=O)[C@@]1(OC)C#CC(Br)(Br)CCCC1   \n",
       "3             1                                                  C   \n",
       "4             1                                      C=CCC.CC(=O)O   \n",
       "5             2                                             [CH2]C   \n",
       "6             1                                CCOC(=O)c1cc(OC)no1   \n",
       "7             1                                      C=CCC.CC(=O)O   \n",
       "8             1                                                  C   \n",
       "\n",
       "                                              status  \\\n",
       "0                                {'Job Status': '1'}   \n",
       "1                                               None   \n",
       "2  {'SCF Done': True, 'Normal termination': True,...   \n",
       "3                   {'geometric_optimization': True}   \n",
       "4    {'SCF Done': False, 'Normal termination': True}   \n",
       "5                                               None   \n",
       "6                                               None   \n",
       "7                                               None   \n",
       "8                                               None   \n",
       "\n",
       "                        zero-point                                H  \\\n",
       "0                             None    -79.126662 hartree / particle   \n",
       "1                             None                             None   \n",
       "2  -6028.571534 hartree / particle  -6028.547544 hartree / particle   \n",
       "3                             None                             None   \n",
       "4                             None                             None   \n",
       "5                             None                             None   \n",
       "6                             None                             None   \n",
       "7                             None                             None   \n",
       "8                             None                             None   \n",
       "\n",
       "                               S                                G  \\\n",
       "0  -79.125718 hartree / particle    -79.154846 hartree / particle   \n",
       "1                           None                             None   \n",
       "2  -6028.5466 hartree / particle  -6028.625888 hartree / particle   \n",
       "3                           None                             None   \n",
       "4                           None                             None   \n",
       "5                           None                             None   \n",
       "6                           None                             None   \n",
       "7                           None                             None   \n",
       "8                           None                             None   \n",
       "\n",
       "         zero-point correction                 H correction  \\\n",
       "0                         None                         None   \n",
       "1                         None                         None   \n",
       "2  0.349175 hartree / particle  0.373165 hartree / particle   \n",
       "3                         None                         None   \n",
       "4                         None                         None   \n",
       "5                         None                         None   \n",
       "6                         None                         None   \n",
       "7                         None                         None   \n",
       "8                         None                         None   \n",
       "\n",
       "                  S correction                 G correction  \\\n",
       "0                         None                         None   \n",
       "1                         None                         None   \n",
       "2  0.374109 hartree / particle  0.294821 hartree / particle   \n",
       "3                         None                         None   \n",
       "4                         None                         None   \n",
       "5                         None                         None   \n",
       "6                         None                         None   \n",
       "7                         None                         None   \n",
       "8                         None                         None   \n",
       "\n",
       "                      total energy                                   HOMO  \\\n",
       "0    -79.189651 hartree / particle           -0.206953 hartree / particle   \n",
       "1                             None                                   None   \n",
       "2  -6028.920709 hartree / particle            -0.24515 hartree / particle   \n",
       "3     -4.175275 hartree / particle  -0.518363889016475 hartree / particle   \n",
       "4                             None            -0.22388 hartree / particle   \n",
       "5                             None                                   None   \n",
       "6                             None                                   None   \n",
       "7                             None                                   None   \n",
       "8                             None                                   None   \n",
       "\n",
       "                                     LUMO  \\\n",
       "0              0.01259 hartree / particle   \n",
       "1                                    None   \n",
       "2             -0.20404 hartree / particle   \n",
       "3  0.11720093828259688 hartree / particle   \n",
       "4              0.01248 hartree / particle   \n",
       "5                                    None   \n",
       "6                                    None   \n",
       "7                                    None   \n",
       "8                                    None   \n",
       "\n",
       "                                      GAP  \n",
       "0             0.219543 hartree / particle  \n",
       "1                                    None  \n",
       "2  0.04111000000000001 hartree / particle  \n",
       "3   0.6355648272990719 hartree / particle  \n",
       "4              0.23636 hartree / particle  \n",
       "5                                    None  \n",
       "6                                    None  \n",
       "7                                    None  \n",
       "8                                    None  "
      ]
     },
     "execution_count": 1,
     "metadata": {},
     "output_type": "execute_result"
    }
   ],
   "source": [
    "from molop import AutoParser\n",
    "\n",
    "files = AutoParser(\"../tests/test_files/mix_format\")  # give a folder path\n",
    "files.to_summary_df()  # show basic infos"
   ]
  },
  {
   "cell_type": "code",
   "execution_count": 2,
   "metadata": {},
   "outputs": [
    {
     "data": {
      "text/plain": [
       "G16FCHKParser(G16FCHKParser(dsgdb9nsd_000007-6.fchk))"
      ]
     },
     "execution_count": 2,
     "metadata": {},
     "output_type": "execute_result"
    }
   ],
   "source": [
    "files[0]  # access file parser like list"
   ]
  },
  {
   "cell_type": "markdown",
   "metadata": {},
   "source": [
    "The batch object can transform all files into coords files (.xyz, .sdf and .gjf)"
   ]
  },
  {
   "cell_type": "code",
   "execution_count": 3,
   "metadata": {},
   "outputs": [],
   "source": [
    "# If file_path is not given, files will be generated in situ\n",
    "files.to_XYZ_file(file_path=\"../tests/test_files/temp\")\n",
    "# If file_path is not given, files will be generated in situ\n",
    "files.to_SDF_file(file_path=\"../tests/test_files/temp\")\n",
    "files.to_GJF_file(\n",
    "    file_path=\"../tests/test_files/temp\",\n",
    "    prefix=\"\"\"# some parameters\"\"\",\n",
    "    suffix=\"\"\"some basis\"\"\",\n",
    ")  # fill the prefix and suffix, then generate new gjf parameters with old coords"
   ]
  },
  {
   "cell_type": "markdown",
   "metadata": {},
   "source": [
    "New .gjf file example:"
   ]
  },
  {
   "cell_type": "raw",
   "metadata": {},
   "source": [
    "# some parameters\n",
    "\n",
    " Title: [CH2]C\n",
    "\n",
    "0 2\n",
    "C           -0.69337   0.00000  -0.00191\n",
    "C            0.79361   0.00000  -0.01847\n",
    "H           -1.10618   0.88657  -0.49270\n",
    "H           -1.10618  -0.88656  -0.49271\n",
    "H           -1.09153  -0.00001   1.02619\n",
    "H            1.35121   0.92642   0.04074\n",
    "H            1.35121  -0.92642   0.04074\n",
    "\n",
    "some basis"
   ]
  },
  {
   "cell_type": "markdown",
   "metadata": {},
   "source": [
    "Use code below can create csv table with informations above"
   ]
  },
  {
   "cell_type": "code",
   "execution_count": 4,
   "metadata": {},
   "outputs": [
    {
     "name": "stderr",
     "output_type": "stream",
     "text": [
      "/home/tmj/miniconda3/envs/molop/lib/python3.8/site-packages/pandas/core/dtypes/cast.py:1594: UnitStrippedWarning: The unit of the quantity is stripped when downcasting to ndarray.\n",
      "  result[:] = values\n"
     ]
    }
   ],
   "source": [
    "files.to_summary_csv(\n",
    "    file_path=None\n",
    ")  # if file_path not given, summary will be created in situ"
   ]
  },
  {
   "cell_type": "markdown",
   "metadata": {},
   "source": [
    "Replace substituents in batches"
   ]
  },
  {
   "cell_type": "code",
   "execution_count": 5,
   "metadata": {},
   "outputs": [
    {
     "name": "stderr",
     "output_type": "stream",
     "text": [
      "100%|██████████| 9/9 [00:00<00:00, 134.83it/s]\n",
      "9 files successfully replaced, 0 files failed to replace\n"
     ]
    }
   ],
   "source": [
    "# If bond_idx given, will try to replace the legal substituent binding to bond_idx\n",
    "new_blocks = files.replace_substituent(\"[H]\", \"[C](C)(C)C\", bond_idx=None)"
   ]
  },
  {
   "cell_type": "code",
   "execution_count": 6,
   "metadata": {},
   "outputs": [
    {
     "data": {
      "image/png": "[encoded data removed]",
      "text/plain": [
       "<rdkit.Chem.rdchem.Mol at 0x7f43e4fcc450>"
      ]
     },
     "execution_count": 6,
     "metadata": {},
     "output_type": "execute_result"
    }
   ],
   "source": [
    "files[1][-1].rdmol"
   ]
  },
  {
   "cell_type": "code",
   "execution_count": 7,
   "metadata": {},
   "outputs": [
    {
     "data": {
      "image/png": "[encoded data removed]",
      "text/plain": [
       "<rdkit.Chem.rdchem.Mol at 0x7f43d2107eb0>"
      ]
     },
     "execution_count": 7,
     "metadata": {},
     "output_type": "execute_result"
    }
   ],
   "source": [
    "new_blocks[1].rdmol"
   ]
  },
  {
   "cell_type": "markdown",
   "metadata": {},
   "source": [
    "### Single file process"
   ]
  },
  {
   "cell_type": "markdown",
   "metadata": {},
   "source": [
    "#### XYZ file TS with Metal and Radical"
   ]
  },
  {
   "cell_type": "code",
   "execution_count": 8,
   "metadata": {},
   "outputs": [
    {
     "name": "stdout",
     "output_type": "stream",
     "text": [
      "frame num: 1; atom num: 64\n",
      "SMILES: CC(C)(C1=NCCO1)C1=NCCO1.C[C](C)N(C)C.[Cl-].[Cu+]c1ccc2ccccc2c1\n"
     ]
    },
    {
     "data": {
      "image/png": "[encoded data removed]",
      "text/plain": [
       "<rdkit.Chem.rdchem.Mol at 0x7f43d2136350>"
      ]
     },
     "execution_count": 8,
     "metadata": {},
     "output_type": "execute_result"
    }
   ],
   "source": [
    "from molop import AutoParser\n",
    "\n",
    "test_xyz_file = AutoParser(\n",
    "    \"../tests/test_files/xyz/test.xyz\", charge=0, multiplicity=3)\n",
    "print(f\"frame num: {len(test_xyz_file)}; atom num: {len(test_xyz_file[0])}\")\n",
    "print(f\"SMILES: {test_xyz_file[0].to_standard_SMILES()}\")\n",
    "test_xyz_file[0].rdmol"
   ]
  },
  {
   "cell_type": "markdown",
   "metadata": {},
   "source": [
    "#### G16 LOG with Single Point"
   ]
  },
  {
   "cell_type": "code",
   "execution_count": 9,
   "metadata": {},
   "outputs": [
    {
     "name": "stdout",
     "output_type": "stream",
     "text": [
      "frame num: 1; atom num: 33\n",
      "SMILES: CCC[C@H]1CO[C@H]2C[C@@](C)(O)C[C@@H]12\n",
      "parameter comment: \n",
      " %nprocshared=32\n",
      " Will use up to   32 processors via shared memory.\n",
      " %mem=100GB\n",
      " # def2tzvp m06l\n"
     ]
    },
    {
     "data": {
      "image/png": "[encoded data removed]",
      "text/plain": [
       "<rdkit.Chem.rdchem.Mol at 0x7f43d21300e0>"
      ]
     },
     "execution_count": 9,
     "metadata": {},
     "output_type": "execute_result"
    }
   ],
   "source": [
    "test_sp_file = AutoParser(\"../tests/test_files/g16log/3_Sp.log\")\n",
    "print(f\"frame num: {len(test_sp_file)}; atom num: {len(test_sp_file[0])}\")\n",
    "print(f\"SMILES: {test_sp_file[0].to_standard_SMILES()}\")\n",
    "print(f\"parameter comment: \\n{test_sp_file[0].parameter_comment}\")\n",
    "test_sp_file[0].rdmol"
   ]
  },
  {
   "cell_type": "code",
   "execution_count": 10,
   "metadata": {},
   "outputs": [
    {
     "name": "stdout",
     "output_type": "stream",
     "text": [
      "-581.780923 hartree / particle\n"
     ]
    },
    {
     "data": {
      "text/plain": [
       "{'zero-point': None,\n",
       " 'thermal energy': None,\n",
       " 'thermal enthalpy': None,\n",
       " 'thermal gibbs free energy': None,\n",
       " 'zero-point correction': None,\n",
       " 'thermal energy correction': None,\n",
       " 'thermal enthalpy correction': None,\n",
       " 'thermal gibbs free energy correction': None}"
      ]
     },
     "execution_count": 10,
     "metadata": {},
     "output_type": "execute_result"
    }
   ],
   "source": [
    "print(test_sp_file[0].energy)\n",
    "test_sp_file[0].sum_energy"
   ]
  },
  {
   "cell_type": "code",
   "execution_count": 11,
   "metadata": {},
   "outputs": [
    {
     "name": "stdout",
     "output_type": "stream",
     "text": [
      "partial charges num: 33\n",
      "first 5: [0.139353, -0.485914, 0.185647, 0.20812, 0.028079]\n"
     ]
    }
   ],
   "source": [
    "print(f\"partial charges num: {len(test_sp_file[0].partial_charges)}\")\n",
    "print(f\"first 5: {test_sp_file[0].partial_charges[:5]}\")"
   ]
  },
  {
   "cell_type": "code",
   "execution_count": 12,
   "metadata": {},
   "outputs": [
    {
     "name": "stdout",
     "output_type": "stream",
     "text": [
      "No freq No grdient: []\n"
     ]
    }
   ],
   "source": [
    "print(f\"No freq No grdient: {test_sp_file[0].gradients}\")"
   ]
  },
  {
   "cell_type": "code",
   "execution_count": 13,
   "metadata": {},
   "outputs": [
    {
     "name": "stdout",
     "output_type": "stream",
     "text": [
      "No freq parameter No freq: []\n",
      "No freq parameter No freq: []\n"
     ]
    }
   ],
   "source": [
    "print(f\"No freq parameter No freq: {test_sp_file[0].imaginary_frequencies}\")\n",
    "print(f\"No freq parameter No freq: {test_sp_file[0].frequencies}\")"
   ]
  },
  {
   "cell_type": "code",
   "execution_count": 14,
   "metadata": {},
   "outputs": [
    {
     "name": "stdout",
     "output_type": "stream",
     "text": [
      "{'gap': <Quantity(0.24174, 'hartree / particle')>, 'homo': <Quantity(-0.21593, 'hartree / particle')>, 'lumo': <Quantity(0.02581, 'hartree / particle')>}\n",
      "{'gap': None, 'homo': None, 'lumo': None}\n"
     ]
    }
   ],
   "source": [
    "print(test_sp_file[0].alpha_energy)\n",
    "print(test_sp_file[0].beta_energy)"
   ]
  },
  {
   "cell_type": "code",
   "execution_count": 15,
   "metadata": {},
   "outputs": [
    {
     "name": "stdout",
     "output_type": "stream",
     "text": [
      "No optimization No hessian: []\n"
     ]
    }
   ],
   "source": [
    "print(f\"No optimization No hessian: {test_sp_file[0].hessian}\")"
   ]
  },
  {
   "cell_type": "markdown",
   "metadata": {},
   "source": [
    "#### G16 LOG with Opt"
   ]
  },
  {
   "cell_type": "code",
   "execution_count": 16,
   "metadata": {},
   "outputs": [
    {
     "name": "stdout",
     "output_type": "stream",
     "text": [
      "frame num: 13; atom num: 31\n",
      "SMILES: C=C[C@H]1[C@@H]2[C@H](C[C@@]1(C)O)OC[C@@H]2C\n",
      "parameter comment: \n",
      " %nprocshared=32\n",
      " Will use up to   32 processors via shared memory.\n",
      " %mem=100GB\n",
      " # opt=maxcycle=150 freq def2svp m06l\n"
     ]
    },
    {
     "data": {
      "image/png": "[encoded data removed]",
      "text/plain": [
       "<rdkit.Chem.rdchem.Mol at 0x7f43d20a7cc0>"
      ]
     },
     "execution_count": 16,
     "metadata": {},
     "output_type": "execute_result"
    }
   ],
   "source": [
    "test_opt_file = AutoParser(\"../tests/test_files/g16log/11_Opt.log\")\n",
    "print(f\"frame num: {len(test_opt_file)}; atom num: {len(test_opt_file[-1])}\")\n",
    "print(f\"SMILES: {test_opt_file[-1].to_standard_SMILES()}\")\n",
    "print(f\"parameter comment: \\n{test_opt_file[-1].parameter_comment}\")\n",
    "test_opt_file[-1].rdmol"
   ]
  },
  {
   "cell_type": "code",
   "execution_count": 17,
   "metadata": {},
   "outputs": [
    {
     "name": "stdout",
     "output_type": "stream",
     "text": [
      "-579.925317 hartree / particle\n"
     ]
    },
    {
     "data": {
      "text/plain": [
       "{'zero-point': -579.649732 <Unit('hartree / particle')>,\n",
       " 'thermal energy': -579.637414 <Unit('hartree / particle')>,\n",
       " 'thermal enthalpy': -579.63647 <Unit('hartree / particle')>,\n",
       " 'thermal gibbs free energy': -579.686912 <Unit('hartree / particle')>,\n",
       " 'zero-point correction': 0.275585 <Unit('hartree / particle')>,\n",
       " 'thermal energy correction': 0.287903 <Unit('hartree / particle')>,\n",
       " 'thermal enthalpy correction': 0.288847 <Unit('hartree / particle')>,\n",
       " 'thermal gibbs free energy correction': 0.238406 <Unit('hartree / particle')>}"
      ]
     },
     "execution_count": 17,
     "metadata": {},
     "output_type": "execute_result"
    }
   ],
   "source": [
    "print(test_opt_file[-1].energy)\n",
    "test_opt_file[-1].sum_energy"
   ]
  },
  {
   "cell_type": "code",
   "execution_count": 18,
   "metadata": {},
   "outputs": [
    {
     "name": "stdout",
     "output_type": "stream",
     "text": [
      "partial charges num: 31\n",
      "first 5: [0.147998, -0.480978, 0.248552, -0.175483, 0.041544]\n"
     ]
    }
   ],
   "source": [
    "print(f\"partial charges num: {len(test_opt_file[-1].partial_charges)}\")\n",
    "print(f\"first 5: {test_opt_file[-1].partial_charges[:5]}\")"
   ]
  },
  {
   "cell_type": "code",
   "execution_count": 19,
   "metadata": {},
   "outputs": [
    {
     "name": "stdout",
     "output_type": "stream",
     "text": [
      "first 2 grdients: [(<Quantity(-2.113e-06, 'hartree / bohr')>, <Quantity(4.623e-06, 'hartree / bohr')>, <Quantity(-3.46e-06, 'hartree / bohr')>), (<Quantity(-4.571e-06, 'hartree / bohr')>, <Quantity(6.814e-06, 'hartree / bohr')>, <Quantity(2.587e-06, 'hartree / bohr')>)]\n"
     ]
    }
   ],
   "source": [
    "print(f\"first 2 grdients: {test_opt_file[-1].gradients[:2]}\")"
   ]
  },
  {
   "cell_type": "code",
   "execution_count": 20,
   "metadata": {},
   "outputs": [
    {
     "name": "stdout",
     "output_type": "stream",
     "text": [
      "No TS No imaginary frequencies: []\n",
      "first 1 freq: [{'freq': <Quantity(76.85, 'reciprocal_centimeter')>, 'is imaginary': False, 'Reduced masses': <Quantity(3.0435, 'unified_atomic_mass_unit')>, 'force constants': <Quantity(0.0106, 'millidyne / angstrom')>, 'IR intensities': <Quantity(0.26, 'kilomole / mole')>, 'normal coordinates': [(<Quantity(-0.01, 'angstrom')>, <Quantity(0.01, 'angstrom')>, <Quantity(-0.01, 'angstrom')>), (<Quantity(0.02, 'angstrom')>, <Quantity(0.04, 'angstrom')>, <Quantity(-0.04, 'angstrom')>), (<Quantity(-0.03, 'angstrom')>, <Quantity(0.07, 'angstrom')>, <Quantity(-0.06, 'angstrom')>), (<Quantity(-0.09, 'angstrom')>, <Quantity(0.02, 'angstrom')>, <Quantity(0.01, 'angstrom')>), (<Quantity(0.01, 'angstrom')>, <Quantity(0.08, 'angstrom')>, <Quantity(-0.09, 'angstrom')>), (<Quantity(-0.08, 'angstrom')>, <Quantity(0.1, 'angstrom')>, <Quantity(-0.1, 'angstrom')>), (<Quantity(-0.15, 'angstrom')>, <Quantity(0.07, 'angstrom')>, <Quantity(0.03, 'angstrom')>), (<Quantity(-0.06, 'angstrom')>, <Quantity(-0.01, 'angstrom')>, <Quantity(-0.0, 'angstrom')>), (<Quantity(-0.05, 'angstrom')>, <Quantity(-0.05, 'angstrom')>, <Quantity(0.02, 'angstrom')>), (<Quantity(-0.05, 'angstrom')>, <Quantity(-0.08, 'angstrom')>, <Quantity(0.03, 'angstrom')>), (<Quantity(0.0, 'angstrom')>, <Quantity(-0.05, 'angstrom')>, <Quantity(0.03, 'angstrom')>), (<Quantity(0.01, 'angstrom')>, <Quantity(-0.03, 'angstrom')>, <Quantity(0.02, 'angstrom')>), (<Quantity(0.01, 'angstrom')>, <Quantity(0.0, 'angstrom')>, <Quantity(0.01, 'angstrom')>), (<Quantity(-0.03, 'angstrom')>, <Quantity(-0.02, 'angstrom')>, <Quantity(-0.01, 'angstrom')>), (<Quantity(-0.23, 'angstrom')>, <Quantity(-0.14, 'angstrom')>, <Quantity(0.02, 'angstrom')>), (<Quantity(-0.09, 'angstrom')>, <Quantity(-0.05, 'angstrom')>, <Quantity(0.05, 'angstrom')>), (<Quantity(-0.1, 'angstrom')>, <Quantity(-0.08, 'angstrom')>, <Quantity(0.08, 'angstrom')>), (<Quantity(-0.1, 'angstrom')>, <Quantity(-0.09, 'angstrom')>, <Quantity(0.01, 'angstrom')>), (<Quantity(-0.03, 'angstrom')>, <Quantity(0.02, 'angstrom')>, <Quantity(-0.02, 'angstrom')>), (<Quantity(0.02, 'angstrom')>, <Quantity(-0.09, 'angstrom')>, <Quantity(0.05, 'angstrom')>), (<Quantity(0.06, 'angstrom')>, <Quantity(-0.08, 'angstrom')>, <Quantity(0.07, 'angstrom')>), (<Quantity(0.0, 'angstrom')>, <Quantity(-0.1, 'angstrom')>, <Quantity(0.04, 'angstrom')>), (<Quantity(0.02, 'angstrom')>, <Quantity(-0.13, 'angstrom')>, <Quantity(0.06, 'angstrom')>), (<Quantity(0.02, 'angstrom')>, <Quantity(-0.02, 'angstrom')>, <Quantity(0.02, 'angstrom')>), (<Quantity(0.01, 'angstrom')>, <Quantity(-0.05, 'angstrom')>, <Quantity(0.04, 'angstrom')>), (<Quantity(0.06, 'angstrom')>, <Quantity(-0.01, 'angstrom')>, <Quantity(0.03, 'angstrom')>), (<Quantity(-0.1, 'angstrom')>, <Quantity(-0.04, 'angstrom')>, <Quantity(0.1, 'angstrom')>), (<Quantity(0.28, 'angstrom')>, <Quantity(0.19, 'angstrom')>, <Quantity(-0.09, 'angstrom')>), (<Quantity(0.51, 'angstrom')>, <Quantity(0.32, 'angstrom')>, <Quantity(-0.12, 'angstrom')>), (<Quantity(0.32, 'angstrom')>, <Quantity(0.23, 'angstrom')>, <Quantity(-0.12, 'angstrom')>), (<Quantity(-0.08, 'angstrom')>, <Quantity(-0.0, 'angstrom')>, <Quantity(0.0, 'angstrom')>)]}]\n"
     ]
    }
   ],
   "source": [
    "print(f\"No TS No imaginary frequencies: {test_opt_file[-1].imaginary_frequencies}\")\n",
    "\n",
    "print(f\"first 1 freq: {test_opt_file[-1].frequencies[:1]}\")"
   ]
  },
  {
   "cell_type": "code",
   "execution_count": 21,
   "metadata": {},
   "outputs": [
    {
     "name": "stdout",
     "output_type": "stream",
     "text": [
      "{'gap': <Quantity(0.20428, 'hartree / particle')>, 'homo': <Quantity(-0.2188, 'hartree / particle')>, 'lumo': <Quantity(-0.01452, 'hartree / particle')>}\n",
      "{'gap': None, 'homo': None, 'lumo': None}\n"
     ]
    }
   ],
   "source": [
    "print(test_opt_file[-1].alpha_energy)\n",
    "print(test_opt_file[-1].beta_energy)"
   ]
  },
  {
   "cell_type": "code",
   "execution_count": 22,
   "metadata": {},
   "outputs": [
    {
     "name": "stdout",
     "output_type": "stream",
     "text": [
      "first 5 hessian: [0.53872264, -0.02896982, 0.47221615, -0.09671196, -0.04707728]\n"
     ]
    }
   ],
   "source": [
    "print(f\"first 5 hessian: {test_opt_file[-1].hessian[:5]}\")"
   ]
  },
  {
   "cell_type": "markdown",
   "metadata": {},
   "source": [
    "#### G16 LOG with TS"
   ]
  },
  {
   "cell_type": "code",
   "execution_count": 23,
   "metadata": {},
   "outputs": [
    {
     "name": "stdout",
     "output_type": "stream",
     "text": [
      "frame num: 13; atom num: 47\n",
      "SMILES: [Br-].[Br-].[Ni@OH26+3]c1ccccc1.[S-]Cc1ccccc1.c1c[nH]cn1.c1c[nH]cn1\n",
      "parameter comment: \n",
      " %nprocshared=32\n",
      " Will use up to   32 processors via shared memory.\n",
      " %mem=100GB\n",
      " # opt=(calcfc,ts,maxcycle=150,noeigen) freq ub3lyp/genecp empiricaldis\n",
      " persion=gd3bj\n"
     ]
    },
    {
     "name": "stderr",
     "output_type": "stream",
     "text": [
      "==============================\n",
      "*** Open Babel Warning  in PerceiveBondOrders\n",
      "  Failed to kekulize aromatic bonds in OBMol::PerceiveBondOrders (title is charge 0 multiplicity 1)\n",
      "\n"
     ]
    },
    {
     "data": {
      "image/png": "[encoded data removed]",
      "text/plain": [
       "<rdkit.Chem.rdchem.Mol at 0x7f43d1ec5660>"
      ]
     },
     "execution_count": 23,
     "metadata": {},
     "output_type": "execute_result"
    }
   ],
   "source": [
    "test_ts_file = AutoParser(\"../tests/test_files/g16log/S_Ph_Ni_TS.log\")\n",
    "print(f\"frame num: {len(test_ts_file)}; atom num: {len(test_ts_file[-1])}\")\n",
    "print(f\"SMILES: {test_ts_file[-1].to_standard_SMILES()}\")\n",
    "print(f\"parameter comment: \\n{test_ts_file[-1].parameter_comment}\")\n",
    "test_ts_file[-1].rdmol"
   ]
  },
  {
   "cell_type": "code",
   "execution_count": 24,
   "metadata": {},
   "outputs": [
    {
     "name": "stdout",
     "output_type": "stream",
     "text": [
      "-1549.05355 hartree / particle\n"
     ]
    },
    {
     "data": {
      "text/plain": [
       "{'zero-point': -1548.691989 <Unit('hartree / particle')>,\n",
       " 'thermal energy': -1548.66487 <Unit('hartree / particle')>,\n",
       " 'thermal enthalpy': -1548.663926 <Unit('hartree / particle')>,\n",
       " 'thermal gibbs free energy': -1548.752428 <Unit('hartree / particle')>,\n",
       " 'zero-point correction': 0.361561 <Unit('hartree / particle')>,\n",
       " 'thermal energy correction': 0.38868 <Unit('hartree / particle')>,\n",
       " 'thermal enthalpy correction': 0.389624 <Unit('hartree / particle')>,\n",
       " 'thermal gibbs free energy correction': 0.301123 <Unit('hartree / particle')>}"
      ]
     },
     "execution_count": 24,
     "metadata": {},
     "output_type": "execute_result"
    }
   ],
   "source": [
    "print(test_ts_file[-1].energy)\n",
    "test_ts_file[-1].sum_energy"
   ]
  },
  {
   "cell_type": "code",
   "execution_count": 25,
   "metadata": {},
   "outputs": [
    {
     "name": "stdout",
     "output_type": "stream",
     "text": [
      "partial charges num: 47\n",
      "first 5: [-0.275278, -0.2701, -0.195995, -0.374709, 0.238983]\n"
     ]
    }
   ],
   "source": [
    "print(f\"partial charges num: {len(test_ts_file[-1].partial_charges)}\")\n",
    "print(f\"first 5: {test_ts_file[-1].partial_charges[:5]}\")"
   ]
  },
  {
   "cell_type": "code",
   "execution_count": 26,
   "metadata": {},
   "outputs": [
    {
     "name": "stdout",
     "output_type": "stream",
     "text": [
      "first 2 grdients: [(<Quantity(-2.53e-07, 'hartree / bohr')>, <Quantity(-3.125e-06, 'hartree / bohr')>, <Quantity(-6.649e-06, 'hartree / bohr')>), (<Quantity(5.86e-07, 'hartree / bohr')>, <Quantity(-1.071e-06, 'hartree / bohr')>, <Quantity(-5.85e-07, 'hartree / bohr')>)]\n"
     ]
    }
   ],
   "source": [
    "print(f\"first 2 grdients: {test_ts_file[-1].gradients[:2]}\")"
   ]
  },
  {
   "cell_type": "code",
   "execution_count": 27,
   "metadata": {},
   "outputs": [
    {
     "name": "stdout",
     "output_type": "stream",
     "text": [
      "imaginary frequencies: [{'freq': <Quantity(-185.8656, 'reciprocal_centimeter')>, 'is imaginary': True, 'Reduced masses': <Quantity(8.7628, 'unified_atomic_mass_unit')>, 'force constants': <Quantity(0.1784, 'millidyne / angstrom')>, 'IR intensities': <Quantity(37.9609, 'kilomole / mole')>, 'normal coordinates': [(<Quantity(0.03, 'angstrom')>, <Quantity(0.07, 'angstrom')>, <Quantity(-0.07, 'angstrom')>), (<Quantity(0.01, 'angstrom')>, <Quantity(-0.01, 'angstrom')>, <Quantity(-0.01, 'angstrom')>), (<Quantity(-0.0, 'angstrom')>, <Quantity(0.01, 'angstrom')>, <Quantity(-0.0, 'angstrom')>), (<Quantity(-0.05, 'angstrom')>, <Quantity(0.07, 'angstrom')>, <Quantity(-0.01, 'angstrom')>), (<Quantity(-0.02, 'angstrom')>, <Quantity(0.06, 'angstrom')>, <Quantity(0.0, 'angstrom')>), (<Quantity(-0.03, 'angstrom')>, <Quantity(0.06, 'angstrom')>, <Quantity(-0.0, 'angstrom')>), (<Quantity(-0.01, 'angstrom')>, <Quantity(0.07, 'angstrom')>, <Quantity(0.01, 'angstrom')>), (<Quantity(-0.0, 'angstrom')>, <Quantity(0.07, 'angstrom')>, <Quantity(0.01, 'angstrom')>), (<Quantity(-0.04, 'angstrom')>, <Quantity(0.06, 'angstrom')>, <Quantity(-0.0, 'angstrom')>), (<Quantity(0.03, 'angstrom')>, <Quantity(0.07, 'angstrom')>, <Quantity(0.02, 'angstrom')>), (<Quantity(0.01, 'angstrom')>, <Quantity(0.07, 'angstrom')>, <Quantity(0.02, 'angstrom')>), (<Quantity(0.02, 'angstrom')>, <Quantity(0.01, 'angstrom')>, <Quantity(-0.02, 'angstrom')>), (<Quantity(0.02, 'angstrom')>, <Quantity(0.01, 'angstrom')>, <Quantity(-0.03, 'angstrom')>), (<Quantity(-0.0, 'angstrom')>, <Quantity(-0.02, 'angstrom')>, <Quantity(0.01, 'angstrom')>), (<Quantity(0.04, 'angstrom')>, <Quantity(0.04, 'angstrom')>, <Quantity(-0.05, 'angstrom')>), (<Quantity(-0.0, 'angstrom')>, <Quantity(-0.03, 'angstrom')>, <Quantity(0.01, 'angstrom')>), (<Quantity(-0.0, 'angstrom')>, <Quantity(-0.03, 'angstrom')>, <Quantity(0.02, 'angstrom')>), (<Quantity(0.01, 'angstrom')>, <Quantity(-0.0, 'angstrom')>, <Quantity(-0.02, 'angstrom')>), (<Quantity(-0.02, 'angstrom')>, <Quantity(-0.05, 'angstrom')>, <Quantity(0.02, 'angstrom')>), (<Quantity(0.01, 'angstrom')>, <Quantity(-0.01, 'angstrom')>, <Quantity(-0.01, 'angstrom')>), (<Quantity(0.0, 'angstrom')>, <Quantity(0.07, 'angstrom')>, <Quantity(0.01, 'angstrom')>), (<Quantity(0.11, 'angstrom')>, <Quantity(-0.24, 'angstrom')>, <Quantity(-0.11, 'angstrom')>), (<Quantity(-0.03, 'angstrom')>, <Quantity(-0.04, 'angstrom')>, <Quantity(0.05, 'angstrom')>), (<Quantity(-0.02, 'angstrom')>, <Quantity(0.13, 'angstrom')>, <Quantity(0.06, 'angstrom')>), (<Quantity(-0.14, 'angstrom')>, <Quantity(-0.1, 'angstrom')>, <Quantity(0.17, 'angstrom')>), (<Quantity(0.01, 'angstrom')>, <Quantity(-0.01, 'angstrom')>, <Quantity(0.0, 'angstrom')>), (<Quantity(0.0, 'angstrom')>, <Quantity(-0.0, 'angstrom')>, <Quantity(0.01, 'angstrom')>), (<Quantity(0.02, 'angstrom')>, <Quantity(-0.0, 'angstrom')>, <Quantity(-0.0, 'angstrom')>), (<Quantity(0.01, 'angstrom')>, <Quantity(0.0, 'angstrom')>, <Quantity(0.0, 'angstrom')>), (<Quantity(-0.01, 'angstrom')>, <Quantity(-0.01, 'angstrom')>, <Quantity(0.01, 'angstrom')>), (<Quantity(0.02, 'angstrom')>, <Quantity(0.0, 'angstrom')>, <Quantity(-0.0, 'angstrom')>), (<Quantity(0.01, 'angstrom')>, <Quantity(-0.0, 'angstrom')>, <Quantity(0.01, 'angstrom')>), (<Quantity(0.02, 'angstrom')>, <Quantity(0.0, 'angstrom')>, <Quantity(0.0, 'angstrom')>), (<Quantity(0.0, 'angstrom')>, <Quantity(0.0, 'angstrom')>, <Quantity(0.01, 'angstrom')>), (<Quantity(0.03, 'angstrom')>, <Quantity(0.01, 'angstrom')>, <Quantity(-0.0, 'angstrom')>), (<Quantity(0.01, 'angstrom')>, <Quantity(0.01, 'angstrom')>, <Quantity(0.01, 'angstrom')>), (<Quantity(-0.22, 'angstrom')>, <Quantity(-0.08, 'angstrom')>, <Quantity(0.41, 'angstrom')>), (<Quantity(-0.14, 'angstrom')>, <Quantity(-0.03, 'angstrom')>, <Quantity(0.25, 'angstrom')>), (<Quantity(-0.11, 'angstrom')>, <Quantity(-0.04, 'angstrom')>, <Quantity(0.18, 'angstrom')>), (<Quantity(-0.02, 'angstrom')>, <Quantity(0.05, 'angstrom')>, <Quantity(-0.0, 'angstrom')>), (<Quantity(-0.2, 'angstrom')>, <Quantity(-0.05, 'angstrom')>, <Quantity(0.36, 'angstrom')>), (<Quantity(0.0, 'angstrom')>, <Quantity(0.03, 'angstrom')>, <Quantity(-0.05, 'angstrom')>), (<Quantity(-0.13, 'angstrom')>, <Quantity(-0.06, 'angstrom')>, <Quantity(0.21, 'angstrom')>), (<Quantity(0.03, 'angstrom')>, <Quantity(0.07, 'angstrom')>, <Quantity(-0.11, 'angstrom')>), (<Quantity(0.02, 'angstrom')>, <Quantity(0.09, 'angstrom')>, <Quantity(-0.09, 'angstrom')>), (<Quantity(0.07, 'angstrom')>, <Quantity(0.06, 'angstrom')>, <Quantity(-0.19, 'angstrom')>), (<Quantity(0.1, 'angstrom')>, <Quantity(0.11, 'angstrom')>, <Quantity(-0.25, 'angstrom')>)]}]\n",
      "last 1 freq: [{'freq': <Quantity(3333.3573, 'reciprocal_centimeter')>, 'is imaginary': False, 'Reduced masses': <Quantity(1.1045, 'unified_atomic_mass_unit')>, 'force constants': <Quantity(7.2306, 'millidyne / angstrom')>, 'IR intensities': <Quantity(6.4257, 'kilomole / mole')>, 'normal coordinates': [(<Quantity(-0.0, 'angstrom')>, <Quantity(0.0, 'angstrom')>, <Quantity(-0.0, 'angstrom')>), (<Quantity(-0.0, 'angstrom')>, <Quantity(-0.0, 'angstrom')>, <Quantity(-0.0, 'angstrom')>), (<Quantity(0.0, 'angstrom')>, <Quantity(-0.0, 'angstrom')>, <Quantity(0.0, 'angstrom')>), (<Quantity(0.0, 'angstrom')>, <Quantity(-0.0, 'angstrom')>, <Quantity(0.0, 'angstrom')>), (<Quantity(0.0, 'angstrom')>, <Quantity(-0.0, 'angstrom')>, <Quantity(0.0, 'angstrom')>), (<Quantity(0.0, 'angstrom')>, <Quantity(-0.0, 'angstrom')>, <Quantity(-0.0, 'angstrom')>), (<Quantity(0.0, 'angstrom')>, <Quantity(0.0, 'angstrom')>, <Quantity(-0.0, 'angstrom')>), (<Quantity(-0.0, 'angstrom')>, <Quantity(0.0, 'angstrom')>, <Quantity(-0.0, 'angstrom')>), (<Quantity(-0.0, 'angstrom')>, <Quantity(0.0, 'angstrom')>, <Quantity(0.0, 'angstrom')>), (<Quantity(0.0, 'angstrom')>, <Quantity(0.0, 'angstrom')>, <Quantity(0.0, 'angstrom')>), (<Quantity(-0.0, 'angstrom')>, <Quantity(-0.0, 'angstrom')>, <Quantity(0.0, 'angstrom')>), (<Quantity(0.0, 'angstrom')>, <Quantity(-0.0, 'angstrom')>, <Quantity(-0.0, 'angstrom')>), (<Quantity(-0.0, 'angstrom')>, <Quantity(0.0, 'angstrom')>, <Quantity(0.0, 'angstrom')>), (<Quantity(-0.07, 'angstrom')>, <Quantity(0.05, 'angstrom')>, <Quantity(0.02, 'angstrom')>), (<Quantity(0.02, 'angstrom')>, <Quantity(-0.04, 'angstrom')>, <Quantity(-0.05, 'angstrom')>), (<Quantity(0.02, 'angstrom')>, <Quantity(0.01, 'angstrom')>, <Quantity(0.03, 'angstrom')>), (<Quantity(0.73, 'angstrom')>, <Quantity(-0.54, 'angstrom')>, <Quantity(-0.2, 'angstrom')>), (<Quantity(0.01, 'angstrom')>, <Quantity(-0.0, 'angstrom')>, <Quantity(0.0, 'angstrom')>), (<Quantity(-0.13, 'angstrom')>, <Quantity(-0.13, 'angstrom')>, <Quantity(-0.3, 'angstrom')>), (<Quantity(0.0, 'angstrom')>, <Quantity(-0.0, 'angstrom')>, <Quantity(-0.0, 'angstrom')>), (<Quantity(-0.0, 'angstrom')>, <Quantity(0.0, 'angstrom')>, <Quantity(-0.0, 'angstrom')>), (<Quantity(-0.0, 'angstrom')>, <Quantity(0.0, 'angstrom')>, <Quantity(0.0, 'angstrom')>), (<Quantity(-0.0, 'angstrom')>, <Quantity(0.0, 'angstrom')>, <Quantity(0.0, 'angstrom')>), (<Quantity(-0.0, 'angstrom')>, <Quantity(-0.0, 'angstrom')>, <Quantity(-0.0, 'angstrom')>), (<Quantity(0.0, 'angstrom')>, <Quantity(-0.0, 'angstrom')>, <Quantity(-0.0, 'angstrom')>), (<Quantity(0.0, 'angstrom')>, <Quantity(-0.0, 'angstrom')>, <Quantity(0.0, 'angstrom')>), (<Quantity(-0.0, 'angstrom')>, <Quantity(0.0, 'angstrom')>, <Quantity(0.0, 'angstrom')>), (<Quantity(-0.0, 'angstrom')>, <Quantity(-0.0, 'angstrom')>, <Quantity(0.0, 'angstrom')>), (<Quantity(0.0, 'angstrom')>, <Quantity(0.0, 'angstrom')>, <Quantity(0.0, 'angstrom')>), (<Quantity(0.0, 'angstrom')>, <Quantity(-0.0, 'angstrom')>, <Quantity(-0.0, 'angstrom')>), (<Quantity(-0.0, 'angstrom')>, <Quantity(-0.0, 'angstrom')>, <Quantity(0.0, 'angstrom')>), (<Quantity(0.0, 'angstrom')>, <Quantity(-0.0, 'angstrom')>, <Quantity(0.0, 'angstrom')>), (<Quantity(0.0, 'angstrom')>, <Quantity(-0.0, 'angstrom')>, <Quantity(-0.0, 'angstrom')>), (<Quantity(-0.0, 'angstrom')>, <Quantity(-0.0, 'angstrom')>, <Quantity(-0.0, 'angstrom')>), (<Quantity(-0.0, 'angstrom')>, <Quantity(0.0, 'angstrom')>, <Quantity(0.0, 'angstrom')>), (<Quantity(-0.0, 'angstrom')>, <Quantity(0.0, 'angstrom')>, <Quantity(-0.0, 'angstrom')>), (<Quantity(0.0, 'angstrom')>, <Quantity(0.0, 'angstrom')>, <Quantity(-0.0, 'angstrom')>), (<Quantity(-0.0, 'angstrom')>, <Quantity(-0.0, 'angstrom')>, <Quantity(-0.0, 'angstrom')>), (<Quantity(0.0, 'angstrom')>, <Quantity(-0.0, 'angstrom')>, <Quantity(0.0, 'angstrom')>), (<Quantity(-0.0, 'angstrom')>, <Quantity(0.0, 'angstrom')>, <Quantity(-0.0, 'angstrom')>), (<Quantity(0.0, 'angstrom')>, <Quantity(0.0, 'angstrom')>, <Quantity(0.0, 'angstrom')>), (<Quantity(0.0, 'angstrom')>, <Quantity(0.0, 'angstrom')>, <Quantity(0.0, 'angstrom')>), (<Quantity(-0.01, 'angstrom')>, <Quantity(0.0, 'angstrom')>, <Quantity(-0.0, 'angstrom')>), (<Quantity(-0.0, 'angstrom')>, <Quantity(-0.0, 'angstrom')>, <Quantity(-0.0, 'angstrom')>), (<Quantity(0.0, 'angstrom')>, <Quantity(-0.0, 'angstrom')>, <Quantity(0.0, 'angstrom')>), (<Quantity(-0.0, 'angstrom')>, <Quantity(-0.0, 'angstrom')>, <Quantity(-0.0, 'angstrom')>), (<Quantity(-0.0, 'angstrom')>, <Quantity(0.0, 'angstrom')>, <Quantity(0.0, 'angstrom')>)]}]\n"
     ]
    }
   ],
   "source": [
    "print(f\"imaginary frequencies: {test_ts_file[-1].imaginary_frequencies}\")\n",
    "print(f\"last 1 freq: {test_ts_file[-1].frequencies[-1:]}\")"
   ]
  },
  {
   "cell_type": "code",
   "execution_count": 28,
   "metadata": {},
   "outputs": [
    {
     "name": "stdout",
     "output_type": "stream",
     "text": [
      "{'gap': <Quantity(0.07788, 'hartree / particle')>, 'homo': <Quantity(-0.18821, 'hartree / particle')>, 'lumo': <Quantity(-0.11033, 'hartree / particle')>}\n",
      "{'gap': <Quantity(0.07788, 'hartree / particle')>, 'homo': <Quantity(-0.18821, 'hartree / particle')>, 'lumo': <Quantity(-0.11033, 'hartree / particle')>}\n"
     ]
    }
   ],
   "source": [
    "print(test_ts_file[-1].alpha_energy)\n",
    "print(test_ts_file[-1].beta_energy)"
   ]
  },
  {
   "cell_type": "code",
   "execution_count": 29,
   "metadata": {},
   "outputs": [
    {
     "name": "stdout",
     "output_type": "stream",
     "text": [
      "first 5 hessian: [0.17022137, 0.00364296, 0.11041035, -0.03350619, -0.01261719]\n"
     ]
    }
   ],
   "source": [
    "print(f\"first 5 hessian: {test_ts_file[-1].hessian[:5]}\")"
   ]
  },
  {
   "cell_type": "code",
   "execution_count": null,
   "metadata": {},
   "outputs": [],
   "source": []
  }
 ],
 "metadata": {
  "kernelspec": {
   "display_name": "molop",
   "language": "python",
   "name": "python3"
  },
  "language_info": {
   "codemirror_mode": {
    "name": "ipython",
    "version": 3
   },
   "file_extension": ".py",
   "mimetype": "text/x-python",
   "name": "python",
   "nbconvert_exporter": "python",
   "pygments_lexer": "ipython3",
   "version": "3.8.18"
  }
 },
 "nbformat": 4,
 "nbformat_minor": 2
}
