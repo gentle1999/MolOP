{
 "cells": [
  {
   "cell_type": "markdown",
   "metadata": {},
   "source": [
    "# What rdDeterminBonds cannot do"
   ]
  },
  {
   "cell_type": "markdown",
   "metadata": {},
   "source": [
    "rdDetermineBonds works well for normal organic molecules, while is not suitable for the free radicals and complex containing metal.\n",
    "\n",
    "Some cations also make rdDetermineBonds crash.\n",
    "\n",
    "Examples below:"
   ]
  },
  {
   "cell_type": "code",
   "execution_count": 1,
   "metadata": {},
   "outputs": [],
   "source": [
    "from rdkit import Chem\n",
    "from rdkit.Chem import rdDetermineBonds\n",
    "\n",
    "from molop import AutoParser\n",
    "from molop.structure.structure_recovery import xyz_block_to_omol"
   ]
  },
  {
   "cell_type": "code",
   "execution_count": 2,
   "metadata": {},
   "outputs": [
    {
     "name": "stderr",
     "output_type": "stream",
     "text": [
      "MolOP parsing with single thread: 100%|██████████| 1/1 [00:00<00:00, 81.08it/s]\n",
      "0 files failed to parse, 1 successfully parsed\n"
     ]
    },
    {
     "name": "stdout",
     "output_type": "stream",
     "text": [
      "14\n",
      "charge 1 multiplicity 1\n",
      "C           -3.14607  -0.54761   0.09897\n",
      "N           -1.76373  -0.05084  -0.06691\n",
      "C           -1.32112   1.24470   0.13427\n",
      "C           -0.01668   1.48099  -0.30692\n",
      "C            0.46240   0.19947  -0.11186\n",
      "C           -0.61973  -0.74313   0.02269\n",
      "N            1.86082  -0.22807   0.03589\n",
      "O            2.68347   0.59822   0.34542\n",
      "O            2.01959  -1.41031  -0.23296\n",
      "H           -3.46231  -0.40516   1.13161\n",
      "H           -3.79215   0.01056  -0.57638\n",
      "H           -3.15283  -1.60201  -0.16812\n",
      "H            0.51401   2.40741  -0.46255\n",
      "H           -0.56371  -1.76820   0.37005\n"
     ]
    }
   ],
   "source": [
    "test_file = AutoParser(\n",
    "    \"../tests/test_files/g16log/dsgdb9nsd_131941-4+.log\",\n",
    "    only_extract_structure=True,\n",
    "    only_last_frame=True,\n",
    ")\n",
    "print(test_file[0][-1].to_XYZ_block())"
   ]
  },
  {
   "cell_type": "code",
   "execution_count": 3,
   "metadata": {},
   "outputs": [
    {
     "data": {
      "image/svg+xml": [
       "<svg xmlns=\"http://www.w3.org/2000/svg\" width=\"100\" height=\"100\" x=\"0\" y=\"0\" viewBox=\"0 0 263.421 253.695\" font-family=\"sans-serif\" stroke=\"rgb(0,0,0)\" stroke-width=\"2\" stroke-linecap=\"round\">\n",
       "<line x1=\"186.5\" y1=\"52.9\" x2=\"183.6\" y2=\"79.8\" opacity=\"1.0\" stroke=\"rgb(0,0,0)\" stroke-width=\"2.0\" />\n",
       "<line x1=\"140.1\" y1=\"200.7\" x2=\"140.1\" y2=\"173.7\" opacity=\"1.0\" stroke=\"rgb(0,0,0)\" stroke-width=\"2.0\" />\n",
       "<line x1=\"64.1\" y1=\"189.0\" x2=\"67.0\" y2=\"175.3\" opacity=\"1.0\" stroke=\"rgb(0,0,0)\" stroke-width=\"2.0\" />\n",
       "<line x1=\"161.8\" y1=\"63.9\" x2=\"183.6\" y2=\"79.8\" opacity=\"1.0\" stroke=\"rgb(0,0,0)\" stroke-width=\"2.0\" />\n",
       "<line x1=\"107.8\" y1=\"150.2\" x2=\"82.1\" y2=\"158.5\" opacity=\"1.0\" stroke=\"rgb(0,0,0)\" stroke-width=\"2.0\" />\n",
       "<line x1=\"167.8\" y1=\"101.6\" x2=\"183.6\" y2=\"79.8\" opacity=\"1.0\" stroke=\"rgb(0,0,0)\" stroke-width=\"2.0\" />\n",
       "<line x1=\"120.1\" y1=\"112.1\" x2=\"104.3\" y2=\"90.3\" opacity=\"1.0\" stroke=\"rgb(0,0,0)\" stroke-width=\"2.0\" />\n",
       "<line x1=\"58.1\" y1=\"156.1\" x2=\"47.7\" y2=\"146.7\" opacity=\"1.0\" stroke=\"rgb(0,0,0)\" stroke-width=\"2.0\" />\n",
       "<line x1=\"62.1\" y1=\"151.6\" x2=\"51.7\" y2=\"142.2\" opacity=\"1.0\" stroke=\"rgb(0,0,0)\" stroke-width=\"2.0\" />\n",
       "<line x1=\"183.6\" y1=\"79.8\" x2=\"210.5\" y2=\"82.6\" opacity=\"1.0\" stroke=\"rgb(0,0,0)\" stroke-width=\"2.0\" />\n",
       "<line x1=\"140.1\" y1=\"173.7\" x2=\"107.8\" y2=\"150.2\" opacity=\"1.0\" stroke=\"rgb(0,0,0)\" stroke-width=\"2.0\" />\n",
       "<line x1=\"107.8\" y1=\"150.2\" x2=\"120.1\" y2=\"112.1\" opacity=\"1.0\" stroke=\"rgb(0,0,0)\" stroke-width=\"2.0\" />\n",
       "<line x1=\"116.5\" y1=\"146.7\" x2=\"125.1\" y2=\"120.1\" opacity=\"1.0\" stroke=\"rgb(0,0,0)\" stroke-width=\"2.0\" />\n",
       "<line x1=\"120.1\" y1=\"112.1\" x2=\"147.1\" y2=\"112.1\" opacity=\"1.0\" stroke=\"rgb(0,0,0)\" stroke-width=\"2.0\" />\n",
       "<line x1=\"164.1\" y1=\"124.5\" x2=\"172.5\" y2=\"150.2\" opacity=\"1.0\" stroke=\"rgb(0,0,0)\" stroke-width=\"2.0\" />\n",
       "<line x1=\"172.5\" y1=\"150.2\" x2=\"140.1\" y2=\"173.7\" opacity=\"1.0\" stroke=\"rgb(0,0,0)\" stroke-width=\"2.0\" />\n",
       "<line x1=\"163.4\" y1=\"147.9\" x2=\"140.8\" y2=\"164.3\" opacity=\"1.0\" stroke=\"rgb(0,0,0)\" stroke-width=\"2.0\" />\n",
       "<text x=\"154.128733\" y=\"120.141556\" fill=\"rgb(12,12,255)\" stroke-width=\"0\" font-weight=\"bold\" font-size=\"16\">N</text>\n",
       "<text x=\"177.289413\" y=\"146.151816\" fill=\"rgb(102,102,102)\" stroke-width=\"0\" font-weight=\"bold\" font-size=\"16\">+</text>\n",
       "<text x=\"74.525793\" y=\"158.512496\" fill=\"rgb(12,12,255)\" stroke-width=\"0\" font-weight=\"bold\" font-size=\"16\">+</text>\n",
       "<text x=\"63.725793\" y=\"170.544496\" fill=\"rgb(12,12,255)\" stroke-width=\"0\" font-weight=\"bold\" font-size=\"16\">N</text>\n",
       "<text x=\"34.000000\" y=\"143.779272\" fill=\"rgb(255,12,12)\" stroke-width=\"0\" font-weight=\"bold\" font-size=\"16\">O</text>\n",
       "<text x=\"66.209325\" y=\"187.558400\" fill=\"rgb(255,12,12)\" stroke-width=\"0\" font-weight=\"bold\" font-size=\"16\">_</text>\n",
       "<text x=\"55.409325\" y=\"209.670400\" fill=\"rgb(255,12,12)\" stroke-width=\"0\" font-weight=\"bold\" font-size=\"16\">O</text>\n",
       "<text x=\"217.421019\" y=\"91.962014\" fill=\"rgb(191,191,191)\" stroke-width=\"0\" font-weight=\"bold\" font-size=\"16\">H</text>\n",
       "<text x=\"181.821282\" y=\"48.000000\" fill=\"rgb(191,191,191)\" stroke-width=\"0\" font-weight=\"bold\" font-size=\"16\">H</text>\n",
       "<text x=\"145.279464\" y=\"64.269466\" fill=\"rgb(191,191,191)\" stroke-width=\"0\" font-weight=\"bold\" font-size=\"16\">H</text>\n",
       "<text x=\"134.128733\" y=\"221.695226\" fill=\"rgb(191,191,191)\" stroke-width=\"0\" font-weight=\"bold\" font-size=\"16\">H</text>\n",
       "<text x=\"90.617323\" y=\"87.780876\" fill=\"rgb(191,191,191)\" stroke-width=\"0\" font-weight=\"bold\" font-size=\"16\">H</text>\n",
       "</svg>\n"
      ],
      "text/plain": [
       "<openbabel.pybel.Molecule at 0x7f0daa946670>"
      ]
     },
     "execution_count": 3,
     "metadata": {},
     "output_type": "execute_result"
    }
   ],
   "source": [
    "xyz_block_to_omol(test_file[0][-1].to_XYZ_block(), given_charge=1)"
   ]
  },
  {
   "cell_type": "code",
   "execution_count": 4,
   "metadata": {},
   "outputs": [
    {
     "name": "stdout",
     "output_type": "stream",
     "text": [
      "Final molecular charge does not match input; could not find valid bond ordering\n"
     ]
    }
   ],
   "source": [
    "\"\"\"\n",
    "Author: TMJ\n",
    "Date: 2024-02-17 15:17:37\n",
    "LastEditors: TMJ\n",
    "LastEditTime: 2024-03-08 22:10:36\n",
    "Description: 请填写简介\n",
    "\"\"\"\n",
    "raw_mol = Chem.MolFromXYZBlock(test_file[0][-1].to_XYZ_block())\n",
    "conn_mol = Chem.Mol(raw_mol)\n",
    "try:\n",
    "    rdDetermineBonds.DetermineBonds(conn_mol, charge=1)\n",
    "except Exception as e:\n",
    "    print(e)"
   ]
  },
  {
   "cell_type": "markdown",
   "metadata": {},
   "source": [
    "## [dsgdb9nsd_000484-1+.log](../tests/test_files/dsgdb9nsd_000484-1+.log)"
   ]
  },
  {
   "cell_type": "code",
   "execution_count": 5,
   "metadata": {},
   "outputs": [
    {
     "name": "stderr",
     "output_type": "stream",
     "text": [
      "MolOP parsing with single thread: 100%|██████████| 1/1 [00:00<00:00, 106.37it/s]\n",
      "0 files failed to parse, 1 successfully parsed\n"
     ]
    },
    {
     "name": "stdout",
     "output_type": "stream",
     "text": [
      "7\n",
      "charge 1 multiplicity 1\n",
      "C           -3.34943   0.00059   0.00002\n",
      "C           -2.02347  -0.00031   0.00001\n",
      "C           -0.74200  -0.00003  -0.00005\n",
      "C            0.52675  -0.00073   0.00002\n",
      "C            1.83372  -0.00004  -0.00002\n",
      "C            3.06482   0.00035   0.00003\n",
      "H            4.13775   0.00102  -0.00005\n"
     ]
    }
   ],
   "source": [
    "test_file = AutoParser(\n",
    "    \"../tests/test_files/g16log/dsgdb9nsd_000484-1+.log\",\n",
    "    only_extract_structure=True,\n",
    "    only_last_frame=True,\n",
    ")\n",
    "print(test_file[0][-1].to_XYZ_block())"
   ]
  },
  {
   "cell_type": "markdown",
   "metadata": {},
   "source": [
    "### MolOP"
   ]
  },
  {
   "cell_type": "code",
   "execution_count": 6,
   "metadata": {},
   "outputs": [
    {
     "data": {
      "image/svg+xml": [
       "<svg xmlns=\"http://www.w3.org/2000/svg\" width=\"100\" height=\"100\" x=\"0\" y=\"0\" viewBox=\"0 0 320 80\" font-family=\"sans-serif\" stroke=\"rgb(0,0,0)\" stroke-width=\"2\" stroke-linecap=\"round\">\n",
       "<line x1=\"120.0\" y1=\"40.0\" x2=\"80.0\" y2=\"40.0\" opacity=\"1.0\" stroke=\"rgb(0,0,0)\" stroke-width=\"2.0\" />\n",
       "<line x1=\"120.0\" y1=\"40.0\" x2=\"160.0\" y2=\"40.0\" opacity=\"1.0\" stroke=\"rgb(0,0,0)\" stroke-width=\"2.0\" />\n",
       "<line x1=\"120.0\" y1=\"35.8\" x2=\"160.0\" y2=\"35.8\" opacity=\"1.0\" stroke=\"rgb(0,0,0)\" stroke-width=\"2.0\" />\n",
       "<line x1=\"120.0\" y1=\"44.2\" x2=\"160.0\" y2=\"44.2\" opacity=\"1.0\" stroke=\"rgb(0,0,0)\" stroke-width=\"2.0\" />\n",
       "<line x1=\"267.0\" y1=\"40.0\" x2=\"240.0\" y2=\"40.0\" opacity=\"1.0\" stroke=\"rgb(0,0,0)\" stroke-width=\"2.0\" />\n",
       "<line x1=\"200.0\" y1=\"40.0\" x2=\"160.0\" y2=\"40.0\" opacity=\"1.0\" stroke=\"rgb(0,0,0)\" stroke-width=\"2.0\" />\n",
       "<line x1=\"200.0\" y1=\"40.0\" x2=\"240.0\" y2=\"40.0\" opacity=\"1.0\" stroke=\"rgb(0,0,0)\" stroke-width=\"2.0\" />\n",
       "<line x1=\"200.0\" y1=\"35.8\" x2=\"240.0\" y2=\"35.8\" opacity=\"1.0\" stroke=\"rgb(0,0,0)\" stroke-width=\"2.0\" />\n",
       "<line x1=\"200.0\" y1=\"44.2\" x2=\"240.0\" y2=\"44.2\" opacity=\"1.0\" stroke=\"rgb(0,0,0)\" stroke-width=\"2.0\" />\n",
       "<line x1=\"80.0\" y1=\"40.0\" x2=\"53.0\" y2=\"40.0\" opacity=\"1.0\" stroke=\"rgb(0,0,0)\" stroke-width=\"2.0\" />\n",
       "<line x1=\"80.0\" y1=\"44.2\" x2=\"53.0\" y2=\"44.2\" opacity=\"1.0\" stroke=\"rgb(0,0,0)\" stroke-width=\"2.0\" />\n",
       "<line x1=\"80.0\" y1=\"35.8\" x2=\"53.0\" y2=\"35.8\" opacity=\"1.0\" stroke=\"rgb(0,0,0)\" stroke-width=\"2.0\" />\n",
       "<text x=\"44.800000\" y=\"35.968000\" fill=\"rgb(102,102,102)\" stroke-width=\"0\" font-weight=\"bold\" font-size=\"16\">+</text>\n",
       "<text x=\"34.000000\" y=\"48.000000\" fill=\"rgb(102,102,102)\" stroke-width=\"0\" font-weight=\"bold\" font-size=\"16\">C</text>\n",
       "<text x=\"274.000000\" y=\"48.000000\" fill=\"rgb(191,191,191)\" stroke-width=\"0\" font-weight=\"bold\" font-size=\"16\">H</text>\n",
       "</svg>\n"
      ],
      "text/plain": [
       "<openbabel.pybel.Molecule at 0x7f0e64443ca0>"
      ]
     },
     "execution_count": 6,
     "metadata": {},
     "output_type": "execute_result"
    }
   ],
   "source": [
    "xyz_block_to_omol(test_file[0][-1].to_XYZ_block(), given_charge=1)"
   ]
  },
  {
   "cell_type": "markdown",
   "metadata": {},
   "source": [
    "### rdDeterminBonds"
   ]
  },
  {
   "cell_type": "code",
   "execution_count": 7,
   "metadata": {},
   "outputs": [
    {
     "name": "stdout",
     "output_type": "stream",
     "text": [
      "Final molecular charge does not match input; could not find valid bond ordering\n"
     ]
    }
   ],
   "source": [
    "raw_mol = Chem.MolFromXYZBlock(test_file[0][-1].to_XYZ_block())\n",
    "conn_mol = Chem.Mol(raw_mol)\n",
    "try:\n",
    "    rdDetermineBonds.DetermineBonds(conn_mol, charge=1)\n",
    "except Exception as e:\n",
    "    print(e)"
   ]
  },
  {
   "cell_type": "markdown",
   "metadata": {},
   "source": [
    "## [dsgdb9nsd_003051-3.log](../tests/test_files/dsgdb9nsd_003051-3.log)"
   ]
  },
  {
   "cell_type": "code",
   "execution_count": 8,
   "metadata": {},
   "outputs": [
    {
     "name": "stderr",
     "output_type": "stream",
     "text": [
      "MolOP parsing with single thread: 100%|██████████| 1/1 [00:00<00:00, 68.58it/s]\n",
      "0 files failed to parse, 1 successfully parsed\n"
     ]
    },
    {
     "name": "stdout",
     "output_type": "stream",
     "text": [
      "13\n",
      "charge 0 multiplicity 2\n",
      "O            2.74303  -0.87029   0.11900\n",
      "C            2.39672   0.28898   0.03518\n",
      "N            1.08600   0.69380  -0.11131\n",
      "C            0.01184  -0.16463  -0.18281\n",
      "C           -1.33507   0.36079  -0.28698\n",
      "C           -2.50851  -0.51959  -0.38246\n",
      "O           -2.24944   0.13688   0.85436\n",
      "H            3.09374   1.14192   0.06753\n",
      "H            0.91651   1.68909  -0.17184\n",
      "H            0.22625  -1.20769  -0.00795\n",
      "H           -1.43194   1.36750  -0.69001\n",
      "H           -3.38723  -0.17625  -0.92410\n",
      "H           -2.35792  -1.59721  -0.37887\n"
     ]
    }
   ],
   "source": [
    "test_file = AutoParser(\n",
    "    \"../tests/test_files/g16log/dsgdb9nsd_003051-3.log\",\n",
    "    only_extract_structure=True,\n",
    "    only_last_frame=True,\n",
    ")\n",
    "print(test_file[0][-1].to_XYZ_block())"
   ]
  },
  {
   "cell_type": "markdown",
   "metadata": {},
   "source": [
    "### MolOP"
   ]
  },
  {
   "cell_type": "code",
   "execution_count": 9,
   "metadata": {},
   "outputs": [
    {
     "data": {
      "image/svg+xml": [
       "<svg xmlns=\"http://www.w3.org/2000/svg\" width=\"100\" height=\"100\" x=\"0\" y=\"0\" viewBox=\"0 0 213.843 254.84\" font-family=\"sans-serif\" stroke=\"rgb(0,0,0)\" stroke-width=\"2\" stroke-linecap=\"round\">\n",
       "<line x1=\"91.4\" y1=\"203.6\" x2=\"104.9\" y2=\"180.2\" opacity=\"1.0\" stroke=\"rgb(0,0,0)\" stroke-width=\"2.0\" />\n",
       "<line x1=\"130.3\" y1=\"145.2\" x2=\"130.1\" y2=\"146.8\" opacity=\"1.0\" stroke=\"rgb(0,0,0)\" stroke-width=\"1.0\" />\n",
       "<line x1=\"134.6\" y1=\"144.9\" x2=\"134.4\" y2=\"147.8\" opacity=\"1.0\" stroke=\"rgb(0,0,0)\" stroke-width=\"1.0\" />\n",
       "<line x1=\"138.9\" y1=\"144.6\" x2=\"138.6\" y2=\"148.7\" opacity=\"1.0\" stroke=\"rgb(0,0,0)\" stroke-width=\"1.0\" />\n",
       "<line x1=\"143.2\" y1=\"144.3\" x2=\"142.8\" y2=\"149.7\" opacity=\"1.0\" stroke=\"rgb(0,0,0)\" stroke-width=\"1.0\" />\n",
       "<line x1=\"147.6\" y1=\"144.0\" x2=\"147.0\" y2=\"150.7\" opacity=\"1.0\" stroke=\"rgb(0,0,0)\" stroke-width=\"1.0\" />\n",
       "<line x1=\"151.9\" y1=\"143.7\" x2=\"151.2\" y2=\"151.7\" opacity=\"1.0\" stroke=\"rgb(0,0,0)\" stroke-width=\"1.0\" />\n",
       "<line x1=\"104.9\" y1=\"180.2\" x2=\"118.4\" y2=\"203.6\" opacity=\"1.0\" stroke=\"rgb(0,0,0)\" stroke-width=\"2.0\" />\n",
       "<line x1=\"124.9\" y1=\"145.6\" x2=\"135.2\" y2=\"106.9\" opacity=\"1.0\" stroke=\"rgb(0,0,0)\" stroke-width=\"2.0\" />\n",
       "<line x1=\"135.2\" y1=\"106.9\" x2=\"116.1\" y2=\"87.8\" opacity=\"1.0\" stroke=\"rgb(0,0,0)\" stroke-width=\"2.0\" />\n",
       "<line x1=\"135.2\" y1=\"106.9\" x2=\"161.3\" y2=\"99.9\" opacity=\"1.0\" stroke=\"rgb(0,0,0)\" stroke-width=\"2.0\" />\n",
       "<line x1=\"113.9\" y1=\"52.6\" x2=\"110.3\" y2=\"66.1\" opacity=\"1.0\" stroke=\"rgb(0,0,0)\" stroke-width=\"2.0\" />\n",
       "<line x1=\"94.4\" y1=\"82.0\" x2=\"68.3\" y2=\"89.0\" opacity=\"1.0\" stroke=\"rgb(0,0,0)\" stroke-width=\"2.0\" />\n",
       "<line x1=\"68.3\" y1=\"89.0\" x2=\"49.2\" y2=\"69.9\" opacity=\"1.0\" stroke=\"rgb(0,0,0)\" stroke-width=\"2.0\" />\n",
       "<line x1=\"71.2\" y1=\"89.8\" x2=\"64.2\" y2=\"115.8\" opacity=\"1.0\" stroke=\"rgb(0,0,0)\" stroke-width=\"2.0\" />\n",
       "<line x1=\"65.4\" y1=\"88.2\" x2=\"58.4\" y2=\"114.3\" opacity=\"1.0\" stroke=\"rgb(0,0,0)\" stroke-width=\"2.0\" />\n",
       "<line x1=\"104.9\" y1=\"180.2\" x2=\"124.9\" y2=\"145.6\" opacity=\"1.0\" stroke=\"rgb(0,0,0)\" stroke-width=\"2.0\" />\n",
       "<line x1=\"124.9\" y1=\"145.6\" x2=\"97.9\" y2=\"145.6\" opacity=\"1.0\" stroke=\"rgb(0,0,0)\" stroke-width=\"2.0\" />\n",
       "<line x1=\"91.4\" y1=\"156.8\" x2=\"104.9\" y2=\"180.2\" opacity=\"1.0\" stroke=\"rgb(0,0,0)\" stroke-width=\"2.0\" />\n",
       "<text x=\"51.931509\" y=\"135.626828\" fill=\"rgb(255,12,12)\" stroke-width=\"0\" font-weight=\"bold\" font-size=\"16\">O</text>\n",
       "<text x=\"100.921304\" y=\"86.637033\" fill=\"rgb(12,12,255)\" stroke-width=\"0\" font-weight=\"bold\" font-size=\"16\">N</text>\n",
       "<text x=\"140.005576\" y=\"102.889304\" fill=\"rgb(102,102,102)\" stroke-width=\"0\" font-weight=\"bold\" font-size=\"16\" />\n",
       "<text x=\"140.005576\" y=\"102.889304\" fill=\"rgb(102,102,102)\" stroke-width=\"0\" font-weight=\"bold\" font-size=\"32\">.</text>\n",
       "<text x=\"78.852814\" y=\"153.558337\" fill=\"rgb(255,12,12)\" stroke-width=\"0\" font-weight=\"bold\" font-size=\"16\">O</text>\n",
       "<text x=\"34.000000\" y=\"68.705524\" fill=\"rgb(191,191,191)\" stroke-width=\"0\" font-weight=\"bold\" font-size=\"16\">H</text>\n",
       "<text x=\"111.274066\" y=\"48.000000\" fill=\"rgb(191,191,191)\" stroke-width=\"0\" font-weight=\"bold\" font-size=\"16\">H</text>\n",
       "<text x=\"167.842609\" y=\"104.568542\" fill=\"rgb(191,191,191)\" stroke-width=\"0\" font-weight=\"bold\" font-size=\"16\">H</text>\n",
       "<text x=\"158.723873\" y=\"156.767487\" fill=\"rgb(191,191,191)\" stroke-width=\"0\" font-weight=\"bold\" font-size=\"16\">H</text>\n",
       "<text x=\"78.852814\" y=\"222.840370\" fill=\"rgb(191,191,191)\" stroke-width=\"0\" font-weight=\"bold\" font-size=\"16\">H</text>\n",
       "<text x=\"118.852814\" y=\"222.840370\" fill=\"rgb(191,191,191)\" stroke-width=\"0\" font-weight=\"bold\" font-size=\"16\">H</text>\n",
       "</svg>\n"
      ],
      "text/plain": [
       "<openbabel.pybel.Molecule at 0x7f0daa946220>"
      ]
     },
     "execution_count": 9,
     "metadata": {},
     "output_type": "execute_result"
    }
   ],
   "source": [
    "xyz_block_to_omol(test_file[0][-1].to_XYZ_block(), given_charge=0)"
   ]
  },
  {
   "cell_type": "markdown",
   "metadata": {},
   "source": [
    "### rdDeterminBonds"
   ]
  },
  {
   "cell_type": "code",
   "execution_count": 10,
   "metadata": {},
   "outputs": [
    {
     "name": "stdout",
     "output_type": "stream",
     "text": [
      "Final molecular charge does not match input; could not find valid bond ordering\n"
     ]
    }
   ],
   "source": [
    "raw_mol = Chem.MolFromXYZBlock(test_file[0][-1].to_XYZ_block())\n",
    "conn_mol = Chem.Mol(raw_mol)\n",
    "try:\n",
    "    rdDetermineBonds.DetermineBonds(conn_mol, charge=0)\n",
    "except Exception as e:\n",
    "    print(e)"
   ]
  },
  {
   "cell_type": "markdown",
   "metadata": {},
   "source": [
    "## [dsgdb9nsd_004738-2.log](../tests/test_files/dsgdb9nsd_004738-2.log)"
   ]
  },
  {
   "cell_type": "code",
   "execution_count": 11,
   "metadata": {},
   "outputs": [
    {
     "name": "stderr",
     "output_type": "stream",
     "text": [
      "MolOP parsing with single thread: 100%|██████████| 1/1 [00:00<00:00, 64.31it/s]\n",
      "0 files failed to parse, 1 successfully parsed\n"
     ]
    },
    {
     "name": "stdout",
     "output_type": "stream",
     "text": [
      "10\n",
      "charge 0 multiplicity 2\n",
      "O            2.64881  -0.63519  -0.00210\n",
      "C            1.43106  -0.12127  -0.00917\n",
      "C            1.15340   1.30683   0.05508\n",
      "O           -0.20810   1.30191  -0.03339\n",
      "C           -0.66200  -0.00780  -0.02676\n",
      "N            0.31992  -0.88600   0.00077\n",
      "C           -2.03677  -0.24540   0.00185\n",
      "C           -3.22954  -0.42330   0.01666\n",
      "H            2.57861  -1.60095   0.02174\n",
      "H           -4.28066  -0.58516   0.03085\n"
     ]
    }
   ],
   "source": [
    "test_file = AutoParser(\n",
    "    \"../tests/test_files/g16log/dsgdb9nsd_004738-2.log\",\n",
    "    only_extract_structure=True,\n",
    "    only_last_frame=True,\n",
    ")\n",
    "print(test_file[0][-1].to_XYZ_block())"
   ]
  },
  {
   "cell_type": "markdown",
   "metadata": {},
   "source": [
    "### MolOP"
   ]
  },
  {
   "cell_type": "code",
   "execution_count": 12,
   "metadata": {},
   "outputs": [
    {
     "data": {
      "image/svg+xml": [
       "<svg xmlns=\"http://www.w3.org/2000/svg\" width=\"100\" height=\"100\" x=\"0\" y=\"0\" viewBox=\"0 0 305.207 169.529\" font-family=\"sans-serif\" stroke=\"rgb(0,0,0)\" stroke-width=\"2\" stroke-linecap=\"round\">\n",
       "<line x1=\"45.6\" y1=\"66.4\" x2=\"42.7\" y2=\"52.7\" opacity=\"1.0\" stroke=\"rgb(0,0,0)\" stroke-width=\"2.0\" />\n",
       "<line x1=\"86.4\" y1=\"91.5\" x2=\"60.7\" y2=\"83.1\" opacity=\"1.0\" stroke=\"rgb(0,0,0)\" stroke-width=\"2.0\" />\n",
       "<line x1=\"151.1\" y1=\"91.5\" x2=\"189.1\" y2=\"79.1\" opacity=\"1.0\" stroke=\"rgb(0,0,0)\" stroke-width=\"2.0\" />\n",
       "<line x1=\"189.1\" y1=\"79.1\" x2=\"227.2\" y2=\"66.8\" opacity=\"1.0\" stroke=\"rgb(0,0,0)\" stroke-width=\"2.0\" />\n",
       "<line x1=\"187.8\" y1=\"75.1\" x2=\"225.9\" y2=\"62.8\" opacity=\"1.0\" stroke=\"rgb(0,0,0)\" stroke-width=\"2.0\" />\n",
       "<line x1=\"190.4\" y1=\"83.1\" x2=\"228.5\" y2=\"70.8\" opacity=\"1.0\" stroke=\"rgb(0,0,0)\" stroke-width=\"2.0\" />\n",
       "<line x1=\"227.2\" y1=\"66.8\" x2=\"252.8\" y2=\"58.4\" opacity=\"1.0\" stroke=\"rgb(0,0,0)\" stroke-width=\"2.0\" />\n",
       "<line x1=\"142.7\" y1=\"117.2\" x2=\"151.1\" y2=\"91.5\" opacity=\"1.0\" stroke=\"rgb(0,0,0)\" stroke-width=\"2.0\" />\n",
       "<line x1=\"151.1\" y1=\"91.5\" x2=\"129.4\" y2=\"75.7\" opacity=\"1.0\" stroke=\"rgb(0,0,0)\" stroke-width=\"2.0\" />\n",
       "<line x1=\"142.0\" y1=\"93.8\" x2=\"126.8\" y2=\"82.7\" opacity=\"1.0\" stroke=\"rgb(0,0,0)\" stroke-width=\"2.0\" />\n",
       "<line x1=\"108.2\" y1=\"75.6\" x2=\"86.4\" y2=\"91.5\" opacity=\"1.0\" stroke=\"rgb(0,0,0)\" stroke-width=\"2.0\" />\n",
       "<line x1=\"86.4\" y1=\"91.5\" x2=\"98.7\" y2=\"129.5\" opacity=\"1.0\" stroke=\"rgb(0,0,0)\" stroke-width=\"2.0\" />\n",
       "<line x1=\"95.1\" y1=\"95.0\" x2=\"103.7\" y2=\"121.6\" opacity=\"1.0\" stroke=\"rgb(0,0,0)\" stroke-width=\"2.0\" />\n",
       "<line x1=\"98.7\" y1=\"129.5\" x2=\"125.7\" y2=\"129.5\" opacity=\"1.0\" stroke=\"rgb(0,0,0)\" stroke-width=\"2.0\" />\n",
       "<text x=\"42.316468\" y=\"87.125904\" fill=\"rgb(255,12,12)\" stroke-width=\"0\" font-weight=\"bold\" font-size=\"16\">O</text>\n",
       "<text x=\"103.519408\" y=\"125.496844\" fill=\"rgb(102,102,102)\" stroke-width=\"0\" font-weight=\"bold\" font-size=\"16\" />\n",
       "<text x=\"103.519408\" y=\"125.496844\" fill=\"rgb(102,102,102)\" stroke-width=\"0\" font-weight=\"bold\" font-size=\"32\">.</text>\n",
       "<text x=\"132.719408\" y=\"137.528844\" fill=\"rgb(255,12,12)\" stroke-width=\"0\" font-weight=\"bold\" font-size=\"16\">O</text>\n",
       "<text x=\"112.719408\" y=\"75.975174\" fill=\"rgb(12,12,255)\" stroke-width=\"0\" font-weight=\"bold\" font-size=\"16\">N</text>\n",
       "<text x=\"34.000000\" y=\"48.000000\" fill=\"rgb(191,191,191)\" stroke-width=\"0\" font-weight=\"bold\" font-size=\"16\">H</text>\n",
       "<text x=\"259.206870\" y=\"62.404544\" fill=\"rgb(191,191,191)\" stroke-width=\"0\" font-weight=\"bold\" font-size=\"16\">H</text>\n",
       "</svg>\n"
      ],
      "text/plain": [
       "<openbabel.pybel.Molecule at 0x7f0daa8b86d0>"
      ]
     },
     "execution_count": 12,
     "metadata": {},
     "output_type": "execute_result"
    }
   ],
   "source": [
    "xyz_block_to_omol(test_file[0][-1].to_XYZ_block(), given_charge=0)"
   ]
  },
  {
   "cell_type": "markdown",
   "metadata": {},
   "source": [
    "### rdDeterminBonds"
   ]
  },
  {
   "cell_type": "code",
   "execution_count": 13,
   "metadata": {},
   "outputs": [
    {
     "name": "stdout",
     "output_type": "stream",
     "text": [
      "Final molecular charge does not match input; could not find valid bond ordering\n"
     ]
    }
   ],
   "source": [
    "raw_mol = Chem.MolFromXYZBlock(test_file[0][-1].to_XYZ_block())\n",
    "conn_mol = Chem.Mol(raw_mol)\n",
    "try:\n",
    "    rdDetermineBonds.DetermineBonds(conn_mol, charge=0)\n",
    "except Exception as e:\n",
    "    print(e)"
   ]
  },
  {
   "cell_type": "markdown",
   "metadata": {},
   "source": [
    "## [S_Ph_Ni_TS.log](../tests/test_files/S_Ph_Ni_TS.log)"
   ]
  },
  {
   "cell_type": "code",
   "execution_count": 14,
   "metadata": {},
   "outputs": [
    {
     "name": "stderr",
     "output_type": "stream",
     "text": [
      "MolOP parsing with single thread: 100%|██████████| 1/1 [00:00<00:00, 11.30it/s]\n",
      "0 files failed to parse, 1 successfully parsed\n"
     ]
    }
   ],
   "source": [
    "test_file = AutoParser(\"../tests/test_files/g16log/S_Ph_Ni_TS.log\")"
   ]
  },
  {
   "cell_type": "markdown",
   "metadata": {},
   "source": [
    "### MolOP"
   ]
  },
  {
   "cell_type": "code",
   "execution_count": 15,
   "metadata": {},
   "outputs": [
    {
     "data": {
      "image/svg+xml": [
       "<svg xmlns=\"http://www.w3.org/2000/svg\" width=\"100\" height=\"100\" x=\"0\" y=\"0\" viewBox=\"0 0 704.002 343.923\" font-family=\"sans-serif\" stroke=\"rgb(0,0,0)\" stroke-width=\"2\" stroke-linecap=\"round\">\n",
       "<line x1=\"169.3\" y1=\"261.6\" x2=\"169.3\" y2=\"234.6\" opacity=\"1.0\" stroke=\"rgb(0,0,0)\" stroke-width=\"2.0\" />\n",
       "<line x1=\"215.8\" y1=\"292.7\" x2=\"229.3\" y2=\"269.3\" opacity=\"1.0\" stroke=\"rgb(0,0,0)\" stroke-width=\"2.0\" />\n",
       "<line x1=\"169.3\" y1=\"234.6\" x2=\"155.8\" y2=\"211.3\" opacity=\"1.0\" stroke=\"rgb(0,0,0)\" stroke-width=\"2.0\" />\n",
       "<line x1=\"169.3\" y1=\"234.6\" x2=\"145.9\" y2=\"248.1\" opacity=\"1.0\" stroke=\"rgb(0,0,0)\" stroke-width=\"2.0\" />\n",
       "<line x1=\"169.3\" y1=\"234.6\" x2=\"209.3\" y2=\"234.6\" opacity=\"1.0\" stroke=\"rgb(0,0,0)\" stroke-width=\"2.0\" />\n",
       "<line x1=\"136.3\" y1=\"200.0\" x2=\"122.3\" y2=\"200.0\" opacity=\"1.0\" stroke=\"rgb(0,0,0)\" stroke-width=\"2.0\" />\n",
       "<line x1=\"629.5\" y1=\"50.5\" x2=\"613.6\" y2=\"72.4\" opacity=\"1.0\" stroke=\"rgb(0,0,0)\" stroke-width=\"2.0\" />\n",
       "<line x1=\"109.3\" y1=\"227.0\" x2=\"109.3\" y2=\"213.0\" opacity=\"1.0\" stroke=\"rgb(0,0,0)\" stroke-width=\"2.0\" />\n",
       "<line x1=\"51.3\" y1=\"153.5\" x2=\"74.6\" y2=\"140.0\" opacity=\"1.0\" stroke=\"rgb(0,0,0)\" stroke-width=\"2.0\" />\n",
       "<line x1=\"651.6\" y1=\"118.7\" x2=\"638.3\" y2=\"114.4\" opacity=\"1.0\" stroke=\"rgb(0,0,0)\" stroke-width=\"2.0\" />\n",
       "<line x1=\"282.8\" y1=\"292.7\" x2=\"269.3\" y2=\"269.3\" opacity=\"1.0\" stroke=\"rgb(0,0,0)\" stroke-width=\"2.0\" />\n",
       "<line x1=\"51.3\" y1=\"86.5\" x2=\"74.6\" y2=\"100.0\" opacity=\"1.0\" stroke=\"rgb(0,0,0)\" stroke-width=\"2.0\" />\n",
       "<line x1=\"109.3\" y1=\"160.0\" x2=\"109.3\" y2=\"187.0\" opacity=\"1.0\" stroke=\"rgb(0,0,0)\" stroke-width=\"2.0\" />\n",
       "<line x1=\"229.3\" y1=\"200.0\" x2=\"215.8\" y2=\"176.6\" opacity=\"1.0\" stroke=\"rgb(0,0,0)\" stroke-width=\"2.0\" />\n",
       "<line x1=\"109.3\" y1=\"80.0\" x2=\"109.3\" y2=\"53.0\" opacity=\"1.0\" stroke=\"rgb(0,0,0)\" stroke-width=\"2.0\" />\n",
       "<line x1=\"96.3\" y1=\"200.0\" x2=\"82.3\" y2=\"200.0\" opacity=\"1.0\" stroke=\"rgb(0,0,0)\" stroke-width=\"2.0\" />\n",
       "<line x1=\"289.3\" y1=\"234.6\" x2=\"316.3\" y2=\"234.6\" opacity=\"1.0\" stroke=\"rgb(0,0,0)\" stroke-width=\"2.0\" />\n",
       "<line x1=\"143.9\" y1=\"140.0\" x2=\"167.3\" y2=\"153.5\" opacity=\"1.0\" stroke=\"rgb(0,0,0)\" stroke-width=\"2.0\" />\n",
       "<line x1=\"269.3\" y1=\"200.0\" x2=\"282.8\" y2=\"176.6\" opacity=\"1.0\" stroke=\"rgb(0,0,0)\" stroke-width=\"2.0\" />\n",
       "<line x1=\"143.9\" y1=\"100.0\" x2=\"167.3\" y2=\"86.5\" opacity=\"1.0\" stroke=\"rgb(0,0,0)\" stroke-width=\"2.0\" />\n",
       "<line x1=\"475.6\" y1=\"163.4\" x2=\"459.7\" y2=\"141.6\" opacity=\"1.0\" stroke=\"rgb(0,0,0)\" stroke-width=\"2.0\" />\n",
       "<line x1=\"593.6\" y1=\"133.9\" x2=\"593.6\" y2=\"160.9\" opacity=\"1.0\" stroke=\"rgb(0,0,0)\" stroke-width=\"2.0\" />\n",
       "<line x1=\"561.2\" y1=\"110.4\" x2=\"535.6\" y2=\"118.7\" opacity=\"1.0\" stroke=\"rgb(0,0,0)\" stroke-width=\"2.0\" />\n",
       "<line x1=\"412.0\" y1=\"152.1\" x2=\"403.8\" y2=\"163.4\" opacity=\"1.0\" stroke=\"rgb(0,0,0)\" stroke-width=\"2.0\" />\n",
       "<line x1=\"439.7\" y1=\"80.0\" x2=\"439.7\" y2=\"53.0\" opacity=\"1.0\" stroke=\"rgb(0,0,0)\" stroke-width=\"2.0\" />\n",
       "<line x1=\"407.3\" y1=\"103.5\" x2=\"381.6\" y2=\"95.2\" opacity=\"1.0\" stroke=\"rgb(0,0,0)\" stroke-width=\"2.0\" />\n",
       "<line x1=\"229.3\" y1=\"269.3\" x2=\"209.3\" y2=\"234.6\" opacity=\"1.0\" stroke=\"rgb(0,0,0)\" stroke-width=\"2.0\" />\n",
       "<line x1=\"232.5\" y1=\"260.5\" x2=\"218.5\" y2=\"236.2\" opacity=\"1.0\" stroke=\"rgb(0,0,0)\" stroke-width=\"2.0\" />\n",
       "<line x1=\"209.3\" y1=\"234.6\" x2=\"229.3\" y2=\"200.0\" opacity=\"1.0\" stroke=\"rgb(0,0,0)\" stroke-width=\"2.0\" />\n",
       "<line x1=\"229.3\" y1=\"200.0\" x2=\"269.3\" y2=\"200.0\" opacity=\"1.0\" stroke=\"rgb(0,0,0)\" stroke-width=\"2.0\" />\n",
       "<line x1=\"235.3\" y1=\"207.2\" x2=\"263.3\" y2=\"207.2\" opacity=\"1.0\" stroke=\"rgb(0,0,0)\" stroke-width=\"2.0\" />\n",
       "<line x1=\"269.3\" y1=\"200.0\" x2=\"289.3\" y2=\"234.6\" opacity=\"1.0\" stroke=\"rgb(0,0,0)\" stroke-width=\"2.0\" />\n",
       "<line x1=\"289.3\" y1=\"234.6\" x2=\"269.3\" y2=\"269.3\" opacity=\"1.0\" stroke=\"rgb(0,0,0)\" stroke-width=\"2.0\" />\n",
       "<line x1=\"280.0\" y1=\"236.2\" x2=\"266.0\" y2=\"260.5\" opacity=\"1.0\" stroke=\"rgb(0,0,0)\" stroke-width=\"2.0\" />\n",
       "<line x1=\"269.3\" y1=\"269.3\" x2=\"229.3\" y2=\"269.3\" opacity=\"1.0\" stroke=\"rgb(0,0,0)\" stroke-width=\"2.0\" />\n",
       "<line x1=\"74.6\" y1=\"140.0\" x2=\"109.3\" y2=\"160.0\" opacity=\"1.0\" stroke=\"rgb(0,0,0)\" stroke-width=\"2.0\" />\n",
       "<line x1=\"83.4\" y1=\"136.8\" x2=\"107.7\" y2=\"150.8\" opacity=\"1.0\" stroke=\"rgb(0,0,0)\" stroke-width=\"2.0\" />\n",
       "<line x1=\"109.3\" y1=\"160.0\" x2=\"143.9\" y2=\"140.0\" opacity=\"1.0\" stroke=\"rgb(0,0,0)\" stroke-width=\"2.0\" />\n",
       "<line x1=\"143.9\" y1=\"140.0\" x2=\"143.9\" y2=\"100.0\" opacity=\"1.0\" stroke=\"rgb(0,0,0)\" stroke-width=\"2.0\" />\n",
       "<line x1=\"136.7\" y1=\"134.0\" x2=\"136.7\" y2=\"106.0\" opacity=\"1.0\" stroke=\"rgb(0,0,0)\" stroke-width=\"2.0\" />\n",
       "<line x1=\"143.9\" y1=\"100.0\" x2=\"109.3\" y2=\"80.0\" opacity=\"1.0\" stroke=\"rgb(0,0,0)\" stroke-width=\"2.0\" />\n",
       "<line x1=\"109.3\" y1=\"80.0\" x2=\"74.6\" y2=\"100.0\" opacity=\"1.0\" stroke=\"rgb(0,0,0)\" stroke-width=\"2.0\" />\n",
       "<line x1=\"107.7\" y1=\"89.2\" x2=\"83.4\" y2=\"103.2\" opacity=\"1.0\" stroke=\"rgb(0,0,0)\" stroke-width=\"2.0\" />\n",
       "<line x1=\"74.6\" y1=\"100.0\" x2=\"74.6\" y2=\"140.0\" opacity=\"1.0\" stroke=\"rgb(0,0,0)\" stroke-width=\"2.0\" />\n",
       "<line x1=\"613.6\" y1=\"72.4\" x2=\"586.8\" y2=\"72.4\" opacity=\"1.0\" stroke=\"rgb(0,0,0)\" stroke-width=\"2.0\" />\n",
       "<line x1=\"607.6\" y1=\"79.6\" x2=\"588.8\" y2=\"79.6\" opacity=\"1.0\" stroke=\"rgb(0,0,0)\" stroke-width=\"2.0\" />\n",
       "<line x1=\"569.6\" y1=\"84.7\" x2=\"561.2\" y2=\"110.4\" opacity=\"1.0\" stroke=\"rgb(0,0,0)\" stroke-width=\"2.0\" />\n",
       "<line x1=\"561.2\" y1=\"110.4\" x2=\"593.6\" y2=\"133.9\" opacity=\"1.0\" stroke=\"rgb(0,0,0)\" stroke-width=\"2.0\" />\n",
       "<line x1=\"570.3\" y1=\"108.1\" x2=\"593.0\" y2=\"124.6\" opacity=\"1.0\" stroke=\"rgb(0,0,0)\" stroke-width=\"2.0\" />\n",
       "<line x1=\"593.6\" y1=\"133.9\" x2=\"615.4\" y2=\"118.0\" opacity=\"1.0\" stroke=\"rgb(0,0,0)\" stroke-width=\"2.0\" />\n",
       "<line x1=\"621.9\" y1=\"98.0\" x2=\"613.6\" y2=\"72.4\" opacity=\"1.0\" stroke=\"rgb(0,0,0)\" stroke-width=\"2.0\" />\n",
       "<line x1=\"459.7\" y1=\"141.6\" x2=\"468.0\" y2=\"116.1\" opacity=\"1.0\" stroke=\"rgb(0,0,0)\" stroke-width=\"2.0\" />\n",
       "<line x1=\"454.7\" y1=\"133.6\" x2=\"460.5\" y2=\"115.7\" opacity=\"1.0\" stroke=\"rgb(0,0,0)\" stroke-width=\"2.0\" />\n",
       "<line x1=\"461.5\" y1=\"95.9\" x2=\"439.7\" y2=\"80.0\" opacity=\"1.0\" stroke=\"rgb(0,0,0)\" stroke-width=\"2.0\" />\n",
       "<line x1=\"439.7\" y1=\"80.0\" x2=\"407.3\" y2=\"103.5\" opacity=\"1.0\" stroke=\"rgb(0,0,0)\" stroke-width=\"2.0\" />\n",
       "<line x1=\"439.1\" y1=\"89.4\" x2=\"416.4\" y2=\"105.8\" opacity=\"1.0\" stroke=\"rgb(0,0,0)\" stroke-width=\"2.0\" />\n",
       "<line x1=\"407.3\" y1=\"103.5\" x2=\"415.7\" y2=\"129.2\" opacity=\"1.0\" stroke=\"rgb(0,0,0)\" stroke-width=\"2.0\" />\n",
       "<line x1=\"432.7\" y1=\"141.6\" x2=\"459.7\" y2=\"141.6\" opacity=\"1.0\" stroke=\"rgb(0,0,0)\" stroke-width=\"2.0\" />\n",
       "<text x=\"323.282032\" y=\"242.641016\" fill=\"rgb(191,191,191)\" stroke-width=\"0\" font-weight=\"bold\" font-size=\"16\">H</text>\n",
       "<text x=\"128.641016\" y=\"262.641016\" fill=\"rgb(191,191,191)\" stroke-width=\"0\" font-weight=\"bold\" font-size=\"16\">H</text>\n",
       "<text x=\"203.282032\" y=\"173.358984\" fill=\"rgb(191,191,191)\" stroke-width=\"0\" font-weight=\"bold\" font-size=\"16\">H</text>\n",
       "<text x=\"203.282032\" y=\"311.923048\" fill=\"rgb(191,191,191)\" stroke-width=\"0\" font-weight=\"bold\" font-size=\"16\">H</text>\n",
       "<text x=\"283.282032\" y=\"173.358984\" fill=\"rgb(191,191,191)\" stroke-width=\"0\" font-weight=\"bold\" font-size=\"16\">H</text>\n",
       "<text x=\"283.282032\" y=\"311.923048\" fill=\"rgb(191,191,191)\" stroke-width=\"0\" font-weight=\"bold\" font-size=\"16\">H</text>\n",
       "<text x=\"163.282032\" y=\"282.641016\" fill=\"rgb(191,191,191)\" stroke-width=\"0\" font-weight=\"bold\" font-size=\"16\">H</text>\n",
       "<text x=\"34.000000\" y=\"168.000000\" fill=\"rgb(191,191,191)\" stroke-width=\"0\" font-weight=\"bold\" font-size=\"16\">H</text>\n",
       "<text x=\"172.564065\" y=\"168.000000\" fill=\"rgb(191,191,191)\" stroke-width=\"0\" font-weight=\"bold\" font-size=\"16\">H</text>\n",
       "<text x=\"34.000000\" y=\"88.000000\" fill=\"rgb(191,191,191)\" stroke-width=\"0\" font-weight=\"bold\" font-size=\"16\">H</text>\n",
       "<text x=\"172.564065\" y=\"88.000000\" fill=\"rgb(191,191,191)\" stroke-width=\"0\" font-weight=\"bold\" font-size=\"16\">H</text>\n",
       "<text x=\"103.282032\" y=\"48.000000\" fill=\"rgb(191,191,191)\" stroke-width=\"0\" font-weight=\"bold\" font-size=\"16\">H</text>\n",
       "<text x=\"51.282032\" y=\"208.000000\" fill=\"rgb(165,40,40)\" stroke-width=\"0\" font-weight=\"bold\" font-size=\"16\">Br</text>\n",
       "<text x=\"103.282032\" y=\"248.000000\" fill=\"rgb(165,40,40)\" stroke-width=\"0\" font-weight=\"bold\" font-size=\"16\">Br</text>\n",
       "<text x=\"567.599323\" y=\"80.360680\" fill=\"rgb(12,12,255)\" stroke-width=\"0\" font-weight=\"bold\" font-size=\"16\">N</text>\n",
       "<text x=\"631.110733\" y=\"48.000000\" fill=\"rgb(191,191,191)\" stroke-width=\"0\" font-weight=\"bold\" font-size=\"16\">H</text>\n",
       "<text x=\"517.196383\" y=\"130.763620\" fill=\"rgb(191,191,191)\" stroke-width=\"0\" font-weight=\"bold\" font-size=\"16\">H</text>\n",
       "<text x=\"658.002264\" y=\"130.763620\" fill=\"rgb(191,191,191)\" stroke-width=\"0\" font-weight=\"bold\" font-size=\"16\">H</text>\n",
       "<text x=\"587.599323\" y=\"181.914351\" fill=\"rgb(191,191,191)\" stroke-width=\"0\" font-weight=\"bold\" font-size=\"16\">H</text>\n",
       "<text x=\"466.045653\" y=\"111.511410\" fill=\"rgb(12,12,255)\" stroke-width=\"0\" font-weight=\"bold\" font-size=\"16\">N</text>\n",
       "<text x=\"103.282032\" y=\"208.000000\" fill=\"rgb(79,209,79)\" stroke-width=\"0\" font-weight=\"bold\" font-size=\"16\">Ni</text>\n",
       "<text x=\"477.196383\" y=\"181.914351\" fill=\"rgb(191,191,191)\" stroke-width=\"0\" font-weight=\"bold\" font-size=\"16\">H</text>\n",
       "<text x=\"433.684973\" y=\"48.000000\" fill=\"rgb(191,191,191)\" stroke-width=\"0\" font-weight=\"bold\" font-size=\"16\">H</text>\n",
       "<text x=\"390.173563\" y=\"181.914351\" fill=\"rgb(191,191,191)\" stroke-width=\"0\" font-weight=\"bold\" font-size=\"16\">H</text>\n",
       "<text x=\"363.282032\" y=\"99.150730\" fill=\"rgb(191,191,191)\" stroke-width=\"0\" font-weight=\"bold\" font-size=\"16\">H</text>\n",
       "<text x=\"413.684973\" y=\"149.553671\" fill=\"rgb(12,12,255)\" stroke-width=\"0\" font-weight=\"bold\" font-size=\"16\">N</text>\n",
       "<text x=\"619.960003\" y=\"118.402940\" fill=\"rgb(12,12,255)\" stroke-width=\"0\" font-weight=\"bold\" font-size=\"16\">N</text>\n",
       "<text x=\"143.282032\" y=\"208.000000\" fill=\"rgb(178,178,0)\" stroke-width=\"0\" font-weight=\"bold\" font-size=\"16\">S</text>\n",
       "</svg>\n"
      ],
      "text/plain": [
       "<openbabel.pybel.Molecule at 0x7f0daa946b20>"
      ]
     },
     "execution_count": 15,
     "metadata": {},
     "output_type": "execute_result"
    }
   ],
   "source": [
    "xyz_block_to_omol(test_file[0][-1].to_XYZ_block(), given_charge=0)"
   ]
  },
  {
   "cell_type": "markdown",
   "metadata": {},
   "source": [
    "### rdDeterminBonds"
   ]
  },
  {
   "cell_type": "code",
   "execution_count": 16,
   "metadata": {},
   "outputs": [
    {
     "name": "stdout",
     "output_type": "stream",
     "text": [
      "determineBondOrdering() does not work with element Ni\n"
     ]
    }
   ],
   "source": [
    "raw_mol = Chem.MolFromXYZBlock(test_file[0][-1].to_XYZ_block())\n",
    "conn_mol = Chem.Mol(raw_mol)\n",
    "try:\n",
    "    rdDetermineBonds.DetermineBonds(conn_mol, charge=0)\n",
    "except Exception as e:\n",
    "    print(e)"
   ]
  },
  {
   "cell_type": "markdown",
   "metadata": {},
   "source": [
    "## [test.gjf](../tests/test_files/test.gjf)"
   ]
  },
  {
   "cell_type": "code",
   "execution_count": 17,
   "metadata": {},
   "outputs": [
    {
     "name": "stderr",
     "output_type": "stream",
     "text": [
      "MolOP parsing with single thread: 100%|██████████| 1/1 [00:00<00:00, 1288.57it/s]\n",
      "0 files failed to parse, 1 successfully parsed\n"
     ]
    }
   ],
   "source": [
    "test_file = AutoParser(\n",
    "    \"../tests/test_files/g16gjf/test.gjf\",\n",
    "    charge=0,\n",
    "    multiplicity=3,\n",
    ")"
   ]
  },
  {
   "cell_type": "markdown",
   "metadata": {},
   "source": [
    "### MolOP"
   ]
  },
  {
   "cell_type": "code",
   "execution_count": 18,
   "metadata": {},
   "outputs": [
    {
     "data": {
      "image/svg+xml": [
       "<svg xmlns=\"http://www.w3.org/2000/svg\" width=\"100\" height=\"100\" x=\"0\" y=\"0\" viewBox=\"0 0 571.399 489.282\" font-family=\"sans-serif\" stroke=\"rgb(0,0,0)\" stroke-width=\"2\" stroke-linecap=\"round\">\n",
       "<line x1=\"520.1\" y1=\"402.8\" x2=\"496.8\" y2=\"389.3\" opacity=\"1.0\" stroke=\"rgb(0,0,0)\" stroke-width=\"2.0\" />\n",
       "<line x1=\"520.1\" y1=\"335.8\" x2=\"496.8\" y2=\"349.3\" opacity=\"1.0\" stroke=\"rgb(0,0,0)\" stroke-width=\"2.0\" />\n",
       "<line x1=\"462.1\" y1=\"436.3\" x2=\"462.1\" y2=\"409.3\" opacity=\"1.0\" stroke=\"rgb(0,0,0)\" stroke-width=\"2.0\" />\n",
       "<line x1=\"462.1\" y1=\"329.3\" x2=\"462.1\" y2=\"302.3\" opacity=\"1.0\" stroke=\"rgb(0,0,0)\" stroke-width=\"2.0\" />\n",
       "<line x1=\"392.8\" y1=\"436.3\" x2=\"392.8\" y2=\"409.3\" opacity=\"1.0\" stroke=\"rgb(0,0,0)\" stroke-width=\"2.0\" />\n",
       "<line x1=\"392.8\" y1=\"329.3\" x2=\"392.8\" y2=\"302.3\" opacity=\"1.0\" stroke=\"rgb(0,0,0)\" stroke-width=\"2.0\" />\n",
       "<line x1=\"358.2\" y1=\"389.3\" x2=\"334.8\" y2=\"402.8\" opacity=\"1.0\" stroke=\"rgb(0,0,0)\" stroke-width=\"2.0\" />\n",
       "<line x1=\"411.7\" y1=\"198.0\" x2=\"398.2\" y2=\"174.6\" opacity=\"1.0\" stroke=\"rgb(0,0,0)\" stroke-width=\"2.0\" />\n",
       "<line x1=\"227.8\" y1=\"194.9\" x2=\"200.9\" y2=\"192.1\" opacity=\"1.0\" stroke=\"rgb(0,0,0)\" stroke-width=\"2.0\" />\n",
       "<line x1=\"216.8\" y1=\"170.2\" x2=\"200.9\" y2=\"192.1\" opacity=\"1.0\" stroke=\"rgb(0,0,0)\" stroke-width=\"2.0\" />\n",
       "<line x1=\"419.3\" y1=\"51.3\" x2=\"432.8\" y2=\"74.6\" opacity=\"1.0\" stroke=\"rgb(0,0,0)\" stroke-width=\"2.0\" />\n",
       "<line x1=\"336.6\" y1=\"114.6\" x2=\"363.6\" y2=\"114.6\" opacity=\"1.0\" stroke=\"rgb(0,0,0)\" stroke-width=\"2.0\" />\n",
       "<line x1=\"198.1\" y1=\"218.9\" x2=\"200.9\" y2=\"192.1\" opacity=\"1.0\" stroke=\"rgb(0,0,0)\" stroke-width=\"2.0\" />\n",
       "<line x1=\"358.2\" y1=\"349.3\" x2=\"334.8\" y2=\"335.8\" opacity=\"1.0\" stroke=\"rgb(0,0,0)\" stroke-width=\"2.0\" />\n",
       "<line x1=\"200.9\" y1=\"192.1\" x2=\"168.6\" y2=\"168.6\" opacity=\"1.0\" stroke=\"rgb(0,0,0)\" stroke-width=\"2.0\" />\n",
       "<line x1=\"398.2\" y1=\"147.6\" x2=\"398.2\" y2=\"174.6\" opacity=\"1.0\" stroke=\"rgb(0,0,0)\" stroke-width=\"2.0\" />\n",
       "<line x1=\"386.9\" y1=\"128.1\" x2=\"363.6\" y2=\"114.6\" opacity=\"1.0\" stroke=\"rgb(0,0,0)\" stroke-width=\"2.0\" />\n",
       "<line x1=\"409.5\" y1=\"128.1\" x2=\"432.8\" y2=\"114.6\" opacity=\"1.0\" stroke=\"rgb(0,0,0)\" stroke-width=\"2.0\" />\n",
       "<line x1=\"398.2\" y1=\"174.6\" x2=\"425.2\" y2=\"174.6\" opacity=\"1.0\" stroke=\"rgb(0,0,0)\" stroke-width=\"2.0\" />\n",
       "<line x1=\"398.2\" y1=\"174.6\" x2=\"374.8\" y2=\"188.1\" opacity=\"1.0\" stroke=\"rgb(0,0,0)\" stroke-width=\"2.0\" />\n",
       "<line x1=\"432.8\" y1=\"74.6\" x2=\"405.8\" y2=\"74.6\" opacity=\"1.0\" stroke=\"rgb(0,0,0)\" stroke-width=\"2.0\" />\n",
       "<line x1=\"432.8\" y1=\"74.6\" x2=\"432.8\" y2=\"114.6\" opacity=\"1.0\" stroke=\"rgb(0,0,0)\" stroke-width=\"2.0\" />\n",
       "<line x1=\"432.8\" y1=\"74.6\" x2=\"456.2\" y2=\"61.1\" opacity=\"1.0\" stroke=\"rgb(0,0,0)\" stroke-width=\"2.0\" />\n",
       "<line x1=\"363.6\" y1=\"114.6\" x2=\"350.1\" y2=\"138.0\" opacity=\"1.0\" stroke=\"rgb(0,0,0)\" stroke-width=\"2.0\" />\n",
       "<line x1=\"363.6\" y1=\"114.6\" x2=\"363.6\" y2=\"87.6\" opacity=\"1.0\" stroke=\"rgb(0,0,0)\" stroke-width=\"2.0\" />\n",
       "<line x1=\"225.6\" y1=\"51.3\" x2=\"212.1\" y2=\"74.6\" opacity=\"1.0\" stroke=\"rgb(0,0,0)\" stroke-width=\"2.0\" />\n",
       "<line x1=\"262.5\" y1=\"78.1\" x2=\"244.4\" y2=\"98.2\" opacity=\"1.0\" stroke=\"rgb(0,0,0)\" stroke-width=\"2.0\" />\n",
       "<line x1=\"432.8\" y1=\"114.6\" x2=\"467.5\" y2=\"134.6\" opacity=\"1.0\" stroke=\"rgb(0,0,0)\" stroke-width=\"2.0\" />\n",
       "<line x1=\"323.6\" y1=\"316.3\" x2=\"323.6\" y2=\"302.3\" opacity=\"1.0\" stroke=\"rgb(0,0,0)\" stroke-width=\"2.0\" />\n",
       "<line x1=\"168.6\" y1=\"168.6\" x2=\"192.1\" y2=\"136.2\" opacity=\"1.0\" stroke=\"rgb(0,0,0)\" stroke-width=\"2.0\" />\n",
       "<line x1=\"168.6\" y1=\"168.6\" x2=\"136.2\" y2=\"145.0\" opacity=\"1.0\" stroke=\"rgb(0,0,0)\" stroke-width=\"2.0\" />\n",
       "<line x1=\"168.6\" y1=\"168.6\" x2=\"145.0\" y2=\"200.9\" opacity=\"1.0\" stroke=\"rgb(0,0,0)\" stroke-width=\"2.0\" />\n",
       "<line x1=\"244.4\" y1=\"98.2\" x2=\"270.8\" y2=\"103.8\" opacity=\"1.0\" stroke=\"rgb(0,0,0)\" stroke-width=\"2.0\" />\n",
       "<line x1=\"212.1\" y1=\"74.6\" x2=\"198.6\" y2=\"51.3\" opacity=\"1.0\" stroke=\"rgb(0,0,0)\" stroke-width=\"2.0\" />\n",
       "<line x1=\"142.2\" y1=\"227.8\" x2=\"145.0\" y2=\"200.9\" opacity=\"1.0\" stroke=\"rgb(0,0,0)\" stroke-width=\"2.0\" />\n",
       "<line x1=\"166.9\" y1=\"216.8\" x2=\"145.0\" y2=\"200.9\" opacity=\"1.0\" stroke=\"rgb(0,0,0)\" stroke-width=\"2.0\" />\n",
       "<line x1=\"51.3\" y1=\"138.5\" x2=\"74.6\" y2=\"125.0\" opacity=\"1.0\" stroke=\"rgb(0,0,0)\" stroke-width=\"2.0\" />\n",
       "<line x1=\"145.0\" y1=\"200.9\" x2=\"118.2\" y2=\"198.1\" opacity=\"1.0\" stroke=\"rgb(0,0,0)\" stroke-width=\"2.0\" />\n",
       "<line x1=\"103.8\" y1=\"66.3\" x2=\"98.2\" y2=\"92.7\" opacity=\"1.0\" stroke=\"rgb(0,0,0)\" stroke-width=\"2.0\" />\n",
       "<line x1=\"467.5\" y1=\"134.6\" x2=\"494.5\" y2=\"134.6\" opacity=\"1.0\" stroke=\"rgb(0,0,0)\" stroke-width=\"2.0\" />\n",
       "<line x1=\"467.5\" y1=\"134.6\" x2=\"481.0\" y2=\"111.3\" opacity=\"1.0\" stroke=\"rgb(0,0,0)\" stroke-width=\"2.0\" />\n",
       "<line x1=\"467.5\" y1=\"134.6\" x2=\"467.5\" y2=\"161.6\" opacity=\"1.0\" stroke=\"rgb(0,0,0)\" stroke-width=\"2.0\" />\n",
       "<line x1=\"74.6\" y1=\"125.0\" x2=\"51.3\" y2=\"111.5\" opacity=\"1.0\" stroke=\"rgb(0,0,0)\" stroke-width=\"2.0\" />\n",
       "<line x1=\"98.2\" y1=\"92.7\" x2=\"78.1\" y2=\"74.6\" opacity=\"1.0\" stroke=\"rgb(0,0,0)\" stroke-width=\"2.0\" />\n",
       "<line x1=\"358.2\" y1=\"349.3\" x2=\"358.2\" y2=\"389.3\" opacity=\"1.0\" stroke=\"rgb(0,0,0)\" stroke-width=\"2.0\" />\n",
       "<line x1=\"358.2\" y1=\"389.3\" x2=\"392.8\" y2=\"409.3\" opacity=\"1.0\" stroke=\"rgb(0,0,0)\" stroke-width=\"2.0\" />\n",
       "<line x1=\"367.0\" y1=\"386.0\" x2=\"391.2\" y2=\"400.0\" opacity=\"1.0\" stroke=\"rgb(0,0,0)\" stroke-width=\"2.0\" />\n",
       "<line x1=\"392.8\" y1=\"409.3\" x2=\"427.5\" y2=\"389.3\" opacity=\"1.0\" stroke=\"rgb(0,0,0)\" stroke-width=\"2.0\" />\n",
       "<line x1=\"427.5\" y1=\"389.3\" x2=\"427.5\" y2=\"349.3\" opacity=\"1.0\" stroke=\"rgb(0,0,0)\" stroke-width=\"2.0\" />\n",
       "<line x1=\"427.5\" y1=\"349.3\" x2=\"392.8\" y2=\"329.3\" opacity=\"1.0\" stroke=\"rgb(0,0,0)\" stroke-width=\"2.0\" />\n",
       "<line x1=\"392.8\" y1=\"329.3\" x2=\"358.2\" y2=\"349.3\" opacity=\"1.0\" stroke=\"rgb(0,0,0)\" stroke-width=\"2.0\" />\n",
       "<line x1=\"391.2\" y1=\"338.5\" x2=\"367.0\" y2=\"352.5\" opacity=\"1.0\" stroke=\"rgb(0,0,0)\" stroke-width=\"2.0\" />\n",
       "<line x1=\"462.1\" y1=\"329.3\" x2=\"496.8\" y2=\"349.3\" opacity=\"1.0\" stroke=\"rgb(0,0,0)\" stroke-width=\"2.0\" />\n",
       "<line x1=\"496.8\" y1=\"349.3\" x2=\"496.8\" y2=\"389.3\" opacity=\"1.0\" stroke=\"rgb(0,0,0)\" stroke-width=\"2.0\" />\n",
       "<line x1=\"489.6\" y1=\"355.3\" x2=\"489.6\" y2=\"383.3\" opacity=\"1.0\" stroke=\"rgb(0,0,0)\" stroke-width=\"2.0\" />\n",
       "<line x1=\"496.8\" y1=\"389.3\" x2=\"462.1\" y2=\"409.3\" opacity=\"1.0\" stroke=\"rgb(0,0,0)\" stroke-width=\"2.0\" />\n",
       "<line x1=\"462.1\" y1=\"409.3\" x2=\"427.5\" y2=\"389.3\" opacity=\"1.0\" stroke=\"rgb(0,0,0)\" stroke-width=\"2.0\" />\n",
       "<line x1=\"460.5\" y1=\"400.0\" x2=\"436.3\" y2=\"386.0\" opacity=\"1.0\" stroke=\"rgb(0,0,0)\" stroke-width=\"2.0\" />\n",
       "<line x1=\"427.5\" y1=\"349.3\" x2=\"462.1\" y2=\"329.3\" opacity=\"1.0\" stroke=\"rgb(0,0,0)\" stroke-width=\"2.0\" />\n",
       "<line x1=\"436.3\" y1=\"352.5\" x2=\"460.5\" y2=\"338.5\" opacity=\"1.0\" stroke=\"rgb(0,0,0)\" stroke-width=\"2.0\" />\n",
       "<line x1=\"192.1\" y1=\"136.2\" x2=\"219.1\" y2=\"136.2\" opacity=\"1.0\" stroke=\"rgb(0,0,0)\" stroke-width=\"2.0\" />\n",
       "<line x1=\"236.1\" y1=\"123.8\" x2=\"244.4\" y2=\"98.2\" opacity=\"1.0\" stroke=\"rgb(0,0,0)\" stroke-width=\"2.0\" />\n",
       "<line x1=\"244.4\" y1=\"98.2\" x2=\"212.1\" y2=\"74.6\" opacity=\"1.0\" stroke=\"rgb(0,0,0)\" stroke-width=\"2.0\" />\n",
       "<line x1=\"212.1\" y1=\"74.6\" x2=\"190.2\" y2=\"90.5\" opacity=\"1.0\" stroke=\"rgb(0,0,0)\" stroke-width=\"2.0\" />\n",
       "<line x1=\"183.8\" y1=\"110.7\" x2=\"192.1\" y2=\"136.2\" opacity=\"1.0\" stroke=\"rgb(0,0,0)\" stroke-width=\"2.0\" />\n",
       "<line x1=\"191.3\" y1=\"110.4\" x2=\"197.1\" y2=\"128.3\" opacity=\"1.0\" stroke=\"rgb(0,0,0)\" stroke-width=\"2.0\" />\n",
       "<line x1=\"98.2\" y1=\"92.7\" x2=\"74.6\" y2=\"125.0\" opacity=\"1.0\" stroke=\"rgb(0,0,0)\" stroke-width=\"2.0\" />\n",
       "<line x1=\"74.6\" y1=\"125.0\" x2=\"90.5\" y2=\"146.9\" opacity=\"1.0\" stroke=\"rgb(0,0,0)\" stroke-width=\"2.0\" />\n",
       "<line x1=\"110.7\" y1=\"153.3\" x2=\"136.2\" y2=\"145.0\" opacity=\"1.0\" stroke=\"rgb(0,0,0)\" stroke-width=\"2.0\" />\n",
       "<line x1=\"110.4\" y1=\"145.9\" x2=\"128.3\" y2=\"140.1\" opacity=\"1.0\" stroke=\"rgb(0,0,0)\" stroke-width=\"2.0\" />\n",
       "<line x1=\"136.2\" y1=\"145.0\" x2=\"136.2\" y2=\"118.0\" opacity=\"1.0\" stroke=\"rgb(0,0,0)\" stroke-width=\"2.0\" />\n",
       "<line x1=\"123.8\" y1=\"101.0\" x2=\"98.2\" y2=\"92.7\" opacity=\"1.0\" stroke=\"rgb(0,0,0)\" stroke-width=\"2.0\" />\n",
       "<text x=\"386.835393\" y=\"297.282032\" fill=\"rgb(191,191,191)\" stroke-width=\"0\" font-weight=\"bold\" font-size=\"16\">H</text>\n",
       "<text x=\"317.553361\" y=\"417.282032\" fill=\"rgb(191,191,191)\" stroke-width=\"0\" font-weight=\"bold\" font-size=\"16\">H</text>\n",
       "<text x=\"386.835393\" y=\"457.282032\" fill=\"rgb(191,191,191)\" stroke-width=\"0\" font-weight=\"bold\" font-size=\"16\">H</text>\n",
       "<text x=\"456.117425\" y=\"297.282032\" fill=\"rgb(191,191,191)\" stroke-width=\"0\" font-weight=\"bold\" font-size=\"16\">H</text>\n",
       "<text x=\"525.399457\" y=\"337.282032\" fill=\"rgb(191,191,191)\" stroke-width=\"0\" font-weight=\"bold\" font-size=\"16\">H</text>\n",
       "<text x=\"456.117425\" y=\"457.282032\" fill=\"rgb(191,191,191)\" stroke-width=\"0\" font-weight=\"bold\" font-size=\"16\">H</text>\n",
       "<text x=\"525.399457\" y=\"417.282032\" fill=\"rgb(191,191,191)\" stroke-width=\"0\" font-weight=\"bold\" font-size=\"16\">H</text>\n",
       "<text x=\"437.635393\" y=\"110.609016\" fill=\"rgb(102,102,102)\" stroke-width=\"0\" font-weight=\"bold\" font-size=\"16\" />\n",
       "<text x=\"437.635393\" y=\"110.609016\" fill=\"rgb(102,102,102)\" stroke-width=\"0\" font-weight=\"bold\" font-size=\"32\">.</text>\n",
       "<text x=\"501.476409\" y=\"142.641016\" fill=\"rgb(191,191,191)\" stroke-width=\"0\" font-weight=\"bold\" font-size=\"16\">H</text>\n",
       "<text x=\"481.476409\" y=\"108.000000\" fill=\"rgb(191,191,191)\" stroke-width=\"0\" font-weight=\"bold\" font-size=\"16\">H</text>\n",
       "<text x=\"461.476409\" y=\"182.641016\" fill=\"rgb(191,191,191)\" stroke-width=\"0\" font-weight=\"bold\" font-size=\"16\">H</text>\n",
       "<text x=\"386.835393\" y=\"82.641016\" fill=\"rgb(191,191,191)\" stroke-width=\"0\" font-weight=\"bold\" font-size=\"16\">H</text>\n",
       "<text x=\"461.476409\" y=\"62.641016\" fill=\"rgb(191,191,191)\" stroke-width=\"0\" font-weight=\"bold\" font-size=\"16\">H</text>\n",
       "<text x=\"406.835393\" y=\"48.000000\" fill=\"rgb(191,191,191)\" stroke-width=\"0\" font-weight=\"bold\" font-size=\"16\">H</text>\n",
       "<text x=\"392.194377\" y=\"142.641016\" fill=\"rgb(12,12,255)\" stroke-width=\"0\" font-weight=\"bold\" font-size=\"16\">N</text>\n",
       "<text x=\"337.553361\" y=\"157.282032\" fill=\"rgb(191,191,191)\" stroke-width=\"0\" font-weight=\"bold\" font-size=\"16\">H</text>\n",
       "<text x=\"357.553361\" y=\"82.641016\" fill=\"rgb(191,191,191)\" stroke-width=\"0\" font-weight=\"bold\" font-size=\"16\">H</text>\n",
       "<text x=\"317.553361\" y=\"122.641016\" fill=\"rgb(191,191,191)\" stroke-width=\"0\" font-weight=\"bold\" font-size=\"16\">H</text>\n",
       "<text x=\"412.194377\" y=\"217.282032\" fill=\"rgb(191,191,191)\" stroke-width=\"0\" font-weight=\"bold\" font-size=\"16\">H</text>\n",
       "<text x=\"432.194377\" y=\"182.641016\" fill=\"rgb(191,191,191)\" stroke-width=\"0\" font-weight=\"bold\" font-size=\"16\">H</text>\n",
       "<text x=\"357.553361\" y=\"202.641016\" fill=\"rgb(191,191,191)\" stroke-width=\"0\" font-weight=\"bold\" font-size=\"16\">H</text>\n",
       "<text x=\"92.152426\" y=\"165.404636\" fill=\"rgb(12,12,255)\" stroke-width=\"0\" font-weight=\"bold\" font-size=\"16\">N</text>\n",
       "<text x=\"277.553361\" y=\"114.468894\" fill=\"rgb(191,191,191)\" stroke-width=\"0\" font-weight=\"bold\" font-size=\"16\">H</text>\n",
       "<text x=\"226.066777\" y=\"48.000000\" fill=\"rgb(191,191,191)\" stroke-width=\"0\" font-weight=\"bold\" font-size=\"16\">H</text>\n",
       "<text x=\"186.066777\" y=\"48.000000\" fill=\"rgb(191,191,191)\" stroke-width=\"0\" font-weight=\"bold\" font-size=\"16\">H</text>\n",
       "<text x=\"265.192681\" y=\"76.426633\" fill=\"rgb(191,191,191)\" stroke-width=\"0\" font-weight=\"bold\" font-size=\"16\">H</text>\n",
       "<text x=\"173.706097\" y=\"106.152426\" fill=\"rgb(12,12,255)\" stroke-width=\"0\" font-weight=\"bold\" font-size=\"16\">N</text>\n",
       "<text x=\"226.066777\" y=\"144.194687\" fill=\"rgb(255,12,12)\" stroke-width=\"0\" font-weight=\"bold\" font-size=\"16\">O</text>\n",
       "<text x=\"100.468894\" y=\"61.557373\" fill=\"rgb(191,191,191)\" stroke-width=\"0\" font-weight=\"bold\" font-size=\"16\">H</text>\n",
       "<text x=\"34.000000\" y=\"113.043957\" fill=\"rgb(191,191,191)\" stroke-width=\"0\" font-weight=\"bold\" font-size=\"16\">H</text>\n",
       "<text x=\"34.000000\" y=\"153.043957\" fill=\"rgb(191,191,191)\" stroke-width=\"0\" font-weight=\"bold\" font-size=\"16\">H</text>\n",
       "<text x=\"62.426633\" y=\"73.918053\" fill=\"rgb(191,191,191)\" stroke-width=\"0\" font-weight=\"bold\" font-size=\"16\">H</text>\n",
       "<text x=\"130.194687\" y=\"113.043957\" fill=\"rgb(255,12,12)\" stroke-width=\"0\" font-weight=\"bold\" font-size=\"16\">O</text>\n",
       "<text x=\"305.553361\" y=\"337.282032\" fill=\"rgb(198,127,51)\" stroke-width=\"0\" font-weight=\"bold\" font-size=\"16\">Cu</text>\n",
       "<text x=\"99.263081\" y=\"204.734908\" fill=\"rgb(191,191,191)\" stroke-width=\"0\" font-weight=\"bold\" font-size=\"16\">H</text>\n",
       "<text x=\"134.862818\" y=\"248.696922\" fill=\"rgb(191,191,191)\" stroke-width=\"0\" font-weight=\"bold\" font-size=\"16\">H</text>\n",
       "<text x=\"171.404636\" y=\"232.427457\" fill=\"rgb(191,191,191)\" stroke-width=\"0\" font-weight=\"bold\" font-size=\"16\">H</text>\n",
       "<text x=\"190.734908\" y=\"239.847653\" fill=\"rgb(191,191,191)\" stroke-width=\"0\" font-weight=\"bold\" font-size=\"16\">H</text>\n",
       "<text x=\"234.696922\" y=\"204.247915\" fill=\"rgb(191,191,191)\" stroke-width=\"0\" font-weight=\"bold\" font-size=\"16\">H</text>\n",
       "<text x=\"218.427457\" y=\"167.706097\" fill=\"rgb(191,191,191)\" stroke-width=\"0\" font-weight=\"bold\" font-size=\"16\">H</text>\n",
       "<text x=\"317.553361\" y=\"297.282032\" fill=\"rgb(30,239,30)\" stroke-width=\"0\" font-weight=\"bold\" font-size=\"16\">Cl</text>\n",
       "</svg>\n"
      ],
      "text/plain": [
       "<openbabel.pybel.Molecule at 0x7f0da9cd0730>"
      ]
     },
     "execution_count": 18,
     "metadata": {},
     "output_type": "execute_result"
    }
   ],
   "source": [
    "xyz_block_to_omol(test_file[0][-1].to_XYZ_block(), given_charge=0)"
   ]
  },
  {
   "cell_type": "markdown",
   "metadata": {},
   "source": [
    "### rdDeterminBonds"
   ]
  },
  {
   "cell_type": "code",
   "execution_count": 19,
   "metadata": {},
   "outputs": [
    {
     "name": "stdout",
     "output_type": "stream",
     "text": [
      "determineBondOrdering() does not work with element Cu\n"
     ]
    }
   ],
   "source": [
    "raw_mol = Chem.MolFromXYZBlock(test_file[0][-1].to_XYZ_block())\n",
    "conn_mol = Chem.Mol(raw_mol)\n",
    "try:\n",
    "    rdDetermineBonds.DetermineBonds(conn_mol, charge=0)\n",
    "except Exception as e:\n",
    "    print(e)"
   ]
  },
  {
   "cell_type": "code",
   "execution_count": null,
   "metadata": {},
   "outputs": [],
   "source": []
  }
 ],
 "metadata": {
  "kernelspec": {
   "display_name": "molop",
   "language": "python",
   "name": "python3"
  },
  "language_info": {
   "codemirror_mode": {
    "name": "ipython",
    "version": 3
   },
   "file_extension": ".py",
   "mimetype": "text/x-python",
   "name": "python",
   "nbconvert_exporter": "python",
   "pygments_lexer": "ipython3",
   "version": "3.8.18"
  }
 },
 "nbformat": 4,
 "nbformat_minor": 2
}
