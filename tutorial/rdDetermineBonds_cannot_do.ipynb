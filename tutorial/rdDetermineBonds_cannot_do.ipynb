{
 "cells": [
  {
   "cell_type": "markdown",
   "metadata": {},
   "source": [
    "# What rdDeterminBonds cannot do"
   ]
  },
  {
   "cell_type": "markdown",
   "metadata": {},
   "source": [
    "rdDetermineBonds works well for normal organic molecules, while is not suitable for the free radicals and complex containing metal.\n",
    "\n",
    "Some cations also make rdDetermineBonds crash.\n",
    "\n",
    "Examples below:"
   ]
  },
  {
   "cell_type": "code",
   "execution_count": 1,
   "metadata": {},
   "outputs": [],
   "source": [
    "from rdkit import Chem\n",
    "from rdkit.Chem import rdDetermineBonds\n",
    "\n",
    "from molop import AutoParser\n",
    "from molop.structure.structure_recovery import xyz_block_to_omol"
   ]
  },
  {
   "cell_type": "code",
   "execution_count": 2,
   "metadata": {},
   "outputs": [
    {
     "name": "stderr",
     "output_type": "stream",
     "text": [
      "MolOP parsing with single thread: 100%|██████████| 1/1 [00:00<00:00, 410.52it/s]\n",
      "0 files failed to parse, 1 successfully parsed\n"
     ]
    },
    {
     "name": "stdout",
     "output_type": "stream",
     "text": [
      "14\n",
      "charge 1 multiplicity 1\n",
      "C           -0.02308   1.48676   0.02196\n",
      "N           -0.09546   0.01068   0.05546\n",
      "C            0.23429  -0.85668  -0.97107\n",
      "C           -0.13779  -2.18397  -0.74328\n",
      "C           -0.03908  -2.15300   0.63482\n",
      "C           -0.02636  -0.79678   1.12282\n",
      "N            0.12019  -3.28908   1.55359\n",
      "O            0.53012  -4.33298   1.10911\n",
      "O           -0.24559  -3.02638   2.69041\n",
      "H            1.00618   1.79654  -0.15497\n",
      "H           -0.66936   1.84158  -0.77896\n",
      "H           -0.38177   1.85725   0.97968\n",
      "H           -0.19252  -3.02290  -1.41953\n",
      "H            0.23144  -0.45527   2.11854\n"
     ]
    }
   ],
   "source": [
    "test_file = AutoParser(\n",
    "    \"../tests/test_files/g16log/dsgdb9nsd_131941-4+.log\",\n",
    "    only_extract_structure=True,\n",
    "    only_last_frame=True,\n",
    ")\n",
    "print(test_file[0][-1].to_XYZ_block())"
   ]
  },
  {
   "cell_type": "code",
   "execution_count": 3,
   "metadata": {},
   "outputs": [
    {
     "data": {
      "image/svg+xml": [
       "<svg xmlns=\"http://www.w3.org/2000/svg\" width=\"100\" height=\"100\" x=\"0\" y=\"0\" viewBox=\"0 0 206.804 285.097\" font-family=\"sans-serif\" stroke=\"rgb(0,0,0)\" stroke-width=\"2\" stroke-linecap=\"round\">\n",
       "<line x1=\"123.3\" y1=\"210.5\" x2=\"123.3\" y2=\"183.5\" opacity=\"1.0\" stroke=\"rgb(0,0,0)\" stroke-width=\"2.0\" />\n",
       "<line x1=\"123.3\" y1=\"210.5\" x2=\"136.8\" y2=\"233.8\" opacity=\"1.0\" stroke=\"rgb(0,0,0)\" stroke-width=\"2.0\" />\n",
       "<line x1=\"103.3\" y1=\"108.9\" x2=\"87.4\" y2=\"87.1\" opacity=\"1.0\" stroke=\"rgb(0,0,0)\" stroke-width=\"2.0\" />\n",
       "<line x1=\"90.9\" y1=\"146.9\" x2=\"65.3\" y2=\"155.3\" opacity=\"1.0\" stroke=\"rgb(0,0,0)\" stroke-width=\"2.0\" />\n",
       "<line x1=\"67.2\" y1=\"80.9\" x2=\"53.2\" y2=\"82.3\" opacity=\"1.0\" stroke=\"rgb(0,0,0)\" stroke-width=\"2.0\" />\n",
       "<line x1=\"66.5\" y1=\"74.9\" x2=\"52.6\" y2=\"76.4\" opacity=\"1.0\" stroke=\"rgb(0,0,0)\" stroke-width=\"2.0\" />\n",
       "<line x1=\"90.8\" y1=\"51.9\" x2=\"85.1\" y2=\"64.7\" opacity=\"1.0\" stroke=\"rgb(0,0,0)\" stroke-width=\"2.0\" />\n",
       "<line x1=\"150.3\" y1=\"210.5\" x2=\"123.3\" y2=\"210.5\" opacity=\"1.0\" stroke=\"rgb(0,0,0)\" stroke-width=\"2.0\" />\n",
       "<line x1=\"99.9\" y1=\"224.0\" x2=\"123.3\" y2=\"210.5\" opacity=\"1.0\" stroke=\"rgb(0,0,0)\" stroke-width=\"2.0\" />\n",
       "<line x1=\"159.2\" y1=\"87.1\" x2=\"143.3\" y2=\"108.9\" opacity=\"1.0\" stroke=\"rgb(0,0,0)\" stroke-width=\"2.0\" />\n",
       "<line x1=\"143.3\" y1=\"108.9\" x2=\"155.7\" y2=\"146.9\" opacity=\"1.0\" stroke=\"rgb(0,0,0)\" stroke-width=\"2.0\" />\n",
       "<line x1=\"138.3\" y1=\"116.8\" x2=\"147.0\" y2=\"143.5\" opacity=\"1.0\" stroke=\"rgb(0,0,0)\" stroke-width=\"2.0\" />\n",
       "<line x1=\"155.7\" y1=\"146.9\" x2=\"134.0\" y2=\"162.7\" opacity=\"1.0\" stroke=\"rgb(0,0,0)\" stroke-width=\"2.0\" />\n",
       "<line x1=\"146.6\" y1=\"144.6\" x2=\"131.4\" y2=\"155.7\" opacity=\"1.0\" stroke=\"rgb(0,0,0)\" stroke-width=\"2.0\" />\n",
       "<line x1=\"112.8\" y1=\"162.8\" x2=\"90.9\" y2=\"146.9\" opacity=\"1.0\" stroke=\"rgb(0,0,0)\" stroke-width=\"2.0\" />\n",
       "<line x1=\"90.9\" y1=\"146.9\" x2=\"103.3\" y2=\"108.9\" opacity=\"1.0\" stroke=\"rgb(0,0,0)\" stroke-width=\"2.0\" />\n",
       "<line x1=\"99.6\" y1=\"143.5\" x2=\"108.3\" y2=\"116.8\" opacity=\"1.0\" stroke=\"rgb(0,0,0)\" stroke-width=\"2.0\" />\n",
       "<line x1=\"103.3\" y1=\"108.9\" x2=\"143.3\" y2=\"108.9\" opacity=\"1.0\" stroke=\"rgb(0,0,0)\" stroke-width=\"2.0\" />\n",
       "<text x=\"128.092286\" y=\"166.424169\" fill=\"rgb(12,12,255)\" stroke-width=\"0\" font-weight=\"bold\" font-size=\"16\">+</text>\n",
       "<text x=\"117.292286\" y=\"178.456169\" fill=\"rgb(12,12,255)\" stroke-width=\"0\" font-weight=\"bold\" font-size=\"16\">N</text>\n",
       "<text x=\"84.580876\" y=\"72.509818\" fill=\"rgb(12,12,255)\" stroke-width=\"0\" font-weight=\"bold\" font-size=\"16\">+</text>\n",
       "<text x=\"73.780876\" y=\"84.541818\" fill=\"rgb(12,12,255)\" stroke-width=\"0\" font-weight=\"bold\" font-size=\"16\">N</text>\n",
       "<text x=\"100.850342\" y=\"25.888000\" fill=\"rgb(255,12,12)\" stroke-width=\"0\" font-weight=\"bold\" font-size=\"16\">_</text>\n",
       "<text x=\"90.050342\" y=\"48.000000\" fill=\"rgb(255,12,12)\" stroke-width=\"0\" font-weight=\"bold\" font-size=\"16\">O</text>\n",
       "<text x=\"34.000000\" y=\"88.722957\" fill=\"rgb(255,12,12)\" stroke-width=\"0\" font-weight=\"bold\" font-size=\"16\">O</text>\n",
       "<text x=\"157.292286\" y=\"218.456169\" fill=\"rgb(191,191,191)\" stroke-width=\"0\" font-weight=\"bold\" font-size=\"16\">H</text>\n",
       "<text x=\"82.651270\" y=\"238.456169\" fill=\"rgb(191,191,191)\" stroke-width=\"0\" font-weight=\"bold\" font-size=\"16\">H</text>\n",
       "<text x=\"137.292286\" y=\"253.097185\" fill=\"rgb(191,191,191)\" stroke-width=\"0\" font-weight=\"bold\" font-size=\"16\">H</text>\n",
       "<text x=\"160.803696\" y=\"84.541818\" fill=\"rgb(191,191,191)\" stroke-width=\"0\" font-weight=\"bold\" font-size=\"16\">H</text>\n",
       "<text x=\"46.889345\" y=\"167.305439\" fill=\"rgb(191,191,191)\" stroke-width=\"0\" font-weight=\"bold\" font-size=\"16\">H</text>\n",
       "</svg>\n"
      ],
      "text/plain": [
       "<openbabel.pybel.Molecule at 0x7f60d68229a0>"
      ]
     },
     "execution_count": 3,
     "metadata": {},
     "output_type": "execute_result"
    }
   ],
   "source": [
    "xyz_block_to_omol(test_file[0][-1].to_XYZ_block(), total_charge=1, total_radical=0)"
   ]
  },
  {
   "cell_type": "code",
   "execution_count": 4,
   "metadata": {},
   "outputs": [
    {
     "name": "stdout",
     "output_type": "stream",
     "text": [
      "Final molecular charge does not match input; could not find valid bond ordering\n"
     ]
    }
   ],
   "source": [
    "\"\"\"\n",
    "Author: TMJ\n",
    "Date: 2024-02-17 15:17:37\n",
    "LastEditors: TMJ\n",
    "LastEditTime: 2024-03-08 22:10:36\n",
    "Description: 请填写简介\n",
    "\"\"\"\n",
    "\n",
    "raw_mol = Chem.MolFromXYZBlock(test_file[0][-1].to_XYZ_block())\n",
    "conn_mol = Chem.Mol(raw_mol)\n",
    "try:\n",
    "    rdDetermineBonds.DetermineBonds(conn_mol, charge=1)\n",
    "except Exception as e:\n",
    "    print(e)"
   ]
  },
  {
   "cell_type": "markdown",
   "metadata": {},
   "source": [
    "## [dsgdb9nsd_000484-1+.log](../tests/test_files/dsgdb9nsd_000484-1+.log)"
   ]
  },
  {
   "cell_type": "code",
   "execution_count": 5,
   "metadata": {},
   "outputs": [
    {
     "name": "stderr",
     "output_type": "stream",
     "text": [
      "MolOP parsing with single thread: 100%|██████████| 1/1 [00:00<00:00, 705.28it/s]\n",
      "0 files failed to parse, 1 successfully parsed\n"
     ]
    },
    {
     "name": "stdout",
     "output_type": "stream",
     "text": [
      "7\n",
      "charge 1 multiplicity 1\n",
      "C           -3.34938   0.00068   0.00017\n",
      "C           -2.02342  -0.00026  -0.00005\n",
      "C           -0.74195  -0.00005  -0.00007\n",
      "C            0.52680  -0.00081  -0.00015\n",
      "C            1.83377  -0.00020  -0.00006\n",
      "C            3.06487   0.00010   0.00005\n",
      "H            4.13780   0.00072   0.00010\n"
     ]
    }
   ],
   "source": [
    "test_file = AutoParser(\n",
    "    \"../tests/test_files/g16log/dsgdb9nsd_000484-1+.log\",\n",
    "    only_extract_structure=True,\n",
    "    only_last_frame=True,\n",
    ")\n",
    "print(test_file[0][-1].to_XYZ_block())"
   ]
  },
  {
   "cell_type": "markdown",
   "metadata": {},
   "source": [
    "### MolOP"
   ]
  },
  {
   "cell_type": "code",
   "execution_count": 6,
   "metadata": {},
   "outputs": [
    {
     "data": {
      "image/svg+xml": [
       "<svg xmlns=\"http://www.w3.org/2000/svg\" width=\"100\" height=\"100\" x=\"0\" y=\"0\" viewBox=\"0 0 320 80\" font-family=\"sans-serif\" stroke=\"rgb(0,0,0)\" stroke-width=\"2\" stroke-linecap=\"round\">\n",
       "<line x1=\"80.0\" y1=\"40.0\" x2=\"53.0\" y2=\"40.0\" opacity=\"1.0\" stroke=\"rgb(0,0,0)\" stroke-width=\"2.0\" />\n",
       "<line x1=\"80.0\" y1=\"44.2\" x2=\"53.0\" y2=\"44.2\" opacity=\"1.0\" stroke=\"rgb(0,0,0)\" stroke-width=\"2.0\" />\n",
       "<line x1=\"80.0\" y1=\"35.8\" x2=\"53.0\" y2=\"35.8\" opacity=\"1.0\" stroke=\"rgb(0,0,0)\" stroke-width=\"2.0\" />\n",
       "<line x1=\"120.0\" y1=\"40.0\" x2=\"80.0\" y2=\"40.0\" opacity=\"1.0\" stroke=\"rgb(0,0,0)\" stroke-width=\"2.0\" />\n",
       "<line x1=\"160.0\" y1=\"40.0\" x2=\"120.0\" y2=\"40.0\" opacity=\"1.0\" stroke=\"rgb(0,0,0)\" stroke-width=\"2.0\" />\n",
       "<line x1=\"160.0\" y1=\"44.2\" x2=\"120.0\" y2=\"44.2\" opacity=\"1.0\" stroke=\"rgb(0,0,0)\" stroke-width=\"2.0\" />\n",
       "<line x1=\"160.0\" y1=\"35.8\" x2=\"120.0\" y2=\"35.8\" opacity=\"1.0\" stroke=\"rgb(0,0,0)\" stroke-width=\"2.0\" />\n",
       "<line x1=\"160.0\" y1=\"40.0\" x2=\"200.0\" y2=\"40.0\" opacity=\"1.0\" stroke=\"rgb(0,0,0)\" stroke-width=\"2.0\" />\n",
       "<line x1=\"200.0\" y1=\"40.0\" x2=\"240.0\" y2=\"40.0\" opacity=\"1.0\" stroke=\"rgb(0,0,0)\" stroke-width=\"2.0\" />\n",
       "<line x1=\"200.0\" y1=\"35.8\" x2=\"240.0\" y2=\"35.8\" opacity=\"1.0\" stroke=\"rgb(0,0,0)\" stroke-width=\"2.0\" />\n",
       "<line x1=\"200.0\" y1=\"44.2\" x2=\"240.0\" y2=\"44.2\" opacity=\"1.0\" stroke=\"rgb(0,0,0)\" stroke-width=\"2.0\" />\n",
       "<line x1=\"240.0\" y1=\"40.0\" x2=\"267.0\" y2=\"40.0\" opacity=\"1.0\" stroke=\"rgb(0,0,0)\" stroke-width=\"2.0\" />\n",
       "<text x=\"44.800000\" y=\"35.968000\" fill=\"rgb(102,102,102)\" stroke-width=\"0\" font-weight=\"bold\" font-size=\"16\">+</text>\n",
       "<text x=\"34.000000\" y=\"48.000000\" fill=\"rgb(102,102,102)\" stroke-width=\"0\" font-weight=\"bold\" font-size=\"16\">C</text>\n",
       "<text x=\"274.000000\" y=\"48.000000\" fill=\"rgb(191,191,191)\" stroke-width=\"0\" font-weight=\"bold\" font-size=\"16\">H</text>\n",
       "</svg>\n"
      ],
      "text/plain": [
       "<openbabel.pybel.Molecule at 0x7f60d5a0ea30>"
      ]
     },
     "execution_count": 6,
     "metadata": {},
     "output_type": "execute_result"
    }
   ],
   "source": [
    "xyz_block_to_omol(test_file[0][-1].to_XYZ_block(),\n",
    "                  total_charge=1, total_radical=0)"
   ]
  },
  {
   "cell_type": "markdown",
   "metadata": {},
   "source": [
    "### rdDeterminBonds"
   ]
  },
  {
   "cell_type": "code",
   "execution_count": 7,
   "metadata": {},
   "outputs": [
    {
     "name": "stdout",
     "output_type": "stream",
     "text": [
      "Final molecular charge does not match input; could not find valid bond ordering\n"
     ]
    }
   ],
   "source": [
    "raw_mol = Chem.MolFromXYZBlock(test_file[0][-1].to_XYZ_block())\n",
    "conn_mol = Chem.Mol(raw_mol)\n",
    "try:\n",
    "    rdDetermineBonds.DetermineBonds(conn_mol, charge=1)\n",
    "except Exception as e:\n",
    "    print(e)"
   ]
  },
  {
   "cell_type": "markdown",
   "metadata": {},
   "source": [
    "## [dsgdb9nsd_003051-3.log](../tests/test_files/dsgdb9nsd_003051-3.log)"
   ]
  },
  {
   "cell_type": "code",
   "execution_count": 8,
   "metadata": {},
   "outputs": [
    {
     "name": "stderr",
     "output_type": "stream",
     "text": [
      "MolOP parsing with single thread: 100%|██████████| 1/1 [00:00<00:00, 546.20it/s]\n",
      "0 files failed to parse, 1 successfully parsed\n"
     ]
    },
    {
     "name": "stdout",
     "output_type": "stream",
     "text": [
      "13\n",
      "charge 0 multiplicity 2\n",
      "O            0.03574  -0.15686  -0.54258\n",
      "C            0.03257   1.04350  -0.36945\n",
      "N            1.17305   1.80204  -0.20438\n",
      "C            2.45217   1.29253  -0.21313\n",
      "C            3.59078   2.17976  -0.08093\n",
      "C            4.97202   1.67659  -0.06856\n",
      "O            4.49221   2.31802  -1.24591\n",
      "H           -0.88303   1.65521  -0.32599\n",
      "H            1.04772   2.79607  -0.06582\n",
      "H            2.54464   0.24826  -0.46902\n",
      "H            3.40409   3.13814   0.40067\n",
      "H            5.73046   2.22096   0.48985\n",
      "H            5.14126   0.60539  -0.15718\n"
     ]
    }
   ],
   "source": [
    "test_file = AutoParser(\n",
    "    \"../tests/test_files/g16log/dsgdb9nsd_003051-3.log\",\n",
    "    only_extract_structure=True,\n",
    "    only_last_frame=True,\n",
    ")\n",
    "print(test_file[0][-1].to_XYZ_block())"
   ]
  },
  {
   "cell_type": "markdown",
   "metadata": {},
   "source": [
    "### MolOP"
   ]
  },
  {
   "cell_type": "code",
   "execution_count": 9,
   "metadata": {},
   "outputs": [
    {
     "data": {
      "image/svg+xml": [
       "<svg xmlns=\"http://www.w3.org/2000/svg\" width=\"100\" height=\"100\" x=\"0\" y=\"0\" viewBox=\"0 0 208.99 248.484\" font-family=\"sans-serif\" stroke=\"rgb(0,0,0)\" stroke-width=\"2\" stroke-linecap=\"round\">\n",
       "<line x1=\"139.3\" y1=\"64.2\" x2=\"113.2\" y2=\"71.2\" opacity=\"1.0\" stroke=\"rgb(0,0,0)\" stroke-width=\"2.0\" />\n",
       "<line x1=\"137.7\" y1=\"58.4\" x2=\"111.6\" y2=\"65.4\" opacity=\"1.0\" stroke=\"rgb(0,0,0)\" stroke-width=\"2.0\" />\n",
       "<line x1=\"156.4\" y1=\"128.2\" x2=\"130.4\" y2=\"135.2\" opacity=\"1.0\" stroke=\"rgb(0,0,0)\" stroke-width=\"2.0\" />\n",
       "<line x1=\"112.4\" y1=\"68.3\" x2=\"93.3\" y2=\"49.2\" opacity=\"1.0\" stroke=\"rgb(0,0,0)\" stroke-width=\"2.0\" />\n",
       "<line x1=\"112.4\" y1=\"68.3\" x2=\"105.4\" y2=\"94.4\" opacity=\"1.0\" stroke=\"rgb(0,0,0)\" stroke-width=\"2.0\" />\n",
       "<line x1=\"130.4\" y1=\"135.2\" x2=\"111.3\" y2=\"116.1\" opacity=\"1.0\" stroke=\"rgb(0,0,0)\" stroke-width=\"2.0\" />\n",
       "<line x1=\"130.4\" y1=\"135.2\" x2=\"120.0\" y2=\"173.8\" opacity=\"1.0\" stroke=\"rgb(0,0,0)\" stroke-width=\"2.0\" />\n",
       "<line x1=\"89.5\" y1=\"110.3\" x2=\"76.0\" y2=\"113.9\" opacity=\"1.0\" stroke=\"rgb(0,0,0)\" stroke-width=\"2.0\" />\n",
       "<line x1=\"53.0\" y1=\"173.8\" x2=\"80.0\" y2=\"173.8\" opacity=\"1.0\" stroke=\"rgb(0,0,0)\" stroke-width=\"2.0\" />\n",
       "<polygon points=\"120.000000 173.842609 147.034525 172.005633 146.392695 179.979845 \" stroke-width=\"2.000000\" fill=\"rgb(0,0,0)\" stroke=\"rgb(0,0,0)\" />\n",
       "<line x1=\"80.0\" y1=\"173.8\" x2=\"66.5\" y2=\"150.5\" opacity=\"1.0\" stroke=\"rgb(0,0,0)\" stroke-width=\"2.0\" />\n",
       "<line x1=\"106.5\" y1=\"197.2\" x2=\"120.0\" y2=\"173.8\" opacity=\"1.0\" stroke=\"rgb(0,0,0)\" stroke-width=\"2.0\" />\n",
       "<line x1=\"120.0\" y1=\"173.8\" x2=\"80.0\" y2=\"173.8\" opacity=\"1.0\" stroke=\"rgb(0,0,0)\" stroke-width=\"2.0\" />\n",
       "<line x1=\"80.0\" y1=\"173.8\" x2=\"93.5\" y2=\"197.2\" opacity=\"1.0\" stroke=\"rgb(0,0,0)\" stroke-width=\"2.0\" />\n",
       "<text x=\"145.058285\" y=\"65.931509\" fill=\"rgb(255,12,12)\" stroke-width=\"0\" font-weight=\"bold\" font-size=\"16\">O</text>\n",
       "<text x=\"96.068491\" y=\"114.921304\" fill=\"rgb(12,12,255)\" stroke-width=\"0\" font-weight=\"bold\" font-size=\"16\">N</text>\n",
       "<text x=\"135.152762\" y=\"131.173576\" fill=\"rgb(102,102,102)\" stroke-width=\"0\" font-weight=\"bold\" font-size=\"16\" />\n",
       "<text x=\"135.152762\" y=\"131.173576\" fill=\"rgb(102,102,102)\" stroke-width=\"0\" font-weight=\"bold\" font-size=\"32\">.</text>\n",
       "<text x=\"94.000000\" y=\"216.483625\" fill=\"rgb(255,12,12)\" stroke-width=\"0\" font-weight=\"bold\" font-size=\"16\">O</text>\n",
       "<text x=\"78.136981\" y=\"48.000000\" fill=\"rgb(191,191,191)\" stroke-width=\"0\" font-weight=\"bold\" font-size=\"16\">H</text>\n",
       "<text x=\"57.431458\" y=\"125.274066\" fill=\"rgb(191,191,191)\" stroke-width=\"0\" font-weight=\"bold\" font-size=\"16\">H</text>\n",
       "<text x=\"162.989795\" y=\"132.852814\" fill=\"rgb(191,191,191)\" stroke-width=\"0\" font-weight=\"bold\" font-size=\"16\">H</text>\n",
       "<text x=\"153.871059\" y=\"185.051758\" fill=\"rgb(191,191,191)\" stroke-width=\"0\" font-weight=\"bold\" font-size=\"16\">H</text>\n",
       "<text x=\"54.000000\" y=\"147.201592\" fill=\"rgb(191,191,191)\" stroke-width=\"0\" font-weight=\"bold\" font-size=\"16\">H</text>\n",
       "<text x=\"34.000000\" y=\"181.842609\" fill=\"rgb(191,191,191)\" stroke-width=\"0\" font-weight=\"bold\" font-size=\"16\">H</text>\n",
       "</svg>\n"
      ],
      "text/plain": [
       "<openbabel.pybel.Molecule at 0x7f60d55364f0>"
      ]
     },
     "execution_count": 9,
     "metadata": {},
     "output_type": "execute_result"
    }
   ],
   "source": [
    "xyz_block_to_omol(test_file[0][-1].to_XYZ_block(),\n",
    "                  total_charge=0, total_radical=1)"
   ]
  },
  {
   "cell_type": "markdown",
   "metadata": {},
   "source": [
    "### rdDeterminBonds"
   ]
  },
  {
   "cell_type": "code",
   "execution_count": 10,
   "metadata": {},
   "outputs": [
    {
     "name": "stdout",
     "output_type": "stream",
     "text": [
      "Final molecular charge does not match input; could not find valid bond ordering\n"
     ]
    }
   ],
   "source": [
    "raw_mol = Chem.MolFromXYZBlock(test_file[0][-1].to_XYZ_block())\n",
    "conn_mol = Chem.Mol(raw_mol)\n",
    "try:\n",
    "    rdDetermineBonds.DetermineBonds(conn_mol, charge=0)\n",
    "except Exception as e:\n",
    "    print(e)"
   ]
  },
  {
   "cell_type": "markdown",
   "metadata": {},
   "source": [
    "## [dsgdb9nsd_004738-2.log](../tests/test_files/dsgdb9nsd_004738-2.log)"
   ]
  },
  {
   "cell_type": "code",
   "execution_count": 11,
   "metadata": {},
   "outputs": [
    {
     "name": "stderr",
     "output_type": "stream",
     "text": [
      "MolOP parsing with single thread: 100%|██████████| 1/1 [00:00<00:00, 716.98it/s]\n",
      "0 files failed to parse, 1 successfully parsed\n"
     ]
    },
    {
     "name": "stdout",
     "output_type": "stream",
     "text": [
      "10\n",
      "charge 0 multiplicity 2\n",
      "O           -2.64881  -0.63519   0.00210\n",
      "C           -1.43106  -0.12127   0.00917\n",
      "C           -1.15340   1.30683  -0.05508\n",
      "O            0.20810   1.30191   0.03339\n",
      "C            0.66200  -0.00780   0.02676\n",
      "N           -0.31992  -0.88600  -0.00077\n",
      "C            2.03677  -0.24540  -0.00185\n",
      "C            3.22954  -0.42330  -0.01666\n",
      "H           -2.57861  -1.60095  -0.02174\n",
      "H            4.28066  -0.58516  -0.03085\n"
     ]
    }
   ],
   "source": [
    "test_file = AutoParser(\n",
    "    \"../tests/test_files/g16log/dsgdb9nsd_004738-2.log\",\n",
    "    only_extract_structure=True,\n",
    "    only_last_frame=True,\n",
    ")\n",
    "print(test_file[0][-1].to_XYZ_block())"
   ]
  },
  {
   "cell_type": "markdown",
   "metadata": {},
   "source": [
    "### MolOP"
   ]
  },
  {
   "cell_type": "code",
   "execution_count": 12,
   "metadata": {},
   "outputs": [
    {
     "data": {
      "image/svg+xml": [
       "<svg xmlns=\"http://www.w3.org/2000/svg\" width=\"100\" height=\"100\" x=\"0\" y=\"0\" viewBox=\"0 0 326.616 155.124\" font-family=\"sans-serif\" stroke=\"rgb(0,0,0)\" stroke-width=\"2\" stroke-linecap=\"round\">\n",
       "<line x1=\"52.4\" y1=\"44.0\" x2=\"78.0\" y2=\"52.4\" opacity=\"1.0\" stroke=\"rgb(0,0,0)\" stroke-width=\"2.0\" />\n",
       "<line x1=\"277.0\" y1=\"82.8\" x2=\"266.6\" y2=\"73.4\" opacity=\"1.0\" stroke=\"rgb(0,0,0)\" stroke-width=\"2.0\" />\n",
       "<line x1=\"78.0\" y1=\"52.4\" x2=\"116.1\" y2=\"64.7\" opacity=\"1.0\" stroke=\"rgb(0,0,0)\" stroke-width=\"2.0\" />\n",
       "<line x1=\"79.3\" y1=\"48.4\" x2=\"117.4\" y2=\"60.7\" opacity=\"1.0\" stroke=\"rgb(0,0,0)\" stroke-width=\"2.0\" />\n",
       "<line x1=\"76.7\" y1=\"56.4\" x2=\"114.8\" y2=\"68.7\" opacity=\"1.0\" stroke=\"rgb(0,0,0)\" stroke-width=\"2.0\" />\n",
       "<line x1=\"116.1\" y1=\"64.7\" x2=\"154.1\" y2=\"77.1\" opacity=\"1.0\" stroke=\"rgb(0,0,0)\" stroke-width=\"2.0\" />\n",
       "<line x1=\"244.5\" y1=\"68.7\" x2=\"218.8\" y2=\"77.1\" opacity=\"1.0\" stroke=\"rgb(0,0,0)\" stroke-width=\"2.0\" />\n",
       "<line x1=\"206.5\" y1=\"115.1\" x2=\"179.7\" y2=\"115.1\" opacity=\"1.0\" stroke=\"rgb(0,0,0)\" stroke-width=\"2.0\" />\n",
       "<line x1=\"200.5\" y1=\"107.9\" x2=\"181.7\" y2=\"107.9\" opacity=\"1.0\" stroke=\"rgb(0,0,0)\" stroke-width=\"2.0\" />\n",
       "<line x1=\"162.5\" y1=\"102.8\" x2=\"154.1\" y2=\"77.1\" opacity=\"1.0\" stroke=\"rgb(0,0,0)\" stroke-width=\"2.0\" />\n",
       "<line x1=\"154.1\" y1=\"77.1\" x2=\"175.8\" y2=\"61.3\" opacity=\"1.0\" stroke=\"rgb(0,0,0)\" stroke-width=\"2.0\" />\n",
       "<line x1=\"163.2\" y1=\"79.4\" x2=\"178.4\" y2=\"68.3\" opacity=\"1.0\" stroke=\"rgb(0,0,0)\" stroke-width=\"2.0\" />\n",
       "<line x1=\"197.0\" y1=\"61.2\" x2=\"218.8\" y2=\"77.1\" opacity=\"1.0\" stroke=\"rgb(0,0,0)\" stroke-width=\"2.0\" />\n",
       "<line x1=\"218.8\" y1=\"77.1\" x2=\"206.5\" y2=\"115.1\" opacity=\"1.0\" stroke=\"rgb(0,0,0)\" stroke-width=\"2.0\" />\n",
       "<text x=\"250.890402\" y=\"72.721360\" fill=\"rgb(255,12,12)\" stroke-width=\"0\" font-weight=\"bold\" font-size=\"16\">O</text>\n",
       "<text x=\"223.648142\" y=\"73.050039\" fill=\"rgb(102,102,102)\" stroke-width=\"0\" font-weight=\"bold\" font-size=\"16\" />\n",
       "<text x=\"223.648142\" y=\"73.050039\" fill=\"rgb(102,102,102)\" stroke-width=\"0\" font-weight=\"bold\" font-size=\"32\">.</text>\n",
       "<text x=\"211.287462\" y=\"101.012300\" fill=\"rgb(102,102,102)\" stroke-width=\"0\" font-weight=\"bold\" font-size=\"16\">_</text>\n",
       "<text x=\"171.287462\" y=\"111.092300\" fill=\"rgb(255,12,12)\" stroke-width=\"0\" font-weight=\"bold\" font-size=\"16\">+</text>\n",
       "<text x=\"160.487462\" y=\"123.124300\" fill=\"rgb(255,12,12)\" stroke-width=\"0\" font-weight=\"bold\" font-size=\"16\">O</text>\n",
       "<text x=\"180.487462\" y=\"61.570629\" fill=\"rgb(12,12,255)\" stroke-width=\"0\" font-weight=\"bold\" font-size=\"16\">N</text>\n",
       "<text x=\"280.616195\" y=\"99.486584\" fill=\"rgb(191,191,191)\" stroke-width=\"0\" font-weight=\"bold\" font-size=\"16\">H</text>\n",
       "<text x=\"34.000000\" y=\"48.000000\" fill=\"rgb(191,191,191)\" stroke-width=\"0\" font-weight=\"bold\" font-size=\"16\">H</text>\n",
       "</svg>\n"
      ],
      "text/plain": [
       "<openbabel.pybel.Molecule at 0x7f60d56d1d90>"
      ]
     },
     "execution_count": 12,
     "metadata": {},
     "output_type": "execute_result"
    }
   ],
   "source": [
    "xyz_block_to_omol(test_file[0][-1].to_XYZ_block(),\n",
    "                  total_charge=0, total_radical=1)"
   ]
  },
  {
   "cell_type": "markdown",
   "metadata": {},
   "source": [
    "### rdDeterminBonds"
   ]
  },
  {
   "cell_type": "code",
   "execution_count": 13,
   "metadata": {},
   "outputs": [
    {
     "name": "stdout",
     "output_type": "stream",
     "text": [
      "Final molecular charge does not match input; could not find valid bond ordering\n"
     ]
    }
   ],
   "source": [
    "raw_mol = Chem.MolFromXYZBlock(test_file[0][-1].to_XYZ_block())\n",
    "conn_mol = Chem.Mol(raw_mol)\n",
    "try:\n",
    "    rdDetermineBonds.DetermineBonds(conn_mol, charge=0)\n",
    "except Exception as e:\n",
    "    print(e)"
   ]
  },
  {
   "cell_type": "markdown",
   "metadata": {},
   "source": [
    "## [S_Ph_Ni_TS.log](../tests/test_files/S_Ph_Ni_TS.log)"
   ]
  },
  {
   "cell_type": "code",
   "execution_count": 14,
   "metadata": {},
   "outputs": [
    {
     "name": "stderr",
     "output_type": "stream",
     "text": [
      "MolOP parsing with single thread: 100%|██████████| 1/1 [00:00<00:00,  9.18it/s]\n",
      "0 files failed to parse, 1 successfully parsed\n"
     ]
    }
   ],
   "source": [
    "test_file = AutoParser(\"../tests/test_files/g16log/S_Ph_Ni_TS.log\")"
   ]
  },
  {
   "cell_type": "markdown",
   "metadata": {},
   "source": [
    "### MolOP"
   ]
  },
  {
   "cell_type": "code",
   "execution_count": 15,
   "metadata": {},
   "outputs": [
    {
     "data": {
      "image/svg+xml": [
       "<svg xmlns=\"http://www.w3.org/2000/svg\" width=\"100\" height=\"100\" x=\"0\" y=\"0\" viewBox=\"0 0 438.694 386.263\" font-family=\"sans-serif\" stroke=\"rgb(0,0,0)\" stroke-width=\"2\" stroke-linecap=\"round\">\n",
       "<line x1=\"227.3\" y1=\"190.9\" x2=\"202.6\" y2=\"190.9\" opacity=\"1.0\" stroke=\"rgb(0,0,0)\" stroke-width=\"2.0\" />\n",
       "<line x1=\"256.7\" y1=\"146.7\" x2=\"235.3\" y2=\"134.3\" opacity=\"1.0\" stroke=\"rgb(0,0,0)\" stroke-width=\"2.0\" />\n",
       "<line x1=\"188.2\" y1=\"320.5\" x2=\"206.6\" y2=\"303.9\" opacity=\"1.0\" stroke=\"rgb(0,0,0)\" stroke-width=\"2.0\" />\n",
       "<line x1=\"181.2\" y1=\"203.3\" x2=\"202.6\" y2=\"190.9\" opacity=\"1.0\" stroke=\"rgb(0,0,0)\" stroke-width=\"2.0\" />\n",
       "<line x1=\"169.9\" y1=\"222.8\" x2=\"169.9\" y2=\"234.5\" opacity=\"1.0\" stroke=\"rgb(0,0,0)\" stroke-width=\"2.0\" />\n",
       "<line x1=\"202.6\" y1=\"190.9\" x2=\"215.0\" y2=\"212.4\" opacity=\"1.0\" stroke=\"rgb(0,0,0)\" stroke-width=\"2.0\" />\n",
       "<line x1=\"202.6\" y1=\"190.9\" x2=\"202.6\" y2=\"153.2\" opacity=\"1.0\" stroke=\"rgb(0,0,0)\" stroke-width=\"2.0\" />\n",
       "<line x1=\"253.5\" y1=\"334.4\" x2=\"248.8\" y2=\"323.7\" opacity=\"1.0\" stroke=\"rgb(0,0,0)\" stroke-width=\"2.0\" />\n",
       "<line x1=\"148.5\" y1=\"259.9\" x2=\"158.7\" y2=\"254.0\" opacity=\"1.0\" stroke=\"rgb(0,0,0)\" stroke-width=\"2.0\" />\n",
       "<line x1=\"333.3\" y1=\"215.7\" x2=\"333.3\" y2=\"190.9\" opacity=\"1.0\" stroke=\"rgb(0,0,0)\" stroke-width=\"2.0\" />\n",
       "<line x1=\"256.7\" y1=\"84.2\" x2=\"235.3\" y2=\"96.6\" opacity=\"1.0\" stroke=\"rgb(0,0,0)\" stroke-width=\"2.0\" />\n",
       "<line x1=\"387.4\" y1=\"184.4\" x2=\"366.0\" y2=\"172.1\" opacity=\"1.0\" stroke=\"rgb(0,0,0)\" stroke-width=\"2.0\" />\n",
       "<line x1=\"300.7\" y1=\"172.1\" x2=\"181.2\" y2=\"241.0\" opacity=\"1.0\" stroke=\"rgb(0,0,0)\" stroke-width=\"2.0\" />\n",
       "<line x1=\"169.9\" y1=\"134.3\" x2=\"148.5\" y2=\"146.7\" opacity=\"1.0\" stroke=\"rgb(0,0,0)\" stroke-width=\"2.0\" />\n",
       "<line x1=\"191.4\" y1=\"259.9\" x2=\"181.2\" y2=\"254.0\" opacity=\"1.0\" stroke=\"rgb(0,0,0)\" stroke-width=\"2.0\" />\n",
       "<line x1=\"158.7\" y1=\"241.0\" x2=\"148.5\" y2=\"235.2\" opacity=\"1.0\" stroke=\"rgb(0,0,0)\" stroke-width=\"2.0\" />\n",
       "<line x1=\"169.9\" y1=\"260.5\" x2=\"169.9\" y2=\"272.3\" opacity=\"1.0\" stroke=\"rgb(0,0,0)\" stroke-width=\"2.0\" />\n",
       "<line x1=\"202.6\" y1=\"77.7\" x2=\"202.6\" y2=\"53.0\" opacity=\"1.0\" stroke=\"rgb(0,0,0)\" stroke-width=\"2.0\" />\n",
       "<line x1=\"366.0\" y1=\"134.3\" x2=\"387.4\" y2=\"122.0\" opacity=\"1.0\" stroke=\"rgb(0,0,0)\" stroke-width=\"2.0\" />\n",
       "<line x1=\"300.7\" y1=\"134.3\" x2=\"279.2\" y2=\"122.0\" opacity=\"1.0\" stroke=\"rgb(0,0,0)\" stroke-width=\"2.0\" />\n",
       "<line x1=\"169.9\" y1=\"96.6\" x2=\"148.5\" y2=\"84.2\" opacity=\"1.0\" stroke=\"rgb(0,0,0)\" stroke-width=\"2.0\" />\n",
       "<line x1=\"151.7\" y1=\"174.6\" x2=\"133.3\" y2=\"191.2\" opacity=\"1.0\" stroke=\"rgb(0,0,0)\" stroke-width=\"2.0\" />\n",
       "<line x1=\"262.3\" y1=\"279.1\" x2=\"286.9\" y2=\"276.5\" opacity=\"1.0\" stroke=\"rgb(0,0,0)\" stroke-width=\"2.0\" />\n",
       "<line x1=\"333.3\" y1=\"115.5\" x2=\"333.3\" y2=\"90.7\" opacity=\"1.0\" stroke=\"rgb(0,0,0)\" stroke-width=\"2.0\" />\n",
       "<line x1=\"237.1\" y1=\"251.1\" x2=\"242.2\" y2=\"226.9\" opacity=\"1.0\" stroke=\"rgb(0,0,0)\" stroke-width=\"2.0\" />\n",
       "<line x1=\"91.1\" y1=\"171.4\" x2=\"86.3\" y2=\"160.7\" opacity=\"1.0\" stroke=\"rgb(0,0,0)\" stroke-width=\"2.0\" />\n",
       "<line x1=\"102.8\" y1=\"244.0\" x2=\"97.6\" y2=\"268.2\" opacity=\"1.0\" stroke=\"rgb(0,0,0)\" stroke-width=\"2.0\" />\n",
       "<line x1=\"77.5\" y1=\"216.0\" x2=\"52.9\" y2=\"218.6\" opacity=\"1.0\" stroke=\"rgb(0,0,0)\" stroke-width=\"2.0\" />\n",
       "<line x1=\"235.3\" y1=\"134.3\" x2=\"202.6\" y2=\"153.2\" opacity=\"1.0\" stroke=\"rgb(0,0,0)\" stroke-width=\"2.0\" />\n",
       "<line x1=\"226.5\" y1=\"131.1\" x2=\"204.2\" y2=\"144.0\" opacity=\"1.0\" stroke=\"rgb(0,0,0)\" stroke-width=\"2.0\" />\n",
       "<line x1=\"202.6\" y1=\"153.2\" x2=\"169.9\" y2=\"134.3\" opacity=\"1.0\" stroke=\"rgb(0,0,0)\" stroke-width=\"2.0\" />\n",
       "<line x1=\"169.9\" y1=\"134.3\" x2=\"169.9\" y2=\"96.6\" opacity=\"1.0\" stroke=\"rgb(0,0,0)\" stroke-width=\"2.0\" />\n",
       "<line x1=\"177.1\" y1=\"128.3\" x2=\"177.1\" y2=\"102.6\" opacity=\"1.0\" stroke=\"rgb(0,0,0)\" stroke-width=\"2.0\" />\n",
       "<line x1=\"169.9\" y1=\"96.6\" x2=\"202.6\" y2=\"77.7\" opacity=\"1.0\" stroke=\"rgb(0,0,0)\" stroke-width=\"2.0\" />\n",
       "<line x1=\"202.6\" y1=\"77.7\" x2=\"235.3\" y2=\"96.6\" opacity=\"1.0\" stroke=\"rgb(0,0,0)\" stroke-width=\"2.0\" />\n",
       "<line x1=\"204.2\" y1=\"87.0\" x2=\"226.5\" y2=\"99.8\" opacity=\"1.0\" stroke=\"rgb(0,0,0)\" stroke-width=\"2.0\" />\n",
       "<line x1=\"235.3\" y1=\"96.6\" x2=\"235.3\" y2=\"134.3\" opacity=\"1.0\" stroke=\"rgb(0,0,0)\" stroke-width=\"2.0\" />\n",
       "<line x1=\"333.3\" y1=\"190.9\" x2=\"300.7\" y2=\"172.1\" opacity=\"1.0\" stroke=\"rgb(0,0,0)\" stroke-width=\"2.0\" />\n",
       "<line x1=\"331.7\" y1=\"181.7\" x2=\"309.4\" y2=\"168.8\" opacity=\"1.0\" stroke=\"rgb(0,0,0)\" stroke-width=\"2.0\" />\n",
       "<line x1=\"300.7\" y1=\"172.1\" x2=\"300.7\" y2=\"134.3\" opacity=\"1.0\" stroke=\"rgb(0,0,0)\" stroke-width=\"2.0\" />\n",
       "<line x1=\"300.7\" y1=\"134.3\" x2=\"333.3\" y2=\"115.5\" opacity=\"1.0\" stroke=\"rgb(0,0,0)\" stroke-width=\"2.0\" />\n",
       "<line x1=\"309.4\" y1=\"137.6\" x2=\"331.7\" y2=\"124.7\" opacity=\"1.0\" stroke=\"rgb(0,0,0)\" stroke-width=\"2.0\" />\n",
       "<line x1=\"333.3\" y1=\"115.5\" x2=\"366.0\" y2=\"134.3\" opacity=\"1.0\" stroke=\"rgb(0,0,0)\" stroke-width=\"2.0\" />\n",
       "<line x1=\"366.0\" y1=\"134.3\" x2=\"366.0\" y2=\"172.1\" opacity=\"1.0\" stroke=\"rgb(0,0,0)\" stroke-width=\"2.0\" />\n",
       "<line x1=\"358.8\" y1=\"140.3\" x2=\"358.8\" y2=\"166.1\" opacity=\"1.0\" stroke=\"rgb(0,0,0)\" stroke-width=\"2.0\" />\n",
       "<line x1=\"366.0\" y1=\"172.1\" x2=\"333.3\" y2=\"190.9\" opacity=\"1.0\" stroke=\"rgb(0,0,0)\" stroke-width=\"2.0\" />\n",
       "<line x1=\"206.6\" y1=\"303.9\" x2=\"204.0\" y2=\"279.3\" opacity=\"1.0\" stroke=\"rgb(0,0,0)\" stroke-width=\"2.0\" />\n",
       "<line x1=\"214.5\" y1=\"261.1\" x2=\"237.1\" y2=\"251.1\" opacity=\"1.0\" stroke=\"rgb(0,0,0)\" stroke-width=\"2.0\" />\n",
       "<line x1=\"237.1\" y1=\"251.1\" x2=\"262.3\" y2=\"279.1\" opacity=\"1.0\" stroke=\"rgb(0,0,0)\" stroke-width=\"2.0\" />\n",
       "<line x1=\"235.8\" y1=\"260.3\" x2=\"253.0\" y2=\"279.5\" opacity=\"1.0\" stroke=\"rgb(0,0,0)\" stroke-width=\"2.0\" />\n",
       "<line x1=\"262.3\" y1=\"279.1\" x2=\"250.0\" y2=\"300.5\" opacity=\"1.0\" stroke=\"rgb(0,0,0)\" stroke-width=\"2.0\" />\n",
       "<line x1=\"230.8\" y1=\"309.1\" x2=\"206.6\" y2=\"303.9\" opacity=\"1.0\" stroke=\"rgb(0,0,0)\" stroke-width=\"2.0\" />\n",
       "<line x1=\"133.3\" y1=\"191.2\" x2=\"135.9\" y2=\"215.8\" opacity=\"1.0\" stroke=\"rgb(0,0,0)\" stroke-width=\"2.0\" />\n",
       "<line x1=\"125.4\" y1=\"234.0\" x2=\"102.8\" y2=\"244.0\" opacity=\"1.0\" stroke=\"rgb(0,0,0)\" stroke-width=\"2.0\" />\n",
       "<line x1=\"102.8\" y1=\"244.0\" x2=\"77.5\" y2=\"216.0\" opacity=\"1.0\" stroke=\"rgb(0,0,0)\" stroke-width=\"2.0\" />\n",
       "<line x1=\"104.1\" y1=\"234.8\" x2=\"86.9\" y2=\"215.6\" opacity=\"1.0\" stroke=\"rgb(0,0,0)\" stroke-width=\"2.0\" />\n",
       "<line x1=\"77.5\" y1=\"216.0\" x2=\"89.9\" y2=\"194.6\" opacity=\"1.0\" stroke=\"rgb(0,0,0)\" stroke-width=\"2.0\" />\n",
       "<line x1=\"109.1\" y1=\"186.0\" x2=\"133.3\" y2=\"191.2\" opacity=\"1.0\" stroke=\"rgb(0,0,0)\" stroke-width=\"2.0\" />\n",
       "<text x=\"196.613161\" y=\"48.000000\" fill=\"rgb(191,191,191)\" stroke-width=\"0\" font-weight=\"bold\" font-size=\"16\">H</text>\n",
       "<text x=\"215.481086\" y=\"231.623600\" fill=\"rgb(191,191,191)\" stroke-width=\"0\" font-weight=\"bold\" font-size=\"16\">H</text>\n",
       "<text x=\"131.252753\" y=\"161.207547\" fill=\"rgb(191,191,191)\" stroke-width=\"0\" font-weight=\"bold\" font-size=\"16\">H</text>\n",
       "<text x=\"261.973569\" y=\"161.207547\" fill=\"rgb(191,191,191)\" stroke-width=\"0\" font-weight=\"bold\" font-size=\"16\">H</text>\n",
       "<text x=\"131.252753\" y=\"85.735849\" fill=\"rgb(191,191,191)\" stroke-width=\"0\" font-weight=\"bold\" font-size=\"16\">H</text>\n",
       "<text x=\"261.973569\" y=\"85.735849\" fill=\"rgb(191,191,191)\" stroke-width=\"0\" font-weight=\"bold\" font-size=\"16\">H</text>\n",
       "<text x=\"234.349010\" y=\"198.943396\" fill=\"rgb(191,191,191)\" stroke-width=\"0\" font-weight=\"bold\" font-size=\"16\">H</text>\n",
       "<text x=\"327.333977\" y=\"236.679245\" fill=\"rgb(191,191,191)\" stroke-width=\"0\" font-weight=\"bold\" font-size=\"16\">H</text>\n",
       "<text x=\"261.973569\" y=\"123.471698\" fill=\"rgb(191,191,191)\" stroke-width=\"0\" font-weight=\"bold\" font-size=\"16\">H</text>\n",
       "<text x=\"392.694385\" y=\"198.943396\" fill=\"rgb(191,191,191)\" stroke-width=\"0\" font-weight=\"bold\" font-size=\"16\">H</text>\n",
       "<text x=\"327.333977\" y=\"85.735849\" fill=\"rgb(191,191,191)\" stroke-width=\"0\" font-weight=\"bold\" font-size=\"16\">H</text>\n",
       "<text x=\"392.694385\" y=\"123.471698\" fill=\"rgb(191,191,191)\" stroke-width=\"0\" font-weight=\"bold\" font-size=\"16\">H</text>\n",
       "<text x=\"138.108283\" y=\"187.118117\" fill=\"rgb(102,102,102)\" stroke-width=\"0\" font-weight=\"bold\" font-size=\"16\" />\n",
       "<text x=\"138.108283\" y=\"187.118117\" fill=\"rgb(102,102,102)\" stroke-width=\"0\" font-weight=\"bold\" font-size=\"32\">.</text>\n",
       "<text x=\"163.932957\" y=\"293.283019\" fill=\"rgb(165,40,40)\" stroke-width=\"0\" font-weight=\"bold\" font-size=\"16\">Br</text>\n",
       "<text x=\"119.252753\" y=\"274.415094\" fill=\"rgb(165,40,40)\" stroke-width=\"0\" font-weight=\"bold\" font-size=\"16\">Br</text>\n",
       "<text x=\"196.613161\" y=\"274.415094\" fill=\"rgb(12,12,255)\" stroke-width=\"0\" font-weight=\"bold\" font-size=\"16\">N</text>\n",
       "<text x=\"211.357631\" y=\"299.912222\" fill=\"rgb(102,102,102)\" stroke-width=\"0\" font-weight=\"bold\" font-size=\"16\" />\n",
       "<text x=\"211.357631\" y=\"299.912222\" fill=\"rgb(102,102,102)\" stroke-width=\"0\" font-weight=\"bold\" font-size=\"32\">.</text>\n",
       "<text x=\"172.514430\" y=\"337.194434\" fill=\"rgb(191,191,191)\" stroke-width=\"0\" font-weight=\"bold\" font-size=\"16\">H</text>\n",
       "<text x=\"238.932299\" y=\"222.155312\" fill=\"rgb(191,191,191)\" stroke-width=\"0\" font-weight=\"bold\" font-size=\"16\">H</text>\n",
       "<text x=\"252.817414\" y=\"354.263360\" fill=\"rgb(191,191,191)\" stroke-width=\"0\" font-weight=\"bold\" font-size=\"16\">H</text>\n",
       "<text x=\"293.865914\" y=\"283.165272\" fill=\"rgb(191,191,191)\" stroke-width=\"0\" font-weight=\"bold\" font-size=\"16\">H</text>\n",
       "<text x=\"131.252753\" y=\"236.679245\" fill=\"rgb(12,12,255)\" stroke-width=\"0\" font-weight=\"bold\" font-size=\"16\">N</text>\n",
       "<text x=\"151.932957\" y=\"255.547170\" fill=\"rgb(79,209,79)\" stroke-width=\"0\" font-weight=\"bold\" font-size=\"16\">Ni</text>\n",
       "<text x=\"155.351484\" y=\"173.899906\" fill=\"rgb(191,191,191)\" stroke-width=\"0\" font-weight=\"bold\" font-size=\"16\">H</text>\n",
       "<text x=\"88.933616\" y=\"288.939028\" fill=\"rgb(191,191,191)\" stroke-width=\"0\" font-weight=\"bold\" font-size=\"16\">H</text>\n",
       "<text x=\"75.048500\" y=\"156.830979\" fill=\"rgb(191,191,191)\" stroke-width=\"0\" font-weight=\"bold\" font-size=\"16\">H</text>\n",
       "<text x=\"34.000000\" y=\"227.929067\" fill=\"rgb(191,191,191)\" stroke-width=\"0\" font-weight=\"bold\" font-size=\"16\">H</text>\n",
       "<text x=\"90.397053\" y=\"191.304393\" fill=\"rgb(12,12,255)\" stroke-width=\"0\" font-weight=\"bold\" font-size=\"16\">N</text>\n",
       "<text x=\"237.468862\" y=\"319.789947\" fill=\"rgb(12,12,255)\" stroke-width=\"0\" font-weight=\"bold\" font-size=\"16\">N</text>\n",
       "<text x=\"163.932957\" y=\"217.811321\" fill=\"rgb(178,178,0)\" stroke-width=\"0\" font-weight=\"bold\" font-size=\"16\">S</text>\n",
       "</svg>\n"
      ],
      "text/plain": [
       "<openbabel.pybel.Molecule at 0x7f60d572fd00>"
      ]
     },
     "execution_count": 15,
     "metadata": {},
     "output_type": "execute_result"
    }
   ],
   "source": [
    "xyz_block_to_omol(test_file[0][-1].to_XYZ_block(), total_charge=0)"
   ]
  },
  {
   "cell_type": "markdown",
   "metadata": {},
   "source": [
    "### rdDeterminBonds"
   ]
  },
  {
   "cell_type": "code",
   "execution_count": 16,
   "metadata": {},
   "outputs": [
    {
     "name": "stdout",
     "output_type": "stream",
     "text": [
      "determineBondOrdering() does not work with element Ni\n"
     ]
    }
   ],
   "source": [
    "raw_mol = Chem.MolFromXYZBlock(test_file[0][-1].to_XYZ_block())\n",
    "conn_mol = Chem.Mol(raw_mol)\n",
    "try:\n",
    "    rdDetermineBonds.DetermineBonds(conn_mol, charge=0)\n",
    "except Exception as e:\n",
    "    print(e)"
   ]
  },
  {
   "cell_type": "markdown",
   "metadata": {},
   "source": [
    "## [test.gjf](../tests/test_files/test.gjf)"
   ]
  },
  {
   "cell_type": "code",
   "execution_count": 17,
   "metadata": {},
   "outputs": [
    {
     "name": "stderr",
     "output_type": "stream",
     "text": [
      "MolOP parsing with single thread: 100%|██████████| 1/1 [00:00<00:00, 1402.78it/s]\n",
      "0 files failed to parse, 1 successfully parsed\n"
     ]
    }
   ],
   "source": [
    "test_file = AutoParser(\n",
    "    \"../tests/test_files/g16gjf/test.gjf\",\n",
    "    charge=0,\n",
    "    multiplicity=3,\n",
    ")"
   ]
  },
  {
   "cell_type": "markdown",
   "metadata": {},
   "source": [
    "### MolOP"
   ]
  },
  {
   "cell_type": "code",
   "execution_count": 18,
   "metadata": {},
   "outputs": [
    {
     "data": {
      "image/svg+xml": [
       "<svg xmlns=\"http://www.w3.org/2000/svg\" width=\"100\" height=\"100\" x=\"0\" y=\"0\" viewBox=\"0 0 730.822 384.891\" font-family=\"sans-serif\" stroke=\"rgb(0,0,0)\" stroke-width=\"2\" stroke-linecap=\"round\">\n",
       "<line x1=\"455.6\" y1=\"83.5\" x2=\"434.8\" y2=\"95.6\" opacity=\"1.0\" stroke=\"rgb(0,0,0)\" stroke-width=\"2.0\" />\n",
       "<line x1=\"455.6\" y1=\"144.6\" x2=\"434.8\" y2=\"132.6\" opacity=\"1.0\" stroke=\"rgb(0,0,0)\" stroke-width=\"2.0\" />\n",
       "<line x1=\"402.7\" y1=\"53.0\" x2=\"402.7\" y2=\"77.0\" opacity=\"1.0\" stroke=\"rgb(0,0,0)\" stroke-width=\"2.0\" />\n",
       "<line x1=\"402.7\" y1=\"151.1\" x2=\"402.7\" y2=\"175.1\" opacity=\"1.0\" stroke=\"rgb(0,0,0)\" stroke-width=\"2.0\" />\n",
       "<line x1=\"338.6\" y1=\"53.0\" x2=\"338.6\" y2=\"77.0\" opacity=\"1.0\" stroke=\"rgb(0,0,0)\" stroke-width=\"2.0\" />\n",
       "<line x1=\"338.6\" y1=\"151.1\" x2=\"338.6\" y2=\"175.1\" opacity=\"1.0\" stroke=\"rgb(0,0,0)\" stroke-width=\"2.0\" />\n",
       "<line x1=\"306.5\" y1=\"95.6\" x2=\"285.7\" y2=\"83.5\" opacity=\"1.0\" stroke=\"rgb(0,0,0)\" stroke-width=\"2.0\" />\n",
       "<line x1=\"602.7\" y1=\"51.3\" x2=\"616.2\" y2=\"74.6\" opacity=\"1.0\" stroke=\"rgb(0,0,0)\" stroke-width=\"2.0\" />\n",
       "<line x1=\"53.0\" y1=\"307.9\" x2=\"77.0\" y2=\"307.9\" opacity=\"1.0\" stroke=\"rgb(0,0,0)\" stroke-width=\"2.0\" />\n",
       "<line x1=\"65.0\" y1=\"287.0\" x2=\"77.0\" y2=\"307.9\" opacity=\"1.0\" stroke=\"rgb(0,0,0)\" stroke-width=\"2.0\" />\n",
       "<line x1=\"595.0\" y1=\"198.0\" x2=\"581.5\" y2=\"174.6\" opacity=\"1.0\" stroke=\"rgb(0,0,0)\" stroke-width=\"2.0\" />\n",
       "<line x1=\"677.8\" y1=\"134.6\" x2=\"650.8\" y2=\"134.6\" opacity=\"1.0\" stroke=\"rgb(0,0,0)\" stroke-width=\"2.0\" />\n",
       "<line x1=\"77.0\" y1=\"331.9\" x2=\"77.0\" y2=\"307.9\" opacity=\"1.0\" stroke=\"rgb(0,0,0)\" stroke-width=\"2.0\" />\n",
       "<line x1=\"306.5\" y1=\"132.6\" x2=\"189.5\" y2=\"200.2\" opacity=\"1.0\" stroke=\"rgb(0,0,0)\" stroke-width=\"2.0\" />\n",
       "<line x1=\"77.0\" y1=\"307.9\" x2=\"141.2\" y2=\"270.8\" opacity=\"1.0\" stroke=\"rgb(0,0,0)\" stroke-width=\"2.0\" />\n",
       "<line x1=\"616.2\" y1=\"101.6\" x2=\"616.2\" y2=\"74.6\" opacity=\"1.0\" stroke=\"rgb(0,0,0)\" stroke-width=\"2.0\" />\n",
       "<line x1=\"627.4\" y1=\"121.1\" x2=\"650.8\" y2=\"134.6\" opacity=\"1.0\" stroke=\"rgb(0,0,0)\" stroke-width=\"2.0\" />\n",
       "<line x1=\"604.9\" y1=\"121.1\" x2=\"581.5\" y2=\"134.6\" opacity=\"1.0\" stroke=\"rgb(0,0,0)\" stroke-width=\"2.0\" />\n",
       "<line x1=\"616.2\" y1=\"74.6\" x2=\"589.2\" y2=\"74.6\" opacity=\"1.0\" stroke=\"rgb(0,0,0)\" stroke-width=\"2.0\" />\n",
       "<line x1=\"616.2\" y1=\"74.6\" x2=\"639.6\" y2=\"61.1\" opacity=\"1.0\" stroke=\"rgb(0,0,0)\" stroke-width=\"2.0\" />\n",
       "<line x1=\"581.5\" y1=\"174.6\" x2=\"608.5\" y2=\"174.6\" opacity=\"1.0\" stroke=\"rgb(0,0,0)\" stroke-width=\"2.0\" />\n",
       "<line x1=\"581.5\" y1=\"174.6\" x2=\"581.5\" y2=\"134.6\" opacity=\"1.0\" stroke=\"rgb(0,0,0)\" stroke-width=\"2.0\" />\n",
       "<line x1=\"581.5\" y1=\"174.6\" x2=\"558.2\" y2=\"188.1\" opacity=\"1.0\" stroke=\"rgb(0,0,0)\" stroke-width=\"2.0\" />\n",
       "<line x1=\"650.8\" y1=\"134.6\" x2=\"664.3\" y2=\"111.3\" opacity=\"1.0\" stroke=\"rgb(0,0,0)\" stroke-width=\"2.0\" />\n",
       "<line x1=\"650.8\" y1=\"134.6\" x2=\"650.8\" y2=\"161.6\" opacity=\"1.0\" stroke=\"rgb(0,0,0)\" stroke-width=\"2.0\" />\n",
       "<line x1=\"109.0\" y1=\"156.3\" x2=\"116.4\" y2=\"179.1\" opacity=\"1.0\" stroke=\"rgb(0,0,0)\" stroke-width=\"2.0\" />\n",
       "<line x1=\"70.6\" y1=\"173.4\" x2=\"82.6\" y2=\"194.2\" opacity=\"1.0\" stroke=\"rgb(0,0,0)\" stroke-width=\"2.0\" />\n",
       "<line x1=\"581.5\" y1=\"134.6\" x2=\"546.9\" y2=\"114.6\" opacity=\"1.0\" stroke=\"rgb(0,0,0)\" stroke-width=\"2.0\" />\n",
       "<polygon points=\"178.224104 194.444444 174.224104 181.851852 182.224104 181.851852 \" stroke-width=\"2.000000\" fill=\"rgb(0,0,0)\" stroke=\"rgb(0,0,0)\" />\n",
       "<line x1=\"141.2\" y1=\"270.8\" x2=\"141.2\" y2=\"307.9\" opacity=\"1.0\" stroke=\"rgb(0,0,0)\" stroke-width=\"2.0\" />\n",
       "<line x1=\"117.6\" y1=\"238.5\" x2=\"118.0\" y2=\"236.9\" opacity=\"1.0\" stroke=\"rgb(0,0,0)\" stroke-width=\"1.0\" />\n",
       "<line x1=\"113.6\" y1=\"238.3\" x2=\"114.2\" y2=\"235.5\" opacity=\"1.0\" stroke=\"rgb(0,0,0)\" stroke-width=\"1.0\" />\n",
       "<line x1=\"109.6\" y1=\"238.1\" x2=\"110.5\" y2=\"234.0\" opacity=\"1.0\" stroke=\"rgb(0,0,0)\" stroke-width=\"1.0\" />\n",
       "<line x1=\"105.6\" y1=\"237.9\" x2=\"106.7\" y2=\"232.6\" opacity=\"1.0\" stroke=\"rgb(0,0,0)\" stroke-width=\"1.0\" />\n",
       "<line x1=\"101.6\" y1=\"237.7\" x2=\"103.0\" y2=\"231.1\" opacity=\"1.0\" stroke=\"rgb(0,0,0)\" stroke-width=\"1.0\" />\n",
       "<line x1=\"97.6\" y1=\"237.5\" x2=\"99.2\" y2=\"229.7\" opacity=\"1.0\" stroke=\"rgb(0,0,0)\" stroke-width=\"1.0\" />\n",
       "<line x1=\"82.6\" y1=\"194.2\" x2=\"58.5\" y2=\"194.2\" opacity=\"1.0\" stroke=\"rgb(0,0,0)\" stroke-width=\"2.0\" />\n",
       "<line x1=\"129.1\" y1=\"194.4\" x2=\"130.3\" y2=\"193.4\" opacity=\"1.0\" stroke=\"rgb(0,0,0)\" stroke-width=\"1.0\" />\n",
       "<line x1=\"126.0\" y1=\"191.9\" x2=\"128.1\" y2=\"190.0\" opacity=\"1.0\" stroke=\"rgb(0,0,0)\" stroke-width=\"1.0\" />\n",
       "<line x1=\"122.8\" y1=\"189.4\" x2=\"125.9\" y2=\"186.6\" opacity=\"1.0\" stroke=\"rgb(0,0,0)\" stroke-width=\"1.0\" />\n",
       "<line x1=\"119.7\" y1=\"186.9\" x2=\"123.7\" y2=\"183.2\" opacity=\"1.0\" stroke=\"rgb(0,0,0)\" stroke-width=\"1.0\" />\n",
       "<line x1=\"116.6\" y1=\"184.3\" x2=\"121.6\" y2=\"179.8\" opacity=\"1.0\" stroke=\"rgb(0,0,0)\" stroke-width=\"1.0\" />\n",
       "<line x1=\"113.4\" y1=\"181.8\" x2=\"119.4\" y2=\"176.5\" opacity=\"1.0\" stroke=\"rgb(0,0,0)\" stroke-width=\"1.0\" />\n",
       "<line x1=\"116.4\" y1=\"179.1\" x2=\"132.5\" y2=\"161.3\" opacity=\"1.0\" stroke=\"rgb(0,0,0)\" stroke-width=\"2.0\" />\n",
       "<line x1=\"129.2\" y1=\"328.7\" x2=\"141.2\" y2=\"307.9\" opacity=\"1.0\" stroke=\"rgb(0,0,0)\" stroke-width=\"2.0\" />\n",
       "<line x1=\"117.2\" y1=\"307.9\" x2=\"141.2\" y2=\"307.9\" opacity=\"1.0\" stroke=\"rgb(0,0,0)\" stroke-width=\"2.0\" />\n",
       "<line x1=\"182.1\" y1=\"274.0\" x2=\"181.0\" y2=\"275.0\" opacity=\"1.0\" stroke=\"rgb(0,0,0)\" stroke-width=\"1.0\" />\n",
       "<line x1=\"185.3\" y1=\"276.5\" x2=\"183.1\" y2=\"278.4\" opacity=\"1.0\" stroke=\"rgb(0,0,0)\" stroke-width=\"1.0\" />\n",
       "<line x1=\"188.4\" y1=\"279.0\" x2=\"185.3\" y2=\"281.8\" opacity=\"1.0\" stroke=\"rgb(0,0,0)\" stroke-width=\"1.0\" />\n",
       "<line x1=\"191.5\" y1=\"281.5\" x2=\"187.5\" y2=\"285.2\" opacity=\"1.0\" stroke=\"rgb(0,0,0)\" stroke-width=\"1.0\" />\n",
       "<line x1=\"194.7\" y1=\"284.1\" x2=\"189.7\" y2=\"288.6\" opacity=\"1.0\" stroke=\"rgb(0,0,0)\" stroke-width=\"1.0\" />\n",
       "<line x1=\"197.8\" y1=\"286.6\" x2=\"191.9\" y2=\"291.9\" opacity=\"1.0\" stroke=\"rgb(0,0,0)\" stroke-width=\"1.0\" />\n",
       "<line x1=\"256.5\" y1=\"241.4\" x2=\"233.0\" y2=\"246.4\" opacity=\"1.0\" stroke=\"rgb(0,0,0)\" stroke-width=\"2.0\" />\n",
       "<line x1=\"213.7\" y1=\"241.5\" x2=\"213.4\" y2=\"243.1\" opacity=\"1.0\" stroke=\"rgb(0,0,0)\" stroke-width=\"1.0\" />\n",
       "<line x1=\"217.7\" y1=\"241.7\" x2=\"217.1\" y2=\"244.5\" opacity=\"1.0\" stroke=\"rgb(0,0,0)\" stroke-width=\"1.0\" />\n",
       "<line x1=\"221.8\" y1=\"241.9\" x2=\"220.9\" y2=\"246.0\" opacity=\"1.0\" stroke=\"rgb(0,0,0)\" stroke-width=\"1.0\" />\n",
       "<line x1=\"225.8\" y1=\"242.1\" x2=\"224.6\" y2=\"247.5\" opacity=\"1.0\" stroke=\"rgb(0,0,0)\" stroke-width=\"1.0\" />\n",
       "<line x1=\"229.8\" y1=\"242.3\" x2=\"228.4\" y2=\"248.9\" opacity=\"1.0\" stroke=\"rgb(0,0,0)\" stroke-width=\"1.0\" />\n",
       "<line x1=\"233.8\" y1=\"242.5\" x2=\"232.1\" y2=\"250.4\" opacity=\"1.0\" stroke=\"rgb(0,0,0)\" stroke-width=\"1.0\" />\n",
       "<line x1=\"141.2\" y1=\"307.9\" x2=\"162.0\" y2=\"319.9\" opacity=\"1.0\" stroke=\"rgb(0,0,0)\" stroke-width=\"2.0\" />\n",
       "<line x1=\"260.9\" y1=\"283.3\" x2=\"236.8\" y2=\"283.3\" opacity=\"1.0\" stroke=\"rgb(0,0,0)\" stroke-width=\"2.0\" />\n",
       "<line x1=\"546.9\" y1=\"114.6\" x2=\"519.9\" y2=\"114.6\" opacity=\"1.0\" stroke=\"rgb(0,0,0)\" stroke-width=\"2.0\" />\n",
       "<line x1=\"546.9\" y1=\"114.6\" x2=\"533.4\" y2=\"138.0\" opacity=\"1.0\" stroke=\"rgb(0,0,0)\" stroke-width=\"2.0\" />\n",
       "<line x1=\"546.9\" y1=\"114.6\" x2=\"546.9\" y2=\"87.6\" opacity=\"1.0\" stroke=\"rgb(0,0,0)\" stroke-width=\"2.0\" />\n",
       "<line x1=\"233.0\" y1=\"246.4\" x2=\"240.4\" y2=\"223.6\" opacity=\"1.0\" stroke=\"rgb(0,0,0)\" stroke-width=\"2.0\" />\n",
       "<line x1=\"236.8\" y1=\"283.3\" x2=\"248.9\" y2=\"304.1\" opacity=\"1.0\" stroke=\"rgb(0,0,0)\" stroke-width=\"2.0\" />\n",
       "<line x1=\"306.5\" y1=\"132.6\" x2=\"306.5\" y2=\"95.6\" opacity=\"1.0\" stroke=\"rgb(0,0,0)\" stroke-width=\"2.0\" />\n",
       "<line x1=\"306.5\" y1=\"95.6\" x2=\"338.6\" y2=\"77.0\" opacity=\"1.0\" stroke=\"rgb(0,0,0)\" stroke-width=\"2.0\" />\n",
       "<line x1=\"315.3\" y1=\"98.8\" x2=\"337.0\" y2=\"86.3\" opacity=\"1.0\" stroke=\"rgb(0,0,0)\" stroke-width=\"2.0\" />\n",
       "<line x1=\"338.6\" y1=\"77.0\" x2=\"370.7\" y2=\"95.6\" opacity=\"1.0\" stroke=\"rgb(0,0,0)\" stroke-width=\"2.0\" />\n",
       "<line x1=\"370.7\" y1=\"95.6\" x2=\"370.7\" y2=\"132.6\" opacity=\"1.0\" stroke=\"rgb(0,0,0)\" stroke-width=\"2.0\" />\n",
       "<line x1=\"370.7\" y1=\"132.6\" x2=\"338.6\" y2=\"151.1\" opacity=\"1.0\" stroke=\"rgb(0,0,0)\" stroke-width=\"2.0\" />\n",
       "<line x1=\"338.6\" y1=\"151.1\" x2=\"306.5\" y2=\"132.6\" opacity=\"1.0\" stroke=\"rgb(0,0,0)\" stroke-width=\"2.0\" />\n",
       "<line x1=\"337.0\" y1=\"141.9\" x2=\"315.3\" y2=\"129.4\" opacity=\"1.0\" stroke=\"rgb(0,0,0)\" stroke-width=\"2.0\" />\n",
       "<line x1=\"402.7\" y1=\"151.1\" x2=\"434.8\" y2=\"132.6\" opacity=\"1.0\" stroke=\"rgb(0,0,0)\" stroke-width=\"2.0\" />\n",
       "<line x1=\"434.8\" y1=\"132.6\" x2=\"434.8\" y2=\"95.6\" opacity=\"1.0\" stroke=\"rgb(0,0,0)\" stroke-width=\"2.0\" />\n",
       "<line x1=\"427.6\" y1=\"126.6\" x2=\"427.6\" y2=\"101.6\" opacity=\"1.0\" stroke=\"rgb(0,0,0)\" stroke-width=\"2.0\" />\n",
       "<line x1=\"434.8\" y1=\"95.6\" x2=\"402.7\" y2=\"77.0\" opacity=\"1.0\" stroke=\"rgb(0,0,0)\" stroke-width=\"2.0\" />\n",
       "<line x1=\"402.7\" y1=\"77.0\" x2=\"370.7\" y2=\"95.6\" opacity=\"1.0\" stroke=\"rgb(0,0,0)\" stroke-width=\"2.0\" />\n",
       "<line x1=\"401.2\" y1=\"86.3\" x2=\"379.5\" y2=\"98.8\" opacity=\"1.0\" stroke=\"rgb(0,0,0)\" stroke-width=\"2.0\" />\n",
       "<line x1=\"370.7\" y1=\"132.6\" x2=\"402.7\" y2=\"151.1\" opacity=\"1.0\" stroke=\"rgb(0,0,0)\" stroke-width=\"2.0\" />\n",
       "<line x1=\"379.5\" y1=\"129.4\" x2=\"401.2\" y2=\"141.9\" opacity=\"1.0\" stroke=\"rgb(0,0,0)\" stroke-width=\"2.0\" />\n",
       "<line x1=\"122.7\" y1=\"238.7\" x2=\"99.2\" y2=\"233.7\" opacity=\"1.0\" stroke=\"rgb(0,0,0)\" stroke-width=\"2.0\" />\n",
       "<line x1=\"85.1\" y1=\"218.1\" x2=\"82.6\" y2=\"194.2\" opacity=\"1.0\" stroke=\"rgb(0,0,0)\" stroke-width=\"2.0\" />\n",
       "<line x1=\"82.6\" y1=\"194.2\" x2=\"116.4\" y2=\"179.1\" opacity=\"1.0\" stroke=\"rgb(0,0,0)\" stroke-width=\"2.0\" />\n",
       "<line x1=\"116.4\" y1=\"179.1\" x2=\"132.5\" y2=\"197.0\" opacity=\"1.0\" stroke=\"rgb(0,0,0)\" stroke-width=\"2.0\" />\n",
       "<line x1=\"134.7\" y1=\"217.9\" x2=\"122.7\" y2=\"238.7\" opacity=\"1.0\" stroke=\"rgb(0,0,0)\" stroke-width=\"2.0\" />\n",
       "<line x1=\"236.8\" y1=\"283.3\" x2=\"214.9\" y2=\"293.1\" opacity=\"1.0\" stroke=\"rgb(0,0,0)\" stroke-width=\"2.0\" />\n",
       "<line x1=\"194.3\" y1=\"288.7\" x2=\"178.2\" y2=\"270.8\" opacity=\"1.0\" stroke=\"rgb(0,0,0)\" stroke-width=\"2.0\" />\n",
       "<line x1=\"178.2\" y1=\"270.8\" x2=\"190.2\" y2=\"250.0\" opacity=\"1.0\" stroke=\"rgb(0,0,0)\" stroke-width=\"2.0\" />\n",
       "<line x1=\"209.5\" y1=\"241.4\" x2=\"233.0\" y2=\"246.4\" opacity=\"1.0\" stroke=\"rgb(0,0,0)\" stroke-width=\"2.0\" />\n",
       "<line x1=\"233.0\" y1=\"246.4\" x2=\"236.8\" y2=\"283.3\" opacity=\"1.0\" stroke=\"rgb(0,0,0)\" stroke-width=\"2.0\" />\n",
       "<line x1=\"178.2\" y1=\"270.8\" x2=\"141.2\" y2=\"270.8\" opacity=\"1.0\" stroke=\"rgb(0,0,0)\" stroke-width=\"2.0\" />\n",
       "<line x1=\"141.2\" y1=\"270.8\" x2=\"122.7\" y2=\"238.7\" opacity=\"1.0\" stroke=\"rgb(0,0,0)\" stroke-width=\"2.0\" />\n",
       "<line x1=\"154.2\" y1=\"206.7\" x2=\"165.2\" y2=\"206.7\" opacity=\"1.0\" stroke=\"rgb(0,0,0)\" stroke-width=\"2.0\" />\n",
       "<line x1=\"184.7\" y1=\"217.9\" x2=\"190.2\" y2=\"227.5\" opacity=\"1.0\" stroke=\"rgb(0,0,0)\" stroke-width=\"2.0\" />\n",
       "<text x=\"332.599179\" y=\"196.148148\" fill=\"rgb(191,191,191)\" stroke-width=\"0\" font-weight=\"bold\" font-size=\"16\">H</text>\n",
       "<text x=\"268.449149\" y=\"85.037037\" fill=\"rgb(191,191,191)\" stroke-width=\"0\" font-weight=\"bold\" font-size=\"16\">H</text>\n",
       "<text x=\"332.599179\" y=\"48.000000\" fill=\"rgb(191,191,191)\" stroke-width=\"0\" font-weight=\"bold\" font-size=\"16\">H</text>\n",
       "<text x=\"396.749209\" y=\"196.148148\" fill=\"rgb(191,191,191)\" stroke-width=\"0\" font-weight=\"bold\" font-size=\"16\">H</text>\n",
       "<text x=\"460.899239\" y=\"159.111111\" fill=\"rgb(191,191,191)\" stroke-width=\"0\" font-weight=\"bold\" font-size=\"16\">H</text>\n",
       "<text x=\"396.749209\" y=\"48.000000\" fill=\"rgb(191,191,191)\" stroke-width=\"0\" font-weight=\"bold\" font-size=\"16\">H</text>\n",
       "<text x=\"460.899239\" y=\"85.037037\" fill=\"rgb(191,191,191)\" stroke-width=\"0\" font-weight=\"bold\" font-size=\"16\">H</text>\n",
       "<text x=\"586.340255\" y=\"130.609016\" fill=\"rgb(102,102,102)\" stroke-width=\"0\" font-weight=\"bold\" font-size=\"16\" />\n",
       "<text x=\"586.340255\" y=\"130.609016\" fill=\"rgb(102,102,102)\" stroke-width=\"0\" font-weight=\"bold\" font-size=\"32\">.</text>\n",
       "<text x=\"500.899239\" y=\"122.641016\" fill=\"rgb(191,191,191)\" stroke-width=\"0\" font-weight=\"bold\" font-size=\"16\">H</text>\n",
       "<text x=\"520.899239\" y=\"157.282032\" fill=\"rgb(191,191,191)\" stroke-width=\"0\" font-weight=\"bold\" font-size=\"16\">H</text>\n",
       "<text x=\"540.899239\" y=\"82.641016\" fill=\"rgb(191,191,191)\" stroke-width=\"0\" font-weight=\"bold\" font-size=\"16\">H</text>\n",
       "<text x=\"615.540255\" y=\"182.641016\" fill=\"rgb(191,191,191)\" stroke-width=\"0\" font-weight=\"bold\" font-size=\"16\">H</text>\n",
       "<text x=\"540.899239\" y=\"202.641016\" fill=\"rgb(191,191,191)\" stroke-width=\"0\" font-weight=\"bold\" font-size=\"16\">H</text>\n",
       "<text x=\"595.540255\" y=\"217.282032\" fill=\"rgb(191,191,191)\" stroke-width=\"0\" font-weight=\"bold\" font-size=\"16\">H</text>\n",
       "<text x=\"610.181271\" y=\"122.641016\" fill=\"rgb(12,12,255)\" stroke-width=\"0\" font-weight=\"bold\" font-size=\"16\">N</text>\n",
       "<text x=\"664.822287\" y=\"108.000000\" fill=\"rgb(191,191,191)\" stroke-width=\"0\" font-weight=\"bold\" font-size=\"16\">H</text>\n",
       "<text x=\"644.822287\" y=\"182.641016\" fill=\"rgb(191,191,191)\" stroke-width=\"0\" font-weight=\"bold\" font-size=\"16\">H</text>\n",
       "<text x=\"684.822287\" y=\"142.641016\" fill=\"rgb(191,191,191)\" stroke-width=\"0\" font-weight=\"bold\" font-size=\"16\">H</text>\n",
       "<text x=\"590.181271\" y=\"48.000000\" fill=\"rgb(191,191,191)\" stroke-width=\"0\" font-weight=\"bold\" font-size=\"16\">H</text>\n",
       "<text x=\"570.181271\" y=\"82.641016\" fill=\"rgb(191,191,191)\" stroke-width=\"0\" font-weight=\"bold\" font-size=\"16\">H</text>\n",
       "<text x=\"644.822287\" y=\"62.641016\" fill=\"rgb(191,191,191)\" stroke-width=\"0\" font-weight=\"bold\" font-size=\"16\">H</text>\n",
       "<text x=\"190.742623\" y=\"246.741682\" fill=\"rgb(12,12,255)\" stroke-width=\"0\" font-weight=\"bold\" font-size=\"16\">N</text>\n",
       "<text x=\"127.468548\" y=\"234.709682\" fill=\"rgb(102,102,102)\" stroke-width=\"0\" font-weight=\"bold\" font-size=\"16\" />\n",
       "<text x=\"127.468548\" y=\"234.709682\" fill=\"rgb(102,102,102)\" stroke-width=\"0\" font-weight=\"bold\" font-size=\"32\">.</text>\n",
       "<text x=\"39.532398\" y=\"202.207104\" fill=\"rgb(191,191,191)\" stroke-width=\"0\" font-weight=\"bold\" font-size=\"16\">H</text>\n",
       "<text x=\"98.959378\" y=\"151.918469\" fill=\"rgb(191,191,191)\" stroke-width=\"0\" font-weight=\"bold\" font-size=\"16\">H</text>\n",
       "<text x=\"135.187067\" y=\"159.618902\" fill=\"rgb(191,191,191)\" stroke-width=\"0\" font-weight=\"bold\" font-size=\"16\">H</text>\n",
       "<text x=\"58.050916\" y=\"170.132089\" fill=\"rgb(191,191,191)\" stroke-width=\"0\" font-weight=\"bold\" font-size=\"16\">H</text>\n",
       "<text x=\"135.187067\" y=\"214.666667\" fill=\"rgb(12,12,255)\" stroke-width=\"0\" font-weight=\"bold\" font-size=\"16\">N</text>\n",
       "<text x=\"80.440860\" y=\"239.041249\" fill=\"rgb(255,12,12)\" stroke-width=\"0\" font-weight=\"bold\" font-size=\"16\">O</text>\n",
       "<text x=\"183.024104\" y=\"266.784697\" fill=\"rgb(102,102,102)\" stroke-width=\"0\" font-weight=\"bold\" font-size=\"16\" />\n",
       "<text x=\"183.024104\" y=\"266.784697\" fill=\"rgb(102,102,102)\" stroke-width=\"0\" font-weight=\"bold\" font-size=\"32\">.</text>\n",
       "<text x=\"267.878773\" y=\"291.276259\" fill=\"rgb(191,191,191)\" stroke-width=\"0\" font-weight=\"bold\" font-size=\"16\">H</text>\n",
       "<text x=\"238.415385\" y=\"219.217799\" fill=\"rgb(191,191,191)\" stroke-width=\"0\" font-weight=\"bold\" font-size=\"16\">H</text>\n",
       "<text x=\"263.198000\" y=\"246.741682\" fill=\"rgb(191,191,191)\" stroke-width=\"0\" font-weight=\"bold\" font-size=\"16\">H</text>\n",
       "<text x=\"249.360255\" y=\"323.351274\" fill=\"rgb(191,191,191)\" stroke-width=\"0\" font-weight=\"bold\" font-size=\"16\">H</text>\n",
       "<text x=\"197.006719\" y=\"306.340579\" fill=\"rgb(255,12,12)\" stroke-width=\"0\" font-weight=\"bold\" font-size=\"16\">O</text>\n",
       "<text x=\"160.224104\" y=\"214.666667\" fill=\"rgb(198,127,51)\" stroke-width=\"0\" font-weight=\"bold\" font-size=\"16\">Cu</text>\n",
       "<text x=\"167.262082\" y=\"334.372252\" fill=\"rgb(191,191,191)\" stroke-width=\"0\" font-weight=\"bold\" font-size=\"16\">H</text>\n",
       "<text x=\"116.668548\" y=\"347.928749\" fill=\"rgb(191,191,191)\" stroke-width=\"0\" font-weight=\"bold\" font-size=\"16\">H</text>\n",
       "<text x=\"98.150030\" y=\"315.853734\" fill=\"rgb(191,191,191)\" stroke-width=\"0\" font-weight=\"bold\" font-size=\"16\">H</text>\n",
       "<text x=\"71.037037\" y=\"352.890771\" fill=\"rgb(191,191,191)\" stroke-width=\"0\" font-weight=\"bold\" font-size=\"16\">H</text>\n",
       "<text x=\"34.000000\" y=\"315.853734\" fill=\"rgb(191,191,191)\" stroke-width=\"0\" font-weight=\"bold\" font-size=\"16\">H</text>\n",
       "<text x=\"52.518519\" y=\"283.778719\" fill=\"rgb(191,191,191)\" stroke-width=\"0\" font-weight=\"bold\" font-size=\"16\">H</text>\n",
       "<text x=\"172.224104\" y=\"177.629630\" fill=\"rgb(30,239,30)\" stroke-width=\"0\" font-weight=\"bold\" font-size=\"16\">Cl</text>\n",
       "</svg>\n"
      ],
      "text/plain": [
       "<openbabel.pybel.Molecule at 0x7f60d5a64e20>"
      ]
     },
     "execution_count": 18,
     "metadata": {},
     "output_type": "execute_result"
    }
   ],
   "source": [
    "xyz_block_to_omol(test_file[0][-1].to_XYZ_block(), total_charge=0)"
   ]
  },
  {
   "cell_type": "markdown",
   "metadata": {},
   "source": [
    "### rdDeterminBonds"
   ]
  },
  {
   "cell_type": "code",
   "execution_count": 19,
   "metadata": {},
   "outputs": [
    {
     "name": "stdout",
     "output_type": "stream",
     "text": [
      "determineBondOrdering() does not work with element Cu\n"
     ]
    }
   ],
   "source": [
    "raw_mol = Chem.MolFromXYZBlock(test_file[0][-1].to_XYZ_block())\n",
    "conn_mol = Chem.Mol(raw_mol)\n",
    "try:\n",
    "    rdDetermineBonds.DetermineBonds(conn_mol, charge=0)\n",
    "except Exception as e:\n",
    "    print(e)"
   ]
  }
 ],
 "metadata": {
  "kernelspec": {
   "display_name": "molop",
   "language": "python",
   "name": "python3"
  },
  "language_info": {
   "codemirror_mode": {
    "name": "ipython",
    "version": 3
   },
   "file_extension": ".py",
   "mimetype": "text/x-python",
   "name": "python",
   "nbconvert_exporter": "python",
   "pygments_lexer": "ipython3",
   "version": "3.8.19"
  }
 },
 "nbformat": 4,
 "nbformat_minor": 2
}
