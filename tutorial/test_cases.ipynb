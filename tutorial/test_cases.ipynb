{
 "cells": [
  {
   "cell_type": "markdown",
   "metadata": {},
   "source": [
    "# Test Cases"
   ]
  },
  {
   "cell_type": "code",
   "execution_count": 1,
   "metadata": {},
   "outputs": [],
   "source": [
    "from molop.io import AutoParser\n",
    "from molop.structure.structure_recovery import *\n",
    "from rdkit.Chem.Draw import IPythonConsole\n",
    "from openbabel import pybel\n",
    "import logging\n",
    "\n",
    "IPythonConsole.drawOptions.addAtomIndices = True\n",
    "IPythonConsole.molSize = 400, 400"
   ]
  },
  {
   "cell_type": "code",
   "execution_count": 5,
   "metadata": {},
   "outputs": [
    {
     "name": "stderr",
     "output_type": "stream",
     "text": [
      "MolOP parsing with 16 jobs: 100%|██████████| 274/274 [00:01<00:00, 235.24it/s]\n",
      "0 files failed to parse, 274 successfully parsed\n"
     ]
    },
    {
     "name": "stdout",
     "output_type": "stream",
     "text": [
      "|     | parser         | file_path                                                             | file_name   | file_format   |   frame_index |   charge |   multiplicity | SMILES                                      |\n",
      "|----:|:---------------|:----------------------------------------------------------------------|:------------|:--------------|--------------:|---------:|---------------:|:--------------------------------------------|\n",
      "|   0 | XYZBlockParser | /home/tmj/proj/MolOP/tests/test_files/xyz/dsgdb9nsd_013657-7-/14.xyz  | 14.xyz      | .xyz          |             0 |       -1 |              1 | [C]#C[C-]1CN1C.[C]=O.[H]                    |\n",
      "|   1 | XYZBlockParser | /home/tmj/proj/MolOP/tests/test_files/xyz/dsgdb9nsd_025320-1-/0.xyz   | 0.xyz       | .xyz          |             0 |       -1 |              1 | C#Cc1[nH]cnc1[C-]=O                         |\n",
      "|   2 | XYZBlockParser | /home/tmj/proj/MolOP/tests/test_files/xyz/dsgdb9nsd_025321-1-/0.xyz   | 0.xyz       | .xyz          |             0 |       -1 |              1 | N#Cc1[nH]cnc1[C-]=O                         |\n",
      "|   3 | XYZBlockParser | /home/tmj/proj/MolOP/tests/test_files/xyz/dsgdb9nsd_025323-1-/0.xyz   | 0.xyz       | .xyz          |             0 |       -1 |              1 | N#Cc1occc1[C-]=O                            |\n",
      "|   4 | XYZBlockParser | /home/tmj/proj/MolOP/tests/test_files/xyz/dsgdb9nsd_025344-1-/0.xyz   | 0.xyz       | .xyz          |             0 |       -1 |              1 | O=C=C1C=CNC([O-])=C1                        |\n",
      "|   5 | XYZBlockParser | /home/tmj/proj/MolOP/tests/test_files/xyz/dsgdb9nsd_025427-1-/0.xyz   | 0.xyz       | .xyz          |             0 |       -1 |              1 | C#CC1=NC(=C=O)[CH-]O1                       |\n",
      "|   6 | XYZBlockParser | /home/tmj/proj/MolOP/tests/test_files/xyz/dsgdb9nsd_027966-3-/0.xyz   | 0.xyz       | .xyz          |             0 |       -1 |              1 | O=[C-]c1cncc(O)c1                           |\n",
      "|   7 | XYZBlockParser | /home/tmj/proj/MolOP/tests/test_files/xyz/dsgdb9nsd_028251-5/10.xyz   | 10.xyz      | .xyz          |             0 |        0 |              2 | [O-][C]1C=C2C[NH2+]C=C2O1                   |\n",
      "|   8 | XYZBlockParser | /home/tmj/proj/MolOP/tests/test_files/xyz/dsgdb9nsd_028251-5/11.xyz   | 11.xyz      | .xyz          |             0 |        0 |              2 | [O-][C]1C=C2C[NH2+]C=C2O1                   |\n",
      "|   9 | XYZBlockParser | /home/tmj/proj/MolOP/tests/test_files/xyz/dsgdb9nsd_028251-5/8.xyz    | 8.xyz       | .xyz          |             0 |        0 |              2 | [O-][C]1C=C2C[NH2+]C=C2O1                   |\n",
      "|  10 | XYZBlockParser | /home/tmj/proj/MolOP/tests/test_files/xyz/dsgdb9nsd_028251-5/9.xyz    | 9.xyz       | .xyz          |             0 |        0 |              2 | [O-][C]1C=C2C[NH2+]C=C2O1                   |\n",
      "|  11 | XYZBlockParser | /home/tmj/proj/MolOP/tests/test_files/xyz/dsgdb9nsd_033400-3/0.xyz    | 0.xyz       | .xyz          |             0 |        0 |              2 | N#C[C-](C#N)[C]1C[NH2+]C1                   |\n",
      "|  12 | XYZBlockParser | /home/tmj/proj/MolOP/tests/test_files/xyz/dsgdb9nsd_033400-3/1.xyz    | 1.xyz       | .xyz          |             0 |        0 |              2 | N#C[C-](C#N)[C]1C[NH2+]C1                   |\n",
      "|  13 | XYZBlockParser | /home/tmj/proj/MolOP/tests/test_files/xyz/dsgdb9nsd_033400-3/10.xyz   | 10.xyz      | .xyz          |             0 |        0 |              2 | N#C[C-](C#N)[C]1C[NH2+]C1                   |\n",
      "|  14 | XYZBlockParser | /home/tmj/proj/MolOP/tests/test_files/xyz/dsgdb9nsd_033400-3/11.xyz   | 11.xyz      | .xyz          |             0 |        0 |              2 | N#C[C-](C#N)[C]1C[NH2+]C1                   |\n",
      "|  15 | XYZBlockParser | /home/tmj/proj/MolOP/tests/test_files/xyz/dsgdb9nsd_033400-3/12.xyz   | 12.xyz      | .xyz          |             0 |        0 |              2 | N#C[C-](C#N)[C]1C[NH2+]C1                   |\n",
      "|  16 | XYZBlockParser | /home/tmj/proj/MolOP/tests/test_files/xyz/dsgdb9nsd_033400-3/13.xyz   | 13.xyz      | .xyz          |             0 |        0 |              2 | N#C[C-](C#N)[C]1C[NH2+]C1                   |\n",
      "|  17 | XYZBlockParser | /home/tmj/proj/MolOP/tests/test_files/xyz/dsgdb9nsd_033400-3/14.xyz   | 14.xyz      | .xyz          |             0 |        0 |              2 | N#C[C-](C#N)[C]1C[NH2+]C1                   |\n",
      "|  18 | XYZBlockParser | /home/tmj/proj/MolOP/tests/test_files/xyz/dsgdb9nsd_033400-3/15.xyz   | 15.xyz      | .xyz          |             0 |        0 |              2 | N#C[C-](C#N)[C]1C[NH2+]C1                   |\n",
      "|  19 | XYZBlockParser | /home/tmj/proj/MolOP/tests/test_files/xyz/dsgdb9nsd_033400-3/16.xyz   | 16.xyz      | .xyz          |             0 |        0 |              2 | N#C[C-](C#N)[C]1C[NH2+]C1                   |\n",
      "|  20 | XYZBlockParser | /home/tmj/proj/MolOP/tests/test_files/xyz/dsgdb9nsd_033400-3/17.xyz   | 17.xyz      | .xyz          |             0 |        0 |              2 | N#CC([C]=[N-])=C1C[NH2+]C1                  |\n",
      "|  21 | XYZBlockParser | /home/tmj/proj/MolOP/tests/test_files/xyz/dsgdb9nsd_033400-3/18.xyz   | 18.xyz      | .xyz          |             0 |        0 |              2 | N#CC([C]=[N-])=C1C[NH2+]C1                  |\n",
      "|  22 | XYZBlockParser | /home/tmj/proj/MolOP/tests/test_files/xyz/dsgdb9nsd_033400-3/19.xyz   | 19.xyz      | .xyz          |             0 |        0 |              2 | N#CC([C]=[N-])=C1C[NH2+]C1                  |\n",
      "|  23 | XYZBlockParser | /home/tmj/proj/MolOP/tests/test_files/xyz/dsgdb9nsd_033400-3/2.xyz    | 2.xyz       | .xyz          |             0 |        0 |              2 | N#C[C-](C#N)[C]1C[NH2+]C1                   |\n",
      "|  24 | XYZBlockParser | /home/tmj/proj/MolOP/tests/test_files/xyz/dsgdb9nsd_033400-3/20.xyz   | 20.xyz      | .xyz          |             0 |        0 |              2 | N#CC([C]=[N-])=C1C[NH2+]C1                  |\n",
      "|  25 | XYZBlockParser | /home/tmj/proj/MolOP/tests/test_files/xyz/dsgdb9nsd_033400-3/21.xyz   | 21.xyz      | .xyz          |             0 |        0 |              2 | N#CC([C]=[N-])=C1C[NH2+]C1                  |\n",
      "|  26 | XYZBlockParser | /home/tmj/proj/MolOP/tests/test_files/xyz/dsgdb9nsd_033400-3/22.xyz   | 22.xyz      | .xyz          |             0 |        0 |              2 | N#C[C-](C#N)[C]1C[NH2+]C1                   |\n",
      "|  27 | XYZBlockParser | /home/tmj/proj/MolOP/tests/test_files/xyz/dsgdb9nsd_033400-3/23.xyz   | 23.xyz      | .xyz          |             0 |        0 |              2 | N#CC([C]=[N-])=C1C[NH2+]C1                  |\n",
      "|  28 | XYZBlockParser | /home/tmj/proj/MolOP/tests/test_files/xyz/dsgdb9nsd_033400-3/24.xyz   | 24.xyz      | .xyz          |             0 |        0 |              2 | N#CC([C]=[N-])=C1C[NH2+]C1                  |\n",
      "|  29 | XYZBlockParser | /home/tmj/proj/MolOP/tests/test_files/xyz/dsgdb9nsd_033400-3/25.xyz   | 25.xyz      | .xyz          |             0 |        0 |              2 | N#CC([C]=[N-])=C1C[NH2+]C1                  |\n",
      "|  30 | XYZBlockParser | /home/tmj/proj/MolOP/tests/test_files/xyz/dsgdb9nsd_033400-3/26.xyz   | 26.xyz      | .xyz          |             0 |        0 |              2 | N#CC([C]=[N-])=C1C[NH2+]C1                  |\n",
      "|  31 | XYZBlockParser | /home/tmj/proj/MolOP/tests/test_files/xyz/dsgdb9nsd_033400-3/27.xyz   | 27.xyz      | .xyz          |             0 |        0 |              2 | N#CC([C]=[N-])=C1C[NH2+]C1                  |\n",
      "|  32 | XYZBlockParser | /home/tmj/proj/MolOP/tests/test_files/xyz/dsgdb9nsd_033400-3/28.xyz   | 28.xyz      | .xyz          |             0 |        0 |              2 | N#CC([C]=[N-])=C1C[NH2+]C1                  |\n",
      "|  33 | XYZBlockParser | /home/tmj/proj/MolOP/tests/test_files/xyz/dsgdb9nsd_033400-3/3.xyz    | 3.xyz       | .xyz          |             0 |        0 |              2 | N#C[C-](C#N)[C]1C[NH2+]C1                   |\n",
      "|  34 | XYZBlockParser | /home/tmj/proj/MolOP/tests/test_files/xyz/dsgdb9nsd_033400-3/4.xyz    | 4.xyz       | .xyz          |             0 |        0 |              2 | N#C[C-](C#N)[C]1C[NH2+]C1                   |\n",
      "|  35 | XYZBlockParser | /home/tmj/proj/MolOP/tests/test_files/xyz/dsgdb9nsd_033400-3/5.xyz    | 5.xyz       | .xyz          |             0 |        0 |              2 | N#C[C-](C#N)[C]1C[NH2+]C1                   |\n",
      "|  36 | XYZBlockParser | /home/tmj/proj/MolOP/tests/test_files/xyz/dsgdb9nsd_033400-3/6.xyz    | 6.xyz       | .xyz          |             0 |        0 |              2 | N#C[C-](C#N)[C]1C[NH2+]C1                   |\n",
      "|  37 | XYZBlockParser | /home/tmj/proj/MolOP/tests/test_files/xyz/dsgdb9nsd_033400-3/7.xyz    | 7.xyz       | .xyz          |             0 |        0 |              2 | N#C[C-](C#N)[C]1C[NH2+]C1                   |\n",
      "|  38 | XYZBlockParser | /home/tmj/proj/MolOP/tests/test_files/xyz/dsgdb9nsd_033400-3/8.xyz    | 8.xyz       | .xyz          |             0 |        0 |              2 | N#C[C-](C#N)[C]1C[NH2+]C1                   |\n",
      "|  39 | XYZBlockParser | /home/tmj/proj/MolOP/tests/test_files/xyz/dsgdb9nsd_033400-3/9.xyz    | 9.xyz       | .xyz          |             0 |        0 |              2 | N#C[C-](C#N)[C]1C[NH2+]C1                   |\n",
      "|  40 | XYZBlockParser | /home/tmj/proj/MolOP/tests/test_files/xyz/dsgdb9nsd_042424-3/0.xyz    | 0.xyz       | .xyz          |             0 |        0 |              2 | N#C/C([O-])=N/[C]1C[NH2+]C1                 |\n",
      "|  41 | XYZBlockParser | /home/tmj/proj/MolOP/tests/test_files/xyz/dsgdb9nsd_042424-3/1.xyz    | 1.xyz       | .xyz          |             0 |        0 |              2 | N#C/C([O-])=N/[C]1C[NH2+]C1                 |\n",
      "|  42 | XYZBlockParser | /home/tmj/proj/MolOP/tests/test_files/xyz/dsgdb9nsd_042424-3/10.xyz   | 10.xyz      | .xyz          |             0 |        0 |              2 | N#C[C]([O-])N=C1C[NH2+]C1                   |\n",
      "|  43 | XYZBlockParser | /home/tmj/proj/MolOP/tests/test_files/xyz/dsgdb9nsd_042424-3/11.xyz   | 11.xyz      | .xyz          |             0 |        0 |              2 | N#C[C]([O-])N=C1C[NH2+]C1                   |\n",
      "|  44 | XYZBlockParser | /home/tmj/proj/MolOP/tests/test_files/xyz/dsgdb9nsd_042424-3/12.xyz   | 12.xyz      | .xyz          |             0 |        0 |              2 | N#C[C]([O-])N=C1C[NH2+]C1                   |\n",
      "|  45 | XYZBlockParser | /home/tmj/proj/MolOP/tests/test_files/xyz/dsgdb9nsd_042424-3/13.xyz   | 13.xyz      | .xyz          |             0 |        0 |              2 | N#C[C]([O-])N=C1C[NH2+]C1                   |\n",
      "|  46 | XYZBlockParser | /home/tmj/proj/MolOP/tests/test_files/xyz/dsgdb9nsd_042424-3/14.xyz   | 14.xyz      | .xyz          |             0 |        0 |              2 | N#C[C]([O-])N=C1C[NH2+]C1                   |\n",
      "|  47 | XYZBlockParser | /home/tmj/proj/MolOP/tests/test_files/xyz/dsgdb9nsd_042424-3/15.xyz   | 15.xyz      | .xyz          |             0 |        0 |              2 | N#C[C]([O-])N=C1C[NH2+]C1                   |\n",
      "|  48 | XYZBlockParser | /home/tmj/proj/MolOP/tests/test_files/xyz/dsgdb9nsd_042424-3/16.xyz   | 16.xyz      | .xyz          |             0 |        0 |              2 | N#C[C]([O-])N=C1C[NH2+]C1                   |\n",
      "|  49 | XYZBlockParser | /home/tmj/proj/MolOP/tests/test_files/xyz/dsgdb9nsd_042424-3/17.xyz   | 17.xyz      | .xyz          |             0 |        0 |              2 | N#C[C]([O-])N=C1C[NH2+]C1                   |\n",
      "|  50 | XYZBlockParser | /home/tmj/proj/MolOP/tests/test_files/xyz/dsgdb9nsd_042424-3/18.xyz   | 18.xyz      | .xyz          |             0 |        0 |              2 | N#C[C]([O-])N=C1C[NH2+]C1                   |\n",
      "|  51 | XYZBlockParser | /home/tmj/proj/MolOP/tests/test_files/xyz/dsgdb9nsd_042424-3/19.xyz   | 19.xyz      | .xyz          |             0 |        0 |              2 | N#C[C]([O-])N=C1C[NH2+]C1                   |\n",
      "|  52 | XYZBlockParser | /home/tmj/proj/MolOP/tests/test_files/xyz/dsgdb9nsd_042424-3/2.xyz    | 2.xyz       | .xyz          |             0 |        0 |              2 | N#C/C([O-])=N/[C]1C[NH2+]C1                 |\n",
      "|  53 | XYZBlockParser | /home/tmj/proj/MolOP/tests/test_files/xyz/dsgdb9nsd_042424-3/20.xyz   | 20.xyz      | .xyz          |             0 |        0 |              2 | N#C[C]([O-])N=C1C[NH2+]C1                   |\n",
      "|  54 | XYZBlockParser | /home/tmj/proj/MolOP/tests/test_files/xyz/dsgdb9nsd_042424-3/3.xyz    | 3.xyz       | .xyz          |             0 |        0 |              2 | N#C/C([O-])=N/[C]1C[NH2+]C1                 |\n",
      "|  55 | XYZBlockParser | /home/tmj/proj/MolOP/tests/test_files/xyz/dsgdb9nsd_042424-3/4.xyz    | 4.xyz       | .xyz          |             0 |        0 |              2 | N#C/C([O-])=N/[C]1C[NH2+]C1                 |\n",
      "|  56 | XYZBlockParser | /home/tmj/proj/MolOP/tests/test_files/xyz/dsgdb9nsd_042424-3/5.xyz    | 5.xyz       | .xyz          |             0 |        0 |              2 | N#C/C([O-])=N/[C]1C[NH2+]C1                 |\n",
      "|  57 | XYZBlockParser | /home/tmj/proj/MolOP/tests/test_files/xyz/dsgdb9nsd_042424-3/6.xyz    | 6.xyz       | .xyz          |             0 |        0 |              2 | N#C[C]([O-])N=C1C[NH2+]C1                   |\n",
      "|  58 | XYZBlockParser | /home/tmj/proj/MolOP/tests/test_files/xyz/dsgdb9nsd_042424-3/7.xyz    | 7.xyz       | .xyz          |             0 |        0 |              2 | N#C[C]([O-])N=C1C[NH2+]C1                   |\n",
      "|  59 | XYZBlockParser | /home/tmj/proj/MolOP/tests/test_files/xyz/dsgdb9nsd_042424-3/8.xyz    | 8.xyz       | .xyz          |             0 |        0 |              2 | N#C[C]([O-])N=C1C[NH2+]C1                   |\n",
      "|  60 | XYZBlockParser | /home/tmj/proj/MolOP/tests/test_files/xyz/dsgdb9nsd_042424-3/9.xyz    | 9.xyz       | .xyz          |             0 |        0 |              2 | N#C[C]([O-])N=C1C[NH2+]C1                   |\n",
      "|  61 | XYZBlockParser | /home/tmj/proj/MolOP/tests/test_files/xyz/dsgdb9nsd_046611-4/1.xyz    | 1.xyz       | .xyz          |             0 |        0 |              2 | [O-][C]1C=NC2=C1C[NH2+]C2                   |\n",
      "|  62 | XYZBlockParser | /home/tmj/proj/MolOP/tests/test_files/xyz/dsgdb9nsd_046611-4/10.xyz   | 10.xyz      | .xyz          |             0 |        0 |              2 | [O-][C]1C=NC2=C1C[NH2+]C2                   |\n",
      "|  63 | XYZBlockParser | /home/tmj/proj/MolOP/tests/test_files/xyz/dsgdb9nsd_046611-4/11.xyz   | 11.xyz      | .xyz          |             0 |        0 |              2 | [O-][C]1C=NC2=C1C[NH2+]C2                   |\n",
      "|  64 | XYZBlockParser | /home/tmj/proj/MolOP/tests/test_files/xyz/dsgdb9nsd_046611-4/12.xyz   | 12.xyz      | .xyz          |             0 |        0 |              2 | [O-][C]1C=NC2=C1C[NH2+]C2                   |\n",
      "|  65 | XYZBlockParser | /home/tmj/proj/MolOP/tests/test_files/xyz/dsgdb9nsd_046611-4/2.xyz    | 2.xyz       | .xyz          |             0 |        0 |              2 | [O-][C]1C=NC2=C1C[NH2+]C2                   |\n",
      "|  66 | XYZBlockParser | /home/tmj/proj/MolOP/tests/test_files/xyz/dsgdb9nsd_046611-4/3.xyz    | 3.xyz       | .xyz          |             0 |        0 |              2 | [O-][C]1C=NC2=C1C[NH2+]C2                   |\n",
      "|  67 | XYZBlockParser | /home/tmj/proj/MolOP/tests/test_files/xyz/dsgdb9nsd_046611-4/4.xyz    | 4.xyz       | .xyz          |             0 |        0 |              2 | [O-][C]1C=NC2=C1C[NH2+]C2                   |\n",
      "|  68 | XYZBlockParser | /home/tmj/proj/MolOP/tests/test_files/xyz/dsgdb9nsd_046611-4/5.xyz    | 5.xyz       | .xyz          |             0 |        0 |              2 | [O-][C]1C=NC2=C1C[NH2+]C2                   |\n",
      "|  69 | XYZBlockParser | /home/tmj/proj/MolOP/tests/test_files/xyz/dsgdb9nsd_046611-4/6.xyz    | 6.xyz       | .xyz          |             0 |        0 |              2 | [O-][C]1C=NC2=C1C[NH2+]C2                   |\n",
      "|  70 | XYZBlockParser | /home/tmj/proj/MolOP/tests/test_files/xyz/dsgdb9nsd_046611-4/7.xyz    | 7.xyz       | .xyz          |             0 |        0 |              2 | [O-][C]1C=NC2=C1C[NH2+]C2                   |\n",
      "|  71 | XYZBlockParser | /home/tmj/proj/MolOP/tests/test_files/xyz/dsgdb9nsd_046611-4/8.xyz    | 8.xyz       | .xyz          |             0 |        0 |              2 | [O-][C]1C=NC2=C1C[NH2+]C2                   |\n",
      "|  72 | XYZBlockParser | /home/tmj/proj/MolOP/tests/test_files/xyz/dsgdb9nsd_046611-4/9.xyz    | 9.xyz       | .xyz          |             0 |        0 |              2 | [O-][C]1C=NC2=C1C[NH2+]C2                   |\n",
      "|  73 | XYZBlockParser | /home/tmj/proj/MolOP/tests/test_files/xyz/dsgdb9nsd_050736-5/0.xyz    | 0.xyz       | .xyz          |             0 |        0 |              2 | O=C1C[NH2+]C[CH]/C1=C/[O-]                  |\n",
      "|  74 | XYZBlockParser | /home/tmj/proj/MolOP/tests/test_files/xyz/dsgdb9nsd_050736-5/1.xyz    | 1.xyz       | .xyz          |             0 |        0 |              2 | O=C1C[NH2+]C[CH]/C1=C/[O-]                  |\n",
      "|  75 | XYZBlockParser | /home/tmj/proj/MolOP/tests/test_files/xyz/dsgdb9nsd_050736-5/10.xyz   | 10.xyz      | .xyz          |             0 |        0 |              2 | O=C1C[NH2+]CC=C1[CH][O-]                    |\n",
      "|  76 | XYZBlockParser | /home/tmj/proj/MolOP/tests/test_files/xyz/dsgdb9nsd_050736-5/11.xyz   | 11.xyz      | .xyz          |             0 |        0 |              2 | O=C1C[NH2+]CC=C1[CH][O-]                    |\n",
      "|  77 | XYZBlockParser | /home/tmj/proj/MolOP/tests/test_files/xyz/dsgdb9nsd_050736-5/12.xyz   | 12.xyz      | .xyz          |             0 |        0 |              2 | O=C1C[NH2+]CC=C1[CH][O-]                    |\n",
      "|  78 | XYZBlockParser | /home/tmj/proj/MolOP/tests/test_files/xyz/dsgdb9nsd_050736-5/13.xyz   | 13.xyz      | .xyz          |             0 |        0 |              2 | O=C1C[NH2+]CC=C1[CH][O-]                    |\n",
      "|  79 | XYZBlockParser | /home/tmj/proj/MolOP/tests/test_files/xyz/dsgdb9nsd_050736-5/14.xyz   | 14.xyz      | .xyz          |             0 |        0 |              2 | O=C1C[NH2+]CC=C1[CH][O-]                    |\n",
      "|  80 | XYZBlockParser | /home/tmj/proj/MolOP/tests/test_files/xyz/dsgdb9nsd_050736-5/15.xyz   | 15.xyz      | .xyz          |             0 |        0 |              2 | O=C1C[NH2+]CC=C1[CH][O-]                    |\n",
      "|  81 | XYZBlockParser | /home/tmj/proj/MolOP/tests/test_files/xyz/dsgdb9nsd_050736-5/16.xyz   | 16.xyz      | .xyz          |             0 |        0 |              2 | O=C1C[NH2+]CC=C1[CH][O-]                    |\n",
      "|  82 | XYZBlockParser | /home/tmj/proj/MolOP/tests/test_files/xyz/dsgdb9nsd_050736-5/17.xyz   | 17.xyz      | .xyz          |             0 |        0 |              2 | O=C1C[NH2+]CC=C1[CH][O-]                    |\n",
      "|  83 | XYZBlockParser | /home/tmj/proj/MolOP/tests/test_files/xyz/dsgdb9nsd_050736-5/18.xyz   | 18.xyz      | .xyz          |             0 |        0 |              2 | O=C1C[NH2+]CC=C1[CH][O-]                    |\n",
      "|  84 | XYZBlockParser | /home/tmj/proj/MolOP/tests/test_files/xyz/dsgdb9nsd_050736-5/2.xyz    | 2.xyz       | .xyz          |             0 |        0 |              2 | O=C1C[NH2+]C[CH]/C1=C/[O-]                  |\n",
      "|  85 | XYZBlockParser | /home/tmj/proj/MolOP/tests/test_files/xyz/dsgdb9nsd_050736-5/3.xyz    | 3.xyz       | .xyz          |             0 |        0 |              2 | O=C1C[NH2+]C[CH]/C1=C/[O-]                  |\n",
      "|  86 | XYZBlockParser | /home/tmj/proj/MolOP/tests/test_files/xyz/dsgdb9nsd_050736-5/4.xyz    | 4.xyz       | .xyz          |             0 |        0 |              2 | O=C1C[NH2+]C[CH]/C1=C/[O-]                  |\n",
      "|  87 | XYZBlockParser | /home/tmj/proj/MolOP/tests/test_files/xyz/dsgdb9nsd_050736-5/5.xyz    | 5.xyz       | .xyz          |             0 |        0 |              2 | O=C1C[NH2+]C[CH]/C1=C/[O-]                  |\n",
      "|  88 | XYZBlockParser | /home/tmj/proj/MolOP/tests/test_files/xyz/dsgdb9nsd_050736-5/6.xyz    | 6.xyz       | .xyz          |             0 |        0 |              2 | O=C1C[NH2+]CC=C1[CH][O-]                    |\n",
      "|  89 | XYZBlockParser | /home/tmj/proj/MolOP/tests/test_files/xyz/dsgdb9nsd_050736-5/7.xyz    | 7.xyz       | .xyz          |             0 |        0 |              2 | O=C1C[NH2+]CC=C1[CH][O-]                    |\n",
      "|  90 | XYZBlockParser | /home/tmj/proj/MolOP/tests/test_files/xyz/dsgdb9nsd_050736-5/8.xyz    | 8.xyz       | .xyz          |             0 |        0 |              2 | O=C1C[NH2+]CC=C1[CH][O-]                    |\n",
      "|  91 | XYZBlockParser | /home/tmj/proj/MolOP/tests/test_files/xyz/dsgdb9nsd_050736-5/9.xyz    | 9.xyz       | .xyz          |             0 |        0 |              2 | O=C1C[NH2+]C[CH]/C1=C/[O-]                  |\n",
      "|  92 | XYZBlockParser | /home/tmj/proj/MolOP/tests/test_files/xyz/dsgdb9nsd_053943-6/0.xyz    | 0.xyz       | .xyz          |             0 |        0 |              2 | O=C=O.[CH2-][C]([NH3+])C(N)=O               |\n",
      "|  93 | XYZBlockParser | /home/tmj/proj/MolOP/tests/test_files/xyz/dsgdb9nsd_053943-6/1.xyz    | 1.xyz       | .xyz          |             0 |        0 |              2 | O=C=O.[CH2-][C]([NH3+])C(N)=O               |\n",
      "|  94 | XYZBlockParser | /home/tmj/proj/MolOP/tests/test_files/xyz/dsgdb9nsd_053943-6/10.xyz   | 10.xyz      | .xyz          |             0 |        0 |              2 | O=C=O.[CH2-][C]([NH3+])C(N)=O               |\n",
      "|  95 | XYZBlockParser | /home/tmj/proj/MolOP/tests/test_files/xyz/dsgdb9nsd_053943-6/11.xyz   | 11.xyz      | .xyz          |             0 |        0 |              2 | O=C=O.[CH2-][C]([NH3+])C(N)=O               |\n",
      "|  96 | XYZBlockParser | /home/tmj/proj/MolOP/tests/test_files/xyz/dsgdb9nsd_053943-6/12.xyz   | 12.xyz      | .xyz          |             0 |        0 |              2 | O=C=O.[CH2-][C]([NH3+])C(N)=O               |\n",
      "|  97 | XYZBlockParser | /home/tmj/proj/MolOP/tests/test_files/xyz/dsgdb9nsd_053943-6/13.xyz   | 13.xyz      | .xyz          |             0 |        0 |              2 | O=C=O.[CH2-][C]([NH3+])C(N)=O               |\n",
      "|  98 | XYZBlockParser | /home/tmj/proj/MolOP/tests/test_files/xyz/dsgdb9nsd_053943-6/14.xyz   | 14.xyz      | .xyz          |             0 |        0 |              2 | O=C=O.[CH2-][C]([NH3+])C(N)=O               |\n",
      "|  99 | XYZBlockParser | /home/tmj/proj/MolOP/tests/test_files/xyz/dsgdb9nsd_053943-6/15.xyz   | 15.xyz      | .xyz          |             0 |        0 |              2 | O=C=O.[CH2-][C]([NH3+])C(N)=O               |\n",
      "| 100 | XYZBlockParser | /home/tmj/proj/MolOP/tests/test_files/xyz/dsgdb9nsd_053943-6/16.xyz   | 16.xyz      | .xyz          |             0 |        0 |              2 | O=C=O.[CH2-][C]([NH3+])C(N)=O               |\n",
      "| 101 | XYZBlockParser | /home/tmj/proj/MolOP/tests/test_files/xyz/dsgdb9nsd_053943-6/17.xyz   | 17.xyz      | .xyz          |             0 |        0 |              2 | O=C=O.[CH2-][C]([NH3+])C(N)=O               |\n",
      "| 102 | XYZBlockParser | /home/tmj/proj/MolOP/tests/test_files/xyz/dsgdb9nsd_053943-6/18.xyz   | 18.xyz      | .xyz          |             0 |        0 |              2 | O=C=O.[CH2-][C]([NH3+])C(N)=O               |\n",
      "| 103 | XYZBlockParser | /home/tmj/proj/MolOP/tests/test_files/xyz/dsgdb9nsd_053943-6/19.xyz   | 19.xyz      | .xyz          |             0 |        0 |              2 | O=C=O.[CH2-][C]([NH3+])C(N)=O               |\n",
      "| 104 | XYZBlockParser | /home/tmj/proj/MolOP/tests/test_files/xyz/dsgdb9nsd_053943-6/2.xyz    | 2.xyz       | .xyz          |             0 |        0 |              2 | O=C=O.[CH2-][C]([NH3+])C(N)=O               |\n",
      "| 105 | XYZBlockParser | /home/tmj/proj/MolOP/tests/test_files/xyz/dsgdb9nsd_053943-6/20.xyz   | 20.xyz      | .xyz          |             0 |        0 |              2 | O=C=O.[CH2-][C]([NH3+])C(N)=O               |\n",
      "| 106 | XYZBlockParser | /home/tmj/proj/MolOP/tests/test_files/xyz/dsgdb9nsd_053943-6/21.xyz   | 21.xyz      | .xyz          |             0 |        0 |              2 | O=C=O.[CH2-][C]([NH3+])C(N)=O               |\n",
      "| 107 | XYZBlockParser | /home/tmj/proj/MolOP/tests/test_files/xyz/dsgdb9nsd_053943-6/22.xyz   | 22.xyz      | .xyz          |             0 |        0 |              2 | O=C=O.[CH2-][C]([NH3+])C(N)=O               |\n",
      "| 108 | XYZBlockParser | /home/tmj/proj/MolOP/tests/test_files/xyz/dsgdb9nsd_053943-6/23.xyz   | 23.xyz      | .xyz          |             0 |        0 |              2 | O=C=O.[CH2-][C]([NH3+])C(N)=O               |\n",
      "| 109 | XYZBlockParser | /home/tmj/proj/MolOP/tests/test_files/xyz/dsgdb9nsd_053943-6/24.xyz   | 24.xyz      | .xyz          |             0 |        0 |              2 | O=C=O.[CH2-][C]([NH3+])C(N)=O               |\n",
      "| 110 | XYZBlockParser | /home/tmj/proj/MolOP/tests/test_files/xyz/dsgdb9nsd_053943-6/25.xyz   | 25.xyz      | .xyz          |             0 |        0 |              2 | O=C=O.[CH2-][C]([NH3+])C(N)=O               |\n",
      "| 111 | XYZBlockParser | /home/tmj/proj/MolOP/tests/test_files/xyz/dsgdb9nsd_053943-6/3.xyz    | 3.xyz       | .xyz          |             0 |        0 |              2 | O=C=O.[CH2-][C]([NH3+])C(N)=O               |\n",
      "| 112 | XYZBlockParser | /home/tmj/proj/MolOP/tests/test_files/xyz/dsgdb9nsd_053943-6/4.xyz    | 4.xyz       | .xyz          |             0 |        0 |              2 | O=C=O.[CH2-][C]([NH3+])C(N)=O               |\n",
      "| 113 | XYZBlockParser | /home/tmj/proj/MolOP/tests/test_files/xyz/dsgdb9nsd_053943-6/5.xyz    | 5.xyz       | .xyz          |             0 |        0 |              2 | O=C=O.[CH2-][C]([NH3+])C(N)=O               |\n",
      "| 114 | XYZBlockParser | /home/tmj/proj/MolOP/tests/test_files/xyz/dsgdb9nsd_053943-6/6.xyz    | 6.xyz       | .xyz          |             0 |        0 |              2 | O=C=O.[CH2-][C]([NH3+])C(N)=O               |\n",
      "| 115 | XYZBlockParser | /home/tmj/proj/MolOP/tests/test_files/xyz/dsgdb9nsd_053943-6/7.xyz    | 7.xyz       | .xyz          |             0 |        0 |              2 | O=C=O.[CH2-][C]([NH3+])C(N)=O               |\n",
      "| 116 | XYZBlockParser | /home/tmj/proj/MolOP/tests/test_files/xyz/dsgdb9nsd_053943-6/8.xyz    | 8.xyz       | .xyz          |             0 |        0 |              2 | O=C=O.[CH2-][C]([NH3+])C(N)=O               |\n",
      "| 117 | XYZBlockParser | /home/tmj/proj/MolOP/tests/test_files/xyz/dsgdb9nsd_053943-6/9.xyz    | 9.xyz       | .xyz          |             0 |        0 |              2 | O=C=O.[CH2-][C]([NH3+])C(N)=O               |\n",
      "| 118 | XYZBlockParser | /home/tmj/proj/MolOP/tests/test_files/xyz/dsgdb9nsd_055036-9-/29.xyz  | 29.xyz      | .xyz          |             0 |       -1 |              1 | O=C1NC[C@@H]2O[C@H]12.[CH-]=C               |\n",
      "| 119 | XYZBlockParser | /home/tmj/proj/MolOP/tests/test_files/xyz/dsgdb9nsd_055036-9-/30.xyz  | 30.xyz      | .xyz          |             0 |       -1 |              1 | O=C1NC[C@@H]2O[C@H]12.[CH-]=C               |\n",
      "| 120 | XYZBlockParser | /home/tmj/proj/MolOP/tests/test_files/xyz/dsgdb9nsd_055036-9-/31.xyz  | 31.xyz      | .xyz          |             0 |       -1 |              1 | O=C1NC[C@@H]2O[C@H]12.[CH-]=C               |\n",
      "| 121 | XYZBlockParser | /home/tmj/proj/MolOP/tests/test_files/xyz/dsgdb9nsd_055036-9-/32.xyz  | 32.xyz      | .xyz          |             0 |       -1 |              1 | C=C[C@@H]1O[C@@H]1C(N)=O.[CH-]              |\n",
      "| 122 | XYZBlockParser | /home/tmj/proj/MolOP/tests/test_files/xyz/dsgdb9nsd_055036-9-/33.xyz  | 33.xyz      | .xyz          |             0 |       -1 |              1 | C=C[C@@H]1O[C@@H]1C(N)=O.[CH-]              |\n",
      "| 123 | XYZBlockParser | /home/tmj/proj/MolOP/tests/test_files/xyz/dsgdb9nsd_059823-7-/3.xyz   | 3.xyz       | .xyz          |             0 |       -1 |              1 | C[C-]C/[C-]=[C]\\C(=O)O[NH3+]                |\n",
      "| 124 | XYZBlockParser | /home/tmj/proj/MolOP/tests/test_files/xyz/dsgdb9nsd_065169-9/4.xyz    | 4.xyz       | .xyz          |             0 |        0 |              2 | [C-]=C1[C@@H]2O[C@@H]2[C@]2(C)C[N@H+]12     |\n",
      "| 125 | XYZBlockParser | /home/tmj/proj/MolOP/tests/test_files/xyz/dsgdb9nsd_075074-7-/0.xyz   | 0.xyz       | .xyz          |             0 |       -1 |              1 | [H]/N=[C-]/N1C(=O)CC=C1C                    |\n",
      "| 126 | XYZBlockParser | /home/tmj/proj/MolOP/tests/test_files/xyz/dsgdb9nsd_075079-6-/0.xyz   | 0.xyz       | .xyz          |             0 |       -1 |              1 | [H]/N=[C-]/N1C(=O)CN=C1C                    |\n",
      "| 127 | XYZBlockParser | /home/tmj/proj/MolOP/tests/test_files/xyz/dsgdb9nsd_091153-5/12.xyz   | 12.xyz      | .xyz          |             0 |        0 |              2 | O=C1[CH][CH-][N@@H+]2[C@@H]3[C@H](O)[C@]132 |\n",
      "| 128 | XYZBlockParser | /home/tmj/proj/MolOP/tests/test_files/xyz/dsgdb9nsd_091153-5/13.xyz   | 13.xyz      | .xyz          |             0 |        0 |              2 | O=C1[CH][CH-][N@@H+]2[C@@H]3[C@H](O)[C@]132 |\n",
      "| 129 | XYZBlockParser | /home/tmj/proj/MolOP/tests/test_files/xyz/dsgdb9nsd_091153-5/14.xyz   | 14.xyz      | .xyz          |             0 |        0 |              2 | O=C1C=C[N@@H+]2[CH-][C@H](O)[C]12           |\n",
      "| 130 | XYZBlockParser | /home/tmj/proj/MolOP/tests/test_files/xyz/dsgdb9nsd_091153-5/15.xyz   | 15.xyz      | .xyz          |             0 |        0 |              2 | O=C1[CH][CH-][N@@H+]2[C@@H]3[C@H](O)[C@]132 |\n",
      "| 131 | XYZBlockParser | /home/tmj/proj/MolOP/tests/test_files/xyz/dsgdb9nsd_091153-5/16.xyz   | 16.xyz      | .xyz          |             0 |        0 |              2 | O=C1C=C[N@@H+]2[CH-][C@H](O)[C]12           |\n",
      "| 132 | XYZBlockParser | /home/tmj/proj/MolOP/tests/test_files/xyz/dsgdb9nsd_091153-5/17.xyz   | 17.xyz      | .xyz          |             0 |        0 |              2 | O=C1C=C[N@@H+]2[CH-][C@H](O)[C]12           |\n",
      "| 133 | XYZBlockParser | /home/tmj/proj/MolOP/tests/test_files/xyz/dsgdb9nsd_093988-8/0.xyz    | 0.xyz       | .xyz          |             0 |        0 |              2 | C[C@H]1[NH2+][CH-][C](C=O)C1=O              |\n",
      "| 134 | XYZBlockParser | /home/tmj/proj/MolOP/tests/test_files/xyz/dsgdb9nsd_093988-8/1.xyz    | 1.xyz       | .xyz          |             0 |        0 |              2 | C[C@H]1[NH2+][CH-][C](C=O)C1=O              |\n",
      "| 135 | XYZBlockParser | /home/tmj/proj/MolOP/tests/test_files/xyz/dsgdb9nsd_093988-8/10.xyz   | 10.xyz      | .xyz          |             0 |        0 |              2 | C[C@H]1[NH2+][CH-][C](C=O)C1=O              |\n",
      "| 136 | XYZBlockParser | /home/tmj/proj/MolOP/tests/test_files/xyz/dsgdb9nsd_093988-8/11.xyz   | 11.xyz      | .xyz          |             0 |        0 |              2 | C[C@H]1[NH2+][CH-][C](C=O)C1=O              |\n",
      "| 137 | XYZBlockParser | /home/tmj/proj/MolOP/tests/test_files/xyz/dsgdb9nsd_093988-8/12.xyz   | 12.xyz      | .xyz          |             0 |        0 |              2 | C[C@H]1[NH2+][CH-][C](C=O)C1=O              |\n",
      "| 138 | XYZBlockParser | /home/tmj/proj/MolOP/tests/test_files/xyz/dsgdb9nsd_093988-8/13.xyz   | 13.xyz      | .xyz          |             0 |        0 |              2 | C[C@H]1[NH2+][CH-][C](C=O)C1=O              |\n",
      "| 139 | XYZBlockParser | /home/tmj/proj/MolOP/tests/test_files/xyz/dsgdb9nsd_093988-8/14.xyz   | 14.xyz      | .xyz          |             0 |        0 |              2 | C[C@H]1[NH2+][CH-][C](C=O)C1=O              |\n",
      "| 140 | XYZBlockParser | /home/tmj/proj/MolOP/tests/test_files/xyz/dsgdb9nsd_093988-8/15.xyz   | 15.xyz      | .xyz          |             0 |        0 |              2 | C[C@H]1[NH2+][CH-][C](C=O)C1=O              |\n",
      "| 141 | XYZBlockParser | /home/tmj/proj/MolOP/tests/test_files/xyz/dsgdb9nsd_093988-8/16.xyz   | 16.xyz      | .xyz          |             0 |        0 |              2 | C[C@H]1[NH2+][CH-][C](C=O)C1=O              |\n",
      "| 142 | XYZBlockParser | /home/tmj/proj/MolOP/tests/test_files/xyz/dsgdb9nsd_093988-8/17.xyz   | 17.xyz      | .xyz          |             0 |        0 |              2 | C[C@H]1[NH2+][CH-][C](C=O)C1=O              |\n",
      "| 143 | XYZBlockParser | /home/tmj/proj/MolOP/tests/test_files/xyz/dsgdb9nsd_093988-8/18.xyz   | 18.xyz      | .xyz          |             0 |        0 |              2 | C[C@H]1[NH2+][CH-][C](C=O)C1=O              |\n",
      "| 144 | XYZBlockParser | /home/tmj/proj/MolOP/tests/test_files/xyz/dsgdb9nsd_093988-8/19.xyz   | 19.xyz      | .xyz          |             0 |        0 |              2 | C[C@H]1[NH2+][CH-][C](C=O)C1=O              |\n",
      "| 145 | XYZBlockParser | /home/tmj/proj/MolOP/tests/test_files/xyz/dsgdb9nsd_093988-8/2.xyz    | 2.xyz       | .xyz          |             0 |        0 |              2 | C[C@H]1[NH2+][CH-][C](C=O)C1=O              |\n",
      "| 146 | XYZBlockParser | /home/tmj/proj/MolOP/tests/test_files/xyz/dsgdb9nsd_093988-8/20.xyz   | 20.xyz      | .xyz          |             0 |        0 |              2 | C[C@H]1[NH2+][CH-][C](C=O)C1=O              |\n",
      "| 147 | XYZBlockParser | /home/tmj/proj/MolOP/tests/test_files/xyz/dsgdb9nsd_093988-8/21.xyz   | 21.xyz      | .xyz          |             0 |        0 |              2 | C[C@H]1[NH2+][CH-][C](C=O)C1=O              |\n",
      "| 148 | XYZBlockParser | /home/tmj/proj/MolOP/tests/test_files/xyz/dsgdb9nsd_093988-8/3.xyz    | 3.xyz       | .xyz          |             0 |        0 |              2 | C[C@H]1[NH2+][CH-][C](C=O)C1=O              |\n",
      "| 149 | XYZBlockParser | /home/tmj/proj/MolOP/tests/test_files/xyz/dsgdb9nsd_093988-8/4.xyz    | 4.xyz       | .xyz          |             0 |        0 |              2 | C[C@H]1[NH2+][CH-][C](C=O)C1=O              |\n",
      "| 150 | XYZBlockParser | /home/tmj/proj/MolOP/tests/test_files/xyz/dsgdb9nsd_093988-8/5.xyz    | 5.xyz       | .xyz          |             0 |        0 |              2 | C[C@H]1[NH2+][CH-][C](C=O)C1=O              |\n",
      "| 151 | XYZBlockParser | /home/tmj/proj/MolOP/tests/test_files/xyz/dsgdb9nsd_093988-8/6.xyz    | 6.xyz       | .xyz          |             0 |        0 |              2 | C[C@H]1[NH2+][CH-][C](C=O)C1=O              |\n",
      "| 152 | XYZBlockParser | /home/tmj/proj/MolOP/tests/test_files/xyz/dsgdb9nsd_093988-8/7.xyz    | 7.xyz       | .xyz          |             0 |        0 |              2 | C[C@H]1[NH2+][CH-][C](C=O)C1=O              |\n",
      "| 153 | XYZBlockParser | /home/tmj/proj/MolOP/tests/test_files/xyz/dsgdb9nsd_093988-8/8.xyz    | 8.xyz       | .xyz          |             0 |        0 |              2 | C[C@H]1[NH2+][CH-][C](C=O)C1=O              |\n",
      "| 154 | XYZBlockParser | /home/tmj/proj/MolOP/tests/test_files/xyz/dsgdb9nsd_093988-8/9.xyz    | 9.xyz       | .xyz          |             0 |        0 |              2 | C[C@H]1[NH2+][CH-][C](C=O)C1=O              |\n",
      "| 155 | XYZBlockParser | /home/tmj/proj/MolOP/tests/test_files/xyz/dsgdb9nsd_093997-7/0.xyz    | 0.xyz       | .xyz          |             0 |        0 |              2 | O=C1/C(=[C]\\[O-])[NH2+]C[C@@H]1O            |\n",
      "| 156 | XYZBlockParser | /home/tmj/proj/MolOP/tests/test_files/xyz/dsgdb9nsd_093997-7/1.xyz    | 1.xyz       | .xyz          |             0 |        0 |              2 | O=C1/C(=[C]\\[O-])[NH2+]C[C@@H]1O            |\n",
      "| 157 | XYZBlockParser | /home/tmj/proj/MolOP/tests/test_files/xyz/dsgdb9nsd_093997-7/10.xyz   | 10.xyz      | .xyz          |             0 |        0 |              2 | O=C1/C(=[C]\\[O-])[NH2+]C[C@@H]1O            |\n",
      "| 158 | XYZBlockParser | /home/tmj/proj/MolOP/tests/test_files/xyz/dsgdb9nsd_093997-7/11.xyz   | 11.xyz      | .xyz          |             0 |        0 |              2 | O=C1/C(=[C]\\[O-])[NH2+]C[C@@H]1O            |\n",
      "| 159 | XYZBlockParser | /home/tmj/proj/MolOP/tests/test_files/xyz/dsgdb9nsd_093997-7/2.xyz    | 2.xyz       | .xyz          |             0 |        0 |              2 | O=C1/C(=[C]\\[O-])[NH2+]C[C@@H]1O            |\n",
      "| 160 | XYZBlockParser | /home/tmj/proj/MolOP/tests/test_files/xyz/dsgdb9nsd_093997-7/3.xyz    | 3.xyz       | .xyz          |             0 |        0 |              2 | O=C1/C(=[C]\\[O-])[NH2+]C[C@@H]1O            |\n",
      "| 161 | XYZBlockParser | /home/tmj/proj/MolOP/tests/test_files/xyz/dsgdb9nsd_093997-7/4.xyz    | 4.xyz       | .xyz          |             0 |        0 |              2 | O=C1/C(=[C]\\[O-])[NH2+]C[C@@H]1O            |\n",
      "| 162 | XYZBlockParser | /home/tmj/proj/MolOP/tests/test_files/xyz/dsgdb9nsd_093997-7/5.xyz    | 5.xyz       | .xyz          |             0 |        0 |              2 | O=C1/C(=[C]\\[O-])[NH2+]C[C@@H]1O            |\n",
      "| 163 | XYZBlockParser | /home/tmj/proj/MolOP/tests/test_files/xyz/dsgdb9nsd_093997-7/6.xyz    | 6.xyz       | .xyz          |             0 |        0 |              2 | O=C1/C(=[C]\\[O-])[NH2+]C[C@@H]1O            |\n",
      "| 164 | XYZBlockParser | /home/tmj/proj/MolOP/tests/test_files/xyz/dsgdb9nsd_093997-7/7.xyz    | 7.xyz       | .xyz          |             0 |        0 |              2 | O=C1/C(=[C]\\[O-])[NH2+]C[C@@H]1O            |\n",
      "| 165 | XYZBlockParser | /home/tmj/proj/MolOP/tests/test_files/xyz/dsgdb9nsd_093997-7/8.xyz    | 8.xyz       | .xyz          |             0 |        0 |              2 | O=C1/C(=[C]\\[O-])[NH2+]C[C@@H]1O            |\n",
      "| 166 | XYZBlockParser | /home/tmj/proj/MolOP/tests/test_files/xyz/dsgdb9nsd_093997-7/9.xyz    | 9.xyz       | .xyz          |             0 |        0 |              2 | O=C1/C(=[C]\\[O-])[NH2+]C[C@@H]1O            |\n",
      "| 167 | XYZBlockParser | /home/tmj/proj/MolOP/tests/test_files/xyz/dsgdb9nsd_094605-2/14.xyz   | 14.xyz      | .xyz          |             0 |        0 |              2 | N[C@H]1C[N@H+]2O[C]([O-])C[C@@H]12          |\n",
      "| 168 | XYZBlockParser | /home/tmj/proj/MolOP/tests/test_files/xyz/dsgdb9nsd_103131-11-/25.xyz | 25.xyz      | .xyz          |             0 |       -1 |              1 | CO[C@]1(CC[O-])[C][C@@H]1C                  |\n",
      "| 169 | XYZBlockParser | /home/tmj/proj/MolOP/tests/test_files/xyz/dsgdb9nsd_104601-5/0.xyz    | 0.xyz       | .xyz          |             0 |        0 |              2 | [NH3+][C-][C@@]1(CC(=O)O)CN1                |\n",
      "| 170 | XYZBlockParser | /home/tmj/proj/MolOP/tests/test_files/xyz/dsgdb9nsd_104601-5/1.xyz    | 1.xyz       | .xyz          |             0 |        0 |              2 | [NH3+][C-][C@@]1(CC(=O)O)CN1                |\n",
      "| 171 | XYZBlockParser | /home/tmj/proj/MolOP/tests/test_files/xyz/dsgdb9nsd_104601-5/10.xyz   | 10.xyz      | .xyz          |             0 |        0 |              2 | [NH3+][C-][C@@]1(CC(=O)O)CN1                |\n",
      "| 172 | XYZBlockParser | /home/tmj/proj/MolOP/tests/test_files/xyz/dsgdb9nsd_104601-5/11.xyz   | 11.xyz      | .xyz          |             0 |        0 |              2 | [NH3+][C-][C@@]1(CC(=O)O)CN1                |\n",
      "| 173 | XYZBlockParser | /home/tmj/proj/MolOP/tests/test_files/xyz/dsgdb9nsd_104601-5/12.xyz   | 12.xyz      | .xyz          |             0 |        0 |              2 | [NH3+][C-][C@@]1(CC(=O)O)CN1                |\n",
      "| 174 | XYZBlockParser | /home/tmj/proj/MolOP/tests/test_files/xyz/dsgdb9nsd_104601-5/13.xyz   | 13.xyz      | .xyz          |             0 |        0 |              2 | [NH3+][C-][C@@]1(CC(=O)O)CN1                |\n",
      "| 175 | XYZBlockParser | /home/tmj/proj/MolOP/tests/test_files/xyz/dsgdb9nsd_104601-5/14.xyz   | 14.xyz      | .xyz          |             0 |        0 |              2 | [NH3+][C-][C@@]1(CC(=O)O)CN1                |\n",
      "| 176 | XYZBlockParser | /home/tmj/proj/MolOP/tests/test_files/xyz/dsgdb9nsd_104601-5/15.xyz   | 15.xyz      | .xyz          |             0 |        0 |              2 | [NH3+][C-][C@@]1(CC(=O)O)CN1                |\n",
      "| 177 | XYZBlockParser | /home/tmj/proj/MolOP/tests/test_files/xyz/dsgdb9nsd_104601-5/16.xyz   | 16.xyz      | .xyz          |             0 |        0 |              2 | [NH3+][C-][C@@]1(CC(=O)O)CN1                |\n",
      "| 178 | XYZBlockParser | /home/tmj/proj/MolOP/tests/test_files/xyz/dsgdb9nsd_104601-5/2.xyz    | 2.xyz       | .xyz          |             0 |        0 |              2 | [NH3+][C-][C@@]1(CC(=O)O)CN1                |\n",
      "| 179 | XYZBlockParser | /home/tmj/proj/MolOP/tests/test_files/xyz/dsgdb9nsd_104601-5/3.xyz    | 3.xyz       | .xyz          |             0 |        0 |              2 | [NH3+][C-][C@@]1(CC(=O)O)CN1                |\n",
      "| 180 | XYZBlockParser | /home/tmj/proj/MolOP/tests/test_files/xyz/dsgdb9nsd_104601-5/4.xyz    | 4.xyz       | .xyz          |             0 |        0 |              2 | [NH3+][C-][C@@]1(CC(=O)O)CN1                |\n",
      "| 181 | XYZBlockParser | /home/tmj/proj/MolOP/tests/test_files/xyz/dsgdb9nsd_104601-5/5.xyz    | 5.xyz       | .xyz          |             0 |        0 |              2 | [NH3+][C-][C@@]1(CC(=O)O)CN1                |\n",
      "| 182 | XYZBlockParser | /home/tmj/proj/MolOP/tests/test_files/xyz/dsgdb9nsd_104601-5/6.xyz    | 6.xyz       | .xyz          |             0 |        0 |              2 | [NH3+][C-][C@@]1(CC(=O)O)CN1                |\n",
      "| 183 | XYZBlockParser | /home/tmj/proj/MolOP/tests/test_files/xyz/dsgdb9nsd_104601-5/7.xyz    | 7.xyz       | .xyz          |             0 |        0 |              2 | [NH3+][C-][C@@]1(CC(=O)O)CN1                |\n",
      "| 184 | XYZBlockParser | /home/tmj/proj/MolOP/tests/test_files/xyz/dsgdb9nsd_104601-5/8.xyz    | 8.xyz       | .xyz          |             0 |        0 |              2 | [NH3+][C-][C@@]1(CC(=O)O)CN1                |\n",
      "| 185 | XYZBlockParser | /home/tmj/proj/MolOP/tests/test_files/xyz/dsgdb9nsd_104601-5/9.xyz    | 9.xyz       | .xyz          |             0 |        0 |              2 | [NH3+][C-][C@@]1(CC(=O)O)CN1                |\n",
      "| 186 | XYZBlockParser | /home/tmj/proj/MolOP/tests/test_files/xyz/dsgdb9nsd_104602-5/0.xyz    | 0.xyz       | .xyz          |             0 |        0 |              2 | [NH3+][C-][C@@]1(CC(=O)O)CO1                |\n",
      "| 187 | XYZBlockParser | /home/tmj/proj/MolOP/tests/test_files/xyz/dsgdb9nsd_104602-5/1.xyz    | 1.xyz       | .xyz          |             0 |        0 |              2 | [NH3+][C-][C@@]1(CC(=O)O)CO1                |\n",
      "| 188 | XYZBlockParser | /home/tmj/proj/MolOP/tests/test_files/xyz/dsgdb9nsd_104602-5/10.xyz   | 10.xyz      | .xyz          |             0 |        0 |              2 | [NH3+][C-][C@@]1(CC(=O)O)CO1                |\n",
      "| 189 | XYZBlockParser | /home/tmj/proj/MolOP/tests/test_files/xyz/dsgdb9nsd_104602-5/11.xyz   | 11.xyz      | .xyz          |             0 |        0 |              2 | [NH3+][C-][C@@]1(CC(=O)O)CO1                |\n",
      "| 190 | XYZBlockParser | /home/tmj/proj/MolOP/tests/test_files/xyz/dsgdb9nsd_104602-5/12.xyz   | 12.xyz      | .xyz          |             0 |        0 |              2 | [NH3+][C-][C@@]1(CC(=O)O)CO1                |\n",
      "| 191 | XYZBlockParser | /home/tmj/proj/MolOP/tests/test_files/xyz/dsgdb9nsd_104602-5/13.xyz   | 13.xyz      | .xyz          |             0 |        0 |              2 | [NH3+][C-][C@@]1(CC(=O)O)CO1                |\n",
      "| 192 | XYZBlockParser | /home/tmj/proj/MolOP/tests/test_files/xyz/dsgdb9nsd_104602-5/14.xyz   | 14.xyz      | .xyz          |             0 |        0 |              2 | [NH3+][C-][C@@]1(CC(=O)O)CO1                |\n",
      "| 193 | XYZBlockParser | /home/tmj/proj/MolOP/tests/test_files/xyz/dsgdb9nsd_104602-5/15.xyz   | 15.xyz      | .xyz          |             0 |        0 |              2 | [NH3+][C-][C@@]1(CC(=O)O)CO1                |\n",
      "| 194 | XYZBlockParser | /home/tmj/proj/MolOP/tests/test_files/xyz/dsgdb9nsd_104602-5/2.xyz    | 2.xyz       | .xyz          |             0 |        0 |              2 | [NH3+][C-][C@@]1(CC(=O)O)CO1                |\n",
      "| 195 | XYZBlockParser | /home/tmj/proj/MolOP/tests/test_files/xyz/dsgdb9nsd_104602-5/3.xyz    | 3.xyz       | .xyz          |             0 |        0 |              2 | [NH3+][C-][C@@]1(CC(=O)O)CO1                |\n",
      "| 196 | XYZBlockParser | /home/tmj/proj/MolOP/tests/test_files/xyz/dsgdb9nsd_104602-5/4.xyz    | 4.xyz       | .xyz          |             0 |        0 |              2 | [NH3+][C-][C@@]1(CC(=O)O)CO1                |\n",
      "| 197 | XYZBlockParser | /home/tmj/proj/MolOP/tests/test_files/xyz/dsgdb9nsd_104602-5/5.xyz    | 5.xyz       | .xyz          |             0 |        0 |              2 | [NH3+][C-][C@@]1(CC(=O)O)CO1                |\n",
      "| 198 | XYZBlockParser | /home/tmj/proj/MolOP/tests/test_files/xyz/dsgdb9nsd_104602-5/6.xyz    | 6.xyz       | .xyz          |             0 |        0 |              2 | [NH3+][C-][C@@]1(CC(=O)O)CO1                |\n",
      "| 199 | XYZBlockParser | /home/tmj/proj/MolOP/tests/test_files/xyz/dsgdb9nsd_104602-5/7.xyz    | 7.xyz       | .xyz          |             0 |        0 |              2 | [NH3+][C-][C@@]1(CC(=O)O)CO1                |\n",
      "| 200 | XYZBlockParser | /home/tmj/proj/MolOP/tests/test_files/xyz/dsgdb9nsd_104602-5/8.xyz    | 8.xyz       | .xyz          |             0 |        0 |              2 | [NH3+][C-][C@@]1(CC(=O)O)CO1                |\n",
      "| 201 | XYZBlockParser | /home/tmj/proj/MolOP/tests/test_files/xyz/dsgdb9nsd_104602-5/9.xyz    | 9.xyz       | .xyz          |             0 |        0 |              2 | [NH3+][C-][C@@]1(CC(=O)O)CO1                |\n",
      "| 202 | XYZBlockParser | /home/tmj/proj/MolOP/tests/test_files/xyz/dsgdb9nsd_117480-9-/56.xyz  | 56.xyz      | .xyz          |             0 |       -1 |              1 | [C-]NCC(=O)CCOO                             |\n",
      "| 203 | XYZBlockParser | /home/tmj/proj/MolOP/tests/test_files/xyz/dsgdb9nsd_123127-1/1.xyz    | 1.xyz       | .xyz          |             0 |        0 |              2 | [O-][C]1COCCC[NH2+]O1                       |\n",
      "| 204 | XYZBlockParser | /home/tmj/proj/MolOP/tests/test_files/xyz/dsgdb9nsd_124881-8-/7.xyz   | 7.xyz       | .xyz          |             0 |       -1 |              1 | C[C@@]1([c-]2ncnn2)CN1                      |\n",
      "| 205 | XYZBlockParser | /home/tmj/proj/MolOP/tests/test_files/xyz/dsgdb9nsd_130337-6/0.xyz    | 0.xyz       | .xyz          |             0 |        0 |              2 | [NH3+][C-]1[CH]C=C2N=NN=C21                 |\n",
      "| 206 | XYZBlockParser | /home/tmj/proj/MolOP/tests/test_files/xyz/dsgdb9nsd_130337-6/1.xyz    | 1.xyz       | .xyz          |             0 |        0 |              2 | [NH3+][C-]1[CH]C=C2N=NN=C21                 |\n",
      "| 207 | XYZBlockParser | /home/tmj/proj/MolOP/tests/test_files/xyz/dsgdb9nsd_130337-6/10.xyz   | 10.xyz      | .xyz          |             0 |        0 |              2 | [NH3+][C-]1[CH]C=C2N=NN=C21                 |\n",
      "| 208 | XYZBlockParser | /home/tmj/proj/MolOP/tests/test_files/xyz/dsgdb9nsd_130337-6/11.xyz   | 11.xyz      | .xyz          |             0 |        0 |              2 | [NH3+][C-]1[CH]C=C2N=NN=C21                 |\n",
      "| 209 | XYZBlockParser | /home/tmj/proj/MolOP/tests/test_files/xyz/dsgdb9nsd_130337-6/12.xyz   | 12.xyz      | .xyz          |             0 |        0 |              2 | [NH3+][C-]1[CH]C=C2N=NN=C21                 |\n",
      "| 210 | XYZBlockParser | /home/tmj/proj/MolOP/tests/test_files/xyz/dsgdb9nsd_130337-6/13.xyz   | 13.xyz      | .xyz          |             0 |        0 |              2 | [NH3+][C-]1[CH]C=C2N=NN=C21                 |\n",
      "| 211 | XYZBlockParser | /home/tmj/proj/MolOP/tests/test_files/xyz/dsgdb9nsd_130337-6/14.xyz   | 14.xyz      | .xyz          |             0 |        0 |              2 | [NH3+][C-]1[CH]C=C2N=NN=C21                 |\n",
      "| 212 | XYZBlockParser | /home/tmj/proj/MolOP/tests/test_files/xyz/dsgdb9nsd_130337-6/15.xyz   | 15.xyz      | .xyz          |             0 |        0 |              2 | [NH3+][C-]1[CH]C=C2N=NN=C21                 |\n",
      "| 213 | XYZBlockParser | /home/tmj/proj/MolOP/tests/test_files/xyz/dsgdb9nsd_130337-6/16.xyz   | 16.xyz      | .xyz          |             0 |        0 |              2 | [NH3+][C-]1[CH]C=C2N=NN=C21                 |\n",
      "| 214 | XYZBlockParser | /home/tmj/proj/MolOP/tests/test_files/xyz/dsgdb9nsd_130337-6/17.xyz   | 17.xyz      | .xyz          |             0 |        0 |              2 | [NH3+][C-]1[CH]C=C2N=NN=C21                 |\n",
      "| 215 | XYZBlockParser | /home/tmj/proj/MolOP/tests/test_files/xyz/dsgdb9nsd_130337-6/18.xyz   | 18.xyz      | .xyz          |             0 |        0 |              2 | [NH3+][C-]1[CH]C=C2N=NN=C21                 |\n",
      "| 216 | XYZBlockParser | /home/tmj/proj/MolOP/tests/test_files/xyz/dsgdb9nsd_130337-6/19.xyz   | 19.xyz      | .xyz          |             0 |        0 |              2 | [NH3+][C-]1[CH]C=C2N=NN=C21                 |\n",
      "| 217 | XYZBlockParser | /home/tmj/proj/MolOP/tests/test_files/xyz/dsgdb9nsd_130337-6/2.xyz    | 2.xyz       | .xyz          |             0 |        0 |              2 | [NH3+][C-]1[CH]C=C2N=NN=C21                 |\n",
      "| 218 | XYZBlockParser | /home/tmj/proj/MolOP/tests/test_files/xyz/dsgdb9nsd_130337-6/20.xyz   | 20.xyz      | .xyz          |             0 |        0 |              2 | [NH3+][C-]1[CH]C=C2N=NN=C21                 |\n",
      "| 219 | XYZBlockParser | /home/tmj/proj/MolOP/tests/test_files/xyz/dsgdb9nsd_130337-6/21.xyz   | 21.xyz      | .xyz          |             0 |        0 |              2 | [NH3+][C-]1[CH]C=C2N=NN=C21                 |\n",
      "| 220 | XYZBlockParser | /home/tmj/proj/MolOP/tests/test_files/xyz/dsgdb9nsd_130337-6/22.xyz   | 22.xyz      | .xyz          |             0 |        0 |              2 | [NH3+][C-]1[CH]C=C2N=NN=C21                 |\n",
      "| 221 | XYZBlockParser | /home/tmj/proj/MolOP/tests/test_files/xyz/dsgdb9nsd_130337-6/23.xyz   | 23.xyz      | .xyz          |             0 |        0 |              2 | [NH3+][C-]1[CH]C=C2N=NN=C21                 |\n",
      "| 222 | XYZBlockParser | /home/tmj/proj/MolOP/tests/test_files/xyz/dsgdb9nsd_130337-6/24.xyz   | 24.xyz      | .xyz          |             0 |        0 |              2 | [NH3+][C-]1[CH]C=C2N=NN=C21                 |\n",
      "| 223 | XYZBlockParser | /home/tmj/proj/MolOP/tests/test_files/xyz/dsgdb9nsd_130337-6/25.xyz   | 25.xyz      | .xyz          |             0 |        0 |              2 | [NH3+][C-]1[CH]C=C2N=NN=C21                 |\n",
      "| 224 | XYZBlockParser | /home/tmj/proj/MolOP/tests/test_files/xyz/dsgdb9nsd_130337-6/26.xyz   | 26.xyz      | .xyz          |             0 |        0 |              2 | [NH3+][C-]1[CH]C=C2N=NN=C21                 |\n",
      "| 225 | XYZBlockParser | /home/tmj/proj/MolOP/tests/test_files/xyz/dsgdb9nsd_130337-6/27.xyz   | 27.xyz      | .xyz          |             0 |        0 |              2 | [NH3+][C-]1[CH]C=C2N=NN=C21                 |\n",
      "| 226 | XYZBlockParser | /home/tmj/proj/MolOP/tests/test_files/xyz/dsgdb9nsd_130337-6/3.xyz    | 3.xyz       | .xyz          |             0 |        0 |              2 | [NH3+][C-]1[CH]C=C2N=NN=C21                 |\n",
      "| 227 | XYZBlockParser | /home/tmj/proj/MolOP/tests/test_files/xyz/dsgdb9nsd_130337-6/4.xyz    | 4.xyz       | .xyz          |             0 |        0 |              2 | [NH3+][C-]1[CH]C=C2N=NN=C21                 |\n",
      "| 228 | XYZBlockParser | /home/tmj/proj/MolOP/tests/test_files/xyz/dsgdb9nsd_130337-6/5.xyz    | 5.xyz       | .xyz          |             0 |        0 |              2 | [NH3+][C-]1[CH]C=C2N=NN=C21                 |\n",
      "| 229 | XYZBlockParser | /home/tmj/proj/MolOP/tests/test_files/xyz/dsgdb9nsd_130337-6/6.xyz    | 6.xyz       | .xyz          |             0 |        0 |              2 | [NH3+][C-]1[CH]C=C2N=NN=C21                 |\n",
      "| 230 | XYZBlockParser | /home/tmj/proj/MolOP/tests/test_files/xyz/dsgdb9nsd_130337-6/7.xyz    | 7.xyz       | .xyz          |             0 |        0 |              2 | [NH3+][C-]1[CH]C=C2N=NN=C21                 |\n",
      "| 231 | XYZBlockParser | /home/tmj/proj/MolOP/tests/test_files/xyz/dsgdb9nsd_130337-6/8.xyz    | 8.xyz       | .xyz          |             0 |        0 |              2 | [NH3+][C-]1[CH]C=C2N=NN=C21                 |\n",
      "| 232 | XYZBlockParser | /home/tmj/proj/MolOP/tests/test_files/xyz/dsgdb9nsd_130337-6/9.xyz    | 9.xyz       | .xyz          |             0 |        0 |              2 | [NH3+][C-]1[CH]C=C2N=NN=C21                 |\n",
      "| 233 | XYZBlockParser | /home/tmj/proj/MolOP/tests/test_files/xyz/dsgdb9nsd_130393-7/0.xyz    | 0.xyz       | .xyz          |             0 |        0 |              2 | [NH3+]Cc1nnn[c-]1[CH]O                      |\n",
      "| 234 | XYZBlockParser | /home/tmj/proj/MolOP/tests/test_files/xyz/dsgdb9nsd_130393-7/1.xyz    | 1.xyz       | .xyz          |             0 |        0 |              2 | [NH3+]Cc1nnn[c-]1[CH]O                      |\n",
      "| 235 | XYZBlockParser | /home/tmj/proj/MolOP/tests/test_files/xyz/dsgdb9nsd_130393-7/10.xyz   | 10.xyz      | .xyz          |             0 |        0 |              2 | [NH3+]C[C]1[N-]N=N/C1=C/O                   |\n",
      "| 236 | XYZBlockParser | /home/tmj/proj/MolOP/tests/test_files/xyz/dsgdb9nsd_130393-7/11.xyz   | 11.xyz      | .xyz          |             0 |        0 |              2 | [NH3+]C[C]1[N-]N=N/C1=C/O                   |\n",
      "| 237 | XYZBlockParser | /home/tmj/proj/MolOP/tests/test_files/xyz/dsgdb9nsd_130393-7/12.xyz   | 12.xyz      | .xyz          |             0 |        0 |              2 | [NH3+]C[C]1[N-]N=N/C1=C/O                   |\n",
      "| 238 | XYZBlockParser | /home/tmj/proj/MolOP/tests/test_files/xyz/dsgdb9nsd_130393-7/13.xyz   | 13.xyz      | .xyz          |             0 |        0 |              2 | [NH3+]C[C]1[N-]N=N/C1=C/O                   |\n",
      "| 239 | XYZBlockParser | /home/tmj/proj/MolOP/tests/test_files/xyz/dsgdb9nsd_130393-7/14.xyz   | 14.xyz      | .xyz          |             0 |        0 |              2 | [NH3+]C[C]1[N-]N=N/C1=C/O                   |\n",
      "| 240 | XYZBlockParser | /home/tmj/proj/MolOP/tests/test_files/xyz/dsgdb9nsd_130393-7/15.xyz   | 15.xyz      | .xyz          |             0 |        0 |              2 | [NH3+]C[C]1[N-]N=N/C1=C/O                   |\n",
      "| 241 | XYZBlockParser | /home/tmj/proj/MolOP/tests/test_files/xyz/dsgdb9nsd_130393-7/16.xyz   | 16.xyz      | .xyz          |             0 |        0 |              2 | [NH3+]C[C]1[N-]N=N/C1=C/O                   |\n",
      "| 242 | XYZBlockParser | /home/tmj/proj/MolOP/tests/test_files/xyz/dsgdb9nsd_130393-7/17.xyz   | 17.xyz      | .xyz          |             0 |        0 |              2 | [NH3+]C[C]1[N-]N=N/C1=C/O                   |\n",
      "| 243 | XYZBlockParser | /home/tmj/proj/MolOP/tests/test_files/xyz/dsgdb9nsd_130393-7/18.xyz   | 18.xyz      | .xyz          |             0 |        0 |              2 | [NH3+]C[C]1[N-]N=N/C1=C/O                   |\n",
      "| 244 | XYZBlockParser | /home/tmj/proj/MolOP/tests/test_files/xyz/dsgdb9nsd_130393-7/19.xyz   | 19.xyz      | .xyz          |             0 |        0 |              2 | [NH3+]C[C]1[N-]N=N/C1=C/O                   |\n",
      "| 245 | XYZBlockParser | /home/tmj/proj/MolOP/tests/test_files/xyz/dsgdb9nsd_130393-7/2.xyz    | 2.xyz       | .xyz          |             0 |        0 |              2 | [NH3+]Cc1nnn[c-]1[CH]O                      |\n",
      "| 246 | XYZBlockParser | /home/tmj/proj/MolOP/tests/test_files/xyz/dsgdb9nsd_130393-7/3.xyz    | 3.xyz       | .xyz          |             0 |        0 |              2 | [NH3+]Cc1nnn[c-]1[CH]O                      |\n",
      "| 247 | XYZBlockParser | /home/tmj/proj/MolOP/tests/test_files/xyz/dsgdb9nsd_130393-7/4.xyz    | 4.xyz       | .xyz          |             0 |        0 |              2 | [NH3+]Cc1nnn[c-]1[CH]O                      |\n",
      "| 248 | XYZBlockParser | /home/tmj/proj/MolOP/tests/test_files/xyz/dsgdb9nsd_130393-7/6.xyz    | 6.xyz       | .xyz          |             0 |        0 |              2 | [NH3+]Cc1nnn[c-]1[CH]O                      |\n",
      "| 249 | XYZBlockParser | /home/tmj/proj/MolOP/tests/test_files/xyz/dsgdb9nsd_130393-7/9.xyz    | 9.xyz       | .xyz          |             0 |        0 |              2 | [NH3+]C[C]1[N-]N=N/C1=C/O                   |\n",
      "| 250 | XYZBlockParser | /home/tmj/proj/MolOP/tests/test_files/xyz/dsgdb9nsd_130849-1-/0.xyz   | 0.xyz       | .xyz          |             0 |       -1 |              1 | C#Cc1[nH]ncc1[C-]=O                         |\n",
      "| 251 | XYZBlockParser | /home/tmj/proj/MolOP/tests/test_files/xyz/dsgdb9nsd_130850-1-/0.xyz   | 0.xyz       | .xyz          |             0 |       -1 |              1 | C#C[C-]1ON=CC1=C=O                          |\n",
      "| 252 | XYZBlockParser | /home/tmj/proj/MolOP/tests/test_files/xyz/dsgdb9nsd_130872-1-/0.xyz   | 0.xyz       | .xyz          |             0 |       -1 |              1 | C#Cc1n[nH]cc1[C-]=O                         |\n",
      "| 253 | XYZBlockParser | /home/tmj/proj/MolOP/tests/test_files/xyz/dsgdb9nsd_131694-4-/0.xyz   | 0.xyz       | .xyz          |             0 |       -1 |              1 | N#N.O=C=C([C-]=O)CO                         |\n",
      "| 254 | XYZBlockParser | /home/tmj/proj/MolOP/tests/test_files/xyz/dsgdb9nsd_132411-2-/0.xyz   | 0.xyz       | .xyz          |             0 |       -1 |              1 | O=[C-]c1cncc(F)c1                           |\n",
      "| 255 | XYZBlockParser | /home/tmj/proj/MolOP/tests/test_files/xyz/dsgdb9nsd_133837-6+/10.xyz  | 10.xyz      | .xyz          |             0 |        1 |              1 | C/C(C=[N+])=C1\\C#CN=C1                      |\n",
      "| 256 | XYZBlockParser | /home/tmj/proj/MolOP/tests/test_files/xyz/dsgdb9nsd_133837-6+/11.xyz  | 11.xyz      | .xyz          |             0 |        1 |              1 | C/C(C=[N+])=C1\\C#CN=C1                      |\n",
      "| 257 | XYZBlockParser | /home/tmj/proj/MolOP/tests/test_files/xyz/dsgdb9nsd_133837-6+/12.xyz  | 12.xyz      | .xyz          |             0 |        1 |              1 | C/C(C=[N+])=C1\\C#CN=C1                      |\n",
      "| 258 | XYZBlockParser | /home/tmj/proj/MolOP/tests/test_files/xyz/dsgdb9nsd_133837-6+/13.xyz  | 13.xyz      | .xyz          |             0 |        1 |              1 | C/C(C=[N+])=C1\\C#CN=C1                      |\n",
      "| 259 | XYZBlockParser | /home/tmj/proj/MolOP/tests/test_files/xyz/dsgdb9nsd_133837-6+/14.xyz  | 14.xyz      | .xyz          |             0 |        1 |              1 | C/C(C=[N+])=C1\\C#CN=C1                      |\n",
      "| 260 | XYZBlockParser | /home/tmj/proj/MolOP/tests/test_files/xyz/dsgdb9nsd_133837-6+/15.xyz  | 15.xyz      | .xyz          |             0 |        1 |              1 | C/C(C=[N+])=C1\\C#CN=C1                      |\n",
      "| 261 | XYZBlockParser | /home/tmj/proj/MolOP/tests/test_files/xyz/dsgdb9nsd_133837-6+/16.xyz  | 16.xyz      | .xyz          |             0 |        1 |              1 | C/C(C=[N+])=C1\\C#CN=C1                      |\n",
      "| 262 | XYZBlockParser | /home/tmj/proj/MolOP/tests/test_files/xyz/dsgdb9nsd_133837-6+/17.xyz  | 17.xyz      | .xyz          |             0 |        1 |              1 | C/C(C=[N+])=C1\\C#CN=C1                      |\n",
      "| 263 | XYZBlockParser | /home/tmj/proj/MolOP/tests/test_files/xyz/dsgdb9nsd_133837-6+/18.xyz  | 18.xyz      | .xyz          |             0 |        1 |              1 | C/C(C=[N+])=C1\\C#CN=C1                      |\n",
      "| 264 | XYZBlockParser | /home/tmj/proj/MolOP/tests/test_files/xyz/dsgdb9nsd_133837-6+/19.xyz  | 19.xyz      | .xyz          |             0 |        1 |              1 | C/C(C=[N+])=C1\\C#CN=C1                      |\n",
      "| 265 | XYZBlockParser | /home/tmj/proj/MolOP/tests/test_files/xyz/dsgdb9nsd_133837-6+/20.xyz  | 20.xyz      | .xyz          |             0 |        1 |              1 | C/C(C=[N+])=C1\\C#CN=C1                      |\n",
      "| 266 | XYZBlockParser | /home/tmj/proj/MolOP/tests/test_files/xyz/dsgdb9nsd_133837-6+/21.xyz  | 21.xyz      | .xyz          |             0 |        1 |              1 | C/C(C=[N+])=C1\\C#CN=C1                      |\n",
      "| 267 | XYZBlockParser | /home/tmj/proj/MolOP/tests/test_files/xyz/dsgdb9nsd_133837-6+/3.xyz   | 3.xyz       | .xyz          |             0 |        1 |              1 | C/C(C=[N+])=C1\\C#CN=C1                      |\n",
      "| 268 | XYZBlockParser | /home/tmj/proj/MolOP/tests/test_files/xyz/dsgdb9nsd_133837-6+/4.xyz   | 4.xyz       | .xyz          |             0 |        1 |              1 | C/C(C=[N+])=C1\\C#CN=C1                      |\n",
      "| 269 | XYZBlockParser | /home/tmj/proj/MolOP/tests/test_files/xyz/dsgdb9nsd_133837-6+/5.xyz   | 5.xyz       | .xyz          |             0 |        1 |              1 | C/C(C=[N+])=C1\\C#CN=C1                      |\n",
      "| 270 | XYZBlockParser | /home/tmj/proj/MolOP/tests/test_files/xyz/dsgdb9nsd_133837-6+/6.xyz   | 6.xyz       | .xyz          |             0 |        1 |              1 | C/C(C=[N+])=C1\\C#CN=C1                      |\n",
      "| 271 | XYZBlockParser | /home/tmj/proj/MolOP/tests/test_files/xyz/dsgdb9nsd_133837-6+/7.xyz   | 7.xyz       | .xyz          |             0 |        1 |              1 | C/C(C=[N+])=C1\\C#CN=C1                      |\n",
      "| 272 | XYZBlockParser | /home/tmj/proj/MolOP/tests/test_files/xyz/dsgdb9nsd_133837-6+/8.xyz   | 8.xyz       | .xyz          |             0 |        1 |              1 | C/C(C=[N+])=C1\\C#CN=C1                      |\n",
      "| 273 | XYZBlockParser | /home/tmj/proj/MolOP/tests/test_files/xyz/dsgdb9nsd_133837-6+/9.xyz   | 9.xyz       | .xyz          |             0 |        1 |              1 | C/C(C=[N+])=C1\\C#CN=C1                      |\n"
     ]
    }
   ],
   "source": [
    "test_file = AutoParser(\n",
    "    \"../tests/test_files/xyz/*/*.xyz\",\n",
    "    only_extract_structure=False,\n",
    ")\n",
    "print(test_file.to_summary_df().to_markdown())"
   ]
  },
  {
   "cell_type": "code",
   "execution_count": 4,
   "metadata": {},
   "outputs": [
    {
     "name": "stderr",
     "output_type": "stream",
     "text": [
      "MolOP parsing with single thread: 100%|██████████| 1/1 [00:00<00:00, 1196.66it/s]\n",
      "0 files failed to parse, 1 successfully parsed\n"
     ]
    },
    {
     "data": {
      "text/plain": [
       "0    C1=N[c+]2[nH]cnn2N=1\n",
       "1    C1=N[c+]2[nH]cnn2N=1\n",
       "Name: SMILES, dtype: object"
      ]
     },
     "execution_count": 4,
     "metadata": {},
     "output_type": "execute_result"
    }
   ],
   "source": [
    "test_file = AutoParser(\n",
    "    \"../tests/test_files/xyz/dsgdb9nsd_021379-3+.xyz\",\n",
    "    n_jobs=1,\n",
    "    only_extract_structure=False,\n",
    ")\n",
    "test_file[0].to_summary_df()[\"SMILES\"]"
   ]
  },
  {
   "cell_type": "code",
   "execution_count": 5,
   "metadata": {},
   "outputs": [
    {
     "name": "stderr",
     "output_type": "stream",
     "text": [
      "MolOP parsing with single thread: 100%|██████████| 1/1 [00:00<00:00, 2543.54it/s]\n",
      "0 files failed to parse, 1 successfully parsed\n"
     ]
    },
    {
     "data": {
      "text/plain": [
       "0    [C]#Cc1noc(C)n1\n",
       "Name: SMILES, dtype: object"
      ]
     },
     "execution_count": 5,
     "metadata": {},
     "output_type": "execute_result"
    }
   ],
   "source": [
    "test_file = AutoParser(\n",
    "    \"../tests/test_files/xyz/dsgdb9nsd_020689-4.xyz\",\n",
    "    n_jobs=1,\n",
    "    only_extract_structure=False,\n",
    ")\n",
    "test_file[0].to_summary_df()[\"SMILES\"]"
   ]
  },
  {
   "cell_type": "code",
   "execution_count": 6,
   "metadata": {},
   "outputs": [
    {
     "name": "stderr",
     "output_type": "stream",
     "text": [
      "MolOP parsing with single thread: 100%|██████████| 1/1 [00:00<00:00, 1812.58it/s]\n",
      "0 files failed to parse, 1 successfully parsed\n"
     ]
    },
    {
     "data": {
      "text/plain": [
       "0    C1=CC2=NC3=N[N@+]23C1\n",
       "1    C1=CC2=NC3=N[N@+]23C1\n",
       "2    C1=CC2=NC3=N[N@+]23C1\n",
       "Name: SMILES, dtype: object"
      ]
     },
     "execution_count": 6,
     "metadata": {},
     "output_type": "execute_result"
    }
   ],
   "source": [
    "test_file = AutoParser(\n",
    "    \"../tests/test_files/xyz/dsgdb9nsd_020347-5+.xyz\",\n",
    "    n_jobs=1,\n",
    "    only_extract_structure=False,\n",
    ")\n",
    "test_file[0].to_summary_df()[\"SMILES\"]"
   ]
  },
  {
   "cell_type": "code",
   "execution_count": 7,
   "metadata": {},
   "outputs": [
    {
     "name": "stderr",
     "output_type": "stream",
     "text": [
      "MolOP parsing with single thread: 100%|██████████| 1/1 [00:00<00:00, 1822.82it/s]\n",
      "0 files failed to parse, 1 successfully parsed\n"
     ]
    },
    {
     "data": {
      "text/plain": [
       "0    [CH+]1OC2=N[C@@H]3C[C@@H]3[C@H]12\n",
       "1    [CH+]1OC2=N[C@@H]3C[C@@H]3[C@H]12\n",
       "Name: SMILES, dtype: object"
      ]
     },
     "execution_count": 7,
     "metadata": {},
     "output_type": "execute_result"
    }
   ],
   "source": [
    "test_file = AutoParser(\n",
    "    \"../tests/test_files/xyz/dsgdb9nsd_019923-5+.xyz\",\n",
    "    n_jobs=1,\n",
    "    only_extract_structure=False,\n",
    ")\n",
    "test_file[0].to_summary_df()[\"SMILES\"]"
   ]
  },
  {
   "cell_type": "code",
   "execution_count": 8,
   "metadata": {},
   "outputs": [
    {
     "name": "stderr",
     "output_type": "stream",
     "text": [
      "MolOP parsing with single thread: 100%|██████████| 1/1 [00:00<00:00, 3113.81it/s]\n",
      "0 files failed to parse, 1 successfully parsed\n"
     ]
    },
    {
     "data": {
      "text/plain": [
       "0    CC1=C2C[CH][C@H]2OC1\n",
       "Name: SMILES, dtype: object"
      ]
     },
     "execution_count": 8,
     "metadata": {},
     "output_type": "execute_result"
    }
   ],
   "source": [
    "test_file = AutoParser(\n",
    "    \"../tests/test_files/xyz/dsgdb9nsd_018343-7.xyz\",\n",
    "    n_jobs=1,\n",
    "    only_extract_structure=False,\n",
    ")\n",
    "test_file[0].to_summary_df()[\"SMILES\"]"
   ]
  },
  {
   "cell_type": "code",
   "execution_count": 9,
   "metadata": {},
   "outputs": [
    {
     "name": "stderr",
     "output_type": "stream",
     "text": [
      "MolOP parsing with single thread: 100%|██████████| 1/1 [00:00<00:00, 3070.50it/s]\n",
      "0 files failed to parse, 1 successfully parsed\n"
     ]
    },
    {
     "data": {
      "text/plain": [
       "0    O=C1CN=C2N[CH+][C@@H]12\n",
       "Name: SMILES, dtype: object"
      ]
     },
     "execution_count": 9,
     "metadata": {},
     "output_type": "execute_result"
    }
   ],
   "source": [
    "test_file = AutoParser(\n",
    "    \"../tests/test_files/xyz/dsgdb9nsd_018315-5+.xyz\",\n",
    "    n_jobs=1,\n",
    "    only_extract_structure=False,\n",
    ")\n",
    "test_file[0].to_summary_df()[\"SMILES\"]"
   ]
  },
  {
   "cell_type": "code",
   "execution_count": 10,
   "metadata": {},
   "outputs": [
    {
     "name": "stderr",
     "output_type": "stream",
     "text": [
      "MolOP parsing with single thread: 100%|██████████| 1/1 [00:00<00:00, 2258.65it/s]\n",
      "0 files failed to parse, 1 successfully parsed\n"
     ]
    },
    {
     "data": {
      "text/plain": [
       "0    O=C1C=C[N@H+]2C[CH-][C]12\n",
       "1    O=C1C=C[N@H+]2C[CH-][C]12\n",
       "2    O=C1C=C[N@H+]2C[CH-][C]12\n",
       "Name: SMILES, dtype: object"
      ]
     },
     "execution_count": 10,
     "metadata": {},
     "output_type": "execute_result"
    }
   ],
   "source": [
    "test_file = AutoParser(\n",
    "    \"../tests/test_files/xyz/dsgdb9nsd_018308-6.xyz\",\n",
    "    n_jobs=1,\n",
    "    only_extract_structure=False,\n",
    ")\n",
    "test_file[0].to_summary_df()[\"SMILES\"]"
   ]
  },
  {
   "cell_type": "code",
   "execution_count": 11,
   "metadata": {},
   "outputs": [
    {
     "name": "stderr",
     "output_type": "stream",
     "text": [
      "MolOP parsing with single thread: 100%|██████████| 1/1 [00:00<00:00, 2805.55it/s]\n",
      "0 files failed to parse, 1 successfully parsed\n"
     ]
    },
    {
     "data": {
      "text/plain": [
       "0    [C+]1=C/CCC/C=C\\C/1\n",
       "Name: SMILES, dtype: object"
      ]
     },
     "execution_count": 11,
     "metadata": {},
     "output_type": "execute_result"
    }
   ],
   "source": [
    "test_file = AutoParser(\n",
    "    \"../tests/test_files/xyz/dsgdb9nsd_017957-9+.xyz\",\n",
    "    n_jobs=1,\n",
    "    only_extract_structure=False,\n",
    ")\n",
    "test_file[0].to_summary_df()[\"SMILES\"]"
   ]
  },
  {
   "cell_type": "code",
   "execution_count": 12,
   "metadata": {},
   "outputs": [
    {
     "name": "stderr",
     "output_type": "stream",
     "text": [
      "MolOP parsing with single thread: 100%|██████████| 1/1 [00:00<00:00, 2225.09it/s]\n",
      "0 files failed to parse, 1 successfully parsed\n"
     ]
    },
    {
     "data": {
      "text/plain": [
       "0    O=[C-][C]1[NH2+]CCC1=O\n",
       "1    O=[C-][C]1[NH2+]CCC1=O\n",
       "Name: SMILES, dtype: object"
      ]
     },
     "execution_count": 12,
     "metadata": {},
     "output_type": "execute_result"
    }
   ],
   "source": [
    "test_file = AutoParser(\n",
    "    \"../tests/test_files/xyz/dsgdb9nsd_015512-3.xyz\",\n",
    "    n_jobs=1,\n",
    "    only_extract_structure=False,\n",
    ")\n",
    "test_file[0].to_summary_df()[\"SMILES\"]"
   ]
  },
  {
   "cell_type": "code",
   "execution_count": 13,
   "metadata": {},
   "outputs": [
    {
     "name": "stderr",
     "output_type": "stream",
     "text": [
      "MolOP parsing with single thread: 100%|██████████| 1/1 [00:00<00:00, 1980.31it/s]\n",
      "0 files failed to parse, 1 successfully parsed\n"
     ]
    },
    {
     "data": {
      "text/plain": [
       "0    CC#C[C@H]1N[C@H]1[C+]=O\n",
       "Name: SMILES, dtype: object"
      ]
     },
     "execution_count": 13,
     "metadata": {},
     "output_type": "execute_result"
    }
   ],
   "source": [
    "test_file = AutoParser(\n",
    "    \"../tests/test_files/xyz/dsgdb9nsd_015331-7+.xyz\",\n",
    "    n_jobs=1,\n",
    "    only_extract_structure=False,\n",
    ")\n",
    "test_file[0].to_summary_df()[\"SMILES\"]"
   ]
  },
  {
   "cell_type": "code",
   "execution_count": 14,
   "metadata": {},
   "outputs": [
    {
     "name": "stderr",
     "output_type": "stream",
     "text": [
      "MolOP parsing with single thread: 100%|██████████| 1/1 [00:00<00:00, 2801.81it/s]\n",
      "0 files failed to parse, 1 successfully parsed\n"
     ]
    },
    {
     "data": {
      "text/plain": [
       "0    [C+]#CC1=CCCCC1\n",
       "1    [C+]#CC1=CCCCC1\n",
       "Name: SMILES, dtype: object"
      ]
     },
     "execution_count": 14,
     "metadata": {},
     "output_type": "execute_result"
    }
   ],
   "source": [
    "test_file = AutoParser(\n",
    "    \"../tests/test_files/xyz/dsgdb9nsd_014883-1+.xyz\",\n",
    "    n_jobs=1,\n",
    "    only_extract_structure=False,\n",
    ")\n",
    "test_file[0].to_summary_df()[\"SMILES\"]"
   ]
  },
  {
   "cell_type": "code",
   "execution_count": 15,
   "metadata": {},
   "outputs": [
    {
     "name": "stderr",
     "output_type": "stream",
     "text": [
      "MolOP parsing with single thread: 100%|██████████| 1/1 [00:00<00:00, 2334.06it/s]\n",
      "0 files failed to parse, 1 successfully parsed\n"
     ]
    },
    {
     "data": {
      "text/plain": [
       "0    [CH2-][C@@H](C=O)C=CCO\n",
       "Name: SMILES, dtype: object"
      ]
     },
     "execution_count": 15,
     "metadata": {},
     "output_type": "execute_result"
    }
   ],
   "source": [
    "test_file = AutoParser(\n",
    "    \"../tests/test_files/xyz/dsgdb9nsd_011128-6-.xyz\",\n",
    "    n_jobs=1,\n",
    "    only_extract_structure=False,\n",
    ")\n",
    "test_file[0].to_summary_df()[\"SMILES\"]"
   ]
  },
  {
   "cell_type": "code",
   "execution_count": 16,
   "metadata": {},
   "outputs": [
    {
     "name": "stderr",
     "output_type": "stream",
     "text": [
      "MolOP parsing with single thread: 100%|██████████| 1/1 [00:00<00:00, 2328.88it/s]\n",
      "0 files failed to parse, 1 successfully parsed\n"
     ]
    },
    {
     "data": {
      "text/plain": [
       "0    C[C@@]1(C=O)CN1.[CH2-]O\n",
       "Name: SMILES, dtype: object"
      ]
     },
     "execution_count": 16,
     "metadata": {},
     "output_type": "execute_result"
    }
   ],
   "source": [
    "test_file = AutoParser(\n",
    "    \"../tests/test_files/xyz/dsgdb9nsd_009842-11-.xyz\",\n",
    "    n_jobs=1,\n",
    "    only_extract_structure=False,\n",
    ")\n",
    "test_file[0].to_summary_df()[\"SMILES\"]"
   ]
  },
  {
   "cell_type": "code",
   "execution_count": 17,
   "metadata": {},
   "outputs": [
    {
     "name": "stderr",
     "output_type": "stream",
     "text": [
      "MolOP parsing with single thread: 100%|██████████| 1/1 [00:00<00:00, 1811.79it/s]\n",
      "0 files failed to parse, 1 successfully parsed\n"
     ]
    },
    {
     "data": {
      "text/plain": [
       "0    C1C23C[N+]12C3.C=CC\n",
       "1    C1C23C[N+]12C3.C=CC\n",
       "2    C1C23C[N+]12C3.C=CC\n",
       "Name: SMILES, dtype: object"
      ]
     },
     "execution_count": 17,
     "metadata": {},
     "output_type": "execute_result"
    }
   ],
   "source": [
    "test_file = AutoParser(\n",
    "    \"../tests/test_files/xyz/dsgdb9nsd_008360-4+.xyz\",\n",
    "    n_jobs=1,\n",
    "    only_extract_structure=False,\n",
    ")\n",
    "test_file[0].to_summary_df()[\"SMILES\"]"
   ]
  },
  {
   "cell_type": "code",
   "execution_count": 18,
   "metadata": {},
   "outputs": [
    {
     "name": "stderr",
     "output_type": "stream",
     "text": [
      "MolOP parsing with single thread: 100%|██████████| 1/1 [00:00<00:00, 2185.67it/s]\n",
      "0 files failed to parse, 1 successfully parsed\n"
     ]
    },
    {
     "data": {
      "text/plain": [
       "0    CN1C[C@@]12C(=O)[C@H]2O.[H+]\n",
       "1    CN1C[C@@]12C(=O)[C@H]2O.[H+]\n",
       "Name: SMILES, dtype: object"
      ]
     },
     "execution_count": 18,
     "metadata": {},
     "output_type": "execute_result"
    }
   ],
   "source": [
    "test_file = AutoParser(\n",
    "    \"../tests/test_files/xyz/dsgdb9nsd_006456-9+.xyz\",\n",
    "    n_jobs=1,\n",
    "    only_extract_structure=False,\n",
    ")\n",
    "test_file[0].to_summary_df()[\"SMILES\"]"
   ]
  },
  {
   "cell_type": "code",
   "execution_count": 19,
   "metadata": {},
   "outputs": [
    {
     "name": "stderr",
     "output_type": "stream",
     "text": [
      "MolOP parsing with single thread: 100%|██████████| 1/1 [00:00<00:00, 1828.38it/s]\n",
      "0 files failed to parse, 1 successfully parsed\n"
     ]
    },
    {
     "data": {
      "text/plain": [
       "0    C#CC1=C2N3N2[NH+]13\n",
       "Name: SMILES, dtype: object"
      ]
     },
     "execution_count": 19,
     "metadata": {},
     "output_type": "execute_result"
    }
   ],
   "source": [
    "test_file = AutoParser(\n",
    "    \"../tests/test_files/xyz/dsgdb9nsd_003634-2+.xyz\",\n",
    "    n_jobs=1,\n",
    "    only_extract_structure=False,\n",
    ")\n",
    "test_file[0].to_summary_df()[\"SMILES\"]"
   ]
  },
  {
   "cell_type": "code",
   "execution_count": 20,
   "metadata": {},
   "outputs": [
    {
     "name": "stderr",
     "output_type": "stream",
     "text": [
      "MolOP parsing with single thread: 100%|██████████| 1/1 [00:00<00:00, 3297.41it/s]\n",
      "0 files failed to parse, 1 successfully parsed\n"
     ]
    },
    {
     "data": {
      "text/plain": [
       "0    [CH]C(=O)N1C[C@@H]1[NH-]\n",
       "Name: SMILES, dtype: object"
      ]
     },
     "execution_count": 20,
     "metadata": {},
     "output_type": "execute_result"
    }
   ],
   "source": [
    "test_file = AutoParser(\n",
    "    \"../tests/test_files/xyz/dsgdb9nsd_002746-5-.xyz\",\n",
    "    n_jobs=1,\n",
    "    only_extract_structure=False,\n",
    ")\n",
    "test_file[0].to_summary_df()[\"SMILES\"]"
   ]
  },
  {
   "cell_type": "code",
   "execution_count": 21,
   "metadata": {},
   "outputs": [
    {
     "name": "stderr",
     "output_type": "stream",
     "text": [
      "MolOP parsing with single thread: 100%|██████████| 1/1 [00:00<00:00, 2700.78it/s]\n",
      "0 files failed to parse, 1 successfully parsed\n"
     ]
    },
    {
     "data": {
      "text/plain": [
       "0    CC(=C=O)C[C+]=O\n",
       "Name: SMILES, dtype: object"
      ]
     },
     "execution_count": 21,
     "metadata": {},
     "output_type": "execute_result"
    }
   ],
   "source": [
    "test_file = AutoParser(\n",
    "    \"../tests/test_files/xyz/dsgdb9nsd_001944-1+.xyz\",\n",
    "    n_jobs=1,\n",
    "    only_extract_structure=False,\n",
    ")\n",
    "test_file[0].to_summary_df()[\"SMILES\"]"
   ]
  },
  {
   "cell_type": "code",
   "execution_count": 22,
   "metadata": {},
   "outputs": [
    {
     "name": "stderr",
     "output_type": "stream",
     "text": [
      "MolOP parsing with single thread: 100%|██████████| 1/1 [00:00<00:00, 1807.11it/s]\n",
      "0 files failed to parse, 1 successfully parsed\n"
     ]
    },
    {
     "data": {
      "text/plain": [
       "0    C.N#CC1=C=C1.[CH3+]\n",
       "Name: SMILES, dtype: object"
      ]
     },
     "execution_count": 22,
     "metadata": {},
     "output_type": "execute_result"
    }
   ],
   "source": [
    "test_file = AutoParser(\n",
    "    \"../tests/test_files/xyz/dsgdb9nsd_000986-5+.xyz\",\n",
    "    n_jobs=1,\n",
    "    only_extract_structure=False,\n",
    ")\n",
    "test_file[0].to_summary_df()[\"SMILES\"]"
   ]
  },
  {
   "cell_type": "code",
   "execution_count": 23,
   "metadata": {},
   "outputs": [
    {
     "name": "stderr",
     "output_type": "stream",
     "text": [
      "MolOP parsing with single thread: 100%|██████████| 1/1 [00:00<00:00, 2668.13it/s]\n",
      "0 files failed to parse, 1 successfully parsed\n"
     ]
    },
    {
     "data": {
      "text/plain": [
       "0    NC[C@H]1O[C@H]1C([O])=O\n",
       "Name: SMILES, dtype: object"
      ]
     },
     "execution_count": 23,
     "metadata": {},
     "output_type": "execute_result"
    }
   ],
   "source": [
    "test_file = AutoParser(\n",
    "    \"../tests/test_files/xyz/dsgdb9nsd_013807-3.xyz\",\n",
    "    n_jobs=1,\n",
    "    only_extract_structure=False,\n",
    ")\n",
    "test_file[0].to_summary_df()[\"SMILES\"]"
   ]
  },
  {
   "cell_type": "code",
   "execution_count": 24,
   "metadata": {},
   "outputs": [
    {
     "name": "stderr",
     "output_type": "stream",
     "text": [
      "MolOP parsing with single thread: 100%|██████████| 1/1 [00:00<00:00, 2009.73it/s]\n",
      "0 files failed to parse, 1 successfully parsed\n"
     ]
    },
    {
     "data": {
      "text/plain": [
       "0    C.[C]1=C=CC=CC=C1\n",
       "Name: SMILES, dtype: object"
      ]
     },
     "execution_count": 24,
     "metadata": {},
     "output_type": "execute_result"
    }
   ],
   "source": [
    "test_file = AutoParser(\n",
    "    \"../tests/test_files/xyz/dsgdb9nsd_012520-4.xyz\",\n",
    "    n_jobs=1,\n",
    "    only_extract_structure=False,\n",
    ")\n",
    "test_file[0].to_summary_df()[\"SMILES\"]"
   ]
  },
  {
   "cell_type": "code",
   "execution_count": 25,
   "metadata": {},
   "outputs": [
    {
     "name": "stderr",
     "output_type": "stream",
     "text": [
      "MolOP parsing with single thread: 100%|██████████| 1/1 [00:00<00:00, 2029.17it/s]\n",
      "0 files failed to parse, 1 successfully parsed\n"
     ]
    },
    {
     "data": {
      "text/plain": [
       "0    NCCCCC([O])=O\n",
       "Name: SMILES, dtype: object"
      ]
     },
     "execution_count": 25,
     "metadata": {},
     "output_type": "execute_result"
    }
   ],
   "source": [
    "test_file = AutoParser(\n",
    "    \"../tests/test_files/xyz/dsgdb9nsd_006790-2.xyz\",\n",
    "    n_jobs=1,\n",
    "    only_extract_structure=False,\n",
    ")\n",
    "test_file[0].to_summary_df()[\"SMILES\"]"
   ]
  },
  {
   "cell_type": "code",
   "execution_count": 26,
   "metadata": {},
   "outputs": [
    {
     "name": "stderr",
     "output_type": "stream",
     "text": [
      "MolOP parsing with single thread: 100%|██████████| 1/1 [00:00<00:00, 2922.86it/s]\n",
      "0 files failed to parse, 1 successfully parsed\n"
     ]
    },
    {
     "data": {
      "text/plain": [
       "0    CNCCCC([O])=O\n",
       "Name: SMILES, dtype: object"
      ]
     },
     "execution_count": 26,
     "metadata": {},
     "output_type": "execute_result"
    }
   ],
   "source": [
    "test_file = AutoParser(\n",
    "    \"../tests/test_files/xyz/dsgdb9nsd_006779-1.xyz\",\n",
    "    n_jobs=1,\n",
    "    only_extract_structure=False,\n",
    ")\n",
    "test_file[0].to_summary_df()[\"SMILES\"]"
   ]
  },
  {
   "cell_type": "code",
   "execution_count": 27,
   "metadata": {},
   "outputs": [
    {
     "name": "stderr",
     "output_type": "stream",
     "text": [
      "MolOP parsing with single thread: 100%|██████████| 1/1 [00:00<00:00, 2651.27it/s]\n",
      "0 files failed to parse, 1 successfully parsed\n"
     ]
    },
    {
     "data": {
      "text/plain": [
       "0    N[C]1C=C=[O+]C=C1[O-]\n",
       "1    N[C]1C=C=[O+]C=C1[O-]\n",
       "Name: SMILES, dtype: object"
      ]
     },
     "execution_count": 27,
     "metadata": {},
     "output_type": "execute_result"
    }
   ],
   "source": [
    "test_file = AutoParser(\n",
    "    \"../tests/test_files/xyz/dsgdb9nsd_005034-4.xyz\",\n",
    "    n_jobs=1,\n",
    "    only_extract_structure=False,\n",
    ")\n",
    "test_file[0].to_summary_df()[\"SMILES\"]"
   ]
  },
  {
   "cell_type": "code",
   "execution_count": 28,
   "metadata": {},
   "outputs": [
    {
     "name": "stderr",
     "output_type": "stream",
     "text": [
      "MolOP parsing with single thread: 100%|██████████| 1/1 [00:00<00:00, 1497.97it/s]\n",
      "0 files failed to parse, 1 successfully parsed\n"
     ]
    },
    {
     "data": {
      "text/plain": [
       "0         CN.[H]/[C]=C(\\CO)N=O\n",
       "1    C[NH2+][CH][C](CO)[N-][O]\n",
       "2      C[NH2+]/C=C(/CO)[N-][O]\n",
       "Name: SMILES, dtype: object"
      ]
     },
     "execution_count": 28,
     "metadata": {},
     "output_type": "execute_result"
    }
   ],
   "source": [
    "test_file = AutoParser(\n",
    "    \"../tests/test_files/xyz/dsgdb9nsd_004015-7.xyz\",\n",
    "    n_jobs=1,\n",
    "    only_extract_structure=False,\n",
    ")\n",
    "test_file[0].to_summary_df()[\"SMILES\"]"
   ]
  },
  {
   "cell_type": "code",
   "execution_count": 29,
   "metadata": {},
   "outputs": [
    {
     "name": "stderr",
     "output_type": "stream",
     "text": [
      "MolOP parsing with single thread: 100%|██████████| 1/1 [00:00<00:00, 1992.54it/s]\n",
      "0 files failed to parse, 1 successfully parsed\n"
     ]
    },
    {
     "data": {
      "text/plain": [
       "0    [H]/N=C(\\[C]=O)OCC\n",
       "Name: SMILES, dtype: object"
      ]
     },
     "execution_count": 29,
     "metadata": {},
     "output_type": "execute_result"
    }
   ],
   "source": [
    "test_file = AutoParser(\n",
    "    \"../tests/test_files/xyz/dsgdb9nsd_001507-7.xyz\",\n",
    "    n_jobs=1,\n",
    "    only_extract_structure=False,\n",
    ")\n",
    "test_file[0].to_summary_df()[\"SMILES\"]"
   ]
  },
  {
   "cell_type": "code",
   "execution_count": 30,
   "metadata": {},
   "outputs": [
    {
     "name": "stderr",
     "output_type": "stream",
     "text": [
      "MolOP parsing with single thread: 100%|██████████| 1/1 [00:00<00:00, 2003.97it/s]\n",
      "0 files failed to parse, 1 successfully parsed\n"
     ]
    },
    {
     "data": {
      "text/plain": [
       "0    O=C1[CH]CN1\n",
       "Name: SMILES, dtype: object"
      ]
     },
     "execution_count": 30,
     "metadata": {},
     "output_type": "execute_result"
    }
   ],
   "source": [
    "test_file = AutoParser(\n",
    "    \"../tests/test_files/xyz/dsgdb9nsd_000091-2.xyz\",\n",
    "    n_jobs=1,\n",
    "    only_extract_structure=False,\n",
    ")\n",
    "test_file[0].to_summary_df()[\"SMILES\"]"
   ]
  },
  {
   "cell_type": "markdown",
   "metadata": {},
   "source": [
    "## [dsgdb9nsd_125334-4.log](../tests/test_files/g16log/dsgdb9nsd_125334-4.log)"
   ]
  },
  {
   "cell_type": "code",
   "execution_count": 31,
   "metadata": {},
   "outputs": [
    {
     "name": "stderr",
     "output_type": "stream",
     "text": [
      "MolOP parsing with single thread: 100%|██████████| 1/1 [00:00<00:00, 24.27it/s]\n",
      "0 files failed to parse, 1 successfully parsed\n"
     ]
    },
    {
     "data": {
      "text/plain": [
       "0            Cc1[c]n2ncnc2o1\n",
       "1     CC1=C2N3N=C[N][C@]23O1\n",
       "2            Cc1[c]n2ncnc2o1\n",
       "3            Cc1[c]n2ncnc2o1\n",
       "4            Cc1[c]n2ncnc2o1\n",
       "5            Cc1[c]n2ncnc2o1\n",
       "6            Cc1[c]n2ncnc2o1\n",
       "7            Cc1[c]n2ncnc2o1\n",
       "8            Cc1[c]n2ncnc2o1\n",
       "9            Cc1[c]n2ncnc2o1\n",
       "10           Cc1[c]n2ncnc2o1\n",
       "11           Cc1[c]n2ncnc2o1\n",
       "12           Cc1[c]n2ncnc2o1\n",
       "13           Cc1[c]n2ncnc2o1\n",
       "14           Cc1[c]n2ncnc2o1\n",
       "15           Cc1[c]n2ncnc2o1\n",
       "16           Cc1[c]n2ncnc2o1\n",
       "17           Cc1[c]n2ncnc2o1\n",
       "18           Cc1[c]n2ncnc2o1\n",
       "19           Cc1[c]n2ncnc2o1\n",
       "20           Cc1[c]n2ncnc2o1\n",
       "21           Cc1[c]n2ncnc2o1\n",
       "Name: SMILES, dtype: object"
      ]
     },
     "execution_count": 31,
     "metadata": {},
     "output_type": "execute_result"
    }
   ],
   "source": [
    "test_file = AutoParser(\n",
    "    \"../tests/test_files/g16log/dsgdb9nsd_125334-4.log\",\n",
    "    n_jobs=1,\n",
    "    only_extract_structure=False,\n",
    ")\n",
    "test_file[0].to_summary_df()[\"SMILES\"]"
   ]
  },
  {
   "cell_type": "markdown",
   "metadata": {},
   "source": [
    "## [dsgdb9nsd_130495-1.log](../tests/test_files/g16log/dsgdb9nsd_130495-1.log)"
   ]
  },
  {
   "cell_type": "code",
   "execution_count": 32,
   "metadata": {},
   "outputs": [
    {
     "name": "stderr",
     "output_type": "stream",
     "text": [
      "MolOP parsing with single thread: 100%|██████████| 1/1 [00:00<00:00, 43.04it/s]\n",
      "0 files failed to parse, 1 successfully parsed\n"
     ]
    },
    {
     "data": {
      "text/plain": [
       "0    [c]1ncnc2nonc12\n",
       "1    [c]1ncnc2nonc12\n",
       "2    [c]1ncnc2nonc12\n",
       "3    [c]1ncnc2nonc12\n",
       "4    [c]1ncnc2nonc12\n",
       "5    [c]1ncnc2nonc12\n",
       "6    [c]1ncnc2nonc12\n",
       "7    [c]1ncnc2nonc12\n",
       "8    [c]1ncnc2nonc12\n",
       "Name: SMILES, dtype: object"
      ]
     },
     "execution_count": 32,
     "metadata": {},
     "output_type": "execute_result"
    }
   ],
   "source": [
    "test_file = AutoParser(\n",
    "    \"../tests/test_files/g16log/dsgdb9nsd_130495-1.log\",\n",
    "    n_jobs=1,\n",
    "    only_extract_structure=False,\n",
    ")\n",
    "test_file[0].to_summary_df()[\"SMILES\"]"
   ]
  },
  {
   "cell_type": "markdown",
   "metadata": {},
   "source": [
    "## [dsgdb9nsd_130472-2.log](../tests/test_files/g16log/dsgdb9nsd_130472-2.log)"
   ]
  },
  {
   "cell_type": "code",
   "execution_count": 33,
   "metadata": {},
   "outputs": [
    {
     "name": "stderr",
     "output_type": "stream",
     "text": [
      "MolOP parsing with single thread: 100%|██████████| 1/1 [00:00<00:00, 39.62it/s]\n",
      "0 files failed to parse, 1 successfully parsed\n"
     ]
    },
    {
     "data": {
      "text/plain": [
       "0    [c]1ncnc2nocc12\n",
       "1    [c]1ncnc2nocc12\n",
       "2    [c]1ncnc2nocc12\n",
       "3    [c]1ncnc2nocc12\n",
       "4    [c]1ncnc2nocc12\n",
       "5    [c]1ncnc2nocc12\n",
       "6    [c]1ncnc2nocc12\n",
       "7    [c]1ncnc2nocc12\n",
       "Name: SMILES, dtype: object"
      ]
     },
     "execution_count": 33,
     "metadata": {},
     "output_type": "execute_result"
    }
   ],
   "source": [
    "test_file = AutoParser(\n",
    "    \"../tests/test_files/g16log/dsgdb9nsd_130472-2.log\",\n",
    "    n_jobs=1,\n",
    "    only_extract_structure=False,\n",
    ")\n",
    "test_file[0].to_summary_df()[\"SMILES\"]"
   ]
  },
  {
   "cell_type": "markdown",
   "metadata": {},
   "source": [
    "## [dsgdb9nsd_130472-1.log](../tests/test_files/g16log/dsgdb9nsd_130472-1.log)"
   ]
  },
  {
   "cell_type": "code",
   "execution_count": 34,
   "metadata": {},
   "outputs": [
    {
     "name": "stderr",
     "output_type": "stream",
     "text": [
      "MolOP parsing with single thread: 100%|██████████| 1/1 [00:00<00:00, 40.87it/s]\n",
      "0 files failed to parse, 1 successfully parsed\n"
     ]
    },
    {
     "data": {
      "text/plain": [
       "0    [c]1[o+][n-]c2ncncc12\n",
       "1    [c]1[o+][n-]c2ncncc12\n",
       "2          [c]1onc2ncncc12\n",
       "3          [c]1onc2ncncc12\n",
       "4          [c]1onc2ncncc12\n",
       "5          [c]1onc2ncncc12\n",
       "6          [c]1onc2ncncc12\n",
       "7          [c]1onc2ncncc12\n",
       "8          [c]1onc2ncncc12\n",
       "Name: SMILES, dtype: object"
      ]
     },
     "execution_count": 34,
     "metadata": {},
     "output_type": "execute_result"
    }
   ],
   "source": [
    "test_file = AutoParser(\n",
    "    \"../tests/test_files/g16log/dsgdb9nsd_130472-1.log\",\n",
    "    n_jobs=1,\n",
    "    only_extract_structure=False,\n",
    ")\n",
    "test_file[0].to_summary_df()[\"SMILES\"]"
   ]
  },
  {
   "cell_type": "markdown",
   "metadata": {},
   "source": [
    "## [dsgdb9nsd_130483-1.log](../tests/test_files/g16log/dsgdb9nsd_130483-1.log)"
   ]
  },
  {
   "cell_type": "code",
   "execution_count": 35,
   "metadata": {},
   "outputs": [
    {
     "name": "stderr",
     "output_type": "stream",
     "text": [
      "MolOP parsing with single thread: 100%|██████████| 1/1 [00:00<00:00, 34.68it/s]\n",
      "0 files failed to parse, 1 successfully parsed\n"
     ]
    },
    {
     "data": {
      "text/plain": [
       "0    [c]1cc2ccnc-2no1\n",
       "1    [c]1cc2ccnc-2no1\n",
       "2    [c]1cc2ccnc-2no1\n",
       "3    [c]1cc2ccnc-2no1\n",
       "4    [c]1cc2ccnc-2no1\n",
       "5    [c]1cc2ccnc-2no1\n",
       "6    [c]1cc2ccnc-2no1\n",
       "7    [c]1cc2ccnc-2no1\n",
       "8    [c]1cc2ccnc-2no1\n",
       "Name: SMILES, dtype: object"
      ]
     },
     "execution_count": 35,
     "metadata": {},
     "output_type": "execute_result"
    }
   ],
   "source": [
    "test_file = AutoParser(\n",
    "    \"../tests/test_files/g16log/dsgdb9nsd_130483-1.log\",\n",
    "    n_jobs=1,\n",
    "    only_extract_structure=False,\n",
    ")\n",
    "test_file[0].to_summary_df()[\"SMILES\"]"
   ]
  },
  {
   "cell_type": "markdown",
   "metadata": {},
   "source": [
    "## [dsgdb9nsd_126920-7.log](../tests/test_files/g16log/dsgdb9nsd_126920-7.log)"
   ]
  },
  {
   "cell_type": "code",
   "execution_count": 36,
   "metadata": {},
   "outputs": [
    {
     "name": "stderr",
     "output_type": "stream",
     "text": [
      "MolOP parsing with single thread: 100%|██████████| 1/1 [00:00<00:00, 19.54it/s]\n",
      "0 files failed to parse, 1 successfully parsed\n"
     ]
    },
    {
     "data": {
      "text/plain": [
       "0     CCNc1[c]c(N)no1\n",
       "1     CCNc1[c]c(N)no1\n",
       "2     CCNc1[c]c(N)no1\n",
       "3     CCNc1[c]c(N)no1\n",
       "4     CCNc1[c]c(N)no1\n",
       "5     CCNc1[c]c(N)no1\n",
       "6     CCNc1[c]c(N)no1\n",
       "7     CCNc1[c]c(N)no1\n",
       "8     CCNc1[c]c(N)no1\n",
       "9     CCNc1[c]c(N)no1\n",
       "10    CCNc1[c]c(N)no1\n",
       "11    CCNc1[c]c(N)no1\n",
       "12    CCNc1[c]c(N)no1\n",
       "13    CCNc1[c]c(N)no1\n",
       "14    CCNc1[c]c(N)no1\n",
       "15    CCNc1[c]c(N)no1\n",
       "16    CCNc1[c]c(N)no1\n",
       "17    CCNc1[c]c(N)no1\n",
       "18    CCNc1[c]c(N)no1\n",
       "19    CCNc1[c]c(N)no1\n",
       "20    CCNc1[c]c(N)no1\n",
       "Name: SMILES, dtype: object"
      ]
     },
     "execution_count": 36,
     "metadata": {},
     "output_type": "execute_result"
    }
   ],
   "source": [
    "test_file = AutoParser(\n",
    "    \"../tests/test_files/g16log/dsgdb9nsd_126920-7.log\",\n",
    "    n_jobs=1,\n",
    "    only_extract_structure=False,\n",
    ")\n",
    "test_file[0].to_summary_df()[\"SMILES\"]"
   ]
  },
  {
   "cell_type": "markdown",
   "metadata": {},
   "source": [
    "## [dsgdb9nsd_126885-6.log](../tests/test_files/g16log/dsgdb9nsd_126885-6.log)"
   ]
  },
  {
   "cell_type": "code",
   "execution_count": 37,
   "metadata": {},
   "outputs": [
    {
     "name": "stderr",
     "output_type": "stream",
     "text": [
      "MolOP parsing with single thread: 100%|██████████| 1/1 [00:00<00:00, 11.21it/s]\n",
      "0 files failed to parse, 1 successfully parsed\n"
     ]
    },
    {
     "data": {
      "text/plain": [
       "0     CC/N=c1\\o[c]nn1C\n",
       "1     CC/N=c1\\o[c]nn1C\n",
       "2     CC/N=c1\\o[c]nn1C\n",
       "3     CC/N=c1\\o[c]nn1C\n",
       "4     CC/N=c1\\o[c]nn1C\n",
       "5     CC/N=c1\\o[c]nn1C\n",
       "6     CC/N=c1\\o[c]nn1C\n",
       "7     CC/N=c1\\o[c]nn1C\n",
       "8     CC/N=c1\\o[c]nn1C\n",
       "9     CC/N=c1\\o[c]nn1C\n",
       "10    CC/N=c1\\o[c]nn1C\n",
       "11    CC/N=c1\\o[c]nn1C\n",
       "12    CC/N=c1\\o[c]nn1C\n",
       "13    CC/N=c1\\o[c]nn1C\n",
       "14    CC/N=c1\\o[c]nn1C\n",
       "15    CC/N=c1\\o[c]nn1C\n",
       "16    CC/N=c1\\o[c]nn1C\n",
       "17    CC/N=c1\\o[c]nn1C\n",
       "18    CC/N=c1\\o[c]nn1C\n",
       "19    CC/N=c1\\o[c]nn1C\n",
       "20    CC/N=c1\\o[c]nn1C\n",
       "21    CC/N=c1\\o[c]nn1C\n",
       "22    CC/N=c1\\o[c]nn1C\n",
       "23    CC/N=c1\\o[c]nn1C\n",
       "24    CC/N=c1\\o[c]nn1C\n",
       "25    CC/N=c1\\o[c]nn1C\n",
       "26    CC/N=c1\\o[c]nn1C\n",
       "27    CC/N=c1\\o[c]nn1C\n",
       "28    CC/N=c1\\o[c]nn1C\n",
       "29    CC/N=c1\\o[c]nn1C\n",
       "30    CC/N=c1\\o[c]nn1C\n",
       "31    CC/N=c1\\o[c]nn1C\n",
       "32    CC/N=c1\\o[c]nn1C\n",
       "33    CC/N=c1\\o[c]nn1C\n",
       "34    CC/N=c1\\o[c]nn1C\n",
       "35    CC/N=c1\\o[c]nn1C\n",
       "36    CC/N=c1\\o[c]nn1C\n",
       "37    CC/N=c1\\o[c]nn1C\n",
       "38    CC/N=c1\\o[c]nn1C\n",
       "39    CC/N=c1\\o[c]nn1C\n",
       "40    CC/N=c1\\o[c]nn1C\n",
       "41    CC/N=c1\\o[c]nn1C\n",
       "42    CC/N=c1\\o[c]nn1C\n",
       "43    CC/N=c1\\o[c]nn1C\n",
       "44    CC/N=c1\\o[c]nn1C\n",
       "45    CC/N=c1\\o[c]nn1C\n",
       "46    CC/N=c1\\o[c]nn1C\n",
       "47    CC/N=c1\\o[c]nn1C\n",
       "48    CC/N=c1\\o[c]nn1C\n",
       "49    CC/N=c1\\o[c]nn1C\n",
       "50    CC/N=c1\\o[c]nn1C\n",
       "51    CC/N=c1\\o[c]nn1C\n",
       "52    CC/N=c1\\o[c]nn1C\n",
       "53    CC/N=c1\\o[c]nn1C\n",
       "54    CC/N=c1\\o[c]nn1C\n",
       "55    CC/N=c1\\o[c]nn1C\n",
       "56    CC/N=c1\\o[c]nn1C\n",
       "57    CC/N=c1\\o[c]nn1C\n",
       "58    CC/N=c1\\o[c]nn1C\n",
       "Name: SMILES, dtype: object"
      ]
     },
     "execution_count": 37,
     "metadata": {},
     "output_type": "execute_result"
    }
   ],
   "source": [
    "test_file = AutoParser(\n",
    "    \"../tests/test_files/g16log/dsgdb9nsd_126885-6.log\",\n",
    "    n_jobs=1,\n",
    "    only_extract_structure=False,\n",
    ")\n",
    "test_file[0].to_summary_df()[\"SMILES\"]"
   ]
  },
  {
   "cell_type": "markdown",
   "metadata": {},
   "source": [
    "## [dsgdb9nsd_126828-6.log](../tests/test_files/g16log/dsgdb9nsd_126828-6.log)"
   ]
  },
  {
   "cell_type": "code",
   "execution_count": 38,
   "metadata": {},
   "outputs": [
    {
     "name": "stderr",
     "output_type": "stream",
     "text": [
      "MolOP parsing with single thread: 100%|██████████| 1/1 [00:00<00:00, 17.08it/s]\n",
      "0 files failed to parse, 1 successfully parsed\n"
     ]
    },
    {
     "data": {
      "text/plain": [
       "0     CCn1n[c]o/c1=N\\C\n",
       "1     CCn1n[c]o/c1=N\\C\n",
       "2     CCn1n[c]o/c1=N\\C\n",
       "3     CCn1n[c]o/c1=N\\C\n",
       "4     CCn1n[c]o/c1=N\\C\n",
       "5     CCn1n[c]o/c1=N\\C\n",
       "6     CCn1n[c]o/c1=N\\C\n",
       "7     CCn1n[c]o/c1=N\\C\n",
       "8     CCn1n[c]o/c1=N\\C\n",
       "9     CCn1n[c]o/c1=N\\C\n",
       "10    CCn1n[c]o/c1=N\\C\n",
       "11    CCn1n[c]o/c1=N\\C\n",
       "12    CCn1n[c]o/c1=N\\C\n",
       "13    CCn1n[c]o/c1=N\\C\n",
       "14    CCn1n[c]o/c1=N\\C\n",
       "15    CCn1n[c]o/c1=N\\C\n",
       "16    CCn1n[c]o/c1=N\\C\n",
       "17    CCn1n[c]o/c1=N\\C\n",
       "18    CCn1n[c]o/c1=N\\C\n",
       "19    CCn1n[c]o/c1=N\\C\n",
       "20    CCn1n[c]o/c1=N\\C\n",
       "21    CCn1n[c]o/c1=N\\C\n",
       "22    CCn1n[c]o/c1=N\\C\n",
       "23    CCn1n[c]o/c1=N\\C\n",
       "24    CCn1n[c]o/c1=N\\C\n",
       "25    CCn1n[c]o/c1=N\\C\n",
       "26    CCn1n[c]o/c1=N\\C\n",
       "27    CCn1n[c]o/c1=N\\C\n",
       "28    CCn1n[c]o/c1=N\\C\n",
       "29    CCn1n[c]o/c1=N\\C\n",
       "30    CCn1n[c]o/c1=N\\C\n",
       "31    CCn1n[c]o/c1=N\\C\n",
       "Name: SMILES, dtype: object"
      ]
     },
     "execution_count": 38,
     "metadata": {},
     "output_type": "execute_result"
    }
   ],
   "source": [
    "test_file = AutoParser(\n",
    "    \"../tests/test_files/g16log/dsgdb9nsd_126828-6.log\",\n",
    "    n_jobs=1,\n",
    "    only_extract_structure=False,\n",
    ")\n",
    "test_file[0].to_summary_df()[\"SMILES\"]"
   ]
  },
  {
   "cell_type": "markdown",
   "metadata": {},
   "source": [
    "## [dsgdb9nsd_126081-4.log](../tests/test_files/g16log/dsgdb9nsd_126081-4.log)"
   ]
  },
  {
   "cell_type": "code",
   "execution_count": 39,
   "metadata": {},
   "outputs": [
    {
     "name": "stderr",
     "output_type": "stream",
     "text": [
      "MolOP parsing with single thread: 100%|██████████| 1/1 [00:00<00:00, 38.91it/s]\n",
      "0 files failed to parse, 1 successfully parsed\n"
     ]
    },
    {
     "data": {
      "text/plain": [
       "0    Cc1oc([O-])c(N=[N])[o+]1\n",
       "1    Cc1oc([O-])c(N=[N])[o+]1\n",
       "2    Cc1oc([O-])c(N=[N])[o+]1\n",
       "3    Cc1oc([O-])c(N=[N])[o+]1\n",
       "4    Cc1oc([O-])c(N=[N])[o+]1\n",
       "5    Cc1oc([O-])c(N=[N])[o+]1\n",
       "6    Cc1oc([O-])c(N=[N])[o+]1\n",
       "7    Cc1oc([O-])c(N=[N])[o+]1\n",
       "8    Cc1oc([O-])c(N=[N])[o+]1\n",
       "9    Cc1oc([O-])c(N=[N])[o+]1\n",
       "Name: SMILES, dtype: object"
      ]
     },
     "execution_count": 39,
     "metadata": {},
     "output_type": "execute_result"
    }
   ],
   "source": [
    "test_file = AutoParser(\n",
    "    \"../tests/test_files/g16log/dsgdb9nsd_126081-4.log\",\n",
    "    n_jobs=1,\n",
    "    only_extract_structure=False,\n",
    ")\n",
    "test_file[0].to_summary_df()[\"SMILES\"]"
   ]
  },
  {
   "cell_type": "markdown",
   "metadata": {},
   "source": [
    "## [dsgdb9nsd_126029-6.log](../tests/test_files/g16log/dsgdb9nsd_126029-6.log)"
   ]
  },
  {
   "cell_type": "code",
   "execution_count": 40,
   "metadata": {},
   "outputs": [
    {
     "name": "stderr",
     "output_type": "stream",
     "text": [
      "MolOP parsing with single thread: 100%|██████████| 1/1 [00:00<00:00, 19.87it/s]\n",
      "0 files failed to parse, 1 successfully parsed\n"
     ]
    },
    {
     "data": {
      "text/plain": [
       "0             C[C@H]1[CH]Oc2nnoc21\n",
       "1             C[C@H]1[CH]Oc2nnoc21\n",
       "2             C[C@H]1[CH]Oc2nnoc21\n",
       "3             C[C@H]1[CH]Oc2nnoc21\n",
       "4             C[C@H]1[CH]Oc2nnoc21\n",
       "5             C[C@H]1[CH]Oc2nnoc21\n",
       "6             C[C@H]1[CH]Oc2nnoc21\n",
       "7             C[C@H]1[CH]Oc2nnoc21\n",
       "8             C[C@H]1[CH]Oc2nnoc21\n",
       "9             C[C@H]1[CH]Oc2nnoc21\n",
       "10            C[C@H]1[CH]Oc2nnoc21\n",
       "11    C[C@H]1C=[O+]C(N=[N])=C1[O-]\n",
       "12    C[C@H]1C=[O+]C(N=[N])=C1[O-]\n",
       "13    C[C@H]1C=[O+]C(N=[N])=C1[O-]\n",
       "14    C[C@H]1C=[O+]C(N=[N])=C1[O-]\n",
       "15    C[C@H]1C=[O+]C(N=[N])=C1[O-]\n",
       "16    C[C@H]1C=[O+]C(N=[N])=C1[O-]\n",
       "17    C[C@H]1C=[O+]C(N=[N])=C1[O-]\n",
       "18    C[C@H]1C=[O+]C(N=[N])=C1[O-]\n",
       "19    C[C@H]1C=[O+]C(N=[N])=C1[O-]\n",
       "20    C[C@H]1C=[O+]C(N=[N])=C1[O-]\n",
       "21    C[C@H]1C=[O+]C(N=[N])=C1[O-]\n",
       "22    C[C@H]1C=[O+]C(N=[N])=C1[O-]\n",
       "23    C[C@H]1C=[O+]C(N=[N])=C1[O-]\n",
       "24    C[C@H]1C=[O+]C(N=[N])=C1[O-]\n",
       "25    C[C@H]1C=[O+]C(N=[N])=C1[O-]\n",
       "26    C[C@H]1C=[O+]C(N=[N])=C1[O-]\n",
       "27    C[C@H]1C=[O+]C(N=[N])=C1[O-]\n",
       "Name: SMILES, dtype: object"
      ]
     },
     "execution_count": 40,
     "metadata": {},
     "output_type": "execute_result"
    }
   ],
   "source": [
    "test_file = AutoParser(\n",
    "    \"../tests/test_files/g16log/dsgdb9nsd_126029-6.log\",\n",
    "    n_jobs=1,\n",
    "    only_extract_structure=False,\n",
    ")\n",
    "test_file[0].to_summary_df()[\"SMILES\"]"
   ]
  },
  {
   "cell_type": "markdown",
   "metadata": {},
   "source": [
    "## [dsgdb9nsd_125328-4.log](../tests/test_files/g16log/dsgdb9nsd_125328-4.log)"
   ]
  },
  {
   "cell_type": "code",
   "execution_count": 41,
   "metadata": {},
   "outputs": [
    {
     "name": "stderr",
     "output_type": "stream",
     "text": [
      "MolOP parsing with single thread: 100%|██████████| 1/1 [00:00<00:00, 12.63it/s]\n",
      "0 files failed to parse, 1 successfully parsed\n"
     ]
    },
    {
     "data": {
      "text/plain": [
       "0             Cc1[c]n2cnnc2o1\n",
       "1     CC1=C2N3C=N[N][C@@]23O1\n",
       "2             Cc1[c]n2cnnc2o1\n",
       "3             Cc1[c]n2cnnc2o1\n",
       "4             Cc1[c]n2cnnc2o1\n",
       "5             Cc1[c]n2cnnc2o1\n",
       "6             Cc1[c]n2cnnc2o1\n",
       "7             Cc1[c]n2cnnc2o1\n",
       "8             Cc1[c]n2cnnc2o1\n",
       "9             Cc1[c]n2cnnc2o1\n",
       "10            Cc1[c]n2cnnc2o1\n",
       "11            Cc1[c]n2cnnc2o1\n",
       "12            Cc1[c]n2cnnc2o1\n",
       "13            Cc1[c]n2cnnc2o1\n",
       "14            Cc1[c]n2cnnc2o1\n",
       "15            Cc1[c]n2cnnc2o1\n",
       "16            Cc1[c]n2cnnc2o1\n",
       "17            Cc1[c]n2cnnc2o1\n",
       "18            Cc1[c]n2cnnc2o1\n",
       "19            Cc1[c]n2cnnc2o1\n",
       "20            Cc1[c]n2cnnc2o1\n",
       "21            Cc1[c]n2cnnc2o1\n",
       "Name: SMILES, dtype: object"
      ]
     },
     "execution_count": 41,
     "metadata": {},
     "output_type": "execute_result"
    }
   ],
   "source": [
    "test_file = AutoParser(\n",
    "    \"../tests/test_files/g16log/dsgdb9nsd_125328-4.log\",\n",
    "    n_jobs=1,\n",
    "    only_extract_structure=False,\n",
    ")\n",
    "test_file[0].to_summary_df()[\"SMILES\"]"
   ]
  },
  {
   "cell_type": "markdown",
   "metadata": {},
   "source": [
    "## [dsgdb9nsd_130336-5.xyz](../tests/test_files/xyz/dsgdb9nsd_130336-5.xyz)"
   ]
  },
  {
   "cell_type": "code",
   "execution_count": 42,
   "metadata": {},
   "outputs": [
    {
     "name": "stderr",
     "output_type": "stream",
     "text": [
      "MolOP parsing with single thread: 100%|██████████| 1/1 [00:00<00:00, 2213.35it/s]\n",
      "0 files failed to parse, 1 successfully parsed\n"
     ]
    },
    {
     "data": {
      "text/plain": [
       "0    [NH3+]c1[cH-][c]c2onnc12\n",
       "Name: SMILES, dtype: object"
      ]
     },
     "execution_count": 42,
     "metadata": {},
     "output_type": "execute_result"
    }
   ],
   "source": [
    "test_file = AutoParser(\n",
    "    \"../tests/test_files/xyz/dsgdb9nsd_130336-5.xyz\",\n",
    "    n_jobs=1,\n",
    "    only_extract_structure=False,\n",
    ")\n",
    "test_file[0].to_summary_df()[\"SMILES\"]"
   ]
  },
  {
   "cell_type": "markdown",
   "metadata": {},
   "source": [
    "## [molecule_0.log](../tests/test_files/g16log/molecule_0.log)"
   ]
  },
  {
   "cell_type": "code",
   "execution_count": 43,
   "metadata": {},
   "outputs": [
    {
     "name": "stderr",
     "output_type": "stream",
     "text": [
      "MolOP parsing with single thread: 100%|██████████| 1/1 [00:00<00:00, 76.01it/s]\n",
      "0 files failed to parse, 1 successfully parsed\n"
     ]
    },
    {
     "data": {
      "text/plain": [
       "0    C[C@@H]1[C@H](C)C2=C(CC2)[C@@H]1C\n",
       "1    C[C@@H]1[C@H](C)C2=C(CC2)[C@@H]1C\n",
       "2    C[C@@H]1[C@H](C)C2=C(CC2)[C@@H]1C\n",
       "3    C[C@@H]1[C@H](C)C2=C(CC2)[C@@H]1C\n",
       "4    C[C@@H]1[C@H](C)C2=C(CC2)[C@@H]1C\n",
       "5    C[C@@H]1[C@H](C)C2=C(CC2)[C@@H]1C\n",
       "6    C[C@@H]1[C@H](C)C2=C(CC2)[C@@H]1C\n",
       "7    C[C@@H]1[C@H](C)C2=C(CC2)[C@@H]1C\n",
       "8    C[C@@H]1[C@H](C)C2=C(CC2)[C@@H]1C\n",
       "Name: SMILES, dtype: object"
      ]
     },
     "execution_count": 43,
     "metadata": {},
     "output_type": "execute_result"
    }
   ],
   "source": [
    "test_file = AutoParser(\n",
    "    \"../tests/test_files/g16log/molecule_0.log\",\n",
    "    n_jobs=1,\n",
    "    only_extract_structure=False,\n",
    ")\n",
    "test_file[0].to_summary_df()[\"SMILES\"]"
   ]
  },
  {
   "cell_type": "markdown",
   "metadata": {},
   "source": [
    "## [dsgdb9nsd_131941-4+.log](../tests/test_files/g16log/dsgdb9nsd_131941-4+.log)"
   ]
  },
  {
   "cell_type": "code",
   "execution_count": 44,
   "metadata": {},
   "outputs": [
    {
     "name": "stderr",
     "output_type": "stream",
     "text": [
      "MolOP parsing with single thread: 100%|██████████| 1/1 [00:00<00:00, 26.61it/s]\n",
      "0 files failed to parse, 1 successfully parsed\n"
     ]
    },
    {
     "data": {
      "text/plain": [
       "0     CN1[C+]=CC([N+](=O)[O-])=C1\n",
       "1     CN1[C+]=CC([N+](=O)[O-])=C1\n",
       "2     CN1[C+]=CC([N+](=O)[O-])=C1\n",
       "3     CN1[C+]=CC([N+](=O)[O-])=C1\n",
       "4     CN1[C+]=CC([N+](=O)[O-])=C1\n",
       "5     CN1[C+]=CC([N+](=O)[O-])=C1\n",
       "6     CN1[C+]=CC([N+](=O)[O-])=C1\n",
       "7     CN1[C+]=CC([N+](=O)[O-])=C1\n",
       "8     CN1[C+]=CC([N+](=O)[O-])=C1\n",
       "9     CN1[C+]=CC([N+](=O)[O-])=C1\n",
       "10    CN1[C+]=CC([N+](=O)[O-])=C1\n",
       "11    CN1[C+]=CC([N+](=O)[O-])=C1\n",
       "12    CN1[C+]=CC([N+](=O)[O-])=C1\n",
       "13    CN1[C+]=CC([N+](=O)[O-])=C1\n",
       "14    CN1[C+]=CC([N+](=O)[O-])=C1\n",
       "15    CN1[C+]=CC([N+](=O)[O-])=C1\n",
       "16    CN1[C+]=CC([N+](=O)[O-])=C1\n",
       "17    CN1[C+]=CC([N+](=O)[O-])=C1\n",
       "18    CN1[C+]=CC([N+](=O)[O-])=C1\n",
       "19    CN1[C+]=CC([N+](=O)[O-])=C1\n",
       "20    CN1[C+]=CC([N+](=O)[O-])=C1\n",
       "21    CN1[C+]=CC([N+](=O)[O-])=C1\n",
       "Name: SMILES, dtype: object"
      ]
     },
     "execution_count": 44,
     "metadata": {},
     "output_type": "execute_result"
    }
   ],
   "source": [
    "test_file = AutoParser(\n",
    "    \"../tests/test_files/g16log/dsgdb9nsd_131941-4+.log\",\n",
    "    n_jobs=1,\n",
    "    only_extract_structure=False,\n",
    ")\n",
    "test_file[0].to_summary_df()[\"SMILES\"]"
   ]
  },
  {
   "cell_type": "markdown",
   "metadata": {},
   "source": [
    "## [RE_BOX-Anion-Real_Cu-III-Phenol_Major-Amide-Anion_From-IP_C-O-190_TS_Opt.log](../tests/test_files/g16log/RE_BOX-Anion-Real_Cu-III-Phenol_Major-Amide-Anion_From-IP_C-O-190_TS_Opt.log)"
   ]
  },
  {
   "cell_type": "code",
   "execution_count": 45,
   "metadata": {},
   "outputs": [
    {
     "name": "stderr",
     "output_type": "stream",
     "text": [
      "MolOP parsing with single thread: 100%|██████████| 1/1 [00:00<00:00,  3.36it/s]\n",
      "0 files failed to parse, 1 successfully parsed\n"
     ]
    },
    {
     "data": {
      "text/plain": [
       "0      C[CH]C(=O)N([Cu]N1/C(=C\\[C]2[N][C@H](C(C)(C)C)...\n",
       "1      C[CH]C(=O)N([Cu]N1/C(=C\\[C]2[N][C@H](C(C)(C)C)...\n",
       "2      C[C@@H](Oc1ccccc1)C(=O)N(c1ccccc1)[Cu]1N2C(=C[...\n",
       "3      C[CH]C(=O)N([Cu]N1/C(=C\\[C]2[N][C@H](C(C)(C)C)...\n",
       "4      C[CH]C(=O)N([Cu]N1/C(=C\\[C]2[N][C@H](C(C)(C)C)...\n",
       "                             ...                        \n",
       "130    C[C@@H]1C(=O)N(c2ccccc2)[Cu@TB17]12(Oc1ccccc1)...\n",
       "131    C[C@@H]1C(=O)N(c2ccccc2)[Cu@TB17]12(Oc1ccccc1)...\n",
       "132    C[C@@H]1C(=O)N(c2ccccc2)[Cu@TB17]12(Oc1ccccc1)...\n",
       "133    C[C@@H]1C(=O)N(c2ccccc2)[Cu@TB17]12(Oc1ccccc1)...\n",
       "134    C[C@@H]1C(=O)N(c2ccccc2)[Cu@TB17]12(Oc1ccccc1)...\n",
       "Name: SMILES, Length: 135, dtype: object"
      ]
     },
     "execution_count": 45,
     "metadata": {},
     "output_type": "execute_result"
    }
   ],
   "source": [
    "test_file = AutoParser(\n",
    "    \"../tests/test_files/g16log/RE_BOX-Anion-Real_Cu-III-Phenol_Major-Amide-Anion_From-IP_C-O-190_TS_Opt.log\",\n",
    "    n_jobs=1,\n",
    "    only_extract_structure=False,\n",
    ")\n",
    "test_file[0].to_summary_df()[\"SMILES\"]"
   ]
  },
  {
   "cell_type": "markdown",
   "metadata": {},
   "source": [
    "## [add_1.fchk](../tests/test_files/g16fchk/add_1.fchk)"
   ]
  },
  {
   "cell_type": "code",
   "execution_count": 46,
   "metadata": {},
   "outputs": [
    {
     "name": "stderr",
     "output_type": "stream",
     "text": [
      "MolOP parsing with single thread: 100%|██████████| 1/1 [00:00<00:00,  9.31it/s]\n",
      "0 files failed to parse, 1 successfully parsed\n"
     ]
    },
    {
     "data": {
      "text/plain": [
       "0    c1ccc(CN(Cc2ccccc2)c2ccon2)cc1\n",
       "Name: SMILES, dtype: object"
      ]
     },
     "execution_count": 46,
     "metadata": {},
     "output_type": "execute_result"
    }
   ],
   "source": [
    "test_file = AutoParser(\n",
    "    \"../tests/test_files/g16fchk/add_1.fchk\",\n",
    "    n_jobs=1,\n",
    "    only_extract_structure=False,\n",
    "    only_last_frame=True,\n",
    ")\n",
    "test_file[0].to_summary_df()[\"SMILES\"]"
   ]
  },
  {
   "cell_type": "markdown",
   "metadata": {},
   "source": [
    "## [add_0.fchk](../tests/test_files/g16fchk/add_0.fchk)"
   ]
  },
  {
   "cell_type": "code",
   "execution_count": 47,
   "metadata": {},
   "outputs": [
    {
     "name": "stderr",
     "output_type": "stream",
     "text": [
      "MolOP parsing with single thread: 100%|██████████| 1/1 [00:00<00:00, 101.91it/s]\n",
      "0 files failed to parse, 1 successfully parsed\n"
     ]
    },
    {
     "data": {
      "text/plain": [
       "0    CCOC(=O)c1cc(OC)no1\n",
       "Name: SMILES, dtype: object"
      ]
     },
     "execution_count": 47,
     "metadata": {},
     "output_type": "execute_result"
    }
   ],
   "source": [
    "test_file = AutoParser(\n",
    "    \"../tests/test_files/g16fchk/add_0.fchk\",\n",
    "    n_jobs=1,\n",
    "    only_extract_structure=False,\n",
    "    only_last_frame=True,\n",
    ")\n",
    "test_file[0].to_summary_df()[\"SMILES\"]"
   ]
  },
  {
   "cell_type": "markdown",
   "metadata": {},
   "source": [
    "## [dsgdb9nsd_000007-6.fchk](../tests/test_files/g16fchk/dsgdb9nsd_000007-6.fchk)"
   ]
  },
  {
   "cell_type": "code",
   "execution_count": 48,
   "metadata": {},
   "outputs": [
    {
     "name": "stderr",
     "output_type": "stream",
     "text": [
      "MolOP parsing with single thread: 100%|██████████| 1/1 [00:00<00:00, 130.77it/s]\n",
      "0 files failed to parse, 1 successfully parsed\n"
     ]
    },
    {
     "data": {
      "text/plain": [
       "0    [CH2]C\n",
       "Name: SMILES, dtype: object"
      ]
     },
     "execution_count": 48,
     "metadata": {},
     "output_type": "execute_result"
    }
   ],
   "source": [
    "test_file = AutoParser(\n",
    "    \"../tests/test_files/g16fchk/dsgdb9nsd_000007-6.fchk\",\n",
    "    n_jobs=1,\n",
    "    only_extract_structure=False,\n",
    "    only_last_frame=True,\n",
    ")\n",
    "test_file[0].to_summary_df()[\"SMILES\"]"
   ]
  },
  {
   "cell_type": "markdown",
   "metadata": {},
   "source": [
    "## [dsgdb9nsd_000001-3.fchk](../tests/test_files/g16fchk/dsgdb9nsd_000001-3.fchk)"
   ]
  },
  {
   "cell_type": "code",
   "execution_count": 49,
   "metadata": {},
   "outputs": [
    {
     "name": "stderr",
     "output_type": "stream",
     "text": [
      "MolOP parsing with single thread: 100%|██████████| 1/1 [00:00<00:00, 338.99it/s]\n",
      "0 files failed to parse, 1 successfully parsed\n"
     ]
    },
    {
     "data": {
      "text/plain": [
       "0    [CH3-]\n",
       "Name: SMILES, dtype: object"
      ]
     },
     "execution_count": 49,
     "metadata": {},
     "output_type": "execute_result"
    }
   ],
   "source": [
    "test_file = AutoParser(\n",
    "    \"../tests/test_files/g16fchk/dsgdb9nsd_000001-3.fchk\",\n",
    "    n_jobs=1,\n",
    "    only_extract_structure=False,\n",
    "    only_last_frame=True,\n",
    ")\n",
    "test_file[0].to_summary_df()[\"SMILES\"]"
   ]
  },
  {
   "cell_type": "markdown",
   "metadata": {},
   "source": [
    "## [dsgdb9nsd_000484-1+.log](../tests/test_files/dsgdb9nsd_000484-1+.log)"
   ]
  },
  {
   "cell_type": "code",
   "execution_count": 50,
   "metadata": {},
   "outputs": [
    {
     "name": "stderr",
     "output_type": "stream",
     "text": [
      "MolOP parsing with single thread: 100%|██████████| 1/1 [00:00<00:00, 212.77it/s]\n",
      "0 files failed to parse, 1 successfully parsed\n"
     ]
    },
    {
     "data": {
      "text/plain": [
       "0    [C+]#CC#CC#C\n",
       "1    [C+]#CC#CC#C\n",
       "2    [C+]#CC#CC#C\n",
       "3    [C+]#CC#CC#C\n",
       "4    [C+]#CC#CC#C\n",
       "5    [C+]#CC#CC#C\n",
       "6    [C+]#CC#CC#C\n",
       "7    [C+]#CC#CC#C\n",
       "Name: SMILES, dtype: object"
      ]
     },
     "execution_count": 50,
     "metadata": {},
     "output_type": "execute_result"
    }
   ],
   "source": [
    "test_file = AutoParser(\n",
    "    \"../tests/test_files/g16log/dsgdb9nsd_000484-1+.log\",\n",
    "    n_jobs=1,\n",
    "    only_extract_structure=True,\n",
    ")\n",
    "test_file[0].to_summary_df()[\"SMILES\"]"
   ]
  },
  {
   "cell_type": "markdown",
   "metadata": {},
   "source": [
    "## [dsgdb9nsd_000672-3+.log](../tests/test_files/g16log/dsgdb9nsd_000672-3+.log)"
   ]
  },
  {
   "cell_type": "code",
   "execution_count": 51,
   "metadata": {},
   "outputs": [
    {
     "name": "stderr",
     "output_type": "stream",
     "text": [
      "MolOP parsing with single thread: 100%|██████████| 1/1 [00:00<00:00, 129.01it/s]\n",
      "0 files failed to parse, 1 successfully parsed\n"
     ]
    },
    {
     "data": {
      "text/plain": [
       "0     [C+]1=C[C@H]2O[C@H]2C1\n",
       "1     [C+]1=C[C@H]2O[C@H]2C1\n",
       "2     [C+]1=C[C@H]2O[C@H]2C1\n",
       "3     [C+]1=C[C@H]2O[C@H]2C1\n",
       "4     [C+]1=C[C@H]2O[C@H]2C1\n",
       "5     [C+]1=C[C@H]2O[C@H]2C1\n",
       "6     [C+]1=C[C@H]2O[C@H]2C1\n",
       "7     [C+]1=C[C@H]2O[C@H]2C1\n",
       "8     [C+]1=C[C@H]2O[C@H]2C1\n",
       "9     [C+]1=C[C@H]2O[C@H]2C1\n",
       "10    [C+]1=C[C@H]2O[C@H]2C1\n",
       "11    [C+]1=C[C@H]2O[C@H]2C1\n",
       "12    [C+]1=C[C@H]2O[C@H]2C1\n",
       "Name: SMILES, dtype: object"
      ]
     },
     "execution_count": 51,
     "metadata": {},
     "output_type": "execute_result"
    }
   ],
   "source": [
    "test_file = AutoParser(\n",
    "    \"../tests/test_files/g16log/dsgdb9nsd_000672-3+.log\",\n",
    "    n_jobs=1,\n",
    "    only_extract_structure=True,\n",
    ")\n",
    "test_file[0].to_summary_df()[\"SMILES\"]"
   ]
  },
  {
   "cell_type": "markdown",
   "metadata": {},
   "source": [
    "## [dsgdb9nsd_000923-3+.log](../tests/test_files/g16log/dsgdb9nsd_000923-3+.log)"
   ]
  },
  {
   "cell_type": "code",
   "execution_count": 52,
   "metadata": {},
   "outputs": [
    {
     "name": "stderr",
     "output_type": "stream",
     "text": [
      "MolOP parsing with single thread: 100%|██████████| 1/1 [00:00<00:00, 148.14it/s]\n",
      "0 files failed to parse, 1 successfully parsed\n"
     ]
    },
    {
     "data": {
      "text/plain": [
       "0     O=C1C=C=[N+]=CN1\n",
       "1     O=C1C=C=[N+]=CN1\n",
       "2     O=C1C=C=[N+]=CN1\n",
       "3     O=C1C=C=[N+]=CN1\n",
       "4     O=C1C=C=[N+]=CN1\n",
       "5     O=C1C=C=[N+]=CN1\n",
       "6     O=C1C=C=[N+]=CN1\n",
       "7     O=C1C=C=[N+]=CN1\n",
       "8     O=C1C=C=[N+]=CN1\n",
       "9     O=C1C=C=[N+]=CN1\n",
       "10    O=C1C=C=[N+]=CN1\n",
       "Name: SMILES, dtype: object"
      ]
     },
     "execution_count": 52,
     "metadata": {},
     "output_type": "execute_result"
    }
   ],
   "source": [
    "test_file = AutoParser(\n",
    "    \"../tests/test_files/g16log/dsgdb9nsd_000923-3+.log\",\n",
    "    n_jobs=1,\n",
    "    only_extract_structure=True,\n",
    ")\n",
    "test_file[0].to_summary_df()[\"SMILES\"]"
   ]
  },
  {
   "cell_type": "markdown",
   "metadata": {},
   "source": [
    "## [dsgdb9nsd_003051-3.log](../tests/test_files/g16log/dsgdb9nsd_003051-3.log)"
   ]
  },
  {
   "cell_type": "code",
   "execution_count": 53,
   "metadata": {},
   "outputs": [
    {
     "name": "stderr",
     "output_type": "stream",
     "text": [
      "MolOP parsing with single thread: 100%|██████████| 1/1 [00:00<00:00, 91.11it/s]\n",
      "0 files failed to parse, 1 successfully parsed\n"
     ]
    },
    {
     "data": {
      "text/plain": [
       "0     O=CN[CH][C@H]1CO1\n",
       "1     O=CN[CH][C@H]1CO1\n",
       "2     O=CN[CH][C@H]1CO1\n",
       "3     O=CN[CH][C@H]1CO1\n",
       "4     O=CN[CH][C@H]1CO1\n",
       "5     O=CN[CH][C@H]1CO1\n",
       "6     O=CN[CH][C@H]1CO1\n",
       "7     O=CN[CH][C@H]1CO1\n",
       "8     O=CN[CH][C@H]1CO1\n",
       "9     O=CN[CH][C@H]1CO1\n",
       "10    O=CN[CH][C@H]1CO1\n",
       "11    O=CN[CH][C@H]1CO1\n",
       "12    O=CN[CH][C@H]1CO1\n",
       "13    O=CN[CH][C@H]1CO1\n",
       "14    O=CN[CH][C@H]1CO1\n",
       "15    O=CN[CH][C@H]1CO1\n",
       "16    O=CN[CH][C@H]1CO1\n",
       "17    O=CN[CH][C@H]1CO1\n",
       "Name: SMILES, dtype: object"
      ]
     },
     "execution_count": 53,
     "metadata": {},
     "output_type": "execute_result"
    }
   ],
   "source": [
    "test_file = AutoParser(\n",
    "    \"../tests/test_files/g16log/dsgdb9nsd_003051-3.log\",\n",
    "    n_jobs=1,\n",
    "    only_extract_structure=True,\n",
    ")\n",
    "test_file[0].to_summary_df()[\"SMILES\"]"
   ]
  },
  {
   "cell_type": "markdown",
   "metadata": {},
   "source": [
    "## [dsgdb9nsd_000696-4.log](../tests/test_files/g16log/dsgdb9nsd_000696-4.log)"
   ]
  },
  {
   "cell_type": "code",
   "execution_count": 54,
   "metadata": {},
   "outputs": [
    {
     "name": "stderr",
     "output_type": "stream",
     "text": [
      "MolOP parsing with single thread: 100%|██████████| 1/1 [00:00<00:00, 201.92it/s]\n",
      "0 files failed to parse, 1 successfully parsed\n"
     ]
    },
    {
     "data": {
      "text/plain": [
       "0    C1[C@@H]2[C]3CN2[C@@H]13\n",
       "1    C1[C@@H]2[C]3CN2[C@@H]13\n",
       "2    C1[C@@H]2[C]3CN2[C@@H]13\n",
       "3    C1[C@@H]2[C]3CN2[C@@H]13\n",
       "4    C1[C@@H]2[C]3CN2[C@@H]13\n",
       "5    C1[C@@H]2[C]3CN2[C@@H]13\n",
       "6    C1[C@@H]2[C]3CN2[C@@H]13\n",
       "7    C1[C@@H]2[C]3CN2[C@@H]13\n",
       "Name: SMILES, dtype: object"
      ]
     },
     "execution_count": 54,
     "metadata": {},
     "output_type": "execute_result"
    }
   ],
   "source": [
    "test_file = AutoParser(\n",
    "    \"../tests/test_files/g16log/dsgdb9nsd_000696-4.log\",\n",
    "    n_jobs=1,\n",
    "    only_extract_structure=True,\n",
    ")\n",
    "test_file[0].to_summary_df()[\"SMILES\"]"
   ]
  },
  {
   "cell_type": "markdown",
   "metadata": {},
   "source": [
    "## [dsgdb9nsd_004669-4.log](../tests/test_files/g16log/dsgdb9nsd_004669-4.log)"
   ]
  },
  {
   "cell_type": "code",
   "execution_count": 55,
   "metadata": {},
   "outputs": [
    {
     "name": "stderr",
     "output_type": "stream",
     "text": [
      "MolOP parsing with single thread: 100%|██████████| 1/1 [00:00<00:00, 146.72it/s]\n",
      "0 files failed to parse, 1 successfully parsed\n"
     ]
    },
    {
     "data": {
      "text/plain": [
       "0     O=CC1=C[N]C(O)=N1\n",
       "1     O=CC1=C[N]C(O)=N1\n",
       "2     O=CC1=C[N]C(O)=N1\n",
       "3     O=CC1=C[N]C(O)=N1\n",
       "4     O=CC1=CN=C(O)[N]1\n",
       "5     O=CC1=C[N]C(O)=N1\n",
       "6     O=CC1=CN=C(O)[N]1\n",
       "7     O=CC1=C[N]C(O)=N1\n",
       "8     O=CC1=C[N]C(O)=N1\n",
       "9     O=CC1=C[N]C(O)=N1\n",
       "10    O=CC1=C[N]C(O)=N1\n",
       "Name: SMILES, dtype: object"
      ]
     },
     "execution_count": 55,
     "metadata": {},
     "output_type": "execute_result"
    }
   ],
   "source": [
    "test_file = AutoParser(\n",
    "    \"../tests/test_files/g16log/dsgdb9nsd_004669-4.log\",\n",
    "    n_jobs=1,\n",
    "    only_extract_structure=True,\n",
    ")\n",
    "test_file[0].to_summary_df()[\"SMILES\"]"
   ]
  },
  {
   "cell_type": "markdown",
   "metadata": {},
   "source": [
    "## [dsgdb9nsd_131200-4-.log](../tests/test_files/g16log/dsgdb9nsd_131200-4-.log)"
   ]
  },
  {
   "cell_type": "code",
   "execution_count": 56,
   "metadata": {},
   "outputs": [
    {
     "name": "stderr",
     "output_type": "stream",
     "text": [
      "MolOP parsing with single thread: 100%|██████████| 1/1 [00:00<00:00, 123.43it/s]\n",
      "0 files failed to parse, 1 successfully parsed\n"
     ]
    },
    {
     "data": {
      "text/plain": [
       "0     [O-]c1onc2c1[CH-][NH2+]C2\n",
       "1     [O-]c1onc2c1[CH-][NH2+]C2\n",
       "2     [O-]c1onc2c1[CH-][NH2+]C2\n",
       "3     [O-]c1onc2c1[CH-][NH2+]C2\n",
       "4     [O-]c1onc2c1[CH-][NH2+]C2\n",
       "5     [O-]c1onc2c1[CH-][NH2+]C2\n",
       "6     [O-]c1onc2c1[CH-][NH2+]C2\n",
       "7     [O-]c1onc2c1[CH-][NH2+]C2\n",
       "8     [O-]c1onc2c1[CH-][NH2+]C2\n",
       "9     [O-]c1onc2c1[CH-][NH2+]C2\n",
       "10    [O-]c1onc2c1[CH-][NH2+]C2\n",
       "11    [O-]c1onc2c1[CH-][NH2+]C2\n",
       "Name: SMILES, dtype: object"
      ]
     },
     "execution_count": 56,
     "metadata": {},
     "output_type": "execute_result"
    }
   ],
   "source": [
    "test_file = AutoParser(\n",
    "    \"../tests/test_files/g16log/dsgdb9nsd_131200-4-.log\",\n",
    "    n_jobs=1,\n",
    "    only_extract_structure=True,\n",
    ")\n",
    "test_file[0].to_summary_df()[\"SMILES\"]"
   ]
  },
  {
   "cell_type": "markdown",
   "metadata": {},
   "source": [
    "## [dsgdb9nsd_000955-3.log](../tests/test_files/g16log/dsgdb9nsd_000955-3.log)"
   ]
  },
  {
   "cell_type": "code",
   "execution_count": 57,
   "metadata": {},
   "outputs": [
    {
     "name": "stderr",
     "output_type": "stream",
     "text": [
      "MolOP parsing with single thread: 100%|██████████| 1/1 [00:00<00:00, 226.66it/s]\n",
      "0 files failed to parse, 1 successfully parsed\n"
     ]
    },
    {
     "data": {
      "text/plain": [
       "0    Oc1nc[c]cn1\n",
       "1    Oc1nc[c]cn1\n",
       "2    Oc1nc[c]cn1\n",
       "3    Oc1nc[c]cn1\n",
       "4    Oc1nc[c]cn1\n",
       "5    Oc1nc[c]cn1\n",
       "6    Oc1nc[c]cn1\n",
       "Name: SMILES, dtype: object"
      ]
     },
     "execution_count": 57,
     "metadata": {},
     "output_type": "execute_result"
    }
   ],
   "source": [
    "test_file = AutoParser(\n",
    "    \"../tests/test_files/g16log/dsgdb9nsd_000955-3.log\",\n",
    "    n_jobs=1,\n",
    "    only_extract_structure=True,\n",
    ")\n",
    "test_file[0].to_summary_df()[\"SMILES\"]"
   ]
  },
  {
   "cell_type": "markdown",
   "metadata": {},
   "source": [
    "## [r1_C2H3N3O_sp_g16.log](../tests/test_files/g16log/r1_C2H3N3O_sp_g16.log)"
   ]
  },
  {
   "cell_type": "code",
   "execution_count": 58,
   "metadata": {},
   "outputs": [
    {
     "name": "stderr",
     "output_type": "stream",
     "text": [
      "MolOP parsing with single thread: 100%|██████████| 1/1 [00:00<00:00, 1079.89it/s]\n",
      "0 files failed to parse, 1 successfully parsed\n"
     ]
    },
    {
     "data": {
      "text/plain": [
       "0    C/C([O-])=N/[N+]#N\n",
       "Name: SMILES, dtype: object"
      ]
     },
     "execution_count": 58,
     "metadata": {},
     "output_type": "execute_result"
    }
   ],
   "source": [
    "test_file = AutoParser(\n",
    "    \"../tests/test_files/g16log/r1_C2H3N3O_sp_g16.log\",\n",
    "    n_jobs=1,\n",
    "    only_extract_structure=True,\n",
    ")\n",
    "test_file[0].to_summary_df()[\"SMILES\"]"
   ]
  },
  {
   "cell_type": "markdown",
   "metadata": {},
   "source": [
    "## [r1_C8H9N3O2_sp_g16.log](../tests/test_files/g16log/r1_C8H9N3O2_sp_g16.log)"
   ]
  },
  {
   "cell_type": "code",
   "execution_count": 59,
   "metadata": {},
   "outputs": [
    {
     "name": "stderr",
     "output_type": "stream",
     "text": [
      "MolOP parsing with single thread: 100%|██████████| 1/1 [00:00<00:00, 778.45it/s]\n",
      "0 files failed to parse, 1 successfully parsed\n"
     ]
    },
    {
     "data": {
      "text/plain": [
       "0    CN/C([O-])=N/[O+]=N\\c1ccccc1\n",
       "Name: SMILES, dtype: object"
      ]
     },
     "execution_count": 59,
     "metadata": {},
     "output_type": "execute_result"
    }
   ],
   "source": [
    "test_file = AutoParser(\n",
    "    \"../tests/test_files/g16log/r1_C8H9N3O2_sp_g16.log\",\n",
    "    n_jobs=1,\n",
    "    only_extract_structure=True,\n",
    ")\n",
    "test_file[0].to_summary_df()[\"SMILES\"]"
   ]
  },
  {
   "cell_type": "markdown",
   "metadata": {},
   "source": [
    "## [dsgdb9nsd_004738-2.log](../tests/test_files/g16log/dsgdb9nsd_004738-2.log)"
   ]
  },
  {
   "cell_type": "code",
   "execution_count": 60,
   "metadata": {},
   "outputs": [
    {
     "name": "stderr",
     "output_type": "stream",
     "text": [
      "MolOP parsing with single thread: 100%|██████████| 1/1 [00:00<00:00, 353.26it/s]\n",
      "0 files failed to parse, 1 successfully parsed\n"
     ]
    },
    {
     "data": {
      "text/plain": [
       "0    C#Cc1nc(O)[c]o1\n",
       "1    C#Cc1nc(O)[c]o1\n",
       "2    C#Cc1nc(O)[c]o1\n",
       "3    C#Cc1nc(O)[c]o1\n",
       "Name: SMILES, dtype: object"
      ]
     },
     "execution_count": 60,
     "metadata": {},
     "output_type": "execute_result"
    }
   ],
   "source": [
    "test_file = AutoParser(\n",
    "    \"../tests/test_files/g16log/dsgdb9nsd_004738-2.log\",\n",
    "    n_jobs=1,\n",
    "    only_extract_structure=True,\n",
    ")\n",
    "test_file[0].to_summary_df()[\"SMILES\"]"
   ]
  },
  {
   "cell_type": "markdown",
   "metadata": {},
   "source": [
    "## [dsgdb9nsd_004015-3-.log](../tests/test_files/g16log/dsgdb9nsd_004015-3-.log)"
   ]
  },
  {
   "cell_type": "code",
   "execution_count": 61,
   "metadata": {},
   "outputs": [
    {
     "name": "stderr",
     "output_type": "stream",
     "text": [
      "MolOP parsing with single thread: 100%|██████████| 1/1 [00:00<00:00, 73.70it/s]\n",
      "0 files failed to parse, 1 successfully parsed\n"
     ]
    },
    {
     "data": {
      "text/plain": [
       "0     [CH2-][NH2+]C/C(CO)=N/[O-]\n",
       "1     [CH2-][NH2+]C/C(CO)=N/[O-]\n",
       "2     [CH2-][NH2+]C/C(CO)=N/[O-]\n",
       "3     [CH2-][NH2+]C/C(CO)=N/[O-]\n",
       "4     [CH2-][NH2+]C/C(CO)=N/[O-]\n",
       "5     [CH2-][NH2+]C/C(CO)=N/[O-]\n",
       "6     [CH2-][NH2+]C/C(CO)=N/[O-]\n",
       "7     [CH2-][NH2+]C/C(CO)=N/[O-]\n",
       "8     [CH2-][NH2+]C/C(CO)=N/[O-]\n",
       "9     [CH2-][NH2+]C/C(CO)=N/[O-]\n",
       "10    [CH2-][NH2+]C/C(CO)=N/[O-]\n",
       "11    [CH2-][NH2+]C/C(CO)=N/[O-]\n",
       "12    [CH2-][NH2+]C/C(CO)=N/[O-]\n",
       "13    [CH2-][NH2+]C/C(CO)=N/[O-]\n",
       "14    [CH2-][NH2+]C/C(CO)=N/[O-]\n",
       "15    [CH2-][NH2+]C/C(CO)=N/[O-]\n",
       "16    [CH2-][NH2+]C/C(CO)=N/[O-]\n",
       "17    [CH2-][NH2+]C/C(CO)=N/[O-]\n",
       "18    [CH2-][NH2+]C/C(CO)=N/[O-]\n",
       "19    [CH2-][NH2+]C/C(CO)=N/[O-]\n",
       "Name: SMILES, dtype: object"
      ]
     },
     "execution_count": 61,
     "metadata": {},
     "output_type": "execute_result"
    }
   ],
   "source": [
    "test_file = AutoParser(\n",
    "    \"../tests/test_files/g16log/dsgdb9nsd_004015-3-.log\",\n",
    "    n_jobs=1,\n",
    "    only_extract_structure=True,\n",
    ")\n",
    "test_file[0].to_summary_df()[\"SMILES\"]"
   ]
  },
  {
   "cell_type": "markdown",
   "metadata": {},
   "source": [
    "## [dsgdb9nsd_000107-3-.log](../tests/test_files/g16log/dsgdb9nsd_000107-3-.log)"
   ]
  },
  {
   "cell_type": "code",
   "execution_count": 62,
   "metadata": {},
   "outputs": [
    {
     "name": "stderr",
     "output_type": "stream",
     "text": [
      "MolOP parsing with single thread: 100%|██████████| 1/1 [00:00<00:00, 68.94it/s]\n",
      "0 files failed to parse, 1 successfully parsed\n"
     ]
    },
    {
     "data": {
      "text/plain": [
       "0     C#C[CH-]C#C\n",
       "1     C#C[CH-]C#C\n",
       "2     C#C[CH-]C#C\n",
       "3     C#C[CH-]C#C\n",
       "4     C#C[CH-]C#C\n",
       "5     C#C[CH-]C#C\n",
       "6     C#C[CH-]C#C\n",
       "7     C#C[CH-]C#C\n",
       "8     C#C[CH-]C#C\n",
       "9     C#C[CH-]C#C\n",
       "10    C#C[CH-]C#C\n",
       "11    C#C[CH-]C#C\n",
       "12    C#C[CH-]C#C\n",
       "13    C#C[CH-]C#C\n",
       "14    C#C[CH-]C#C\n",
       "15    C#C[CH-]C#C\n",
       "16    C#C[CH-]C#C\n",
       "17    C#C[CH-]C#C\n",
       "18    C#C[CH-]C#C\n",
       "19    C#C[CH-]C#C\n",
       "20    C#C[CH-]C#C\n",
       "21    C#C[CH-]C#C\n",
       "22    C#C[CH-]C#C\n",
       "23    C#C[CH-]C#C\n",
       "24    C#C[CH-]C#C\n",
       "25    C#C[CH-]C#C\n",
       "Name: SMILES, dtype: object"
      ]
     },
     "execution_count": 62,
     "metadata": {},
     "output_type": "execute_result"
    }
   ],
   "source": [
    "test_file = AutoParser(\n",
    "    \"../tests/test_files/g16log/dsgdb9nsd_000107-3-.log\",\n",
    "    n_jobs=1,\n",
    "    only_extract_structure=True,\n",
    ")\n",
    "test_file[0].to_summary_df()[\"SMILES\"]"
   ]
  },
  {
   "cell_type": "markdown",
   "metadata": {},
   "source": [
    "## [dsgdb9nsd_004517-4-.log](../tests/test_files/g16log/dsgdb9nsd_004517-4-.log)"
   ]
  },
  {
   "cell_type": "code",
   "execution_count": 63,
   "metadata": {},
   "outputs": [
    {
     "name": "stderr",
     "output_type": "stream",
     "text": [
      "MolOP parsing with single thread: 100%|██████████| 1/1 [00:00<00:00, 193.88it/s]\n",
      "0 files failed to parse, 1 successfully parsed\n"
     ]
    },
    {
     "data": {
      "text/plain": [
       "0    Cc1[n-]c(O)nc1O\n",
       "1    Cc1[n-]c(O)nc1O\n",
       "2    Cc1[n-]c(O)nc1O\n",
       "3    Cc1[n-]c(O)nc1O\n",
       "4    Cc1[n-]c(O)nc1O\n",
       "5    Cc1[n-]c(O)nc1O\n",
       "6    Cc1[n-]c(O)nc1O\n",
       "7    Cc1[n-]c(O)nc1O\n",
       "Name: SMILES, dtype: object"
      ]
     },
     "execution_count": 63,
     "metadata": {},
     "output_type": "execute_result"
    }
   ],
   "source": [
    "test_file = AutoParser(\n",
    "    \"../tests/test_files/g16log/dsgdb9nsd_004478-6-.log\",\n",
    "    n_jobs=1,\n",
    "    only_extract_structure=True,\n",
    ")\n",
    "test_file[0].to_summary_df()[\"SMILES\"]"
   ]
  },
  {
   "cell_type": "markdown",
   "metadata": {},
   "source": [
    "## [dsgdb9nsd_004517-4-.log](../tests/test_files/g16log/dsgdb9nsd_004517-4-.log)"
   ]
  },
  {
   "cell_type": "code",
   "execution_count": 64,
   "metadata": {},
   "outputs": [
    {
     "name": "stderr",
     "output_type": "stream",
     "text": [
      "MolOP parsing with single thread: 100%|██████████| 1/1 [00:00<00:00, 60.20it/s]\n",
      "0 files failed to parse, 1 successfully parsed\n"
     ]
    },
    {
     "data": {
      "text/plain": [
       "0     Nc1[n-]c(O)nc1O\n",
       "1     Nc1[n-]c(O)nc1O\n",
       "2     Nc1[n-]c(O)nc1O\n",
       "3     Nc1[n-]c(O)nc1O\n",
       "4     Nc1[n-]c(O)nc1O\n",
       "5     Nc1[n-]c(O)nc1O\n",
       "6     Nc1[n-]c(O)nc1O\n",
       "7     Nc1[n-]c(O)nc1O\n",
       "8     Nc1[n-]c(O)nc1O\n",
       "9     Nc1[n-]c(O)nc1O\n",
       "10    Nc1[n-]c(O)nc1O\n",
       "11    Nc1[n-]c(O)nc1O\n",
       "12    Nc1[n-]c(O)nc1O\n",
       "13    Nc1[n-]c(O)nc1O\n",
       "14    Nc1[n-]c(O)nc1O\n",
       "15    Nc1[n-]c(O)nc1O\n",
       "16    Nc1[n-]c(O)nc1O\n",
       "17    Nc1[n-]c(O)nc1O\n",
       "18    Nc1[n-]c(O)nc1O\n",
       "19    Nc1[n-]c(O)nc1O\n",
       "20    Nc1[n-]c(O)nc1O\n",
       "21    Nc1[n-]c(O)nc1O\n",
       "22    Nc1[n-]c(O)nc1O\n",
       "23    Nc1[n-]c(O)nc1O\n",
       "24    Nc1[n-]c(O)nc1O\n",
       "25    Nc1[n-]c(O)nc1O\n",
       "26    Nc1[n-]c(O)nc1O\n",
       "27    Nc1[n-]c(O)nc1O\n",
       "28    Nc1[n-]c(O)nc1O\n",
       "Name: SMILES, dtype: object"
      ]
     },
     "execution_count": 64,
     "metadata": {},
     "output_type": "execute_result"
    }
   ],
   "source": [
    "test_file = AutoParser(\n",
    "    \"../tests/test_files/g16log/dsgdb9nsd_004517-4-.log\",\n",
    "    n_jobs=1,\n",
    "    only_extract_structure=True,\n",
    ")\n",
    "test_file[0].to_summary_df()[\"SMILES\"]"
   ]
  },
  {
   "cell_type": "markdown",
   "metadata": {},
   "source": [
    "## [dsgdb9nsd_000958-3-.log](../tests/test_files/g16log/dsgdb9nsd_000958-3-.log)"
   ]
  },
  {
   "cell_type": "code",
   "execution_count": 65,
   "metadata": {},
   "outputs": [
    {
     "name": "stderr",
     "output_type": "stream",
     "text": [
      "MolOP parsing with single thread: 100%|██████████| 1/1 [00:00<00:00, 179.37it/s]\n",
      "0 files failed to parse, 1 successfully parsed\n"
     ]
    },
    {
     "data": {
      "text/plain": [
       "0    Oc1n[c-]ncn1\n",
       "1    Oc1n[c-]ncn1\n",
       "2    Oc1n[c-]ncn1\n",
       "3    Oc1n[c-]ncn1\n",
       "4    Oc1n[c-]ncn1\n",
       "5    Oc1n[c-]ncn1\n",
       "6    Oc1n[c-]ncn1\n",
       "7    Oc1n[c-]ncn1\n",
       "8    Oc1n[c-]ncn1\n",
       "Name: SMILES, dtype: object"
      ]
     },
     "execution_count": 65,
     "metadata": {},
     "output_type": "execute_result"
    }
   ],
   "source": [
    "test_file = AutoParser(\n",
    "    \"../tests/test_files/g16log/dsgdb9nsd_000958-3-.log\",\n",
    "    n_jobs=1,\n",
    "    only_extract_structure=True,\n",
    ")\n",
    "test_file[0].to_summary_df()[\"SMILES\"]"
   ]
  },
  {
   "cell_type": "markdown",
   "metadata": {},
   "source": [
    "## [dsgdb9nsd_002924-8-.log](./tests/test_files/g16log/dsgdb9nsd_002924-8-.log)"
   ]
  },
  {
   "cell_type": "code",
   "execution_count": 66,
   "metadata": {},
   "outputs": [
    {
     "name": "stderr",
     "output_type": "stream",
     "text": [
      "MolOP parsing with single thread: 100%|██████████| 1/1 [00:00<00:00, 125.97it/s]\n",
      "0 files failed to parse, 1 successfully parsed\n"
     ]
    },
    {
     "data": {
      "text/plain": [
       "0     COC1=NCC[N-]1\n",
       "1     COC1=NCC[N-]1\n",
       "2     COC1=NCC[N-]1\n",
       "3     COC1=NCC[N-]1\n",
       "4     COC1=NCC[N-]1\n",
       "5     COC1=NCC[N-]1\n",
       "6     COC1=NCC[N-]1\n",
       "7     COC1=NCC[N-]1\n",
       "8     COC1=NCC[N-]1\n",
       "9     COC1=NCC[N-]1\n",
       "10    COC1=NCC[N-]1\n",
       "11    COC1=NCC[N-]1\n",
       "Name: SMILES, dtype: object"
      ]
     },
     "execution_count": 66,
     "metadata": {},
     "output_type": "execute_result"
    }
   ],
   "source": [
    "test_file = AutoParser(\n",
    "    \"../tests/test_files/g16log/dsgdb9nsd_002924-8-.log\",\n",
    "    n_jobs=1,\n",
    "    only_extract_structure=True,\n",
    ")\n",
    "test_file[0].to_summary_df()[\"SMILES\"]"
   ]
  },
  {
   "cell_type": "markdown",
   "metadata": {},
   "source": [
    "## [dsgdb9nsd_000763-2-.log](../tests/test_files/g16log/dsgdb9nsd_000763-2-.log)"
   ]
  },
  {
   "cell_type": "code",
   "execution_count": 67,
   "metadata": {},
   "outputs": [
    {
     "name": "stderr",
     "output_type": "stream",
     "text": [
      "MolOP parsing with single thread: 100%|██████████| 1/1 [00:00<00:00, 157.07it/s]\n",
      "0 files failed to parse, 1 successfully parsed\n"
     ]
    },
    {
     "data": {
      "text/plain": [
       "0    [H]/N=c1/[cH-]onn1\n",
       "1    [H]/N=c1/[cH-]onn1\n",
       "2    [H]/N=c1/[cH-]onn1\n",
       "3    [H]/N=c1/[cH-]onn1\n",
       "4    [H]/N=c1/[cH-]onn1\n",
       "5    [H]/N=c1/[cH-]onn1\n",
       "6    [H]/N=c1/[cH-]onn1\n",
       "7    [H]/N=c1/[cH-]onn1\n",
       "8    [H]/N=c1/[cH-]onn1\n",
       "9    [H]/N=c1/[cH-]onn1\n",
       "Name: SMILES, dtype: object"
      ]
     },
     "execution_count": 67,
     "metadata": {},
     "output_type": "execute_result"
    }
   ],
   "source": [
    "test_file = AutoParser(\n",
    "    \"../tests/test_files/g16log/dsgdb9nsd_000763-2-.log\",\n",
    "    n_jobs=1,\n",
    "    only_extract_structure=True,\n",
    ")\n",
    "test_file[0].to_summary_df()[\"SMILES\"]"
   ]
  },
  {
   "cell_type": "markdown",
   "metadata": {},
   "source": [
    "## [dsgdb9nsd_001232-4-.log](../tests/test_files/g16log/dsgdb9nsd_001232-4-.log)"
   ]
  },
  {
   "cell_type": "code",
   "execution_count": 68,
   "metadata": {},
   "outputs": [
    {
     "name": "stderr",
     "output_type": "stream",
     "text": [
      "MolOP parsing with single thread: 100%|██████████| 1/1 [00:00<00:00, 100.52it/s]\n",
      "0 files failed to parse, 1 successfully parsed\n"
     ]
    },
    {
     "data": {
      "text/plain": [
       "0     N/C=N/C=C(/[O-])O\n",
       "1     N/C=N/C=C(/[O-])O\n",
       "2     N/C=N/C=C(/[O-])O\n",
       "3     N/C=N/C=C(/[O-])O\n",
       "4     N/C=N/C=C(/[O-])O\n",
       "5     N/C=N/C=C(/[O-])O\n",
       "6     N/C=N/C=C(/[O-])O\n",
       "7     N/C=N/C=C(/[O-])O\n",
       "8     N/C=N/C=C(/[O-])O\n",
       "9     N/C=N/C=C(/[O-])O\n",
       "10    N/C=N/C=C(/[O-])O\n",
       "11    N/C=N/C=C(/[O-])O\n",
       "12    N/C=N/C=C(/[O-])O\n",
       "13    N/C=N/C=C(/[O-])O\n",
       "14    N/C=N/C=C(/[O-])O\n",
       "15    N/C=N/C=C(/[O-])O\n",
       "16    N/C=N/C=C(/[O-])O\n",
       "Name: SMILES, dtype: object"
      ]
     },
     "execution_count": 68,
     "metadata": {},
     "output_type": "execute_result"
    }
   ],
   "source": [
    "test_file = AutoParser(\n",
    "    \"../tests/test_files/g16log/dsgdb9nsd_001232-4-.log\",\n",
    "    n_jobs=1,\n",
    "    only_extract_structure=True,\n",
    ")\n",
    "test_file[0].to_summary_df()[\"SMILES\"]"
   ]
  },
  {
   "cell_type": "markdown",
   "metadata": {},
   "source": [
    "## [dsgdb9nsd_000180-9-.log](../tests/test_files/g16log/dsgdb9nsd_000180-9-.log)"
   ]
  },
  {
   "cell_type": "code",
   "execution_count": 69,
   "metadata": {},
   "outputs": [
    {
     "name": "stderr",
     "output_type": "stream",
     "text": [
      "MolOP parsing with single thread: 100%|██████████| 1/1 [00:00<00:00, 30.77it/s]\n",
      "0 files failed to parse, 1 successfully parsed\n"
     ]
    },
    {
     "data": {
      "text/plain": [
       "0     CC/C(C)=N/[O-]\n",
       "1     CC/C(C)=N/[O-]\n",
       "2     CC/C(C)=N/[O-]\n",
       "3     CC/C(C)=N/[O-]\n",
       "4     CC/C(C)=N/[O-]\n",
       "5     CC/C(C)=N/[O-]\n",
       "6     CC/C(C)=N/[O-]\n",
       "7     CC/C(C)=N/[O-]\n",
       "8     CC/C(C)=N/[O-]\n",
       "9     CC/C(C)=N/[O-]\n",
       "10    CC/C(C)=N/[O-]\n",
       "11    CC/C(C)=N/[O-]\n",
       "12    CC/C(C)=N/[O-]\n",
       "13    CC/C(C)=N/[O-]\n",
       "14    CC/C(C)=N/[O-]\n",
       "15    CC/C(C)=N/[O-]\n",
       "16    CC/C(C)=N/[O-]\n",
       "17    CC/C(C)=N/[O-]\n",
       "Name: SMILES, dtype: object"
      ]
     },
     "execution_count": 69,
     "metadata": {},
     "output_type": "execute_result"
    }
   ],
   "source": [
    "test_file = AutoParser(\n",
    "    \"../tests/test_files/g16log/dsgdb9nsd_000180-9-.log\",\n",
    "    n_jobs=1,\n",
    ")\n",
    "test_file[0].to_summary_df()[\"SMILES\"]"
   ]
  },
  {
   "cell_type": "markdown",
   "metadata": {},
   "source": [
    "## [TS_4cGKps_ll_ad_4-18_6-13_sp_g16.log](../tests/test_files/g16log/TS_4cGKps_ll_ad_4-18_6-13_sp_g16.log)"
   ]
  },
  {
   "cell_type": "code",
   "execution_count": 70,
   "metadata": {},
   "outputs": [
    {
     "name": "stderr",
     "output_type": "stream",
     "text": [
      "MolOP parsing with single thread: 100%|██████████| 1/1 [00:00<00:00, 317.49it/s]\n",
      "0 files failed to parse, 1 successfully parsed\n"
     ]
    },
    {
     "data": {
      "text/plain": [
       "0    CNC(=O)C#[N+]/C(C(C)=O)=C(/C)[O-].COC(=O)C#CC(...\n",
       "Name: SMILES, dtype: object"
      ]
     },
     "execution_count": 70,
     "metadata": {},
     "output_type": "execute_result"
    }
   ],
   "source": [
    "test_file = AutoParser(\n",
    "    \"../tests/test_files/g16log/TS_4cGKps_ll_ad_4-18_6-13_sp_g16.log\",\n",
    "    n_jobs=1,\n",
    ")\n",
    "test_file[0].to_summary_df()[\"SMILES\"]"
   ]
  },
  {
   "cell_type": "markdown",
   "metadata": {},
   "source": [
    "## [TS_ts_guess_FaFxyx_template_4-18_6-13_optts_conf_g16.log](../tests/test_files/g16log/TS_ts_guess_FaFxyx_template_4-18_6-13_optts_conf_g16.log)"
   ]
  },
  {
   "cell_type": "code",
   "execution_count": 71,
   "metadata": {},
   "outputs": [
    {
     "name": "stderr",
     "output_type": "stream",
     "text": [
      "MolOP parsing with single thread: 100%|██████████| 1/1 [00:00<00:00, 14.54it/s]\n",
      "0 files failed to parse, 1 successfully parsed\n"
     ]
    },
    {
     "data": {
      "text/plain": [
       "0     CNC(=O)C#[N+]/C(C(C)=O)=C(\\C)[O-].COC(=O)C#CC(...\n",
       "1     CNC(=O)C#[N+]/C(C(C)=O)=C(\\C)[O-].COC(=O)C#CC(...\n",
       "2     CNC(=O)C#[N+]/C(C(C)=O)=C(\\C)[O-].COC(=O)C#CC(...\n",
       "3     CNC(=O)C#[N+]/C(C(C)=O)=C(\\C)[O-].COC(=O)C#CC(...\n",
       "4     CNC(=O)C#[N+]/C(C(C)=O)=C(\\C)[O-].COC(=O)C#CC(...\n",
       "5     CNC(=O)C#[N+]/C(C(C)=O)=C(\\C)[O-].COC(=O)C#CC(...\n",
       "6     CNC(=O)C#[N+]/C(C(C)=O)=C(\\C)[O-].COC(=O)C#CC(...\n",
       "7     CNC(=O)C#[N+]/C(C(C)=O)=C(\\C)[O-].COC(=O)C#CC(...\n",
       "8     CNC(=O)C#[N+]/C(C(C)=O)=C(\\C)[O-].COC(=O)C#CC(...\n",
       "9     CNC(=O)C#[N+]/C(C(C)=O)=C(\\C)[O-].COC(=O)C#CC(...\n",
       "10    CNC(=O)C#[N+]/C(C(C)=O)=C(\\C)[O-].COC(=O)C#CC(...\n",
       "11    CNC(=O)C#[N+]/C(C(C)=O)=C(\\C)[O-].COC(=O)C#CC(...\n",
       "12    CNC(=O)C#[N+]/C(C(C)=O)=C(\\C)[O-].COC(=O)C#CC(...\n",
       "13    CNC(=O)C#[N+]/C(C(C)=O)=C(\\C)[O-].COC(=O)C#CC(...\n",
       "14    CNC(=O)C#[N+]/C(C(C)=O)=C(\\C)[O-].COC(=O)C#CC(...\n",
       "15    CNC(=O)C#[N+]/C(C(C)=O)=C(\\C)[O-].COC(=O)C#CC(...\n",
       "16    CNC(=O)C#[N+]/C(C(C)=O)=C(\\C)[O-].COC(=O)C#CC(...\n",
       "17    CNC(=O)C#[N+]/C(C(C)=O)=C(\\C)[O-].COC(=O)C#CC(...\n",
       "18    CNC(=O)C#[N+]/C(C(C)=O)=C(\\C)[O-].COC(=O)C#CC(...\n",
       "19    CNC(=O)C#[N+]/C(C(C)=O)=C(\\C)[O-].COC(=O)C#CC(...\n",
       "20    CNC(=O)C#[N+]/C(C(C)=O)=C(\\C)[O-].COC(=O)C#CC(...\n",
       "21    CNC(=O)C#[N+]/C(C(C)=O)=C(\\C)[O-].COC(=O)C#CC(...\n",
       "22    CNC(=O)C#[N+]/C(C(C)=O)=C(\\C)[O-].COC(=O)C#CC(...\n",
       "23    CNC(=O)C#[N+]/C(C(C)=O)=C(\\C)[O-].COC(=O)C#CC(...\n",
       "24    CNC(=O)C#[N+]/C(C(C)=O)=C(\\C)[O-].COC(=O)C#CC(...\n",
       "25    CNC(=O)C#[N+]/C(C(C)=O)=C(\\C)[O-].COC(=O)C#CC(...\n",
       "26    CNC(=O)C#[N+]/C(C(C)=O)=C(\\C)[O-].COC(=O)C#CC(...\n",
       "Name: SMILES, dtype: object"
      ]
     },
     "execution_count": 71,
     "metadata": {},
     "output_type": "execute_result"
    }
   ],
   "source": [
    "test_file = AutoParser(\n",
    "    \"../tests/test_files/g16log/TS_ts_guess_FaFxyx_template_4-18_6-13_optts_conf_g16.log\",\n",
    "    n_jobs=1,\n",
    ")\n",
    "test_file[0].to_summary_df()[\"SMILES\"]"
   ]
  },
  {
   "cell_type": "markdown",
   "metadata": {},
   "source": [
    "## [TS_4cGKps_ll_ad_4-18_6-13_optts_g16.log](../tests/test_files/g16log/TS_4cGKps_ll_ad_4-18_6-13_optts_g16.log)"
   ]
  },
  {
   "cell_type": "code",
   "execution_count": 72,
   "metadata": {},
   "outputs": [
    {
     "name": "stderr",
     "output_type": "stream",
     "text": [
      "MolOP parsing with single thread: 100%|██████████| 1/1 [00:00<00:00, 10.90it/s]\n",
      "0 files failed to parse, 1 successfully parsed\n"
     ]
    },
    {
     "data": {
      "text/plain": [
       "0     CNC(=O)C#[N+]/C(C(C)=O)=C(/C)[O-].COC(=O)C#CC(...\n",
       "1     CNC(=O)C#[N+]/C(C(C)=O)=C(/C)[O-].COC(=O)C#CC(...\n",
       "2     CNC(=O)C#[N+]/C(C(C)=O)=C(/C)[O-].COC(=O)C#CC(...\n",
       "3     CNC(=O)C#[N+]/C(C(C)=O)=C(/C)[O-].COC(=O)C#CC(...\n",
       "4     CNC(=O)C#[N+]/C(C(C)=O)=C(/C)[O-].COC(=O)C#CC(...\n",
       "5     CNC(=O)C#[N+]/C(C(C)=O)=C(/C)[O-].COC(=O)C#CC(...\n",
       "6     CNC(=O)C#[N+]/C(C(C)=O)=C(/C)[O-].COC(=O)C#CC(...\n",
       "7     CNC(=O)C#[N+]/C(C(C)=O)=C(/C)[O-].COC(=O)C#CC(...\n",
       "8     CNC(=O)C#[N+]/C(C(C)=O)=C(/C)[O-].COC(=O)C#CC(...\n",
       "9     CNC(=O)C#[N+]/C(C(C)=O)=C(/C)[O-].COC(=O)C#CC(...\n",
       "10    CNC(=O)C#[N+]/C(C(C)=O)=C(/C)[O-].COC(=O)C#CC(...\n",
       "11    CNC(=O)C#[N+]/C(C(C)=O)=C(/C)[O-].COC(=O)C#CC(...\n",
       "12    CNC(=O)C#[N+]/C(C(C)=O)=C(/C)[O-].COC(=O)C#CC(...\n",
       "13    CNC(=O)C#[N+]/C(C(C)=O)=C(/C)[O-].COC(=O)C#CC(...\n",
       "14    CNC(=O)C#[N+]/C(C(C)=O)=C(/C)[O-].COC(=O)C#CC(...\n",
       "15    CNC(=O)C#[N+]/C(C(C)=O)=C(/C)[O-].COC(=O)C#CC(...\n",
       "16    CNC(=O)C#[N+]/C(C(C)=O)=C(/C)[O-].COC(=O)C#CC(...\n",
       "17    CNC(=O)C#[N+]/C(C(C)=O)=C(/C)[O-].COC(=O)C#CC(...\n",
       "18    CNC(=O)C#[N+]/C(C(C)=O)=C(/C)[O-].COC(=O)C#CC(...\n",
       "19    CNC(=O)C#[N+]/C(C(C)=O)=C(/C)[O-].COC(=O)C#CC(...\n",
       "20    CNC(=O)C#[N+]/C(C(C)=O)=C(/C)[O-].COC(=O)C#CC(...\n",
       "21    CNC(=O)C#[N+]/C(C(C)=O)=C(/C)[O-].COC(=O)C#CC(...\n",
       "22    CNC(=O)C#[N+]/C(C(C)=O)=C(/C)[O-].COC(=O)C#CC(...\n",
       "23    CNC(=O)C#[N+]/C(C(C)=O)=C(/C)[O-].COC(=O)C#CC(...\n",
       "24    CNC(=O)C#[N+]/C(C(C)=O)=C(/C)[O-].COC(=O)C#CC(...\n",
       "25    CNC(=O)C#[N+]/C(C(C)=O)=C(/C)[O-].COC(=O)C#CC(...\n",
       "26    CNC(=O)C#[N+]/C(C(C)=O)=C(/C)[O-].COC(=O)C#CC(...\n",
       "27    CNC(=O)C#[N+]/C(C(C)=O)=C(/C)[O-].COC(=O)C#CC(...\n",
       "28    CNC(=O)C#[N+]/C(C(C)=O)=C(/C)[O-].COC(=O)C#CC(...\n",
       "29    CNC(=O)C#[N+]/C(C(C)=O)=C(/C)[O-].COC(=O)C#CC(...\n",
       "30    CNC(=O)C#[N+]/C(C(C)=O)=C(/C)[O-].COC(=O)C#CC(...\n",
       "31    CNC(=O)C#[N+]/C(C(C)=O)=C(/C)[O-].COC(=O)C#CC(...\n",
       "32    CNC(=O)C#[N+]/C(C(C)=O)=C(/C)[O-].COC(=O)C#CC(...\n",
       "33    CNC(=O)C#[N+]/C(C(C)=O)=C(/C)[O-].COC(=O)C#CC(...\n",
       "34    CNC(=O)C#[N+]/C(C(C)=O)=C(/C)[O-].COC(=O)C#CC(...\n",
       "35    CNC(=O)C#[N+]/C(C(C)=O)=C(/C)[O-].COC(=O)C#CC(...\n",
       "36    CNC(=O)C#[N+]/C(C(C)=O)=C(/C)[O-].COC(=O)C#CC(...\n",
       "37    CNC(=O)C#[N+]/C(C(C)=O)=C(/C)[O-].COC(=O)C#CC(...\n",
       "38    CNC(=O)C#[N+]/C(C(C)=O)=C(/C)[O-].COC(=O)C#CC(...\n",
       "39    CNC(=O)C#[N+]/C(C(C)=O)=C(/C)[O-].COC(=O)C#CC(...\n",
       "40    CNC(=O)C#[N+]/C(C(C)=O)=C(/C)[O-].COC(=O)C#CC(...\n",
       "41    CNC(=O)C#[N+]/C(C(C)=O)=C(/C)[O-].COC(=O)C#CC(...\n",
       "42    CNC(=O)C#[N+]/C(C(C)=O)=C(/C)[O-].COC(=O)C#CC(...\n",
       "43    CNC(=O)C#[N+]/C(C(C)=O)=C(/C)[O-].COC(=O)C#CC(...\n",
       "Name: SMILES, dtype: object"
      ]
     },
     "execution_count": 72,
     "metadata": {},
     "output_type": "execute_result"
    }
   ],
   "source": [
    "test_file = AutoParser(\n",
    "    \"../tests/test_files/g16log/TS_4cGKps_ll_ad_4-18_6-13_optts_g16.log\",\n",
    "    n_jobs=1,\n",
    ")\n",
    "test_file[0].to_summary_df()[\"SMILES\"]"
   ]
  },
  {
   "cell_type": "markdown",
   "metadata": {},
   "source": [
    "## [TS_Zy0fwX_ll_ad_14-19_15-16_optts_g16.log](../tests/test_files/g16log/TS_Zy0fwX_ll_ad_14-19_15-16_optts_g16.log)"
   ]
  },
  {
   "cell_type": "code",
   "execution_count": 73,
   "metadata": {},
   "outputs": [
    {
     "name": "stderr",
     "output_type": "stream",
     "text": [
      "MolOP parsing with single thread: 100%|██████████| 1/1 [00:00<00:00,  5.99it/s]\n",
      "0 files failed to parse, 1 successfully parsed\n"
     ]
    },
    {
     "data": {
      "text/plain": [
       "0     C=[N+](C)[N-]C.COC(=O)[C@@]1(OC)C#CC(Br)(Br)CCCC1\n",
       "1     C=[N+](C)[N-]C.COC(=O)[C@@]1(OC)C#CC(Br)(Br)CCCC1\n",
       "2     C=[N+](C)[N-]C.COC(=O)[C@@]1(OC)C#CC(Br)(Br)CCCC1\n",
       "3     C=[N+](C)[N-]C.COC(=O)[C@@]1(OC)C#CC(Br)(Br)CCCC1\n",
       "4     C=[N+](C)[N-]C.COC(=O)[C@@]1(OC)C#CC(Br)(Br)CCCC1\n",
       "                            ...                        \n",
       "69    C=[N+](C)[N-]C.COC(=O)[C@@]1(OC)C#CC(Br)(Br)CCCC1\n",
       "70    C=[N+](C)[N-]C.COC(=O)[C@@]1(OC)C#CC(Br)(Br)CCCC1\n",
       "71    C=[N+](C)[N-]C.COC(=O)[C@@]1(OC)C#CC(Br)(Br)CCCC1\n",
       "72    C=[N+](C)[N-]C.COC(=O)[C@@]1(OC)C#CC(Br)(Br)CCCC1\n",
       "73    C=[N+](C)[N-]C.COC(=O)[C@@]1(OC)C#CC(Br)(Br)CCCC1\n",
       "Name: SMILES, Length: 74, dtype: object"
      ]
     },
     "execution_count": 73,
     "metadata": {},
     "output_type": "execute_result"
    }
   ],
   "source": [
    "test_file = AutoParser(\n",
    "    \"../tests/test_files/g16log/TS_Zy0fwX_ll_ad_14-19_15-16_optts_g16.log\",\n",
    "    n_jobs=1,\n",
    ")\n",
    "test_file[0].to_summary_df()[\"SMILES\"]"
   ]
  },
  {
   "cell_type": "markdown",
   "metadata": {},
   "source": [
    "## [irc.out](../tests/test_files/g16irc/irc.out)"
   ]
  },
  {
   "cell_type": "code",
   "execution_count": 74,
   "metadata": {},
   "outputs": [
    {
     "name": "stderr",
     "output_type": "stream",
     "text": [
      "MolOP parsing with single thread: 100%|██████████| 1/1 [00:00<00:00, 23.23it/s]\n",
      "0 files failed to parse, 1 successfully parsed\n"
     ]
    },
    {
     "data": {
      "text/plain": [
       "0     CC([O])=O.[CH2]CCC\n",
       "1     CC([O])=O.[CH2]CCC\n",
       "2     CC([O])=O.[CH2]CCC\n",
       "3     CC([O])=O.[CH2]CCC\n",
       "4     CC([O])=O.[CH2]CCC\n",
       "5     CC([O])=O.[CH2]CCC\n",
       "6            CCCCOC(C)=O\n",
       "7            CCCCOC(C)=O\n",
       "8            CCCCOC(C)=O\n",
       "9            CCCCOC(C)=O\n",
       "10           CCCCOC(C)=O\n",
       "11           CCCCOC(C)=O\n",
       "12           CCCCOC(C)=O\n",
       "13           CCCCOC(C)=O\n",
       "14           CCCCOC(C)=O\n",
       "15           CCCCOC(C)=O\n",
       "16           CCCCOC(C)=O\n",
       "17           CCCCOC(C)=O\n",
       "18           CCCCOC(C)=O\n",
       "19           CCCCOC(C)=O\n",
       "20           CCCCOC(C)=O\n",
       "21           CCCCOC(C)=O\n",
       "22         C=CCC.CC(=O)O\n",
       "23         C=CCC.CC(=O)O\n",
       "24         C=CCC.CC(=O)O\n",
       "25         C=CCC.CC(=O)O\n",
       "26         C=CCC.CC(=O)O\n",
       "27         C=CCC.CC(=O)O\n",
       "28         C=CCC.CC(=O)O\n",
       "29         C=CCC.CC(=O)O\n",
       "30         C=CCC.CC(=O)O\n",
       "31         C=CCC.CC(=O)O\n",
       "32         C=CCC.CC(=O)O\n",
       "33         C=CCC.CC(=O)O\n",
       "34         C=CCC.CC(=O)O\n",
       "35         C=CCC.CC(=O)O\n",
       "36         C=CCC.CC(=O)O\n",
       "37         C=CCC.CC(=O)O\n",
       "38         C=CCC.CC(=O)O\n",
       "39         C=CCC.CC(=O)O\n",
       "40         C=CCC.CC(=O)O\n",
       "41         C=CCC.CC(=O)O\n",
       "42         C=CCC.CC(=O)O\n",
       "43         C=CCC.CC(=O)O\n",
       "Name: SMILES, dtype: object"
      ]
     },
     "execution_count": 74,
     "metadata": {},
     "output_type": "execute_result"
    }
   ],
   "source": [
    "test_file = AutoParser(\n",
    "    \"../tests/test_files/g16irc/irc.out\",\n",
    "    n_jobs=1,\n",
    ")\n",
    "test_file[0].to_summary_df()[\"SMILES\"]"
   ]
  },
  {
   "cell_type": "markdown",
   "metadata": {},
   "source": [
    "## [3_Sp.log](../tests/test_files/g16log/3_Sp.log)"
   ]
  },
  {
   "cell_type": "code",
   "execution_count": 75,
   "metadata": {},
   "outputs": [
    {
     "name": "stderr",
     "output_type": "stream",
     "text": [
      "MolOP parsing with single thread: 100%|██████████| 1/1 [00:00<00:00, 386.86it/s]\n",
      "0 files failed to parse, 1 successfully parsed\n"
     ]
    },
    {
     "data": {
      "text/plain": [
       "0    CCC[C@H]1CO[C@H]2C[C@@](C)(O)C[C@@H]12\n",
       "Name: SMILES, dtype: object"
      ]
     },
     "execution_count": 75,
     "metadata": {},
     "output_type": "execute_result"
    }
   ],
   "source": [
    "test_file = AutoParser(\n",
    "    \"../tests/test_files/g16log/3_Sp.log\",\n",
    "    n_jobs=1,\n",
    ")\n",
    "test_file[0].to_summary_df()[\"SMILES\"]"
   ]
  },
  {
   "cell_type": "markdown",
   "metadata": {},
   "source": [
    "## [11_Opt.log](../tests/test_files/g16log/11_Opt.log)"
   ]
  },
  {
   "cell_type": "code",
   "execution_count": 76,
   "metadata": {},
   "outputs": [
    {
     "name": "stderr",
     "output_type": "stream",
     "text": [
      "MolOP parsing with single thread: 100%|██████████| 1/1 [00:00<00:00, 13.36it/s]\n",
      "0 files failed to parse, 1 successfully parsed\n"
     ]
    },
    {
     "data": {
      "text/plain": [
       "0     C=C[C@H]1[C@@H]2[C@H](C[C@@]1(C)O)OC[C@@H]2C\n",
       "1     C=C[C@H]1[C@@H]2[C@H](C[C@@]1(C)O)OC[C@@H]2C\n",
       "2     C=C[C@H]1[C@@H]2[C@H](C[C@@]1(C)O)OC[C@@H]2C\n",
       "3     C=C[C@H]1[C@@H]2[C@H](C[C@@]1(C)O)OC[C@@H]2C\n",
       "4     C=C[C@H]1[C@@H]2[C@H](C[C@@]1(C)O)OC[C@@H]2C\n",
       "5     C=C[C@H]1[C@@H]2[C@H](C[C@@]1(C)O)OC[C@@H]2C\n",
       "6     C=C[C@H]1[C@@H]2[C@H](C[C@@]1(C)O)OC[C@@H]2C\n",
       "7     C=C[C@H]1[C@@H]2[C@H](C[C@@]1(C)O)OC[C@@H]2C\n",
       "8     C=C[C@H]1[C@@H]2[C@H](C[C@@]1(C)O)OC[C@@H]2C\n",
       "9     C=C[C@H]1[C@@H]2[C@H](C[C@@]1(C)O)OC[C@@H]2C\n",
       "10    C=C[C@H]1[C@@H]2[C@H](C[C@@]1(C)O)OC[C@@H]2C\n",
       "11    C=C[C@H]1[C@@H]2[C@H](C[C@@]1(C)O)OC[C@@H]2C\n",
       "12    C=C[C@H]1[C@@H]2[C@H](C[C@@]1(C)O)OC[C@@H]2C\n",
       "Name: SMILES, dtype: object"
      ]
     },
     "execution_count": 76,
     "metadata": {},
     "output_type": "execute_result"
    }
   ],
   "source": [
    "test_file = AutoParser(\n",
    "    \"../tests/test_files/g16log/11_Opt.log\",\n",
    "    n_jobs=1,\n",
    ")\n",
    "test_file[0].to_summary_df()[\"SMILES\"]"
   ]
  },
  {
   "cell_type": "markdown",
   "metadata": {},
   "source": [
    "## [dsgdb9nsd_003895.log](../tests/test_files/g16log/dsgdb9nsd_003895.log)"
   ]
  },
  {
   "cell_type": "code",
   "execution_count": 77,
   "metadata": {},
   "outputs": [
    {
     "name": "stderr",
     "output_type": "stream",
     "text": [
      "MolOP parsing with single thread: 100%|██████████| 1/1 [00:00<00:00, 70.18it/s]\n",
      "0 files failed to parse, 1 successfully parsed\n"
     ]
    },
    {
     "data": {
      "text/plain": [
       "0    N#N.O=C=CC=O\n",
       "1    N#N.O=C=CC=O\n",
       "2    N#N.O=C=CC=O\n",
       "3    N#N.O=C=CC=O\n",
       "Name: SMILES, dtype: object"
      ]
     },
     "execution_count": 77,
     "metadata": {},
     "output_type": "execute_result"
    }
   ],
   "source": [
    "test_file = AutoParser(\n",
    "    \"../tests/test_files/g16log/dsgdb9nsd_003895.log\",\n",
    "    n_jobs=1,\n",
    ")\n",
    "test_file[0].to_summary_df()[\"SMILES\"]"
   ]
  },
  {
   "cell_type": "markdown",
   "metadata": {},
   "source": [
    "## [dsgdb9nsd_006075rearrange.log](../tests/test_files/g16log/dsgdb9nsd_006075rearrange.log)"
   ]
  },
  {
   "cell_type": "code",
   "execution_count": 78,
   "metadata": {},
   "outputs": [
    {
     "name": "stderr",
     "output_type": "stream",
     "text": [
      "MolOP parsing with single thread: 100%|██████████| 1/1 [00:00<00:00, 18.08it/s]\n",
      "0 files failed to parse, 1 successfully parsed\n"
     ]
    },
    {
     "data": {
      "text/plain": [
       "0     NC(N)=[O+]CC(=O)[O-]\n",
       "1     NC(N)=[O+]CC(=O)[O-]\n",
       "2     NC(N)=[O+]CC(=O)[O-]\n",
       "3     NC(N)=[O+]CC(=O)[O-]\n",
       "4     NC(N)=[O+]CC(=O)[O-]\n",
       "5     NC(N)=[O+]CC(=O)[O-]\n",
       "6     NC(N)=[O+]CC(=O)[O-]\n",
       "7     NC(N)=[O+]CC(=O)[O-]\n",
       "8     NC(N)=[O+]CC(=O)[O-]\n",
       "9     NC(N)=[O+]CC(=O)[O-]\n",
       "10    NC(N)=[O+]CC(=O)[O-]\n",
       "11    NC(N)=[O+]CC(=O)[O-]\n",
       "12    NC(N)=[O+]CC(=O)[O-]\n",
       "13    NC(N)=[O+]CC(=O)[O-]\n",
       "14    NC(N)=[O+]CC(=O)[O-]\n",
       "15    NC(N)=[O+]CC(=O)[O-]\n",
       "16    NC(N)=[O+]CC(=O)[O-]\n",
       "17    NC(N)=[O+]CC(=O)[O-]\n",
       "18         NC1(N)OCC(=O)O1\n",
       "19         NC1(N)OCC(=O)O1\n",
       "20         NC1(N)OCC(=O)O1\n",
       "21         NC1(N)OCC(=O)O1\n",
       "22         NC1(N)OCC(=O)O1\n",
       "23         NC1(N)OCC(=O)O1\n",
       "24         NC1(N)OCC(=O)O1\n",
       "25         NC1(N)OCC(=O)O1\n",
       "26         NC1(N)OCC(=O)O1\n",
       "27         NC1(N)OCC(=O)O1\n",
       "28         NC1(N)OCC(=O)O1\n",
       "29         NC1(N)OCC(=O)O1\n",
       "30         NC1(N)OCC(=O)O1\n",
       "31         NC1(N)OCC(=O)O1\n",
       "32         NC1(N)OCC(=O)O1\n",
       "33         NC1(N)OCC(=O)O1\n",
       "34         NC1(N)OCC(=O)O1\n",
       "35         NC1(N)OCC(=O)O1\n",
       "36         NC1(N)OCC(=O)O1\n",
       "37         NC1(N)OCC(=O)O1\n",
       "38         NC1(N)OCC(=O)O1\n",
       "39         NC1(N)OCC(=O)O1\n",
       "40         NC1(N)OCC(=O)O1\n",
       "Name: SMILES, dtype: object"
      ]
     },
     "execution_count": 78,
     "metadata": {},
     "output_type": "execute_result"
    }
   ],
   "source": [
    "test_file = AutoParser(\n",
    "    \"../tests/test_files/g16log/dsgdb9nsd_006075rearrange.log\",\n",
    "    n_jobs=1,\n",
    ")\n",
    "test_file[0].to_summary_df()[\"SMILES\"]"
   ]
  },
  {
   "cell_type": "markdown",
   "metadata": {},
   "source": [
    "## [dsgdb9nsd_130366.log](../tests/test_files/g16log/dsgdb9nsd_130366.log)"
   ]
  },
  {
   "cell_type": "code",
   "execution_count": 79,
   "metadata": {},
   "outputs": [
    {
     "name": "stderr",
     "output_type": "stream",
     "text": [
      "MolOP parsing with single thread: 100%|██████████| 1/1 [00:00<00:00, 43.26it/s]\n",
      "0 files failed to parse, 1 successfully parsed\n"
     ]
    },
    {
     "data": {
      "text/plain": [
       "0    N[CH-]NC1=NC(O)=[N+]=N1\n",
       "1    N[CH-]NC1=NC(O)=[N+]=N1\n",
       "2    N[CH-]NC1=NC(O)=[N+]=N1\n",
       "3    N[CH-]NC1=NC(O)=[N+]=N1\n",
       "4    N[CH-]NC1=NC(O)=[N+]=N1\n",
       "5    N[CH-]NC1=NC(O)=[N+]=N1\n",
       "6    N[CH-]NC1=NC(O)=[N+]=N1\n",
       "7    N[CH-]NC1=NC(O)=[N+]=N1\n",
       "Name: SMILES, dtype: object"
      ]
     },
     "execution_count": 79,
     "metadata": {},
     "output_type": "execute_result"
    }
   ],
   "source": [
    "test_file = AutoParser(\n",
    "    \"../tests/test_files/g16log/dsgdb9nsd_130366.log\",\n",
    "    n_jobs=1,\n",
    ")\n",
    "test_file[0].to_summary_df()[\"SMILES\"]"
   ]
  },
  {
   "cell_type": "markdown",
   "metadata": {},
   "source": [
    "## [dsgdb9nsd_131200.log](./tests/test_files/g16log/dsgdb9nsd_131200.log)"
   ]
  },
  {
   "cell_type": "code",
   "execution_count": 80,
   "metadata": {},
   "outputs": [
    {
     "name": "stderr",
     "output_type": "stream",
     "text": [
      "MolOP parsing with single thread: 100%|██████████| 1/1 [00:00<00:00, 41.71it/s]\n",
      "0 files failed to parse, 1 successfully parsed\n"
     ]
    },
    {
     "data": {
      "text/plain": [
       "0    [O-]c1onc2c1C[NH2+]C2\n",
       "1    [O-]c1onc2c1C[NH2+]C2\n",
       "2    [O-]c1onc2c1C[NH2+]C2\n",
       "3    [O-]c1onc2c1C[NH2+]C2\n",
       "4    [O-]c1onc2c1C[NH2+]C2\n",
       "5    [O-]c1onc2c1C[NH2+]C2\n",
       "6    [O-]c1onc2c1C[NH2+]C2\n",
       "7    [O-]c1onc2c1C[NH2+]C2\n",
       "Name: SMILES, dtype: object"
      ]
     },
     "execution_count": 80,
     "metadata": {},
     "output_type": "execute_result"
    }
   ],
   "source": [
    "test_file = AutoParser(\n",
    "    \"../tests/test_files/g16log/dsgdb9nsd_131200.log\",\n",
    "    n_jobs=1,\n",
    ")\n",
    "test_file[0].to_summary_df()[\"SMILES\"]"
   ]
  },
  {
   "cell_type": "markdown",
   "metadata": {},
   "source": [
    "## [dsgdb9nsd_132072.log](../tests/test_files/g16log/dsgdb9nsd_132072.log)"
   ]
  },
  {
   "cell_type": "code",
   "execution_count": 81,
   "metadata": {},
   "outputs": [
    {
     "name": "stderr",
     "output_type": "stream",
     "text": [
      "MolOP parsing with single thread: 100%|██████████| 1/1 [00:00<00:00, 40.20it/s]\n",
      "0 files failed to parse, 1 successfully parsed\n"
     ]
    },
    {
     "data": {
      "text/plain": [
       "0     [NH2+]=c1[nH]ccc(F)c1[O-]\n",
       "1     [NH2+]=c1[nH]ccc(F)c1[O-]\n",
       "2     [NH2+]=c1[nH]ccc(F)c1[O-]\n",
       "3     [NH2+]=c1[nH]ccc(F)c1[O-]\n",
       "4     [NH2+]=c1[nH]ccc(F)c1[O-]\n",
       "5     [NH2+]=c1[nH]ccc(F)c1[O-]\n",
       "6     [NH2+]=c1[nH]ccc(F)c1[O-]\n",
       "7     [NH2+]=c1[nH]ccc(F)c1[O-]\n",
       "8     [NH2+]=c1[nH]ccc(F)c1[O-]\n",
       "9     [NH2+]=c1[nH]ccc(F)c1[O-]\n",
       "10    [NH2+]=c1[nH]ccc(F)c1[O-]\n",
       "Name: SMILES, dtype: object"
      ]
     },
     "execution_count": 81,
     "metadata": {},
     "output_type": "execute_result"
    }
   ],
   "source": [
    "test_file = AutoParser(\n",
    "    \"../tests/test_files/g16log/dsgdb9nsd_132072.log\",\n",
    "    n_jobs=1,\n",
    ")\n",
    "test_file[0].to_summary_df()[\"SMILES\"]"
   ]
  },
  {
   "cell_type": "markdown",
   "metadata": {},
   "source": [
    "## [dsgdb9nsd_133826.log](../tests/test_files/g16log/dsgdb9nsd_133858.log)"
   ]
  },
  {
   "cell_type": "code",
   "execution_count": 82,
   "metadata": {},
   "outputs": [
    {
     "name": "stderr",
     "output_type": "stream",
     "text": [
      "MolOP parsing with single thread: 100%|██████████| 1/1 [00:00<00:00, 33.10it/s]\n",
      "0 files failed to parse, 1 successfully parsed\n"
     ]
    },
    {
     "data": {
      "text/plain": [
       "0    C[C@H]1[C-]2CC=C3C=[N+]1[C@@H]32\n",
       "1    C[C@H]1[C-]2CC=C3C=[N+]1[C@@H]32\n",
       "2    C[C@H]1[C-]2CC=C3C=[N+]1[C@@H]32\n",
       "3    C[C@H]1[C-]2CC=C3C=[N+]1[C@@H]32\n",
       "4    C[C@H]1[C-]2CC=C3C=[N+]1[C@@H]32\n",
       "5    C[C@H]1[C-]2CC=C3C=[N+]1[C@@H]32\n",
       "6    C[C@H]1[C-]2CC=C3C=[N+]1[C@@H]32\n",
       "7    C[C@H]1[C-]2CC=C3C=[N+]1[C@@H]32\n",
       "8    C[C@H]1[C-]2CC=C3C=[N+]1[C@@H]32\n",
       "9    C[C@H]1[C-]2CC=C3C=[N+]1[C@@H]32\n",
       "Name: SMILES, dtype: object"
      ]
     },
     "execution_count": 82,
     "metadata": {},
     "output_type": "execute_result"
    }
   ],
   "source": [
    "test_file = AutoParser(\n",
    "    \"../tests/test_files/g16log/dsgdb9nsd_133858.log\",\n",
    "    n_jobs=1,\n",
    ")\n",
    "test_file[0].to_summary_df()[\"SMILES\"]"
   ]
  },
  {
   "cell_type": "markdown",
   "metadata": {},
   "source": [
    "## [dsgdb9nsd_133858.log](../tests/test_files/g16log/dsgdb9nsd_133858.log)"
   ]
  },
  {
   "cell_type": "code",
   "execution_count": 83,
   "metadata": {},
   "outputs": [
    {
     "name": "stderr",
     "output_type": "stream",
     "text": [
      "MolOP parsing with single thread: 100%|██████████| 1/1 [00:00<00:00, 33.96it/s]\n",
      "0 files failed to parse, 1 successfully parsed\n"
     ]
    },
    {
     "data": {
      "text/plain": [
       "0    C[C@H]1[C-]2CC=C3C=[N+]1[C@@H]32\n",
       "1    C[C@H]1[C-]2CC=C3C=[N+]1[C@@H]32\n",
       "2    C[C@H]1[C-]2CC=C3C=[N+]1[C@@H]32\n",
       "3    C[C@H]1[C-]2CC=C3C=[N+]1[C@@H]32\n",
       "4    C[C@H]1[C-]2CC=C3C=[N+]1[C@@H]32\n",
       "5    C[C@H]1[C-]2CC=C3C=[N+]1[C@@H]32\n",
       "6    C[C@H]1[C-]2CC=C3C=[N+]1[C@@H]32\n",
       "7    C[C@H]1[C-]2CC=C3C=[N+]1[C@@H]32\n",
       "8    C[C@H]1[C-]2CC=C3C=[N+]1[C@@H]32\n",
       "9    C[C@H]1[C-]2CC=C3C=[N+]1[C@@H]32\n",
       "Name: SMILES, dtype: object"
      ]
     },
     "execution_count": 83,
     "metadata": {},
     "output_type": "execute_result"
    }
   ],
   "source": [
    "test_file = AutoParser(\n",
    "    \"../tests/test_files/g16log/dsgdb9nsd_133858.log\",\n",
    "    n_jobs=1,\n",
    ")\n",
    "test_file[0].to_summary_df()[\"SMILES\"]"
   ]
  },
  {
   "cell_type": "markdown",
   "metadata": {},
   "source": [
    "## [S_Ph_Ni_TS.gjf](../tests/test_files/g16gjf/S_Ph_Ni_TS.gjf)"
   ]
  },
  {
   "cell_type": "code",
   "execution_count": 84,
   "metadata": {},
   "outputs": [
    {
     "name": "stderr",
     "output_type": "stream",
     "text": [
      "MolOP parsing with single thread: 100%|██████████| 1/1 [00:00<00:00, 1707.08it/s]\n",
      "0 files failed to parse, 1 successfully parsed\n"
     ]
    },
    {
     "data": {
      "text/plain": [
       "0    CCOC(=O)c1cc(OC)no1\n",
       "Name: SMILES, dtype: object"
      ]
     },
     "execution_count": 84,
     "metadata": {},
     "output_type": "execute_result"
    }
   ],
   "source": [
    "test_file = AutoParser(\n",
    "    \"../tests/test_files/g16gjf/S_Ph_Ni_TS.gjf\",\n",
    "    n_jobs=1,\n",
    ")\n",
    "test_file[0].to_summary_df()[\"SMILES\"]"
   ]
  },
  {
   "cell_type": "markdown",
   "metadata": {},
   "source": [
    "## [S_Ph_Ni_TS.log](../tests/test_files/g16log/S_Ph_Ni_TS.log)"
   ]
  },
  {
   "cell_type": "code",
   "execution_count": 85,
   "metadata": {},
   "outputs": [
    {
     "name": "stderr",
     "output_type": "stream",
     "text": [
      "MolOP parsing with single thread: 100%|██████████| 1/1 [00:00<00:00, 16.08it/s]\n",
      "0 files failed to parse, 1 successfully parsed\n"
     ]
    },
    {
     "data": {
      "text/plain": [
       "0     Br[Ni@OH23](Br)(SCc1ccccc1)c1ccccc1.[CH]1[N]C=...\n",
       "1     Br[Ni@OH23](Br)(SCc1ccccc1)c1ccccc1.[CH]1[N]C=...\n",
       "2     Br[Ni@OH5]1(Br)[S](Cc2ccccc2)[C@@]12[CH]C=CC=C...\n",
       "3     Br[Ni@OH23](Br)(SCc1ccccc1)c1ccccc1.[CH]1[N]C=...\n",
       "4     Br[Ni@OH23](Br)(SCc1ccccc1)c1ccccc1.[CH]1[N]C=...\n",
       "5     Br[Ni@OH23](Br)(SCc1ccccc1)c1ccccc1.[CH]1[N]C=...\n",
       "6     Br[Ni@OH23](Br)(SCc1ccccc1)c1ccccc1.[CH]1[N]C=...\n",
       "7     Br[Ni@OH23](Br)(SCc1ccccc1)c1ccccc1.[CH]1[N]C=...\n",
       "8     Br[Ni@OH23](Br)(SCc1ccccc1)c1ccccc1.[CH]1[N]C=...\n",
       "9     Br[Ni@OH23](Br)(SCc1ccccc1)c1ccccc1.[CH]1[N]C=...\n",
       "10    Br[Ni@OH23](Br)(SCc1ccccc1)c1ccccc1.[CH]1[N]C=...\n",
       "11    Br[Ni@OH23](Br)(SCc1ccccc1)c1ccccc1.[CH]1[N]C=...\n",
       "12    Br[Ni@OH23](Br)(SCc1ccccc1)c1ccccc1.[CH]1[N]C=...\n",
       "Name: SMILES, dtype: object"
      ]
     },
     "execution_count": 85,
     "metadata": {},
     "output_type": "execute_result"
    }
   ],
   "source": [
    "test_file = AutoParser(\n",
    "    \"../tests/test_files/g16log/S_Ph_Ni_TS.log\",\n",
    "    n_jobs=1,\n",
    ")\n",
    "test_file[0].to_summary_df()[\"SMILES\"]"
   ]
  },
  {
   "cell_type": "markdown",
   "metadata": {},
   "source": [
    "## [test.gjf](../tests/test_files/g16gjf/test.gjf)"
   ]
  },
  {
   "cell_type": "code",
   "execution_count": 86,
   "metadata": {},
   "outputs": [
    {
     "name": "stderr",
     "output_type": "stream",
     "text": [
      "MolOP parsing with single thread: 100%|██████████| 1/1 [00:00<00:00, 1768.26it/s]\n",
      "0 files failed to parse, 1 successfully parsed\n"
     ]
    },
    {
     "data": {
      "text/plain": [
       "0    CC(C)([C]1[N]CCO1)[C]1[N]CCO1.C[C](C)N(C)C.Cl[...\n",
       "Name: SMILES, dtype: object"
      ]
     },
     "execution_count": 86,
     "metadata": {},
     "output_type": "execute_result"
    }
   ],
   "source": [
    "test_file = AutoParser(\n",
    "    \"../tests/test_files/g16gjf/test.gjf\",\n",
    "    n_jobs=1,\n",
    "    charge=0,\n",
    "    multiplicity=3,\n",
    ")\n",
    "test_file[0].to_summary_df()[\"SMILES\"]"
   ]
  },
  {
   "cell_type": "markdown",
   "metadata": {},
   "source": [
    "## [test.xyz](../tests/test_files/xyz/test.xyz)"
   ]
  },
  {
   "cell_type": "code",
   "execution_count": 87,
   "metadata": {},
   "outputs": [
    {
     "name": "stderr",
     "output_type": "stream",
     "text": [
      "MolOP parsing with single thread: 100%|██████████| 1/1 [00:00<00:00, 2114.06it/s]\n",
      "0 files failed to parse, 1 successfully parsed\n"
     ]
    },
    {
     "data": {
      "text/plain": [
       "0    CC(C)([C]1[N]CCO1)[C]1[N]CCO1.C[C](C)N(C)C.Cl[...\n",
       "Name: SMILES, dtype: object"
      ]
     },
     "execution_count": 87,
     "metadata": {},
     "output_type": "execute_result"
    }
   ],
   "source": [
    "test_file = AutoParser(\n",
    "    \"../tests/test_files/xyz/test.xyz\",\n",
    "    n_jobs=1,\n",
    "    charge=0,\n",
    "    multiplicity=3,\n",
    ")\n",
    "test_file[0].to_summary_df()[\"SMILES\"]"
   ]
  },
  {
   "cell_type": "markdown",
   "metadata": {},
   "source": [
    "## [dsgdb9nsd_009986.log](../tests/test_files/g16log/dsgdb9nsd_009986.log)"
   ]
  },
  {
   "cell_type": "code",
   "execution_count": 88,
   "metadata": {},
   "outputs": [
    {
     "name": "stderr",
     "output_type": "stream",
     "text": [
      "MolOP parsing with single thread: 100%|██████████| 1/1 [00:00<00:00, 39.19it/s]\n",
      "0 files failed to parse, 1 successfully parsed\n"
     ]
    },
    {
     "data": {
      "text/plain": [
       "0     N#C[C-](C#N)/[NH+]=C/N\n",
       "1     N#C[C-](C#N)/[NH+]=C/N\n",
       "2     N#C[C-](C#N)/[NH+]=C/N\n",
       "3     N#C[C-](C#N)/[NH+]=C/N\n",
       "4     N#C[C-](C#N)/[NH+]=C/N\n",
       "5     N#C[C-](C#N)/[NH+]=C/N\n",
       "6     N#C[C-](C#N)/[NH+]=C/N\n",
       "7     N#C[C-](C#N)/[NH+]=C/N\n",
       "8     N#C[C-](C#N)/[NH+]=C/N\n",
       "9     N#C[C-](C#N)/[NH+]=C/N\n",
       "10    N#C[C-](C#N)/[NH+]=C/N\n",
       "11    N#C[C-](C#N)/[NH+]=C/N\n",
       "Name: SMILES, dtype: object"
      ]
     },
     "execution_count": 88,
     "metadata": {},
     "output_type": "execute_result"
    }
   ],
   "source": [
    "test_file = AutoParser(\n",
    "    \"../tests/test_files/g16log/dsgdb9nsd_009986.log\",\n",
    "    n_jobs=1,\n",
    ")\n",
    "test_file[0].to_summary_df()[\"SMILES\"]"
   ]
  },
  {
   "cell_type": "markdown",
   "metadata": {},
   "source": [
    "## [dsgdb9nsd_000001-3-.log](../tests/test_files/g16log/dsgdb9nsd_000001-3-.log)"
   ]
  },
  {
   "cell_type": "code",
   "execution_count": 89,
   "metadata": {},
   "outputs": [
    {
     "name": "stderr",
     "output_type": "stream",
     "text": [
      "MolOP parsing with single thread: 100%|██████████| 1/1 [00:00<00:00, 93.52it/s]\n",
      "0 files failed to parse, 1 successfully parsed\n"
     ]
    },
    {
     "data": {
      "text/plain": [
       "0    [CH3-]\n",
       "1    [CH3-]\n",
       "2    [CH3-]\n",
       "3    [CH3-]\n",
       "4    [CH3-]\n",
       "5    [CH3-]\n",
       "6    [CH3-]\n",
       "Name: SMILES, dtype: object"
      ]
     },
     "execution_count": 89,
     "metadata": {},
     "output_type": "execute_result"
    }
   ],
   "source": [
    "test_file = AutoParser(\n",
    "    \"../tests/test_files/g16log/dsgdb9nsd_000001-3-.log\",\n",
    "    n_jobs=1,\n",
    ")\n",
    "test_file[0].to_summary_df()[\"SMILES\"]"
   ]
  },
  {
   "cell_type": "markdown",
   "metadata": {},
   "source": [
    "## [xtb_6_3_2_opt.out](../tests/test_files/xtbout/xtb_6_3_2_opt.out)\n",
    "Out file is the printout on screen of the xtb calculation. \n",
    "you can get it by:\n",
    "\n",
    "```bash\n",
    "xtb ***.xyz > ***.out\n",
    "```"
   ]
  },
  {
   "cell_type": "code",
   "execution_count": 90,
   "metadata": {},
   "outputs": [
    {
     "name": "stderr",
     "output_type": "stream",
     "text": [
      "MolOP parsing with single thread: 100%|██████████| 1/1 [00:00<00:00, 119.79it/s]\n",
      "0 files failed to parse, 1 successfully parsed\n"
     ]
    },
    {
     "data": {
      "text/plain": [
       "0    CCl\n",
       "Name: SMILES, dtype: object"
      ]
     },
     "execution_count": 90,
     "metadata": {},
     "output_type": "execute_result"
    }
   ],
   "source": [
    "test_file = AutoParser(\n",
    "    \"../tests/test_files/xtbout/xtb_6_3_2_opt.out\",\n",
    "    n_jobs=1,\n",
    ")\n",
    "test_file[0].to_summary_df()[\"SMILES\"]"
   ]
  }
 ],
 "metadata": {
  "kernelspec": {
   "display_name": "molop",
   "language": "python",
   "name": "python3"
  },
  "language_info": {
   "codemirror_mode": {
    "name": "ipython",
    "version": 3
   },
   "file_extension": ".py",
   "mimetype": "text/x-python",
   "name": "python",
   "nbconvert_exporter": "python",
   "pygments_lexer": "ipython3",
   "version": "3.8.19"
  }
 },
 "nbformat": 4,
 "nbformat_minor": 2
}
