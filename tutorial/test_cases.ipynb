{
 "cells": [
  {
   "cell_type": "markdown",
   "metadata": {},
   "source": [
    "# Test Cases"
   ]
  },
  {
   "cell_type": "code",
   "execution_count": 1,
   "metadata": {},
   "outputs": [],
   "source": [
    "from molop.io import AutoParser"
   ]
  },
  {
   "cell_type": "markdown",
   "metadata": {},
   "source": [
    "## [add_1.fchk](../tests/test_files/g16fchk/add_1.fchk)"
   ]
  },
  {
   "cell_type": "code",
   "execution_count": 2,
   "metadata": {},
   "outputs": [
    {
     "name": "stdout",
     "output_type": "stream",
     "text": [
      "file path: d:\\Product\\Useful-Code-Snippet\\MolOP\\tests\\test_files\\g16fchk\\add_1.fchk\n",
      "frame num: 1\n",
      "first SMILES: [H]c1onc(N(C([H])([H])c2c([H])c([H])c([H])c([H])c2[H])C([H])([H])c2c([H])c([H])c([H])c([H])c2[H])c1[H]\n",
      "last SMILES: [H]c1onc(N(C([H])([H])c2c([H])c([H])c([H])c([H])c2[H])C([H])([H])c2c([H])c([H])c([H])c([H])c2[H])c1[H]\n",
      "\n",
      "type: G16 FCHK\n",
      "file path: d:\\Product\\Useful-Code-Snippet\\MolOP\\tests\\test_files\\g16fchk\\add_1.fchk\n",
      "frameID: 0\n",
      "SMILES: [H]c1onc(N(C([H])([H])c2c([H])c([H])c([H])c([H])c2[H])C([H])([H])c2c([H])c([H])c([H])c([H])c2[H])c1[H]\n",
      "atom number: 36\n",
      "total charge: 0\n",
      "version: ES64L-G16RevC.01\n",
      "parameter comment: \n",
      "# b3lyp def2tzvpp       \n",
      "\n",
      "state: {'Job Status': '1'}\n",
      "energy: -842.4249639249879 hartree / particle\n",
      "sum energy: {'zero-point': None, 'thermal energy': None, 'thermal enthalpy': None, 'thermal gibbs free energy': None, 'zero-point correction': None, 'thermal energy correction': None, 'thermal enthalpy correction': None, 'thermal gibbs free energy correction': None}\n",
      "gradients number: 36\n",
      "frequencies number: 0\n",
      "imaginary frequencies number: 0\n",
      "partial charges number: 36\n",
      "spin densities number: 0\n",
      "alpha FMO orbits number: 844\n",
      "alpha energy: {'gap': <Quantity(0.191124501, 'hartree / particle')>, 'homo': <Quantity(-0.217654502, 'hartree / particle')>, 'lumo': <Quantity(-0.026530001, 'hartree / particle')>}\n",
      "beta FMO orbits number: 0\n",
      "beta energy: {'gap': None, 'homo': None, 'lumo': None}\n",
      "nbo analysis number: 0\n",
      "hessian number: 0\n",
      "\n"
     ]
    },
    {
     "data": {
      "image/png": "[encoded data removed]",
      "text/plain": [
       "<rdkit.Chem.rdchem.Mol at 0x1e24c1501d0>"
      ]
     },
     "execution_count": 2,
     "metadata": {},
     "output_type": "execute_result"
    }
   ],
   "source": [
    "test_file = AutoParser(\n",
    "    \"../tests/test_files/g16fchk/add_1.fchk\",\n",
    "    only_extract_structure=False,\n",
    "    only_last_frame=True,\n",
    ")\n",
    "test_file.summary()\n",
    "test_file[-1].summary()\n",
    "test_file[-1].rdmol"
   ]
  },
  {
   "cell_type": "markdown",
   "metadata": {},
   "source": [
    "## [add_0.fchk](../tests/test_files/g16fchk/add_0.fchk)"
   ]
  },
  {
   "cell_type": "code",
   "execution_count": 3,
   "metadata": {},
   "outputs": [
    {
     "name": "stdout",
     "output_type": "stream",
     "text": [
      "file path: d:\\Product\\Useful-Code-Snippet\\MolOP\\tests\\test_files\\g16fchk\\add_0.fchk\n",
      "frame num: 1\n",
      "first SMILES: [H]c1c(OC([H])([H])[H])noc1C(=O)OC([H])([H])C([H])([H])[H]\n",
      "last SMILES: [H]c1c(OC([H])([H])[H])noc1C(=O)OC([H])([H])C([H])([H])[H]\n",
      "\n",
      "type: G16 FCHK\n",
      "file path: d:\\Product\\Useful-Code-Snippet\\MolOP\\tests\\test_files\\g16fchk\\add_0.fchk\n",
      "frameID: 0\n",
      "SMILES: [H]c1c(OC([H])([H])[H])noc1C(=O)OC([H])([H])C([H])([H])[H]\n",
      "atom number: 21\n",
      "total charge: 0\n",
      "version: ES64L-G16RevC.01\n",
      "parameter comment: \n",
      "# b3lyp def2svp         \n",
      "\n",
      "state: {'Job Status': '1'}\n",
      "energy: -627.2876607648342 hartree / particle\n",
      "sum energy: {'zero-point': None, 'thermal energy': None, 'thermal enthalpy': None, 'thermal gibbs free energy': None, 'zero-point correction': None, 'thermal energy correction': None, 'thermal enthalpy correction': None, 'thermal gibbs free energy correction': None}\n",
      "gradients number: 21\n",
      "frequencies number: 0\n",
      "imaginary frequencies number: 0\n",
      "partial charges number: 21\n",
      "spin densities number: 0\n",
      "alpha FMO orbits number: 213\n",
      "alpha energy: {'gap': <Quantity(0.203804708, 'hartree / particle')>, 'homo': <Quantity(-0.26593138, 'hartree / particle')>, 'lumo': <Quantity(-0.062126672, 'hartree / particle')>}\n",
      "beta FMO orbits number: 0\n",
      "beta energy: {'gap': None, 'homo': None, 'lumo': None}\n",
      "nbo analysis number: 0\n",
      "hessian number: 0\n",
      "\n"
     ]
    },
    {
     "data": {
      "image/png": "[encoded data removed]",
      "text/plain": [
       "<rdkit.Chem.rdchem.Mol at 0x1e24c16f040>"
      ]
     },
     "execution_count": 3,
     "metadata": {},
     "output_type": "execute_result"
    }
   ],
   "source": [
    "test_file = AutoParser(\n",
    "    \"../tests/test_files/g16fchk/add_0.fchk\",\n",
    "    only_extract_structure=False,\n",
    "    only_last_frame=True,\n",
    ")\n",
    "test_file.summary()\n",
    "test_file[-1].summary()\n",
    "test_file[-1].rdmol"
   ]
  },
  {
   "cell_type": "markdown",
   "metadata": {},
   "source": [
    "## [dsgdb9nsd_000001-3.fchk](../tests/test_files/g16fchk/dsgdb9nsd_000001-3.fchk)"
   ]
  },
  {
   "cell_type": "code",
   "execution_count": 4,
   "metadata": {},
   "outputs": [
    {
     "name": "stdout",
     "output_type": "stream",
     "text": [
      "file path: d:\\Product\\Useful-Code-Snippet\\MolOP\\tests\\test_files\\g16fchk\\dsgdb9nsd_000001-3.fchk\n",
      "frame num: 1\n",
      "first SMILES: [H][C-]([H])[H]\n",
      "last SMILES: [H][C-]([H])[H]\n",
      "\n",
      "type: G16 FCHK\n",
      "file path: d:\\Product\\Useful-Code-Snippet\\MolOP\\tests\\test_files\\g16fchk\\dsgdb9nsd_000001-3.fchk\n",
      "frameID: 0\n",
      "SMILES: [H][C-]([H])[H]\n",
      "atom number: 4\n",
      "total charge: -1\n",
      "version: ES64L-G16RevC.01\n",
      "parameter comment: \n",
      "#p opt freq b3lyp/6-311+g** em=gd3bj\n",
      "\n",
      "state: {'Job Status': '1'}\n",
      "energy: -39.85750219579997 hartree / particle\n",
      "sum energy: {'zero-point': None, 'thermal energy': <Quantity(-39.8260771, 'hartree / particle')>, 'thermal enthalpy': <Quantity(-39.8251329, 'hartree / particle')>, 'thermal gibbs free energy': <Quantity(-39.8481502, 'hartree / particle')>, 'zero-point correction': None, 'thermal energy correction': None, 'thermal enthalpy correction': None, 'thermal gibbs free energy correction': None}\n",
      "gradients number: 4\n",
      "frequencies number: 6\n",
      "imaginary frequencies number: 0\n",
      "partial charges number: 4\n",
      "spin densities number: 0\n",
      "alpha FMO orbits number: 40\n",
      "alpha energy: {'gap': <Quantity(0.196343146, 'hartree / particle')>, 'homo': <Quantity(-0.130566415, 'hartree / particle')>, 'lumo': <Quantity(0.065776731, 'hartree / particle')>}\n",
      "beta FMO orbits number: 0\n",
      "beta energy: {'gap': None, 'homo': None, 'lumo': None}\n",
      "nbo analysis number: 0\n",
      "hessian number: 0\n",
      "\n"
     ]
    },
    {
     "data": {
      "image/png": "[encoded data removed]",
      "text/plain": [
       "<rdkit.Chem.rdchem.Mol at 0x1e24c16f220>"
      ]
     },
     "execution_count": 4,
     "metadata": {},
     "output_type": "execute_result"
    }
   ],
   "source": [
    "test_file = AutoParser(\n",
    "    \"../tests/test_files/g16fchk/dsgdb9nsd_000001-3.fchk\",\n",
    "    only_extract_structure=False,\n",
    "    only_last_frame=True,\n",
    ")\n",
    "test_file.summary()\n",
    "test_file[-1].summary()\n",
    "test_file[-1].rdmol"
   ]
  },
  {
   "cell_type": "markdown",
   "metadata": {},
   "source": [
    "## [dsgdb9nsd_000484-1+.log](../tests/test_files/dsgdb9nsd_000484-1+.log)"
   ]
  },
  {
   "cell_type": "code",
   "execution_count": 5,
   "metadata": {},
   "outputs": [
    {
     "name": "stdout",
     "output_type": "stream",
     "text": [
      "file path: d:\\Product\\Useful-Code-Snippet\\MolOP\\tests\\test_files\\g16log\\dsgdb9nsd_000484-1+.log\n",
      "frame num: 1\n",
      "first SMILES: [H]C#CC#CC#[C+]\n",
      "last SMILES: [H]C#CC#CC#[C+]\n",
      "\n",
      "type: G16 LOG\n",
      "file path: d:\\Product\\Useful-Code-Snippet\\MolOP\\tests\\test_files\\g16log\\dsgdb9nsd_000484-1+.log\n",
      "frameID: 0\n",
      "SMILES: [H]C#CC#CC#[C+]\n",
      "atom number: 7\n",
      "total charge: 1\n",
      "version: Gaussian 16:  ES64L-G16RevC.01  3-Jul-2019\n",
      "parameter comment: \n",
      " %chk=dsgdb9nsd_000484-1+.chk\n",
      " %mem=120GB\n",
      " %nprocshared=32\n",
      " Will use up to   32 processors via shared memory.\n",
      " #p opt freq b3lyp/6-311+g** em=gd3bj\n",
      "\n"
     ]
    },
    {
     "data": {
      "image/png": "[encoded data removed]",
      "text/plain": [
       "<rdkit.Chem.rdchem.Mol at 0x1e24c053d60>"
      ]
     },
     "execution_count": 5,
     "metadata": {},
     "output_type": "execute_result"
    }
   ],
   "source": [
    "test_file = AutoParser(\n",
    "    \"../tests/test_files/g16log/dsgdb9nsd_000484-1+.log\",\n",
    "    only_extract_structure=True,\n",
    "    only_last_frame=True,\n",
    ")\n",
    "test_file.summary()\n",
    "test_file[-1].summary()\n",
    "test_file[-1].rdmol"
   ]
  },
  {
   "cell_type": "markdown",
   "metadata": {},
   "source": [
    "## [dsgdb9nsd_000672-3+.log](../tests/test_files/dsgdb9nsd_000672-3+.log)"
   ]
  },
  {
   "cell_type": "code",
   "execution_count": 6,
   "metadata": {},
   "outputs": [
    {
     "name": "stdout",
     "output_type": "stream",
     "text": [
      "file path: d:\\Product\\Useful-Code-Snippet\\MolOP\\tests\\test_files\\g16log\\dsgdb9nsd_000672-3+.log\n",
      "frame num: 1\n",
      "first SMILES: [H]C1=[C+]C([H])([H])[C@]2([H])O[C@]12[H]\n",
      "last SMILES: [H]C1=[C+]C([H])([H])[C@]2([H])O[C@]12[H]\n",
      "\n",
      "type: G16 LOG\n",
      "file path: d:\\Product\\Useful-Code-Snippet\\MolOP\\tests\\test_files\\g16log\\dsgdb9nsd_000672-3+.log\n",
      "frameID: 0\n",
      "SMILES: [H]C1=[C+]C([H])([H])[C@]2([H])O[C@]12[H]\n",
      "atom number: 11\n",
      "total charge: 1\n",
      "version: Gaussian 16:  ES64L-G16RevC.01  3-Jul-2019\n",
      "parameter comment: \n",
      " %chk=dsgdb9nsd_000672-3.chk\n",
      " %mem=60GB\n",
      " %nprocshared=32\n",
      " Will use up to   32 processors via shared memory.\n",
      " #p opt freq b3lyp/6-311+g** em=gd3bj\n",
      "\n"
     ]
    },
    {
     "data": {
      "image/png": "[encoded data removed]",
      "text/plain": [
       "<rdkit.Chem.rdchem.Mol at 0x1e24c14cc10>"
      ]
     },
     "execution_count": 6,
     "metadata": {},
     "output_type": "execute_result"
    }
   ],
   "source": [
    "test_file = AutoParser(\n",
    "    \"../tests/test_files/g16log/dsgdb9nsd_000672-3+.log\",\n",
    "    only_extract_structure=True,\n",
    "    only_last_frame=True,\n",
    ")\n",
    "test_file.summary()\n",
    "test_file[-1].summary()\n",
    "test_file[-1].rdmol"
   ]
  },
  {
   "cell_type": "markdown",
   "metadata": {},
   "source": [
    "## [dsgdb9nsd_000923-3+.log](../tests/test_files/dsgdb9nsd_000923-3+.log)"
   ]
  },
  {
   "cell_type": "code",
   "execution_count": 7,
   "metadata": {},
   "outputs": [
    {
     "name": "stdout",
     "output_type": "stream",
     "text": [
      "file path: d:\\Product\\Useful-Code-Snippet\\MolOP\\tests\\test_files\\g16log\\dsgdb9nsd_000923-3+.log\n",
      "frame num: 1\n",
      "first SMILES: [H]C1=C=[N+]=C([H])N([H])C1=O\n",
      "last SMILES: [H]C1=C=[N+]=C([H])N([H])C1=O\n",
      "\n",
      "type: G16 LOG\n",
      "file path: d:\\Product\\Useful-Code-Snippet\\MolOP\\tests\\test_files\\g16log\\dsgdb9nsd_000923-3+.log\n",
      "frameID: 0\n",
      "SMILES: [H]C1=C=[N+]=C([H])N([H])C1=O\n",
      "atom number: 10\n",
      "total charge: 1\n",
      "version: Gaussian 16:  ES64L-G16RevC.01  3-Jul-2019\n",
      "parameter comment: \n",
      " %chk=dsgdb9nsd_000923-3.chk\n",
      " %mem=60GB\n",
      " %nprocshared=32\n",
      " Will use up to   32 processors via shared memory.\n",
      " #p opt freq b3lyp/6-311+g** em=gd3bj\n",
      "\n"
     ]
    },
    {
     "data": {
      "image/png": "[encoded data removed]",
      "text/plain": [
       "<rdkit.Chem.rdchem.Mol at 0x1e24c107270>"
      ]
     },
     "execution_count": 7,
     "metadata": {},
     "output_type": "execute_result"
    }
   ],
   "source": [
    "test_file = AutoParser(\n",
    "    \"../tests/test_files/g16log/dsgdb9nsd_000923-3+.log\",\n",
    "    only_extract_structure=True,\n",
    "    only_last_frame=True,\n",
    ")\n",
    "test_file.summary()\n",
    "test_file[-1].summary()\n",
    "test_file[-1].rdmol"
   ]
  },
  {
   "cell_type": "markdown",
   "metadata": {},
   "source": [
    "## [dsgdb9nsd_003051-3.log](../tests/test_files/dsgdb9nsd_003051-3.log)"
   ]
  },
  {
   "cell_type": "code",
   "execution_count": 8,
   "metadata": {},
   "outputs": [
    {
     "name": "stdout",
     "output_type": "stream",
     "text": [
      "file path: d:\\Product\\Useful-Code-Snippet\\MolOP\\tests\\test_files\\g16log\\dsgdb9nsd_003051-3.log\n",
      "frame num: 1\n",
      "first SMILES: [H][C](N([H])C([H])=O)[C@]1([H])OC1([H])[H]\n",
      "last SMILES: [H][C](N([H])C([H])=O)[C@]1([H])OC1([H])[H]\n",
      "\n",
      "type: G16 LOG\n",
      "file path: d:\\Product\\Useful-Code-Snippet\\MolOP\\tests\\test_files\\g16log\\dsgdb9nsd_003051-3.log\n",
      "frameID: 0\n",
      "SMILES: [H][C](N([H])C([H])=O)[C@]1([H])OC1([H])[H]\n",
      "atom number: 13\n",
      "total charge: 0\n",
      "version: Gaussian 16:  ES64L-G16RevC.01  3-Jul-2019\n",
      "parameter comment: \n",
      " %chk=dsgdb9nsd_003051-3.chk\n",
      " %mem=60GB\n",
      " %nprocshared=32\n",
      " Will use up to   32 processors via shared memory.\n",
      " #p opt freq b3lyp/6-311+g** em=gd3bj\n",
      "\n"
     ]
    },
    {
     "data": {
      "image/png": "[encoded data removed]",
      "text/plain": [
       "<rdkit.Chem.rdchem.Mol at 0x1e24c1512e0>"
      ]
     },
     "execution_count": 8,
     "metadata": {},
     "output_type": "execute_result"
    }
   ],
   "source": [
    "test_file = AutoParser(\n",
    "    \"../tests/test_files/g16log/dsgdb9nsd_003051-3.log\",\n",
    "    only_extract_structure=True,\n",
    "    only_last_frame=True,\n",
    ")\n",
    "test_file.summary()\n",
    "test_file[-1].summary()\n",
    "test_file[-1].rdmol"
   ]
  },
  {
   "cell_type": "markdown",
   "metadata": {},
   "source": [
    "## [dsgdb9nsd_000696-4.log](../tests/test_files/dsgdb9nsd_000696-4.log)"
   ]
  },
  {
   "cell_type": "code",
   "execution_count": 9,
   "metadata": {},
   "outputs": [
    {
     "name": "stdout",
     "output_type": "stream",
     "text": [
      "file path: d:\\Product\\Useful-Code-Snippet\\MolOP\\tests\\test_files\\g16log\\dsgdb9nsd_000696-4.log\n",
      "frame num: 1\n",
      "first SMILES: [H]C1([H])[C]2[C@@]3([H])N1[C@]2([H])C3([H])[H]\n",
      "last SMILES: [H]C1([H])[C]2[C@@]3([H])N1[C@]2([H])C3([H])[H]\n",
      "\n",
      "type: G16 LOG\n",
      "file path: d:\\Product\\Useful-Code-Snippet\\MolOP\\tests\\test_files\\g16log\\dsgdb9nsd_000696-4.log\n",
      "frameID: 0\n",
      "SMILES: [H]C1([H])[C]2[C@@]3([H])N1[C@]2([H])C3([H])[H]\n",
      "atom number: 12\n",
      "total charge: 0\n",
      "version: Gaussian 16:  ES64L-G16RevC.01  3-Jul-2019\n",
      "parameter comment: \n",
      " %chk=dsgdb9nsd_000696-4.chk\n",
      " %mem=60GB\n",
      " %nprocshared=32\n",
      " Will use up to   32 processors via shared memory.\n",
      " #p opt freq b3lyp/6-311+g** em=gd3bj\n",
      "\n"
     ]
    },
    {
     "data": {
      "image/png": "[encoded data removed]",
      "text/plain": [
       "<rdkit.Chem.rdchem.Mol at 0x1e24c1515f0>"
      ]
     },
     "execution_count": 9,
     "metadata": {},
     "output_type": "execute_result"
    }
   ],
   "source": [
    "test_file = AutoParser(\n",
    "    \"../tests/test_files/g16log/dsgdb9nsd_000696-4.log\",\n",
    "    only_extract_structure=True,\n",
    "    only_last_frame=True,\n",
    ")\n",
    "test_file.summary()\n",
    "test_file[-1].summary()\n",
    "test_file[-1].rdmol"
   ]
  },
  {
   "cell_type": "markdown",
   "metadata": {},
   "source": [
    "## [dsgdb9nsd_004669-4.log](../tests/test_files/dsgdb9nsd_004669-4.log)"
   ]
  },
  {
   "cell_type": "code",
   "execution_count": 10,
   "metadata": {},
   "outputs": [
    {
     "name": "stdout",
     "output_type": "stream",
     "text": [
      "file path: d:\\Product\\Useful-Code-Snippet\\MolOP\\tests\\test_files\\g16log\\dsgdb9nsd_004669-4.log\n",
      "frame num: 1\n",
      "first SMILES: [H]OC1=NC(C([H])=O)=C([H])[N]1\n",
      "last SMILES: [H]OC1=NC(C([H])=O)=C([H])[N]1\n",
      "\n",
      "type: G16 LOG\n",
      "file path: d:\\Product\\Useful-Code-Snippet\\MolOP\\tests\\test_files\\g16log\\dsgdb9nsd_004669-4.log\n",
      "frameID: 0\n",
      "SMILES: [H]OC1=NC(C([H])=O)=C([H])[N]1\n",
      "atom number: 11\n",
      "total charge: 0\n",
      "version: Gaussian 16:  ES64L-G16RevC.01  3-Jul-2019\n",
      "parameter comment: \n",
      " %chk=dsgdb9nsd_004669-4.chk\n",
      " %mem=60GB\n",
      " %nprocshared=32\n",
      " Will use up to   32 processors via shared memory.\n",
      " #p opt freq b3lyp/6-311+g** em=gd3bj\n",
      "\n"
     ]
    },
    {
     "data": {
      "image/png": "[encoded data removed]",
      "text/plain": [
       "<rdkit.Chem.rdchem.Mol at 0x1e252324ba0>"
      ]
     },
     "execution_count": 10,
     "metadata": {},
     "output_type": "execute_result"
    }
   ],
   "source": [
    "test_file = AutoParser(\n",
    "    \"../tests/test_files/g16log/dsgdb9nsd_004669-4.log\",\n",
    "    only_extract_structure=True,\n",
    "    only_last_frame=True,\n",
    ")\n",
    "test_file.summary()\n",
    "test_file[-1].summary()\n",
    "test_file[-1].rdmol"
   ]
  },
  {
   "cell_type": "markdown",
   "metadata": {},
   "source": [
    "## [dsgdb9nsd_131200-4-.log](../tests/test_files/dsgdb9nsd_131200-4-.log)"
   ]
  },
  {
   "cell_type": "code",
   "execution_count": 11,
   "metadata": {},
   "outputs": [
    {
     "name": "stdout",
     "output_type": "stream",
     "text": [
      "file path: d:\\Product\\Useful-Code-Snippet\\MolOP\\tests\\test_files\\g16log\\dsgdb9nsd_131200-4-.log\n",
      "frame num: 1\n",
      "first SMILES: [H][C-]1c2c(noc2[O-])C([H])([H])[N+]1([H])[H]\n",
      "last SMILES: [H][C-]1c2c(noc2[O-])C([H])([H])[N+]1([H])[H]\n",
      "\n",
      "type: G16 LOG\n",
      "file path: d:\\Product\\Useful-Code-Snippet\\MolOP\\tests\\test_files\\g16log\\dsgdb9nsd_131200-4-.log\n",
      "frameID: 0\n",
      "SMILES: [H][C-]1c2c(noc2[O-])C([H])([H])[N+]1([H])[H]\n",
      "atom number: 14\n",
      "total charge: -1\n",
      "version: Gaussian 16:  ES64L-G16RevC.01  3-Jul-2019\n",
      "parameter comment: \n",
      " %chk=dsgdb9nsd_131200-4.chk\n",
      " %mem=60GB\n",
      " %nprocshared=32\n",
      " Will use up to   32 processors via shared memory.\n",
      " #p opt freq b3lyp/6-311+g** em=gd3bj\n",
      "\n"
     ]
    },
    {
     "data": {
      "image/png": "[encoded data removed]",
      "text/plain": [
       "<rdkit.Chem.rdchem.Mol at 0x1e23d619130>"
      ]
     },
     "execution_count": 11,
     "metadata": {},
     "output_type": "execute_result"
    }
   ],
   "source": [
    "test_file = AutoParser(\n",
    "    \"../tests/test_files/g16log/dsgdb9nsd_131200-4-.log\",\n",
    "    only_extract_structure=True,\n",
    "    only_last_frame=True,\n",
    ")\n",
    "test_file.summary()\n",
    "test_file[-1].summary()\n",
    "test_file[-1].rdmol"
   ]
  },
  {
   "cell_type": "markdown",
   "metadata": {},
   "source": [
    "## [dsgdb9nsd_000955-3.log](../tests/test_files/dsgdb9nsd_000955-3.log)"
   ]
  },
  {
   "cell_type": "code",
   "execution_count": 12,
   "metadata": {},
   "outputs": [
    {
     "name": "stdout",
     "output_type": "stream",
     "text": [
      "file path: d:\\Product\\Useful-Code-Snippet\\MolOP\\tests\\test_files\\g16log\\dsgdb9nsd_000955-3.log\n",
      "frame num: 1\n",
      "first SMILES: [H]OC1=NC([H])=C=C([H])[N]1\n",
      "last SMILES: [H]OC1=NC([H])=C=C([H])[N]1\n",
      "\n",
      "type: G16 LOG\n",
      "file path: d:\\Product\\Useful-Code-Snippet\\MolOP\\tests\\test_files\\g16log\\dsgdb9nsd_000955-3.log\n",
      "frameID: 0\n",
      "SMILES: [H]OC1=NC([H])=C=C([H])[N]1\n",
      "atom number: 10\n",
      "total charge: 0\n",
      "version: Gaussian 16:  ES64L-G16RevC.01  3-Jul-2019\n",
      "parameter comment: \n",
      " %chk=dsgdb9nsd_000955-3.chk\n",
      " %mem=60GB\n",
      " %nprocshared=32\n",
      " Will use up to   32 processors via shared memory.\n",
      " #p opt freq b3lyp/6-311+g** em=gd3bj\n",
      "\n"
     ]
    },
    {
     "data": {
      "image/png": "[encoded data removed]",
      "text/plain": [
       "<rdkit.Chem.rdchem.Mol at 0x1e24c0539e0>"
      ]
     },
     "execution_count": 12,
     "metadata": {},
     "output_type": "execute_result"
    }
   ],
   "source": [
    "test_file = AutoParser(\n",
    "    \"../tests/test_files/g16log/dsgdb9nsd_000955-3.log\",\n",
    "    only_extract_structure=True,\n",
    "    only_last_frame=True,\n",
    ")\n",
    "test_file.summary()\n",
    "test_file[-1].summary()\n",
    "test_file[-1].rdmol"
   ]
  },
  {
   "cell_type": "markdown",
   "metadata": {},
   "source": [
    "## [r1_C2H3N3O_sp_g16.log](../tests/test_files/r1_C2H3N3O_sp_g16.log)"
   ]
  },
  {
   "cell_type": "code",
   "execution_count": 13,
   "metadata": {},
   "outputs": [
    {
     "name": "stdout",
     "output_type": "stream",
     "text": [
      "file path: d:\\Product\\Useful-Code-Snippet\\MolOP\\tests\\test_files\\g16log\\r1_C2H3N3O_sp_g16.log\n",
      "frame num: 1\n",
      "first SMILES: [H]C([H])([H])/C([O-])=N/[N+]#N\n",
      "last SMILES: [H]C([H])([H])/C([O-])=N/[N+]#N\n",
      "\n",
      "type: G16 LOG\n",
      "file path: d:\\Product\\Useful-Code-Snippet\\MolOP\\tests\\test_files\\g16log\\r1_C2H3N3O_sp_g16.log\n",
      "frameID: 0\n",
      "SMILES: [H]C([H])([H])/C([O-])=N/[N+]#N\n",
      "atom number: 9\n",
      "total charge: 0\n",
      "version: Gaussian 16:  ES64L-G16RevB.01 20-Dec-2017\n",
      "parameter comment: \n",
      " %mem=15199MB\n",
      " %nprocshared=4\n",
      " Will use up to    4 processors via shared memory.\n",
      " # B3LYP def2tzvp EmpiricalDispersion=GD3BJ IOp(2/9=2000) scrf=(smd,sol\n",
      " vent=Water)\n",
      "\n"
     ]
    },
    {
     "data": {
      "image/png": "[encoded data removed]",
      "text/plain": [
       "<rdkit.Chem.rdchem.Mol at 0x1e24c135b30>"
      ]
     },
     "execution_count": 13,
     "metadata": {},
     "output_type": "execute_result"
    }
   ],
   "source": [
    "test_file = AutoParser(\n",
    "    \"../tests/test_files/g16log/r1_C2H3N3O_sp_g16.log\",\n",
    "    only_extract_structure=True,\n",
    "    only_last_frame=True,\n",
    ")\n",
    "test_file.summary()\n",
    "test_file[-1].summary()\n",
    "test_file[-1].rdmol"
   ]
  },
  {
   "cell_type": "markdown",
   "metadata": {},
   "source": [
    "## [r1_C8H9N3O2_sp_g16.log](../tests/test_files/r1_C8H9N3O2_sp_g16.log)"
   ]
  },
  {
   "cell_type": "code",
   "execution_count": 14,
   "metadata": {},
   "outputs": [
    {
     "name": "stdout",
     "output_type": "stream",
     "text": [
      "file path: d:\\Product\\Useful-Code-Snippet\\MolOP\\tests\\test_files\\g16log\\r1_C8H9N3O2_sp_g16.log\n",
      "frame num: 1\n",
      "first SMILES: [H]c1c([H])c([H])c(/N=[O+]\\N=C(/[O-])N([H])C([H])([H])[H])c([H])c1[H]\n",
      "last SMILES: [H]c1c([H])c([H])c(/N=[O+]\\N=C(/[O-])N([H])C([H])([H])[H])c([H])c1[H]\n",
      "\n",
      "type: G16 LOG\n",
      "file path: d:\\Product\\Useful-Code-Snippet\\MolOP\\tests\\test_files\\g16log\\r1_C8H9N3O2_sp_g16.log\n",
      "frameID: 0\n",
      "SMILES: [H]c1c([H])c([H])c(/N=[O+]\\N=C(/[O-])N([H])C([H])([H])[H])c([H])c1[H]\n",
      "atom number: 22\n",
      "total charge: 0\n",
      "version: Gaussian 16:  ES64L-G16RevB.01 20-Dec-2017\n",
      "parameter comment: \n",
      " %mem=15199MB\n",
      " %nprocshared=4\n",
      " Will use up to    4 processors via shared memory.\n",
      " # B3LYP def2tzvp EmpiricalDispersion=GD3BJ IOp(2/9=2000) scrf=(smd,sol\n",
      " vent=Water)\n",
      "\n"
     ]
    },
    {
     "data": {
      "image/png": "[encoded data removed]",
      "text/plain": [
       "<rdkit.Chem.rdchem.Mol at 0x1e24c116b30>"
      ]
     },
     "execution_count": 14,
     "metadata": {},
     "output_type": "execute_result"
    }
   ],
   "source": [
    "test_file = AutoParser(\n",
    "    \"../tests/test_files/g16log/r1_C8H9N3O2_sp_g16.log\",\n",
    "    only_extract_structure=True,\n",
    "    only_last_frame=True,\n",
    ")\n",
    "test_file.summary()\n",
    "test_file[-1].summary()\n",
    "test_file[-1].rdmol"
   ]
  },
  {
   "cell_type": "markdown",
   "metadata": {},
   "source": [
    "## [dsgdb9nsd_004738-2.log](../tests/test_files/dsgdb9nsd_004738-2.log)"
   ]
  },
  {
   "cell_type": "code",
   "execution_count": 15,
   "metadata": {},
   "outputs": [
    {
     "name": "stdout",
     "output_type": "stream",
     "text": [
      "file path: d:\\Product\\Useful-Code-Snippet\\MolOP\\tests\\test_files\\g16log\\dsgdb9nsd_004738-2.log\n",
      "frame num: 1\n",
      "first SMILES: [H]C#Cc1nc(O[H])[c]o1\n",
      "last SMILES: [H]C#Cc1nc(O[H])[c]o1\n",
      "\n",
      "type: G16 LOG\n",
      "file path: d:\\Product\\Useful-Code-Snippet\\MolOP\\tests\\test_files\\g16log\\dsgdb9nsd_004738-2.log\n",
      "frameID: 0\n",
      "SMILES: [H]C#Cc1nc(O[H])[c]o1\n",
      "atom number: 10\n",
      "total charge: 0\n",
      "version: Gaussian 16:  ES64L-G16RevC.01  3-Jul-2019\n",
      "parameter comment: \n",
      " %chk=dsgdb9nsd_004738-2.chk\n",
      " %mem=120GB\n",
      " %nprocshared=32\n",
      " Will use up to   32 processors via shared memory.\n",
      " #p opt freq b3lyp/6-311+g** em=gd3bj\n",
      "\n"
     ]
    },
    {
     "data": {
      "image/png": "[encoded data removed]",
      "text/plain": [
       "<rdkit.Chem.rdchem.Mol at 0x1e24c14c190>"
      ]
     },
     "execution_count": 15,
     "metadata": {},
     "output_type": "execute_result"
    }
   ],
   "source": [
    "test_file = AutoParser(\n",
    "    \"../tests/test_files/g16log/dsgdb9nsd_004738-2.log\",\n",
    "    only_extract_structure=True,\n",
    "    only_last_frame=True,\n",
    ")\n",
    "test_file.summary()\n",
    "test_file[-1].summary()\n",
    "test_file[-1].rdmol"
   ]
  },
  {
   "cell_type": "markdown",
   "metadata": {},
   "source": [
    "## [dsgdb9nsd_004015-3-.log](../tests/test_files/dsgdb9nsd_004015-3-.log)"
   ]
  },
  {
   "cell_type": "code",
   "execution_count": 16,
   "metadata": {},
   "outputs": [
    {
     "name": "stdout",
     "output_type": "stream",
     "text": [
      "file path: d:\\Product\\Useful-Code-Snippet\\MolOP\\tests\\test_files\\g16log\\dsgdb9nsd_004015-3-.log\n",
      "frame num: 1\n",
      "first SMILES: [H]OC([H])([H])/C(=N\\[O-])C([H])([H])[N+]([H])([H])[C-]([H])[H]\n",
      "last SMILES: [H]OC([H])([H])/C(=N\\[O-])C([H])([H])[N+]([H])([H])[C-]([H])[H]\n",
      "\n",
      "type: G16 LOG\n",
      "file path: d:\\Product\\Useful-Code-Snippet\\MolOP\\tests\\test_files\\g16log\\dsgdb9nsd_004015-3-.log\n",
      "frameID: 0\n",
      "SMILES: [H]OC([H])([H])/C(=N\\[O-])C([H])([H])[N+]([H])([H])[C-]([H])[H]\n",
      "atom number: 17\n",
      "total charge: -1\n",
      "version: Gaussian 16:  ES64L-G16RevC.01  3-Jul-2019\n",
      "parameter comment: \n",
      " %chk=dsgdb9nsd_004015-3.chk\n",
      " %mem=60GB\n",
      " %nprocshared=32\n",
      " Will use up to   32 processors via shared memory.\n",
      " #p opt freq b3lyp/6-311+g** em=gd3bj\n",
      "\n"
     ]
    },
    {
     "data": {
      "image/png": "[encoded data removed]",
      "text/plain": [
       "<rdkit.Chem.rdchem.Mol at 0x1e24c0f5450>"
      ]
     },
     "execution_count": 16,
     "metadata": {},
     "output_type": "execute_result"
    }
   ],
   "source": [
    "test_file = AutoParser(\n",
    "    \"../tests/test_files/g16log/dsgdb9nsd_004015-3-.log\",\n",
    "    only_extract_structure=True,\n",
    "    only_last_frame=True,\n",
    ")\n",
    "test_file.summary()\n",
    "test_file[-1].summary()\n",
    "test_file[-1].rdmol"
   ]
  },
  {
   "cell_type": "markdown",
   "metadata": {},
   "source": [
    "## [dsgdb9nsd_000107-3-.log](../tests/test_files/dsgdb9nsd_000107-3-.log)"
   ]
  },
  {
   "cell_type": "code",
   "execution_count": 17,
   "metadata": {},
   "outputs": [
    {
     "name": "stdout",
     "output_type": "stream",
     "text": [
      "file path: d:\\Product\\Useful-Code-Snippet\\MolOP\\tests\\test_files\\g16log\\dsgdb9nsd_000107-3-.log\n",
      "frame num: 1\n",
      "first SMILES: [H]C#C[C-]([H])C#C[H]\n",
      "last SMILES: [H]C#C[C-]([H])C#C[H]\n",
      "\n",
      "type: G16 LOG\n",
      "file path: d:\\Product\\Useful-Code-Snippet\\MolOP\\tests\\test_files\\g16log\\dsgdb9nsd_000107-3-.log\n",
      "frameID: 0\n",
      "SMILES: [H]C#C[C-]([H])C#C[H]\n",
      "atom number: 8\n",
      "total charge: -1\n",
      "version: Gaussian 16:  ES64L-G16RevC.01  3-Jul-2019\n",
      "parameter comment: \n",
      " %chk=dsgdb9nsd_000107-3.chk\n",
      " %mem=60GB\n",
      " %nprocshared=32\n",
      " Will use up to   32 processors via shared memory.\n",
      " #p opt freq b3lyp/6-311+g** em=gd3bj\n",
      "\n"
     ]
    },
    {
     "data": {
      "image/png": "[encoded data removed]",
      "text/plain": [
       "<rdkit.Chem.rdchem.Mol at 0x1e24c0f5720>"
      ]
     },
     "execution_count": 17,
     "metadata": {},
     "output_type": "execute_result"
    }
   ],
   "source": [
    "test_file = AutoParser(\n",
    "    \"../tests/test_files/g16log/dsgdb9nsd_000107-3-.log\",\n",
    "    only_extract_structure=True,\n",
    "    only_last_frame=True,\n",
    ")\n",
    "test_file.summary()\n",
    "test_file[-1].summary()\n",
    "test_file[-1].rdmol"
   ]
  },
  {
   "cell_type": "markdown",
   "metadata": {},
   "source": [
    "## [dsgdb9nsd_004517-4-.log](../tests/test_files/dsgdb9nsd_004517-4-.log)"
   ]
  },
  {
   "cell_type": "code",
   "execution_count": 18,
   "metadata": {},
   "outputs": [
    {
     "name": "stdout",
     "output_type": "stream",
     "text": [
      "file path: d:\\Product\\Useful-Code-Snippet\\MolOP\\tests\\test_files\\g16log\\dsgdb9nsd_004478-6-.log\n",
      "frame num: 1\n",
      "first SMILES: [H]Oc1nc(O[H])c(C([H])([H])[H])[n-]1\n",
      "last SMILES: [H]Oc1nc(O[H])c(C([H])([H])[H])[n-]1\n",
      "\n",
      "type: G16 LOG\n",
      "file path: d:\\Product\\Useful-Code-Snippet\\MolOP\\tests\\test_files\\g16log\\dsgdb9nsd_004478-6-.log\n",
      "frameID: 0\n",
      "SMILES: [H]Oc1nc(O[H])c(C([H])([H])[H])[n-]1\n",
      "atom number: 13\n",
      "total charge: -1\n",
      "version: Gaussian 16:  ES64L-G16RevC.01  3-Jul-2019\n",
      "parameter comment: \n",
      " %chk=dsgdb9nsd_004478-6.chk\n",
      " %mem=60GB\n",
      " %nprocshared=32\n",
      " Will use up to   32 processors via shared memory.\n",
      " #p opt freq b3lyp/6-311+g** em=gd3bj\n",
      "\n"
     ]
    },
    {
     "data": {
      "image/png": "[encoded data removed]",
      "text/plain": [
       "<rdkit.Chem.rdchem.Mol at 0x1e24c150cc0>"
      ]
     },
     "execution_count": 18,
     "metadata": {},
     "output_type": "execute_result"
    }
   ],
   "source": [
    "test_file = AutoParser(\n",
    "    \"../tests/test_files/g16log/dsgdb9nsd_004478-6-.log\",\n",
    "    only_extract_structure=True,\n",
    "    only_last_frame=True,\n",
    ")\n",
    "test_file.summary()\n",
    "test_file[-1].summary()\n",
    "test_file[-1].rdmol"
   ]
  },
  {
   "cell_type": "markdown",
   "metadata": {},
   "source": [
    "## [dsgdb9nsd_004517-4-.log](../tests/test_files/dsgdb9nsd_004517-4-.log)"
   ]
  },
  {
   "cell_type": "code",
   "execution_count": 19,
   "metadata": {},
   "outputs": [
    {
     "name": "stdout",
     "output_type": "stream",
     "text": [
      "file path: d:\\Product\\Useful-Code-Snippet\\MolOP\\tests\\test_files\\g16log\\dsgdb9nsd_004517-4-.log\n",
      "frame num: 1\n",
      "first SMILES: [H]Oc1nc(O[H])c(N([H])[H])[n-]1\n",
      "last SMILES: [H]Oc1nc(O[H])c(N([H])[H])[n-]1\n",
      "\n",
      "type: G16 LOG\n",
      "file path: d:\\Product\\Useful-Code-Snippet\\MolOP\\tests\\test_files\\g16log\\dsgdb9nsd_004517-4-.log\n",
      "frameID: 0\n",
      "SMILES: [H]Oc1nc(O[H])c(N([H])[H])[n-]1\n",
      "atom number: 12\n",
      "total charge: -1\n",
      "version: Gaussian 16:  ES64L-G16RevC.01  3-Jul-2019\n",
      "parameter comment: \n",
      " %chk=dsgdb9nsd_004517-4.chk\n",
      " %mem=60GB\n",
      " %nprocshared=32\n",
      " Will use up to   32 processors via shared memory.\n",
      " #p opt freq b3lyp/6-311+g** em=gd3bj\n",
      "\n"
     ]
    },
    {
     "data": {
      "image/png": "[encoded data removed]",
      "text/plain": [
       "<rdkit.Chem.rdchem.Mol at 0x1e252353400>"
      ]
     },
     "execution_count": 19,
     "metadata": {},
     "output_type": "execute_result"
    }
   ],
   "source": [
    "test_file = AutoParser(\n",
    "    \"../tests/test_files/g16log/dsgdb9nsd_004517-4-.log\",\n",
    "    only_extract_structure=True,\n",
    "    only_last_frame=True,\n",
    ")\n",
    "test_file.summary()\n",
    "test_file[-1].summary()\n",
    "test_file[-1].rdmol"
   ]
  },
  {
   "cell_type": "markdown",
   "metadata": {},
   "source": [
    "## [dsgdb9nsd_000958-3-.log](../tests/test_files/dsgdb9nsd_000958-3-.log)"
   ]
  },
  {
   "cell_type": "code",
   "execution_count": 20,
   "metadata": {},
   "outputs": [
    {
     "name": "stdout",
     "output_type": "stream",
     "text": [
      "file path: d:\\Product\\Useful-Code-Snippet\\MolOP\\tests\\test_files\\g16log\\dsgdb9nsd_000958-3-.log\n",
      "frame num: 1\n",
      "first SMILES: [H]Oc1n[c-]nc([H])n1\n",
      "last SMILES: [H]Oc1n[c-]nc([H])n1\n",
      "\n",
      "type: G16 LOG\n",
      "file path: d:\\Product\\Useful-Code-Snippet\\MolOP\\tests\\test_files\\g16log\\dsgdb9nsd_000958-3-.log\n",
      "frameID: 0\n",
      "SMILES: [H]Oc1n[c-]nc([H])n1\n",
      "atom number: 9\n",
      "total charge: -1\n",
      "version: Gaussian 16:  ES64L-G16RevC.01  3-Jul-2019\n",
      "parameter comment: \n",
      " %chk=dsgdb9nsd_000958-3.chk\n",
      " %mem=60GB\n",
      " %nprocshared=32\n",
      " Will use up to   32 processors via shared memory.\n",
      " #p opt freq b3lyp/6-311+g** em=gd3bj\n",
      "\n"
     ]
    },
    {
     "data": {
      "image/png": "[encoded data removed]",
      "text/plain": [
       "<rdkit.Chem.rdchem.Mol at 0x1e252353ae0>"
      ]
     },
     "execution_count": 20,
     "metadata": {},
     "output_type": "execute_result"
    }
   ],
   "source": [
    "test_file = AutoParser(\n",
    "    \"../tests/test_files/g16log/dsgdb9nsd_000958-3-.log\",\n",
    "    only_extract_structure=True,\n",
    "    only_last_frame=True,\n",
    ")\n",
    "test_file.summary()\n",
    "test_file[-1].summary()\n",
    "test_file[-1].rdmol"
   ]
  },
  {
   "cell_type": "markdown",
   "metadata": {},
   "source": [
    "## [dsgdb9nsd_002924-8-.log](../tests/test_files/dsgdb9nsd_002924-8-.log)"
   ]
  },
  {
   "cell_type": "code",
   "execution_count": 21,
   "metadata": {},
   "outputs": [
    {
     "name": "stdout",
     "output_type": "stream",
     "text": [
      "file path: d:\\Product\\Useful-Code-Snippet\\MolOP\\tests\\test_files\\g16log\\dsgdb9nsd_002924-8-.log\n",
      "frame num: 1\n",
      "first SMILES: [H]C([H])([H])OC1=NC([H])([H])C([H])([H])[N-]1\n",
      "last SMILES: [H]C([H])([H])OC1=NC([H])([H])C([H])([H])[N-]1\n",
      "\n",
      "type: G16 LOG\n",
      "file path: d:\\Product\\Useful-Code-Snippet\\MolOP\\tests\\test_files\\g16log\\dsgdb9nsd_002924-8-.log\n",
      "frameID: 0\n",
      "SMILES: [H]C([H])([H])OC1=NC([H])([H])C([H])([H])[N-]1\n",
      "atom number: 14\n",
      "total charge: -1\n",
      "version: Gaussian 16:  ES64L-G16RevC.01  3-Jul-2019\n",
      "parameter comment: \n",
      " %chk=dsgdb9nsd_002924-8.chk\n",
      " %mem=60GB\n",
      " %nprocshared=32\n",
      " Will use up to   32 processors via shared memory.\n",
      " #p opt freq b3lyp/6-311+g** em=gd3bj\n",
      "\n"
     ]
    },
    {
     "data": {
      "image/png": "[encoded data removed]",
      "text/plain": [
       "<rdkit.Chem.rdchem.Mol at 0x1e252353cc0>"
      ]
     },
     "execution_count": 21,
     "metadata": {},
     "output_type": "execute_result"
    }
   ],
   "source": [
    "test_file = AutoParser(\n",
    "    \"../tests/test_files/g16log/dsgdb9nsd_002924-8-.log\",\n",
    "    only_extract_structure=True,\n",
    "    only_last_frame=True,\n",
    ")\n",
    "test_file.summary()\n",
    "test_file[-1].summary()\n",
    "test_file[-1].rdmol"
   ]
  },
  {
   "cell_type": "markdown",
   "metadata": {},
   "source": [
    "## [dsgdb9nsd_000763-2-.log](../tests/test_files/dsgdb9nsd_000763-2-.log)"
   ]
  },
  {
   "cell_type": "code",
   "execution_count": 22,
   "metadata": {},
   "outputs": [
    {
     "name": "stdout",
     "output_type": "stream",
     "text": [
      "file path: d:\\Product\\Useful-Code-Snippet\\MolOP\\tests\\test_files\\g16log\\dsgdb9nsd_000763-2-.log\n",
      "frame num: 1\n",
      "first SMILES: [H]/N=c1\\nno[c-]1[H]\n",
      "last SMILES: [H]/N=c1\\nno[c-]1[H]\n",
      "\n",
      "type: G16 LOG\n",
      "file path: d:\\Product\\Useful-Code-Snippet\\MolOP\\tests\\test_files\\g16log\\dsgdb9nsd_000763-2-.log\n",
      "frameID: 0\n",
      "SMILES: [H]/N=c1\\nno[c-]1[H]\n",
      "atom number: 8\n",
      "total charge: -1\n",
      "version: Gaussian 16:  ES64L-G16RevC.01  3-Jul-2019\n",
      "parameter comment: \n",
      " %chk=dsgdb9nsd_000763-2.chk\n",
      " %mem=60GB\n",
      " %nprocshared=32\n",
      " Will use up to   32 processors via shared memory.\n",
      " #p opt freq b3lyp/6-311+g** em=gd3bj\n",
      "\n"
     ]
    },
    {
     "data": {
      "image/png": "[encoded data removed]",
      "text/plain": [
       "<rdkit.Chem.rdchem.Mol at 0x1e252353a40>"
      ]
     },
     "execution_count": 22,
     "metadata": {},
     "output_type": "execute_result"
    }
   ],
   "source": [
    "test_file = AutoParser(\n",
    "    \"../tests/test_files/g16log/dsgdb9nsd_000763-2-.log\",\n",
    "    only_extract_structure=True,\n",
    "    only_last_frame=True,\n",
    ")\n",
    "test_file.summary()\n",
    "test_file[-1].summary()\n",
    "test_file[-1].rdmol"
   ]
  },
  {
   "cell_type": "markdown",
   "metadata": {},
   "source": [
    "## [dsgdb9nsd_001232-4-.log](../tests/test_files/dsgdb9nsd_001232-4-.log)"
   ]
  },
  {
   "cell_type": "code",
   "execution_count": 23,
   "metadata": {},
   "outputs": [
    {
     "name": "stdout",
     "output_type": "stream",
     "text": [
      "file path: d:\\Product\\Useful-Code-Snippet\\MolOP\\tests\\test_files\\g16log\\dsgdb9nsd_001232-4-.log\n",
      "frame num: 1\n",
      "first SMILES: [H]O/C([O-])=C([H])\\N=C(/[H])N([H])[H]\n",
      "last SMILES: [H]O/C([O-])=C([H])\\N=C(/[H])N([H])[H]\n",
      "\n",
      "type: G16 LOG\n",
      "file path: d:\\Product\\Useful-Code-Snippet\\MolOP\\tests\\test_files\\g16log\\dsgdb9nsd_001232-4-.log\n",
      "frameID: 0\n",
      "SMILES: [H]O/C([O-])=C([H])\\N=C(/[H])N([H])[H]\n",
      "atom number: 12\n",
      "total charge: -1\n",
      "version: Gaussian 16:  ES64L-G16RevC.01  3-Jul-2019\n",
      "parameter comment: \n",
      " %chk=dsgdb9nsd_001232-4.chk\n",
      " %mem=60GB\n",
      " %nprocshared=32\n",
      " Will use up to   32 processors via shared memory.\n",
      " #p opt freq b3lyp/6-311+g** em=gd3bj\n",
      "\n"
     ]
    },
    {
     "data": {
      "image/png": "[encoded data removed]",
      "text/plain": [
       "<rdkit.Chem.rdchem.Mol at 0x1e24c16f540>"
      ]
     },
     "execution_count": 23,
     "metadata": {},
     "output_type": "execute_result"
    }
   ],
   "source": [
    "test_file = AutoParser(\n",
    "    \"../tests/test_files/g16log/dsgdb9nsd_001232-4-.log\",\n",
    "    only_extract_structure=True,\n",
    "    only_last_frame=True,\n",
    ")\n",
    "test_file.summary()\n",
    "test_file[-1].summary()\n",
    "test_file[-1].rdmol"
   ]
  },
  {
   "cell_type": "markdown",
   "metadata": {},
   "source": [
    "## [dsgdb9nsd_000180-9-.log](../tests/test_files/dsgdb9nsd_000180-9-.log)"
   ]
  },
  {
   "cell_type": "code",
   "execution_count": 24,
   "metadata": {},
   "outputs": [
    {
     "name": "stdout",
     "output_type": "stream",
     "text": [
      "file path: d:\\Product\\Useful-Code-Snippet\\MolOP\\tests\\test_files\\g16log\\dsgdb9nsd_000180-9-.log\n",
      "frame num: 18\n",
      "first SMILES: [H]C([H])([H])/C(=N\\[O-])C([H])([H])C([H])([H])[H]\n",
      "last SMILES: [H]C([H])([H])/C(=N\\[O-])C([H])([H])C([H])([H])[H]\n",
      "\n",
      "type: G16 LOG\n",
      "file path: d:\\Product\\Useful-Code-Snippet\\MolOP\\tests\\test_files\\g16log\\dsgdb9nsd_000180-9-.log\n",
      "frameID: 17\n",
      "SMILES: [H]C([H])([H])/C(=N\\[O-])C([H])([H])C([H])([H])[H]\n",
      "atom number: 14\n",
      "total charge: -1\n",
      "version: Gaussian 16:  ES64L-G16RevC.01  3-Jul-2019\n",
      "parameter comment: \n",
      " %chk=dsgdb9nsd_000180-9.chk\n",
      " %mem=60GB\n",
      " %nprocshared=32\n",
      " Will use up to   32 processors via shared memory.\n",
      " #p opt freq b3lyp/6-311+g** em=gd3bj\n",
      "\n",
      "state: {'SCF Done': True, 'Normal termination': True}\n",
      "energy: -287.285391947 hartree / particle\n",
      "sum energy: {'zero-point': None, 'thermal energy': None, 'thermal enthalpy': None, 'thermal gibbs free energy': None, 'zero-point correction': None, 'thermal energy correction': None, 'thermal enthalpy correction': None, 'thermal gibbs free energy correction': None}\n",
      "gradients number: 0\n",
      "frequencies number: 0\n",
      "imaginary frequencies number: 0\n",
      "partial charges number: 14\n",
      "spin densities number: 0\n",
      "alpha FMO orbits number: 180\n",
      "alpha energy: {'gap': <Quantity(0.09216, 'hartree / particle')>, 'homo': <Quantity(0.02146, 'hartree / particle')>, 'lumo': <Quantity(0.11362, 'hartree / particle')>}\n",
      "beta FMO orbits number: 0\n",
      "beta energy: {'gap': None, 'homo': None, 'lumo': None}\n",
      "nbo analysis number: 14\n",
      "hessian number: 0\n",
      "\n"
     ]
    },
    {
     "data": {
      "image/png": "[encoded data removed]",
      "text/plain": [
       "<rdkit.Chem.rdchem.Mol at 0x1e24c117c20>"
      ]
     },
     "execution_count": 24,
     "metadata": {},
     "output_type": "execute_result"
    }
   ],
   "source": [
    "test_file = AutoParser(\"../tests/test_files/g16log/dsgdb9nsd_000180-9-.log\")\n",
    "test_file.summary()\n",
    "test_file[-1].summary()\n",
    "test_file[-1].rdmol"
   ]
  },
  {
   "cell_type": "markdown",
   "metadata": {},
   "source": [
    "## [TS_4cGKps_ll_ad_4-18_6-13_sp_g16.log](../tests/test_files/TS_4cGKps_ll_ad_4-18_6-13_sp_g16.log)"
   ]
  },
  {
   "cell_type": "code",
   "execution_count": 25,
   "metadata": {},
   "outputs": [
    {
     "name": "stdout",
     "output_type": "stream",
     "text": [
      "file path: d:\\Product\\Useful-Code-Snippet\\MolOP\\tests\\test_files\\g16log\\TS_4cGKps_ll_ad_4-18_6-13_sp_g16.log\n",
      "frame num: 1\n",
      "first SMILES: [H]C([H])([H])OC(=O)C#CC(F)(F)F.[H]N(C(=O)C#[N+]/C(C(=O)C([H])([H])[H])=C(\\[O-])C([H])([H])[H])C([H])([H])[H]\n",
      "last SMILES: [H]C([H])([H])OC(=O)C#CC(F)(F)F.[H]N(C(=O)C#[N+]/C(C(=O)C([H])([H])[H])=C(\\[O-])C([H])([H])[H])C([H])([H])[H]\n",
      "\n",
      "type: G16 LOG\n",
      "file path: d:\\Product\\Useful-Code-Snippet\\MolOP\\tests\\test_files\\g16log\\TS_4cGKps_ll_ad_4-18_6-13_sp_g16.log\n",
      "frameID: 0\n",
      "SMILES: [H]C([H])([H])OC(=O)C#CC(F)(F)F.[H]N(C(=O)C#[N+]/C(C(=O)C([H])([H])[H])=C(\\[O-])C([H])([H])[H])C([H])([H])[H]\n",
      "atom number: 36\n",
      "total charge: 0\n",
      "version: Gaussian 16:  ES64L-G16RevB.01 20-Dec-2017\n",
      "parameter comment: \n",
      " %mem=15199MB\n",
      " %nprocshared=4\n",
      " Will use up to    4 processors via shared memory.\n",
      " # B3LYP def2tzvp EmpiricalDispersion=GD3BJ IOp(2/9=2000) scrf=(smd,sol\n",
      " vent=Water)\n",
      "\n",
      "state: {'SCF Done': True, 'Normal termination': True}\n",
      "energy: -1288.84892011 hartree / particle\n",
      "sum energy: {'zero-point': None, 'thermal energy': None, 'thermal enthalpy': None, 'thermal gibbs free energy': None, 'zero-point correction': None, 'thermal energy correction': None, 'thermal enthalpy correction': None, 'thermal gibbs free energy correction': None}\n",
      "gradients number: 0\n",
      "frequencies number: 0\n",
      "imaginary frequencies number: 0\n",
      "partial charges number: 36\n",
      "spin densities number: 0\n",
      "alpha FMO orbits number: 791\n",
      "alpha energy: {'gap': <Quantity(0.15664, 'hartree / particle')>, 'homo': <Quantity(-0.26367, 'hartree / particle')>, 'lumo': <Quantity(-0.10703, 'hartree / particle')>}\n",
      "beta FMO orbits number: 0\n",
      "beta energy: {'gap': None, 'homo': None, 'lumo': None}\n",
      "nbo analysis number: 0\n",
      "hessian number: 0\n",
      "\n"
     ]
    },
    {
     "data": {
      "image/png": "[encoded data removed]",
      "text/plain": [
       "<rdkit.Chem.rdchem.Mol at 0x1e24c1504f0>"
      ]
     },
     "execution_count": 25,
     "metadata": {},
     "output_type": "execute_result"
    }
   ],
   "source": [
    "test_file = AutoParser(\n",
    "    \"../tests/test_files/g16log/TS_4cGKps_ll_ad_4-18_6-13_sp_g16.log\"\n",
    ")\n",
    "test_file.summary()\n",
    "test_file[-1].summary()\n",
    "test_file[-1].rdmol"
   ]
  },
  {
   "cell_type": "markdown",
   "metadata": {},
   "source": [
    "## [TS_ts_guess_FaFxyx_template_4-18_6-13_optts_conf_g16.log](../tests/test_files/TS_ts_guess_FaFxyx_template_4-18_6-13_optts_conf_g16.log)"
   ]
  },
  {
   "cell_type": "code",
   "execution_count": 26,
   "metadata": {},
   "outputs": [
    {
     "name": "stdout",
     "output_type": "stream",
     "text": [
      "file path: d:\\Product\\Useful-Code-Snippet\\MolOP\\tests\\test_files\\g16log\\TS_ts_guess_FaFxyx_template_4-18_6-13_optts_conf_g16.log\n",
      "frame num: 1\n",
      "first SMILES: \n",
      "last SMILES: \n",
      "\n",
      "type: G16 LOG\n",
      "file path: d:\\Product\\Useful-Code-Snippet\\MolOP\\tests\\test_files\\g16log\\TS_ts_guess_FaFxyx_template_4-18_6-13_optts_conf_g16.log\n",
      "frameID: 0\n",
      "SMILES: \n",
      "atom number: 0\n",
      "total charge: 0\n",
      "version: Gaussian 16:  ES64L-G16RevB.01 20-Dec-2017\n",
      "parameter comment: \n",
      " %mem=15199MB\n",
      " %nprocshared=4\n",
      " Will use up to    4 processors via shared memory.\n",
      " # B3LYP def2svp Freq EmpiricalDispersion=GD3BJ Opt=(TS, CalcFC, NoEige\n",
      " nTest, MaxCycles=100, MaxStep=10, NoTrustUpdate, RecalcFC=30) IOp(2/9=\n",
      " 2000) Geom=ModRedun NoSymm scrf=(smd,solvent=Water)\n",
      "\n",
      "state: {'SCF Done': True, 'Normal termination': True, 'RMS Displacement': True, 'Maximum Displacement': True, 'RMS Force': True, 'Maximum Force': True}\n",
      "energy: -1287.36786066 hartree / particle\n",
      "sum energy: {'zero-point': <Quantity(-1287.11537, 'hartree / particle')>, 'thermal energy': <Quantity(-1287.09035, 'hartree / particle')>, 'thermal enthalpy': <Quantity(-1287.0894, 'hartree / particle')>, 'thermal gibbs free energy': <Quantity(-1287.17211, 'hartree / particle')>, 'zero-point correction': <Quantity(0.252491, 'hartree / particle')>, 'thermal energy correction': <Quantity(0.277515, 'hartree / particle')>, 'thermal enthalpy correction': <Quantity(0.27846, 'hartree / particle')>, 'thermal gibbs free energy correction': <Quantity(0.195753, 'hartree / particle')>}\n",
      "gradients number: 36\n",
      "frequencies number: 99\n",
      "imaginary frequencies number: 1\n",
      "partial charges number: 36\n",
      "spin densities number: 0\n",
      "alpha FMO orbits number: 387\n",
      "alpha energy: {'gap': <Quantity(0.14442, 'hartree / particle')>, 'homo': <Quantity(-0.25447, 'hartree / particle')>, 'lumo': <Quantity(-0.11005, 'hartree / particle')>}\n",
      "beta FMO orbits number: 0\n",
      "beta energy: {'gap': None, 'homo': None, 'lumo': None}\n",
      "nbo analysis number: 0\n",
      "hessian number: 5886\n",
      "\n"
     ]
    },
    {
     "data": {
      "image/png": "[encoded data removed]",
      "text/plain": [
       "<rdkit.Chem.rdchem.Mol at 0x1e24c353270>"
      ]
     },
     "execution_count": 26,
     "metadata": {},
     "output_type": "execute_result"
    }
   ],
   "source": [
    "test_file = AutoParser(\n",
    "    \"../tests/test_files/g16log/TS_ts_guess_FaFxyx_template_4-18_6-13_optts_conf_g16.log\",\n",
    "    only_last_frame=True,\n",
    ")\n",
    "test_file.summary()\n",
    "test_file[-1].summary()\n",
    "test_file[-1].rdmol"
   ]
  },
  {
   "cell_type": "markdown",
   "metadata": {},
   "source": [
    "## [TS_4cGKps_ll_ad_4-18_6-13_optts_g16.log](../tests/test_files/TS_4cGKps_ll_ad_4-18_6-13_optts_g16.log)"
   ]
  },
  {
   "cell_type": "code",
   "execution_count": 27,
   "metadata": {},
   "outputs": [
    {
     "name": "stdout",
     "output_type": "stream",
     "text": [
      "file path: d:\\Product\\Useful-Code-Snippet\\MolOP\\tests\\test_files\\g16log\\TS_4cGKps_ll_ad_4-18_6-13_optts_g16.log\n",
      "frame num: 1\n",
      "first SMILES: \n",
      "last SMILES: \n",
      "\n",
      "type: G16 LOG\n",
      "file path: d:\\Product\\Useful-Code-Snippet\\MolOP\\tests\\test_files\\g16log\\TS_4cGKps_ll_ad_4-18_6-13_optts_g16.log\n",
      "frameID: 0\n",
      "SMILES: \n",
      "atom number: 0\n",
      "total charge: 0\n",
      "version: Gaussian 16:  ES64L-G16RevB.01 20-Dec-2017\n",
      "parameter comment: \n",
      " %mem=15199MB\n",
      " %nprocshared=4\n",
      " Will use up to    4 processors via shared memory.\n",
      " # B3LYP def2svp Freq EmpiricalDispersion=GD3BJ Opt=(TS, CalcFC, NoEige\n",
      " nTest, MaxCycles=100, MaxStep=10, NoTrustUpdate, RecalcFC=30) IOp(2/9=\n",
      " 2000) Geom=ModRedun NoSymm scrf=(smd,solvent=Water)\n",
      "\n",
      "state: {'SCF Done': True, 'Normal termination': True, 'RMS Displacement': True, 'Maximum Displacement': False, 'RMS Force': True, 'Maximum Force': True}\n",
      "energy: -1287.35981033 hartree / particle\n",
      "sum energy: {'zero-point': <Quantity(-1287.10793, 'hartree / particle')>, 'thermal energy': <Quantity(-1287.08243, 'hartree / particle')>, 'thermal enthalpy': <Quantity(-1287.08149, 'hartree / particle')>, 'thermal gibbs free energy': <Quantity(-1287.16691, 'hartree / particle')>, 'zero-point correction': <Quantity(0.251882, 'hartree / particle')>, 'thermal energy correction': <Quantity(0.277379, 'hartree / particle')>, 'thermal enthalpy correction': <Quantity(0.278323, 'hartree / particle')>, 'thermal gibbs free energy correction': <Quantity(0.192899, 'hartree / particle')>}\n",
      "gradients number: 36\n",
      "frequencies number: 99\n",
      "imaginary frequencies number: 1\n",
      "partial charges number: 36\n",
      "spin densities number: 0\n",
      "alpha FMO orbits number: 387\n",
      "alpha energy: {'gap': <Quantity(0.15816, 'hartree / particle')>, 'homo': <Quantity(-0.25863, 'hartree / particle')>, 'lumo': <Quantity(-0.10047, 'hartree / particle')>}\n",
      "beta FMO orbits number: 0\n",
      "beta energy: {'gap': None, 'homo': None, 'lumo': None}\n",
      "nbo analysis number: 0\n",
      "hessian number: 5886\n",
      "\n"
     ]
    },
    {
     "data": {
      "image/png": "[encoded data removed]",
      "text/plain": [
       "<rdkit.Chem.rdchem.Mol at 0x1e24c16f950>"
      ]
     },
     "execution_count": 27,
     "metadata": {},
     "output_type": "execute_result"
    }
   ],
   "source": [
    "test_file = AutoParser(\n",
    "    \"../tests/test_files/g16log/TS_4cGKps_ll_ad_4-18_6-13_optts_g16.log\",\n",
    "    only_last_frame=True,\n",
    ")\n",
    "test_file.summary()\n",
    "test_file[-1].summary()\n",
    "test_file[-1].rdmol"
   ]
  },
  {
   "cell_type": "markdown",
   "metadata": {},
   "source": [
    "## [TS_Zy0fwX_ll_ad_14-19_15-16_optts_g16.log](../tests/test_files/TS_Zy0fwX_ll_ad_14-19_15-16_optts_g16.log)"
   ]
  },
  {
   "cell_type": "code",
   "execution_count": 28,
   "metadata": {},
   "outputs": [
    {
     "name": "stdout",
     "output_type": "stream",
     "text": [
      "file path: d:\\Product\\Useful-Code-Snippet\\MolOP\\tests\\test_files\\g16log\\TS_Zy0fwX_ll_ad_14-19_15-16_optts_g16.log\n",
      "frame num: 74\n",
      "first SMILES: \n",
      "last SMILES: \n",
      "\n",
      "type: G16 LOG\n",
      "file path: d:\\Product\\Useful-Code-Snippet\\MolOP\\tests\\test_files\\g16log\\TS_Zy0fwX_ll_ad_14-19_15-16_optts_g16.log\n",
      "frameID: 73\n",
      "SMILES: \n",
      "atom number: 0\n",
      "total charge: 0\n",
      "version: Gaussian 16:  ES64L-G16RevB.01 20-Dec-2017\n",
      "parameter comment: \n",
      " %mem=30399MB\n",
      " %nprocshared=8\n",
      " Will use up to    8 processors via shared memory.\n",
      " # B3LYP def2svp Freq EmpiricalDispersion=GD3BJ Opt=(TS, CalcFC, NoEige\n",
      " nTest, MaxCycles=100, MaxStep=10, NoTrustUpdate, RecalcFC=30) IOp(2/9=\n",
      " 2000) Geom=ModRedun NoSymm scrf=(smd,solvent=Water)\n",
      "\n",
      "state: {'SCF Done': True, 'Normal termination': True, 'RMS Displacement': True, 'Maximum Displacement': False, 'RMS Force': True, 'Maximum Force': True}\n",
      "energy: -6028.92070931 hartree / particle\n",
      "sum energy: {'zero-point': <Quantity(-6028.57153, 'hartree / particle')>, 'thermal energy': <Quantity(-6028.54754, 'hartree / particle')>, 'thermal enthalpy': <Quantity(-6028.5466, 'hartree / particle')>, 'thermal gibbs free energy': <Quantity(-6028.62589, 'hartree / particle')>, 'zero-point correction': <Quantity(0.349175, 'hartree / particle')>, 'thermal energy correction': <Quantity(0.373165, 'hartree / particle')>, 'thermal enthalpy correction': <Quantity(0.374109, 'hartree / particle')>, 'thermal gibbs free energy correction': <Quantity(0.294821, 'hartree / particle')>}\n",
      "gradients number: 43\n",
      "frequencies number: 120\n",
      "imaginary frequencies number: 1\n",
      "partial charges number: 43\n",
      "spin densities number: 0\n",
      "alpha FMO orbits number: 440\n",
      "alpha energy: {'gap': <Quantity(0.04111, 'hartree / particle')>, 'homo': <Quantity(-0.24515, 'hartree / particle')>, 'lumo': <Quantity(-0.20404, 'hartree / particle')>}\n",
      "beta FMO orbits number: 0\n",
      "beta energy: {'gap': None, 'homo': None, 'lumo': None}\n",
      "nbo analysis number: 0\n",
      "hessian number: 8385\n",
      "\n"
     ]
    },
    {
     "data": {
      "image/png": "[encoded data removed]",
      "text/plain": [
       "<rdkit.Chem.rdchem.Mol at 0x1e24e306090>"
      ]
     },
     "execution_count": 28,
     "metadata": {},
     "output_type": "execute_result"
    }
   ],
   "source": [
    "test_file = AutoParser(\n",
    "    \"../tests/test_files/g16log/TS_Zy0fwX_ll_ad_14-19_15-16_optts_g16.log\"\n",
    ")\n",
    "test_file.summary()\n",
    "test_file[-1].summary()\n",
    "test_file[-1].rdmol"
   ]
  },
  {
   "cell_type": "markdown",
   "metadata": {},
   "source": [
    "## [irc.out](../tests/test_files/irc.out)"
   ]
  },
  {
   "cell_type": "code",
   "execution_count": 29,
   "metadata": {},
   "outputs": [
    {
     "name": "stdout",
     "output_type": "stream",
     "text": [
      "file path: d:\\Product\\Useful-Code-Snippet\\MolOP\\tests\\test_files\\g16irc\\irc.out\n",
      "frame num: 44\n",
      "first SMILES: \n",
      "last SMILES: \n",
      "\n",
      "type: G16 IRC\n",
      "file path: d:\\Product\\Useful-Code-Snippet\\MolOP\\tests\\test_files\\g16irc\\irc.out\n",
      "frameID: 43\n",
      "SMILES: \n",
      "atom number: 0\n",
      "total charge: 0\n",
      "version: Gaussian 09:  AS64L-G09RevD.01 24-Apr-2013\n",
      "parameter comment: \n",
      " %chk=check.chk\n",
      " %mem=14000mb\n",
      " %NProcShared=8\n",
      " Will use up to    8 processors via shared memory.\n",
      " #P irc=(calcfc, MaxPoints=20) ub3lyp/6-31g(d)\n",
      "\n",
      "state: {'SCF Done': False, 'Normal termination': True}\n",
      "energy: None\n",
      "sum energy: {'zero-point': None, 'thermal energy': None, 'thermal enthalpy': None, 'thermal gibbs free energy': None, 'zero-point correction': None, 'thermal energy correction': None, 'thermal enthalpy correction': None, 'thermal gibbs free energy correction': None}\n",
      "gradients number: 0\n",
      "frequencies number: 0\n",
      "imaginary frequencies number: 0\n",
      "partial charges number: 20\n",
      "spin densities number: 20\n",
      "alpha FMO orbits number: 144\n",
      "alpha energy: {'gap': <Quantity(0.23636, 'hartree / particle')>, 'homo': <Quantity(-0.22388, 'hartree / particle')>, 'lumo': <Quantity(0.01248, 'hartree / particle')>}\n",
      "beta FMO orbits number: 144\n",
      "beta energy: {'gap': <Quantity(0.23636, 'hartree / particle')>, 'homo': <Quantity(-0.22388, 'hartree / particle')>, 'lumo': <Quantity(0.01248, 'hartree / particle')>}\n",
      "nbo analysis number: 0\n",
      "hessian number: 0\n",
      "\n"
     ]
    },
    {
     "data": {
      "image/png": "[encoded data removed]",
      "text/plain": [
       "<rdkit.Chem.rdchem.Mol at 0x1e24f0e5090>"
      ]
     },
     "execution_count": 29,
     "metadata": {},
     "output_type": "execute_result"
    }
   ],
   "source": [
    "test_file = AutoParser(\"../tests/test_files/g16irc/irc.out\")\n",
    "test_file.summary()\n",
    "test_file[-1].summary()\n",
    "test_file[-1].rdmol"
   ]
  },
  {
   "cell_type": "markdown",
   "metadata": {},
   "source": [
    "## [3_Sp.log](../tests/test_files/3_Sp.log)"
   ]
  },
  {
   "cell_type": "code",
   "execution_count": 30,
   "metadata": {},
   "outputs": [
    {
     "name": "stdout",
     "output_type": "stream",
     "text": [
      "file path: d:\\Product\\Useful-Code-Snippet\\MolOP\\tests\\test_files\\g16log\\3_Sp.log\n",
      "frame num: 1\n",
      "first SMILES: [H]O[C@@]1(C([H])([H])[H])C([H])([H])[C@@]2([H])[C@@]([H])(C([H])([H])C([H])([H])C([H])([H])[H])C([H])([H])O[C@@]2([H])C1([H])[H]\n",
      "last SMILES: [H]O[C@@]1(C([H])([H])[H])C([H])([H])[C@@]2([H])[C@@]([H])(C([H])([H])C([H])([H])C([H])([H])[H])C([H])([H])O[C@@]2([H])C1([H])[H]\n",
      "\n",
      "type: G16 LOG\n",
      "file path: d:\\Product\\Useful-Code-Snippet\\MolOP\\tests\\test_files\\g16log\\3_Sp.log\n",
      "frameID: 0\n",
      "SMILES: [H]O[C@@]1(C([H])([H])[H])C([H])([H])[C@@]2([H])[C@@]([H])(C([H])([H])C([H])([H])C([H])([H])[H])C([H])([H])O[C@@]2([H])C1([H])[H]\n",
      "atom number: 33\n",
      "total charge: 0\n",
      "version: Gaussian 16:  ES64L-G16RevC.01  3-Jul-2019\n",
      "parameter comment: \n",
      " %nprocshared=32\n",
      " Will use up to   32 processors via shared memory.\n",
      " %mem=100GB\n",
      " # def2tzvp m06l\n",
      "\n",
      "state: {'SCF Done': True, 'Normal termination': True}\n",
      "energy: -581.780923462 hartree / particle\n",
      "sum energy: {'zero-point': None, 'thermal energy': None, 'thermal enthalpy': None, 'thermal gibbs free energy': None, 'zero-point correction': None, 'thermal energy correction': None, 'thermal enthalpy correction': None, 'thermal gibbs free energy correction': None}\n",
      "gradients number: 0\n",
      "frequencies number: 0\n",
      "imaginary frequencies number: 0\n",
      "partial charges number: 33\n",
      "spin densities number: 0\n",
      "alpha FMO orbits number: 523\n",
      "alpha energy: {'gap': <Quantity(0.24174, 'hartree / particle')>, 'homo': <Quantity(-0.21593, 'hartree / particle')>, 'lumo': <Quantity(0.02581, 'hartree / particle')>}\n",
      "beta FMO orbits number: 0\n",
      "beta energy: {'gap': None, 'homo': None, 'lumo': None}\n",
      "nbo analysis number: 0\n",
      "hessian number: 0\n",
      "\n"
     ]
    },
    {
     "data": {
      "image/png": "[encoded data removed]",
      "text/plain": [
       "<rdkit.Chem.rdchem.Mol at 0x1e24e12bd60>"
      ]
     },
     "execution_count": 30,
     "metadata": {},
     "output_type": "execute_result"
    }
   ],
   "source": [
    "test_file = AutoParser(\"../tests/test_files/g16log/3_Sp.log\")\n",
    "test_file.summary()\n",
    "test_file[-1].summary()\n",
    "test_file[-1].rdmol"
   ]
  },
  {
   "cell_type": "markdown",
   "metadata": {},
   "source": [
    "## [11_Opt.log](../tests/test_files/11_Opt.log)"
   ]
  },
  {
   "cell_type": "code",
   "execution_count": 31,
   "metadata": {},
   "outputs": [
    {
     "name": "stdout",
     "output_type": "stream",
     "text": [
      "file path: d:\\Product\\Useful-Code-Snippet\\MolOP\\tests\\test_files\\g16log\\11_Opt.log\n",
      "frame num: 13\n",
      "first SMILES: [H]O[C@]1(C([H])([H])[H])C([H])([H])[C@]2([H])OC([H])([H])[C@]([H])(C([H])([H])[H])[C@]2([H])[C@]1([H])C([H])=C([H])[H]\n",
      "last SMILES: [H]O[C@]1(C([H])([H])[H])C([H])([H])[C@]2([H])OC([H])([H])[C@]([H])(C([H])([H])[H])[C@]2([H])[C@]1([H])C([H])=C([H])[H]\n",
      "\n",
      "type: G16 LOG\n",
      "file path: d:\\Product\\Useful-Code-Snippet\\MolOP\\tests\\test_files\\g16log\\11_Opt.log\n",
      "frameID: 12\n",
      "SMILES: [H]O[C@]1(C([H])([H])[H])C([H])([H])[C@]2([H])OC([H])([H])[C@]([H])(C([H])([H])[H])[C@]2([H])[C@]1([H])C([H])=C([H])[H]\n",
      "atom number: 31\n",
      "total charge: 0\n",
      "version: Gaussian 16:  ES64L-G16RevC.01  3-Jul-2019\n",
      "parameter comment: \n",
      " %nprocshared=32\n",
      " Will use up to   32 processors via shared memory.\n",
      " %mem=100GB\n",
      " # opt=maxcycle=150 freq def2svp m06l\n",
      "\n",
      "state: {'SCF Done': True, 'Normal termination': True, 'RMS Displacement': True, 'Maximum Displacement': True, 'RMS Force': True, 'Maximum Force': True}\n",
      "energy: -579.925317191 hartree / particle\n",
      "sum energy: {'zero-point': <Quantity(-579.649732, 'hartree / particle')>, 'thermal energy': <Quantity(-579.637414, 'hartree / particle')>, 'thermal enthalpy': <Quantity(-579.63647, 'hartree / particle')>, 'thermal gibbs free energy': <Quantity(-579.686912, 'hartree / particle')>, 'zero-point correction': <Quantity(0.275585, 'hartree / particle')>, 'thermal energy correction': <Quantity(0.287903, 'hartree / particle')>, 'thermal enthalpy correction': <Quantity(0.288847, 'hartree / particle')>, 'thermal gibbs free energy correction': <Quantity(0.238406, 'hartree / particle')>}\n",
      "gradients number: 31\n",
      "frequencies number: 84\n",
      "imaginary frequencies number: 0\n",
      "partial charges number: 31\n",
      "spin densities number: 0\n",
      "alpha FMO orbits number: 272\n",
      "alpha energy: {'gap': <Quantity(0.20428, 'hartree / particle')>, 'homo': <Quantity(-0.2188, 'hartree / particle')>, 'lumo': <Quantity(-0.01452, 'hartree / particle')>}\n",
      "beta FMO orbits number: 0\n",
      "beta energy: {'gap': None, 'homo': None, 'lumo': None}\n",
      "nbo analysis number: 0\n",
      "hessian number: 4371\n",
      "\n"
     ]
    },
    {
     "data": {
      "image/png": "[encoded data removed]",
      "text/plain": [
       "<rdkit.Chem.rdchem.Mol at 0x1e24c0fecc0>"
      ]
     },
     "execution_count": 31,
     "metadata": {},
     "output_type": "execute_result"
    }
   ],
   "source": [
    "test_file = AutoParser(\"../tests/test_files/g16log/11_Opt.log\")\n",
    "test_file.summary()\n",
    "test_file[-1].summary()\n",
    "test_file[-1].rdmol"
   ]
  },
  {
   "cell_type": "markdown",
   "metadata": {},
   "source": [
    "## [dsgdb9nsd_003895.log](../tests/test_files/dsgdb9nsd_003895.log)"
   ]
  },
  {
   "cell_type": "code",
   "execution_count": 32,
   "metadata": {},
   "outputs": [
    {
     "name": "stdout",
     "output_type": "stream",
     "text": [
      "file path: d:\\Product\\Useful-Code-Snippet\\MolOP\\tests\\test_files\\g16log\\dsgdb9nsd_003895.log\n",
      "frame num: 4\n",
      "first SMILES: N#N.[H]C(=O)C([H])=C=O\n",
      "last SMILES: N#N.[H]C(=O)C([H])=C=O\n",
      "\n",
      "type: G16 LOG\n",
      "file path: d:\\Product\\Useful-Code-Snippet\\MolOP\\tests\\test_files\\g16log\\dsgdb9nsd_003895.log\n",
      "frameID: 3\n",
      "SMILES: N#N.[H]C(=O)C([H])=C=O\n",
      "atom number: 9\n",
      "total charge: 0\n",
      "version: Gaussian 16:  ES64L-G16RevC.01  3-Jul-2019\n",
      "parameter comment: \n",
      " %chk=dsgdb9nsd_003895.chk\n",
      " %mem=60GB\n",
      " %nprocshared=32\n",
      " Will use up to   32 processors via shared memory.\n",
      " #p opt freq b3lyp/6-311+g** em=gd3bj\n",
      "\n",
      "state: {'SCF Done': True, 'Normal termination': True}\n",
      "energy: -375.582678522 hartree / particle\n",
      "sum energy: {'zero-point': None, 'thermal energy': None, 'thermal enthalpy': None, 'thermal gibbs free energy': None, 'zero-point correction': None, 'thermal energy correction': None, 'thermal enthalpy correction': None, 'thermal gibbs free energy correction': None}\n",
      "gradients number: 0\n",
      "frequencies number: 0\n",
      "imaginary frequencies number: 0\n",
      "partial charges number: 9\n",
      "spin densities number: 0\n",
      "alpha FMO orbits number: 166\n",
      "alpha energy: {'gap': <Quantity(0.20125, 'hartree / particle')>, 'homo': <Quantity(-0.27844, 'hartree / particle')>, 'lumo': <Quantity(-0.07719, 'hartree / particle')>}\n",
      "beta FMO orbits number: 0\n",
      "beta energy: {'gap': None, 'homo': None, 'lumo': None}\n",
      "nbo analysis number: 9\n",
      "hessian number: 0\n",
      "\n"
     ]
    },
    {
     "data": {
      "image/png": "[encoded data removed]",
      "text/plain": [
       "<rdkit.Chem.rdchem.Mol at 0x1e24da49090>"
      ]
     },
     "execution_count": 32,
     "metadata": {},
     "output_type": "execute_result"
    }
   ],
   "source": [
    "test_file = AutoParser(\"../tests/test_files/g16log/dsgdb9nsd_003895.log\")\n",
    "test_file.summary()\n",
    "test_file[-1].summary()\n",
    "test_file[-1].rdmol"
   ]
  },
  {
   "cell_type": "markdown",
   "metadata": {},
   "source": [
    "## [dsgdb9nsd_006075rearrange.log](../tests/test_files/dsgdb9nsd_006075rearrange.log)"
   ]
  },
  {
   "cell_type": "code",
   "execution_count": 33,
   "metadata": {},
   "outputs": [
    {
     "name": "stdout",
     "output_type": "stream",
     "text": [
      "file path: d:\\Product\\Useful-Code-Snippet\\MolOP\\tests\\test_files\\g16log\\dsgdb9nsd_006075rearrange.log\n",
      "frame num: 41\n",
      "first SMILES: [H]N([H])C(=[O+]C([H])([H])C(=O)[O-])N([H])[H]\n",
      "last SMILES: [H]N([H])C1(N([H])[H])OC(=O)C([H])([H])O1\n",
      "\n",
      "type: G16 LOG\n",
      "file path: d:\\Product\\Useful-Code-Snippet\\MolOP\\tests\\test_files\\g16log\\dsgdb9nsd_006075rearrange.log\n",
      "frameID: 40\n",
      "SMILES: [H]N([H])C1(N([H])[H])OC(=O)C([H])([H])O1\n",
      "atom number: 14\n",
      "total charge: 0\n",
      "version: Gaussian 16:  ES64L-G16RevC.01  3-Jul-2019\n",
      "parameter comment: \n",
      " %chk=dsgdb9nsd_006075.chk\n",
      " %mem=60GB\n",
      " %nprocshared=32\n",
      " Will use up to   32 processors via shared memory.\n",
      " #p opt freq b3lyp/6-311+g** em=gd3bj\n",
      "\n",
      "state: {'SCF Done': True, 'Normal termination': True}\n",
      "energy: -453.270159673 hartree / particle\n",
      "sum energy: {'zero-point': None, 'thermal energy': None, 'thermal enthalpy': None, 'thermal gibbs free energy': None, 'zero-point correction': None, 'thermal energy correction': None, 'thermal enthalpy correction': None, 'thermal gibbs free energy correction': None}\n",
      "gradients number: 0\n",
      "frequencies number: 0\n",
      "imaginary frequencies number: 0\n",
      "partial charges number: 14\n",
      "spin densities number: 0\n",
      "alpha FMO orbits number: 212\n",
      "alpha energy: {'gap': <Quantity(0.26127, 'hartree / particle')>, 'homo': <Quantity(-0.27969, 'hartree / particle')>, 'lumo': <Quantity(-0.01842, 'hartree / particle')>}\n",
      "beta FMO orbits number: 0\n",
      "beta energy: {'gap': None, 'homo': None, 'lumo': None}\n",
      "nbo analysis number: 14\n",
      "hessian number: 0\n",
      "\n"
     ]
    },
    {
     "data": {
      "image/png": "[encoded data removed]",
      "text/plain": [
       "<rdkit.Chem.rdchem.Mol at 0x1e24bf28270>"
      ]
     },
     "execution_count": 33,
     "metadata": {},
     "output_type": "execute_result"
    }
   ],
   "source": [
    "test_file = AutoParser(\n",
    "    \"../tests/test_files/g16log/dsgdb9nsd_006075rearrange.log\")\n",
    "\n",
    "\n",
    "\n",
    "test_file.summary()\n",
    "\n",
    "\n",
    "\n",
    "test_file[-1].summary()\n",
    "\n",
    "\n",
    "\n",
    "test_file[-1].rdmol"
   ]
  },
  {
   "cell_type": "markdown",
   "metadata": {},
   "source": [
    "## [dsgdb9nsd_130366.log](../tests/test_files/dsgdb9nsd_130366.log)"
   ]
  },
  {
   "cell_type": "code",
   "execution_count": 34,
   "metadata": {},
   "outputs": [
    {
     "name": "stdout",
     "output_type": "stream",
     "text": [
      "file path: d:\\Product\\Useful-Code-Snippet\\MolOP\\tests\\test_files\\g16log\\dsgdb9nsd_130366.log\n",
      "frame num: 8\n",
      "first SMILES: [H]OC1=[N+]=NC(N([H])[C-]([H])N([H])[H])=N1\n",
      "last SMILES: [H]OC1=[N+]=NC(N([H])[C-]([H])N([H])[H])=N1\n",
      "\n",
      "type: G16 LOG\n",
      "file path: d:\\Product\\Useful-Code-Snippet\\MolOP\\tests\\test_files\\g16log\\dsgdb9nsd_130366.log\n",
      "frameID: 7\n",
      "SMILES: [H]OC1=[N+]=NC(N([H])[C-]([H])N([H])[H])=N1\n",
      "atom number: 14\n",
      "total charge: 0\n",
      "version: Gaussian 16:  ES64L-G16RevC.01  3-Jul-2019\n",
      "parameter comment: \n",
      " %chk=dsgdb9nsd_130366.chk\n",
      " %mem=60GB\n",
      " %nprocshared=32\n",
      " Will use up to   32 processors via shared memory.\n",
      " #p opt freq b3lyp/6-311+g** em=gd3bj\n",
      "\n",
      "state: {'SCF Done': True, 'Normal termination': True}\n",
      "energy: -466.410597524 hartree / particle\n",
      "sum energy: {'zero-point': None, 'thermal energy': None, 'thermal enthalpy': None, 'thermal gibbs free energy': None, 'zero-point correction': None, 'thermal energy correction': None, 'thermal enthalpy correction': None, 'thermal gibbs free energy correction': None}\n",
      "gradients number: 0\n",
      "frequencies number: 0\n",
      "imaginary frequencies number: 0\n",
      "partial charges number: 14\n",
      "spin densities number: 0\n",
      "alpha FMO orbits number: 228\n",
      "alpha energy: {'gap': <Quantity(0.11201, 'hartree / particle')>, 'homo': <Quantity(-0.19364, 'hartree / particle')>, 'lumo': <Quantity(-0.08163, 'hartree / particle')>}\n",
      "beta FMO orbits number: 0\n",
      "beta energy: {'gap': None, 'homo': None, 'lumo': None}\n",
      "nbo analysis number: 14\n",
      "hessian number: 0\n",
      "\n"
     ]
    },
    {
     "data": {
      "image/png": "[encoded data removed]",
      "text/plain": [
       "<rdkit.Chem.rdchem.Mol at 0x1e24e231f40>"
      ]
     },
     "execution_count": 34,
     "metadata": {},
     "output_type": "execute_result"
    }
   ],
   "source": [
    "test_file = AutoParser(\"../tests/test_files/g16log/dsgdb9nsd_130366.log\")\n",
    "test_file.summary()\n",
    "test_file[-1].summary()\n",
    "test_file[-1].rdmol"
   ]
  },
  {
   "cell_type": "markdown",
   "metadata": {},
   "source": [
    "## [dsgdb9nsd_131200.log](../tests/test_files/dsgdb9nsd_131200.log)"
   ]
  },
  {
   "cell_type": "code",
   "execution_count": 35,
   "metadata": {},
   "outputs": [
    {
     "name": "stdout",
     "output_type": "stream",
     "text": [
      "file path: d:\\Product\\Useful-Code-Snippet\\MolOP\\tests\\test_files\\g16log\\dsgdb9nsd_131200.log\n",
      "frame num: 8\n",
      "first SMILES: [H]C1([H])c2noc([O-])c2C([H])([H])[N+]1([H])[H]\n",
      "last SMILES: [H]C1([H])c2noc([O-])c2C([H])([H])[N+]1([H])[H]\n",
      "\n",
      "type: G16 LOG\n",
      "file path: d:\\Product\\Useful-Code-Snippet\\MolOP\\tests\\test_files\\g16log\\dsgdb9nsd_131200.log\n",
      "frameID: 7\n",
      "SMILES: [H]C1([H])c2noc([O-])c2C([H])([H])[N+]1([H])[H]\n",
      "atom number: 15\n",
      "total charge: 0\n",
      "version: Gaussian 16:  ES64L-G16RevC.01  3-Jul-2019\n",
      "parameter comment: \n",
      " %chk=dsgdb9nsd_131200.chk\n",
      " %mem=60GB\n",
      " %nprocshared=32\n",
      " Will use up to   32 processors via shared memory.\n",
      " #p opt freq b3lyp/6-311+g** em=gd3bj\n",
      "\n",
      "state: {'SCF Done': True, 'Normal termination': True}\n",
      "energy: -454.129864871 hartree / particle\n",
      "sum energy: {'zero-point': None, 'thermal energy': None, 'thermal enthalpy': None, 'thermal gibbs free energy': None, 'zero-point correction': None, 'thermal energy correction': None, 'thermal enthalpy correction': None, 'thermal gibbs free energy correction': None}\n",
      "gradients number: 0\n",
      "frequencies number: 0\n",
      "imaginary frequencies number: 0\n",
      "partial charges number: 15\n",
      "spin densities number: 0\n",
      "alpha FMO orbits number: 234\n",
      "alpha energy: {'gap': <Quantity(0.11233, 'hartree / particle')>, 'homo': <Quantity(-0.18524, 'hartree / particle')>, 'lumo': <Quantity(-0.07291, 'hartree / particle')>}\n",
      "beta FMO orbits number: 0\n",
      "beta energy: {'gap': None, 'homo': None, 'lumo': None}\n",
      "nbo analysis number: 15\n",
      "hessian number: 0\n",
      "\n"
     ]
    },
    {
     "data": {
      "image/png": "[encoded data removed]",
      "text/plain": [
       "<rdkit.Chem.rdchem.Mol at 0x1e24c33d360>"
      ]
     },
     "execution_count": 35,
     "metadata": {},
     "output_type": "execute_result"
    }
   ],
   "source": [
    "test_file = AutoParser(\"../tests/test_files/g16log/dsgdb9nsd_131200.log\")\n",
    "test_file.summary()\n",
    "test_file[-1].summary()\n",
    "test_file[-1].rdmol"
   ]
  },
  {
   "cell_type": "markdown",
   "metadata": {},
   "source": [
    "## [dsgdb9nsd_132072.log](../tests/test_files/dsgdb9nsd_132072.log)"
   ]
  },
  {
   "cell_type": "code",
   "execution_count": 36,
   "metadata": {},
   "outputs": [
    {
     "name": "stdout",
     "output_type": "stream",
     "text": [
      "file path: d:\\Product\\Useful-Code-Snippet\\MolOP\\tests\\test_files\\g16log\\dsgdb9nsd_132072.log\n",
      "frame num: 11\n",
      "first SMILES: [H]c1c(F)c([O-])c(=[N+]([H])[H])n([H])c1[H]\n",
      "last SMILES: [H]c1c(F)c([O-])c(=[N+]([H])[H])n([H])c1[H]\n",
      "\n",
      "type: G16 LOG\n",
      "file path: d:\\Product\\Useful-Code-Snippet\\MolOP\\tests\\test_files\\g16log\\dsgdb9nsd_132072.log\n",
      "frameID: 10\n",
      "SMILES: [H]c1c(F)c([O-])c(=[N+]([H])[H])n([H])c1[H]\n",
      "atom number: 14\n",
      "total charge: 0\n",
      "version: Gaussian 16:  ES64L-G16RevC.01  3-Jul-2019\n",
      "parameter comment: \n",
      " %chk=dsgdb9nsd_132072.chk\n",
      " %mem=60GB\n",
      " %nprocshared=32\n",
      " Will use up to   32 processors via shared memory.\n",
      " #p opt freq b3lyp/6-311+g** em=gd3bj\n",
      "\n",
      "state: {'SCF Done': True, 'Normal termination': True}\n",
      "energy: -478.256384741 hartree / particle\n",
      "sum energy: {'zero-point': None, 'thermal energy': None, 'thermal enthalpy': None, 'thermal gibbs free energy': None, 'zero-point correction': None, 'thermal energy correction': None, 'thermal enthalpy correction': None, 'thermal gibbs free energy correction': None}\n",
      "gradients number: 0\n",
      "frequencies number: 0\n",
      "imaginary frequencies number: 0\n",
      "partial charges number: 14\n",
      "spin densities number: 0\n",
      "alpha FMO orbits number: 228\n",
      "alpha energy: {'gap': <Quantity(0.14583, 'hartree / particle')>, 'homo': <Quantity(-0.196, 'hartree / particle')>, 'lumo': <Quantity(-0.05017, 'hartree / particle')>}\n",
      "beta FMO orbits number: 0\n",
      "beta energy: {'gap': None, 'homo': None, 'lumo': None}\n",
      "nbo analysis number: 14\n",
      "hessian number: 0\n",
      "\n"
     ]
    },
    {
     "data": {
      "image/png": "[encoded data removed]",
      "text/plain": [
       "<rdkit.Chem.rdchem.Mol at 0x1e24c20d860>"
      ]
     },
     "execution_count": 36,
     "metadata": {},
     "output_type": "execute_result"
    }
   ],
   "source": [
    "test_file = AutoParser(\"../tests/test_files/g16log/dsgdb9nsd_132072.log\")\n",
    "test_file.summary()\n",
    "test_file[-1].summary()\n",
    "test_file[-1].rdmol"
   ]
  },
  {
   "cell_type": "markdown",
   "metadata": {},
   "source": [
    "## [dsgdb9nsd_133826.log](../tests/test_files/dsgdb9nsd_133826.log)"
   ]
  },
  {
   "cell_type": "code",
   "execution_count": 37,
   "metadata": {},
   "outputs": [
    {
     "name": "stdout",
     "output_type": "stream",
     "text": [
      "file path: d:\\Product\\Useful-Code-Snippet\\MolOP\\tests\\test_files\\g16log\\dsgdb9nsd_133826.log\n",
      "frame num: 10\n",
      "first SMILES: [H]C#C[C@]1([H])N2C#[N+][C-]([H])[C@@]21C([H])([H])[H]\n",
      "last SMILES: [H]C#C[C@]1([H])N2C#[N+][C-]([H])[C@@]21C([H])([H])[H]\n",
      "\n",
      "type: G16 LOG\n",
      "file path: d:\\Product\\Useful-Code-Snippet\\MolOP\\tests\\test_files\\g16log\\dsgdb9nsd_133826.log\n",
      "frameID: 9\n",
      "SMILES: [H]C#C[C@]1([H])N2C#[N+][C-]([H])[C@@]21C([H])([H])[H]\n",
      "atom number: 15\n",
      "total charge: 0\n",
      "version: Gaussian 16:  ES64L-G16RevC.01  3-Jul-2019\n",
      "parameter comment: \n",
      " %chk=dsgdb9nsd_133826.chk\n",
      " %mem=60GB\n",
      " %nprocshared=32\n",
      " Will use up to   32 processors via shared memory.\n",
      " #p opt freq b3lyp/6-311+g** em=gd3bj\n",
      "\n",
      "state: {'SCF Done': True, 'Normal termination': True}\n",
      "energy: -379.743730194 hartree / particle\n",
      "sum energy: {'zero-point': None, 'thermal energy': None, 'thermal enthalpy': None, 'thermal gibbs free energy': None, 'zero-point correction': None, 'thermal energy correction': None, 'thermal enthalpy correction': None, 'thermal gibbs free energy correction': None}\n",
      "gradients number: 0\n",
      "frequencies number: 0\n",
      "imaginary frequencies number: 0\n",
      "partial charges number: 15\n",
      "spin densities number: 0\n",
      "alpha FMO orbits number: 234\n",
      "alpha energy: {'gap': <Quantity(0.12205, 'hartree / particle')>, 'homo': <Quantity(-0.22785, 'hartree / particle')>, 'lumo': <Quantity(-0.1058, 'hartree / particle')>}\n",
      "beta FMO orbits number: 0\n",
      "beta energy: {'gap': None, 'homo': None, 'lumo': None}\n",
      "nbo analysis number: 15\n",
      "hessian number: 0\n",
      "\n"
     ]
    },
    {
     "data": {
      "image/png": "[encoded data removed]",
      "text/plain": [
       "<rdkit.Chem.rdchem.Mol at 0x1e24da49f40>"
      ]
     },
     "execution_count": 37,
     "metadata": {},
     "output_type": "execute_result"
    }
   ],
   "source": [
    "test_file = AutoParser(\"../tests/test_files/g16log/dsgdb9nsd_133826.log\")\n",
    "test_file.summary()\n",
    "test_file[-1].summary()\n",
    "test_file[-1].rdmol"
   ]
  },
  {
   "cell_type": "markdown",
   "metadata": {},
   "source": [
    "## [dsgdb9nsd_133858.log](../tests/test_files/dsgdb9nsd_133858.log)"
   ]
  },
  {
   "cell_type": "code",
   "execution_count": 38,
   "metadata": {},
   "outputs": [
    {
     "name": "stdout",
     "output_type": "stream",
     "text": [
      "file path: d:\\Product\\Useful-Code-Snippet\\MolOP\\tests\\test_files\\g16log\\dsgdb9nsd_133858.log\n",
      "frame num: 10\n",
      "first SMILES: [H]C1=C2C([H])=[N+]3[C@]2([H])[C-](C1([H])[H])[C@]3([H])C([H])([H])[H]\n",
      "last SMILES: [H]C1=C2C([H])=[N+]3[C@]2([H])[C-](C1([H])[H])[C@]3([H])C([H])([H])[H]\n",
      "\n",
      "type: G16 LOG\n",
      "file path: d:\\Product\\Useful-Code-Snippet\\MolOP\\tests\\test_files\\g16log\\dsgdb9nsd_133858.log\n",
      "frameID: 9\n",
      "SMILES: [H]C1=C2C([H])=[N+]3[C@]2([H])[C-](C1([H])[H])[C@]3([H])C([H])([H])[H]\n",
      "atom number: 18\n",
      "total charge: 0\n",
      "version: Gaussian 16:  ES64L-G16RevC.01  3-Jul-2019\n",
      "parameter comment: \n",
      " %chk=dsgdb9nsd_133858.chk\n",
      " %mem=60GB\n",
      " %nprocshared=32\n",
      " Will use up to   32 processors via shared memory.\n",
      " #p opt freq b3lyp/6-311+g** em=gd3bj\n",
      "\n",
      "state: {'SCF Done': True, 'Normal termination': True}\n",
      "energy: -364.835804517 hartree / particle\n",
      "sum energy: {'zero-point': None, 'thermal energy': None, 'thermal enthalpy': None, 'thermal gibbs free energy': None, 'zero-point correction': None, 'thermal energy correction': None, 'thermal enthalpy correction': None, 'thermal gibbs free energy correction': None}\n",
      "gradients number: 0\n",
      "frequencies number: 0\n",
      "imaginary frequencies number: 0\n",
      "partial charges number: 18\n",
      "spin densities number: 0\n",
      "alpha FMO orbits number: 252\n",
      "alpha energy: {'gap': <Quantity(0.06232, 'hartree / particle')>, 'homo': <Quantity(-0.18508, 'hartree / particle')>, 'lumo': <Quantity(-0.12276, 'hartree / particle')>}\n",
      "beta FMO orbits number: 0\n",
      "beta energy: {'gap': None, 'homo': None, 'lumo': None}\n",
      "nbo analysis number: 18\n",
      "hessian number: 0\n",
      "\n"
     ]
    },
    {
     "data": {
      "image/png": "[encoded data removed]",
      "text/plain": [
       "<rdkit.Chem.rdchem.Mol at 0x1e22c678900>"
      ]
     },
     "execution_count": 38,
     "metadata": {},
     "output_type": "execute_result"
    }
   ],
   "source": [
    "test_file = AutoParser(\"../tests/test_files/g16log/dsgdb9nsd_133858.log\")\n",
    "test_file.summary()\n",
    "test_file[-1].summary()\n",
    "test_file[-1].rdmol"
   ]
  },
  {
   "cell_type": "markdown",
   "metadata": {},
   "source": [
    "## [S_Ph_Ni_TS.gjf](../tests/test_files/S_Ph_Ni_TS.gjf)"
   ]
  },
  {
   "cell_type": "code",
   "execution_count": 39,
   "metadata": {},
   "outputs": [
    {
     "name": "stdout",
     "output_type": "stream",
     "text": [
      "file path: d:\\Product\\Useful-Code-Snippet\\MolOP\\tests\\test_files\\g16gjf\\S_Ph_Ni_TS.gjf\n",
      "frame num: 1\n",
      "first SMILES: [H]c1c(OC([H])([H])[H])noc1C(=O)OC([H])([H])C([H])([H])[H]\n",
      "last SMILES: [H]c1c(OC([H])([H])[H])noc1C(=O)OC([H])([H])C([H])([H])[H]\n",
      "\n",
      "type: G16 GJF\n",
      "file path: d:\\Product\\Useful-Code-Snippet\\MolOP\\tests\\test_files\\g16gjf\\S_Ph_Ni_TS.gjf\n",
      "frameID: 0\n",
      "SMILES: [H]c1c(OC([H])([H])[H])noc1C(=O)OC([H])([H])C([H])([H])[H]\n",
      "atom number: 21\n",
      "total charge: 0\n",
      "\n"
     ]
    },
    {
     "data": {
      "image/png": "[encoded data removed]",
      "text/plain": [
       "<rdkit.Chem.rdchem.Mol at 0x1e24bfb7d10>"
      ]
     },
     "execution_count": 39,
     "metadata": {},
     "output_type": "execute_result"
    }
   ],
   "source": [
    "test_file = AutoParser(\"../tests/test_files/g16gjf/S_Ph_Ni_TS.gjf\")\n",
    "test_file.summary()\n",
    "test_file[-1].summary()\n",
    "test_file[-1].rdmol"
   ]
  },
  {
   "cell_type": "markdown",
   "metadata": {},
   "source": [
    "## [S_Ph_Ni_TS.log](../tests/test_files/S_Ph_Ni_TS.log)"
   ]
  },
  {
   "cell_type": "code",
   "execution_count": 40,
   "metadata": {},
   "outputs": [
    {
     "name": "stdout",
     "output_type": "stream",
     "text": [
      "file path: d:\\Product\\Useful-Code-Snippet\\MolOP\\tests\\test_files\\g16log\\S_Ph_Ni_TS.log\n",
      "frame num: 13\n",
      "first SMILES: [H]c1c([H])c([H])c(C([H])([H])S[Ni@OH26](Br)(Br)c2c([H])c([H])c([H])c([H])c2[H])c([H])c1[H].[H]c1nc([H])n([H])c1[H].[H]c1nc([H])n([H])c1[H]\n",
      "last SMILES: [H]c1c([H])c([H])c(C([H])([H])S[Ni@OH26](Br)(Br)c2c([H])c([H])c([H])c([H])c2[H])c([H])c1[H].[H]c1nc([H])n([H])c1[H].[H]c1nc([H])n([H])c1[H]\n",
      "\n",
      "type: G16 LOG\n",
      "file path: d:\\Product\\Useful-Code-Snippet\\MolOP\\tests\\test_files\\g16log\\S_Ph_Ni_TS.log\n",
      "frameID: 12\n",
      "SMILES: [H]c1c([H])c([H])c(C([H])([H])S[Ni@OH26](Br)(Br)c2c([H])c([H])c([H])c([H])c2[H])c([H])c1[H].[H]c1nc([H])n([H])c1[H].[H]c1nc([H])n([H])c1[H]\n",
      "atom number: 47\n",
      "total charge: 0\n",
      "version: Gaussian 16:  ES64L-G16RevC.01  3-Jul-2019\n",
      "parameter comment: \n",
      " %nprocshared=32\n",
      " Will use up to   32 processors via shared memory.\n",
      " %mem=100GB\n",
      " # opt=(calcfc,ts,maxcycle=150,noeigen) freq ub3lyp/genecp empiricaldis\n",
      " persion=gd3bj\n",
      "\n",
      "state: {'SCF Done': True, 'Normal termination': True, 'RMS Displacement': True, 'Maximum Displacement': True, 'RMS Force': True, 'Maximum Force': True}\n",
      "energy: -1549.05355023 hartree / particle\n",
      "sum energy: {'zero-point': <Quantity(-1548.69199, 'hartree / particle')>, 'thermal energy': <Quantity(-1548.66487, 'hartree / particle')>, 'thermal enthalpy': <Quantity(-1548.66393, 'hartree / particle')>, 'thermal gibbs free energy': <Quantity(-1548.75243, 'hartree / particle')>, 'zero-point correction': <Quantity(0.361561, 'hartree / particle')>, 'thermal energy correction': <Quantity(0.38868, 'hartree / particle')>, 'thermal enthalpy correction': <Quantity(0.389624, 'hartree / particle')>, 'thermal gibbs free energy correction': <Quantity(0.301123, 'hartree / particle')>}\n",
      "gradients number: 47\n",
      "frequencies number: 132\n",
      "imaginary frequencies number: 1\n",
      "partial charges number: 47\n",
      "spin densities number: 47\n",
      "alpha FMO orbits number: 418\n",
      "alpha energy: {'gap': <Quantity(0.07788, 'hartree / particle')>, 'homo': <Quantity(-0.18821, 'hartree / particle')>, 'lumo': <Quantity(-0.11033, 'hartree / particle')>}\n",
      "beta FMO orbits number: 418\n",
      "beta energy: {'gap': <Quantity(0.07788, 'hartree / particle')>, 'homo': <Quantity(-0.18821, 'hartree / particle')>, 'lumo': <Quantity(-0.11033, 'hartree / particle')>}\n",
      "nbo analysis number: 0\n",
      "hessian number: 10011\n",
      "\n"
     ]
    },
    {
     "data": {
      "image/png": "[encoded data removed]",
      "text/plain": [
       "<rdkit.Chem.rdchem.Mol at 0x1e24c2c9270>"
      ]
     },
     "execution_count": 40,
     "metadata": {},
     "output_type": "execute_result"
    }
   ],
   "source": [
    "test_file = AutoParser(\"../tests/test_files/g16log/S_Ph_Ni_TS.log\")\n",
    "test_file.summary()\n",
    "test_file[-1].summary()\n",
    "test_file[-1].rdmol"
   ]
  },
  {
   "cell_type": "markdown",
   "metadata": {},
   "source": [
    "## [test.gjf](../tests/test_files/test.gjf)"
   ]
  },
  {
   "cell_type": "code",
   "execution_count": 41,
   "metadata": {},
   "outputs": [
    {
     "name": "stdout",
     "output_type": "stream",
     "text": [
      "file path: d:\\Product\\Useful-Code-Snippet\\MolOP\\tests\\test_files\\g16gjf\\test.gjf\n",
      "frame num: 1\n",
      "first SMILES: [H]C([H])([H])C(C1=NC([H])([H])C([H])([H])O1)(C1=NC([H])([H])C([H])([H])O1)C([H])([H])[H].[H]C([H])([H])[C](N(C([H])([H])[H])C([H])([H])[H])C([H])([H])[H].[H]c1c([H])c([H])c2c([H])c([Cu]Cl)c([H])c([H])c2c1[H]\n",
      "last SMILES: [H]C([H])([H])C(C1=NC([H])([H])C([H])([H])O1)(C1=NC([H])([H])C([H])([H])O1)C([H])([H])[H].[H]C([H])([H])[C](N(C([H])([H])[H])C([H])([H])[H])C([H])([H])[H].[H]c1c([H])c([H])c2c([H])c([Cu]Cl)c([H])c([H])c2c1[H]\n",
      "\n",
      "type: G16 GJF\n",
      "file path: d:\\Product\\Useful-Code-Snippet\\MolOP\\tests\\test_files\\g16gjf\\test.gjf\n",
      "frameID: 0\n",
      "SMILES: [H]C([H])([H])C(C1=NC([H])([H])C([H])([H])O1)(C1=NC([H])([H])C([H])([H])O1)C([H])([H])[H].[H]C([H])([H])[C](N(C([H])([H])[H])C([H])([H])[H])C([H])([H])[H].[H]c1c([H])c([H])c2c([H])c([Cu]Cl)c([H])c([H])c2c1[H]\n",
      "atom number: 64\n",
      "total charge: 0\n",
      "\n"
     ]
    },
    {
     "data": {
      "image/png": "[encoded data removed]",
      "text/plain": [
       "<rdkit.Chem.rdchem.Mol at 0x1e24c2c9430>"
      ]
     },
     "execution_count": 41,
     "metadata": {},
     "output_type": "execute_result"
    }
   ],
   "source": [
    "test_file = AutoParser(\n",
    "    \"../tests/test_files/g16gjf/test.gjf\",\n",
    "    charge=0,\n",
    "    multiplicity=3,\n",
    ")\n",
    "test_file.summary()\n",
    "test_file[-1].summary()\n",
    "test_file[-1].rdmol"
   ]
  },
  {
   "cell_type": "markdown",
   "metadata": {},
   "source": [
    "## [test.xyz](../tests/test_files/test.xyz)"
   ]
  },
  {
   "cell_type": "code",
   "execution_count": 42,
   "metadata": {},
   "outputs": [
    {
     "name": "stdout",
     "output_type": "stream",
     "text": [
      "file path: d:\\Product\\Useful-Code-Snippet\\MolOP\\tests\\test_files\\xyz\\test.xyz\n",
      "frame num: 1\n",
      "first SMILES: [H]C([H])([H])C(C1=NC([H])([H])C([H])([H])O1)(C1=NC([H])([H])C([H])([H])O1)C([H])([H])[H].[H]C([H])([H])[C](N(C([H])([H])[H])C([H])([H])[H])C([H])([H])[H].[H]c1c([H])c([H])c2c([H])c([Cu]Cl)c([H])c([H])c2c1[H]\n",
      "last SMILES: [H]C([H])([H])C(C1=NC([H])([H])C([H])([H])O1)(C1=NC([H])([H])C([H])([H])O1)C([H])([H])[H].[H]C([H])([H])[C](N(C([H])([H])[H])C([H])([H])[H])C([H])([H])[H].[H]c1c([H])c([H])c2c([H])c([Cu]Cl)c([H])c([H])c2c1[H]\n",
      "\n",
      "type: XYZ\n",
      "file path: d:\\Product\\Useful-Code-Snippet\\MolOP\\tests\\test_files\\xyz\\test.xyz\n",
      "frameID: 0\n",
      "SMILES: [H]C([H])([H])C(C1=NC([H])([H])C([H])([H])O1)(C1=NC([H])([H])C([H])([H])O1)C([H])([H])[H].[H]C([H])([H])[C](N(C([H])([H])[H])C([H])([H])[H])C([H])([H])[H].[H]c1c([H])c([H])c2c([H])c([Cu]Cl)c([H])c([H])c2c1[H]\n",
      "atom number: 64\n",
      "total charge: 0\n",
      "\n"
     ]
    },
    {
     "data": {
      "image/png": "[encoded data removed]",
      "text/plain": [
       "<rdkit.Chem.rdchem.Mol at 0x1e24c2c94a0>"
      ]
     },
     "execution_count": 42,
     "metadata": {},
     "output_type": "execute_result"
    }
   ],
   "source": [
    "test_file = AutoParser(\n",
    "    \"../tests/test_files/xyz/test.xyz\",\n",
    "    charge=0,\n",
    "    multiplicity=3,\n",
    ")\n",
    "test_file.summary()\n",
    "test_file[-1].summary()\n",
    "test_file[-1].rdmol"
   ]
  },
  {
   "cell_type": "markdown",
   "metadata": {},
   "source": [
    "## [dsgdb9nsd_009986.log](../tests/test_files/dsgdb9nsd_009986.log)"
   ]
  },
  {
   "cell_type": "code",
   "execution_count": 43,
   "metadata": {},
   "outputs": [
    {
     "name": "stdout",
     "output_type": "stream",
     "text": [
      "file path: d:\\Product\\Useful-Code-Snippet\\MolOP\\tests\\test_files\\g16log\\dsgdb9nsd_009986.log\n",
      "frame num: 12\n",
      "first SMILES: [H]/C(N([H])[H])=[N+](/[H])[C-](C#N)C#N\n",
      "last SMILES: [H]/C(N([H])[H])=[N+](/[H])[C-](C#N)C#N\n",
      "\n",
      "type: G16 LOG\n",
      "file path: d:\\Product\\Useful-Code-Snippet\\MolOP\\tests\\test_files\\g16log\\dsgdb9nsd_009986.log\n",
      "frameID: 11\n",
      "SMILES: [H]/C(N([H])[H])=[N+](/[H])[C-](C#N)C#N\n",
      "atom number: 12\n",
      "total charge: 0\n",
      "version: Gaussian 16:  ES64L-G16RevC.01  3-Jul-2019\n",
      "parameter comment: \n",
      " %chk=dsgdb9nsd_009986.chk\n",
      " %mem=60GB\n",
      " %nprocshared=32\n",
      " Will use up to   32 processors via shared memory.\n",
      " #p opt freq b3lyp/6-311+g** em=gd3bj\n",
      "\n",
      "state: {'SCF Done': True, 'Normal termination': True}\n",
      "energy: -373.883899736 hartree / particle\n",
      "sum energy: {'zero-point': None, 'thermal energy': None, 'thermal enthalpy': None, 'thermal gibbs free energy': None, 'zero-point correction': None, 'thermal energy correction': None, 'thermal enthalpy correction': None, 'thermal gibbs free energy correction': None}\n",
      "gradients number: 0\n",
      "frequencies number: 0\n",
      "imaginary frequencies number: 0\n",
      "partial charges number: 12\n",
      "spin densities number: 0\n",
      "alpha FMO orbits number: 200\n",
      "alpha energy: {'gap': <Quantity(0.13124, 'hartree / particle')>, 'homo': <Quantity(-0.20306, 'hartree / particle')>, 'lumo': <Quantity(-0.07182, 'hartree / particle')>}\n",
      "beta FMO orbits number: 0\n",
      "beta energy: {'gap': None, 'homo': None, 'lumo': None}\n",
      "nbo analysis number: 12\n",
      "hessian number: 0\n",
      "\n"
     ]
    },
    {
     "data": {
      "image/png": "[encoded data removed]",
      "text/plain": [
       "<rdkit.Chem.rdchem.Mol at 0x1e24d8f8270>"
      ]
     },
     "execution_count": 43,
     "metadata": {},
     "output_type": "execute_result"
    }
   ],
   "source": [
    "test_file = AutoParser(\"../tests/test_files/g16log/dsgdb9nsd_009986.log\")\n",
    "test_file.summary()\n",
    "test_file[-1].summary()\n",
    "test_file[-1].rdmol"
   ]
  },
  {
   "cell_type": "markdown",
   "metadata": {},
   "source": [
    "## [dsgdb9nsd_000001-3-.log](../tests/test_files/dsgdb9nsd_000001-3-.log)"
   ]
  },
  {
   "cell_type": "code",
   "execution_count": 44,
   "metadata": {},
   "outputs": [
    {
     "name": "stdout",
     "output_type": "stream",
     "text": [
      "file path: d:\\Product\\Useful-Code-Snippet\\MolOP\\tests\\test_files\\g16log\\dsgdb9nsd_000001-3-.log\n",
      "frame num: 7\n",
      "first SMILES: [H][C-]([H])[H]\n",
      "last SMILES: [H][C-]([H])[H]\n",
      "\n",
      "type: G16 LOG\n",
      "file path: d:\\Product\\Useful-Code-Snippet\\MolOP\\tests\\test_files\\g16log\\dsgdb9nsd_000001-3-.log\n",
      "frameID: 6\n",
      "SMILES: [H][C-]([H])[H]\n",
      "atom number: 4\n",
      "total charge: -1\n",
      "version: Gaussian 16:  ES64L-G16RevC.01  3-Jul-2019\n",
      "parameter comment: \n",
      " %chk=dsgdb9nsd_000001-3.chk\n",
      " %mem=60GB\n",
      " %nprocshared=32\n",
      " Will use up to   32 processors via shared memory.\n",
      " #p opt freq b3lyp/6-311+g** em=gd3bj\n",
      "\n",
      "state: {'SCF Done': True, 'Normal termination': True}\n",
      "energy: -39.8575021958 hartree / particle\n",
      "sum energy: {'zero-point': None, 'thermal energy': None, 'thermal enthalpy': None, 'thermal gibbs free energy': None, 'zero-point correction': None, 'thermal energy correction': None, 'thermal enthalpy correction': None, 'thermal gibbs free energy correction': None}\n",
      "gradients number: 0\n",
      "frequencies number: 0\n",
      "imaginary frequencies number: 0\n",
      "partial charges number: 4\n",
      "spin densities number: 0\n",
      "alpha FMO orbits number: 40\n",
      "alpha energy: {'gap': <Quantity(0.11231, 'hartree / particle')>, 'homo': <Quantity(0.06578, 'hartree / particle')>, 'lumo': <Quantity(0.17809, 'hartree / particle')>}\n",
      "beta FMO orbits number: 0\n",
      "beta energy: {'gap': None, 'homo': None, 'lumo': None}\n",
      "nbo analysis number: 4\n",
      "hessian number: 0\n",
      "\n"
     ]
    },
    {
     "data": {
      "image/png": "[encoded data removed]",
      "text/plain": [
       "<rdkit.Chem.rdchem.Mol at 0x1e24c15dea0>"
      ]
     },
     "execution_count": 44,
     "metadata": {},
     "output_type": "execute_result"
    }
   ],
   "source": [
    "test_file = AutoParser(\"../tests/test_files/g16log/dsgdb9nsd_000001-3-.log\")\n",
    "test_file.summary()\n",
    "test_file[-1].summary()\n",
    "test_file[-1].rdmol"
   ]
  },
  {
   "cell_type": "markdown",
   "metadata": {},
   "source": [
    "## [xtb_6_3_2_opt.out](../tests/test_files/xtb_6_3_2_opt.out)\n",
    "Out file is the printout on screen of the xtb calculation. \n",
    "you can get it by:\n",
    "\n",
    "```bash\n",
    "xtb ***.xyz > ***.out\n",
    "```"
   ]
  },
  {
   "cell_type": "code",
   "execution_count": 45,
   "metadata": {},
   "outputs": [
    {
     "name": "stdout",
     "output_type": "stream",
     "text": [
      "file path: d:\\Product\\Useful-Code-Snippet\\MolOP\\tests\\test_files\\xtbout\\xtb_6_3_2_opt.out\n",
      "frame num: 1\n",
      "first SMILES: [H]C([H])([H])Cl\n",
      "last SMILES: [H]C([H])([H])Cl\n",
      "\n",
      "type: XTB OUT\n",
      "file path: d:\\Product\\Useful-Code-Snippet\\MolOP\\tests\\test_files\\xtbout\\xtb_6_3_2_opt.out\n",
      "frameID: 0\n",
      "SMILES: [H]C([H])([H])Cl\n",
      "atom number: 5\n",
      "total charge: 0\n",
      "version: version 6.3.2 (954f15c) compiled by 'conda@5a45a0871d67' on 2020-07-02\n",
      "parameter comment: \n",
      "--chrg 0 --opt --gbsa Water\n",
      "\n",
      "state: {'geometric_optimization': True}\n",
      "energy: -8.212671558235 hartree / particle\n",
      "sum energy: {}\n",
      "gradients number: 0\n",
      "frequencies number: 0\n",
      "imaginary frequencies number: 0\n",
      "partial charges number: 5\n",
      "spin densities number: 0\n",
      "alpha FMO orbits number: 0\n",
      "alpha energy: {'gap': <Quantity(7.0959, 'electron_volt / particle')>, 'homo': <Quantity(-11.317, 'electron_volt / particle')>, 'lumo': <Quantity(-4.2211, 'electron_volt / particle')>}\n",
      "beta FMO orbits number: 0\n",
      "beta energy: {'gap': None, 'homo': None, 'lumo': None}\n",
      "nbo analysis number: 0\n",
      "hessian number: 0\n",
      "\n"
     ]
    },
    {
     "data": {
      "image/png": "[encoded data removed]",
      "text/plain": [
       "<rdkit.Chem.rdchem.Mol at 0x1e24c107d10>"
      ]
     },
     "execution_count": 45,
     "metadata": {},
     "output_type": "execute_result"
    }
   ],
   "source": [
    "test_file = AutoParser(\"../tests/test_files/xtbout/xtb_6_3_2_opt.out\")\n",
    "test_file.summary()\n",
    "test_file[-1].summary()\n",
    "test_file[-1].rdmol"
   ]
  }
 ],
 "metadata": {
  "kernelspec": {
   "display_name": "molop",
   "language": "python",
   "name": "python3"
  },
  "language_info": {
   "codemirror_mode": {
    "name": "ipython",
    "version": 3
   },
   "file_extension": ".py",
   "mimetype": "text/x-python",
   "name": "python",
   "nbconvert_exporter": "python",
   "pygments_lexer": "ipython3",
   "version": "3.8.18"
  }
 },
 "nbformat": 4,
 "nbformat_minor": 2
}
